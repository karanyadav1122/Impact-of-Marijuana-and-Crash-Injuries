{
 "cells": [
  {
   "cell_type": "code",
   "execution_count": 1,
   "id": "32e3685a",
   "metadata": {},
   "outputs": [],
   "source": [
    "import numpy as np\n",
    "import pandas as pd"
   ]
  },
  {
   "cell_type": "code",
   "execution_count": 2,
   "id": "7a57d4f2",
   "metadata": {},
   "outputs": [],
   "source": [
    "texas = pd.read_csv('C:/Users/karan/texas_final_merged.csv')"
   ]
  },
  {
   "cell_type": "code",
   "execution_count": 3,
   "id": "1382f3ae",
   "metadata": {},
   "outputs": [
    {
     "data": {
      "text/plain": [
       "Index(['COUNTY', 'Year', 'State', 'FEMALE', 'MALE', 'UNKNOWN_GENDER',\n",
       "       'NO_INTERSECTION_PERCENTAGE', 'YES_INTERSECTION_PERCENTAGE',\n",
       "       'BLOWING SAND/SNOW', 'CLEAR', 'CLOUDY', 'FOG', 'OTHER_WEATHER', 'RAIN',\n",
       "       'SEVERE CROSSWINDS', 'SLEET/HAIL', 'SNOW_x', 'UNKNOWN_WEATHER',\n",
       "       'DARK-LIGHTED', 'DARK-NOT LIGHTED', 'DARK-UNKNOWN LIGHTING', 'DAWN',\n",
       "       'DAYLIGHT', 'DUSK', 'OTHER_LIGHTING', 'UNKNOWN_LIGHTING', 'DRY', 'ICE',\n",
       "       'OTHER_SURFACE', 'SAND,MUD,DIRT', 'SLUSH', 'SNOW_y', 'STANDING WATER',\n",
       "       'UNKNOWN_SURFACE', 'WET', 'IMPAIRMENT', 'INATTENTION',\n",
       "       'KNOWN_HUMAN_FACTOR', 'LANE_CHANGE', 'NO_FAULT', 'SPEEDING',\n",
       "       'TECH_PARK', 'TURNING', 'UNKNOWN_HUMAN_FACTOR', 'UNSAFE_BACKING',\n",
       "       'VIOLATION', 'TAILGATING', 'CITY STREET', 'COUNTY ROAD',\n",
       "       'FARM TO MARKET', 'INTERSTATE', 'OTHER ROADS', 'TOLL BRIDGES',\n",
       "       'TOLLWAY', 'US & STATE HIGHWAY', 'LANE_COUNT', 'LANE_SUM', 'ALCOHOL',\n",
       "       'ALCOHOL, DRUG', 'DRUG', 'MARIJUANA', 'MEDICINAL', 'NO INTOXICATION',\n",
       "       'INJURY', 'NO_INJURY', 'INJURY_COUNT', 'INJURY_COUNT_SUM', 'AGE 1-21',\n",
       "       'AGE 22-30', 'AGE 31-65', 'AGE 66 and above', 'Unknown Age',\n",
       "       'SUM_MEDIANWIDTH', 'MEDIAN_MEDIANWIDTH', 'SUM_ROADWIDTH',\n",
       "       'MEDIAN_ROADWIDTH'],\n",
       "      dtype='object')"
      ]
     },
     "execution_count": 3,
     "metadata": {},
     "output_type": "execute_result"
    }
   ],
   "source": [
    "texas['']"
   ]
  },
  {
   "cell_type": "code",
   "execution_count": 4,
   "id": "d40e6f7e",
   "metadata": {},
   "outputs": [
    {
     "name": "stderr",
     "output_type": "stream",
     "text": [
      "C:\\Users\\karan\\AppData\\Local\\Temp\\ipykernel_17608\\3015559863.py:1: DtypeWarning: Columns (2) have mixed types. Specify dtype option on import or set low_memory=False.\n",
      "  colorado = pd.read_csv('C:/Users/karan/colorado_final_merged.csv')\n"
     ]
    }
   ],
   "source": [
    "colorado = pd.read_csv('C:/Users/karan/colorado_final_merged.csv')"
   ]
  },
  {
   "cell_type": "code",
   "execution_count": 5,
   "id": "c14839ac",
   "metadata": {},
   "outputs": [
    {
     "data": {
      "text/plain": [
       "Index(['ROAD_CLASS', 'DATE', 'TIME', 'INTERSECTION', 'CONTOUR', 'SURFACE',\n",
       "       'LIGHTING', 'WEATHER', 'HUMAN_FACTOR', 'INTOXICATION', 'AGE', 'GENDER',\n",
       "       'COUNTY_FIPS', 'COUNTY', 'LATITUDE', 'LONGITUDE', 'INJURY_COUNT',\n",
       "       'INJURY_OUTCOME', 'Crash_ID', 'BUFF_DIST', 'ORIG_FID', 'Shape_Length',\n",
       "       'Shape_Area', 'WEATHER_DESC', 'BLOWING SAND/SNOW', 'CLEAR', 'CLOUDY',\n",
       "       'FOG', 'OTHER_WEATHER', 'RAIN', 'SEVERE CROSSWINDS', 'SLEET/HAIL',\n",
       "       'SNOW_WEATHER', 'LIGHTING_DESC', 'DARK-LIGHTED', 'DARK-NOT LIGHTED',\n",
       "       'DAWN', 'DAYLIGHT', 'DUSK', 'SURF_DESC', 'DIRT', 'DRY', 'ICE', 'SLUSH',\n",
       "       'SNOW_SURF', 'UNKNOWN_SURF', 'WET', 'INTOXICATION_DESC', 'ALCOHOL',\n",
       "       'ALCOHOL, DRUG', 'DRUG', 'MEDICINAL', 'MARIJUANA', 'NO INTOXICATION',\n",
       "       'INTERSECTION_DESC', 'NO_INTERSECTION', 'YES_INTERSECTION',\n",
       "       'ROAD_TYPE_DESC', 'CITY STREET', 'COUNTY ROAD', 'INTERSTATE',\n",
       "       'OTHER ROADS', 'US & STATE HIGHWAY', 'HUMAN_FACTOR_DESC', 'IMPAIRMENT',\n",
       "       'INATTENTION', 'KNOWN_HUMAN_FACTOR', 'LANE_CHNG', 'NO_FAULT',\n",
       "       'SPEEDING', 'TAILGATING', 'TECH_PARK', 'TURNING',\n",
       "       'UNKNOWN_HUMAN_FACTOR', 'UNSAFE_BACKING', 'VIOLATION', 'AGE_BAND',\n",
       "       'AGE 1-21', 'AGE 22-30', 'AGE 31-65', 'AGE 66 and above', 'Unknown Age',\n",
       "       'GENDER_DESC', 'FEMALE', 'MALE', 'UNKNOWN_GENDER', 'INJURY_COUNT_SUM',\n",
       "       'INJURY_DESC', 'NO INJURY_OUTCOME', 'YES INJURY_OUTCOME', 'YEAR_CAT',\n",
       "       'YEAR_2019', 'YEAR_2020', 'YEAR_2021'],\n",
       "      dtype='object')"
      ]
     },
     "execution_count": 5,
     "metadata": {},
     "output_type": "execute_result"
    }
   ],
   "source": [
    "colorado.columns"
   ]
  },
  {
   "cell_type": "code",
   "execution_count": 6,
   "id": "6a2cc376",
   "metadata": {},
   "outputs": [],
   "source": [
    "texas.rename(columns={'Year':'YEAR'},inplace= True)"
   ]
  },
  {
   "cell_type": "code",
   "execution_count": 7,
   "id": "0ac95065",
   "metadata": {},
   "outputs": [],
   "source": [
    "texas['YEAR_CAT'] = np.where(texas['YEAR']==2019,1,np.where(texas['YEAR']==2020,2,np.where(texas['YEAR']==2021,3,np.nan)))"
   ]
  },
  {
   "cell_type": "code",
   "execution_count": 8,
   "id": "f810c7a7",
   "metadata": {},
   "outputs": [],
   "source": [
    "texas = pd.get_dummies(texas,columns=['YEAR'])"
   ]
  },
  {
   "cell_type": "code",
   "execution_count": 9,
   "id": "f5c4a5d3",
   "metadata": {},
   "outputs": [
    {
     "data": {
      "text/plain": [
       "Index(['COUNTY', 'State', 'FEMALE', 'MALE', 'UNKNOWN_GENDER',\n",
       "       'NO_INTERSECTION_PERCENTAGE', 'YES_INTERSECTION_PERCENTAGE',\n",
       "       'BLOWING SAND/SNOW', 'CLEAR', 'CLOUDY', 'FOG', 'OTHER_WEATHER', 'RAIN',\n",
       "       'SEVERE CROSSWINDS', 'SLEET/HAIL', 'SNOW_x', 'UNKNOWN_WEATHER',\n",
       "       'DARK-LIGHTED', 'DARK-NOT LIGHTED', 'DARK-UNKNOWN LIGHTING', 'DAWN',\n",
       "       'DAYLIGHT', 'DUSK', 'OTHER_LIGHTING', 'UNKNOWN_LIGHTING', 'DRY', 'ICE',\n",
       "       'OTHER_SURFACE', 'SAND,MUD,DIRT', 'SLUSH', 'SNOW_y', 'STANDING WATER',\n",
       "       'UNKNOWN_SURFACE', 'WET', 'IMPAIRMENT', 'INATTENTION',\n",
       "       'KNOWN_HUMAN_FACTOR', 'LANE_CHANGE', 'NO_FAULT', 'SPEEDING',\n",
       "       'TECH_PARK', 'TURNING', 'UNKNOWN_HUMAN_FACTOR', 'UNSAFE_BACKING',\n",
       "       'VIOLATION', 'TAILGATING', 'CITY STREET', 'COUNTY ROAD',\n",
       "       'FARM TO MARKET', 'INTERSTATE', 'OTHER ROADS', 'TOLL BRIDGES',\n",
       "       'TOLLWAY', 'US & STATE HIGHWAY', 'LANE_COUNT', 'LANE_SUM', 'ALCOHOL',\n",
       "       'ALCOHOL, DRUG', 'DRUG', 'MARIJUANA', 'MEDICINAL', 'NO INTOXICATION',\n",
       "       'INJURY', 'NO_INJURY', 'INJURY_COUNT', 'INJURY_COUNT_SUM', 'AGE 1-21',\n",
       "       'AGE 22-30', 'AGE 31-65', 'AGE 66 and above', 'Unknown Age',\n",
       "       'SUM_MEDIANWIDTH', 'MEDIAN_MEDIANWIDTH', 'SUM_ROADWIDTH',\n",
       "       'MEDIAN_ROADWIDTH', 'YEAR_CAT', 'YEAR_2019', 'YEAR_2020', 'YEAR_2021'],\n",
       "      dtype='object')"
      ]
     },
     "execution_count": 9,
     "metadata": {},
     "output_type": "execute_result"
    }
   ],
   "source": [
    "texas.columns"
   ]
  },
  {
   "cell_type": "code",
   "execution_count": 14,
   "id": "8b8e2afc",
   "metadata": {},
   "outputs": [],
   "source": [
    "texas.rename(columns={'NO_INTERSECTION_PERCENTAGE':'NO_INTERSECTION','YES_INTERSECTION_PERCENTAGE':'YES_INTERSECTION'},inplace=True)"
   ]
  },
  {
   "cell_type": "code",
   "execution_count": 15,
   "id": "926dd187",
   "metadata": {},
   "outputs": [
    {
     "data": {
      "text/plain": [
       "Index(['COUNTY', 'State', 'FEMALE', 'MALE', 'UNKNOWN_GENDER',\n",
       "       'NO_INTERSECTION', 'YES_INTERSECTION', 'BLOWING SAND/SNOW', 'CLEAR',\n",
       "       'CLOUDY', 'FOG', 'OTHER_WEATHER', 'RAIN', 'SEVERE CROSSWINDS',\n",
       "       'SLEET/HAIL', 'SNOW_x', 'UNKNOWN_WEATHER', 'DARK-LIGHTED',\n",
       "       'DARK-NOT LIGHTED', 'DARK-UNKNOWN LIGHTING', 'DAWN', 'DAYLIGHT', 'DUSK',\n",
       "       'OTHER_LIGHTING', 'UNKNOWN_LIGHTING', 'DRY', 'ICE', 'OTHER_SURFACE',\n",
       "       'SAND,MUD,DIRT', 'SLUSH', 'SNOW_y', 'STANDING WATER', 'UNKNOWN_SURFACE',\n",
       "       'WET', 'IMPAIRMENT', 'INATTENTION', 'KNOWN_HUMAN_FACTOR', 'LANE_CHANGE',\n",
       "       'NO_FAULT', 'SPEEDING', 'TECH_PARK', 'TURNING', 'UNKNOWN_HUMAN_FACTOR',\n",
       "       'UNSAFE_BACKING', 'VIOLATION', 'TAILGATING', 'CITY STREET',\n",
       "       'COUNTY ROAD', 'FARM TO MARKET', 'INTERSTATE', 'OTHER ROADS',\n",
       "       'TOLL BRIDGES', 'TOLLWAY', 'US & STATE HIGHWAY', 'LANE_COUNT',\n",
       "       'LANE_SUM', 'ALCOHOL', 'ALCOHOL, DRUG', 'DRUG', 'MARIJUANA',\n",
       "       'MEDICINAL', 'NO INTOXICATION', 'INJURY', 'NO_INJURY', 'INJURY_COUNT',\n",
       "       'INJURY_COUNT_SUM', 'AGE 1-21', 'AGE 22-30', 'AGE 31-65',\n",
       "       'AGE 66 and above', 'Unknown Age', 'SUM_MEDIANWIDTH',\n",
       "       'MEDIAN_MEDIANWIDTH', 'SUM_ROADWIDTH', 'MEDIAN_ROADWIDTH', 'YEAR_CAT',\n",
       "       'YEAR_2019', 'YEAR_2020', 'YEAR_2021'],\n",
       "      dtype='object')"
      ]
     },
     "execution_count": 15,
     "metadata": {},
     "output_type": "execute_result"
    }
   ],
   "source": [
    "texas.columns"
   ]
  },
  {
   "cell_type": "code",
   "execution_count": 21,
   "id": "a6d7247a",
   "metadata": {},
   "outputs": [
    {
     "data": {
      "text/plain": [
       "Index(['ROAD_CLASS', 'DATE', 'TIME', 'INTERSECTION', 'CONTOUR', 'SURFACE',\n",
       "       'LIGHTING', 'WEATHER', 'HUMAN_FACTOR', 'INTOXICATION', 'AGE', 'GENDER',\n",
       "       'COUNTY_FIPS', 'COUNTY', 'LATITUDE', 'LONGITUDE', 'INJURY_COUNT',\n",
       "       'INJURY_OUTCOME', 'Crash_ID', 'BUFF_DIST', 'ORIG_FID', 'Shape_Length',\n",
       "       'Shape_Area', 'WEATHER_DESC', 'BLOWING SAND/SNOW', 'CLEAR', 'CLOUDY',\n",
       "       'FOG', 'OTHER_WEATHER', 'RAIN', 'SEVERE CROSSWINDS', 'SLEET/HAIL',\n",
       "       'SNOW_WEATHER', 'LIGHTING_DESC', 'DARK-LIGHTED', 'DARK-NOT LIGHTED',\n",
       "       'DAWN', 'DAYLIGHT', 'DUSK', 'SURF_DESC', 'DIRT', 'DRY', 'ICE', 'SLUSH',\n",
       "       'SNOW_SURF', 'UNKNOWN_SURF', 'WET', 'INTOXICATION_DESC', 'ALCOHOL',\n",
       "       'ALCOHOL, DRUG', 'DRUG', 'MEDICINAL', 'MARIJUANA', 'NO INTOXICATION',\n",
       "       'INTERSECTION_DESC', 'NO_INTERSECTION', 'YES_INTERSECTION',\n",
       "       'ROAD_TYPE_DESC', 'CITY STREET', 'COUNTY ROAD', 'INTERSTATE',\n",
       "       'OTHER ROADS', 'US & STATE HIGHWAY', 'HUMAN_FACTOR_DESC', 'IMPAIRMENT',\n",
       "       'INATTENTION', 'KNOWN_HUMAN_FACTOR', 'LANE_CHNG', 'NO_FAULT',\n",
       "       'SPEEDING', 'TAILGATING', 'TECH_PARK', 'TURNING',\n",
       "       'UNKNOWN_HUMAN_FACTOR', 'UNSAFE_BACKING', 'VIOLATION', 'AGE_BAND',\n",
       "       'AGE 1-21', 'AGE 22-30', 'AGE 31-65', 'AGE 66 and above', 'Unknown Age',\n",
       "       'GENDER_DESC', 'FEMALE', 'MALE', 'UNKNOWN_GENDER', 'INJURY_COUNT_SUM',\n",
       "       'INJURY_DESC', 'NO INJURY_OUTCOME', 'YES INJURY_OUTCOME', 'YEAR_CAT',\n",
       "       'YEAR_2019', 'YEAR_2020', 'YEAR_2021'],\n",
       "      dtype='object')"
      ]
     },
     "execution_count": 21,
     "metadata": {},
     "output_type": "execute_result"
    }
   ],
   "source": [
    "colorado.columns"
   ]
  },
  {
   "cell_type": "code",
   "execution_count": 27,
   "id": "43af1491",
   "metadata": {},
   "outputs": [],
   "source": [
    "i = colorado.columns"
   ]
  },
  {
   "cell_type": "code",
   "execution_count": 30,
   "id": "96f6fa14",
   "metadata": {},
   "outputs": [
    {
     "data": {
      "text/plain": [
       "32"
      ]
     },
     "execution_count": 30,
     "metadata": {},
     "output_type": "execute_result"
    }
   ],
   "source": [
    "p = i.get_loc('SNOW_WEATHER')\n",
    "p"
   ]
  },
  {
   "cell_type": "code",
   "execution_count": 18,
   "id": "3a8a67d0",
   "metadata": {},
   "outputs": [],
   "source": [
    "texas.rename(columns={'SNOW_x':'SNOW_WEATHER'},inplace= True)"
   ]
  },
  {
   "cell_type": "code",
   "execution_count": 31,
   "id": "c42322af",
   "metadata": {},
   "outputs": [],
   "source": [
    "colorado.insert(33,'UNKNOWN_WEATHER',0)"
   ]
  },
  {
   "cell_type": "code",
   "execution_count": 33,
   "id": "44f04b8c",
   "metadata": {},
   "outputs": [
    {
     "data": {
      "text/plain": [
       "Index(['COUNTY', 'State', 'FEMALE', 'MALE', 'UNKNOWN_GENDER',\n",
       "       'NO_INTERSECTION', 'YES_INTERSECTION', 'BLOWING SAND/SNOW', 'CLEAR',\n",
       "       'CLOUDY', 'FOG', 'OTHER_WEATHER', 'RAIN', 'SEVERE CROSSWINDS',\n",
       "       'SLEET/HAIL', 'SNOW_WEATHER', 'UNKNOWN_WEATHER', 'DARK-LIGHTED',\n",
       "       'DARK-NOT LIGHTED', 'DARK-UNKNOWN LIGHTING', 'DAWN', 'DAYLIGHT', 'DUSK',\n",
       "       'OTHER_LIGHTING', 'UNKNOWN_LIGHTING', 'DRY', 'ICE', 'OTHER_SURFACE',\n",
       "       'SAND,MUD,DIRT', 'SLUSH', 'SNOW_y', 'STANDING WATER', 'UNKNOWN_SURFACE',\n",
       "       'WET', 'IMPAIRMENT', 'INATTENTION', 'KNOWN_HUMAN_FACTOR', 'LANE_CHANGE',\n",
       "       'NO_FAULT', 'SPEEDING', 'TECH_PARK', 'TURNING', 'UNKNOWN_HUMAN_FACTOR',\n",
       "       'UNSAFE_BACKING', 'VIOLATION', 'TAILGATING', 'CITY STREET',\n",
       "       'COUNTY ROAD', 'FARM TO MARKET', 'INTERSTATE', 'OTHER ROADS',\n",
       "       'TOLL BRIDGES', 'TOLLWAY', 'US & STATE HIGHWAY', 'LANE_COUNT',\n",
       "       'LANE_SUM', 'ALCOHOL', 'ALCOHOL, DRUG', 'DRUG', 'MARIJUANA',\n",
       "       'MEDICINAL', 'NO INTOXICATION', 'INJURY', 'NO_INJURY', 'INJURY_COUNT',\n",
       "       'INJURY_COUNT_SUM', 'AGE 1-21', 'AGE 22-30', 'AGE 31-65',\n",
       "       'AGE 66 and above', 'Unknown Age', 'SUM_MEDIANWIDTH',\n",
       "       'MEDIAN_MEDIANWIDTH', 'SUM_ROADWIDTH', 'MEDIAN_ROADWIDTH', 'YEAR_CAT',\n",
       "       'YEAR_2019', 'YEAR_2020', 'YEAR_2021'],\n",
       "      dtype='object')"
      ]
     },
     "execution_count": 33,
     "metadata": {},
     "output_type": "execute_result"
    }
   ],
   "source": [
    "texas.columns"
   ]
  },
  {
   "cell_type": "code",
   "execution_count": 41,
   "id": "a585b32f",
   "metadata": {},
   "outputs": [
    {
     "data": {
      "text/plain": [
       "Index(['ROAD_CLASS', 'DATE', 'TIME', 'INTERSECTION', 'CONTOUR', 'SURFACE',\n",
       "       'LIGHTING', 'WEATHER', 'HUMAN_FACTOR', 'INTOXICATION', 'AGE', 'GENDER',\n",
       "       'COUNTY_FIPS', 'COUNTY', 'LATITUDE', 'LONGITUDE', 'INJURY_COUNT',\n",
       "       'INJURY_OUTCOME', 'Crash_ID', 'BUFF_DIST', 'ORIG_FID', 'Shape_Length',\n",
       "       'Shape_Area', 'WEATHER_DESC', 'BLOWING SAND/SNOW', 'CLEAR', 'CLOUDY',\n",
       "       'FOG', 'OTHER_WEATHER', 'RAIN', 'SEVERE CROSSWINDS', 'SLEET/HAIL',\n",
       "       'SNOW_WEATHER', 'UNKNOWN_WEATHER', 'LIGHTING_DESC', 'DARK-LIGHTED',\n",
       "       'DARK-NOT LIGHTED', 'DARK-UNKNOWN LIGHTING', 'DAWN', 'DAYLIGHT', 'DUSK',\n",
       "       'OTHER_LIGHTING', 'SURF_DESC', 'DIRT', 'DRY', 'ICE', 'SLUSH',\n",
       "       'SNOW_SURF', 'UNKNOWN_SURF', 'WET', 'INTOXICATION_DESC', 'ALCOHOL',\n",
       "       'ALCOHOL, DRUG', 'DRUG', 'MEDICINAL', 'MARIJUANA', 'NO INTOXICATION',\n",
       "       'INTERSECTION_DESC', 'NO_INTERSECTION', 'YES_INTERSECTION',\n",
       "       'ROAD_TYPE_DESC', 'CITY STREET', 'COUNTY ROAD', 'INTERSTATE',\n",
       "       'OTHER ROADS', 'US & STATE HIGHWAY', 'HUMAN_FACTOR_DESC', 'IMPAIRMENT',\n",
       "       'INATTENTION', 'KNOWN_HUMAN_FACTOR', 'LANE_CHNG', 'NO_FAULT',\n",
       "       'SPEEDING', 'TAILGATING', 'TECH_PARK', 'TURNING',\n",
       "       'UNKNOWN_HUMAN_FACTOR', 'UNSAFE_BACKING', 'VIOLATION', 'AGE_BAND',\n",
       "       'AGE 1-21', 'AGE 22-30', 'AGE 31-65', 'AGE 66 and above', 'Unknown Age',\n",
       "       'GENDER_DESC', 'FEMALE', 'MALE', 'UNKNOWN_GENDER', 'INJURY_COUNT_SUM',\n",
       "       'INJURY_DESC', 'NO INJURY_OUTCOME', 'YES INJURY_OUTCOME', 'YEAR_CAT',\n",
       "       'YEAR_2019', 'YEAR_2020', 'YEAR_2021'],\n",
       "      dtype='object')"
      ]
     },
     "execution_count": 41,
     "metadata": {},
     "output_type": "execute_result"
    }
   ],
   "source": [
    "colorado.columns"
   ]
  },
  {
   "cell_type": "code",
   "execution_count": 42,
   "id": "336c0a72",
   "metadata": {},
   "outputs": [
    {
     "data": {
      "text/plain": [
       "41"
      ]
     },
     "execution_count": 42,
     "metadata": {},
     "output_type": "execute_result"
    }
   ],
   "source": [
    "colorado.columns.get_loc('OTHER_LIGHTING')"
   ]
  },
  {
   "cell_type": "code",
   "execution_count": 36,
   "id": "87008d72",
   "metadata": {},
   "outputs": [],
   "source": [
    "colorado.insert(37,'DARK-UNKNOWN LIGHTING',0)"
   ]
  },
  {
   "cell_type": "code",
   "execution_count": 40,
   "id": "9f7c8a78",
   "metadata": {},
   "outputs": [],
   "source": [
    "colorado.insert(41,'OTHER_LIGHTING',0)"
   ]
  },
  {
   "cell_type": "code",
   "execution_count": 43,
   "id": "ff2a93ed",
   "metadata": {},
   "outputs": [],
   "source": [
    "colorado.insert(42,'UNKNOWN_LIGHTING',0)"
   ]
  },
  {
   "cell_type": "code",
   "execution_count": 44,
   "id": "82638e67",
   "metadata": {},
   "outputs": [
    {
     "data": {
      "text/plain": [
       "Index(['ROAD_CLASS', 'DATE', 'TIME', 'INTERSECTION', 'CONTOUR', 'SURFACE',\n",
       "       'LIGHTING', 'WEATHER', 'HUMAN_FACTOR', 'INTOXICATION', 'AGE', 'GENDER',\n",
       "       'COUNTY_FIPS', 'COUNTY', 'LATITUDE', 'LONGITUDE', 'INJURY_COUNT',\n",
       "       'INJURY_OUTCOME', 'Crash_ID', 'BUFF_DIST', 'ORIG_FID', 'Shape_Length',\n",
       "       'Shape_Area', 'WEATHER_DESC', 'BLOWING SAND/SNOW', 'CLEAR', 'CLOUDY',\n",
       "       'FOG', 'OTHER_WEATHER', 'RAIN', 'SEVERE CROSSWINDS', 'SLEET/HAIL',\n",
       "       'SNOW_WEATHER', 'UNKNOWN_WEATHER', 'LIGHTING_DESC', 'DARK-LIGHTED',\n",
       "       'DARK-NOT LIGHTED', 'DARK-UNKNOWN LIGHTING', 'DAWN', 'DAYLIGHT', 'DUSK',\n",
       "       'OTHER_LIGHTING', 'UNKNOWN_LIGHTING', 'SURF_DESC', 'DIRT', 'DRY', 'ICE',\n",
       "       'SLUSH', 'SNOW_SURF', 'UNKNOWN_SURF', 'WET', 'INTOXICATION_DESC',\n",
       "       'ALCOHOL', 'ALCOHOL, DRUG', 'DRUG', 'MEDICINAL', 'MARIJUANA',\n",
       "       'NO INTOXICATION', 'INTERSECTION_DESC', 'NO_INTERSECTION',\n",
       "       'YES_INTERSECTION', 'ROAD_TYPE_DESC', 'CITY STREET', 'COUNTY ROAD',\n",
       "       'INTERSTATE', 'OTHER ROADS', 'US & STATE HIGHWAY', 'HUMAN_FACTOR_DESC',\n",
       "       'IMPAIRMENT', 'INATTENTION', 'KNOWN_HUMAN_FACTOR', 'LANE_CHNG',\n",
       "       'NO_FAULT', 'SPEEDING', 'TAILGATING', 'TECH_PARK', 'TURNING',\n",
       "       'UNKNOWN_HUMAN_FACTOR', 'UNSAFE_BACKING', 'VIOLATION', 'AGE_BAND',\n",
       "       'AGE 1-21', 'AGE 22-30', 'AGE 31-65', 'AGE 66 and above', 'Unknown Age',\n",
       "       'GENDER_DESC', 'FEMALE', 'MALE', 'UNKNOWN_GENDER', 'INJURY_COUNT_SUM',\n",
       "       'INJURY_DESC', 'NO INJURY_OUTCOME', 'YES INJURY_OUTCOME', 'YEAR_CAT',\n",
       "       'YEAR_2019', 'YEAR_2020', 'YEAR_2021'],\n",
       "      dtype='object')"
      ]
     },
     "execution_count": 44,
     "metadata": {},
     "output_type": "execute_result"
    }
   ],
   "source": [
    "colorado.columns"
   ]
  },
  {
   "cell_type": "code",
   "execution_count": 127,
   "id": "4098171f",
   "metadata": {},
   "outputs": [
    {
     "data": {
      "text/plain": [
       "0         99.023438\n",
       "1         99.023438\n",
       "2         99.023438\n",
       "3         99.023438\n",
       "4         99.023438\n",
       "            ...    \n",
       "47148    100.000000\n",
       "47149    100.000000\n",
       "47150    100.000000\n",
       "47151    100.000000\n",
       "47152    100.000000\n",
       "Name: NO INTOXICATION, Length: 47153, dtype: float64"
      ]
     },
     "execution_count": 127,
     "metadata": {},
     "output_type": "execute_result"
    }
   ],
   "source": [
    "texas['NO INTOXICATION']"
   ]
  },
  {
   "cell_type": "code",
   "execution_count": 51,
   "id": "544cd208",
   "metadata": {},
   "outputs": [],
   "source": [
    "texas.rename(columns={'SAND,MUD,DIRT':'DIRT','SNOW_y':'SNOW_SURF','UNKNOWN_SURFACE':'UNK_SURF'},inplace= True)"
   ]
  },
  {
   "cell_type": "code",
   "execution_count": 54,
   "id": "aa9b61d8",
   "metadata": {},
   "outputs": [
    {
     "data": {
      "text/plain": [
       "49"
      ]
     },
     "execution_count": 54,
     "metadata": {},
     "output_type": "execute_result"
    }
   ],
   "source": [
    "colorado.columns.get_loc('SNOW_SURF')"
   ]
  },
  {
   "cell_type": "code",
   "execution_count": 53,
   "id": "5fbcec4d",
   "metadata": {},
   "outputs": [],
   "source": [
    "colorado.insert(47,'OTHER_SURFACE',0)"
   ]
  },
  {
   "cell_type": "code",
   "execution_count": 55,
   "id": "3b6b6836",
   "metadata": {},
   "outputs": [],
   "source": [
    "colorado.insert(50,'STANDING_WATER',0)"
   ]
  },
  {
   "cell_type": "code",
   "execution_count": 60,
   "id": "5a92cb83",
   "metadata": {},
   "outputs": [
    {
     "data": {
      "text/plain": [
       "Index(['COUNTY', 'State', 'FEMALE', 'MALE', 'UNKNOWN_GENDER',\n",
       "       'NO_INTERSECTION', 'YES_INTERSECTION', 'BLOWING SAND/SNOW', 'CLEAR',\n",
       "       'CLOUDY', 'FOG', 'OTHER_WEATHER', 'RAIN', 'SEVERE CROSSWINDS',\n",
       "       'SLEET/HAIL', 'SNOW_WEATHER', 'UNKNOWN_WEATHER', 'DARK-LIGHTED',\n",
       "       'DARK-NOT LIGHTED', 'DARK-UNKNOWN LIGHTING', 'DAWN', 'DAYLIGHT', 'DUSK',\n",
       "       'OTHER_LIGHTING', 'UNKNOWN_LIGHTING', 'DRY', 'ICE', 'OTHER_SURFACE',\n",
       "       'DIRT', 'SLUSH', 'SNOW_SURF', 'STANDING WATER', 'UNKNOWN_SURF', 'WET',\n",
       "       'IMPAIRMENT', 'INATTENTION', 'KNOWN_HUMAN_FACTOR', 'LANE_CHANGE',\n",
       "       'NO_FAULT', 'SPEEDING', 'TECH_PARK', 'TURNING', 'UNKNOWN_HUMAN_FACTOR',\n",
       "       'UNSAFE_BACKING', 'VIOLATION', 'TAILGATING', 'CITY STREET',\n",
       "       'COUNTY ROAD', 'FARM TO MARKET', 'INTERSTATE', 'OTHER ROADS',\n",
       "       'TOLL BRIDGES', 'TOLLWAY', 'US & STATE HIGHWAY', 'LANE_COUNT',\n",
       "       'LANE_SUM', 'ALCOHOL', 'ALCOHOL, DRUG', 'DRUG', 'MARIJUANA',\n",
       "       'MEDICINAL', 'NO INTOXICATION', 'INJURY', 'NO_INJURY', 'INJURY_COUNT',\n",
       "       'INJURY_COUNT_SUM', 'AGE 1-21', 'AGE 22-30', 'AGE 31-65',\n",
       "       'AGE 66 and above', 'Unknown Age', 'SUM_MEDIANWIDTH',\n",
       "       'MEDIAN_MEDIANWIDTH', 'SUM_ROADWIDTH', 'MEDIAN_ROADWIDTH', 'YEAR_CAT',\n",
       "       'YEAR_2019', 'YEAR_2020', 'YEAR_2021'],\n",
       "      dtype='object')"
      ]
     },
     "execution_count": 60,
     "metadata": {},
     "output_type": "execute_result"
    }
   ],
   "source": [
    "texas.columns"
   ]
  },
  {
   "cell_type": "code",
   "execution_count": 59,
   "id": "826d761e",
   "metadata": {},
   "outputs": [],
   "source": [
    "texas.rename(columns={'UNK_SURFACE':'UNKNOWN_SURF'},inplace= True)"
   ]
  },
  {
   "cell_type": "code",
   "execution_count": 117,
   "id": "a71b911a",
   "metadata": {},
   "outputs": [
    {
     "name": "stdout",
     "output_type": "stream",
     "text": [
      "ROAD_CLASS \n",
      "\n",
      "\n",
      "DATE \n",
      "\n",
      "\n",
      "TIME \n",
      "\n",
      "\n",
      "INTERSECTION \n",
      "\n",
      "\n",
      "CONTOUR \n",
      "\n",
      "\n",
      "SURFACE \n",
      "\n",
      "\n",
      "LIGHTING \n",
      "\n",
      "\n",
      "WEATHER \n",
      "\n",
      "\n",
      "HUMAN_FACTOR \n",
      "\n",
      "\n",
      "INTOXICATION \n",
      "\n",
      "\n",
      "AGE \n",
      "\n",
      "\n",
      "GENDER \n",
      "\n",
      "\n",
      "COUNTY_FIPS \n",
      "\n",
      "\n",
      "COUNTY \n",
      "\n",
      "\n",
      "LATITUDE \n",
      "\n",
      "\n",
      "LONGITUDE \n",
      "\n",
      "\n",
      "INJURY_COUNT \n",
      "\n",
      "\n",
      "INJURY_OUTCOME \n",
      "\n",
      "\n",
      "Crash_ID \n",
      "\n",
      "\n",
      "BUFF_DIST \n",
      "\n",
      "\n",
      "ORIG_FID \n",
      "\n",
      "\n",
      "Shape_Length \n",
      "\n",
      "\n",
      "Shape_Area \n",
      "\n",
      "\n",
      "WEATHER_DESC \n",
      "\n",
      "\n",
      "BLOWING SAND/SNOW \n",
      "\n",
      "\n",
      "CLEAR \n",
      "\n",
      "\n",
      "CLOUDY \n",
      "\n",
      "\n",
      "FOG \n",
      "\n",
      "\n",
      "OTHER_WEATHER \n",
      "\n",
      "\n",
      "RAIN \n",
      "\n",
      "\n",
      "SEVERE CROSSWINDS \n",
      "\n",
      "\n",
      "SLEET/HAIL \n",
      "\n",
      "\n",
      "SNOW_WEATHER \n",
      "\n",
      "\n",
      "UNKNOWN_WEATHER \n",
      "\n",
      "\n",
      "LIGHTING_DESC \n",
      "\n",
      "\n",
      "DARK-LIGHTED \n",
      "\n",
      "\n",
      "DARK-NOT LIGHTED \n",
      "\n",
      "\n",
      "DARK-UNKNOWN LIGHTING \n",
      "\n",
      "\n",
      "DAWN \n",
      "\n",
      "\n",
      "DAYLIGHT \n",
      "\n",
      "\n",
      "DUSK \n",
      "\n",
      "\n",
      "OTHER_LIGHTING \n",
      "\n",
      "\n",
      "UNKNOWN_LIGHTING \n",
      "\n",
      "\n",
      "SURF_DESC \n",
      "\n",
      "\n",
      "DIRT \n",
      "\n",
      "\n",
      "DRY \n",
      "\n",
      "\n",
      "ICE \n",
      "\n",
      "\n",
      "OTHER_SURFACE \n",
      "\n",
      "\n",
      "SLUSH \n",
      "\n",
      "\n",
      "SNOW_SURF \n",
      "\n",
      "\n",
      "STANDING_WATER \n",
      "\n",
      "\n",
      "UNKNOWN_SURF \n",
      "\n",
      "\n",
      "WET \n",
      "\n",
      "\n",
      "INTOXICATION_DESC \n",
      "\n",
      "\n",
      "ALCOHOL \n",
      "\n",
      "\n",
      "ALCOHOL, DRUG \n",
      "\n",
      "\n",
      "DRUG \n",
      "\n",
      "\n",
      "MEDICINAL \n",
      "\n",
      "\n",
      "MARIJUANA \n",
      "\n",
      "\n",
      "NO INTOXICATION \n",
      "\n",
      "\n",
      "INTERSECTION_DESC \n",
      "\n",
      "\n",
      "NO_INTERSECTION \n",
      "\n",
      "\n",
      "YES_INTERSECTION \n",
      "\n",
      "\n",
      "ROAD_TYPE_DESC \n",
      "\n",
      "\n",
      "CITY STREET \n",
      "\n",
      "\n",
      "COUNTY ROAD \n",
      "\n",
      "\n",
      "FARM TO MARKET \n",
      "\n",
      "\n",
      "INTERSTATE \n",
      "\n",
      "\n",
      "OTHER ROADS \n",
      "\n",
      "\n",
      "TOLL BRIDGES \n",
      "\n",
      "\n",
      "TOLLWAY \n",
      "\n",
      "\n",
      "US & STATE HIGHWAY \n",
      "\n",
      "\n",
      "HUMAN_FACTOR_DESC \n",
      "\n",
      "\n",
      "IMPAIRMENT \n",
      "\n",
      "\n",
      "INATTENTION \n",
      "\n",
      "\n",
      "KNOWN_HUMAN_FACTOR \n",
      "\n",
      "\n",
      "LANE_CHANGE \n",
      "\n",
      "\n",
      "NO_FAULT \n",
      "\n",
      "\n",
      "SPEEDING \n",
      "\n",
      "\n",
      "TAILGATING \n",
      "\n",
      "\n",
      "TECH_PARK \n",
      "\n",
      "\n",
      "TURNING \n",
      "\n",
      "\n",
      "UNKNOWN_HUMAN_FACTOR \n",
      "\n",
      "\n",
      "UNSAFE_BACKING \n",
      "\n",
      "\n",
      "VIOLATION \n",
      "\n",
      "\n",
      "AGE_BAND \n",
      "\n",
      "\n",
      "AGE 1-21 \n",
      "\n",
      "\n",
      "AGE 22-30 \n",
      "\n",
      "\n",
      "AGE 31-65 \n",
      "\n",
      "\n",
      "AGE 66 and above \n",
      "\n",
      "\n",
      "Unknown Age \n",
      "\n",
      "\n",
      "GENDER_DESC \n",
      "\n",
      "\n",
      "FEMALE \n",
      "\n",
      "\n",
      "MALE \n",
      "\n",
      "\n",
      "UNKNOWN_GENDER \n",
      "\n",
      "\n",
      "INJURY_COUNT_SUM \n",
      "\n",
      "\n",
      "INJURY_DESC \n",
      "\n",
      "\n",
      "NO_INJURY \n",
      "\n",
      "\n",
      "YES_INJURY \n",
      "\n",
      "\n",
      "YEAR_CAT \n",
      "\n",
      "\n",
      "YEAR_2019 \n",
      "\n",
      "\n",
      "YEAR_2020 \n",
      "\n",
      "\n",
      "YEAR_2021 \n",
      "\n",
      "\n"
     ]
    }
   ],
   "source": [
    "for i in colorado.columns:\n",
    "    print(i,'\\n\\n')"
   ]
  },
  {
   "cell_type": "code",
   "execution_count": 61,
   "id": "78448807",
   "metadata": {},
   "outputs": [],
   "source": [
    "colorado.rename(columns={'LANE_CHNG':'LANE_CHANGE'},inplace= True)"
   ]
  },
  {
   "cell_type": "code",
   "execution_count": 70,
   "id": "d1cfb911",
   "metadata": {},
   "outputs": [
    {
     "data": {
      "text/plain": [
       "69"
      ]
     },
     "execution_count": 70,
     "metadata": {},
     "output_type": "execute_result"
    }
   ],
   "source": [
    "colorado.columns.get_loc('TOLL BRIDGES')"
   ]
  },
  {
   "cell_type": "code",
   "execution_count": 67,
   "id": "ac68d217",
   "metadata": {},
   "outputs": [],
   "source": [
    "colorado.insert(66,'FARM TO MARKET',0)"
   ]
  },
  {
   "cell_type": "code",
   "execution_count": 69,
   "id": "d5b37e60",
   "metadata": {},
   "outputs": [],
   "source": [
    "colorado.insert(69,'TOLL BRIDGES',0)"
   ]
  },
  {
   "cell_type": "code",
   "execution_count": 71,
   "id": "4738b979",
   "metadata": {},
   "outputs": [],
   "source": [
    "colorado.insert(70,'TOLLWAY',0)"
   ]
  },
  {
   "cell_type": "code",
   "execution_count": 79,
   "id": "cd87b03d",
   "metadata": {},
   "outputs": [
    {
     "data": {
      "text/plain": [
       "0         75.219976\n",
       "1         76.471744\n",
       "2         75.219976\n",
       "3         78.819743\n",
       "4         75.219976\n",
       "            ...    \n",
       "217285    66.073479\n",
       "217286    74.305556\n",
       "217287    71.644664\n",
       "217288    71.100703\n",
       "217289    71.570139\n",
       "Name: NO INJURY_OUTCOME, Length: 217290, dtype: float64"
      ]
     },
     "execution_count": 79,
     "metadata": {},
     "output_type": "execute_result"
    }
   ],
   "source": [
    "colorado[\"NO INJURY_OUTCOME\"]"
   ]
  },
  {
   "cell_type": "code",
   "execution_count": 112,
   "id": "6b824e45",
   "metadata": {},
   "outputs": [
    {
     "data": {
      "text/plain": [
       "Index(['COUNTY', 'State', 'FEMALE', 'MALE', 'UNKNOWN_GENDER',\n",
       "       'NO_INTERSECTION', 'YES_INTERSECTION', 'BLOWING SAND/SNOW', 'CLEAR',\n",
       "       'CLOUDY', 'FOG', 'OTHER_WEATHER', 'RAIN', 'SEVERE CROSSWINDS',\n",
       "       'SLEET/HAIL', 'SNOW_WEATHER', 'UNKNOWN_WEATHER', 'DARK-LIGHTED',\n",
       "       'DARK-NOT LIGHTED', 'DARK-UNKNOWN LIGHTING', 'DAWN', 'DAYLIGHT', 'DUSK',\n",
       "       'OTHER_LIGHTING', 'UNKNOWN_LIGHTING', 'DRY', 'ICE', 'OTHER_SURFACE',\n",
       "       'DIRT', 'SLUSH', 'SNOW_SURF', 'STANDING WATER', 'UNKNOWN_SURF', 'WET',\n",
       "       'IMPAIRMENT', 'INATTENTION', 'KNOWN_HUMAN_FACTOR', 'LANE_CHANGE',\n",
       "       'NO_FAULT', 'SPEEDING', 'TECH_PARK', 'TURNING', 'UNKNOWN_HUMAN_FACTOR',\n",
       "       'UNSAFE_BACKING', 'VIOLATION', 'TAILGATING', 'CITY STREET',\n",
       "       'COUNTY ROAD', 'FARM TO MARKET', 'INTERSTATE', 'OTHER ROADS',\n",
       "       'TOLL BRIDGES', 'TOLLWAY', 'US & STATE HIGHWAY', 'LANE_COUNT',\n",
       "       'LANE_SUM', 'ALCOHOL', 'ALCOHOL, DRUG', 'DRUG', 'MARIJUANA',\n",
       "       'MEDICINAL', 'NO INTOXICATION', 'YES_INJURY', 'NO_INJURY',\n",
       "       'INJURY_COUNT', 'INJURY_COUNT_SUM', 'AGE 1-21', 'AGE 22-30',\n",
       "       'AGE 31-65', 'AGE 66 and above', 'Unknown Age', 'SUM_MEDIANWIDTH',\n",
       "       'MEDIAN_MEDIANWIDTH', 'SUM_ROADWIDTH', 'MEDIAN_ROADWIDTH', 'YEAR_CAT',\n",
       "       'YEAR_2019', 'YEAR_2020', 'YEAR_2021'],\n",
       "      dtype='object')"
      ]
     },
     "execution_count": 112,
     "metadata": {},
     "output_type": "execute_result"
    }
   ],
   "source": [
    "texas.columns"
   ]
  },
  {
   "cell_type": "code",
   "execution_count": 110,
   "id": "c28ce906",
   "metadata": {},
   "outputs": [],
   "source": [
    "colorado.rename(columns={'NO INJURY_OUTCOME':'NO_INJURY','YES INJURY_OUTCOME':'YES_INJURY'},inplace= True)"
   ]
  },
  {
   "cell_type": "code",
   "execution_count": 111,
   "id": "ba57ce47",
   "metadata": {},
   "outputs": [],
   "source": [
    "texas.rename(columns={'INJURY':'YES_INJURY'},inplace= True)"
   ]
  },
  {
   "cell_type": "code",
   "execution_count": 115,
   "id": "4411fcf9",
   "metadata": {},
   "outputs": [
    {
     "data": {
      "text/plain": [
       "0                 INTERSTATE\n",
       "1                CITY STREET\n",
       "2                CITY STREET\n",
       "3                CITY STREET\n",
       "4         US & STATE HIGHWAY\n",
       "                 ...        \n",
       "217285    US & STATE HIGHWAY\n",
       "217286           COUNTY ROAD\n",
       "217287            INTERSTATE\n",
       "217288    US & STATE HIGHWAY\n",
       "217289    US & STATE HIGHWAY\n",
       "Name: ROAD_TYPE_DESC, Length: 217290, dtype: object"
      ]
     },
     "execution_count": 115,
     "metadata": {},
     "output_type": "execute_result"
    }
   ],
   "source": []
  },
  {
   "cell_type": "code",
   "execution_count": 120,
   "id": "b8818dd1",
   "metadata": {},
   "outputs": [
    {
     "ename": "KeyError",
     "evalue": "'LATITUDE'",
     "output_type": "error",
     "traceback": [
      "\u001b[1;31m---------------------------------------------------------------------------\u001b[0m",
      "\u001b[1;31mKeyError\u001b[0m                                  Traceback (most recent call last)",
      "File \u001b[1;32m~\\anaconda31\\Lib\\site-packages\\pandas\\core\\indexes\\base.py:3802\u001b[0m, in \u001b[0;36mIndex.get_loc\u001b[1;34m(self, key, method, tolerance)\u001b[0m\n\u001b[0;32m   3801\u001b[0m \u001b[38;5;28;01mtry\u001b[39;00m:\n\u001b[1;32m-> 3802\u001b[0m     \u001b[38;5;28;01mreturn\u001b[39;00m \u001b[38;5;28mself\u001b[39m\u001b[38;5;241m.\u001b[39m_engine\u001b[38;5;241m.\u001b[39mget_loc(casted_key)\n\u001b[0;32m   3803\u001b[0m \u001b[38;5;28;01mexcept\u001b[39;00m \u001b[38;5;167;01mKeyError\u001b[39;00m \u001b[38;5;28;01mas\u001b[39;00m err:\n",
      "File \u001b[1;32m~\\anaconda31\\Lib\\site-packages\\pandas\\_libs\\index.pyx:138\u001b[0m, in \u001b[0;36mpandas._libs.index.IndexEngine.get_loc\u001b[1;34m()\u001b[0m\n",
      "File \u001b[1;32m~\\anaconda31\\Lib\\site-packages\\pandas\\_libs\\index.pyx:165\u001b[0m, in \u001b[0;36mpandas._libs.index.IndexEngine.get_loc\u001b[1;34m()\u001b[0m\n",
      "File \u001b[1;32mpandas\\_libs\\hashtable_class_helper.pxi:5745\u001b[0m, in \u001b[0;36mpandas._libs.hashtable.PyObjectHashTable.get_item\u001b[1;34m()\u001b[0m\n",
      "File \u001b[1;32mpandas\\_libs\\hashtable_class_helper.pxi:5753\u001b[0m, in \u001b[0;36mpandas._libs.hashtable.PyObjectHashTable.get_item\u001b[1;34m()\u001b[0m\n",
      "\u001b[1;31mKeyError\u001b[0m: 'LATITUDE'",
      "\nThe above exception was the direct cause of the following exception:\n",
      "\u001b[1;31mKeyError\u001b[0m                                  Traceback (most recent call last)",
      "Cell \u001b[1;32mIn[120], line 1\u001b[0m\n\u001b[1;32m----> 1\u001b[0m texas[\u001b[38;5;124m'\u001b[39m\u001b[38;5;124mLATITUDE\u001b[39m\u001b[38;5;124m'\u001b[39m]\n",
      "File \u001b[1;32m~\\anaconda31\\Lib\\site-packages\\pandas\\core\\frame.py:3807\u001b[0m, in \u001b[0;36mDataFrame.__getitem__\u001b[1;34m(self, key)\u001b[0m\n\u001b[0;32m   3805\u001b[0m \u001b[38;5;28;01mif\u001b[39;00m \u001b[38;5;28mself\u001b[39m\u001b[38;5;241m.\u001b[39mcolumns\u001b[38;5;241m.\u001b[39mnlevels \u001b[38;5;241m>\u001b[39m \u001b[38;5;241m1\u001b[39m:\n\u001b[0;32m   3806\u001b[0m     \u001b[38;5;28;01mreturn\u001b[39;00m \u001b[38;5;28mself\u001b[39m\u001b[38;5;241m.\u001b[39m_getitem_multilevel(key)\n\u001b[1;32m-> 3807\u001b[0m indexer \u001b[38;5;241m=\u001b[39m \u001b[38;5;28mself\u001b[39m\u001b[38;5;241m.\u001b[39mcolumns\u001b[38;5;241m.\u001b[39mget_loc(key)\n\u001b[0;32m   3808\u001b[0m \u001b[38;5;28;01mif\u001b[39;00m is_integer(indexer):\n\u001b[0;32m   3809\u001b[0m     indexer \u001b[38;5;241m=\u001b[39m [indexer]\n",
      "File \u001b[1;32m~\\anaconda31\\Lib\\site-packages\\pandas\\core\\indexes\\base.py:3804\u001b[0m, in \u001b[0;36mIndex.get_loc\u001b[1;34m(self, key, method, tolerance)\u001b[0m\n\u001b[0;32m   3802\u001b[0m     \u001b[38;5;28;01mreturn\u001b[39;00m \u001b[38;5;28mself\u001b[39m\u001b[38;5;241m.\u001b[39m_engine\u001b[38;5;241m.\u001b[39mget_loc(casted_key)\n\u001b[0;32m   3803\u001b[0m \u001b[38;5;28;01mexcept\u001b[39;00m \u001b[38;5;167;01mKeyError\u001b[39;00m \u001b[38;5;28;01mas\u001b[39;00m err:\n\u001b[1;32m-> 3804\u001b[0m     \u001b[38;5;28;01mraise\u001b[39;00m \u001b[38;5;167;01mKeyError\u001b[39;00m(key) \u001b[38;5;28;01mfrom\u001b[39;00m \u001b[38;5;21;01merr\u001b[39;00m\n\u001b[0;32m   3805\u001b[0m \u001b[38;5;28;01mexcept\u001b[39;00m \u001b[38;5;167;01mTypeError\u001b[39;00m:\n\u001b[0;32m   3806\u001b[0m     \u001b[38;5;66;03m# If we have a listlike key, _check_indexing_error will raise\u001b[39;00m\n\u001b[0;32m   3807\u001b[0m     \u001b[38;5;66;03m#  InvalidIndexError. Otherwise we fall through and re-raise\u001b[39;00m\n\u001b[0;32m   3808\u001b[0m     \u001b[38;5;66;03m#  the TypeError.\u001b[39;00m\n\u001b[0;32m   3809\u001b[0m     \u001b[38;5;28mself\u001b[39m\u001b[38;5;241m.\u001b[39m_check_indexing_error(key)\n",
      "\u001b[1;31mKeyError\u001b[0m: 'LATITUDE'"
     ]
    }
   ],
   "source": []
  },
  {
   "cell_type": "code",
   "execution_count": 118,
   "id": "74b3880a",
   "metadata": {},
   "outputs": [],
   "source": [
    "texas1 = pd.read_csv('C:/Users/karan/Texas_Crash_buffer.csv')"
   ]
  },
  {
   "cell_type": "code",
   "execution_count": 119,
   "id": "d1ab3ff1",
   "metadata": {},
   "outputs": [
    {
     "data": {
      "text/plain": [
       "Index(['Crash_ID', 'AGE', 'GENDER', 'DATE', 'TIME', 'COUNTY_FIPS', 'COUNTY',\n",
       "       'INTERSECTION', 'WEATHER', 'LIGHTING', 'SURFACE', 'HUMAN_FACTOR',\n",
       "       'ROAD_CLASS', 'LATITUDE', 'LONGITUDE', 'MEDIANWIDTH', 'LANES',\n",
       "       'ROADWIDTH', 'AADT', 'INJURY_OUTCOME', 'INJURY_COUNT', 'YEAR',\n",
       "       'INTOXICATION', 'BUFF_DIST', 'ORIG_FID', 'Shape_Length', 'Shape_Area'],\n",
       "      dtype='object')"
      ]
     },
     "execution_count": 119,
     "metadata": {},
     "output_type": "execute_result"
    }
   ],
   "source": [
    "texas1.columns"
   ]
  },
  {
   "cell_type": "code",
   "execution_count": 121,
   "id": "2e0bcc07",
   "metadata": {},
   "outputs": [
    {
     "data": {
      "text/plain": [
       "(47153, 79)"
      ]
     },
     "execution_count": 121,
     "metadata": {},
     "output_type": "execute_result"
    }
   ],
   "source": [
    "texas.shape"
   ]
  },
  {
   "cell_type": "code",
   "execution_count": 122,
   "id": "867101c9",
   "metadata": {
    "scrolled": true
   },
   "outputs": [
    {
     "data": {
      "text/plain": [
       "(726223, 27)"
      ]
     },
     "execution_count": 122,
     "metadata": {},
     "output_type": "execute_result"
    }
   ],
   "source": [
    "texas1.shape"
   ]
  },
  {
   "cell_type": "code",
   "execution_count": 125,
   "id": "bef49b9b",
   "metadata": {},
   "outputs": [],
   "source": [
    "x = texas1[['LATITUDE','LONGITUDE','COUNTY_FIPS','DATE','TIME','Crash_ID']]"
   ]
  },
  {
   "cell_type": "code",
   "execution_count": null,
   "id": "5bdad871",
   "metadata": {},
   "outputs": [],
   "source": [
    "texas2 = pd.merge(texas,x,on=['Cras'])"
   ]
  },
  {
   "cell_type": "code",
   "execution_count": 126,
   "id": "95f270a2",
   "metadata": {},
   "outputs": [
    {
     "data": {
      "text/plain": [
       "Index(['COUNTY', 'State', 'FEMALE', 'MALE', 'UNKNOWN_GENDER',\n",
       "       'NO_INTERSECTION', 'YES_INTERSECTION', 'BLOWING SAND/SNOW', 'CLEAR',\n",
       "       'CLOUDY', 'FOG', 'OTHER_WEATHER', 'RAIN', 'SEVERE CROSSWINDS',\n",
       "       'SLEET/HAIL', 'SNOW_WEATHER', 'UNKNOWN_WEATHER', 'DARK-LIGHTED',\n",
       "       'DARK-NOT LIGHTED', 'DARK-UNKNOWN LIGHTING', 'DAWN', 'DAYLIGHT', 'DUSK',\n",
       "       'OTHER_LIGHTING', 'UNKNOWN_LIGHTING', 'DRY', 'ICE', 'OTHER_SURFACE',\n",
       "       'DIRT', 'SLUSH', 'SNOW_SURF', 'STANDING WATER', 'UNKNOWN_SURF', 'WET',\n",
       "       'IMPAIRMENT', 'INATTENTION', 'KNOWN_HUMAN_FACTOR', 'LANE_CHANGE',\n",
       "       'NO_FAULT', 'SPEEDING', 'TECH_PARK', 'TURNING', 'UNKNOWN_HUMAN_FACTOR',\n",
       "       'UNSAFE_BACKING', 'VIOLATION', 'TAILGATING', 'CITY STREET',\n",
       "       'COUNTY ROAD', 'FARM TO MARKET', 'INTERSTATE', 'OTHER ROADS',\n",
       "       'TOLL BRIDGES', 'TOLLWAY', 'US & STATE HIGHWAY', 'LANE_COUNT',\n",
       "       'LANE_SUM', 'ALCOHOL', 'ALCOHOL, DRUG', 'DRUG', 'MARIJUANA',\n",
       "       'MEDICINAL', 'NO INTOXICATION', 'YES_INJURY', 'NO_INJURY',\n",
       "       'INJURY_COUNT', 'INJURY_COUNT_SUM', 'AGE 1-21', 'AGE 22-30',\n",
       "       'AGE 31-65', 'AGE 66 and above', 'Unknown Age', 'SUM_MEDIANWIDTH',\n",
       "       'MEDIAN_MEDIANWIDTH', 'SUM_ROADWIDTH', 'MEDIAN_ROADWIDTH', 'YEAR_CAT',\n",
       "       'YEAR_2019', 'YEAR_2020', 'YEAR_2021'],\n",
       "      dtype='object')"
      ]
     },
     "execution_count": 126,
     "metadata": {},
     "output_type": "execute_result"
    }
   ],
   "source": [
    "texas.columns"
   ]
  },
  {
   "cell_type": "code",
   "execution_count": null,
   "id": "fcaa67b3",
   "metadata": {},
   "outputs": [],
   "source": []
  }
 ],
 "metadata": {
  "kernelspec": {
   "display_name": "Python 3 (ipykernel)",
   "language": "python",
   "name": "python3"
  },
  "language_info": {
   "codemirror_mode": {
    "name": "ipython",
    "version": 3
   },
   "file_extension": ".py",
   "mimetype": "text/x-python",
   "name": "python",
   "nbconvert_exporter": "python",
   "pygments_lexer": "ipython3",
   "version": "3.11.4"
  }
 },
 "nbformat": 4,
 "nbformat_minor": 5
}
