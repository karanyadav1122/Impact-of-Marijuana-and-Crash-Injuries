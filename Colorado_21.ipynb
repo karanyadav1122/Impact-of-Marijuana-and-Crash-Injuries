{
 "cells": [
  {
   "cell_type": "code",
   "execution_count": 40,
   "id": "b4abffe5",
   "metadata": {},
   "outputs": [],
   "source": [
    "import numpy as np\n",
    "import pandas as pd"
   ]
  },
  {
   "cell_type": "code",
   "execution_count": 67,
   "id": "1d8ca3a0",
   "metadata": {},
   "outputs": [],
   "source": [
    "colo_21 = pd.read_csv('C:/Users/karan/colo_21_new.csv')"
   ]
  },
  {
   "cell_type": "code",
   "execution_count": 68,
   "id": "2d2ed312",
   "metadata": {},
   "outputs": [
    {
     "data": {
      "text/plain": [
       "Index(['CUID', 'SYSTEM', 'DATE', 'TIME', 'Agency Id', 'County_FIPS', 'County',\n",
       "       'Latitude', 'Longitude', 'Location', 'Road Description', 'Injury 00',\n",
       "       'Injury 01', 'Injury 02', 'Injury 03', 'Injury 04',\n",
       "       'Road Contour Curves', 'Road Contour Grade', 'TU-1 Age', 'TU-1 Sex ',\n",
       "       'SPEED_1', 'Road Condition', 'Lighting Conditions', 'Weather Condition',\n",
       "       'TU-1 Driver Action', 'TU-1 Human Contributing Factor',\n",
       "       'TU-1 Alcohol Suspected', 'TU-1  Marijuana Suspected'],\n",
       "      dtype='object')"
      ]
     },
     "execution_count": 68,
     "metadata": {},
     "output_type": "execute_result"
    }
   ],
   "source": [
    "colo_21.columns"
   ]
  },
  {
   "cell_type": "code",
   "execution_count": 69,
   "id": "33aab181",
   "metadata": {},
   "outputs": [
    {
     "name": "stdout",
     "output_type": "stream",
     "text": [
      "CUID has     [195435  40647  45365 ... 215828 192354 306645] \n",
      "\n",
      "\n",
      "SYSTEM has     ['State Highway' 'County Road' 'City Street' 'Interstate Highway'\n",
      " 'Frontage Road'] \n",
      "\n",
      "\n",
      "DATE has     ['2021-01-01' '2021-01-02' '2021-01-03' '2021-01-04' '2021-01-05'\n",
      " '2021-01-06' '2021-01-07' '2021-01-08' '2021-01-09' '2021-01-10'\n",
      " '2021-01-11' '2021-01-12' '2021-01-13' '2021-01-14' '2021-01-15'\n",
      " '2021-01-16' '2021-01-17' '2021-01-18' '2021-01-19' '2021-01-20'\n",
      " '2021-01-21' '2021-01-22' '2021-01-23' '2021-01-24' '2021-01-25'\n",
      " '2021-01-26' '2021-01-27' '2021-01-28' '2021-01-29' '2021-01-30'\n",
      " '2021-01-31' '2021-02-01' '2021-02-02' '2021-02-03' '2021-02-04'\n",
      " '2021-02-05' '2021-02-06' '2021-02-07' '2021-02-08' '2021-02-09'\n",
      " '2021-02-10' '2021-02-11' '2021-02-12' '2021-02-13' '2021-02-14'\n",
      " '2021-02-15' '2021-02-16' '2021-02-17' '2021-02-18' '2021-02-19'\n",
      " '2021-02-20' '2021-02-21' '2021-02-22' '2021-02-23' '2021-02-24'\n",
      " '2021-02-25' '2021-02-26' '2021-02-27' '2021-02-28' '2021-03-01'\n",
      " '2021-03-02' '2021-03-03' '2021-03-04' '2021-03-05' '2021-03-06'\n",
      " '2021-03-07' '2021-03-08' '2021-03-09' '2021-03-10' '2021-03-11'\n",
      " '2021-03-12' '2021-03-13' '2021-03-14' '2021-03-15' '2021-03-16'\n",
      " '2021-03-17' '2021-03-18' '2021-03-19' '2021-03-20' '2021-03-21'\n",
      " '2021-03-22' '2021-03-23' '2021-03-24' '2021-03-25' '2021-03-26'\n",
      " '2021-03-27' '2021-03-28' '2021-03-29' '2021-03-30' '2021-03-31'\n",
      " '2021-04-01' '2021-04-02' '2021-04-03' '2021-04-04' '2021-04-05'\n",
      " '2021-04-06' '2021-04-07' '2021-04-08' '2021-04-09' '2021-04-10'\n",
      " '2021-04-11' '2021-04-12' '2021-04-13' '2021-04-14' '2021-04-15'\n",
      " '2021-04-16' '2021-04-17' '2021-04-18' '2021-04-19' '2021-04-20'\n",
      " '2021-04-21' '2021-04-22' '2021-04-23' '2021-04-24' '2021-04-25'\n",
      " '2021-04-26' '2021-04-27' '2021-04-28' '2021-04-29' '2021-04-30'\n",
      " '2021-05-01' '2021-05-02' '2021-05-03' '2021-05-04' '2021-05-05'\n",
      " '2021-05-06' '2021-05-07' '2021-05-08' '2021-05-09' '2021-05-10'\n",
      " '2021-05-11' '2021-05-12' '2021-05-13' '2021-05-14' '2021-05-15'\n",
      " '2021-05-16' '2021-05-17' '2021-05-18' '2021-05-19' '2021-05-20'\n",
      " '2021-05-21' '2021-05-22' '2021-05-23' '2021-05-24' '2021-05-25'\n",
      " '2021-05-26' '2021-05-27' '2021-05-28' '2021-05-29' '2021-05-30'\n",
      " '2021-05-31' '2021-06-01' '2021-06-02' '2021-06-03' '2021-06-04'\n",
      " '2021-06-05' '2021-06-06' '2021-06-07' '2021-06-08' '2021-06-09'\n",
      " '2021-06-10' '2021-06-11' '2021-06-12' '2021-06-13' '2021-06-14'\n",
      " '2021-06-15' '2021-06-16' '2021-06-17' '2021-06-18' '2021-06-19'\n",
      " '2021-06-20' '2021-06-21' '2021-06-22' '2021-06-23' '2021-06-24'\n",
      " '2021-06-25' '2021-06-26' '2021-06-27' '2021-06-28' '2021-06-29'\n",
      " '2021-06-30' '2021-07-01' '2021-07-02' '2021-07-03' '2021-07-04'\n",
      " '2021-07-05' '2021-07-06' '2021-07-07' '2021-07-08' '2021-07-09'\n",
      " '2021-07-10' '2021-07-11' '2021-07-12' '2021-07-13' '2021-07-14'\n",
      " '2021-07-15' '2021-07-16' '2021-07-17' '2021-07-18' '2021-07-19'\n",
      " '2021-07-20' '2021-07-21' '2021-07-22' '2021-07-23' '2021-07-24'\n",
      " '2021-07-25' '2021-07-26' '2021-07-27' '2021-07-28' '2021-07-29'\n",
      " '2021-07-30' '2021-07-31' '2021-08-01' '2021-08-02' '2021-08-03'\n",
      " '2021-08-04' '2021-08-05' '2021-08-06' '2021-08-07' '2021-08-08'\n",
      " '2021-08-09' '2021-08-10' '2021-08-11' '2021-08-12' '2021-08-13'\n",
      " '2021-08-14' '2021-08-15' '2021-08-16' '2021-08-17' '2021-08-18'\n",
      " '2021-08-19' '2021-08-20' '2021-08-21' '2021-08-22' '2021-08-23'\n",
      " '2021-08-24' '2021-08-25' '2021-08-26' '2021-08-27' '2021-08-28'\n",
      " '2021-08-29' '2021-08-30' '2021-08-31' '2021-09-01' '2021-09-02'\n",
      " '2021-09-03' '2021-09-04' '2021-09-05' '2021-09-06' '2021-09-07'\n",
      " '2021-09-08' '2021-09-09' '2021-09-10' '2021-09-11' '2021-09-12'\n",
      " '2021-09-13' '2021-09-14' '2021-09-15' '2021-09-16' '2021-09-17'\n",
      " '2021-09-18' '2021-09-19' '2021-09-20' '2021-09-21' '2021-09-22'\n",
      " '2021-09-23' '2021-09-24' '2021-09-25' '2021-09-26' '2021-09-27'\n",
      " '2021-09-28' '2021-09-29' '2021-09-30' '2021-10-01' '2021-10-02'\n",
      " '2021-10-03' '2021-10-04' '2021-10-05' '2021-10-06' '2021-10-07'\n",
      " '2021-10-08' '2021-10-09' '2021-10-10' '2021-10-11' '2021-10-12'\n",
      " '2021-10-13' '2021-10-14' '2021-10-15' '2021-10-16' '2021-10-17'\n",
      " '2021-10-18' '2021-10-19' '2021-10-20' '2021-10-21' '2021-10-22'\n",
      " '2021-10-23' '2021-10-24' '2021-10-25' '2021-10-26' '2021-10-27'\n",
      " '2021-10-28' '2021-10-29' '2021-10-30' '2021-10-31' '2021-11-01'\n",
      " '2021-11-02' '2021-11-03' '2021-11-04' '2021-11-05' '2021-11-06'\n",
      " '2021-11-07' '2021-11-08' '2021-11-09' '2021-11-10' '2021-11-11'\n",
      " '2021-11-12' '2021-11-13' '2021-11-14' '2021-11-15' '2021-11-16'\n",
      " '2021-11-17' '2021-11-18' '2021-11-19' '2021-11-20' '2021-11-21'\n",
      " '2021-11-22' '2021-11-23' '2021-11-24' '2021-11-25' '2021-11-26'\n",
      " '2021-11-27' '2021-11-28' '2021-11-29' '2021-11-30' '2021-12-01'\n",
      " '2021-12-02' '2021-12-03' '2021-12-04' '2021-12-05' '2021-12-06'\n",
      " '2021-12-07' '2021-12-08' '2021-12-09' '2021-12-10' '2021-12-11'\n",
      " '2021-12-12' '2021-12-13' '2021-12-14' '2021-12-15' '2021-12-16'\n",
      " '2021-12-17' '2021-12-18' '2021-12-19' '2021-12-20' '2021-12-21'\n",
      " '2021-12-22' '2021-12-23' '2021-12-24' '2021-12-25' '2021-12-26'\n",
      " '2021-12-27' '2021-12-28' '2021-12-29' '2021-12-30' '2021-12-31'] \n",
      "\n",
      "\n",
      "TIME has     ['00:00:00' '00:05:00' '00:17:00' ... '04:34:00' '03:09:00' '03:33:00'] \n",
      "\n",
      "\n",
      "Agency Id has     ['GLWDSPGPD' 'CSP' 'WMPD' 'DPD' 'CSPD' 'AURPD' 'GJPD' 'DGOPD' 'RTTSO'\n",
      " 'PUPD' 'LVPD' 'VPD' 'SBTSGPD' 'CMCPD' 'LPD' 'CHVPD' 'LTPD' 'DACOPD' 'NPD'\n",
      " 'BKPD' 'ALPD' 'CRTPZ' 'LFTTPD' 'EVNPD' 'ASO' 'ARVPD' 'FLPD' 'FTMGNPD'\n",
      " 'FTCPD' 'BRPD' 'ASPD' 'FHPD' 'GDNPD' 'JPD' 'DSO' 'BFPD' 'GRYPD' 'LNTRPD'\n",
      " 'LAJTPD' 'CNPD' 'GVPD' 'GNPD' 'WLDSO' 'SVPD' 'WRPD' 'BLDPD' 'ATPD' 'PPD'\n",
      " 'THPD' 'CRPD' 'STPD' 'CBNVPD' 'FDRKPD' 'LMRPD' 'EGLWD PD' 'LDPS' 'MTPD'\n",
      " 'TNTHPD' 'CUSO' 'MMTPD' 'ESO' 'FTTAPD' 'RFLPD' 'BVPD' 'PUSO' 'WDSPD'\n",
      " 'DLLPD' 'SMVLGPD' 'PSO' 'GLPNSO' 'LCBPD' 'MPD' 'EMPREPD' 'TPD' 'DTPD'\n",
      " 'FLWSCPD' 'NCPD' 'LUPD' 'EPPD' 'ERPD' 'LRMSO' 'JKSNSO' 'FRSWNTPPD' 'BPD'\n",
      " 'SDPD' 'FNTN PD' 'BRSPD' 'FRSTPD' 'LKSO' 'GRBYPD' 'BAMO' 'RFPD' nan\n",
      " 'GRNDSO' 'AVPD' 'ISPD' 'GNDLPD' 'PVPD' 'SALPD' 'LDVLPD' 'MTVTAPD' 'MDPD'\n",
      " 'MNTUSPPD' 'YPD' 'CTRPD' 'HPD' 'TRDMO' 'BRLPD' 'BLDSO' 'HTKSSMO' 'FRSPD'\n",
      " 'PGSSPPD' 'EDWPD' 'EGLSO' 'RDWYPD' 'EZTHPD' 'BLPD' 'EGLPD' 'SUPD' 'BHPD'\n",
      " 'SJSO' 'NDLDPD' 'KMMPD' 'CPD' 'HDLSO' 'ORYPD' 'CBPD' 'LCBMO' 'KWSO'\n",
      " 'PLPD' 'MTNVWPD' 'OTHPD' 'IGNCPD' 'EPD' 'UCPDHSC' 'MVPD' 'CDPD' 'HGMO'\n",
      " 'SWKSO' 'PLSDPD' 'LSPD' 'LKSDPD' 'ALSO' 'CNTPD' 'ARAPD' 'PAPD' 'PCPD'\n",
      " 'FWLRPD' 'MFFTSO' 'ADSO' 'RPD' 'WTONSO' 'BDPD' 'GNMTNFLMO' 'MTZMASO'\n",
      " 'UCBPD' 'SVTNPD' 'HYDPD' 'WPPD' 'SNCEPD' 'UCMCPD' 'CRCKPD' 'HXTPD'\n",
      " 'CNJSO' 'MNCSPD' 'MRRSNPD' 'HTKSSPD' 'KYPD' 'SOMPD' 'BNPD' 'HRFNSO'\n",
      " 'OTRSO' 'SMSO' 'FRMTSO' 'SPFLDPD' 'LGLNPD' 'CALPD' 'CDPPWD' 'RGNDSO'\n",
      " 'SSMPD' 'WPD' 'CDPPGRD' 'SFKPD' 'OKCRKPD' 'DINPD' 'BTSO' 'JSO' 'GDNCTPD'\n",
      " 'SPRRPD' 'WGGPD' 'BASO' 'LYNPD' 'LITTLETON' 'CDPPBT' 'CGPD' 'CSUPD'\n",
      " 'MKRPD'] \n",
      "\n",
      "\n",
      "County_FIPS has     [8045 8067 8059 8031 8041 8005 8077 8035 8069 8107 8101 8089 8001 8037\n",
      " 8123 8015 8113 8019 8013 8117 8003 8083 8085 8021 8109 8087 8097 8014\n",
      " 8043 8051 8075 8093 8049 8029 8099 8081 8027 8039 8125 8103 8119 8071\n",
      " 8047 8057 8007 8023 8053 8065 8017 8079 8105 8055 8063 8011 8009 8095\n",
      " 8061 8033 8091 8073 8111 8121 8025 8115] \n",
      "\n",
      "\n",
      "County has     ['GARFIELD' 'LA PLATA' 'JEFFERSON' 'DENVER' 'EL PASO' 'ARAPAHOE' 'MESA'\n",
      " 'DOUGLAS' 'LARIMER' 'ROUTT' 'PUEBLO' 'OTERO' 'ADAMS' 'EAGLE' 'WELD'\n",
      " 'CHAFFEE' 'SAN MIGUEL' 'CLEAR CREEK' 'BOULDER' 'SUMMIT' 'ALAMOSA'\n",
      " 'MONTEZUMA' 'MONTROSE' 'CONEJOS' 'SAGUACHE' 'MORGAN' 'PITKIN'\n",
      " 'BROOMFIELD' 'FREMONT' 'GUNNISON' 'LOGAN' 'PARK' 'GRAND' 'DELTA'\n",
      " 'PROWERS' 'MOFFAT' 'CUSTER' 'ELBERT' 'YUMA' 'RIO BLANCO' 'TELLER'\n",
      " 'LAS ANIMAS' 'GILPIN' 'JACKSON' 'ARCHULETA' 'COSTILLA' 'HINSDALE' 'LAKE'\n",
      " 'CHEYENNE' 'MINERAL' 'RIO GRANDE' 'HUERFANO' 'KIT CARSON' 'BENT' 'BACA'\n",
      " 'PHILLIPS' 'KIOWA' 'DOLORES' 'OURAY' 'LINCOLN' 'SAN JUAN' 'WASHINGTON'\n",
      " 'CROWLEY' 'SEDGWICK'] \n",
      "\n",
      "\n",
      "Latitude has     [39.52549        nan 39.82885  ... 39.60523  39.83014  38.511715] \n",
      "\n",
      "\n",
      "Longitude has     [-107.32253          nan -105.04402  ... -105.91543  -105.21519\n",
      " -107.913465] \n",
      "\n",
      "\n",
      "Location has     ['On Roadway' 'Ran off right side' 'Ran off left side'\n",
      " 'Ran off \"T\" intersection'\n",
      " 'Vehicle crossed center median into opposing lanes'\n",
      " 'Center median/ Island' 'On private property' nan] \n",
      "\n",
      "\n",
      "Road Description has     ['Intersection Related' 'Non-Intersection' 'At Intersection'\n",
      " 'Crossover-Related ' 'Ramp' 'Driveway Access Related' 'Alley Related'\n",
      " 'Parking Lot' 'Ramp-related' 'Roundabout' 'Railroad Crossing Related'\n",
      " 'Express/Managed/HOV Lane' nan 'Shared-Use Path or Trail'\n",
      " 'Auxiliary Lane' 'Mid-Block Crosswalk'] \n",
      "\n",
      "\n",
      "Injury 00 has     [ 5  1  0  2  4  3  7 10  8  6 12  9 15 11 13 14 16 33 17 36] \n",
      "\n",
      "\n",
      "Injury 01 has     [ 0  3  1  2  4  6  5  7  9  8 11 33] \n",
      "\n",
      "\n",
      "Injury 02 has     [0 1 2 4 3 5 7 6 8] \n",
      "\n",
      "\n",
      "Injury 03 has     [0 1 2 7 3 5 4 6] \n",
      "\n",
      "\n",
      "Injury 04 has     [0 1 2 3 5 4] \n",
      "\n",
      "\n",
      "Road Contour Curves has     ['Straight' nan 'Curve Right' 'Curve Left' 'Unknown'] \n",
      "\n",
      "\n",
      "Road Contour Grade has     ['Level' nan 'Uphill' 'Downhill' 'Sag/Bottom' 'Hill Crest' 'Unknown'] \n",
      "\n",
      "\n",
      "TU-1 Age has     [ 18   0  36  33  30  41  32  34  20  60  16  53  25  27  28  29  43  35\n",
      "  22  26  92  55  31  70  17  38  19  48  66  40  24  50  37  23  61  56\n",
      "  68  21  47  52  59  39  78  42  69  71  73  49  46  65  67  75  63  57\n",
      "  54  87  82  51  64  44  62  58  72  15  89  81  83  84  79  80  74  45\n",
      "  86  77  85  90  76  88  91  94  96  14  12  95   7  93  11  97 121  13\n",
      "   5 105] \n",
      "\n",
      "\n",
      "TU-1 Sex  has     ['M' 'F' nan 'U' 'X'] \n",
      "\n",
      "\n",
      "SPEED_1 has     [31.252235 22.786362 19.471245 ... 42.941948 28.71142  21.555956] \n",
      "\n",
      "\n",
      "Road Condition has     ['Snowy' 'Icy' 'Dry' 'Wet' 'Dry W/Visible Icy Road Treatment'\n",
      " 'Wet W/Visible Icy Road Treatment' 'Icy W/Visible Icy Road Treatment'\n",
      " 'Slushy' nan 'Muddy' 'Snowy W/Visible Icy Road Treatment'\n",
      " 'Slushy W/Visible Icy Road Treatment' 'Sand/Gravel' 'Foreign Material'\n",
      " 'Roto-Milled'] \n",
      "\n",
      "\n",
      "Lighting Conditions has     ['Daylight' 'Dark – Unlighted' 'Dark – Lighted' 'Dawn or Dusk' nan] \n",
      "\n",
      "\n",
      "Weather Condition has     ['Snow' 'Clear' 'Sleet or Hail' nan 'Rain' 'Wind' 'Cloudy' 'Fog'\n",
      " 'Blowing Snow' 'Freezing Rain or Freezing Drizzle' 'Dust'] \n",
      "\n",
      "\n",
      "TU-1 Driver Action has     ['Careless Driving ' nan 'Lane Violation' 'Failed to Stop at Signal'\n",
      " 'No Contributing Action' 'Too Fast for Conditions' 'Reckless Driving'\n",
      " 'Turned from Wrong Lane or Position' 'Failed to Yield ROW'\n",
      " 'Improper Turn' 'Over-Correcting/ Over-Steering'\n",
      " 'Disregarded Other Device/Sign/Markings' 'Disregard Stop Sign'\n",
      " 'Followed Too Closely' 'Improper Backing'\n",
      " 'Other Contributing Action (Describe in Narrative)'\n",
      " 'Improper Passing on Right' 'Improper Passing on Left' 'Impeded Traffic'\n",
      " 'Signaling Violation' 'Speeding' 'Racing' 'Lacking Required Chains'] \n",
      "\n",
      "\n",
      "TU-1 Human Contributing Factor has     ['Driver Inexperience' nan 'DUI, DWAI, DUID'\n",
      " 'No Apparent Contributing Factor' 'Distracted/Other Occupant'\n",
      " 'Not Observed' 'Asleep at the wheel' 'Aggressive Driving'\n",
      " 'Asleep or Fatigued' 'Driver Unfamiliar With Area'\n",
      " 'Distracted/Cell Phone' 'Distracted/Other'\n",
      " 'Other Factor (Describe in Narrative)' 'Distracted - Other Interior'\n",
      " 'Medical' 'Looked/Did Not See' 'Distracted/Radio' 'Age/Driver Ability'\n",
      " 'Illness' 'Distracted - Other Exterior' 'Evading Law Enforcement Officer'\n",
      " 'Distracted - Manipulating Electronic Device' 'Physical Disability'\n",
      " 'Distracted - Manipulating Vehicle Control' 'Sun Glare'\n",
      " 'Driver Emotionally Upset' 'Distracted - Eating/Drinking'\n",
      " 'Distracted - Talking on Phone/Holding' 'Distracted - Smoking'\n",
      " 'Distracted - Talking on Phone/ Hands Free'] \n",
      "\n",
      "\n",
      "TU-1 Alcohol Suspected has     [nan 'Yes - Preliminary Breath Test' 'Unknown' 'No - Observed'\n",
      " 'No - Other Method' 'Yes - Other Method' 'Yes - Observed' 'No - SFST'\n",
      " 'Yes - SFST' 'No - Preliminary Breath Test'] \n",
      "\n",
      "\n",
      "TU-1  Marijuana Suspected has     ['Marijuana Not Suspected' nan 'Unknown' 'Marijuana Suspected'] \n",
      "\n",
      "\n"
     ]
    }
   ],
   "source": [
    "for i in colo_21.columns:\n",
    "    print(i,'has    ',colo_21[i].unique(),'\\n\\n')"
   ]
  },
  {
   "cell_type": "code",
   "execution_count": 70,
   "id": "e473c390",
   "metadata": {},
   "outputs": [],
   "source": [
    "colo_21['TU-1 Human Contributing Factor'] = colo_21['TU-1 Human Contributing Factor'].replace('DUI, DWAI, DUID',7)"
   ]
  },
  {
   "cell_type": "code",
   "execution_count": 71,
   "id": "c12e49d2",
   "metadata": {},
   "outputs": [],
   "source": [
    "colo_21['TU-1 Driver Action'] = colo_21['TU-1 Driver Action'].replace({'Careless Driving ':2,\n",
    "'Disregard Stop Sign':5,'Disregarded Other Device/Sign/Markings':5,'Failed to Stop at Signal':5,\n",
    "'Failed to Yield ROW':5,'Followed Too Closely':4,'Impeded Traffic':1,\n",
    "'Improper Backing':6,'Improper Passing on Left':5,'Improper Passing on Right':5,\n",
    "'Improper Turn':8,'Lacking Required Chains':9,'Lane Violation':3,'No Contributing Action':10,\n",
    "'Other Contributing Action (Describe in Narrative)':11,'Over-Correcting/ Over-Steering':2,\n",
    "'Racing':11,'Reckless Driving':1,'Signaling Violation':5,'Speeding':1,\n",
    "'Too Fast for Conditions':1,'Turned from Wrong Lane or Position':3,np.nan:12})"
   ]
  },
  {
   "cell_type": "code",
   "execution_count": 72,
   "id": "d90fb5a9",
   "metadata": {},
   "outputs": [],
   "source": [
    "colo_21['TU-1  Marijuana Suspected']= colo_21['TU-1  Marijuana Suspected'].str.replace('Marijuana Not Suspected','No Marijuana')"
   ]
  },
  {
   "cell_type": "code",
   "execution_count": 73,
   "id": "496b29f6",
   "metadata": {},
   "outputs": [],
   "source": [
    "colo_21['TU-1  Marijuana Suspected'] = colo_21['TU-1  Marijuana Suspected'].str.replace('Marijuana Suspected','Yes Marijuana')"
   ]
  },
  {
   "cell_type": "code",
   "execution_count": 74,
   "id": "1a242f05",
   "metadata": {},
   "outputs": [],
   "source": [
    "colo_21['TU-1 Alcohol Suspected'] = colo_21['TU-1 Alcohol Suspected'].replace({'Yes - Preliminary Breath Test':'Yes Alcohol'\n",
    "                                                                                  ,'No - Observed':'No Alcohol',\n",
    "                                                                                   'No - Other Method':'No Alcohol',\n",
    "                                                                                   'Yes - Other Method':'Yes Alcohol',\n",
    "                                                                                 'Yes - Observed':'Yes Alcohol',\n",
    "                                                                                  'No - SFST':'No Alcohol',\n",
    "                                                                                  'Yes - SFST':'Yes Alcohol',\n",
    "                                                                                  'No - Preliminary Breath Test':'No Alcohol'})"
   ]
  },
  {
   "cell_type": "code",
   "execution_count": 75,
   "id": "c9d22e1e",
   "metadata": {},
   "outputs": [
    {
     "data": {
      "text/plain": [
       "array(['Driver Inexperience', nan, 7, 'No Apparent Contributing Factor',\n",
       "       'Distracted/Other Occupant', 'Not Observed', 'Asleep at the wheel',\n",
       "       'Aggressive Driving', 'Asleep or Fatigued',\n",
       "       'Driver Unfamiliar With Area', 'Distracted/Cell Phone',\n",
       "       'Distracted/Other', 'Other Factor (Describe in Narrative)',\n",
       "       'Distracted - Other Interior', 'Medical', 'Looked/Did Not See',\n",
       "       'Distracted/Radio', 'Age/Driver Ability', 'Illness',\n",
       "       'Distracted - Other Exterior', 'Evading Law Enforcement Officer',\n",
       "       'Distracted - Manipulating Electronic Device',\n",
       "       'Physical Disability', 'Distracted - Manipulating Vehicle Control',\n",
       "       'Sun Glare', 'Driver Emotionally Upset',\n",
       "       'Distracted - Eating/Drinking',\n",
       "       'Distracted - Talking on Phone/Holding', 'Distracted - Smoking',\n",
       "       'Distracted - Talking on Phone/ Hands Free'], dtype=object)"
      ]
     },
     "execution_count": 75,
     "metadata": {},
     "output_type": "execute_result"
    }
   ],
   "source": [
    "colo_21['TU-1 Human Contributing Factor'].unique()"
   ]
  },
  {
   "cell_type": "code",
   "execution_count": 76,
   "id": "eb4e7f21",
   "metadata": {},
   "outputs": [],
   "source": [
    "colo_21.loc[colo_21['TU-1 Human Contributing Factor'] == 7, 'TU-1 Driver Action'] = 7"
   ]
  },
  {
   "cell_type": "code",
   "execution_count": 77,
   "id": "0ecfa82b",
   "metadata": {},
   "outputs": [
    {
     "data": {
      "text/html": [
       "<div>\n",
       "<style scoped>\n",
       "    .dataframe tbody tr th:only-of-type {\n",
       "        vertical-align: middle;\n",
       "    }\n",
       "\n",
       "    .dataframe tbody tr th {\n",
       "        vertical-align: top;\n",
       "    }\n",
       "\n",
       "    .dataframe thead th {\n",
       "        text-align: right;\n",
       "    }\n",
       "</style>\n",
       "<table border=\"1\" class=\"dataframe\">\n",
       "  <thead>\n",
       "    <tr style=\"text-align: right;\">\n",
       "      <th></th>\n",
       "      <th>TU-1 Human Contributing Factor</th>\n",
       "      <th>TU-1 Driver Action</th>\n",
       "    </tr>\n",
       "  </thead>\n",
       "  <tbody>\n",
       "    <tr>\n",
       "      <th>0</th>\n",
       "      <td>Driver Inexperience</td>\n",
       "      <td>2.0</td>\n",
       "    </tr>\n",
       "    <tr>\n",
       "      <th>1</th>\n",
       "      <td>Driver Inexperience</td>\n",
       "      <td>2.0</td>\n",
       "    </tr>\n",
       "    <tr>\n",
       "      <th>2</th>\n",
       "      <td>NaN</td>\n",
       "      <td>12.0</td>\n",
       "    </tr>\n",
       "    <tr>\n",
       "      <th>3</th>\n",
       "      <td>NaN</td>\n",
       "      <td>12.0</td>\n",
       "    </tr>\n",
       "    <tr>\n",
       "      <th>4</th>\n",
       "      <td>NaN</td>\n",
       "      <td>12.0</td>\n",
       "    </tr>\n",
       "    <tr>\n",
       "      <th>...</th>\n",
       "      <td>...</td>\n",
       "      <td>...</td>\n",
       "    </tr>\n",
       "    <tr>\n",
       "      <th>97917</th>\n",
       "      <td>No Apparent Contributing Factor</td>\n",
       "      <td>10.0</td>\n",
       "    </tr>\n",
       "    <tr>\n",
       "      <th>97918</th>\n",
       "      <td>No Apparent Contributing Factor</td>\n",
       "      <td>1.0</td>\n",
       "    </tr>\n",
       "    <tr>\n",
       "      <th>97919</th>\n",
       "      <td>Driver Inexperience</td>\n",
       "      <td>1.0</td>\n",
       "    </tr>\n",
       "    <tr>\n",
       "      <th>97920</th>\n",
       "      <td>NaN</td>\n",
       "      <td>12.0</td>\n",
       "    </tr>\n",
       "    <tr>\n",
       "      <th>97921</th>\n",
       "      <td>NaN</td>\n",
       "      <td>12.0</td>\n",
       "    </tr>\n",
       "  </tbody>\n",
       "</table>\n",
       "<p>97922 rows × 2 columns</p>\n",
       "</div>"
      ],
      "text/plain": [
       "        TU-1 Human Contributing Factor  TU-1 Driver Action\n",
       "0                  Driver Inexperience                 2.0\n",
       "1                  Driver Inexperience                 2.0\n",
       "2                                  NaN                12.0\n",
       "3                                  NaN                12.0\n",
       "4                                  NaN                12.0\n",
       "...                                ...                 ...\n",
       "97917  No Apparent Contributing Factor                10.0\n",
       "97918  No Apparent Contributing Factor                 1.0\n",
       "97919              Driver Inexperience                 1.0\n",
       "97920                              NaN                12.0\n",
       "97921                              NaN                12.0\n",
       "\n",
       "[97922 rows x 2 columns]"
      ]
     },
     "execution_count": 77,
     "metadata": {},
     "output_type": "execute_result"
    }
   ],
   "source": [
    "colo_21[['TU-1 Human Contributing Factor','TU-1 Driver Action']]"
   ]
  },
  {
   "cell_type": "code",
   "execution_count": 78,
   "id": "df4be467",
   "metadata": {},
   "outputs": [
    {
     "data": {
      "text/plain": [
       "array([ 2., 12.,  7., 10.,  1.,  3.,  5.,  8.,  4.,  6., 11.,  9.])"
      ]
     },
     "execution_count": 78,
     "metadata": {},
     "output_type": "execute_result"
    }
   ],
   "source": [
    "colo_21['TU-1 Driver Action'].unique()"
   ]
  },
  {
   "cell_type": "code",
   "execution_count": 79,
   "id": "c76db1cc",
   "metadata": {},
   "outputs": [
    {
     "data": {
      "text/html": [
       "<div>\n",
       "<style scoped>\n",
       "    .dataframe tbody tr th:only-of-type {\n",
       "        vertical-align: middle;\n",
       "    }\n",
       "\n",
       "    .dataframe tbody tr th {\n",
       "        vertical-align: top;\n",
       "    }\n",
       "\n",
       "    .dataframe thead th {\n",
       "        text-align: right;\n",
       "    }\n",
       "</style>\n",
       "<table border=\"1\" class=\"dataframe\">\n",
       "  <thead>\n",
       "    <tr style=\"text-align: right;\">\n",
       "      <th></th>\n",
       "      <th>TU-1 Human Contributing Factor</th>\n",
       "      <th>TU-1 Driver Action</th>\n",
       "    </tr>\n",
       "  </thead>\n",
       "  <tbody>\n",
       "    <tr>\n",
       "      <th>5</th>\n",
       "      <td>7</td>\n",
       "      <td>7.0</td>\n",
       "    </tr>\n",
       "    <tr>\n",
       "      <th>6</th>\n",
       "      <td>7</td>\n",
       "      <td>7.0</td>\n",
       "    </tr>\n",
       "    <tr>\n",
       "      <th>7</th>\n",
       "      <td>7</td>\n",
       "      <td>7.0</td>\n",
       "    </tr>\n",
       "    <tr>\n",
       "      <th>9</th>\n",
       "      <td>7</td>\n",
       "      <td>7.0</td>\n",
       "    </tr>\n",
       "    <tr>\n",
       "      <th>11</th>\n",
       "      <td>7</td>\n",
       "      <td>7.0</td>\n",
       "    </tr>\n",
       "    <tr>\n",
       "      <th>...</th>\n",
       "      <td>...</td>\n",
       "      <td>...</td>\n",
       "    </tr>\n",
       "    <tr>\n",
       "      <th>96171</th>\n",
       "      <td>7</td>\n",
       "      <td>7.0</td>\n",
       "    </tr>\n",
       "    <tr>\n",
       "      <th>96213</th>\n",
       "      <td>7</td>\n",
       "      <td>7.0</td>\n",
       "    </tr>\n",
       "    <tr>\n",
       "      <th>96360</th>\n",
       "      <td>7</td>\n",
       "      <td>7.0</td>\n",
       "    </tr>\n",
       "    <tr>\n",
       "      <th>96525</th>\n",
       "      <td>7</td>\n",
       "      <td>7.0</td>\n",
       "    </tr>\n",
       "    <tr>\n",
       "      <th>96537</th>\n",
       "      <td>7</td>\n",
       "      <td>7.0</td>\n",
       "    </tr>\n",
       "  </tbody>\n",
       "</table>\n",
       "<p>2260 rows × 2 columns</p>\n",
       "</div>"
      ],
      "text/plain": [
       "      TU-1 Human Contributing Factor  TU-1 Driver Action\n",
       "5                                  7                 7.0\n",
       "6                                  7                 7.0\n",
       "7                                  7                 7.0\n",
       "9                                  7                 7.0\n",
       "11                                 7                 7.0\n",
       "...                              ...                 ...\n",
       "96171                              7                 7.0\n",
       "96213                              7                 7.0\n",
       "96360                              7                 7.0\n",
       "96525                              7                 7.0\n",
       "96537                              7                 7.0\n",
       "\n",
       "[2260 rows x 2 columns]"
      ]
     },
     "execution_count": 79,
     "metadata": {},
     "output_type": "execute_result"
    }
   ],
   "source": [
    "colo_21[colo_21['TU-1 Human Contributing Factor'] == 7][['TU-1 Human Contributing Factor','TU-1 Driver Action']]"
   ]
  },
  {
   "cell_type": "code",
   "execution_count": 80,
   "id": "fc0f2c4c",
   "metadata": {},
   "outputs": [
    {
     "data": {
      "text/plain": [
       "Index(['CUID', 'SYSTEM', 'DATE', 'TIME', 'Agency Id', 'County_FIPS', 'County',\n",
       "       'Latitude', 'Longitude', 'Location', 'Road Description', 'Injury 00',\n",
       "       'Injury 01', 'Injury 02', 'Injury 03', 'Injury 04',\n",
       "       'Road Contour Curves', 'Road Contour Grade', 'TU-1 Age', 'TU-1 Sex ',\n",
       "       'SPEED_1', 'Road Condition', 'Lighting Conditions', 'Weather Condition',\n",
       "       'TU-1 Driver Action', 'TU-1 Human Contributing Factor',\n",
       "       'TU-1 Alcohol Suspected', 'TU-1  Marijuana Suspected'],\n",
       "      dtype='object')"
      ]
     },
     "execution_count": 80,
     "metadata": {},
     "output_type": "execute_result"
    }
   ],
   "source": [
    "colo_21.columns"
   ]
  },
  {
   "cell_type": "code",
   "execution_count": 81,
   "id": "b0f2baa2",
   "metadata": {},
   "outputs": [
    {
     "data": {
      "text/plain": [
       "39787"
      ]
     },
     "execution_count": 81,
     "metadata": {},
     "output_type": "execute_result"
    }
   ],
   "source": [
    "colo_21['Road Contour Grade'].isnull().sum()"
   ]
  },
  {
   "cell_type": "code",
   "execution_count": 82,
   "id": "265b6fd4",
   "metadata": {},
   "outputs": [
    {
     "data": {
      "text/plain": [
       "(97922, 28)"
      ]
     },
     "execution_count": 82,
     "metadata": {},
     "output_type": "execute_result"
    }
   ],
   "source": [
    "colo_21.shape"
   ]
  },
  {
   "cell_type": "code",
   "execution_count": 83,
   "id": "fb0d5eff",
   "metadata": {},
   "outputs": [
    {
     "data": {
      "text/plain": [
       "CUID                                  0\n",
       "SYSTEM                                0\n",
       "DATE                                  0\n",
       "TIME                                142\n",
       "Agency Id                            35\n",
       "County_FIPS                           0\n",
       "County                                0\n",
       "Latitude                          24017\n",
       "Longitude                         24017\n",
       "Location                              1\n",
       "Road Description                     31\n",
       "Injury 00                             0\n",
       "Injury 01                             0\n",
       "Injury 02                             0\n",
       "Injury 03                             0\n",
       "Injury 04                             0\n",
       "Road Contour Curves               39886\n",
       "Road Contour Grade                39787\n",
       "TU-1 Age                              0\n",
       "TU-1 Sex                          14008\n",
       "SPEED_1                               0\n",
       "Road Condition                      434\n",
       "Lighting Conditions                 516\n",
       "Weather Condition                   808\n",
       "TU-1 Driver Action                    0\n",
       "TU-1 Human Contributing Factor    12226\n",
       "TU-1 Alcohol Suspected            43846\n",
       "TU-1  Marijuana Suspected         16885\n",
       "dtype: int64"
      ]
     },
     "execution_count": 83,
     "metadata": {},
     "output_type": "execute_result"
    }
   ],
   "source": [
    "colo_21.isnull().sum()"
   ]
  },
  {
   "cell_type": "code",
   "execution_count": 84,
   "id": "479240ce",
   "metadata": {},
   "outputs": [
    {
     "data": {
      "text/plain": [
       "array(['M', 'F', nan, 'U', 'X'], dtype=object)"
      ]
     },
     "execution_count": 84,
     "metadata": {},
     "output_type": "execute_result"
    }
   ],
   "source": [
    "colo_21['TU-1 Sex '].unique()"
   ]
  },
  {
   "cell_type": "code",
   "execution_count": 85,
   "id": "e44bea03",
   "metadata": {},
   "outputs": [],
   "source": [
    "colo_21['TU-1 Sex '] = colo_21['TU-1 Sex '].replace({np.nan:'U','X':'U'})"
   ]
  },
  {
   "cell_type": "code",
   "execution_count": 86,
   "id": "8974bf0d",
   "metadata": {},
   "outputs": [
    {
     "data": {
      "text/plain": [
       "array(['Snowy', 'Icy', 'Dry', 'Wet', 'Dry W/Visible Icy Road Treatment',\n",
       "       'Wet W/Visible Icy Road Treatment',\n",
       "       'Icy W/Visible Icy Road Treatment', 'Slushy', nan, 'Muddy',\n",
       "       'Snowy W/Visible Icy Road Treatment',\n",
       "       'Slushy W/Visible Icy Road Treatment', 'Sand/Gravel',\n",
       "       'Foreign Material', 'Roto-Milled'], dtype=object)"
      ]
     },
     "execution_count": 86,
     "metadata": {},
     "output_type": "execute_result"
    }
   ],
   "source": [
    "colo_21['Road Condition'].unique()"
   ]
  },
  {
   "cell_type": "code",
   "execution_count": 87,
   "id": "9f2ae7cf",
   "metadata": {},
   "outputs": [
    {
     "data": {
      "text/plain": [
       "Dry                                    84974\n",
       "Wet                                     4993\n",
       "Icy                                     3116\n",
       "Snowy                                   2768\n",
       "Slushy                                   606\n",
       "Snowy W/Visible Icy Road Treatment       300\n",
       "Icy W/Visible Icy Road Treatment         188\n",
       "Dry W/Visible Icy Road Treatment         148\n",
       "Muddy                                     97\n",
       "Wet W/Visible Icy Road Treatment          88\n",
       "Sand/Gravel                               87\n",
       "Slushy W/Visible Icy Road Treatment       85\n",
       "Foreign Material                          23\n",
       "Roto-Milled                               15\n",
       "Name: Road Condition, dtype: int64"
      ]
     },
     "execution_count": 87,
     "metadata": {},
     "output_type": "execute_result"
    }
   ],
   "source": [
    "colo_21['Road Condition'].value_counts()"
   ]
  },
  {
   "cell_type": "code",
   "execution_count": 88,
   "id": "c684b8bc",
   "metadata": {},
   "outputs": [],
   "source": [
    "colo_21['Road Condition'] = colo_21['Road Condition'].fillna('Dry')"
   ]
  },
  {
   "cell_type": "code",
   "execution_count": 89,
   "id": "191e2a11",
   "metadata": {},
   "outputs": [
    {
     "data": {
      "text/plain": [
       "array(['Daylight', 'Dark – Unlighted', 'Dark – Lighted', 'Dawn or Dusk',\n",
       "       nan], dtype=object)"
      ]
     },
     "execution_count": 89,
     "metadata": {},
     "output_type": "execute_result"
    }
   ],
   "source": [
    "colo_21['Lighting Conditions'].unique()"
   ]
  },
  {
   "cell_type": "code",
   "execution_count": 90,
   "id": "de9064a1",
   "metadata": {},
   "outputs": [
    {
     "data": {
      "text/plain": [
       "Daylight            66245\n",
       "Dark – Lighted      16688\n",
       "Dark – Unlighted     9825\n",
       "Dawn or Dusk         4648\n",
       "Name: Lighting Conditions, dtype: int64"
      ]
     },
     "execution_count": 90,
     "metadata": {},
     "output_type": "execute_result"
    }
   ],
   "source": [
    "colo_21['Lighting Conditions'].value_counts()"
   ]
  },
  {
   "cell_type": "code",
   "execution_count": 91,
   "id": "ce51de39",
   "metadata": {},
   "outputs": [],
   "source": [
    "colo_21['Lighting Conditions'] = colo_21['Lighting Conditions'].fillna('Daylight')"
   ]
  },
  {
   "cell_type": "code",
   "execution_count": 92,
   "id": "690a6442",
   "metadata": {},
   "outputs": [
    {
     "data": {
      "text/plain": [
       "array(['Snow', 'Clear', 'Sleet or Hail', nan, 'Rain', 'Wind', 'Cloudy',\n",
       "       'Fog', 'Blowing Snow', 'Freezing Rain or Freezing Drizzle', 'Dust'],\n",
       "      dtype=object)"
      ]
     },
     "execution_count": 92,
     "metadata": {},
     "output_type": "execute_result"
    }
   ],
   "source": [
    "colo_21['Weather Condition'].unique()"
   ]
  },
  {
   "cell_type": "code",
   "execution_count": 93,
   "id": "1a64d54d",
   "metadata": {},
   "outputs": [
    {
     "data": {
      "text/plain": [
       "Clear                                83558\n",
       "Cloudy                                4155\n",
       "Sleet or Hail                         3441\n",
       "Rain                                  3207\n",
       "Snow                                  1578\n",
       "Wind                                   740\n",
       "Fog                                    169\n",
       "Blowing Snow                           151\n",
       "Freezing Rain or Freezing Drizzle       85\n",
       "Dust                                    30\n",
       "Name: Weather Condition, dtype: int64"
      ]
     },
     "execution_count": 93,
     "metadata": {},
     "output_type": "execute_result"
    }
   ],
   "source": [
    "colo_21['Weather Condition'].value_counts()"
   ]
  },
  {
   "cell_type": "code",
   "execution_count": 94,
   "id": "5b62d94a",
   "metadata": {},
   "outputs": [],
   "source": [
    "colo_21['Weather Condition'] = colo_21['Weather Condition'].fillna('Clear')"
   ]
  },
  {
   "cell_type": "code",
   "execution_count": null,
   "id": "23cab7b5",
   "metadata": {},
   "outputs": [],
   "source": [
    "colo_21['']"
   ]
  },
  {
   "cell_type": "code",
   "execution_count": 66,
   "id": "db140740",
   "metadata": {},
   "outputs": [],
   "source": [
    "#colo_21 = colo_21.dropna()"
   ]
  },
  {
   "cell_type": "code",
   "execution_count": 30,
   "id": "65dd91be",
   "metadata": {},
   "outputs": [
    {
     "data": {
      "text/plain": [
       "CUID                              0\n",
       "SYSTEM                            0\n",
       "DATE                              0\n",
       "TIME                              0\n",
       "Agency Id                         0\n",
       "County_FIPS                       0\n",
       "County                            0\n",
       "Latitude                          0\n",
       "Longitude                         0\n",
       "Location                          0\n",
       "Road Description                  0\n",
       "Injury 00                         0\n",
       "Injury 01                         0\n",
       "Injury 02                         0\n",
       "Injury 03                         0\n",
       "Injury 04                         0\n",
       "Road Contour Curves               0\n",
       "Road Contour Grade                0\n",
       "TU-1 Age                          0\n",
       "TU-1 Sex                          0\n",
       "SPEED_1                           0\n",
       "Road Condition                    0\n",
       "Lighting Conditions               0\n",
       "Weather Condition                 0\n",
       "TU-1 Driver Action                0\n",
       "TU-1 Human Contributing Factor    0\n",
       "TU-1 Alcohol Suspected            0\n",
       "TU-1  Marijuana Suspected         0\n",
       "dtype: int64"
      ]
     },
     "execution_count": 30,
     "metadata": {},
     "output_type": "execute_result"
    }
   ],
   "source": [
    "colo_21.isnull().sum()"
   ]
  },
  {
   "cell_type": "code",
   "execution_count": 31,
   "id": "5d361dbd",
   "metadata": {},
   "outputs": [
    {
     "data": {
      "text/html": [
       "<div>\n",
       "<style scoped>\n",
       "    .dataframe tbody tr th:only-of-type {\n",
       "        vertical-align: middle;\n",
       "    }\n",
       "\n",
       "    .dataframe tbody tr th {\n",
       "        vertical-align: top;\n",
       "    }\n",
       "\n",
       "    .dataframe thead th {\n",
       "        text-align: right;\n",
       "    }\n",
       "</style>\n",
       "<table border=\"1\" class=\"dataframe\">\n",
       "  <thead>\n",
       "    <tr style=\"text-align: right;\">\n",
       "      <th></th>\n",
       "      <th>CUID</th>\n",
       "      <th>SYSTEM</th>\n",
       "      <th>DATE</th>\n",
       "      <th>TIME</th>\n",
       "      <th>Agency Id</th>\n",
       "      <th>County_FIPS</th>\n",
       "      <th>County</th>\n",
       "      <th>Latitude</th>\n",
       "      <th>Longitude</th>\n",
       "      <th>Location</th>\n",
       "      <th>...</th>\n",
       "      <th>TU-1 Age</th>\n",
       "      <th>TU-1 Sex</th>\n",
       "      <th>SPEED_1</th>\n",
       "      <th>Road Condition</th>\n",
       "      <th>Lighting Conditions</th>\n",
       "      <th>Weather Condition</th>\n",
       "      <th>TU-1 Driver Action</th>\n",
       "      <th>TU-1 Human Contributing Factor</th>\n",
       "      <th>TU-1 Alcohol Suspected</th>\n",
       "      <th>TU-1  Marijuana Suspected</th>\n",
       "    </tr>\n",
       "  </thead>\n",
       "  <tbody>\n",
       "    <tr>\n",
       "      <th>19</th>\n",
       "      <td>98872</td>\n",
       "      <td>State Highway</td>\n",
       "      <td>2021-01-01</td>\n",
       "      <td>02:10:00</td>\n",
       "      <td>LVPD</td>\n",
       "      <td>8069</td>\n",
       "      <td>LARIMER</td>\n",
       "      <td>40.407250</td>\n",
       "      <td>-105.127770</td>\n",
       "      <td>On Roadway</td>\n",
       "      <td>...</td>\n",
       "      <td>60</td>\n",
       "      <td>F</td>\n",
       "      <td>22.213700</td>\n",
       "      <td>Dry</td>\n",
       "      <td>Dark – Lighted</td>\n",
       "      <td>Clear</td>\n",
       "      <td>10.0</td>\n",
       "      <td>No Apparent Contributing Factor</td>\n",
       "      <td>No Alcohol</td>\n",
       "      <td>No Marijuana</td>\n",
       "    </tr>\n",
       "    <tr>\n",
       "      <th>68</th>\n",
       "      <td>55556</td>\n",
       "      <td>State Highway</td>\n",
       "      <td>2021-01-01</td>\n",
       "      <td>11:09:00</td>\n",
       "      <td>ALPD</td>\n",
       "      <td>8003</td>\n",
       "      <td>ALAMOSA</td>\n",
       "      <td>37.001738</td>\n",
       "      <td>-109.032669</td>\n",
       "      <td>On Roadway</td>\n",
       "      <td>...</td>\n",
       "      <td>34</td>\n",
       "      <td>F</td>\n",
       "      <td>53.811726</td>\n",
       "      <td>Dry</td>\n",
       "      <td>Daylight</td>\n",
       "      <td>Clear</td>\n",
       "      <td>10.0</td>\n",
       "      <td>No Apparent Contributing Factor</td>\n",
       "      <td>No Alcohol</td>\n",
       "      <td>No Marijuana</td>\n",
       "    </tr>\n",
       "    <tr>\n",
       "      <th>74</th>\n",
       "      <td>56258</td>\n",
       "      <td>State Highway</td>\n",
       "      <td>2021-01-01</td>\n",
       "      <td>12:09:00</td>\n",
       "      <td>CRTPZ</td>\n",
       "      <td>8083</td>\n",
       "      <td>MONTEZUMA</td>\n",
       "      <td>37.349250</td>\n",
       "      <td>-108.557715</td>\n",
       "      <td>Center median/ Island</td>\n",
       "      <td>...</td>\n",
       "      <td>31</td>\n",
       "      <td>F</td>\n",
       "      <td>39.770954</td>\n",
       "      <td>Dry</td>\n",
       "      <td>Daylight</td>\n",
       "      <td>Clear</td>\n",
       "      <td>2.0</td>\n",
       "      <td>No Apparent Contributing Factor</td>\n",
       "      <td>No Alcohol</td>\n",
       "      <td>No Marijuana</td>\n",
       "    </tr>\n",
       "    <tr>\n",
       "      <th>98</th>\n",
       "      <td>56377</td>\n",
       "      <td>City Street</td>\n",
       "      <td>2021-01-01</td>\n",
       "      <td>15:00:00</td>\n",
       "      <td>FTCPD</td>\n",
       "      <td>8069</td>\n",
       "      <td>LARIMER</td>\n",
       "      <td>40.537920</td>\n",
       "      <td>-105.053480</td>\n",
       "      <td>On Roadway</td>\n",
       "      <td>...</td>\n",
       "      <td>0</td>\n",
       "      <td>M</td>\n",
       "      <td>5.098802</td>\n",
       "      <td>Dry</td>\n",
       "      <td>Daylight</td>\n",
       "      <td>Clear</td>\n",
       "      <td>3.0</td>\n",
       "      <td>Looked/Did Not See</td>\n",
       "      <td>No Alcohol</td>\n",
       "      <td>No Marijuana</td>\n",
       "    </tr>\n",
       "    <tr>\n",
       "      <th>170</th>\n",
       "      <td>55817</td>\n",
       "      <td>City Street</td>\n",
       "      <td>2021-01-02</td>\n",
       "      <td>01:55:00</td>\n",
       "      <td>FTCPD</td>\n",
       "      <td>8069</td>\n",
       "      <td>LARIMER</td>\n",
       "      <td>40.485190</td>\n",
       "      <td>-105.115700</td>\n",
       "      <td>On Roadway</td>\n",
       "      <td>...</td>\n",
       "      <td>22</td>\n",
       "      <td>M</td>\n",
       "      <td>26.188360</td>\n",
       "      <td>Dry</td>\n",
       "      <td>Dark – Unlighted</td>\n",
       "      <td>Rain</td>\n",
       "      <td>10.0</td>\n",
       "      <td>No Apparent Contributing Factor</td>\n",
       "      <td>No Alcohol</td>\n",
       "      <td>No Marijuana</td>\n",
       "    </tr>\n",
       "    <tr>\n",
       "      <th>...</th>\n",
       "      <td>...</td>\n",
       "      <td>...</td>\n",
       "      <td>...</td>\n",
       "      <td>...</td>\n",
       "      <td>...</td>\n",
       "      <td>...</td>\n",
       "      <td>...</td>\n",
       "      <td>...</td>\n",
       "      <td>...</td>\n",
       "      <td>...</td>\n",
       "      <td>...</td>\n",
       "      <td>...</td>\n",
       "      <td>...</td>\n",
       "      <td>...</td>\n",
       "      <td>...</td>\n",
       "      <td>...</td>\n",
       "      <td>...</td>\n",
       "      <td>...</td>\n",
       "      <td>...</td>\n",
       "      <td>...</td>\n",
       "      <td>...</td>\n",
       "    </tr>\n",
       "    <tr>\n",
       "      <th>97914</th>\n",
       "      <td>195989</td>\n",
       "      <td>State Highway</td>\n",
       "      <td>2021-12-31</td>\n",
       "      <td>23:22:00</td>\n",
       "      <td>LFTTPD</td>\n",
       "      <td>8013</td>\n",
       "      <td>BOULDER</td>\n",
       "      <td>39.972348</td>\n",
       "      <td>-105.090089</td>\n",
       "      <td>On Roadway</td>\n",
       "      <td>...</td>\n",
       "      <td>23</td>\n",
       "      <td>M</td>\n",
       "      <td>31.848524</td>\n",
       "      <td>Icy</td>\n",
       "      <td>Dark – Lighted</td>\n",
       "      <td>Snow</td>\n",
       "      <td>2.0</td>\n",
       "      <td>Not Observed</td>\n",
       "      <td>No Alcohol</td>\n",
       "      <td>No Marijuana</td>\n",
       "    </tr>\n",
       "    <tr>\n",
       "      <th>97915</th>\n",
       "      <td>194915</td>\n",
       "      <td>County Road</td>\n",
       "      <td>2021-12-31</td>\n",
       "      <td>23:23:00</td>\n",
       "      <td>CSP</td>\n",
       "      <td>8117</td>\n",
       "      <td>SUMMIT</td>\n",
       "      <td>39.605230</td>\n",
       "      <td>-105.915430</td>\n",
       "      <td>Ran off right side</td>\n",
       "      <td>...</td>\n",
       "      <td>45</td>\n",
       "      <td>M</td>\n",
       "      <td>18.613977</td>\n",
       "      <td>Icy</td>\n",
       "      <td>Dark – Unlighted</td>\n",
       "      <td>Snow</td>\n",
       "      <td>1.0</td>\n",
       "      <td>Aggressive Driving</td>\n",
       "      <td>No Alcohol</td>\n",
       "      <td>No Marijuana</td>\n",
       "    </tr>\n",
       "    <tr>\n",
       "      <th>97916</th>\n",
       "      <td>186227</td>\n",
       "      <td>Interstate Highway</td>\n",
       "      <td>2021-12-31</td>\n",
       "      <td>23:39:00</td>\n",
       "      <td>CSP</td>\n",
       "      <td>8059</td>\n",
       "      <td>JEFFERSON</td>\n",
       "      <td>39.695930</td>\n",
       "      <td>-105.215190</td>\n",
       "      <td>On Roadway</td>\n",
       "      <td>...</td>\n",
       "      <td>48</td>\n",
       "      <td>M</td>\n",
       "      <td>43.765010</td>\n",
       "      <td>Snowy W/Visible Icy Road Treatment</td>\n",
       "      <td>Dark – Unlighted</td>\n",
       "      <td>Snow</td>\n",
       "      <td>1.0</td>\n",
       "      <td>Aggressive Driving</td>\n",
       "      <td>No Alcohol</td>\n",
       "      <td>No Marijuana</td>\n",
       "    </tr>\n",
       "    <tr>\n",
       "      <th>97917</th>\n",
       "      <td>202169</td>\n",
       "      <td>State Highway</td>\n",
       "      <td>2021-12-31</td>\n",
       "      <td>23:41:00</td>\n",
       "      <td>GRYPD</td>\n",
       "      <td>8123</td>\n",
       "      <td>WELD</td>\n",
       "      <td>40.422650</td>\n",
       "      <td>-104.735120</td>\n",
       "      <td>Ran off right side</td>\n",
       "      <td>...</td>\n",
       "      <td>0</td>\n",
       "      <td>U</td>\n",
       "      <td>37.526500</td>\n",
       "      <td>Snowy</td>\n",
       "      <td>Dark – Lighted</td>\n",
       "      <td>Snow</td>\n",
       "      <td>10.0</td>\n",
       "      <td>No Apparent Contributing Factor</td>\n",
       "      <td>No Alcohol</td>\n",
       "      <td>Unknown</td>\n",
       "    </tr>\n",
       "    <tr>\n",
       "      <th>97918</th>\n",
       "      <td>306288</td>\n",
       "      <td>State Highway</td>\n",
       "      <td>2021-12-31</td>\n",
       "      <td>23:43:00</td>\n",
       "      <td>CSP</td>\n",
       "      <td>8001</td>\n",
       "      <td>ADAMS</td>\n",
       "      <td>39.830140</td>\n",
       "      <td>-105.006000</td>\n",
       "      <td>Ran off right side</td>\n",
       "      <td>...</td>\n",
       "      <td>66</td>\n",
       "      <td>M</td>\n",
       "      <td>29.804752</td>\n",
       "      <td>Icy</td>\n",
       "      <td>Dark – Lighted</td>\n",
       "      <td>Snow</td>\n",
       "      <td>1.0</td>\n",
       "      <td>No Apparent Contributing Factor</td>\n",
       "      <td>No Alcohol</td>\n",
       "      <td>No Marijuana</td>\n",
       "    </tr>\n",
       "  </tbody>\n",
       "</table>\n",
       "<p>34589 rows × 28 columns</p>\n",
       "</div>"
      ],
      "text/plain": [
       "         CUID              SYSTEM        DATE      TIME Agency Id  \\\n",
       "19      98872       State Highway  2021-01-01  02:10:00      LVPD   \n",
       "68      55556       State Highway  2021-01-01  11:09:00      ALPD   \n",
       "74      56258       State Highway  2021-01-01  12:09:00     CRTPZ   \n",
       "98      56377         City Street  2021-01-01  15:00:00     FTCPD   \n",
       "170     55817         City Street  2021-01-02  01:55:00     FTCPD   \n",
       "...       ...                 ...         ...       ...       ...   \n",
       "97914  195989       State Highway  2021-12-31  23:22:00    LFTTPD   \n",
       "97915  194915         County Road  2021-12-31  23:23:00       CSP   \n",
       "97916  186227  Interstate Highway  2021-12-31  23:39:00       CSP   \n",
       "97917  202169       State Highway  2021-12-31  23:41:00     GRYPD   \n",
       "97918  306288       State Highway  2021-12-31  23:43:00       CSP   \n",
       "\n",
       "       County_FIPS     County   Latitude   Longitude               Location  \\\n",
       "19            8069    LARIMER  40.407250 -105.127770             On Roadway   \n",
       "68            8003    ALAMOSA  37.001738 -109.032669             On Roadway   \n",
       "74            8083  MONTEZUMA  37.349250 -108.557715  Center median/ Island   \n",
       "98            8069    LARIMER  40.537920 -105.053480             On Roadway   \n",
       "170           8069    LARIMER  40.485190 -105.115700             On Roadway   \n",
       "...            ...        ...        ...         ...                    ...   \n",
       "97914         8013    BOULDER  39.972348 -105.090089             On Roadway   \n",
       "97915         8117     SUMMIT  39.605230 -105.915430     Ran off right side   \n",
       "97916         8059  JEFFERSON  39.695930 -105.215190             On Roadway   \n",
       "97917         8123       WELD  40.422650 -104.735120     Ran off right side   \n",
       "97918         8001      ADAMS  39.830140 -105.006000     Ran off right side   \n",
       "\n",
       "       ... TU-1 Age  TU-1 Sex     SPEED_1                      Road Condition  \\\n",
       "19     ...       60          F  22.213700                                 Dry   \n",
       "68     ...       34          F  53.811726                                 Dry   \n",
       "74     ...       31          F  39.770954                                 Dry   \n",
       "98     ...        0          M   5.098802                                 Dry   \n",
       "170    ...       22          M  26.188360                                 Dry   \n",
       "...    ...      ...        ...        ...                                 ...   \n",
       "97914  ...       23          M  31.848524                                 Icy   \n",
       "97915  ...       45          M  18.613977                                 Icy   \n",
       "97916  ...       48          M  43.765010  Snowy W/Visible Icy Road Treatment   \n",
       "97917  ...        0          U  37.526500                               Snowy   \n",
       "97918  ...       66          M  29.804752                                 Icy   \n",
       "\n",
       "       Lighting Conditions  Weather Condition TU-1 Driver Action  \\\n",
       "19          Dark – Lighted              Clear               10.0   \n",
       "68                Daylight              Clear               10.0   \n",
       "74                Daylight              Clear                2.0   \n",
       "98                Daylight              Clear                3.0   \n",
       "170       Dark – Unlighted               Rain               10.0   \n",
       "...                    ...                ...                ...   \n",
       "97914       Dark – Lighted               Snow                2.0   \n",
       "97915     Dark – Unlighted               Snow                1.0   \n",
       "97916     Dark – Unlighted               Snow                1.0   \n",
       "97917       Dark – Lighted               Snow               10.0   \n",
       "97918       Dark – Lighted               Snow                1.0   \n",
       "\n",
       "        TU-1 Human Contributing Factor  TU-1 Alcohol Suspected  \\\n",
       "19     No Apparent Contributing Factor              No Alcohol   \n",
       "68     No Apparent Contributing Factor              No Alcohol   \n",
       "74     No Apparent Contributing Factor              No Alcohol   \n",
       "98                  Looked/Did Not See              No Alcohol   \n",
       "170    No Apparent Contributing Factor              No Alcohol   \n",
       "...                                ...                     ...   \n",
       "97914                     Not Observed              No Alcohol   \n",
       "97915               Aggressive Driving              No Alcohol   \n",
       "97916               Aggressive Driving              No Alcohol   \n",
       "97917  No Apparent Contributing Factor              No Alcohol   \n",
       "97918  No Apparent Contributing Factor              No Alcohol   \n",
       "\n",
       "      TU-1  Marijuana Suspected  \n",
       "19                 No Marijuana  \n",
       "68                 No Marijuana  \n",
       "74                 No Marijuana  \n",
       "98                 No Marijuana  \n",
       "170                No Marijuana  \n",
       "...                         ...  \n",
       "97914              No Marijuana  \n",
       "97915              No Marijuana  \n",
       "97916              No Marijuana  \n",
       "97917                   Unknown  \n",
       "97918              No Marijuana  \n",
       "\n",
       "[34589 rows x 28 columns]"
      ]
     },
     "execution_count": 31,
     "metadata": {},
     "output_type": "execute_result"
    }
   ],
   "source": [
    "colo_21"
   ]
  },
  {
   "cell_type": "code",
   "execution_count": 32,
   "id": "0fc5a4a8",
   "metadata": {},
   "outputs": [
    {
     "data": {
      "text/html": [
       "<div>\n",
       "<style scoped>\n",
       "    .dataframe tbody tr th:only-of-type {\n",
       "        vertical-align: middle;\n",
       "    }\n",
       "\n",
       "    .dataframe tbody tr th {\n",
       "        vertical-align: top;\n",
       "    }\n",
       "\n",
       "    .dataframe thead th {\n",
       "        text-align: right;\n",
       "    }\n",
       "</style>\n",
       "<table border=\"1\" class=\"dataframe\">\n",
       "  <thead>\n",
       "    <tr style=\"text-align: right;\">\n",
       "      <th></th>\n",
       "      <th>Road Contour Curves</th>\n",
       "      <th>Road Contour Grade</th>\n",
       "    </tr>\n",
       "  </thead>\n",
       "  <tbody>\n",
       "    <tr>\n",
       "      <th>19</th>\n",
       "      <td>Straight</td>\n",
       "      <td>Level</td>\n",
       "    </tr>\n",
       "    <tr>\n",
       "      <th>68</th>\n",
       "      <td>Straight</td>\n",
       "      <td>Level</td>\n",
       "    </tr>\n",
       "    <tr>\n",
       "      <th>74</th>\n",
       "      <td>Straight</td>\n",
       "      <td>Level</td>\n",
       "    </tr>\n",
       "    <tr>\n",
       "      <th>98</th>\n",
       "      <td>Straight</td>\n",
       "      <td>Level</td>\n",
       "    </tr>\n",
       "    <tr>\n",
       "      <th>170</th>\n",
       "      <td>Straight</td>\n",
       "      <td>Downhill</td>\n",
       "    </tr>\n",
       "    <tr>\n",
       "      <th>...</th>\n",
       "      <td>...</td>\n",
       "      <td>...</td>\n",
       "    </tr>\n",
       "    <tr>\n",
       "      <th>97914</th>\n",
       "      <td>Straight</td>\n",
       "      <td>Level</td>\n",
       "    </tr>\n",
       "    <tr>\n",
       "      <th>97915</th>\n",
       "      <td>Curve Left</td>\n",
       "      <td>Level</td>\n",
       "    </tr>\n",
       "    <tr>\n",
       "      <th>97916</th>\n",
       "      <td>Curve Right</td>\n",
       "      <td>Downhill</td>\n",
       "    </tr>\n",
       "    <tr>\n",
       "      <th>97917</th>\n",
       "      <td>Straight</td>\n",
       "      <td>Level</td>\n",
       "    </tr>\n",
       "    <tr>\n",
       "      <th>97918</th>\n",
       "      <td>Straight</td>\n",
       "      <td>Uphill</td>\n",
       "    </tr>\n",
       "  </tbody>\n",
       "</table>\n",
       "<p>34589 rows × 2 columns</p>\n",
       "</div>"
      ],
      "text/plain": [
       "      Road Contour Curves Road Contour Grade\n",
       "19               Straight              Level\n",
       "68               Straight              Level\n",
       "74               Straight              Level\n",
       "98               Straight              Level\n",
       "170              Straight           Downhill\n",
       "...                   ...                ...\n",
       "97914            Straight              Level\n",
       "97915          Curve Left              Level\n",
       "97916         Curve Right           Downhill\n",
       "97917            Straight              Level\n",
       "97918            Straight             Uphill\n",
       "\n",
       "[34589 rows x 2 columns]"
      ]
     },
     "execution_count": 32,
     "metadata": {},
     "output_type": "execute_result"
    }
   ],
   "source": [
    "colo_21[['Road Contour Curves','Road Contour Grade']]"
   ]
  },
  {
   "cell_type": "code",
   "execution_count": 33,
   "id": "037f6299",
   "metadata": {},
   "outputs": [
    {
     "data": {
      "text/plain": [
       "array(['Straight', 'Curve Left', 'Curve Right', 'Unknown'], dtype=object)"
      ]
     },
     "execution_count": 33,
     "metadata": {},
     "output_type": "execute_result"
    }
   ],
   "source": [
    "colo_21['Road Contour Curves'].unique()"
   ]
  },
  {
   "cell_type": "code",
   "execution_count": 34,
   "id": "b8cd0424",
   "metadata": {},
   "outputs": [
    {
     "data": {
      "text/plain": [
       "array(['Level', 'Downhill', 'Uphill', 'Unknown', 'Hill Crest',\n",
       "       'Sag/Bottom'], dtype=object)"
      ]
     },
     "execution_count": 34,
     "metadata": {},
     "output_type": "execute_result"
    }
   ],
   "source": [
    "colo_21['Road Contour Grade'].unique()"
   ]
  },
  {
   "cell_type": "code",
   "execution_count": 35,
   "id": "6b230b59",
   "metadata": {},
   "outputs": [],
   "source": [
    "colo_21['Road Contour'] = colo_21['Road Contour Curves'] + colo_21['Road Contour Grade']"
   ]
  },
  {
   "cell_type": "code",
   "execution_count": 36,
   "id": "9d4a671d",
   "metadata": {},
   "outputs": [
    {
     "data": {
      "text/plain": [
       "19             StraightLevel\n",
       "68             StraightLevel\n",
       "74             StraightLevel\n",
       "98             StraightLevel\n",
       "170         StraightDownhill\n",
       "                ...         \n",
       "97914          StraightLevel\n",
       "97915        Curve LeftLevel\n",
       "97916    Curve RightDownhill\n",
       "97917          StraightLevel\n",
       "97918         StraightUphill\n",
       "Name: Road Contour, Length: 34589, dtype: object"
      ]
     },
     "execution_count": 36,
     "metadata": {},
     "output_type": "execute_result"
    }
   ],
   "source": [
    "colo_21['Road Contour']"
   ]
  },
  {
   "cell_type": "code",
   "execution_count": 37,
   "id": "e7e82eb3",
   "metadata": {},
   "outputs": [
    {
     "data": {
      "text/plain": [
       "array(['StraightLevel', 'StraightDownhill', 'StraightUphill',\n",
       "       'Curve LeftLevel', 'Curve LeftUphill', 'Curve LeftDownhill',\n",
       "       'Curve RightUphill', 'Curve RightLevel', 'Curve RightDownhill',\n",
       "       'StraightUnknown', 'StraightHill Crest', 'UnknownLevel',\n",
       "       'Curve RightUnknown', 'Curve RightSag/Bottom',\n",
       "       'Curve LeftHill Crest', 'StraightSag/Bottom', 'UnknownUnknown',\n",
       "       'UnknownDownhill', 'Curve LeftSag/Bottom', 'Curve RightHill Crest',\n",
       "       'Curve LeftUnknown', 'UnknownUphill', 'UnknownHill Crest'],\n",
       "      dtype=object)"
      ]
     },
     "execution_count": 37,
     "metadata": {},
     "output_type": "execute_result"
    }
   ],
   "source": [
    "colo_21['Road Contour'].unique()"
   ]
  },
  {
   "cell_type": "code",
   "execution_count": 38,
   "id": "b574540b",
   "metadata": {},
   "outputs": [],
   "source": [
    "#colo_21.to_csv('colo_21_recode_1.csv',index= False)"
   ]
  },
  {
   "cell_type": "code",
   "execution_count": 39,
   "id": "fd0bf7b9",
   "metadata": {},
   "outputs": [
    {
     "data": {
      "text/plain": [
       "array([10.,  2.,  3.,  4.,  6.,  5.,  1., 11.,  8., 12.,  9.])"
      ]
     },
     "execution_count": 39,
     "metadata": {},
     "output_type": "execute_result"
    }
   ],
   "source": [
    "colo_21['TU-1 Driver Action'].unique()"
   ]
  },
  {
   "cell_type": "code",
   "execution_count": null,
   "id": "db7db90d",
   "metadata": {},
   "outputs": [],
   "source": []
  }
 ],
 "metadata": {
  "kernelspec": {
   "display_name": "Python 3 (ipykernel)",
   "language": "python",
   "name": "python3"
  },
  "language_info": {
   "codemirror_mode": {
    "name": "ipython",
    "version": 3
   },
   "file_extension": ".py",
   "mimetype": "text/x-python",
   "name": "python",
   "nbconvert_exporter": "python",
   "pygments_lexer": "ipython3",
   "version": "3.11.4"
  }
 },
 "nbformat": 4,
 "nbformat_minor": 5
}
