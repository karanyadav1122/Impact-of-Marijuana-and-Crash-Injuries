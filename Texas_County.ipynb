{
 "cells": [
  {
   "cell_type": "code",
   "execution_count": 36,
   "id": "9ff60be4",
   "metadata": {},
   "outputs": [],
   "source": [
    "import numpy as np\n",
    "import pandas as pd"
   ]
  },
  {
   "cell_type": "code",
   "execution_count": 37,
   "id": "06a629d1",
   "metadata": {},
   "outputs": [],
   "source": [
    "texas = pd.read_csv('C:/Users/karan/texas_county_year.csv')"
   ]
  },
  {
   "cell_type": "code",
   "execution_count": 38,
   "id": "a32d317c",
   "metadata": {},
   "outputs": [],
   "source": [
    "texas['STATE'] = 'Texas'"
   ]
  },
  {
   "cell_type": "code",
   "execution_count": 39,
   "id": "875dc0a5",
   "metadata": {},
   "outputs": [
    {
     "name": "stdout",
     "output_type": "stream",
     "text": [
      "Crash_ID\n",
      "AGE\n",
      "GENDER\n",
      "COUNTY_FIPS\n",
      "COUNTY\n",
      "INTERSECTION\n",
      "WEATHER\n",
      "LIGHTING\n",
      "SURFACE\n",
      "HUMAN_FACTOR\n",
      "ROAD_CLASS\n",
      "MEDIANWIDTH\n",
      "LANES\n",
      "ROADWIDTH\n",
      "AADT\n",
      "INJURY_OUTCOME\n",
      "INJURY_COUNT\n",
      "INTOXICATION\n",
      "BUFF_DIST\n",
      "ORIG_FID\n",
      "Shape_Length\n",
      "Shape_Area\n",
      "AGE_BAND\n",
      "AGE 1-21\n",
      "AGE 22-30\n",
      "AGE 31-65\n",
      "AGE 66 and above\n",
      "Unknown Age\n",
      "GENDER_DESC\n",
      "FEMALE\n",
      "MALE\n",
      "UNKNOWN_GENDER\n",
      "INTERSECTION_DESC\n",
      "NO_INTERSECTION\n",
      "YES_INTERSECTION\n",
      "WEATHER_DESC\n",
      "BLOWING SAND/SNOW\n",
      "CLEAR\n",
      "CLOUDY\n",
      "FOG\n",
      "OTHER_WEATHER\n",
      "RAIN\n",
      "SEVERE CROSSWINDS\n",
      "SLEET/HAIL\n",
      "SNOW_WEATHER\n",
      "UNKNOWN_WEATHER\n",
      "LIGHTING_DESC\n",
      "DARK-LIGHTED\n",
      "DARK-NOT LIGHTED\n",
      "DARK-UNKNOWN LIGHTING\n",
      "DAWN\n",
      "DAYLIGHT\n",
      "DUSK\n",
      "OTHER_LIGHT\n",
      "UNKNOWN_LIGHT\n",
      "SURF_DESC\n",
      "DIRT\n",
      "DRY\n",
      "ICE\n",
      "OTHER_SURF\n",
      "SLUSH\n",
      "SNOW_SURF\n",
      "STANDING_WATER\n",
      "UNKNOWN_SURF\n",
      "WET\n",
      "HUMAN_FACTOR_DESC\n",
      "IMPAIRMENT\n",
      "INATTENTION\n",
      "KNOWN_HUMAN_FACTOR\n",
      "LANE_CHNG\n",
      "NO_FAULT\n",
      "SPEEDING\n",
      "TAILGATING\n",
      "TECH_PARK\n",
      "TURNING\n",
      "UNKNOWN_HUMAN_FACTOR\n",
      "UNSAFE_BACKING\n",
      "VIOLATION\n",
      "ROAD_TYPE_DESC\n",
      "CITY STREET\n",
      "COUNTY ROAD\n",
      "FARM TO MARKET\n",
      "INTERSTATE\n",
      "OTHER ROADS\n",
      "TOLL BRIDGES\n",
      "TOLLWAY\n",
      "US & STATE HIGHWAY\n",
      "INJURY_DESC\n",
      "NO_INJURY\n",
      "YES_INJURY\n",
      "INTOXICATION_DESC\n",
      "ALCOHOL\n",
      "ALCOHOL, DRUG\n",
      "DRUG\n",
      "MARIJUANA\n",
      "MEDICINAL\n",
      "NO INTOXICATION\n",
      "INJURY_COUNT_SUM\n",
      "YEAR_CAT\n",
      "YEAR_2019\n",
      "YEAR_2020\n",
      "YEAR_2021\n",
      "STATE\n"
     ]
    }
   ],
   "source": [
    "for i in texas.columns:\n",
    "    print(i)"
   ]
  },
  {
   "cell_type": "code",
   "execution_count": 5,
   "id": "561d063a",
   "metadata": {},
   "outputs": [],
   "source": [
    "colo = pd.read_csv('C:/Users/karan/colorado_county_year.csv')"
   ]
  },
  {
   "cell_type": "code",
   "execution_count": 8,
   "id": "069a96db",
   "metadata": {},
   "outputs": [
    {
     "name": "stdout",
     "output_type": "stream",
     "text": [
      "ROAD_CLASS\n",
      "INTERSECTION\n",
      "CONTOUR\n",
      "SURFACE\n",
      "LIGHTING\n",
      "WEATHER\n",
      "HUMAN_FACTOR\n",
      "INTOXICATION\n",
      "AGE\n",
      "GENDER\n",
      "COUNTY_FIPS\n",
      "COUNTY\n",
      "INJURY_COUNT\n",
      "INJURY_OUTCOME\n",
      "Crash_ID\n",
      "BUFF_DIST\n",
      "ORIG_FID\n",
      "Shape_Length\n",
      "Shape_Area\n",
      "WEATHER_DESC\n",
      "BLOWING SAND/SNOW\n",
      "CLEAR\n",
      "CLOUDY\n",
      "FOG\n",
      "OTHER_WEATHER\n",
      "RAIN\n",
      "SEVERE CROSSWINDS\n",
      "SLEET/HAIL\n",
      "SNOW_WEATHER\n",
      "LIGHTING_DESC\n",
      "DARK-LIGHTED\n",
      "DARK-NOT LIGHTED\n",
      "DAWN\n",
      "DAYLIGHT\n",
      "DUSK\n",
      "SURF_DESC\n",
      "DIRT\n",
      "DRY\n",
      "ICE\n",
      "SLUSH\n",
      "SNOW_SURF\n",
      "UNKNOWN_SURF\n",
      "WET\n",
      "INTOXICATION_DESC\n",
      "ALCOHOL\n",
      "ALCOHOL, DRUG\n",
      "DRUG\n",
      "MEDICINAL\n",
      "MARIJUANA\n",
      "NO INTOXICATION\n",
      "INTERSECTION_DESC\n",
      "NO_INTERSECTION\n",
      "YES_INTERSECTION\n",
      "ROAD_TYPE_DESC\n",
      "CITY STREET\n",
      "COUNTY ROAD\n",
      "INTERSTATE\n",
      "OTHER ROADS\n",
      "US & STATE HIGHWAY\n",
      "HUMAN_FACTOR_DESC\n",
      "IMPAIRMENT\n",
      "INATTENTION\n",
      "KNOWN_HUMAN_FACTOR\n",
      "LANE_CHNG\n",
      "NO_FAULT\n",
      "SPEEDING\n",
      "TAILGATING\n",
      "TECH_PARK\n",
      "TURNING\n",
      "UNKNOWN_HUMAN_FACTOR\n",
      "UNSAFE_BACKING\n",
      "VIOLATION\n",
      "AGE_BAND\n",
      "AGE 1-21\n",
      "AGE 22-30\n",
      "AGE 31-65\n",
      "AGE 66 and above\n",
      "Unknown Age\n",
      "GENDER_DESC\n",
      "FEMALE\n",
      "MALE\n",
      "UNKNOWN_GENDER\n",
      "INJURY_COUNT_SUM\n",
      "INJURY_DESC\n",
      "NO INJURY_OUTCOME\n",
      "YES INJURY_OUTCOME\n",
      "YEAR_CAT\n",
      "YEAR_2019\n",
      "YEAR_2020\n",
      "YEAR_2021\n",
      "STATE\n"
     ]
    }
   ],
   "source": [
    "for i in colo.columns:\n",
    "    print(i)"
   ]
  },
  {
   "cell_type": "code",
   "execution_count": 13,
   "id": "cce69609",
   "metadata": {},
   "outputs": [
    {
     "data": {
      "text/plain": [
       "36"
      ]
     },
     "execution_count": 13,
     "metadata": {},
     "output_type": "execute_result"
    }
   ],
   "source": [
    "colo.columns.get_loc('OTHER_LIGHT')"
   ]
  },
  {
   "cell_type": "code",
   "execution_count": 10,
   "id": "4368c77c",
   "metadata": {},
   "outputs": [],
   "source": [
    "colo.insert(32,'DARK-UNKNOWN LIGHTING',0)"
   ]
  },
  {
   "cell_type": "code",
   "execution_count": 12,
   "id": "6f400d5f",
   "metadata": {},
   "outputs": [],
   "source": [
    "colo.insert(36,'OTHER_LIGHT',0)"
   ]
  },
  {
   "cell_type": "code",
   "execution_count": 14,
   "id": "cb60b049",
   "metadata": {},
   "outputs": [],
   "source": [
    "colo.insert(37,'UNKNOWN_LIGHT',0)"
   ]
  },
  {
   "cell_type": "code",
   "execution_count": 17,
   "id": "7d6f8b20",
   "metadata": {},
   "outputs": [
    {
     "data": {
      "text/plain": [
       "44"
      ]
     },
     "execution_count": 17,
     "metadata": {},
     "output_type": "execute_result"
    }
   ],
   "source": [
    "colo.columns.get_loc('SNOW_SURF')"
   ]
  },
  {
   "cell_type": "code",
   "execution_count": 16,
   "id": "b544a977",
   "metadata": {},
   "outputs": [],
   "source": [
    "colo.insert(42,'OTHER_SURF',0)"
   ]
  },
  {
   "cell_type": "code",
   "execution_count": 18,
   "id": "8cb7c7c0",
   "metadata": {},
   "outputs": [],
   "source": [
    "colo.insert(45,'STANDING_WATER',0)"
   ]
  },
  {
   "cell_type": "code",
   "execution_count": 23,
   "id": "d7a34427",
   "metadata": {},
   "outputs": [
    {
     "data": {
      "text/plain": [
       "64"
      ]
     },
     "execution_count": 23,
     "metadata": {},
     "output_type": "execute_result"
    }
   ],
   "source": [
    "colo.columns.get_loc('TOLL BRIDGES')"
   ]
  },
  {
   "cell_type": "code",
   "execution_count": 20,
   "id": "8f212ba1",
   "metadata": {},
   "outputs": [],
   "source": [
    "colo.insert(61,'FARM TO MARKET',0)"
   ]
  },
  {
   "cell_type": "code",
   "execution_count": 22,
   "id": "e6f18715",
   "metadata": {},
   "outputs": [],
   "source": [
    "colo.insert(64,'TOLL BRIDGES',0)"
   ]
  },
  {
   "cell_type": "code",
   "execution_count": 24,
   "id": "a4fad83f",
   "metadata": {},
   "outputs": [],
   "source": [
    "colo.insert(65,'TOLLWAY',0)"
   ]
  },
  {
   "cell_type": "code",
   "execution_count": 26,
   "id": "1df05e4b",
   "metadata": {},
   "outputs": [],
   "source": [
    "colo.rename(columns={'NO INJURY_OUTCOME':'NO_INJURY','YES INJURY_OUTCOME':'YES_INJURY'},inplace = True)"
   ]
  },
  {
   "cell_type": "code",
   "execution_count": 27,
   "id": "54081118",
   "metadata": {},
   "outputs": [
    {
     "data": {
      "text/plain": [
       "Index(['ROAD_CLASS', 'INTERSECTION', 'CONTOUR', 'SURFACE', 'LIGHTING',\n",
       "       'WEATHER', 'HUMAN_FACTOR', 'INTOXICATION', 'AGE', 'GENDER',\n",
       "       'COUNTY_FIPS', 'COUNTY', 'INJURY_COUNT', 'INJURY_OUTCOME', 'Crash_ID',\n",
       "       'BUFF_DIST', 'ORIG_FID', 'Shape_Length', 'Shape_Area', 'WEATHER_DESC',\n",
       "       'BLOWING SAND/SNOW', 'CLEAR', 'CLOUDY', 'FOG', 'OTHER_WEATHER', 'RAIN',\n",
       "       'SEVERE CROSSWINDS', 'SLEET/HAIL', 'SNOW_WEATHER', 'LIGHTING_DESC',\n",
       "       'DARK-LIGHTED', 'DARK-NOT LIGHTED', 'DARK-UNKNOWN LIGHTING', 'DAWN',\n",
       "       'DAYLIGHT', 'DUSK', 'OTHER_LIGHT', 'UNKNOWN_LIGHT', 'SURF_DESC', 'DIRT',\n",
       "       'DRY', 'ICE', 'OTHER_SURF', 'SLUSH', 'SNOW_SURF', 'STANDING_WATER',\n",
       "       'UNKNOWN_SURF', 'WET', 'INTOXICATION_DESC', 'ALCOHOL', 'ALCOHOL, DRUG',\n",
       "       'DRUG', 'MEDICINAL', 'MARIJUANA', 'NO INTOXICATION',\n",
       "       'INTERSECTION_DESC', 'NO_INTERSECTION', 'YES_INTERSECTION',\n",
       "       'ROAD_TYPE_DESC', 'CITY STREET', 'COUNTY ROAD', 'FARM TO MARKET',\n",
       "       'INTERSTATE', 'OTHER ROADS', 'TOLL BRIDGES', 'TOLLWAY',\n",
       "       'US & STATE HIGHWAY', 'HUMAN_FACTOR_DESC', 'IMPAIRMENT', 'INATTENTION',\n",
       "       'KNOWN_HUMAN_FACTOR', 'LANE_CHNG', 'NO_FAULT', 'SPEEDING', 'TAILGATING',\n",
       "       'TECH_PARK', 'TURNING', 'UNKNOWN_HUMAN_FACTOR', 'UNSAFE_BACKING',\n",
       "       'VIOLATION', 'AGE_BAND', 'AGE 1-21', 'AGE 22-30', 'AGE 31-65',\n",
       "       'AGE 66 and above', 'Unknown Age', 'GENDER_DESC', 'FEMALE', 'MALE',\n",
       "       'UNKNOWN_GENDER', 'INJURY_COUNT_SUM', 'INJURY_DESC', 'NO_INJURY',\n",
       "       'YES_INJURY', 'YEAR_CAT', 'YEAR_2019', 'YEAR_2020', 'YEAR_2021',\n",
       "       'STATE'],\n",
       "      dtype='object')"
      ]
     },
     "execution_count": 27,
     "metadata": {},
     "output_type": "execute_result"
    }
   ],
   "source": [
    "colo.columns"
   ]
  },
  {
   "cell_type": "code",
   "execution_count": 29,
   "id": "0cd0badd",
   "metadata": {},
   "outputs": [
    {
     "name": "stdout",
     "output_type": "stream",
     "text": [
      "Index(['Crash_ID', 'AGE', 'GENDER', 'COUNTY_FIPS', 'COUNTY', 'INTERSECTION',\n",
      "       'WEATHER', 'LIGHTING', 'SURFACE', 'HUMAN_FACTOR',\n",
      "       ...\n",
      "       'ALCOHOL, DRUG', 'DRUG', 'MARIJUANA', 'MEDICINAL', 'NO INTOXICATION',\n",
      "       'INJURY_COUNT_SUM', 'YEAR_CAT', 'YEAR_2019', 'YEAR_2020', 'YEAR_2021'],\n",
      "      dtype='object', length=102)\n"
     ]
    }
   ],
   "source": []
  },
  {
   "cell_type": "code",
   "execution_count": 63,
   "id": "089f896e",
   "metadata": {},
   "outputs": [],
   "source": [
    "col = ['Crash_ID','COUNTY_FIPS', 'COUNTY','INJURY_COUNT',\n",
    "      'AGE 1-21', 'AGE 22-30', 'AGE 31-65',\n",
    "       'AGE 66 and above', 'Unknown Age','FEMALE', 'MALE',\n",
    "       'UNKNOWN_GENDER','NO_INTERSECTION', 'YES_INTERSECTION','DARK-LIGHTED', 'DARK-NOT LIGHTED', 'DARK-UNKNOWN LIGHTING', 'DAWN',\n",
    "       'DAYLIGHT', 'DUSK', 'OTHER_LIGHT', 'UNKNOWN_LIGHT','DIRT',\n",
    "       'DRY', 'ICE', 'OTHER_SURF', 'SLUSH', 'SNOW_SURF', 'STANDING_WATER',\n",
    "       'UNKNOWN_SURF', 'WET','IMPAIRMENT', 'INATTENTION',\n",
    "       'KNOWN_HUMAN_FACTOR', 'LANE_CHNG', 'NO_FAULT', 'SPEEDING', 'TAILGATING',\n",
    "       'TECH_PARK', 'TURNING', 'UNKNOWN_HUMAN_FACTOR', 'UNSAFE_BACKING',\n",
    "       'VIOLATION','CITY STREET', 'COUNTY ROAD', 'FARM TO MARKET',\n",
    "       'INTERSTATE', 'OTHER ROADS', 'TOLL BRIDGES', 'TOLLWAY',\n",
    "       'US & STATE HIGHWAY',\n",
    "       'NO_INJURY',\n",
    "       'YES_INJURY', 'YEAR_CAT', 'YEAR_2019', 'YEAR_2020', 'YEAR_2021',\n",
    "       'STATE','INJURY_COUNT_SUM','ALCOHOL',\n",
    "'ALCOHOL, DRUG',\n",
    "'DRUG',\n",
    "'MARIJUANA',\n",
    "'MEDICINAL',\n",
    "'NO INTOXICATION'\n",
    "       \n",
    "      ]"
   ]
  },
  {
   "cell_type": "code",
   "execution_count": 64,
   "id": "05e414e2",
   "metadata": {},
   "outputs": [],
   "source": [
    "colo_1 = colo[col]"
   ]
  },
  {
   "cell_type": "code",
   "execution_count": 65,
   "id": "b30cda82",
   "metadata": {},
   "outputs": [
    {
     "data": {
      "text/plain": [
       "65"
      ]
     },
     "execution_count": 65,
     "metadata": {},
     "output_type": "execute_result"
    }
   ],
   "source": [
    "len(col)"
   ]
  },
  {
   "cell_type": "code",
   "execution_count": 66,
   "id": "3344fa85",
   "metadata": {},
   "outputs": [
    {
     "data": {
      "text/plain": [
       "(192, 65)"
      ]
     },
     "execution_count": 66,
     "metadata": {},
     "output_type": "execute_result"
    }
   ],
   "source": [
    "colo_1.shape"
   ]
  },
  {
   "cell_type": "code",
   "execution_count": 67,
   "id": "48a89e49",
   "metadata": {},
   "outputs": [],
   "source": [
    "texas_1= texas[col]"
   ]
  },
  {
   "cell_type": "code",
   "execution_count": 68,
   "id": "46044762",
   "metadata": {},
   "outputs": [
    {
     "data": {
      "text/plain": [
       "(762, 65)"
      ]
     },
     "execution_count": 68,
     "metadata": {},
     "output_type": "execute_result"
    }
   ],
   "source": [
    "texas_1.shape"
   ]
  },
  {
   "cell_type": "code",
   "execution_count": 69,
   "id": "b79391bc",
   "metadata": {},
   "outputs": [],
   "source": [
    "tc = pd.concat([texas_1,colo_1],axis=0)"
   ]
  },
  {
   "cell_type": "code",
   "execution_count": 70,
   "id": "a77cc79b",
   "metadata": {},
   "outputs": [],
   "source": [
    "tc.to_csv('texas_colo_comb.csv',index= False)"
   ]
  },
  {
   "cell_type": "code",
   "execution_count": 47,
   "id": "23292d95",
   "metadata": {},
   "outputs": [],
   "source": [
    "okla = pd.read_csv('C:/Users/karan/okla_county_year.csv')"
   ]
  },
  {
   "cell_type": "code",
   "execution_count": 96,
   "id": "b91cc0ec",
   "metadata": {},
   "outputs": [
    {
     "data": {
      "text/plain": [
       "Index(['Join_Count', 'TARGET_FID', 'Crash_ID', 'COUNTY_FIPS', 'COUNTY', 'CITY',\n",
       "       'LIGHTING_CAT', 'WEATHER_CAT', 'ROAD_CLASS', 'INTOXICATION',\n",
       "       'TEEN_DRIVE', 'OLDER_DRIV', 'INJURY_COUNT', 'INJURY_OUTCOME',\n",
       "       'ROUTE_ID', 'FROM_MEASU', 'TO_MEASURE', 'AADT', 'MEDIANWIDT',\n",
       "       'FUNCTIONAL', 'LANES', 'ROAD_WIDTH', 'MLENGTH', 'BUFF_DIST', 'ORIG_FID',\n",
       "       'Shape_Length', 'Shape_Area', 'WEATHER_DESC', 'BLOWING SAND/SNOW',\n",
       "       'CLEAR', 'CLOUDY', 'FOG', 'OTHER', 'RAIN', 'SEVERE CROSSWINDS',\n",
       "       'SLEET/HAIL', 'SNOW', 'UNKNOWN_WEATHER', 'LIGHTING_DESC',\n",
       "       'DARK-LIGHTED', 'DARK-NOT LIGHTED', 'DARK-UNKNOWN LIGHTING', 'DAWN',\n",
       "       'DAYLIGHT', 'DUSK', 'OTHER_LIGHT', 'UNKNOWN_LIGHT', 'ROAD_TYPE_DESC',\n",
       "       'CITY STREET', 'COUNTY ROAD', 'FARM TO MARKET', 'INTERSTATE',\n",
       "       'OTHER ROADS', 'TOLL BRIDGES', 'TOLLWAY', 'US & STATE HIGHWAY',\n",
       "       'INTOXICATION_DESC', 'ALCOHOL', 'ALCOHOL, DRUG', 'DRUG', 'MARIJUANA',\n",
       "       'MEDICINAL', 'NO INTOXICATION', 'INATTENTION_DESC', 'NO_INATTENTION',\n",
       "       'INATTENTION', 'INJURY_DESC', 'NO_INJURY', 'YES_INJURY', 'LANE_COUNT',\n",
       "       'LANE 0', 'LANE 1', 'LANE 10', 'LANE 2', 'LANE 3', 'LANE 4', 'LANE 6',\n",
       "       'LANE 8', 'INJURY_COUNT_SUM', 'ROAD_WIDTH_MEDIAN', 'ROAD_WIDTH_SUM',\n",
       "       'NO_SPEEDING', 'SPEEDING', 'YEAR_CAT', 'YEAR_2019', 'YEAR_2020',\n",
       "       'YEAR_2021', 'STATE'],\n",
       "      dtype='object')"
      ]
     },
     "execution_count": 96,
     "metadata": {},
     "output_type": "execute_result"
    }
   ],
   "source": [
    "okla.columns"
   ]
  },
  {
   "cell_type": "code",
   "execution_count": 95,
   "id": "f054bc5b",
   "metadata": {},
   "outputs": [],
   "source": [
    "okla.rename(columns={'County_FIP':'COUNTY_FIPS'},inplace= True)"
   ]
  },
  {
   "cell_type": "code",
   "execution_count": 82,
   "id": "664a7dca",
   "metadata": {},
   "outputs": [
    {
     "data": {
      "text/plain": [
       "Index(['Crash_ID', 'COUNTY_FIPS', 'COUNTY', 'INJURY_COUNT', 'AGE 1-21',\n",
       "       'AGE 22-30', 'AGE 31-65', 'AGE 66 and above', 'Unknown Age', 'FEMALE',\n",
       "       'MALE', 'UNKNOWN_GENDER', 'NO_INTERSECTION', 'YES_INTERSECTION',\n",
       "       'DARK-LIGHTED', 'DARK-NOT LIGHTED', 'DARK-UNKNOWN LIGHTING', 'DAWN',\n",
       "       'DAYLIGHT', 'DUSK', 'OTHER_LIGHT', 'UNKNOWN_LIGHT', 'DIRT', 'DRY',\n",
       "       'ICE', 'OTHER_SURF', 'SLUSH', 'SNOW_SURF', 'STANDING_WATER',\n",
       "       'UNKNOWN_SURF', 'WET', 'IMPAIRMENT', 'INATTENTION',\n",
       "       'KNOWN_HUMAN_FACTOR', 'LANE_CHNG', 'NO_FAULT', 'SPEEDING', 'TAILGATING',\n",
       "       'TECH_PARK', 'TURNING', 'UNKNOWN_HUMAN_FACTOR', 'UNSAFE_BACKING',\n",
       "       'VIOLATION', 'CITY STREET', 'COUNTY ROAD', 'FARM TO MARKET',\n",
       "       'INTERSTATE', 'OTHER ROADS', 'TOLL BRIDGES', 'TOLLWAY',\n",
       "       'US & STATE HIGHWAY', 'NO_INJURY', 'YES_INJURY', 'YEAR_CAT',\n",
       "       'YEAR_2019', 'YEAR_2020', 'YEAR_2021', 'STATE', 'INJURY_COUNT_SUM',\n",
       "       'ALCOHOL', 'ALCOHOL, DRUG', 'DRUG', 'MARIJUANA', 'MEDICINAL',\n",
       "       'NO INTOXICATION'],\n",
       "      dtype='object')"
      ]
     },
     "execution_count": 82,
     "metadata": {},
     "output_type": "execute_result"
    }
   ],
   "source": [
    "tc.columns"
   ]
  },
  {
   "cell_type": "code",
   "execution_count": 59,
   "id": "dcf0591d",
   "metadata": {},
   "outputs": [
    {
     "data": {
      "text/plain": [
       "75"
      ]
     },
     "execution_count": 59,
     "metadata": {},
     "output_type": "execute_result"
    }
   ],
   "source": [
    "okla.columns.get_loc('INJURY_COUNT_SUM')"
   ]
  },
  {
   "cell_type": "code",
   "execution_count": 72,
   "id": "5176bc5f",
   "metadata": {},
   "outputs": [],
   "source": [
    "okla.drop(columns=['INATTENTION', 'SPEEDING'],inplace= True)"
   ]
  },
  {
   "cell_type": "code",
   "execution_count": 73,
   "id": "7baa51ef",
   "metadata": {},
   "outputs": [],
   "source": [
    "okla.rename(columns={'YES_SPEEDING':'SPEEDING','YES_INATTENTION':'INATTENTION'},inplace= True)"
   ]
  },
  {
   "cell_type": "code",
   "execution_count": 79,
   "id": "74451028",
   "metadata": {},
   "outputs": [
    {
     "data": {
      "text/plain": [
       "53"
      ]
     },
     "execution_count": 79,
     "metadata": {},
     "output_type": "execute_result"
    }
   ],
   "source": [
    "okla.columns.get_loc('TOLL BRIDGES')"
   ]
  },
  {
   "cell_type": "code",
   "execution_count": 75,
   "id": "844d70f5",
   "metadata": {},
   "outputs": [],
   "source": [
    "okla.insert(50,'FARM TO MARKET',0)"
   ]
  },
  {
   "cell_type": "code",
   "execution_count": 77,
   "id": "23b69310",
   "metadata": {},
   "outputs": [],
   "source": [
    "okla.insert(53,'TOLL BRIDGES',0)"
   ]
  },
  {
   "cell_type": "code",
   "execution_count": 81,
   "id": "1973f117",
   "metadata": {},
   "outputs": [],
   "source": [
    "okla.insert(54,'TOLLWAY',0)"
   ]
  },
  {
   "cell_type": "code",
   "execution_count": 90,
   "id": "778d3269",
   "metadata": {},
   "outputs": [],
   "source": [
    "okla.rename(columns={'NO INJURY_OUTCOME':'NO_INJURY','YES INJURY_OUTCOME':'YES_INJURY'},inplace= True)"
   ]
  },
  {
   "cell_type": "code",
   "execution_count": 86,
   "id": "bd4edec0",
   "metadata": {},
   "outputs": [
    {
     "data": {
      "text/plain": [
       "60"
      ]
     },
     "execution_count": 86,
     "metadata": {},
     "output_type": "execute_result"
    }
   ],
   "source": [
    "okla.columns.get_loc('MARIJUANA')"
   ]
  },
  {
   "cell_type": "code",
   "execution_count": 85,
   "id": "94b4e467",
   "metadata": {},
   "outputs": [],
   "source": [
    "okla.insert(60,'MARIJUANA',0)"
   ]
  },
  {
   "cell_type": "code",
   "execution_count": 87,
   "id": "475e4b96",
   "metadata": {},
   "outputs": [],
   "source": [
    "okla.insert(61,'MEDICINAL',0)"
   ]
  },
  {
   "cell_type": "code",
   "execution_count": 93,
   "id": "26825959",
   "metadata": {},
   "outputs": [],
   "source": [
    "col = ['Crash_ID', 'COUNTY_FIPS', 'COUNTY', 'INJURY_COUNT','INJURY_COUNT_SUM','DARK-LIGHTED', 'DARK-NOT LIGHTED', 'DARK-UNKNOWN LIGHTING', 'DAWN',\n",
    "       'DAYLIGHT', 'DUSK', 'OTHER_LIGHT', 'UNKNOWN_LIGHT',\n",
    "       'INATTENTION','SPEEDING','CITY STREET', 'COUNTY ROAD', 'FARM TO MARKET',\n",
    "       'INTERSTATE', 'OTHER ROADS', 'TOLL BRIDGES', 'TOLLWAY',\n",
    "       'US & STATE HIGHWAY','ALCOHOL', 'ALCOHOL, DRUG', 'DRUG', 'MARIJUANA', 'MEDICINAL',\n",
    "       'NO INTOXICATION','NO_INJURY', 'YES_INJURY','YEAR_CAT',\n",
    "       'YEAR_2019', 'YEAR_2020', 'YEAR_2021', 'STATE'\n",
    "       \n",
    "      ]"
   ]
  },
  {
   "cell_type": "code",
   "execution_count": 97,
   "id": "ace3d4b0",
   "metadata": {},
   "outputs": [],
   "source": [
    "okla1 = okla[col]"
   ]
  },
  {
   "cell_type": "code",
   "execution_count": 99,
   "id": "20013d7f",
   "metadata": {},
   "outputs": [
    {
     "data": {
      "text/plain": [
       "(231, 36)"
      ]
     },
     "execution_count": 99,
     "metadata": {},
     "output_type": "execute_result"
    }
   ],
   "source": [
    "okla1.shape"
   ]
  },
  {
   "cell_type": "code",
   "execution_count": 100,
   "id": "0d0e2367",
   "metadata": {},
   "outputs": [],
   "source": [
    "tc1 = tc[col]"
   ]
  },
  {
   "cell_type": "code",
   "execution_count": 101,
   "id": "e1c5f469",
   "metadata": {},
   "outputs": [
    {
     "data": {
      "text/plain": [
       "(954, 36)"
      ]
     },
     "execution_count": 101,
     "metadata": {},
     "output_type": "execute_result"
    }
   ],
   "source": [
    "tc1.shape"
   ]
  },
  {
   "cell_type": "code",
   "execution_count": 102,
   "id": "5e95a960",
   "metadata": {},
   "outputs": [],
   "source": [
    "otc = pd.concat([tc1,okla1],axis= 0)"
   ]
  },
  {
   "cell_type": "code",
   "execution_count": 103,
   "id": "9890594a",
   "metadata": {},
   "outputs": [
    {
     "data": {
      "text/plain": [
       "(1185, 36)"
      ]
     },
     "execution_count": 103,
     "metadata": {},
     "output_type": "execute_result"
    }
   ],
   "source": [
    "otc.shape"
   ]
  },
  {
   "cell_type": "code",
   "execution_count": 104,
   "id": "6d7e3397",
   "metadata": {},
   "outputs": [],
   "source": [
    "otc.to_csv('okla_colo_texas.csv',index= False)"
   ]
  },
  {
   "cell_type": "code",
   "execution_count": 105,
   "id": "e23ae133",
   "metadata": {},
   "outputs": [],
   "source": [
    "h = pd.read_csv('C:/Users/karan/texas_colo_comb.csv')"
   ]
  },
  {
   "cell_type": "code",
   "execution_count": 106,
   "id": "a8fdccef",
   "metadata": {},
   "outputs": [
    {
     "data": {
      "text/plain": [
       "Index(['Crash_ID', 'COUNTY_FIPS', 'COUNTY', 'INJURY_COUNT', 'AGE 1-21',\n",
       "       'AGE 22-30', 'AGE 31-65', 'AGE 66 and above', 'Unknown Age', 'FEMALE',\n",
       "       'MALE', 'UNKNOWN_GENDER', 'NO_INTERSECTION', 'YES_INTERSECTION',\n",
       "       'DARK-LIGHTED', 'DARK-NOT LIGHTED', 'DARK-UNKNOWN LIGHTING', 'DAWN',\n",
       "       'DAYLIGHT', 'DUSK', 'OTHER_LIGHT', 'UNKNOWN_LIGHT', 'DIRT', 'DRY',\n",
       "       'ICE', 'OTHER_SURF', 'SLUSH', 'SNOW_SURF', 'STANDING_WATER',\n",
       "       'UNKNOWN_SURF', 'WET', 'IMPAIRMENT', 'INATTENTION',\n",
       "       'KNOWN_HUMAN_FACTOR', 'LANE_CHNG', 'NO_FAULT', 'SPEEDING', 'TAILGATING',\n",
       "       'TECH_PARK', 'TURNING', 'UNKNOWN_HUMAN_FACTOR', 'UNSAFE_BACKING',\n",
       "       'VIOLATION', 'CITY STREET', 'COUNTY ROAD', 'FARM TO MARKET',\n",
       "       'INTERSTATE', 'OTHER ROADS', 'TOLL BRIDGES', 'TOLLWAY',\n",
       "       'US & STATE HIGHWAY', 'NO_INJURY', 'YES_INJURY', 'YEAR_CAT',\n",
       "       'YEAR_2019', 'YEAR_2020', 'YEAR_2021', 'STATE', 'INJURY_COUNT_SUM',\n",
       "       'ALCOHOL', 'ALCOHOL, DRUG', 'DRUG', 'MARIJUANA', 'MEDICINAL',\n",
       "       'NO INTOXICATION'],\n",
       "      dtype='object')"
      ]
     },
     "execution_count": 106,
     "metadata": {},
     "output_type": "execute_result"
    }
   ],
   "source": [
    "h.columns"
   ]
  },
  {
   "cell_type": "code",
   "execution_count": 107,
   "id": "27b1147d",
   "metadata": {},
   "outputs": [],
   "source": [
    "p = pd.read_csv('C:/Users/karan/texas_county_year.csv')"
   ]
  },
  {
   "cell_type": "code",
   "execution_count": 109,
   "id": "1b935e60",
   "metadata": {},
   "outputs": [
    {
     "name": "stdout",
     "output_type": "stream",
     "text": [
      "Crash_ID\n",
      "AGE\n",
      "GENDER\n",
      "COUNTY_FIPS\n",
      "COUNTY\n",
      "INTERSECTION\n",
      "WEATHER\n",
      "LIGHTING\n",
      "SURFACE\n",
      "HUMAN_FACTOR\n",
      "ROAD_CLASS\n",
      "MEDIANWIDTH\n",
      "LANES\n",
      "ROADWIDTH\n",
      "AADT\n",
      "INJURY_OUTCOME\n",
      "INJURY_COUNT\n",
      "INTOXICATION\n",
      "BUFF_DIST\n",
      "ORIG_FID\n",
      "Shape_Length\n",
      "Shape_Area\n",
      "AGE_BAND\n",
      "AGE 1-21\n",
      "AGE 22-30\n",
      "AGE 31-65\n",
      "AGE 66 and above\n",
      "Unknown Age\n",
      "GENDER_DESC\n",
      "FEMALE\n",
      "MALE\n",
      "UNKNOWN_GENDER\n",
      "INTERSECTION_DESC\n",
      "NO_INTERSECTION\n",
      "YES_INTERSECTION\n",
      "WEATHER_DESC\n",
      "BLOWING SAND/SNOW\n",
      "CLEAR\n",
      "CLOUDY\n",
      "FOG\n",
      "OTHER_WEATHER\n",
      "RAIN\n",
      "SEVERE CROSSWINDS\n",
      "SLEET/HAIL\n",
      "SNOW_WEATHER\n",
      "UNKNOWN_WEATHER\n",
      "LIGHTING_DESC\n",
      "DARK-LIGHTED\n",
      "DARK-NOT LIGHTED\n",
      "DARK-UNKNOWN LIGHTING\n",
      "DAWN\n",
      "DAYLIGHT\n",
      "DUSK\n",
      "OTHER_LIGHT\n",
      "UNKNOWN_LIGHT\n",
      "SURF_DESC\n",
      "DIRT\n",
      "DRY\n",
      "ICE\n",
      "OTHER_SURF\n",
      "SLUSH\n",
      "SNOW_SURF\n",
      "STANDING_WATER\n",
      "UNKNOWN_SURF\n",
      "WET\n",
      "HUMAN_FACTOR_DESC\n",
      "IMPAIRMENT\n",
      "INATTENTION\n",
      "KNOWN_HUMAN_FACTOR\n",
      "LANE_CHNG\n",
      "NO_FAULT\n",
      "SPEEDING\n",
      "TAILGATING\n",
      "TECH_PARK\n",
      "TURNING\n",
      "UNKNOWN_HUMAN_FACTOR\n",
      "UNSAFE_BACKING\n",
      "VIOLATION\n",
      "ROAD_TYPE_DESC\n",
      "CITY STREET\n",
      "COUNTY ROAD\n",
      "FARM TO MARKET\n",
      "INTERSTATE\n",
      "OTHER ROADS\n",
      "TOLL BRIDGES\n",
      "TOLLWAY\n",
      "US & STATE HIGHWAY\n",
      "INJURY_DESC\n",
      "NO_INJURY\n",
      "YES_INJURY\n",
      "INTOXICATION_DESC\n",
      "ALCOHOL\n",
      "ALCOHOL, DRUG\n",
      "DRUG\n",
      "MARIJUANA\n",
      "MEDICINAL\n",
      "NO INTOXICATION\n",
      "INJURY_COUNT_SUM\n",
      "YEAR_CAT\n",
      "YEAR_2019\n",
      "YEAR_2020\n",
      "YEAR_2021\n"
     ]
    }
   ],
   "source": [
    " for i in p.columns:\n",
    "        print(i)"
   ]
  },
  {
   "cell_type": "code",
   "execution_count": 138,
   "id": "c615a7dd",
   "metadata": {},
   "outputs": [],
   "source": [
    "f = pd.read_csv('C:/Users/karan/texas_comb.csv')"
   ]
  },
  {
   "cell_type": "code",
   "execution_count": 139,
   "id": "57247817",
   "metadata": {},
   "outputs": [
    {
     "name": "stdout",
     "output_type": "stream",
     "text": [
      "Crash_ID\n",
      "AGE\n",
      "GENDER\n",
      "DATE\n",
      "TIME\n",
      "COUNTY_FIPS\n",
      "COUNTY\n",
      "INTERSECTION\n",
      "WEATHER\n",
      "LIGHTING\n",
      "SURFACE\n",
      "HUMAN_FACTOR\n",
      "ROAD_CLASS\n",
      "LATITUDE\n",
      "LONGITUDE\n",
      "MEDIANWIDTH\n",
      "LANES\n",
      "ROADWIDTH\n",
      "AADT\n",
      "INJURY_OUTCOME\n",
      "INJURY_COUNT\n",
      "INTOXICATION\n",
      "BUFF_DIST\n",
      "ORIG_FID\n",
      "Shape_Length\n",
      "Shape_Area\n",
      "AGE_BAND\n",
      "AGE 1-21\n",
      "AGE 22-30\n",
      "AGE 31-65\n",
      "AGE 66 and above\n",
      "Unknown Age\n",
      "GENDER_DESC\n",
      "FEMALE\n",
      "MALE\n",
      "UNKNOWN_GENDER\n",
      "INTERSECTION_DESC\n",
      "NO_INTERSECTION\n",
      "YES_INTERSECTION\n",
      "WEATHER_DESC\n",
      "BLOWING SAND/SNOW\n",
      "CLEAR\n",
      "CLOUDY\n",
      "FOG\n",
      "OTHER_WEATHER\n",
      "RAIN\n",
      "SEVERE CROSSWINDS\n",
      "SLEET/HAIL\n",
      "SNOW_WEATHER\n",
      "UNKNOWN_WEATHER\n",
      "LIGHTING_DESC\n",
      "DARK-LIGHTED\n",
      "DARK-NOT LIGHTED\n",
      "DARK-UNKNOWN LIGHTING\n",
      "DAWN\n",
      "DAYLIGHT\n",
      "DUSK\n",
      "OTHER_LIGHT\n",
      "UNKNOWN_LIGHT\n",
      "SURF_DESC\n",
      "DIRT\n",
      "DRY\n",
      "ICE\n",
      "OTHER_SURF\n",
      "SLUSH\n",
      "SNOW_SURF\n",
      "STANDING_WATER\n",
      "UNKNOWN_SURF\n",
      "WET\n",
      "HUMAN_FACTOR_DESC\n",
      "IMPAIRMENT\n",
      "INATTENTION\n",
      "KNOWN_HUMAN_FACTOR\n",
      "LANE_CHNG\n",
      "NO_FAULT\n",
      "SPEEDING\n",
      "TAILGATING\n",
      "TECH_PARK\n",
      "TURNING\n",
      "UNKNOWN_HUMAN_FACTOR\n",
      "UNSAFE_BACKING\n",
      "VIOLATION\n",
      "ROAD_TYPE_DESC\n",
      "CITY STREET\n",
      "COUNTY ROAD\n",
      "FARM TO MARKET\n",
      "INTERSTATE\n",
      "OTHER ROADS\n",
      "TOLL BRIDGES\n",
      "TOLLWAY\n",
      "US & STATE HIGHWAY\n",
      "INJURY_DESC\n",
      "NO_INJURY\n",
      "YES_INJURY\n",
      "INTOXICATION_DESC\n",
      "ALCOHOL\n",
      "ALCOHOL, DRUG\n",
      "DRUG\n",
      "MARIJUANA\n",
      "MEDICINAL\n",
      "NO INTOXICATION\n",
      "INJURY_COUNT_SUM\n",
      "YEAR_CAT\n",
      "YEAR_2019\n",
      "YEAR_2020\n",
      "YEAR_2021\n"
     ]
    }
   ],
   "source": [
    "for i in f.columns:\n",
    "    print(i)"
   ]
  },
  {
   "cell_type": "code",
   "execution_count": 140,
   "id": "86756c6f",
   "metadata": {},
   "outputs": [],
   "source": [
    "texas_2019 = f[f['YEAR_2019']==1]\n",
    "texas_2020 = f[f['YEAR_2020']==1]\n",
    "texas_2021 = f[f['YEAR_2021']==1]"
   ]
  },
  {
   "cell_type": "code",
   "execution_count": 141,
   "id": "1dba0504",
   "metadata": {},
   "outputs": [
    {
     "data": {
      "text/plain": [
       "[1, 2, 3, 4, 5, 6, 7, 8, 9, 10, 11, 12, 13, 14]"
      ]
     },
     "execution_count": 141,
     "metadata": {},
     "output_type": "execute_result"
    }
   ],
   "source": [
    "sorted(f['LANES'].unique())"
   ]
  },
  {
   "cell_type": "code",
   "execution_count": 142,
   "id": "742d4e4f",
   "metadata": {},
   "outputs": [
    {
     "name": "stderr",
     "output_type": "stream",
     "text": [
      "C:\\Users\\karan\\AppData\\Local\\Temp\\ipykernel_31060\\1059617224.py:23: SettingWithCopyWarning: \n",
      "A value is trying to be set on a copy of a slice from a DataFrame.\n",
      "Try using .loc[row_indexer,col_indexer] = value instead\n",
      "\n",
      "See the caveats in the documentation: https://pandas.pydata.org/pandas-docs/stable/user_guide/indexing.html#returning-a-view-versus-a-copy\n",
      "  df['LANE_COUNT'] = df['LANES'].replace(mapping)\n",
      "C:\\Users\\karan\\AppData\\Local\\Temp\\ipykernel_31060\\1059617224.py:23: SettingWithCopyWarning: \n",
      "A value is trying to be set on a copy of a slice from a DataFrame.\n",
      "Try using .loc[row_indexer,col_indexer] = value instead\n",
      "\n",
      "See the caveats in the documentation: https://pandas.pydata.org/pandas-docs/stable/user_guide/indexing.html#returning-a-view-versus-a-copy\n",
      "  df['LANE_COUNT'] = df['LANES'].replace(mapping)\n",
      "C:\\Users\\karan\\AppData\\Local\\Temp\\ipykernel_31060\\1059617224.py:23: SettingWithCopyWarning: \n",
      "A value is trying to be set on a copy of a slice from a DataFrame.\n",
      "Try using .loc[row_indexer,col_indexer] = value instead\n",
      "\n",
      "See the caveats in the documentation: https://pandas.pydata.org/pandas-docs/stable/user_guide/indexing.html#returning-a-view-versus-a-copy\n",
      "  df['LANE_COUNT'] = df['LANES'].replace(mapping)\n"
     ]
    }
   ],
   "source": [
    "lane_mapping= {\n",
    "    1:'LANE 1',\n",
    "    2:'LANE 2',\n",
    "    3:'LANE 3',\n",
    "    4:'LANE 4',\n",
    "    5:'LANE 5',\n",
    "    6:'LANE 6',\n",
    "    7:'LANE 7',\n",
    "    0:'LANE 0',\n",
    "    8:'LANE 8',\n",
    "    9:'LANE 9',\n",
    "    10:'LANE 10',\n",
    "    11:'LANE 11',\n",
    "    12:'LANE 12',\n",
    "    13:'LANE 13',\n",
    "    14:'LANE 14'\n",
    "    \n",
    "}\n",
    "\n",
    "\n",
    "def process_lanes_data(df, mapping):\n",
    "    # Map the LANE descriptions to their numeric values\n",
    "    df['LANE_COUNT'] = df['LANES'].replace(mapping)\n",
    "    \n",
    "    # Group by COUNTY and LANE_COUNT, then count occurrences\n",
    "    grouped = df.groupby(['COUNTY', 'LANE_COUNT']).size().unstack(fill_value=0)\n",
    "    \n",
    "    # Calculate total counts by county to normalize the data\n",
    "    total_counts_by_county = grouped.sum(axis=1)\n",
    "    \n",
    "    # Calculate percentages\n",
    "    lanes_percentages_df = (grouped.div(total_counts_by_county, axis=0) * 100).fillna(0)\n",
    "    lanes_percentages_df = lanes_percentages_df.reset_index()\n",
    "    \n",
    "    return lanes_percentages_df\n",
    "\n",
    "# Process each year's data\n",
    "lanes_df_2019 = process_lanes_data(texas_2019, lane_mapping)\n",
    "lanes_df_2020 = process_lanes_data(texas_2020, lane_mapping)\n",
    "lanes_df_2021 = process_lanes_data(texas_2021, lane_mapping)"
   ]
  },
  {
   "cell_type": "code",
   "execution_count": 143,
   "id": "be7b0429",
   "metadata": {},
   "outputs": [
    {
     "data": {
      "text/plain": [
       "((254, 15), (254, 15), (254, 15))"
      ]
     },
     "execution_count": 143,
     "metadata": {},
     "output_type": "execute_result"
    }
   ],
   "source": [
    "lanes_df_2019.shape, lanes_df_2020.shape, lanes_df_2021.shape"
   ]
  },
  {
   "cell_type": "code",
   "execution_count": 134,
   "id": "ff4565eb",
   "metadata": {},
   "outputs": [
    {
     "data": {
      "text/plain": [
       "(254, 117)"
      ]
     },
     "execution_count": 134,
     "metadata": {},
     "output_type": "execute_result"
    }
   ],
   "source": [
    "texas_2019.shape"
   ]
  },
  {
   "cell_type": "code",
   "execution_count": 144,
   "id": "f92d85ab",
   "metadata": {},
   "outputs": [],
   "source": [
    "texas9 = pd.read_csv('C:/Users/karan/texas_2019_county.csv')"
   ]
  },
  {
   "cell_type": "code",
   "execution_count": 145,
   "id": "d7313563",
   "metadata": {},
   "outputs": [],
   "source": [
    "texas20 = pd.read_csv('C:/Users/karan/texas_2020_county.csv')"
   ]
  },
  {
   "cell_type": "code",
   "execution_count": 146,
   "id": "ba06fc59",
   "metadata": {},
   "outputs": [],
   "source": [
    "texas21 = pd.read_csv('C:/Users/karan/texas_2021_county.csv')"
   ]
  },
  {
   "cell_type": "code",
   "execution_count": 148,
   "id": "aa115012",
   "metadata": {},
   "outputs": [],
   "source": [
    "texas_2019 = pd.merge(texas9,lanes_df_2019,on=['COUNTY'],how='left')"
   ]
  },
  {
   "cell_type": "code",
   "execution_count": 147,
   "id": "60aec6fd",
   "metadata": {},
   "outputs": [
    {
     "data": {
      "text/html": [
       "<div>\n",
       "<style scoped>\n",
       "    .dataframe tbody tr th:only-of-type {\n",
       "        vertical-align: middle;\n",
       "    }\n",
       "\n",
       "    .dataframe tbody tr th {\n",
       "        vertical-align: top;\n",
       "    }\n",
       "\n",
       "    .dataframe thead th {\n",
       "        text-align: right;\n",
       "    }\n",
       "</style>\n",
       "<table border=\"1\" class=\"dataframe\">\n",
       "  <thead>\n",
       "    <tr style=\"text-align: right;\">\n",
       "      <th>LANE_COUNT</th>\n",
       "      <th>COUNTY</th>\n",
       "      <th>LANE 1</th>\n",
       "      <th>LANE 10</th>\n",
       "      <th>LANE 11</th>\n",
       "      <th>LANE 12</th>\n",
       "      <th>LANE 13</th>\n",
       "      <th>LANE 14</th>\n",
       "      <th>LANE 2</th>\n",
       "      <th>LANE 3</th>\n",
       "      <th>LANE 4</th>\n",
       "      <th>LANE 5</th>\n",
       "      <th>LANE 6</th>\n",
       "      <th>LANE 7</th>\n",
       "      <th>LANE 8</th>\n",
       "      <th>LANE 9</th>\n",
       "    </tr>\n",
       "  </thead>\n",
       "  <tbody>\n",
       "    <tr>\n",
       "      <th>0</th>\n",
       "      <td>Anderson</td>\n",
       "      <td>0.0</td>\n",
       "      <td>0.0</td>\n",
       "      <td>0.0</td>\n",
       "      <td>0.0</td>\n",
       "      <td>0.0</td>\n",
       "      <td>0.0</td>\n",
       "      <td>41.992188</td>\n",
       "      <td>0.976562</td>\n",
       "      <td>56.835938</td>\n",
       "      <td>0.195312</td>\n",
       "      <td>0.000000</td>\n",
       "      <td>0.0</td>\n",
       "      <td>0.000000</td>\n",
       "      <td>0.0</td>\n",
       "    </tr>\n",
       "    <tr>\n",
       "      <th>1</th>\n",
       "      <td>Andrews</td>\n",
       "      <td>0.0</td>\n",
       "      <td>0.0</td>\n",
       "      <td>0.0</td>\n",
       "      <td>0.0</td>\n",
       "      <td>0.0</td>\n",
       "      <td>0.0</td>\n",
       "      <td>66.222222</td>\n",
       "      <td>0.000000</td>\n",
       "      <td>33.777778</td>\n",
       "      <td>0.000000</td>\n",
       "      <td>0.000000</td>\n",
       "      <td>0.0</td>\n",
       "      <td>0.000000</td>\n",
       "      <td>0.0</td>\n",
       "    </tr>\n",
       "    <tr>\n",
       "      <th>2</th>\n",
       "      <td>Angelina</td>\n",
       "      <td>0.0</td>\n",
       "      <td>0.0</td>\n",
       "      <td>0.0</td>\n",
       "      <td>0.0</td>\n",
       "      <td>0.0</td>\n",
       "      <td>0.0</td>\n",
       "      <td>19.714286</td>\n",
       "      <td>0.000000</td>\n",
       "      <td>68.285714</td>\n",
       "      <td>4.857143</td>\n",
       "      <td>6.857143</td>\n",
       "      <td>0.0</td>\n",
       "      <td>0.285714</td>\n",
       "      <td>0.0</td>\n",
       "    </tr>\n",
       "    <tr>\n",
       "      <th>3</th>\n",
       "      <td>Aransas</td>\n",
       "      <td>0.0</td>\n",
       "      <td>0.0</td>\n",
       "      <td>0.0</td>\n",
       "      <td>0.0</td>\n",
       "      <td>0.0</td>\n",
       "      <td>0.0</td>\n",
       "      <td>44.000000</td>\n",
       "      <td>0.000000</td>\n",
       "      <td>54.000000</td>\n",
       "      <td>2.000000</td>\n",
       "      <td>0.000000</td>\n",
       "      <td>0.0</td>\n",
       "      <td>0.000000</td>\n",
       "      <td>0.0</td>\n",
       "    </tr>\n",
       "    <tr>\n",
       "      <th>4</th>\n",
       "      <td>Archer</td>\n",
       "      <td>0.0</td>\n",
       "      <td>0.0</td>\n",
       "      <td>0.0</td>\n",
       "      <td>0.0</td>\n",
       "      <td>0.0</td>\n",
       "      <td>0.0</td>\n",
       "      <td>75.531915</td>\n",
       "      <td>0.000000</td>\n",
       "      <td>24.468085</td>\n",
       "      <td>0.000000</td>\n",
       "      <td>0.000000</td>\n",
       "      <td>0.0</td>\n",
       "      <td>0.000000</td>\n",
       "      <td>0.0</td>\n",
       "    </tr>\n",
       "    <tr>\n",
       "      <th>...</th>\n",
       "      <td>...</td>\n",
       "      <td>...</td>\n",
       "      <td>...</td>\n",
       "      <td>...</td>\n",
       "      <td>...</td>\n",
       "      <td>...</td>\n",
       "      <td>...</td>\n",
       "      <td>...</td>\n",
       "      <td>...</td>\n",
       "      <td>...</td>\n",
       "      <td>...</td>\n",
       "      <td>...</td>\n",
       "      <td>...</td>\n",
       "      <td>...</td>\n",
       "      <td>...</td>\n",
       "    </tr>\n",
       "    <tr>\n",
       "      <th>249</th>\n",
       "      <td>Wood</td>\n",
       "      <td>0.0</td>\n",
       "      <td>0.0</td>\n",
       "      <td>0.0</td>\n",
       "      <td>0.0</td>\n",
       "      <td>0.0</td>\n",
       "      <td>0.0</td>\n",
       "      <td>79.836512</td>\n",
       "      <td>1.634877</td>\n",
       "      <td>18.528610</td>\n",
       "      <td>0.000000</td>\n",
       "      <td>0.000000</td>\n",
       "      <td>0.0</td>\n",
       "      <td>0.000000</td>\n",
       "      <td>0.0</td>\n",
       "    </tr>\n",
       "    <tr>\n",
       "      <th>250</th>\n",
       "      <td>Yoakum</td>\n",
       "      <td>0.0</td>\n",
       "      <td>0.0</td>\n",
       "      <td>0.0</td>\n",
       "      <td>0.0</td>\n",
       "      <td>0.0</td>\n",
       "      <td>0.0</td>\n",
       "      <td>67.307692</td>\n",
       "      <td>0.000000</td>\n",
       "      <td>32.692308</td>\n",
       "      <td>0.000000</td>\n",
       "      <td>0.000000</td>\n",
       "      <td>0.0</td>\n",
       "      <td>0.000000</td>\n",
       "      <td>0.0</td>\n",
       "    </tr>\n",
       "    <tr>\n",
       "      <th>251</th>\n",
       "      <td>Young</td>\n",
       "      <td>0.0</td>\n",
       "      <td>0.0</td>\n",
       "      <td>0.0</td>\n",
       "      <td>0.0</td>\n",
       "      <td>0.0</td>\n",
       "      <td>0.0</td>\n",
       "      <td>71.844660</td>\n",
       "      <td>0.000000</td>\n",
       "      <td>28.155340</td>\n",
       "      <td>0.000000</td>\n",
       "      <td>0.000000</td>\n",
       "      <td>0.0</td>\n",
       "      <td>0.000000</td>\n",
       "      <td>0.0</td>\n",
       "    </tr>\n",
       "    <tr>\n",
       "      <th>252</th>\n",
       "      <td>Zapata</td>\n",
       "      <td>0.0</td>\n",
       "      <td>0.0</td>\n",
       "      <td>0.0</td>\n",
       "      <td>0.0</td>\n",
       "      <td>0.0</td>\n",
       "      <td>0.0</td>\n",
       "      <td>23.188406</td>\n",
       "      <td>0.000000</td>\n",
       "      <td>76.811594</td>\n",
       "      <td>0.000000</td>\n",
       "      <td>0.000000</td>\n",
       "      <td>0.0</td>\n",
       "      <td>0.000000</td>\n",
       "      <td>0.0</td>\n",
       "    </tr>\n",
       "    <tr>\n",
       "      <th>253</th>\n",
       "      <td>Zavala</td>\n",
       "      <td>0.0</td>\n",
       "      <td>0.0</td>\n",
       "      <td>0.0</td>\n",
       "      <td>0.0</td>\n",
       "      <td>0.0</td>\n",
       "      <td>0.0</td>\n",
       "      <td>93.220339</td>\n",
       "      <td>0.000000</td>\n",
       "      <td>6.779661</td>\n",
       "      <td>0.000000</td>\n",
       "      <td>0.000000</td>\n",
       "      <td>0.0</td>\n",
       "      <td>0.000000</td>\n",
       "      <td>0.0</td>\n",
       "    </tr>\n",
       "  </tbody>\n",
       "</table>\n",
       "<p>254 rows × 15 columns</p>\n",
       "</div>"
      ],
      "text/plain": [
       "LANE_COUNT    COUNTY  LANE 1  LANE 10  LANE 11  LANE 12  LANE 13  LANE 14  \\\n",
       "0           Anderson     0.0      0.0      0.0      0.0      0.0      0.0   \n",
       "1            Andrews     0.0      0.0      0.0      0.0      0.0      0.0   \n",
       "2           Angelina     0.0      0.0      0.0      0.0      0.0      0.0   \n",
       "3            Aransas     0.0      0.0      0.0      0.0      0.0      0.0   \n",
       "4             Archer     0.0      0.0      0.0      0.0      0.0      0.0   \n",
       "..               ...     ...      ...      ...      ...      ...      ...   \n",
       "249             Wood     0.0      0.0      0.0      0.0      0.0      0.0   \n",
       "250           Yoakum     0.0      0.0      0.0      0.0      0.0      0.0   \n",
       "251            Young     0.0      0.0      0.0      0.0      0.0      0.0   \n",
       "252           Zapata     0.0      0.0      0.0      0.0      0.0      0.0   \n",
       "253           Zavala     0.0      0.0      0.0      0.0      0.0      0.0   \n",
       "\n",
       "LANE_COUNT     LANE 2    LANE 3     LANE 4    LANE 5    LANE 6  LANE 7  \\\n",
       "0           41.992188  0.976562  56.835938  0.195312  0.000000     0.0   \n",
       "1           66.222222  0.000000  33.777778  0.000000  0.000000     0.0   \n",
       "2           19.714286  0.000000  68.285714  4.857143  6.857143     0.0   \n",
       "3           44.000000  0.000000  54.000000  2.000000  0.000000     0.0   \n",
       "4           75.531915  0.000000  24.468085  0.000000  0.000000     0.0   \n",
       "..                ...       ...        ...       ...       ...     ...   \n",
       "249         79.836512  1.634877  18.528610  0.000000  0.000000     0.0   \n",
       "250         67.307692  0.000000  32.692308  0.000000  0.000000     0.0   \n",
       "251         71.844660  0.000000  28.155340  0.000000  0.000000     0.0   \n",
       "252         23.188406  0.000000  76.811594  0.000000  0.000000     0.0   \n",
       "253         93.220339  0.000000   6.779661  0.000000  0.000000     0.0   \n",
       "\n",
       "LANE_COUNT    LANE 8  LANE 9  \n",
       "0           0.000000     0.0  \n",
       "1           0.000000     0.0  \n",
       "2           0.285714     0.0  \n",
       "3           0.000000     0.0  \n",
       "4           0.000000     0.0  \n",
       "..               ...     ...  \n",
       "249         0.000000     0.0  \n",
       "250         0.000000     0.0  \n",
       "251         0.000000     0.0  \n",
       "252         0.000000     0.0  \n",
       "253         0.000000     0.0  \n",
       "\n",
       "[254 rows x 15 columns]"
      ]
     },
     "execution_count": 147,
     "metadata": {},
     "output_type": "execute_result"
    }
   ],
   "source": [
    "lanes_df_2019"
   ]
  },
  {
   "cell_type": "code",
   "execution_count": 155,
   "id": "4b9e0746",
   "metadata": {},
   "outputs": [
    {
     "name": "stdout",
     "output_type": "stream",
     "text": [
      "Crash_ID\n",
      "AGE\n",
      "GENDER\n",
      "COUNTY_FIPS\n",
      "COUNTY\n",
      "INTERSECTION\n",
      "WEATHER\n",
      "LIGHTING\n",
      "SURFACE\n",
      "HUMAN_FACTOR\n",
      "ROAD_CLASS\n",
      "MEDIANWIDTH\n",
      "LANES\n",
      "ROADWIDTH\n",
      "AADT\n",
      "INJURY_OUTCOME\n",
      "INJURY_COUNT\n",
      "INTOXICATION\n",
      "BUFF_DIST\n",
      "ORIG_FID\n",
      "Shape_Length\n",
      "Shape_Area\n",
      "AGE_BAND\n",
      "AGE 1-21\n",
      "AGE 22-30\n",
      "AGE 31-65\n",
      "AGE 66 and above\n",
      "Unknown Age\n",
      "GENDER_DESC\n",
      "FEMALE\n",
      "MALE\n",
      "UNKNOWN_GENDER\n",
      "INTERSECTION_DESC\n",
      "NO_INTERSECTION\n",
      "YES_INTERSECTION\n",
      "WEATHER_DESC\n",
      "BLOWING SAND/SNOW\n",
      "CLEAR\n",
      "CLOUDY\n",
      "FOG\n",
      "OTHER_WEATHER\n",
      "RAIN\n",
      "SEVERE CROSSWINDS\n",
      "SLEET/HAIL\n",
      "SNOW_WEATHER\n",
      "UNKNOWN_WEATHER\n",
      "LIGHTING_DESC\n",
      "DARK-LIGHTED\n",
      "DARK-NOT LIGHTED\n",
      "DARK-UNKNOWN LIGHTING\n",
      "DAWN\n",
      "DAYLIGHT\n",
      "DUSK\n",
      "OTHER_LIGHT\n",
      "UNKNOWN_LIGHT\n",
      "SURF_DESC\n",
      "DIRT\n",
      "DRY\n",
      "ICE\n",
      "OTHER_SURF\n",
      "SLUSH\n",
      "SNOW_SURF\n",
      "STANDING_WATER\n",
      "UNKNOWN_SURF\n",
      "WET\n",
      "HUMAN_FACTOR_DESC\n",
      "IMPAIRMENT\n",
      "INATTENTION\n",
      "KNOWN_HUMAN_FACTOR\n",
      "LANE_CHNG\n",
      "NO_FAULT\n",
      "SPEEDING\n",
      "TAILGATING\n",
      "TECH_PARK\n",
      "TURNING\n",
      "UNKNOWN_HUMAN_FACTOR\n",
      "UNSAFE_BACKING\n",
      "VIOLATION\n",
      "ROAD_TYPE_DESC\n",
      "CITY STREET\n",
      "COUNTY ROAD\n",
      "FARM TO MARKET\n",
      "INTERSTATE\n",
      "OTHER ROADS\n",
      "TOLL BRIDGES\n",
      "TOLLWAY\n",
      "US & STATE HIGHWAY\n",
      "INJURY_DESC\n",
      "NO_INJURY\n",
      "YES_INJURY\n",
      "INTOXICATION_DESC\n",
      "ALCOHOL\n",
      "ALCOHOL, DRUG\n",
      "DRUG\n",
      "MARIJUANA\n",
      "MEDICINAL\n",
      "NO INTOXICATION\n",
      "INJURY_COUNT_SUM\n",
      "YEAR_CAT\n",
      "YEAR_2019\n",
      "YEAR_2020\n",
      "YEAR_2021\n",
      "LANE 1\n",
      "LANE 10\n",
      "LANE 11\n",
      "LANE 12\n",
      "LANE 13\n",
      "LANE 14\n",
      "LANE 2\n",
      "LANE 3\n",
      "LANE 4\n",
      "LANE 5\n",
      "LANE 6\n",
      "LANE 7\n",
      "LANE 8\n",
      "LANE 9\n"
     ]
    }
   ],
   "source": [
    "for i in texas_2021.columns:\n",
    "    print(i)"
   ]
  },
  {
   "cell_type": "code",
   "execution_count": 150,
   "id": "36246406",
   "metadata": {},
   "outputs": [],
   "source": [
    "texas_2020 = pd.merge(texas20,lanes_df_2020,on=['COUNTY'],how='left')"
   ]
  },
  {
   "cell_type": "code",
   "execution_count": 152,
   "id": "d64aa016",
   "metadata": {},
   "outputs": [],
   "source": [
    "texas_2021 = pd.merge(texas21,lanes_df_2021,on=['COUNTY'],how='left')"
   ]
  },
  {
   "cell_type": "code",
   "execution_count": 153,
   "id": "6b83e707",
   "metadata": {
    "scrolled": true
   },
   "outputs": [
    {
     "data": {
      "text/plain": [
       "((254, 116), (254, 116), (254, 116))"
      ]
     },
     "execution_count": 153,
     "metadata": {},
     "output_type": "execute_result"
    }
   ],
   "source": [
    "texas_2019.shape, texas_2020.shape, texas_2021.shape"
   ]
  },
  {
   "cell_type": "code",
   "execution_count": 154,
   "id": "ee6bda47",
   "metadata": {},
   "outputs": [
    {
     "data": {
      "text/plain": [
       "Index(['Crash_ID', 'AGE', 'GENDER', 'COUNTY_FIPS', 'COUNTY', 'INTERSECTION',\n",
       "       'WEATHER', 'LIGHTING', 'SURFACE', 'HUMAN_FACTOR',\n",
       "       ...\n",
       "       'LANE 13', 'LANE 14', 'LANE 2', 'LANE 3', 'LANE 4', 'LANE 5', 'LANE 6',\n",
       "       'LANE 7', 'LANE 8', 'LANE 9'],\n",
       "      dtype='object', length=116)"
      ]
     },
     "execution_count": 154,
     "metadata": {},
     "output_type": "execute_result"
    }
   ],
   "source": []
  },
  {
   "cell_type": "code",
   "execution_count": 156,
   "id": "3e2724d8",
   "metadata": {},
   "outputs": [],
   "source": [
    "texas = pd.concat([texas_2019,texas_2020,texas_2021],axis=0)"
   ]
  },
  {
   "cell_type": "code",
   "execution_count": 158,
   "id": "5f78ada0",
   "metadata": {},
   "outputs": [
    {
     "data": {
      "text/plain": [
       "(762, 116)"
      ]
     },
     "execution_count": 158,
     "metadata": {},
     "output_type": "execute_result"
    }
   ],
   "source": [
    "texas.shape"
   ]
  },
  {
   "cell_type": "code",
   "execution_count": 159,
   "id": "e9ca9224",
   "metadata": {},
   "outputs": [],
   "source": [
    "texas.to_csv('texas_new_buffer.csv',index= False)"
   ]
  },
  {
   "cell_type": "code",
   "execution_count": null,
   "id": "f7d9a063",
   "metadata": {},
   "outputs": [],
   "source": []
  }
 ],
 "metadata": {
  "kernelspec": {
   "display_name": "Python 3 (ipykernel)",
   "language": "python",
   "name": "python3"
  },
  "language_info": {
   "codemirror_mode": {
    "name": "ipython",
    "version": 3
   },
   "file_extension": ".py",
   "mimetype": "text/x-python",
   "name": "python",
   "nbconvert_exporter": "python",
   "pygments_lexer": "ipython3",
   "version": "3.11.4"
  }
 },
 "nbformat": 4,
 "nbformat_minor": 5
}
