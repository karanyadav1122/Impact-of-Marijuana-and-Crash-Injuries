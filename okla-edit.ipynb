{
 "cells": [
  {
   "cell_type": "code",
   "execution_count": 8,
   "id": "3af4f83c",
   "metadata": {},
   "outputs": [],
   "source": [
    "import numpy as np\n",
    "import pandas as pd"
   ]
  },
  {
   "cell_type": "code",
   "execution_count": 28,
   "id": "38cdcf5f",
   "metadata": {},
   "outputs": [],
   "source": [
    "okla = pd.read_csv('C:/Users/karan/oklahoma_final_merged.csv')"
   ]
  },
  {
   "cell_type": "code",
   "execution_count": 29,
   "id": "b8c7706f",
   "metadata": {},
   "outputs": [
    {
     "data": {
      "text/plain": [
       "Index(['Join_Count', 'TARGET_FID', 'Crash_ID', 'County_FIP', 'COUNTY', 'CITY',\n",
       "       'DATE', 'TIME', 'LIGHTING_CAT', 'WEATHER_CAT', 'ROAD_CLASS',\n",
       "       'INTOXICATION', 'LATITUDE', 'LONGITUDE', 'INATTENTION', 'SPEEDING',\n",
       "       'TEEN_DRIVE', 'OLDER_DRIV', 'INJURY_COUNT', 'INJURY_OUTCOME',\n",
       "       'ROUTE_ID', 'FROM_MEASU', 'TO_MEASURE', 'AADT', 'MEDIANWIDT',\n",
       "       'FUNCTIONAL', 'LANES', 'ROAD_WIDTH', 'MLENGTH', 'BUFF_DIST', 'ORIG_FID',\n",
       "       'Shape_Length', 'Shape_Area', 'WEATHER_DESC', 'BLOWING SAND/SNOW',\n",
       "       'CLEAR', 'CLOUDY', 'FOG', 'OTHER', 'RAIN', 'SEVERE CROSSWINDS',\n",
       "       'SLEET/HAIL', 'SNOW', 'UNKNOWN_WEATHER', 'LIGHTING_DESC',\n",
       "       'DARK-LIGHTED', 'DARK-NOT LIGHTED', 'DARK-UNKNOWN LIGHTING', 'DAWN',\n",
       "       'DAYLIGHT', 'DUSK', 'OTHER_LIGHT', 'UNKNOWN_LIGHT', 'ROAD_TYPE_DESC',\n",
       "       'CITY STREET', 'COUNTY ROAD', 'INTERSTATE', 'OTHER ROADS',\n",
       "       'US & STATE HIGHWAY', 'INTOXICATION_DESC', 'ALCOHOL', 'ALCOHOL, DRUG',\n",
       "       'DRUG', 'NO INTOXICATION', 'INATTENTION_DESC', 'NO_INATTENTION',\n",
       "       'YES_INATTENTION', 'INJURY_DESC', 'NO INJURY_OUTCOME',\n",
       "       'YES INJURY_OUTCOME', 'LANE_COUNT', 'LANE 0', 'LANE 1', 'LANE 10',\n",
       "       'LANE 2', 'LANE 3', 'LANE 4', 'LANE 6', 'LANE 8', 'INJURY_COUNT_SUM',\n",
       "       'ROAD_WIDTH_MEDIAN', 'ROAD_WIDTH_SUM', 'NO_SPEEDING', 'YES_SPEEDING',\n",
       "       'YEAR_CAT', 'YEAR_2019', 'YEAR_2020', 'YEAR_2021'],\n",
       "      dtype='object')"
      ]
     },
     "execution_count": 29,
     "metadata": {},
     "output_type": "execute_result"
    }
   ],
   "source": [
    "okla.columns"
   ]
  },
  {
   "cell_type": "code",
   "execution_count": 30,
   "id": "3c2171b9",
   "metadata": {},
   "outputs": [],
   "source": [
    "okla['STATE'] = 'Oklahoma'"
   ]
  },
  {
   "cell_type": "code",
   "execution_count": 31,
   "id": "e6a64d04",
   "metadata": {},
   "outputs": [],
   "source": [
    "okla.drop(columns=['DATE','TIME'],inplace= True)"
   ]
  },
  {
   "cell_type": "code",
   "execution_count": 32,
   "id": "fdee0e05",
   "metadata": {},
   "outputs": [
    {
     "data": {
      "text/plain": [
       "Index(['Join_Count', 'TARGET_FID', 'Crash_ID', 'County_FIP', 'COUNTY', 'CITY',\n",
       "       'LIGHTING_CAT', 'WEATHER_CAT', 'ROAD_CLASS', 'INTOXICATION', 'LATITUDE',\n",
       "       'LONGITUDE', 'INATTENTION', 'SPEEDING', 'TEEN_DRIVE', 'OLDER_DRIV',\n",
       "       'INJURY_COUNT', 'INJURY_OUTCOME', 'ROUTE_ID', 'FROM_MEASU',\n",
       "       'TO_MEASURE', 'AADT', 'MEDIANWIDT', 'FUNCTIONAL', 'LANES', 'ROAD_WIDTH',\n",
       "       'MLENGTH', 'BUFF_DIST', 'ORIG_FID', 'Shape_Length', 'Shape_Area',\n",
       "       'WEATHER_DESC', 'BLOWING SAND/SNOW', 'CLEAR', 'CLOUDY', 'FOG', 'OTHER',\n",
       "       'RAIN', 'SEVERE CROSSWINDS', 'SLEET/HAIL', 'SNOW', 'UNKNOWN_WEATHER',\n",
       "       'LIGHTING_DESC', 'DARK-LIGHTED', 'DARK-NOT LIGHTED',\n",
       "       'DARK-UNKNOWN LIGHTING', 'DAWN', 'DAYLIGHT', 'DUSK', 'OTHER_LIGHT',\n",
       "       'UNKNOWN_LIGHT', 'ROAD_TYPE_DESC', 'CITY STREET', 'COUNTY ROAD',\n",
       "       'INTERSTATE', 'OTHER ROADS', 'US & STATE HIGHWAY', 'INTOXICATION_DESC',\n",
       "       'ALCOHOL', 'ALCOHOL, DRUG', 'DRUG', 'NO INTOXICATION',\n",
       "       'INATTENTION_DESC', 'NO_INATTENTION', 'YES_INATTENTION', 'INJURY_DESC',\n",
       "       'NO INJURY_OUTCOME', 'YES INJURY_OUTCOME', 'LANE_COUNT', 'LANE 0',\n",
       "       'LANE 1', 'LANE 10', 'LANE 2', 'LANE 3', 'LANE 4', 'LANE 6', 'LANE 8',\n",
       "       'INJURY_COUNT_SUM', 'ROAD_WIDTH_MEDIAN', 'ROAD_WIDTH_SUM',\n",
       "       'NO_SPEEDING', 'YES_SPEEDING', 'YEAR_CAT', 'YEAR_2019', 'YEAR_2020',\n",
       "       'YEAR_2021', 'STATE'],\n",
       "      dtype='object')"
      ]
     },
     "execution_count": 32,
     "metadata": {},
     "output_type": "execute_result"
    }
   ],
   "source": [
    "okla.columns"
   ]
  },
  {
   "cell_type": "code",
   "execution_count": 33,
   "id": "41293e01",
   "metadata": {},
   "outputs": [],
   "source": [
    "okla_19 = okla[okla['YEAR_2019'] ==1]\n",
    "okla_20 = okla[okla['YEAR_2020']==1]\n",
    "okla_21 = okla[okla['YEAR_2021']==1]"
   ]
  },
  {
   "cell_type": "code",
   "execution_count": 34,
   "id": "a7158f29",
   "metadata": {},
   "outputs": [
    {
     "data": {
      "text/html": [
       "<div>\n",
       "<style scoped>\n",
       "    .dataframe tbody tr th:only-of-type {\n",
       "        vertical-align: middle;\n",
       "    }\n",
       "\n",
       "    .dataframe tbody tr th {\n",
       "        vertical-align: top;\n",
       "    }\n",
       "\n",
       "    .dataframe thead th {\n",
       "        text-align: right;\n",
       "    }\n",
       "</style>\n",
       "<table border=\"1\" class=\"dataframe\">\n",
       "  <thead>\n",
       "    <tr style=\"text-align: right;\">\n",
       "      <th></th>\n",
       "      <th>Join_Count</th>\n",
       "      <th>TARGET_FID</th>\n",
       "      <th>Crash_ID</th>\n",
       "      <th>County_FIP</th>\n",
       "      <th>COUNTY</th>\n",
       "      <th>CITY</th>\n",
       "      <th>LIGHTING_CAT</th>\n",
       "      <th>WEATHER_CAT</th>\n",
       "      <th>ROAD_CLASS</th>\n",
       "      <th>INTOXICATION</th>\n",
       "      <th>...</th>\n",
       "      <th>INJURY_COUNT_SUM</th>\n",
       "      <th>ROAD_WIDTH_MEDIAN</th>\n",
       "      <th>ROAD_WIDTH_SUM</th>\n",
       "      <th>NO_SPEEDING</th>\n",
       "      <th>YES_SPEEDING</th>\n",
       "      <th>YEAR_CAT</th>\n",
       "      <th>YEAR_2019</th>\n",
       "      <th>YEAR_2020</th>\n",
       "      <th>YEAR_2021</th>\n",
       "      <th>STATE</th>\n",
       "    </tr>\n",
       "  </thead>\n",
       "  <tbody>\n",
       "    <tr>\n",
       "      <th>0</th>\n",
       "      <td>1</td>\n",
       "      <td>1</td>\n",
       "      <td>191140536</td>\n",
       "      <td>40143</td>\n",
       "      <td>Tulsa</td>\n",
       "      <td>BROKEN ARROW</td>\n",
       "      <td>1</td>\n",
       "      <td>11</td>\n",
       "      <td>5</td>\n",
       "      <td>4</td>\n",
       "      <td>...</td>\n",
       "      <td>2644</td>\n",
       "      <td>80.0</td>\n",
       "      <td>264449</td>\n",
       "      <td>81.452785</td>\n",
       "      <td>0</td>\n",
       "      <td>1.0</td>\n",
       "      <td>1</td>\n",
       "      <td>0</td>\n",
       "      <td>0</td>\n",
       "      <td>Oklahoma</td>\n",
       "    </tr>\n",
       "    <tr>\n",
       "      <th>1</th>\n",
       "      <td>1</td>\n",
       "      <td>2</td>\n",
       "      <td>190500504</td>\n",
       "      <td>40145</td>\n",
       "      <td>Wagoner</td>\n",
       "      <td>BROKEN ARROW</td>\n",
       "      <td>1</td>\n",
       "      <td>11</td>\n",
       "      <td>2</td>\n",
       "      <td>4</td>\n",
       "      <td>...</td>\n",
       "      <td>266</td>\n",
       "      <td>120.0</td>\n",
       "      <td>23450</td>\n",
       "      <td>73.298429</td>\n",
       "      <td>0</td>\n",
       "      <td>1.0</td>\n",
       "      <td>1</td>\n",
       "      <td>0</td>\n",
       "      <td>0</td>\n",
       "      <td>Oklahoma</td>\n",
       "    </tr>\n",
       "    <tr>\n",
       "      <th>2</th>\n",
       "      <td>1</td>\n",
       "      <td>3</td>\n",
       "      <td>190805245</td>\n",
       "      <td>40119</td>\n",
       "      <td>Payne</td>\n",
       "      <td>STILLWATER</td>\n",
       "      <td>4</td>\n",
       "      <td>11</td>\n",
       "      <td>2</td>\n",
       "      <td>4</td>\n",
       "      <td>...</td>\n",
       "      <td>188</td>\n",
       "      <td>100.0</td>\n",
       "      <td>18685</td>\n",
       "      <td>85.906040</td>\n",
       "      <td>0</td>\n",
       "      <td>1.0</td>\n",
       "      <td>1</td>\n",
       "      <td>0</td>\n",
       "      <td>0</td>\n",
       "      <td>Oklahoma</td>\n",
       "    </tr>\n",
       "    <tr>\n",
       "      <th>3</th>\n",
       "      <td>1</td>\n",
       "      <td>4</td>\n",
       "      <td>190324581</td>\n",
       "      <td>40143</td>\n",
       "      <td>Tulsa</td>\n",
       "      <td>BROKEN ARROW</td>\n",
       "      <td>4</td>\n",
       "      <td>11</td>\n",
       "      <td>5</td>\n",
       "      <td>4</td>\n",
       "      <td>...</td>\n",
       "      <td>2644</td>\n",
       "      <td>80.0</td>\n",
       "      <td>264449</td>\n",
       "      <td>81.452785</td>\n",
       "      <td>0</td>\n",
       "      <td>1.0</td>\n",
       "      <td>1</td>\n",
       "      <td>0</td>\n",
       "      <td>0</td>\n",
       "      <td>Oklahoma</td>\n",
       "    </tr>\n",
       "    <tr>\n",
       "      <th>4</th>\n",
       "      <td>1</td>\n",
       "      <td>5</td>\n",
       "      <td>191285346</td>\n",
       "      <td>40017</td>\n",
       "      <td>Canadian</td>\n",
       "      <td>YUKON</td>\n",
       "      <td>1</td>\n",
       "      <td>2</td>\n",
       "      <td>5</td>\n",
       "      <td>4</td>\n",
       "      <td>...</td>\n",
       "      <td>259</td>\n",
       "      <td>100.0</td>\n",
       "      <td>30760</td>\n",
       "      <td>88.000000</td>\n",
       "      <td>0</td>\n",
       "      <td>1.0</td>\n",
       "      <td>1</td>\n",
       "      <td>0</td>\n",
       "      <td>0</td>\n",
       "      <td>Oklahoma</td>\n",
       "    </tr>\n",
       "    <tr>\n",
       "      <th>...</th>\n",
       "      <td>...</td>\n",
       "      <td>...</td>\n",
       "      <td>...</td>\n",
       "      <td>...</td>\n",
       "      <td>...</td>\n",
       "      <td>...</td>\n",
       "      <td>...</td>\n",
       "      <td>...</td>\n",
       "      <td>...</td>\n",
       "      <td>...</td>\n",
       "      <td>...</td>\n",
       "      <td>...</td>\n",
       "      <td>...</td>\n",
       "      <td>...</td>\n",
       "      <td>...</td>\n",
       "      <td>...</td>\n",
       "      <td>...</td>\n",
       "      <td>...</td>\n",
       "      <td>...</td>\n",
       "      <td>...</td>\n",
       "      <td>...</td>\n",
       "    </tr>\n",
       "    <tr>\n",
       "      <th>9758</th>\n",
       "      <td>1</td>\n",
       "      <td>9759</td>\n",
       "      <td>300468597</td>\n",
       "      <td>40123</td>\n",
       "      <td>Pontotoc</td>\n",
       "      <td>RURAL</td>\n",
       "      <td>3</td>\n",
       "      <td>11</td>\n",
       "      <td>2</td>\n",
       "      <td>4</td>\n",
       "      <td>...</td>\n",
       "      <td>75</td>\n",
       "      <td>130.0</td>\n",
       "      <td>8642</td>\n",
       "      <td>78.947368</td>\n",
       "      <td>0</td>\n",
       "      <td>1.0</td>\n",
       "      <td>1</td>\n",
       "      <td>0</td>\n",
       "      <td>0</td>\n",
       "      <td>Oklahoma</td>\n",
       "    </tr>\n",
       "    <tr>\n",
       "      <th>9759</th>\n",
       "      <td>1</td>\n",
       "      <td>9760</td>\n",
       "      <td>300468613</td>\n",
       "      <td>40019</td>\n",
       "      <td>Carter</td>\n",
       "      <td>RURAL</td>\n",
       "      <td>4</td>\n",
       "      <td>11</td>\n",
       "      <td>4</td>\n",
       "      <td>2</td>\n",
       "      <td>...</td>\n",
       "      <td>110</td>\n",
       "      <td>120.0</td>\n",
       "      <td>13510</td>\n",
       "      <td>76.344086</td>\n",
       "      <td>0</td>\n",
       "      <td>1.0</td>\n",
       "      <td>1</td>\n",
       "      <td>0</td>\n",
       "      <td>0</td>\n",
       "      <td>Oklahoma</td>\n",
       "    </tr>\n",
       "    <tr>\n",
       "      <th>9760</th>\n",
       "      <td>1</td>\n",
       "      <td>9761</td>\n",
       "      <td>300469364</td>\n",
       "      <td>40121</td>\n",
       "      <td>Pittsburg</td>\n",
       "      <td>RURAL</td>\n",
       "      <td>1</td>\n",
       "      <td>11</td>\n",
       "      <td>2</td>\n",
       "      <td>4</td>\n",
       "      <td>...</td>\n",
       "      <td>137</td>\n",
       "      <td>130.0</td>\n",
       "      <td>17896</td>\n",
       "      <td>83.898305</td>\n",
       "      <td>0</td>\n",
       "      <td>1.0</td>\n",
       "      <td>1</td>\n",
       "      <td>0</td>\n",
       "      <td>0</td>\n",
       "      <td>Oklahoma</td>\n",
       "    </tr>\n",
       "    <tr>\n",
       "      <th>9761</th>\n",
       "      <td>1</td>\n",
       "      <td>9762</td>\n",
       "      <td>300469637</td>\n",
       "      <td>40047</td>\n",
       "      <td>Garfield</td>\n",
       "      <td>RURAL</td>\n",
       "      <td>2</td>\n",
       "      <td>11</td>\n",
       "      <td>4</td>\n",
       "      <td>2</td>\n",
       "      <td>...</td>\n",
       "      <td>171</td>\n",
       "      <td>80.0</td>\n",
       "      <td>14906</td>\n",
       "      <td>84.671533</td>\n",
       "      <td>0</td>\n",
       "      <td>1.0</td>\n",
       "      <td>1</td>\n",
       "      <td>0</td>\n",
       "      <td>0</td>\n",
       "      <td>Oklahoma</td>\n",
       "    </tr>\n",
       "    <tr>\n",
       "      <th>9762</th>\n",
       "      <td>1</td>\n",
       "      <td>9763</td>\n",
       "      <td>300469922</td>\n",
       "      <td>40037</td>\n",
       "      <td>Creek</td>\n",
       "      <td>RURAL</td>\n",
       "      <td>1</td>\n",
       "      <td>12</td>\n",
       "      <td>2</td>\n",
       "      <td>2</td>\n",
       "      <td>...</td>\n",
       "      <td>184</td>\n",
       "      <td>100.0</td>\n",
       "      <td>21361</td>\n",
       "      <td>80.128205</td>\n",
       "      <td>0</td>\n",
       "      <td>1.0</td>\n",
       "      <td>1</td>\n",
       "      <td>0</td>\n",
       "      <td>0</td>\n",
       "      <td>Oklahoma</td>\n",
       "    </tr>\n",
       "  </tbody>\n",
       "</table>\n",
       "<p>9763 rows × 87 columns</p>\n",
       "</div>"
      ],
      "text/plain": [
       "      Join_Count  TARGET_FID   Crash_ID  County_FIP     COUNTY          CITY  \\\n",
       "0              1           1  191140536       40143      Tulsa  BROKEN ARROW   \n",
       "1              1           2  190500504       40145    Wagoner  BROKEN ARROW   \n",
       "2              1           3  190805245       40119      Payne    STILLWATER   \n",
       "3              1           4  190324581       40143      Tulsa  BROKEN ARROW   \n",
       "4              1           5  191285346       40017   Canadian         YUKON   \n",
       "...          ...         ...        ...         ...        ...           ...   \n",
       "9758           1        9759  300468597       40123   Pontotoc         RURAL   \n",
       "9759           1        9760  300468613       40019     Carter         RURAL   \n",
       "9760           1        9761  300469364       40121  Pittsburg         RURAL   \n",
       "9761           1        9762  300469637       40047   Garfield         RURAL   \n",
       "9762           1        9763  300469922       40037      Creek         RURAL   \n",
       "\n",
       "      LIGHTING_CAT  WEATHER_CAT  ROAD_CLASS  INTOXICATION  ...  \\\n",
       "0                1           11           5             4  ...   \n",
       "1                1           11           2             4  ...   \n",
       "2                4           11           2             4  ...   \n",
       "3                4           11           5             4  ...   \n",
       "4                1            2           5             4  ...   \n",
       "...            ...          ...         ...           ...  ...   \n",
       "9758             3           11           2             4  ...   \n",
       "9759             4           11           4             2  ...   \n",
       "9760             1           11           2             4  ...   \n",
       "9761             2           11           4             2  ...   \n",
       "9762             1           12           2             2  ...   \n",
       "\n",
       "      INJURY_COUNT_SUM  ROAD_WIDTH_MEDIAN  ROAD_WIDTH_SUM NO_SPEEDING  \\\n",
       "0                 2644               80.0          264449   81.452785   \n",
       "1                  266              120.0           23450   73.298429   \n",
       "2                  188              100.0           18685   85.906040   \n",
       "3                 2644               80.0          264449   81.452785   \n",
       "4                  259              100.0           30760   88.000000   \n",
       "...                ...                ...             ...         ...   \n",
       "9758                75              130.0            8642   78.947368   \n",
       "9759               110              120.0           13510   76.344086   \n",
       "9760               137              130.0           17896   83.898305   \n",
       "9761               171               80.0           14906   84.671533   \n",
       "9762               184              100.0           21361   80.128205   \n",
       "\n",
       "      YES_SPEEDING  YEAR_CAT  YEAR_2019  YEAR_2020 YEAR_2021     STATE  \n",
       "0                0       1.0          1          0         0  Oklahoma  \n",
       "1                0       1.0          1          0         0  Oklahoma  \n",
       "2                0       1.0          1          0         0  Oklahoma  \n",
       "3                0       1.0          1          0         0  Oklahoma  \n",
       "4                0       1.0          1          0         0  Oklahoma  \n",
       "...            ...       ...        ...        ...       ...       ...  \n",
       "9758             0       1.0          1          0         0  Oklahoma  \n",
       "9759             0       1.0          1          0         0  Oklahoma  \n",
       "9760             0       1.0          1          0         0  Oklahoma  \n",
       "9761             0       1.0          1          0         0  Oklahoma  \n",
       "9762             0       1.0          1          0         0  Oklahoma  \n",
       "\n",
       "[9763 rows x 87 columns]"
      ]
     },
     "execution_count": 34,
     "metadata": {},
     "output_type": "execute_result"
    }
   ],
   "source": [
    "okla_19"
   ]
  },
  {
   "cell_type": "code",
   "execution_count": 16,
   "id": "29030e68",
   "metadata": {},
   "outputs": [],
   "source": [
    "def drop(f):\n",
    "    f.drop(columns=['LATITUDE','LONGITUDE'],inplace= True)\n",
    "    return f\n",
    "    "
   ]
  },
  {
   "cell_type": "code",
   "execution_count": 35,
   "id": "baa01989",
   "metadata": {},
   "outputs": [
    {
     "data": {
      "text/plain": [
       "(9763, 87)"
      ]
     },
     "execution_count": 35,
     "metadata": {},
     "output_type": "execute_result"
    }
   ],
   "source": [
    "okla_19.shape"
   ]
  },
  {
   "cell_type": "code",
   "execution_count": 36,
   "id": "4ebe1be6",
   "metadata": {},
   "outputs": [
    {
     "name": "stderr",
     "output_type": "stream",
     "text": [
      "C:\\Users\\karan\\AppData\\Local\\Temp\\ipykernel_7584\\1481245455.py:2: SettingWithCopyWarning: \n",
      "A value is trying to be set on a copy of a slice from a DataFrame\n",
      "\n",
      "See the caveats in the documentation: https://pandas.pydata.org/pandas-docs/stable/user_guide/indexing.html#returning-a-view-versus-a-copy\n",
      "  f.drop(columns=['LATITUDE','LONGITUDE'],inplace= True)\n"
     ]
    }
   ],
   "source": [
    "okla_19 = drop(okla_19)"
   ]
  },
  {
   "cell_type": "code",
   "execution_count": 37,
   "id": "bbb5ac0f",
   "metadata": {},
   "outputs": [
    {
     "data": {
      "text/plain": [
       "(9763, 85)"
      ]
     },
     "execution_count": 37,
     "metadata": {},
     "output_type": "execute_result"
    }
   ],
   "source": [
    "okla_19.shape\n"
   ]
  },
  {
   "cell_type": "code",
   "execution_count": 38,
   "id": "111ad65f",
   "metadata": {},
   "outputs": [
    {
     "name": "stderr",
     "output_type": "stream",
     "text": [
      "C:\\Users\\karan\\AppData\\Local\\Temp\\ipykernel_7584\\1481245455.py:2: SettingWithCopyWarning: \n",
      "A value is trying to be set on a copy of a slice from a DataFrame\n",
      "\n",
      "See the caveats in the documentation: https://pandas.pydata.org/pandas-docs/stable/user_guide/indexing.html#returning-a-view-versus-a-copy\n",
      "  f.drop(columns=['LATITUDE','LONGITUDE'],inplace= True)\n",
      "C:\\Users\\karan\\AppData\\Local\\Temp\\ipykernel_7584\\1481245455.py:2: SettingWithCopyWarning: \n",
      "A value is trying to be set on a copy of a slice from a DataFrame\n",
      "\n",
      "See the caveats in the documentation: https://pandas.pydata.org/pandas-docs/stable/user_guide/indexing.html#returning-a-view-versus-a-copy\n",
      "  f.drop(columns=['LATITUDE','LONGITUDE'],inplace= True)\n"
     ]
    }
   ],
   "source": [
    "okla_20 = drop(okla_20)\n",
    "okla_21 = drop(okla_21)"
   ]
  },
  {
   "cell_type": "code",
   "execution_count": 39,
   "id": "88949253",
   "metadata": {},
   "outputs": [
    {
     "data": {
      "text/plain": [
       "((9763, 85), (8609, 85), (9360, 85))"
      ]
     },
     "execution_count": 39,
     "metadata": {},
     "output_type": "execute_result"
    }
   ],
   "source": [
    "okla_19.shape, okla_20.shape, okla_21.shape"
   ]
  },
  {
   "cell_type": "code",
   "execution_count": 40,
   "id": "1f5d57aa",
   "metadata": {},
   "outputs": [],
   "source": [
    "okla_19 = okla_19.drop_duplicates(subset=['COUNTY'],keep='first')\n",
    "okla_20 = okla_20.drop_duplicates(subset=['COUNTY'],keep='first')\n",
    "okla_21 = okla_21.drop_duplicates(subset=['COUNTY'],keep='first')"
   ]
  },
  {
   "cell_type": "code",
   "execution_count": 41,
   "id": "a7317c53",
   "metadata": {},
   "outputs": [
    {
     "data": {
      "text/plain": [
       "((77, 85), (77, 85), (77, 85))"
      ]
     },
     "execution_count": 41,
     "metadata": {},
     "output_type": "execute_result"
    }
   ],
   "source": [
    "okla_19.shape, okla_20.shape, okla_21.shape"
   ]
  },
  {
   "cell_type": "code",
   "execution_count": 42,
   "id": "8a3c313a",
   "metadata": {},
   "outputs": [],
   "source": [
    "okla_19.to_csv('okla_2019_county.csv',index= False)"
   ]
  },
  {
   "cell_type": "code",
   "execution_count": 43,
   "id": "692c83c4",
   "metadata": {},
   "outputs": [],
   "source": [
    "okla_20.to_csv('okla_2020_county.csv',index= False)"
   ]
  },
  {
   "cell_type": "code",
   "execution_count": 44,
   "id": "50965774",
   "metadata": {},
   "outputs": [],
   "source": [
    "okla_21.to_csv('okla_2021_county.csv',index= False)"
   ]
  },
  {
   "cell_type": "code",
   "execution_count": 45,
   "id": "5eab8833",
   "metadata": {},
   "outputs": [],
   "source": [
    "ok = pd.concat([okla_19,okla_20,okla_21],axis=0)"
   ]
  },
  {
   "cell_type": "code",
   "execution_count": 47,
   "id": "df7e1914",
   "metadata": {},
   "outputs": [
    {
     "data": {
      "text/plain": [
       "(231, 85)"
      ]
     },
     "execution_count": 47,
     "metadata": {},
     "output_type": "execute_result"
    }
   ],
   "source": [
    "ok.shape"
   ]
  },
  {
   "cell_type": "code",
   "execution_count": 48,
   "id": "3531ff17",
   "metadata": {},
   "outputs": [],
   "source": [
    "ok.to_csv('okla_county_year.csv',index= False)"
   ]
  },
  {
   "cell_type": "code",
   "execution_count": 61,
   "id": "e96441fe",
   "metadata": {},
   "outputs": [],
   "source": [
    "t = pd.read_csv('C:/Users/karan/texas_comb.csv')"
   ]
  },
  {
   "cell_type": "code",
   "execution_count": 53,
   "id": "5f1eef28",
   "metadata": {},
   "outputs": [
    {
     "name": "stdout",
     "output_type": "stream",
     "text": [
      "Crash_ID\n",
      "AGE\n",
      "GENDER\n",
      "DATE\n",
      "TIME\n",
      "COUNTY_FIPS\n",
      "COUNTY\n",
      "INTERSECTION\n",
      "WEATHER\n",
      "LIGHTING\n",
      "SURFACE\n",
      "HUMAN_FACTOR\n",
      "ROAD_CLASS\n",
      "LATITUDE\n",
      "LONGITUDE\n",
      "MEDIANWIDTH\n",
      "LANES\n",
      "ROADWIDTH\n",
      "AADT\n",
      "INJURY_OUTCOME\n",
      "INJURY_COUNT\n",
      "INTOXICATION\n",
      "BUFF_DIST\n",
      "ORIG_FID\n",
      "Shape_Length\n",
      "Shape_Area\n",
      "AGE_BAND\n",
      "AGE 1-21\n",
      "AGE 22-30\n",
      "AGE 31-65\n",
      "AGE 66 and above\n",
      "Unknown Age\n",
      "GENDER_DESC\n",
      "FEMALE\n",
      "MALE\n",
      "UNKNOWN_GENDER\n",
      "INTERSECTION_DESC\n",
      "NO_INTERSECTION\n",
      "YES_INTERSECTION\n",
      "WEATHER_DESC\n",
      "BLOWING SAND/SNOW\n",
      "CLEAR\n",
      "CLOUDY\n",
      "FOG\n",
      "OTHER_WEATHER\n",
      "RAIN\n",
      "SEVERE CROSSWINDS\n",
      "SLEET/HAIL\n",
      "SNOW_WEATHER\n",
      "UNKNOWN_WEATHER\n",
      "LIGHTING_DESC\n",
      "DARK-LIGHTED\n",
      "DARK-NOT LIGHTED\n",
      "DARK-UNKNOWN LIGHTING\n",
      "DAWN\n",
      "DAYLIGHT\n",
      "DUSK\n",
      "OTHER_LIGHT\n",
      "UNKNOWN_LIGHT\n",
      "SURF_DESC\n",
      "DIRT\n",
      "DRY\n",
      "ICE\n",
      "OTHER_SURF\n",
      "SLUSH\n",
      "SNOW_SURF\n",
      "STANDING_WATER\n",
      "UNKNOWN_SURF\n",
      "WET\n",
      "HUMAN_FACTOR_DESC\n",
      "IMPAIRMENT\n",
      "INATTENTION\n",
      "KNOWN_HUMAN_FACTOR\n",
      "LANE_CHNG\n",
      "NO_FAULT\n",
      "SPEEDING\n",
      "TAILGATING\n",
      "TECH_PARK\n",
      "TURNING\n",
      "UNKNOWN_HUMAN_FACTOR\n",
      "UNSAFE_BACKING\n",
      "VIOLATION\n",
      "ROAD_TYPE_DESC\n",
      "CITY STREET\n",
      "COUNTY ROAD\n",
      "FARM TO MARKET\n",
      "INTERSTATE\n",
      "OTHER ROADS\n",
      "TOLL BRIDGES\n",
      "TOLLWAY\n",
      "US & STATE HIGHWAY\n",
      "INJURY_DESC\n",
      "NO_INJURY\n",
      "YES_INJURY\n",
      "INTOXICATION_DESC\n",
      "ALCOHOL\n",
      "ALCOHOL, DRUG\n",
      "DRUG\n",
      "MARIJUANA\n",
      "MEDICINAL\n",
      "NO INTOXICATION\n",
      "INJURY_COUNT_SUM\n",
      "YEAR_CAT\n",
      "YEAR_2019\n",
      "YEAR_2020\n",
      "YEAR_2021\n"
     ]
    }
   ],
   "source": [
    "for i in t.columns:\n",
    "    print(i)"
   ]
  },
  {
   "cell_type": "code",
   "execution_count": 62,
   "id": "113edc5e",
   "metadata": {},
   "outputs": [],
   "source": [
    "t.drop(columns=['DATE','TIME'],inplace= True)"
   ]
  },
  {
   "cell_type": "code",
   "execution_count": 63,
   "id": "5be7e69d",
   "metadata": {},
   "outputs": [],
   "source": [
    "texas_19 = t[t['YEAR_2019']==1]\n",
    "texas_20 = t[t['YEAR_2020']==1]\n",
    "texas_21 = t[t['YEAR_2021']==1]"
   ]
  },
  {
   "cell_type": "code",
   "execution_count": 56,
   "id": "a7b1d9f6",
   "metadata": {},
   "outputs": [],
   "source": [
    "def drop(f1):\n",
    "    f1.drop(columns=['LATITUDE','LONGITUDE'],inplace= True)\n",
    "    return f1"
   ]
  },
  {
   "cell_type": "code",
   "execution_count": 64,
   "id": "ff3a6c14",
   "metadata": {},
   "outputs": [
    {
     "data": {
      "text/plain": [
       "(241003, 104)"
      ]
     },
     "execution_count": 64,
     "metadata": {},
     "output_type": "execute_result"
    }
   ],
   "source": [
    "texas_19.shape"
   ]
  },
  {
   "cell_type": "code",
   "execution_count": 65,
   "id": "b778dba9",
   "metadata": {},
   "outputs": [
    {
     "name": "stderr",
     "output_type": "stream",
     "text": [
      "C:\\Users\\karan\\AppData\\Local\\Temp\\ipykernel_7584\\2459336297.py:2: SettingWithCopyWarning: \n",
      "A value is trying to be set on a copy of a slice from a DataFrame\n",
      "\n",
      "See the caveats in the documentation: https://pandas.pydata.org/pandas-docs/stable/user_guide/indexing.html#returning-a-view-versus-a-copy\n",
      "  f1.drop(columns=['LATITUDE','LONGITUDE'],inplace= True)\n",
      "C:\\Users\\karan\\AppData\\Local\\Temp\\ipykernel_7584\\2459336297.py:2: SettingWithCopyWarning: \n",
      "A value is trying to be set on a copy of a slice from a DataFrame\n",
      "\n",
      "See the caveats in the documentation: https://pandas.pydata.org/pandas-docs/stable/user_guide/indexing.html#returning-a-view-versus-a-copy\n",
      "  f1.drop(columns=['LATITUDE','LONGITUDE'],inplace= True)\n",
      "C:\\Users\\karan\\AppData\\Local\\Temp\\ipykernel_7584\\2459336297.py:2: SettingWithCopyWarning: \n",
      "A value is trying to be set on a copy of a slice from a DataFrame\n",
      "\n",
      "See the caveats in the documentation: https://pandas.pydata.org/pandas-docs/stable/user_guide/indexing.html#returning-a-view-versus-a-copy\n",
      "  f1.drop(columns=['LATITUDE','LONGITUDE'],inplace= True)\n"
     ]
    }
   ],
   "source": [
    "texas_19 = drop(texas_19)\n",
    "texas_20 = drop(texas_20)\n",
    "texas_21 = drop(texas_21)"
   ]
  },
  {
   "cell_type": "code",
   "execution_count": 59,
   "id": "4be687a4",
   "metadata": {},
   "outputs": [
    {
     "data": {
      "text/plain": [
       "(241003, 102)"
      ]
     },
     "execution_count": 59,
     "metadata": {},
     "output_type": "execute_result"
    }
   ],
   "source": [
    "texas_19.shape"
   ]
  },
  {
   "cell_type": "code",
   "execution_count": 66,
   "id": "7af8fc38",
   "metadata": {},
   "outputs": [],
   "source": [
    "texas_19 = texas_19.drop_duplicates(subset=['COUNTY'],keep='first')\n",
    "texas_20 = texas_20.drop_duplicates(subset=['COUNTY'],keep='first')\n",
    "texas_21 = texas_21.drop_duplicates(subset=['COUNTY'],keep='first')"
   ]
  },
  {
   "cell_type": "code",
   "execution_count": 67,
   "id": "85cd6f52",
   "metadata": {},
   "outputs": [
    {
     "data": {
      "text/plain": [
       "(254, 102)"
      ]
     },
     "execution_count": 67,
     "metadata": {},
     "output_type": "execute_result"
    }
   ],
   "source": [
    "texas_19.shape"
   ]
  },
  {
   "cell_type": "code",
   "execution_count": 68,
   "id": "7522c5c6",
   "metadata": {},
   "outputs": [
    {
     "data": {
      "text/plain": [
       "(254, 102)"
      ]
     },
     "execution_count": 68,
     "metadata": {},
     "output_type": "execute_result"
    }
   ],
   "source": [
    "texas_20.shape"
   ]
  },
  {
   "cell_type": "code",
   "execution_count": 69,
   "id": "66b7982b",
   "metadata": {},
   "outputs": [
    {
     "data": {
      "text/plain": [
       "(254, 102)"
      ]
     },
     "execution_count": 69,
     "metadata": {},
     "output_type": "execute_result"
    }
   ],
   "source": [
    "texas_21.shape"
   ]
  },
  {
   "cell_type": "code",
   "execution_count": 70,
   "id": "52eb4f49",
   "metadata": {},
   "outputs": [],
   "source": [
    "texas_19.to_csv('texas_2019_county.csv',index= False)"
   ]
  },
  {
   "cell_type": "code",
   "execution_count": 71,
   "id": "eb707b34",
   "metadata": {},
   "outputs": [],
   "source": [
    "texas_20.to_csv('texas_2020_county.csv',index= False)"
   ]
  },
  {
   "cell_type": "code",
   "execution_count": 72,
   "id": "a97d35d0",
   "metadata": {},
   "outputs": [],
   "source": [
    "texas_21.to_csv('texas_2021_county.csv',index= False)"
   ]
  },
  {
   "cell_type": "code",
   "execution_count": 73,
   "id": "68d0d52c",
   "metadata": {},
   "outputs": [],
   "source": [
    "tex = pd.concat([texas_19,texas_20,texas_21],axis= 0)"
   ]
  },
  {
   "cell_type": "code",
   "execution_count": 74,
   "id": "20f5a726",
   "metadata": {},
   "outputs": [
    {
     "data": {
      "text/plain": [
       "(762, 102)"
      ]
     },
     "execution_count": 74,
     "metadata": {},
     "output_type": "execute_result"
    }
   ],
   "source": [
    "tex.shape"
   ]
  },
  {
   "cell_type": "code",
   "execution_count": 75,
   "id": "8f9ffc92",
   "metadata": {},
   "outputs": [],
   "source": [
    "tex.to_csv('texas_county_year.csv',index= False)"
   ]
  },
  {
   "cell_type": "code",
   "execution_count": null,
   "id": "22578df2",
   "metadata": {},
   "outputs": [],
   "source": []
  }
 ],
 "metadata": {
  "kernelspec": {
   "display_name": "Python 3 (ipykernel)",
   "language": "python",
   "name": "python3"
  },
  "language_info": {
   "codemirror_mode": {
    "name": "ipython",
    "version": 3
   },
   "file_extension": ".py",
   "mimetype": "text/x-python",
   "name": "python",
   "nbconvert_exporter": "python",
   "pygments_lexer": "ipython3",
   "version": "3.11.4"
  }
 },
 "nbformat": 4,
 "nbformat_minor": 5
}
