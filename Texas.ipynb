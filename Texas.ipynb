{
 "cells": [
  {
   "cell_type": "code",
   "execution_count": 1,
   "id": "22e95f9c",
   "metadata": {},
   "outputs": [],
   "source": [
    "import numpy as np\n",
    "import pandas as pd"
   ]
  },
  {
   "cell_type": "code",
   "execution_count": 2,
   "id": "dca5e9c1",
   "metadata": {},
   "outputs": [],
   "source": [
    "texas = pd.read_csv('C:/Users/karan/Texas_Final_3.csv')"
   ]
  },
  {
   "cell_type": "code",
   "execution_count": 3,
   "id": "c8f9d163",
   "metadata": {},
   "outputs": [
    {
     "data": {
      "text/html": [
       "<div>\n",
       "<style scoped>\n",
       "    .dataframe tbody tr th:only-of-type {\n",
       "        vertical-align: middle;\n",
       "    }\n",
       "\n",
       "    .dataframe tbody tr th {\n",
       "        vertical-align: top;\n",
       "    }\n",
       "\n",
       "    .dataframe thead th {\n",
       "        text-align: right;\n",
       "    }\n",
       "</style>\n",
       "<table border=\"1\" class=\"dataframe\">\n",
       "  <thead>\n",
       "    <tr style=\"text-align: right;\">\n",
       "      <th></th>\n",
       "      <th>Intoxication</th>\n",
       "      <th>Crash_ID</th>\n",
       "      <th>Age</th>\n",
       "      <th>Ethnicity</th>\n",
       "      <th>Gender</th>\n",
       "      <th>Crash_Date</th>\n",
       "      <th>Crash_Time</th>\n",
       "      <th>FIPS_Code</th>\n",
       "      <th>County_Name</th>\n",
       "      <th>Damage_1000</th>\n",
       "      <th>...</th>\n",
       "      <th>Days</th>\n",
       "      <th>MedianWidth</th>\n",
       "      <th>NmbrLanes</th>\n",
       "      <th>Roadbed_Width</th>\n",
       "      <th>AADT</th>\n",
       "      <th>Injury</th>\n",
       "      <th>Tot_Injry_Cnt</th>\n",
       "      <th>Death_Cnt</th>\n",
       "      <th>YEAR</th>\n",
       "      <th>Test</th>\n",
       "    </tr>\n",
       "  </thead>\n",
       "  <tbody>\n",
       "    <tr>\n",
       "      <th>0</th>\n",
       "      <td>97</td>\n",
       "      <td>15585669</td>\n",
       "      <td>27</td>\n",
       "      <td>0</td>\n",
       "      <td>2</td>\n",
       "      <td>2/10/2019</td>\n",
       "      <td>4:50 PM</td>\n",
       "      <td>48141</td>\n",
       "      <td>El Paso</td>\n",
       "      <td>Y</td>\n",
       "      <td>...</td>\n",
       "      <td>SUN</td>\n",
       "      <td>2</td>\n",
       "      <td>4</td>\n",
       "      <td>112</td>\n",
       "      <td>52681</td>\n",
       "      <td>0</td>\n",
       "      <td>0</td>\n",
       "      <td>0</td>\n",
       "      <td>2019</td>\n",
       "      <td>4</td>\n",
       "    </tr>\n",
       "    <tr>\n",
       "      <th>1</th>\n",
       "      <td>97</td>\n",
       "      <td>16473665</td>\n",
       "      <td>48</td>\n",
       "      <td>1</td>\n",
       "      <td>1</td>\n",
       "      <td>6/15/2019</td>\n",
       "      <td>11:00 AM</td>\n",
       "      <td>48241</td>\n",
       "      <td>Jasper</td>\n",
       "      <td>Y</td>\n",
       "      <td>...</td>\n",
       "      <td>SAT</td>\n",
       "      <td>0</td>\n",
       "      <td>4</td>\n",
       "      <td>82</td>\n",
       "      <td>10634</td>\n",
       "      <td>1</td>\n",
       "      <td>1</td>\n",
       "      <td>0</td>\n",
       "      <td>2019</td>\n",
       "      <td>4</td>\n",
       "    </tr>\n",
       "    <tr>\n",
       "      <th>2</th>\n",
       "      <td>97</td>\n",
       "      <td>16585839</td>\n",
       "      <td>44</td>\n",
       "      <td>2</td>\n",
       "      <td>1</td>\n",
       "      <td>1/26/2019</td>\n",
       "      <td>12:40 PM</td>\n",
       "      <td>48113</td>\n",
       "      <td>Dallas</td>\n",
       "      <td>Y</td>\n",
       "      <td>...</td>\n",
       "      <td>SAT</td>\n",
       "      <td>4</td>\n",
       "      <td>6</td>\n",
       "      <td>130</td>\n",
       "      <td>133758</td>\n",
       "      <td>1</td>\n",
       "      <td>1</td>\n",
       "      <td>0</td>\n",
       "      <td>2019</td>\n",
       "      <td>1</td>\n",
       "    </tr>\n",
       "    <tr>\n",
       "      <th>3</th>\n",
       "      <td>97</td>\n",
       "      <td>16824697</td>\n",
       "      <td>37</td>\n",
       "      <td>3</td>\n",
       "      <td>1</td>\n",
       "      <td>1/1/2019</td>\n",
       "      <td>4:53 AM</td>\n",
       "      <td>48113</td>\n",
       "      <td>Dallas</td>\n",
       "      <td>Y</td>\n",
       "      <td>...</td>\n",
       "      <td>TUE</td>\n",
       "      <td>4</td>\n",
       "      <td>6</td>\n",
       "      <td>112</td>\n",
       "      <td>106249</td>\n",
       "      <td>1</td>\n",
       "      <td>1</td>\n",
       "      <td>0</td>\n",
       "      <td>2019</td>\n",
       "      <td>4</td>\n",
       "    </tr>\n",
       "    <tr>\n",
       "      <th>4</th>\n",
       "      <td>97</td>\n",
       "      <td>16824710</td>\n",
       "      <td>53</td>\n",
       "      <td>2</td>\n",
       "      <td>1</td>\n",
       "      <td>1/1/2019</td>\n",
       "      <td>2:57 AM</td>\n",
       "      <td>48303</td>\n",
       "      <td>Lubbock</td>\n",
       "      <td>Y</td>\n",
       "      <td>...</td>\n",
       "      <td>TUE</td>\n",
       "      <td>0</td>\n",
       "      <td>4</td>\n",
       "      <td>64</td>\n",
       "      <td>18142</td>\n",
       "      <td>1</td>\n",
       "      <td>2</td>\n",
       "      <td>0</td>\n",
       "      <td>2019</td>\n",
       "      <td>4</td>\n",
       "    </tr>\n",
       "    <tr>\n",
       "      <th>...</th>\n",
       "      <td>...</td>\n",
       "      <td>...</td>\n",
       "      <td>...</td>\n",
       "      <td>...</td>\n",
       "      <td>...</td>\n",
       "      <td>...</td>\n",
       "      <td>...</td>\n",
       "      <td>...</td>\n",
       "      <td>...</td>\n",
       "      <td>...</td>\n",
       "      <td>...</td>\n",
       "      <td>...</td>\n",
       "      <td>...</td>\n",
       "      <td>...</td>\n",
       "      <td>...</td>\n",
       "      <td>...</td>\n",
       "      <td>...</td>\n",
       "      <td>...</td>\n",
       "      <td>...</td>\n",
       "      <td>...</td>\n",
       "      <td>...</td>\n",
       "    </tr>\n",
       "    <tr>\n",
       "      <th>726218</th>\n",
       "      <td>97</td>\n",
       "      <td>19834478</td>\n",
       "      <td>38</td>\n",
       "      <td>1</td>\n",
       "      <td>1</td>\n",
       "      <td>1/29/2021</td>\n",
       "      <td>3:57 PM</td>\n",
       "      <td>48019</td>\n",
       "      <td>Bandera</td>\n",
       "      <td>Y</td>\n",
       "      <td>...</td>\n",
       "      <td>FRI</td>\n",
       "      <td>0</td>\n",
       "      <td>2</td>\n",
       "      <td>50</td>\n",
       "      <td>12234</td>\n",
       "      <td>0</td>\n",
       "      <td>0</td>\n",
       "      <td>0</td>\n",
       "      <td>2021</td>\n",
       "      <td>4</td>\n",
       "    </tr>\n",
       "    <tr>\n",
       "      <th>726219</th>\n",
       "      <td>97</td>\n",
       "      <td>19850863</td>\n",
       "      <td>52</td>\n",
       "      <td>1</td>\n",
       "      <td>1</td>\n",
       "      <td>2/21/2021</td>\n",
       "      <td>12:22 PM</td>\n",
       "      <td>48019</td>\n",
       "      <td>Bandera</td>\n",
       "      <td>Y</td>\n",
       "      <td>...</td>\n",
       "      <td>SUN</td>\n",
       "      <td>0</td>\n",
       "      <td>2</td>\n",
       "      <td>40</td>\n",
       "      <td>5454</td>\n",
       "      <td>0</td>\n",
       "      <td>0</td>\n",
       "      <td>0</td>\n",
       "      <td>2021</td>\n",
       "      <td>4</td>\n",
       "    </tr>\n",
       "    <tr>\n",
       "      <th>726220</th>\n",
       "      <td>97</td>\n",
       "      <td>19906451</td>\n",
       "      <td>66</td>\n",
       "      <td>2</td>\n",
       "      <td>1</td>\n",
       "      <td>8/25/2021</td>\n",
       "      <td>7:32 PM</td>\n",
       "      <td>48479</td>\n",
       "      <td>Webb</td>\n",
       "      <td>Y</td>\n",
       "      <td>...</td>\n",
       "      <td>WED</td>\n",
       "      <td>5</td>\n",
       "      <td>6</td>\n",
       "      <td>95</td>\n",
       "      <td>20376</td>\n",
       "      <td>0</td>\n",
       "      <td>0</td>\n",
       "      <td>0</td>\n",
       "      <td>2021</td>\n",
       "      <td>4</td>\n",
       "    </tr>\n",
       "    <tr>\n",
       "      <th>726221</th>\n",
       "      <td>97</td>\n",
       "      <td>20073914</td>\n",
       "      <td>18</td>\n",
       "      <td>1</td>\n",
       "      <td>1</td>\n",
       "      <td>2/23/2021</td>\n",
       "      <td>3:50 AM</td>\n",
       "      <td>48201</td>\n",
       "      <td>Harris</td>\n",
       "      <td>N</td>\n",
       "      <td>...</td>\n",
       "      <td>TUE</td>\n",
       "      <td>26</td>\n",
       "      <td>8</td>\n",
       "      <td>140</td>\n",
       "      <td>138976</td>\n",
       "      <td>1</td>\n",
       "      <td>1</td>\n",
       "      <td>0</td>\n",
       "      <td>2021</td>\n",
       "      <td>4</td>\n",
       "    </tr>\n",
       "    <tr>\n",
       "      <th>726222</th>\n",
       "      <td>97</td>\n",
       "      <td>20087367</td>\n",
       "      <td>35</td>\n",
       "      <td>1</td>\n",
       "      <td>1</td>\n",
       "      <td>3/14/2021</td>\n",
       "      <td>5:30 PM</td>\n",
       "      <td>48339</td>\n",
       "      <td>Montgomery</td>\n",
       "      <td>Y</td>\n",
       "      <td>...</td>\n",
       "      <td>SUN</td>\n",
       "      <td>0</td>\n",
       "      <td>4</td>\n",
       "      <td>88</td>\n",
       "      <td>51109</td>\n",
       "      <td>0</td>\n",
       "      <td>0</td>\n",
       "      <td>0</td>\n",
       "      <td>2021</td>\n",
       "      <td>4</td>\n",
       "    </tr>\n",
       "  </tbody>\n",
       "</table>\n",
       "<p>726223 rows × 35 columns</p>\n",
       "</div>"
      ],
      "text/plain": [
       "        Intoxication  Crash_ID  Age  Ethnicity  Gender Crash_Date Crash_Time  \\\n",
       "0                 97  15585669   27          0       2  2/10/2019    4:50 PM   \n",
       "1                 97  16473665   48          1       1  6/15/2019   11:00 AM   \n",
       "2                 97  16585839   44          2       1  1/26/2019   12:40 PM   \n",
       "3                 97  16824697   37          3       1   1/1/2019    4:53 AM   \n",
       "4                 97  16824710   53          2       1   1/1/2019    2:57 AM   \n",
       "...              ...       ...  ...        ...     ...        ...        ...   \n",
       "726218            97  19834478   38          1       1  1/29/2021    3:57 PM   \n",
       "726219            97  19850863   52          1       1  2/21/2021   12:22 PM   \n",
       "726220            97  19906451   66          2       1  8/25/2021    7:32 PM   \n",
       "726221            97  20073914   18          1       1  2/23/2021    3:50 AM   \n",
       "726222            97  20087367   35          1       1  3/14/2021    5:30 PM   \n",
       "\n",
       "        FIPS_Code County_Name Damage_1000  ...  Days MedianWidth  NmbrLanes  \\\n",
       "0           48141     El Paso           Y  ...   SUN           2          4   \n",
       "1           48241      Jasper           Y  ...   SAT           0          4   \n",
       "2           48113      Dallas           Y  ...   SAT           4          6   \n",
       "3           48113      Dallas           Y  ...   TUE           4          6   \n",
       "4           48303     Lubbock           Y  ...   TUE           0          4   \n",
       "...           ...         ...         ...  ...   ...         ...        ...   \n",
       "726218      48019     Bandera           Y  ...   FRI           0          2   \n",
       "726219      48019     Bandera           Y  ...   SUN           0          2   \n",
       "726220      48479        Webb           Y  ...   WED           5          6   \n",
       "726221      48201      Harris           N  ...   TUE          26          8   \n",
       "726222      48339  Montgomery           Y  ...   SUN           0          4   \n",
       "\n",
       "        Roadbed_Width    AADT  Injury   Tot_Injry_Cnt  Death_Cnt  YEAR  Test  \n",
       "0                 112   52681        0              0          0  2019     4  \n",
       "1                  82   10634        1              1          0  2019     4  \n",
       "2                 130  133758        1              1          0  2019     1  \n",
       "3                 112  106249        1              1          0  2019     4  \n",
       "4                  64   18142        1              2          0  2019     4  \n",
       "...               ...     ...      ...            ...        ...   ...   ...  \n",
       "726218             50   12234        0              0          0  2021     4  \n",
       "726219             40    5454        0              0          0  2021     4  \n",
       "726220             95   20376        0              0          0  2021     4  \n",
       "726221            140  138976        1              1          0  2021     4  \n",
       "726222             88   51109        0              0          0  2021     4  \n",
       "\n",
       "[726223 rows x 35 columns]"
      ]
     },
     "execution_count": 3,
     "metadata": {},
     "output_type": "execute_result"
    }
   ],
   "source": [
    "texas"
   ]
  },
  {
   "cell_type": "code",
   "execution_count": 4,
   "id": "04dbd9b8",
   "metadata": {},
   "outputs": [
    {
     "data": {
      "text/plain": [
       "Index(['Intoxication', 'Crash_ID', 'Age', 'Ethnicity', 'Gender', 'Crash_Date',\n",
       "       'Crash_Time', 'FIPS_Code', 'County_Name', 'Damage_1000', 'Speed',\n",
       "       'Intersection', 'Weather', 'Lighting', 'EntrRoad', 'RoadType',\n",
       "       'RoadAlign', 'Surface', 'Evnt_1', 'HmnFac_1', 'RoadPart', 'RoadClass',\n",
       "       'Latitude', 'Longitude', 'Severity', 'Days', 'MedianWidth', 'NmbrLanes',\n",
       "       'Roadbed_Width', 'AADT', 'Injury ', 'Tot_Injry_Cnt', 'Death_Cnt',\n",
       "       'YEAR', 'Test'],\n",
       "      dtype='object')"
      ]
     },
     "execution_count": 4,
     "metadata": {},
     "output_type": "execute_result"
    }
   ],
   "source": [
    "texas.columns"
   ]
  },
  {
   "cell_type": "code",
   "execution_count": 6,
   "id": "73fa13a0",
   "metadata": {},
   "outputs": [
    {
     "data": {
      "text/plain": [
       "array([64, 45, 23, 20, 32,  1, 39, 36, 22, 54, 58, 30, 98, 28, 26, 62, 56,\n",
       "       33, 29,  3, 41, 21, 61, 35, 27, 42, 34, 37, 63, 31, 57, 43,  2, 59,\n",
       "       52,  4, 25, 50, 51, 10, 24, 38, 60, 53, 40, 12, 49, 11, 44],\n",
       "      dtype=int64)"
      ]
     },
     "execution_count": 6,
     "metadata": {},
     "output_type": "execute_result"
    }
   ],
   "source": [
    "texas['HmnFac_1'].unique()"
   ]
  },
  {
   "cell_type": "code",
   "execution_count": 8,
   "id": "a2595d7b",
   "metadata": {},
   "outputs": [],
   "source": [
    "map_1 = {1:10,2:10,59:10}"
   ]
  },
  {
   "cell_type": "code",
   "execution_count": 9,
   "id": "81e816cb",
   "metadata": {},
   "outputs": [],
   "source": [
    "texas['HmnFac_1'] = texas['HmnFac_1'].replace(map_1)"
   ]
  },
  {
   "cell_type": "code",
   "execution_count": 10,
   "id": "f1ab9c46",
   "metadata": {},
   "outputs": [],
   "source": [
    "map_2 = {3:6}"
   ]
  },
  {
   "cell_type": "code",
   "execution_count": 11,
   "id": "aa414e67",
   "metadata": {},
   "outputs": [],
   "source": [
    "texas['HmnFac_1'] = texas['HmnFac_1'].replace(map_2)"
   ]
  },
  {
   "cell_type": "code",
   "execution_count": 14,
   "id": "52b1ff3e",
   "metadata": {},
   "outputs": [],
   "source": [
    "map_3 = {4:3}"
   ]
  },
  {
   "cell_type": "code",
   "execution_count": 15,
   "id": "4683f4bf",
   "metadata": {},
   "outputs": [],
   "source": [
    "texas['HmnFac_1'] = texas['HmnFac_1'].replace(map_3)"
   ]
  },
  {
   "cell_type": "code",
   "execution_count": 16,
   "id": "01b983b7",
   "metadata": {},
   "outputs": [],
   "source": [
    "map_4 = {44:4}"
   ]
  },
  {
   "cell_type": "code",
   "execution_count": 17,
   "id": "a7b8de27",
   "metadata": {},
   "outputs": [],
   "source": [
    "texas['HmnFac_1'] =texas['HmnFac_1'].replace(map_4)"
   ]
  },
  {
   "cell_type": "code",
   "execution_count": 18,
   "id": "f3376981",
   "metadata": {},
   "outputs": [],
   "source": [
    "map_5 = {22:1,60:1,61:1}"
   ]
  },
  {
   "cell_type": "code",
   "execution_count": 19,
   "id": "cf577216",
   "metadata": {},
   "outputs": [],
   "source": [
    "texas['HmnFac_1'] = texas['HmnFac_1'].replace(map_5)"
   ]
  },
  {
   "cell_type": "code",
   "execution_count": 20,
   "id": "67e4cbbc",
   "metadata": {},
   "outputs": [],
   "source": [
    "map_6 = {20:2,23:2,41:2,19:2,24:2,25:2,74:2,75:2,76:2,77:2,68:2,69:2,70:2,71:2}"
   ]
  },
  {
   "cell_type": "code",
   "execution_count": 21,
   "id": "66dfc02d",
   "metadata": {},
   "outputs": [],
   "source": [
    "texas['HmnFac_1'] = texas['HmnFac_1'].replace(map_6)"
   ]
  },
  {
   "cell_type": "code",
   "execution_count": 22,
   "id": "bfc45953",
   "metadata": {},
   "outputs": [],
   "source": [
    "map_7 = {37:5,35:5,15:5,34:5,33:5,16:5,32:5,33:5,16:5,32:5,17:5,18:5,36:5,38:5,39:5,26:5,27:5,28:5,29:5,30:5,31:5,\n",
    "        58:5,57:5,53:5,78:5}"
   ]
  },
  {
   "cell_type": "code",
   "execution_count": 23,
   "id": "e1e84d16",
   "metadata": {},
   "outputs": [],
   "source": [
    "texas['HmnFac_1'] = texas['HmnFac_1'].replace(map_7)"
   ]
  },
  {
   "cell_type": "code",
   "execution_count": 24,
   "id": "79287ad1",
   "metadata": {},
   "outputs": [],
   "source": [
    "map_8 = {40:7,46:7,47:7,48:7,62:7,68:7,67:7,45:7}"
   ]
  },
  {
   "cell_type": "code",
   "execution_count": 25,
   "id": "1e08a2ea",
   "metadata": {},
   "outputs": [],
   "source": [
    "texas['HmnFac_1'] = texas['HmnFac_1'].replace(map_8)"
   ]
  },
  {
   "cell_type": "code",
   "execution_count": 26,
   "id": "3e117378",
   "metadata": {},
   "outputs": [],
   "source": [
    "map_9 = {66:8, 65:8,63:8,64:8}"
   ]
  },
  {
   "cell_type": "code",
   "execution_count": 27,
   "id": "9b8a1894",
   "metadata": {},
   "outputs": [],
   "source": [
    "texas['HmnFac_1'] =texas['HmnFac_1'].replace(map_9)"
   ]
  },
  {
   "cell_type": "code",
   "execution_count": 28,
   "id": "6f0bfe09",
   "metadata": {},
   "outputs": [],
   "source": [
    "map_10 = {14:9,21:9,54:9,55:9,56:9,49:9,42:9}"
   ]
  },
  {
   "cell_type": "code",
   "execution_count": 29,
   "id": "d0d1ebc6",
   "metadata": {},
   "outputs": [],
   "source": [
    "texas['HmnFac_1'] = texas[\"HmnFac_1\"].replace(map_10)"
   ]
  },
  {
   "cell_type": "code",
   "execution_count": 30,
   "id": "55441839",
   "metadata": {},
   "outputs": [],
   "source": [
    "map_11 = {73:11,50:11,52:11,51:11,43:11}"
   ]
  },
  {
   "cell_type": "code",
   "execution_count": 31,
   "id": "64fb73c8",
   "metadata": {},
   "outputs": [],
   "source": [
    "texas['HmnFac_1'] = texas['HmnFac_1'].replace(map_11)"
   ]
  },
  {
   "cell_type": "code",
   "execution_count": 32,
   "id": "ee6d8e87",
   "metadata": {},
   "outputs": [],
   "source": [
    "map_12 = {98:12,99:12}"
   ]
  },
  {
   "cell_type": "code",
   "execution_count": 33,
   "id": "8d804a4a",
   "metadata": {},
   "outputs": [],
   "source": [
    "texas['HmnFac_1'] = texas['HmnFac_1'].replace(map_12)"
   ]
  },
  {
   "cell_type": "code",
   "execution_count": 35,
   "id": "6d4fdd86",
   "metadata": {},
   "outputs": [
    {
     "data": {
      "text/plain": [
       "12"
      ]
     },
     "execution_count": 35,
     "metadata": {},
     "output_type": "execute_result"
    }
   ],
   "source": [
    "texas['HmnFac_1'].unique()"
   ]
  },
  {
   "cell_type": "code",
   "execution_count": 38,
   "id": "8280b555",
   "metadata": {},
   "outputs": [
    {
     "data": {
      "text/plain": [
       "Index(['Intoxication', 'Crash_ID', 'Age', 'Ethnicity', 'Gender', 'Crash_Date',\n",
       "       'Crash_Time', 'FIPS_Code', 'County_Name', 'Damage_1000', 'Speed',\n",
       "       'Intersection', 'Weather', 'Lighting', 'EntrRoad', 'RoadType',\n",
       "       'RoadAlign', 'Surface', 'Evnt_1', 'HmnFac_1', 'RoadPart', 'RoadClass',\n",
       "       'Latitude', 'Longitude', 'Severity', 'Days', 'MedianWidth', 'NmbrLanes',\n",
       "       'Roadbed_Width', 'AADT', 'Injury ', 'Tot_Injry_Cnt', 'Death_Cnt',\n",
       "       'YEAR', 'Test'],\n",
       "      dtype='object')"
      ]
     },
     "execution_count": 38,
     "metadata": {},
     "output_type": "execute_result"
    }
   ],
   "source": [
    "texas.columns"
   ]
  },
  {
   "cell_type": "code",
   "execution_count": 39,
   "id": "ec45bce0",
   "metadata": {},
   "outputs": [
    {
     "data": {
      "text/plain": [
       "0         48141\n",
       "1         48241\n",
       "2         48113\n",
       "3         48113\n",
       "4         48303\n",
       "          ...  \n",
       "726218    48019\n",
       "726219    48019\n",
       "726220    48479\n",
       "726221    48201\n",
       "726222    48339\n",
       "Name: FIPS_Code, Length: 726223, dtype: int64"
      ]
     },
     "execution_count": 39,
     "metadata": {},
     "output_type": "execute_result"
    }
   ],
   "source": [
    "texas['FIPS_Code']"
   ]
  },
  {
   "cell_type": "code",
   "execution_count": 40,
   "id": "4fd1363c",
   "metadata": {},
   "outputs": [],
   "source": [
    "texas.to_csv('texas_final_3.csv',index= False)"
   ]
  },
  {
   "cell_type": "code",
   "execution_count": null,
   "id": "6993658b",
   "metadata": {},
   "outputs": [],
   "source": []
  }
 ],
 "metadata": {
  "kernelspec": {
   "display_name": "Python 3 (ipykernel)",
   "language": "python",
   "name": "python3"
  },
  "language_info": {
   "codemirror_mode": {
    "name": "ipython",
    "version": 3
   },
   "file_extension": ".py",
   "mimetype": "text/x-python",
   "name": "python",
   "nbconvert_exporter": "python",
   "pygments_lexer": "ipython3",
   "version": "3.11.4"
  }
 },
 "nbformat": 4,
 "nbformat_minor": 5
}
