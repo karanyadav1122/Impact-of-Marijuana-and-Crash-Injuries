{
 "cells": [
  {
   "cell_type": "code",
   "execution_count": 1,
   "id": "39191d02",
   "metadata": {},
   "outputs": [],
   "source": [
    "import numpy as np\n",
    "import pandas as pd"
   ]
  },
  {
   "cell_type": "code",
   "execution_count": 2,
   "id": "b20ae8d7",
   "metadata": {},
   "outputs": [],
   "source": [
    "okla = pd.read_csv('C:/Users/karan/Final_Oklahoma_4.csv')"
   ]
  },
  {
   "cell_type": "code",
   "execution_count": 3,
   "id": "59dd9be7",
   "metadata": {},
   "outputs": [
    {
     "data": {
      "text/plain": [
       "Index(['Join_Count', 'TARGET_FID', 'Crash_ID', 'FATAL', 'County_FIP', 'COUNTY',\n",
       "       'CITY', 'DATE', 'TIME', 'LIGHTING_CAT', 'WEATHER_CAT', 'YEAR',\n",
       "       'RDWAY_CLASS', 'INTOXICATION', 'LATITUDE', 'LONGITUDE', 'INATTENTION',\n",
       "       'SPEEDING', 'TEEN_DRIVE', 'OLDER_DRIV', 'FATAL_COUNT', 'INJURY_COUNT',\n",
       "       'INJURY_OUTCOME', 'ROUTE_ID', 'FROM_MEASU', 'TO_MEASURE', 'AADT',\n",
       "       'MEDIANWIDT', 'FUNCTIONAL', 'LANES', 'ROWWIDTH', 'SPEEDLIMIT',\n",
       "       'MLENGTH'],\n",
       "      dtype='object')"
      ]
     },
     "execution_count": 3,
     "metadata": {},
     "output_type": "execute_result"
    }
   ],
   "source": [
    "okla.columns"
   ]
  },
  {
   "cell_type": "code",
   "execution_count": 5,
   "id": "163e783a",
   "metadata": {},
   "outputs": [],
   "source": [
    "okla.drop(columns=['FATAL','FATAL_COUNT','SPEEDLIMIT'],axis=1,inplace= True)"
   ]
  },
  {
   "cell_type": "code",
   "execution_count": 6,
   "id": "5f77d9e2",
   "metadata": {},
   "outputs": [
    {
     "data": {
      "text/plain": [
       "Index(['Join_Count', 'TARGET_FID', 'Crash_ID', 'County_FIP', 'COUNTY', 'CITY',\n",
       "       'DATE', 'TIME', 'LIGHTING_CAT', 'WEATHER_CAT', 'YEAR', 'RDWAY_CLASS',\n",
       "       'INTOXICATION', 'LATITUDE', 'LONGITUDE', 'INATTENTION', 'SPEEDING',\n",
       "       'TEEN_DRIVE', 'OLDER_DRIV', 'INJURY_COUNT', 'INJURY_OUTCOME',\n",
       "       'ROUTE_ID', 'FROM_MEASU', 'TO_MEASURE', 'AADT', 'MEDIANWIDT',\n",
       "       'FUNCTIONAL', 'LANES', 'ROWWIDTH', 'MLENGTH'],\n",
       "      dtype='object')"
      ]
     },
     "execution_count": 6,
     "metadata": {},
     "output_type": "execute_result"
    }
   ],
   "source": [
    "okla.columns"
   ]
  },
  {
   "cell_type": "code",
   "execution_count": 7,
   "id": "eea5ff31",
   "metadata": {},
   "outputs": [],
   "source": [
    "r = {'RDWAY_CLASS':'ROAD_CLASS','ROWWIDTH':'ROAD_WIDTH'}"
   ]
  },
  {
   "cell_type": "code",
   "execution_count": 9,
   "id": "37e29fcb",
   "metadata": {},
   "outputs": [],
   "source": [
    "okla.rename(columns= r,inplace= True)"
   ]
  },
  {
   "cell_type": "code",
   "execution_count": 10,
   "id": "e8a089ae",
   "metadata": {},
   "outputs": [
    {
     "data": {
      "text/plain": [
       "Index(['Join_Count', 'TARGET_FID', 'Crash_ID', 'County_FIP', 'COUNTY', 'CITY',\n",
       "       'DATE', 'TIME', 'LIGHTING_CAT', 'WEATHER_CAT', 'YEAR', 'ROAD_CLASS',\n",
       "       'INTOXICATION', 'LATITUDE', 'LONGITUDE', 'INATTENTION', 'SPEEDING',\n",
       "       'TEEN_DRIVE', 'OLDER_DRIV', 'INJURY_COUNT', 'INJURY_OUTCOME',\n",
       "       'ROUTE_ID', 'FROM_MEASU', 'TO_MEASURE', 'AADT', 'MEDIANWIDT',\n",
       "       'FUNCTIONAL', 'LANES', 'ROAD_WIDTH', 'MLENGTH'],\n",
       "      dtype='object')"
      ]
     },
     "execution_count": 10,
     "metadata": {},
     "output_type": "execute_result"
    }
   ],
   "source": [
    "okla.columns"
   ]
  },
  {
   "cell_type": "code",
   "execution_count": 11,
   "id": "f0457fdc",
   "metadata": {},
   "outputs": [],
   "source": [
    "okla.to_csv('oklahoma_basic.csv',index= False)"
   ]
  },
  {
   "cell_type": "code",
   "execution_count": null,
   "id": "2fef15a2",
   "metadata": {},
   "outputs": [],
   "source": []
  }
 ],
 "metadata": {
  "kernelspec": {
   "display_name": "Python 3 (ipykernel)",
   "language": "python",
   "name": "python3"
  },
  "language_info": {
   "codemirror_mode": {
    "name": "ipython",
    "version": 3
   },
   "file_extension": ".py",
   "mimetype": "text/x-python",
   "name": "python",
   "nbconvert_exporter": "python",
   "pygments_lexer": "ipython3",
   "version": "3.11.4"
  }
 },
 "nbformat": 4,
 "nbformat_minor": 5
}
