{
 "cells": [
  {
   "cell_type": "code",
   "execution_count": 1,
   "id": "b62b4c97",
   "metadata": {},
   "outputs": [],
   "source": [
    "import numpy as np\n",
    "import pandas as pd"
   ]
  },
  {
   "cell_type": "code",
   "execution_count": 2,
   "id": "488180ee",
   "metadata": {},
   "outputs": [],
   "source": [
    "texas = pd.read_csv('C:/Users/karan/texas.csv')"
   ]
  },
  {
   "cell_type": "code",
   "execution_count": 3,
   "id": "432ee8b6",
   "metadata": {},
   "outputs": [
    {
     "data": {
      "text/plain": [
       "0        Texas\n",
       "1        Texas\n",
       "2        Texas\n",
       "3        Texas\n",
       "4        Texas\n",
       "         ...  \n",
       "30085    Texas\n",
       "30086    Texas\n",
       "30087    Texas\n",
       "30088    Texas\n",
       "30089    Texas\n",
       "Name: STATE, Length: 30090, dtype: object"
      ]
     },
     "execution_count": 3,
     "metadata": {},
     "output_type": "execute_result"
    }
   ],
   "source": [
    "texas['STATE']"
   ]
  },
  {
   "cell_type": "code",
   "execution_count": 4,
   "id": "e2b3b09e",
   "metadata": {},
   "outputs": [],
   "source": [
    "texas.rename(columns={'OTHER':'OTHER_WEATHER'},inplace= True)"
   ]
  },
  {
   "cell_type": "code",
   "execution_count": 11,
   "id": "ef972fb3",
   "metadata": {},
   "outputs": [],
   "source": [
    "okla = pd.read_csv('C:/Users/karan/okla.csv')"
   ]
  },
  {
   "cell_type": "code",
   "execution_count": 12,
   "id": "1d696024",
   "metadata": {},
   "outputs": [
    {
     "data": {
      "text/plain": [
       "Index(['GISJOIN', 'DAYLIGHT', 'DARK-LIGHTED', 'DARK-NOT LIGHTED',\n",
       "       'DARK-UNKNOWN LIGHTING', 'DUSK', 'DAWN', 'UNK_LIGHT', 'OTHER_LIGHT',\n",
       "       'POPN', 'CLEAR', 'CLOUDY', 'FOG', 'RAIN', 'SLEET/HAIL', 'OTHER_WEATHER',\n",
       "       'UNK_Weather', 'SNOW_Weather', 'BLOWING SAND/SNOW', 'SEVERE CROSSWINDS',\n",
       "       'INTERSTATE', 'US & STATE HIGHWAY', 'FARM TO MARKET', 'COUNTY ROAD',\n",
       "       'CITY STREET', 'TOLLWAY', 'OTHER ROADS', 'TOLL BRIDGES', 'ALCOHOL',\n",
       "       'DRUG', 'ALCOHOL, DRUG', 'NO INTOXICATION', 'MEDICINAL', 'MARIJUANA',\n",
       "       'NO_INATTENTION', 'YES_INATTENTION', 'NO_SPD', 'YES_SPD', 'NO_INJ',\n",
       "       'YES_INJ', 'INJ_COUNT_SUM', 'YEAR', 'STATE'],\n",
       "      dtype='object')"
      ]
     },
     "execution_count": 12,
     "metadata": {},
     "output_type": "execute_result"
    }
   ],
   "source": [
    "okla.columns"
   ]
  },
  {
   "cell_type": "code",
   "execution_count": 13,
   "id": "aac78e06",
   "metadata": {},
   "outputs": [],
   "source": [
    "okla.rename(columns={'YES_INATTENTION':'INATTENTION'},inplace= True)"
   ]
  },
  {
   "cell_type": "code",
   "execution_count": 14,
   "id": "afc58b84",
   "metadata": {},
   "outputs": [],
   "source": [
    "okla.rename(columns={'YES_SPD':'SPEEDING'},inplace= True)"
   ]
  },
  {
   "cell_type": "code",
   "execution_count": 15,
   "id": "878b5dba",
   "metadata": {},
   "outputs": [],
   "source": [
    "cols = ['GISJOIN','ALCOHOL', 'DRUG', 'ALCOHOL, DRUG',\n",
    "       'NO INTOXICATION', 'MEDICINAL', 'MARIJUANA','POPN',\n",
    "       'BLOWING SAND/SNOW', 'CLEAR', 'CLOUDY', 'FOG', 'OTHER_WEATHER', 'RAIN',\n",
    "       'SEVERE CROSSWINDS', 'SLEET/HAIL', 'SNOW_Weather', 'UNK_Weather',\n",
    "       'CITY STREET', 'COUNTY ROAD',\n",
    "       'FARM TO MARKET', 'INTERSTATE', 'OTHER ROADS', 'TOLL BRIDGES',\n",
    "       'TOLLWAY', 'US & STATE HIGHWAY','NO_INJ', 'YES_INJ',\n",
    "       'INJ_COUNT_SUM','DAYLIGHT', 'DARK-LIGHTED',\n",
    "       'DARK-NOT LIGHTED', 'DARK-UNKNOWN LIGHTING', 'DUSK', 'DAWN',\n",
    "       'UNK_LIGHT', 'OTHER_LIGHT','INATTENTION','SPEEDING','YEAR','STATE']"
   ]
  },
  {
   "cell_type": "code",
   "execution_count": 16,
   "id": "2f2100cc",
   "metadata": {},
   "outputs": [],
   "source": [
    "okla1 = okla[cols]"
   ]
  },
  {
   "cell_type": "code",
   "execution_count": 17,
   "id": "08b5e8cb",
   "metadata": {},
   "outputs": [],
   "source": [
    "texas1 = texas[cols]"
   ]
  },
  {
   "cell_type": "code",
   "execution_count": 18,
   "id": "7c6e9a02",
   "metadata": {},
   "outputs": [
    {
     "data": {
      "text/plain": [
       "((3031, 41), (30090, 41))"
      ]
     },
     "execution_count": 18,
     "metadata": {},
     "output_type": "execute_result"
    }
   ],
   "source": [
    "okla1.shape, texas1.shape"
   ]
  },
  {
   "cell_type": "code",
   "execution_count": 19,
   "id": "2a762dcf",
   "metadata": {},
   "outputs": [],
   "source": [
    "to = pd.concat([okla1,texas1],axis=0)"
   ]
  },
  {
   "cell_type": "code",
   "execution_count": 20,
   "id": "6e528977",
   "metadata": {},
   "outputs": [],
   "source": [
    "to.rename(columns={'INJ_COUNT_SUM':'INJURY_SUM'},inplace= True)"
   ]
  },
  {
   "cell_type": "code",
   "execution_count": 21,
   "id": "3c760100",
   "metadata": {},
   "outputs": [],
   "source": [
    "to.rename(columns={'UNK_LIGHT':'UNKNOWN_LIGHT'},inplace= True)"
   ]
  },
  {
   "cell_type": "code",
   "execution_count": 22,
   "id": "453aaceb",
   "metadata": {},
   "outputs": [],
   "source": [
    "to.rename(columns={'OTHER_WEATHER':'OTHER_Weather'},inplace= True)"
   ]
  },
  {
   "cell_type": "code",
   "execution_count": 23,
   "id": "4b317d4c",
   "metadata": {},
   "outputs": [
    {
     "data": {
      "text/plain": [
       "Index(['GISJOIN', 'ALCOHOL', 'DRUG', 'ALCOHOL, DRUG', 'NO INTOXICATION',\n",
       "       'MEDICINAL', 'MARIJUANA', 'POPN', 'BLOWING SAND/SNOW', 'CLEAR',\n",
       "       'CLOUDY', 'FOG', 'OTHER_Weather', 'RAIN', 'SEVERE CROSSWINDS',\n",
       "       'SLEET/HAIL', 'SNOW_Weather', 'UNK_Weather', 'CITY STREET',\n",
       "       'COUNTY ROAD', 'FARM TO MARKET', 'INTERSTATE', 'OTHER ROADS',\n",
       "       'TOLL BRIDGES', 'TOLLWAY', 'US & STATE HIGHWAY', 'NO_INJ', 'YES_INJ',\n",
       "       'INJURY_SUM', 'DAYLIGHT', 'DARK-LIGHTED', 'DARK-NOT LIGHTED',\n",
       "       'DARK-UNKNOWN LIGHTING', 'DUSK', 'DAWN', 'UNKNOWN_LIGHT', 'OTHER_LIGHT',\n",
       "       'INATTENTION', 'SPEEDING', 'YEAR', 'STATE'],\n",
       "      dtype='object')"
      ]
     },
     "execution_count": 23,
     "metadata": {},
     "output_type": "execute_result"
    }
   ],
   "source": [
    "to.columns"
   ]
  },
  {
   "cell_type": "code",
   "execution_count": 24,
   "id": "2a62428a",
   "metadata": {},
   "outputs": [],
   "source": [
    "colo = pd.read_csv('C:/Users/karan/colorado_19-20-21 1.csv')"
   ]
  },
  {
   "cell_type": "code",
   "execution_count": 25,
   "id": "3c8d4b0d",
   "metadata": {},
   "outputs": [],
   "source": [
    "colo['STATE'] = 'Colorado'"
   ]
  },
  {
   "cell_type": "code",
   "execution_count": 26,
   "id": "3b698d80",
   "metadata": {},
   "outputs": [],
   "source": [
    "colo.rename(columns={'Colorado_Population_csv_AMPVE001':'POPN'},inplace= True)"
   ]
  },
  {
   "cell_type": "code",
   "execution_count": 27,
   "id": "aa984257",
   "metadata": {},
   "outputs": [],
   "source": [
    "colo.rename(columns={'NO INJURY_OUTCOME':'NO_INJ','YES INJURY_OUTCOME':'YES_INJ'},inplace= True)"
   ]
  },
  {
   "cell_type": "code",
   "execution_count": 28,
   "id": "94dccaa6",
   "metadata": {},
   "outputs": [],
   "source": [
    "colo.columns = colo.columns.str.replace('_COUNT', '')"
   ]
  },
  {
   "cell_type": "code",
   "execution_count": 29,
   "id": "edba5b2f",
   "metadata": {},
   "outputs": [],
   "source": [
    "colo.columns= colo.columns.str.replace('_PERCENTAGE','')"
   ]
  },
  {
   "cell_type": "code",
   "execution_count": 30,
   "id": "5833f811",
   "metadata": {},
   "outputs": [],
   "source": [
    "colo.rename(columns={'OTHER_WEATHER':'OTHER_Weather','SNOW_WEATHER':'SNOW_Weather'},inplace= True)"
   ]
  },
  {
   "cell_type": "code",
   "execution_count": 31,
   "id": "8f2695ec",
   "metadata": {},
   "outputs": [],
   "source": [
    "colo['UNK_Weather'] = 0"
   ]
  },
  {
   "cell_type": "code",
   "execution_count": 32,
   "id": "e2986c0e",
   "metadata": {},
   "outputs": [],
   "source": [
    "colo['FARM TO MARKET'] = 0\n",
    "colo['TOLL BRIDGES'] = 0\n",
    "colo['TOLLWAY'] = 0"
   ]
  },
  {
   "cell_type": "code",
   "execution_count": 33,
   "id": "b8c4e934",
   "metadata": {},
   "outputs": [],
   "source": [
    "cols=['GISJOIN','BLOWING SAND/SNOW', 'CLEAR', 'CLOUDY', 'FOG',\n",
    "       'OTHER_Weather', 'RAIN', 'SEVERE CROSSWINDS', 'SLEET/HAIL',\n",
    "       'SNOW_Weather','UNK_Weather','POPN','CITY STREET', 'COUNTY ROAD',\n",
    "       'FARM TO MARKET', 'INTERSTATE', 'OTHER ROADS', 'TOLL BRIDGES',\n",
    "       'TOLLWAY', 'US & STATE HIGHWAY','INJURY_SUM','NO_INJ','YES_INJ','INATTENTION','SPEEDING',\n",
    "      'DAYLIGHT', 'DARK-LIGHTED', 'DARK-NOT LIGHTED', 'DARK-UNKNOWN LIGHTING',\n",
    "       'DUSK', 'DAWN', 'UNKNOWN_LIGHT', 'OTHER_LIGHT','YEAR','STATE'\n",
    "     ]"
   ]
  },
  {
   "cell_type": "code",
   "execution_count": 34,
   "id": "a4efd57f",
   "metadata": {},
   "outputs": [],
   "source": [
    "colo1 = colo[cols]"
   ]
  },
  {
   "cell_type": "code",
   "execution_count": 35,
   "id": "dfde20b5",
   "metadata": {},
   "outputs": [],
   "source": [
    "to1 = to[cols]"
   ]
  },
  {
   "cell_type": "code",
   "execution_count": 36,
   "id": "864d3448",
   "metadata": {},
   "outputs": [
    {
     "data": {
      "text/plain": [
       "(10597, 35)"
      ]
     },
     "execution_count": 36,
     "metadata": {},
     "output_type": "execute_result"
    }
   ],
   "source": [
    "colo1.shape"
   ]
  },
  {
   "cell_type": "code",
   "execution_count": 37,
   "id": "f1bf3914",
   "metadata": {},
   "outputs": [
    {
     "data": {
      "text/plain": [
       "(33121, 35)"
      ]
     },
     "execution_count": 37,
     "metadata": {},
     "output_type": "execute_result"
    }
   ],
   "source": [
    "to1.shape"
   ]
  },
  {
   "cell_type": "code",
   "execution_count": 38,
   "id": "168ee3ab",
   "metadata": {},
   "outputs": [],
   "source": [
    "tco = pd.concat([to1,colo1],axis=0)"
   ]
  },
  {
   "cell_type": "code",
   "execution_count": 39,
   "id": "db24996c",
   "metadata": {},
   "outputs": [
    {
     "data": {
      "text/plain": [
       "Index(['GISJOIN', 'BLOWING SAND/SNOW', 'CLEAR', 'CLOUDY', 'FOG',\n",
       "       'OTHER_Weather', 'RAIN', 'SEVERE CROSSWINDS', 'SLEET/HAIL',\n",
       "       'SNOW_Weather', 'UNK_Weather', 'POPN', 'CITY STREET', 'COUNTY ROAD',\n",
       "       'FARM TO MARKET', 'INTERSTATE', 'OTHER ROADS', 'TOLL BRIDGES',\n",
       "       'TOLLWAY', 'US & STATE HIGHWAY', 'INJURY_SUM', 'NO_INJ', 'YES_INJ',\n",
       "       'INATTENTION', 'SPEEDING', 'DAYLIGHT', 'DARK-LIGHTED',\n",
       "       'DARK-NOT LIGHTED', 'DARK-UNKNOWN LIGHTING', 'DUSK', 'DAWN',\n",
       "       'UNKNOWN_LIGHT', 'OTHER_LIGHT', 'YEAR', 'STATE'],\n",
       "      dtype='object')"
      ]
     },
     "execution_count": 39,
     "metadata": {},
     "output_type": "execute_result"
    }
   ],
   "source": [
    "tco.columns"
   ]
  },
  {
   "cell_type": "code",
   "execution_count": 40,
   "id": "807b619e",
   "metadata": {},
   "outputs": [
    {
     "data": {
      "text/plain": [
       "0"
      ]
     },
     "execution_count": 40,
     "metadata": {},
     "output_type": "execute_result"
    }
   ],
   "source": [
    "tco.isna().sum().sum()"
   ]
  },
  {
   "cell_type": "code",
   "execution_count": 41,
   "id": "b1dfc500",
   "metadata": {},
   "outputs": [],
   "source": [
    "tco.to_csv('tco.csv',index= False)"
   ]
  },
  {
   "cell_type": "code",
   "execution_count": 42,
   "id": "f9365073",
   "metadata": {},
   "outputs": [
    {
     "data": {
      "text/html": [
       "<div>\n",
       "<style scoped>\n",
       "    .dataframe tbody tr th:only-of-type {\n",
       "        vertical-align: middle;\n",
       "    }\n",
       "\n",
       "    .dataframe tbody tr th {\n",
       "        vertical-align: top;\n",
       "    }\n",
       "\n",
       "    .dataframe thead th {\n",
       "        text-align: right;\n",
       "    }\n",
       "</style>\n",
       "<table border=\"1\" class=\"dataframe\">\n",
       "  <thead>\n",
       "    <tr style=\"text-align: right;\">\n",
       "      <th></th>\n",
       "      <th>GISJOIN</th>\n",
       "      <th>BLOWING SAND/SNOW</th>\n",
       "      <th>CLEAR</th>\n",
       "      <th>CLOUDY</th>\n",
       "      <th>FOG</th>\n",
       "      <th>OTHER_Weather</th>\n",
       "      <th>RAIN</th>\n",
       "      <th>SEVERE CROSSWINDS</th>\n",
       "      <th>SLEET/HAIL</th>\n",
       "      <th>SNOW_Weather</th>\n",
       "      <th>...</th>\n",
       "      <th>DAYLIGHT</th>\n",
       "      <th>DARK-LIGHTED</th>\n",
       "      <th>DARK-NOT LIGHTED</th>\n",
       "      <th>DARK-UNKNOWN LIGHTING</th>\n",
       "      <th>DUSK</th>\n",
       "      <th>DAWN</th>\n",
       "      <th>UNKNOWN_LIGHT</th>\n",
       "      <th>OTHER_LIGHT</th>\n",
       "      <th>YEAR</th>\n",
       "      <th>STATE</th>\n",
       "    </tr>\n",
       "  </thead>\n",
       "  <tbody>\n",
       "    <tr>\n",
       "      <th>0</th>\n",
       "      <td>G40000103766001</td>\n",
       "      <td>0.0</td>\n",
       "      <td>100.000000</td>\n",
       "      <td>0.000000</td>\n",
       "      <td>0.0</td>\n",
       "      <td>0.0</td>\n",
       "      <td>0.0</td>\n",
       "      <td>0.0</td>\n",
       "      <td>0.0</td>\n",
       "      <td>0.0</td>\n",
       "      <td>...</td>\n",
       "      <td>0.000000</td>\n",
       "      <td>0.000000</td>\n",
       "      <td>100.000000</td>\n",
       "      <td>0.0</td>\n",
       "      <td>0.000000</td>\n",
       "      <td>0.000000</td>\n",
       "      <td>0.0</td>\n",
       "      <td>0.0</td>\n",
       "      <td>2019</td>\n",
       "      <td>Oklahoma</td>\n",
       "    </tr>\n",
       "    <tr>\n",
       "      <th>1</th>\n",
       "      <td>G40000103767001</td>\n",
       "      <td>0.0</td>\n",
       "      <td>50.000000</td>\n",
       "      <td>0.000000</td>\n",
       "      <td>0.0</td>\n",
       "      <td>0.0</td>\n",
       "      <td>50.0</td>\n",
       "      <td>0.0</td>\n",
       "      <td>0.0</td>\n",
       "      <td>0.0</td>\n",
       "      <td>...</td>\n",
       "      <td>100.000000</td>\n",
       "      <td>0.000000</td>\n",
       "      <td>0.000000</td>\n",
       "      <td>0.0</td>\n",
       "      <td>0.000000</td>\n",
       "      <td>0.000000</td>\n",
       "      <td>0.0</td>\n",
       "      <td>0.0</td>\n",
       "      <td>2019</td>\n",
       "      <td>Oklahoma</td>\n",
       "    </tr>\n",
       "    <tr>\n",
       "      <th>2</th>\n",
       "      <td>G40000103767002</td>\n",
       "      <td>0.0</td>\n",
       "      <td>66.666667</td>\n",
       "      <td>33.333333</td>\n",
       "      <td>0.0</td>\n",
       "      <td>0.0</td>\n",
       "      <td>0.0</td>\n",
       "      <td>0.0</td>\n",
       "      <td>0.0</td>\n",
       "      <td>0.0</td>\n",
       "      <td>...</td>\n",
       "      <td>0.000000</td>\n",
       "      <td>0.000000</td>\n",
       "      <td>100.000000</td>\n",
       "      <td>0.0</td>\n",
       "      <td>0.000000</td>\n",
       "      <td>0.000000</td>\n",
       "      <td>0.0</td>\n",
       "      <td>0.0</td>\n",
       "      <td>2019</td>\n",
       "      <td>Oklahoma</td>\n",
       "    </tr>\n",
       "    <tr>\n",
       "      <th>3</th>\n",
       "      <td>G40000103767003</td>\n",
       "      <td>0.0</td>\n",
       "      <td>0.000000</td>\n",
       "      <td>100.000000</td>\n",
       "      <td>0.0</td>\n",
       "      <td>0.0</td>\n",
       "      <td>0.0</td>\n",
       "      <td>0.0</td>\n",
       "      <td>0.0</td>\n",
       "      <td>0.0</td>\n",
       "      <td>...</td>\n",
       "      <td>100.000000</td>\n",
       "      <td>0.000000</td>\n",
       "      <td>0.000000</td>\n",
       "      <td>0.0</td>\n",
       "      <td>0.000000</td>\n",
       "      <td>0.000000</td>\n",
       "      <td>0.0</td>\n",
       "      <td>0.0</td>\n",
       "      <td>2019</td>\n",
       "      <td>Oklahoma</td>\n",
       "    </tr>\n",
       "    <tr>\n",
       "      <th>4</th>\n",
       "      <td>G40000103767004</td>\n",
       "      <td>0.0</td>\n",
       "      <td>100.000000</td>\n",
       "      <td>0.000000</td>\n",
       "      <td>0.0</td>\n",
       "      <td>0.0</td>\n",
       "      <td>0.0</td>\n",
       "      <td>0.0</td>\n",
       "      <td>0.0</td>\n",
       "      <td>0.0</td>\n",
       "      <td>...</td>\n",
       "      <td>100.000000</td>\n",
       "      <td>0.000000</td>\n",
       "      <td>0.000000</td>\n",
       "      <td>0.0</td>\n",
       "      <td>0.000000</td>\n",
       "      <td>0.000000</td>\n",
       "      <td>0.0</td>\n",
       "      <td>0.0</td>\n",
       "      <td>2019</td>\n",
       "      <td>Oklahoma</td>\n",
       "    </tr>\n",
       "    <tr>\n",
       "      <th>...</th>\n",
       "      <td>...</td>\n",
       "      <td>...</td>\n",
       "      <td>...</td>\n",
       "      <td>...</td>\n",
       "      <td>...</td>\n",
       "      <td>...</td>\n",
       "      <td>...</td>\n",
       "      <td>...</td>\n",
       "      <td>...</td>\n",
       "      <td>...</td>\n",
       "      <td>...</td>\n",
       "      <td>...</td>\n",
       "      <td>...</td>\n",
       "      <td>...</td>\n",
       "      <td>...</td>\n",
       "      <td>...</td>\n",
       "      <td>...</td>\n",
       "      <td>...</td>\n",
       "      <td>...</td>\n",
       "      <td>...</td>\n",
       "      <td>...</td>\n",
       "    </tr>\n",
       "    <tr>\n",
       "      <th>10592</th>\n",
       "      <td>G08003100042014</td>\n",
       "      <td>0.0</td>\n",
       "      <td>1.000000</td>\n",
       "      <td>0.000000</td>\n",
       "      <td>0.0</td>\n",
       "      <td>57.0</td>\n",
       "      <td>2.0</td>\n",
       "      <td>0.0</td>\n",
       "      <td>0.0</td>\n",
       "      <td>3.0</td>\n",
       "      <td>...</td>\n",
       "      <td>69.841270</td>\n",
       "      <td>28.571429</td>\n",
       "      <td>0.000000</td>\n",
       "      <td>0.0</td>\n",
       "      <td>1.587302</td>\n",
       "      <td>0.000000</td>\n",
       "      <td>0.0</td>\n",
       "      <td>0.0</td>\n",
       "      <td>2021</td>\n",
       "      <td>Colorado</td>\n",
       "    </tr>\n",
       "    <tr>\n",
       "      <th>10593</th>\n",
       "      <td>G08003100067011</td>\n",
       "      <td>0.0</td>\n",
       "      <td>3.000000</td>\n",
       "      <td>0.000000</td>\n",
       "      <td>0.0</td>\n",
       "      <td>23.0</td>\n",
       "      <td>0.0</td>\n",
       "      <td>0.0</td>\n",
       "      <td>0.0</td>\n",
       "      <td>1.0</td>\n",
       "      <td>...</td>\n",
       "      <td>62.962963</td>\n",
       "      <td>29.629630</td>\n",
       "      <td>0.000000</td>\n",
       "      <td>0.0</td>\n",
       "      <td>3.703704</td>\n",
       "      <td>3.703704</td>\n",
       "      <td>0.0</td>\n",
       "      <td>0.0</td>\n",
       "      <td>2021</td>\n",
       "      <td>Colorado</td>\n",
       "    </tr>\n",
       "    <tr>\n",
       "      <th>10594</th>\n",
       "      <td>G08003100050043</td>\n",
       "      <td>0.0</td>\n",
       "      <td>6.000000</td>\n",
       "      <td>0.000000</td>\n",
       "      <td>0.0</td>\n",
       "      <td>28.0</td>\n",
       "      <td>0.0</td>\n",
       "      <td>0.0</td>\n",
       "      <td>0.0</td>\n",
       "      <td>1.0</td>\n",
       "      <td>...</td>\n",
       "      <td>65.714286</td>\n",
       "      <td>31.428571</td>\n",
       "      <td>2.857143</td>\n",
       "      <td>0.0</td>\n",
       "      <td>0.000000</td>\n",
       "      <td>0.000000</td>\n",
       "      <td>0.0</td>\n",
       "      <td>0.0</td>\n",
       "      <td>2021</td>\n",
       "      <td>Colorado</td>\n",
       "    </tr>\n",
       "    <tr>\n",
       "      <th>10595</th>\n",
       "      <td>G08003100068123</td>\n",
       "      <td>0.0</td>\n",
       "      <td>2.000000</td>\n",
       "      <td>0.000000</td>\n",
       "      <td>0.0</td>\n",
       "      <td>117.0</td>\n",
       "      <td>4.0</td>\n",
       "      <td>0.0</td>\n",
       "      <td>0.0</td>\n",
       "      <td>9.0</td>\n",
       "      <td>...</td>\n",
       "      <td>66.666667</td>\n",
       "      <td>25.000000</td>\n",
       "      <td>3.030303</td>\n",
       "      <td>0.0</td>\n",
       "      <td>3.030303</td>\n",
       "      <td>2.272727</td>\n",
       "      <td>0.0</td>\n",
       "      <td>0.0</td>\n",
       "      <td>2021</td>\n",
       "      <td>Colorado</td>\n",
       "    </tr>\n",
       "    <tr>\n",
       "      <th>10596</th>\n",
       "      <td>G08001300125051</td>\n",
       "      <td>0.0</td>\n",
       "      <td>8.000000</td>\n",
       "      <td>0.000000</td>\n",
       "      <td>0.0</td>\n",
       "      <td>35.0</td>\n",
       "      <td>1.0</td>\n",
       "      <td>0.0</td>\n",
       "      <td>0.0</td>\n",
       "      <td>2.0</td>\n",
       "      <td>...</td>\n",
       "      <td>67.391304</td>\n",
       "      <td>23.913043</td>\n",
       "      <td>4.347826</td>\n",
       "      <td>0.0</td>\n",
       "      <td>4.347826</td>\n",
       "      <td>0.000000</td>\n",
       "      <td>0.0</td>\n",
       "      <td>0.0</td>\n",
       "      <td>2021</td>\n",
       "      <td>Colorado</td>\n",
       "    </tr>\n",
       "  </tbody>\n",
       "</table>\n",
       "<p>43718 rows × 35 columns</p>\n",
       "</div>"
      ],
      "text/plain": [
       "               GISJOIN  BLOWING SAND/SNOW       CLEAR      CLOUDY  FOG  \\\n",
       "0      G40000103766001                0.0  100.000000    0.000000  0.0   \n",
       "1      G40000103767001                0.0   50.000000    0.000000  0.0   \n",
       "2      G40000103767002                0.0   66.666667   33.333333  0.0   \n",
       "3      G40000103767003                0.0    0.000000  100.000000  0.0   \n",
       "4      G40000103767004                0.0  100.000000    0.000000  0.0   \n",
       "...                ...                ...         ...         ...  ...   \n",
       "10592  G08003100042014                0.0    1.000000    0.000000  0.0   \n",
       "10593  G08003100067011                0.0    3.000000    0.000000  0.0   \n",
       "10594  G08003100050043                0.0    6.000000    0.000000  0.0   \n",
       "10595  G08003100068123                0.0    2.000000    0.000000  0.0   \n",
       "10596  G08001300125051                0.0    8.000000    0.000000  0.0   \n",
       "\n",
       "       OTHER_Weather  RAIN  SEVERE CROSSWINDS  SLEET/HAIL  SNOW_Weather  ...  \\\n",
       "0                0.0   0.0                0.0         0.0           0.0  ...   \n",
       "1                0.0  50.0                0.0         0.0           0.0  ...   \n",
       "2                0.0   0.0                0.0         0.0           0.0  ...   \n",
       "3                0.0   0.0                0.0         0.0           0.0  ...   \n",
       "4                0.0   0.0                0.0         0.0           0.0  ...   \n",
       "...              ...   ...                ...         ...           ...  ...   \n",
       "10592           57.0   2.0                0.0         0.0           3.0  ...   \n",
       "10593           23.0   0.0                0.0         0.0           1.0  ...   \n",
       "10594           28.0   0.0                0.0         0.0           1.0  ...   \n",
       "10595          117.0   4.0                0.0         0.0           9.0  ...   \n",
       "10596           35.0   1.0                0.0         0.0           2.0  ...   \n",
       "\n",
       "         DAYLIGHT  DARK-LIGHTED  DARK-NOT LIGHTED  DARK-UNKNOWN LIGHTING  \\\n",
       "0        0.000000      0.000000        100.000000                    0.0   \n",
       "1      100.000000      0.000000          0.000000                    0.0   \n",
       "2        0.000000      0.000000        100.000000                    0.0   \n",
       "3      100.000000      0.000000          0.000000                    0.0   \n",
       "4      100.000000      0.000000          0.000000                    0.0   \n",
       "...           ...           ...               ...                    ...   \n",
       "10592   69.841270     28.571429          0.000000                    0.0   \n",
       "10593   62.962963     29.629630          0.000000                    0.0   \n",
       "10594   65.714286     31.428571          2.857143                    0.0   \n",
       "10595   66.666667     25.000000          3.030303                    0.0   \n",
       "10596   67.391304     23.913043          4.347826                    0.0   \n",
       "\n",
       "           DUSK      DAWN  UNKNOWN_LIGHT  OTHER_LIGHT  YEAR     STATE  \n",
       "0      0.000000  0.000000            0.0          0.0  2019  Oklahoma  \n",
       "1      0.000000  0.000000            0.0          0.0  2019  Oklahoma  \n",
       "2      0.000000  0.000000            0.0          0.0  2019  Oklahoma  \n",
       "3      0.000000  0.000000            0.0          0.0  2019  Oklahoma  \n",
       "4      0.000000  0.000000            0.0          0.0  2019  Oklahoma  \n",
       "...         ...       ...            ...          ...   ...       ...  \n",
       "10592  1.587302  0.000000            0.0          0.0  2021  Colorado  \n",
       "10593  3.703704  3.703704            0.0          0.0  2021  Colorado  \n",
       "10594  0.000000  0.000000            0.0          0.0  2021  Colorado  \n",
       "10595  3.030303  2.272727            0.0          0.0  2021  Colorado  \n",
       "10596  4.347826  0.000000            0.0          0.0  2021  Colorado  \n",
       "\n",
       "[43718 rows x 35 columns]"
      ]
     },
     "execution_count": 42,
     "metadata": {},
     "output_type": "execute_result"
    }
   ],
   "source": [
    "tco"
   ]
  },
  {
   "cell_type": "code",
   "execution_count": null,
   "id": "fd959b17",
   "metadata": {},
   "outputs": [],
   "source": []
  }
 ],
 "metadata": {
  "kernelspec": {
   "display_name": "Python 3 (ipykernel)",
   "language": "python",
   "name": "python3"
  },
  "language_info": {
   "codemirror_mode": {
    "name": "ipython",
    "version": 3
   },
   "file_extension": ".py",
   "mimetype": "text/x-python",
   "name": "python",
   "nbconvert_exporter": "python",
   "pygments_lexer": "ipython3",
   "version": "3.11.4"
  }
 },
 "nbformat": 4,
 "nbformat_minor": 5
}
