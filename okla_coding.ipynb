{
 "cells": [
  {
   "cell_type": "code",
   "execution_count": 1,
   "id": "379b4287",
   "metadata": {},
   "outputs": [],
   "source": [
    "import numpy as np\n",
    "import pandas as pd"
   ]
  },
  {
   "cell_type": "code",
   "execution_count": 2,
   "id": "5ce0d6ad",
   "metadata": {},
   "outputs": [],
   "source": [
    "texas = pd.read_csv('C:/Users/karan/texas.csv')"
   ]
  },
  {
   "cell_type": "code",
   "execution_count": 3,
   "id": "67cfa7d3",
   "metadata": {},
   "outputs": [
    {
     "data": {
      "text/plain": [
       "Index(['GISJOIN', 'COUNT', 'ALCOHOL', 'DRUG', 'ALCOHOL, DRUG',\n",
       "       'NO INTOXICATION', 'MEDICINAL', 'MARIJUANA', 'UNK', 'White', 'Hispanic',\n",
       "       'Black', 'Asian', 'Other', 'American Native', 'NO_Damage', 'YES_Damage',\n",
       "       'NO_Intersection', 'YES_Intersection', 'BLOWING SAND/SNOW', 'CLEAR',\n",
       "       'CLOUDY', 'FOG', 'OTHER', 'RAIN', 'SEVERE CROSSWINDS', 'SLEET/HAIL',\n",
       "       'SNOW_Weather', 'UNK_Weather', 'DAYLIGHT', 'DARK-LIGHTED',\n",
       "       'DARK-NOT LIGHTED', 'DARK-UNKNOWN LIGHTING', 'DUSK', 'DAWN',\n",
       "       'UNK_LIGHT', 'OTHER_LIGHT', 'CITY STREET', 'COUNTY ROAD',\n",
       "       'FARM TO MARKET', 'INTERSTATE', 'OTHER ROADS', 'TOLL BRIDGES',\n",
       "       'TOLLWAY', 'US & STATE HIGHWAY', 'DRY', 'ICE', 'OTHER_SURF',\n",
       "       'SAND,MUD,DIRT', 'SLUSH', 'SNOW_SURF', 'STANDING WATER', 'UNKNOWN_SURF',\n",
       "       'WET', 'SPEEDING', 'INATTENTION', 'LANE_CHANGE', 'TAILGATING',\n",
       "       'VIOLATION', 'UNSAFE_BACKING', 'IMPAIRMENT', 'TURNING', 'TECH_PARK',\n",
       "       'NO_FAULT', 'KNOWN_HUMAN_FACTOR', 'UNKNOWN_HUMAN_FACTOR',\n",
       "       'SUM_MEDIANWIDTH', 'MEDIAN_MEDIANWIDTH', 'FATAL', 'MIN_INJURY',\n",
       "       'NO_INJURY', 'POSBL_INJURY', 'SSI', 'UNK_SEVERITY', 'NO_INJ', 'YES_INJ',\n",
       "       'INJ_COUNT_SUM', 'POPN', 'YEAR', 'STATE'],\n",
       "      dtype='object')"
      ]
     },
     "execution_count": 3,
     "metadata": {},
     "output_type": "execute_result"
    }
   ],
   "source": [
    "texas.columns"
   ]
  },
  {
   "cell_type": "code",
   "execution_count": 4,
   "id": "a9c10ca8",
   "metadata": {},
   "outputs": [],
   "source": [
    "okla = pd.read_csv('C:/Users/karan/OKLA_27697 1.csv')"
   ]
  },
  {
   "cell_type": "code",
   "execution_count": 5,
   "id": "c50d3b1e",
   "metadata": {},
   "outputs": [
    {
     "data": {
      "text/plain": [
       "array([0], dtype=int64)"
      ]
     },
     "execution_count": 5,
     "metadata": {},
     "output_type": "execute_result"
    }
   ],
   "source": [
    "okla[okla['YEAR'] == 2020]['SPEEDING'].unique()"
   ]
  },
  {
   "cell_type": "code",
   "execution_count": 6,
   "id": "8ee3826b",
   "metadata": {},
   "outputs": [],
   "source": [
    "okla.drop(columns={'DATE'},inplace= True)"
   ]
  },
  {
   "cell_type": "code",
   "execution_count": 7,
   "id": "15a4a951",
   "metadata": {},
   "outputs": [
    {
     "data": {
      "text/plain": [
       "Index(['Crash_ID', 'County_FIP', 'COUNTY', 'CITY', 'TIME', 'LIGHTING_CAT',\n",
       "       'WEATHER_CAT', 'YEAR', 'ROAD_CLASS', 'INTOXICATION', 'LATITUDE',\n",
       "       'LONGITUDE', 'INATTENTION', 'SPEEDING', 'TEEN_DRIVE', 'OLDER_DRIV',\n",
       "       'INJURY_COUNT', 'INJURY_OUTCOME', 'BUFF_DIST', 'GISJOIN', 'COUNTYFP',\n",
       "       'Shape_Leng', 'GISJOIN.1', 'COUNTY.1', 'POP_AMPVE001'],\n",
       "      dtype='object')"
      ]
     },
     "execution_count": 7,
     "metadata": {},
     "output_type": "execute_result"
    }
   ],
   "source": [
    "okla.columns"
   ]
  },
  {
   "cell_type": "code",
   "execution_count": 8,
   "id": "9e7c2fb9",
   "metadata": {},
   "outputs": [],
   "source": [
    "okla.rename(columns={'POP_AMPVE001':'POPN'},inplace= True)"
   ]
  },
  {
   "cell_type": "code",
   "execution_count": 9,
   "id": "2e5e7568",
   "metadata": {},
   "outputs": [],
   "source": [
    "o_19 = okla[okla['YEAR']==2019]\n",
    "o_20 = okla[okla['YEAR']==2020]\n",
    "o_21= okla[okla['YEAR']==2021]"
   ]
  },
  {
   "cell_type": "code",
   "execution_count": 10,
   "id": "a105a1ec",
   "metadata": {},
   "outputs": [
    {
     "data": {
      "text/html": [
       "<div>\n",
       "<style scoped>\n",
       "    .dataframe tbody tr th:only-of-type {\n",
       "        vertical-align: middle;\n",
       "    }\n",
       "\n",
       "    .dataframe tbody tr th {\n",
       "        vertical-align: top;\n",
       "    }\n",
       "\n",
       "    .dataframe thead th {\n",
       "        text-align: right;\n",
       "    }\n",
       "</style>\n",
       "<table border=\"1\" class=\"dataframe\">\n",
       "  <thead>\n",
       "    <tr style=\"text-align: right;\">\n",
       "      <th></th>\n",
       "      <th>Crash_ID</th>\n",
       "      <th>County_FIP</th>\n",
       "      <th>COUNTY</th>\n",
       "      <th>CITY</th>\n",
       "      <th>TIME</th>\n",
       "      <th>LIGHTING_CAT</th>\n",
       "      <th>WEATHER_CAT</th>\n",
       "      <th>YEAR</th>\n",
       "      <th>ROAD_CLASS</th>\n",
       "      <th>INTOXICATION</th>\n",
       "      <th>...</th>\n",
       "      <th>OLDER_DRIV</th>\n",
       "      <th>INJURY_COUNT</th>\n",
       "      <th>INJURY_OUTCOME</th>\n",
       "      <th>BUFF_DIST</th>\n",
       "      <th>GISJOIN</th>\n",
       "      <th>COUNTYFP</th>\n",
       "      <th>Shape_Leng</th>\n",
       "      <th>GISJOIN.1</th>\n",
       "      <th>COUNTY.1</th>\n",
       "      <th>POPN</th>\n",
       "    </tr>\n",
       "  </thead>\n",
       "  <tbody>\n",
       "    <tr>\n",
       "      <th>12873</th>\n",
       "      <td>211202855</td>\n",
       "      <td>40027</td>\n",
       "      <td>Cleveland</td>\n",
       "      <td>NOBLE</td>\n",
       "      <td>0.0</td>\n",
       "      <td>1</td>\n",
       "      <td>11</td>\n",
       "      <td>2021</td>\n",
       "      <td>7</td>\n",
       "      <td>4</td>\n",
       "      <td>...</td>\n",
       "      <td>1</td>\n",
       "      <td>1</td>\n",
       "      <td>1</td>\n",
       "      <td>0.25</td>\n",
       "      <td>G40004906819002</td>\n",
       "      <td>49</td>\n",
       "      <td>98862.92586</td>\n",
       "      <td>G40004906819002</td>\n",
       "      <td>Garvin County</td>\n",
       "      <td>1122</td>\n",
       "    </tr>\n",
       "    <tr>\n",
       "      <th>12874</th>\n",
       "      <td>211202858</td>\n",
       "      <td>40037</td>\n",
       "      <td>Creek</td>\n",
       "      <td>BRISTOW</td>\n",
       "      <td>0.0</td>\n",
       "      <td>1</td>\n",
       "      <td>2</td>\n",
       "      <td>2021</td>\n",
       "      <td>7</td>\n",
       "      <td>4</td>\n",
       "      <td>...</td>\n",
       "      <td>0</td>\n",
       "      <td>1</td>\n",
       "      <td>1</td>\n",
       "      <td>0.25</td>\n",
       "      <td>G40002903882001</td>\n",
       "      <td>29</td>\n",
       "      <td>104926.65410</td>\n",
       "      <td>G40002903882001</td>\n",
       "      <td>Coal County</td>\n",
       "      <td>1059</td>\n",
       "    </tr>\n",
       "    <tr>\n",
       "      <th>12875</th>\n",
       "      <td>211202863</td>\n",
       "      <td>40017</td>\n",
       "      <td>Canadian</td>\n",
       "      <td>MUSTANG</td>\n",
       "      <td>0.0</td>\n",
       "      <td>1</td>\n",
       "      <td>12</td>\n",
       "      <td>2021</td>\n",
       "      <td>7</td>\n",
       "      <td>4</td>\n",
       "      <td>...</td>\n",
       "      <td>1</td>\n",
       "      <td>1</td>\n",
       "      <td>1</td>\n",
       "      <td>0.25</td>\n",
       "      <td>G40013700009021</td>\n",
       "      <td>137</td>\n",
       "      <td>97242.43652</td>\n",
       "      <td>G40013700009021</td>\n",
       "      <td>Stephens County</td>\n",
       "      <td>1355</td>\n",
       "    </tr>\n",
       "    <tr>\n",
       "      <th>12876</th>\n",
       "      <td>211230295</td>\n",
       "      <td>40143</td>\n",
       "      <td>Tulsa</td>\n",
       "      <td>BROKEN ARROW</td>\n",
       "      <td>0.0</td>\n",
       "      <td>1</td>\n",
       "      <td>11</td>\n",
       "      <td>2021</td>\n",
       "      <td>7</td>\n",
       "      <td>4</td>\n",
       "      <td>...</td>\n",
       "      <td>0</td>\n",
       "      <td>2</td>\n",
       "      <td>1</td>\n",
       "      <td>0.25</td>\n",
       "      <td>G40012104868001</td>\n",
       "      <td>121</td>\n",
       "      <td>83370.68390</td>\n",
       "      <td>G40012104868001</td>\n",
       "      <td>Pittsburg County</td>\n",
       "      <td>664</td>\n",
       "    </tr>\n",
       "    <tr>\n",
       "      <th>12877</th>\n",
       "      <td>211230321</td>\n",
       "      <td>40143</td>\n",
       "      <td>Tulsa</td>\n",
       "      <td>BROKEN ARROW</td>\n",
       "      <td>0.0</td>\n",
       "      <td>1</td>\n",
       "      <td>12</td>\n",
       "      <td>2021</td>\n",
       "      <td>7</td>\n",
       "      <td>4</td>\n",
       "      <td>...</td>\n",
       "      <td>0</td>\n",
       "      <td>1</td>\n",
       "      <td>1</td>\n",
       "      <td>0.25</td>\n",
       "      <td>G40012104868001</td>\n",
       "      <td>121</td>\n",
       "      <td>83370.68390</td>\n",
       "      <td>G40012104868001</td>\n",
       "      <td>Pittsburg County</td>\n",
       "      <td>664</td>\n",
       "    </tr>\n",
       "    <tr>\n",
       "      <th>...</th>\n",
       "      <td>...</td>\n",
       "      <td>...</td>\n",
       "      <td>...</td>\n",
       "      <td>...</td>\n",
       "      <td>...</td>\n",
       "      <td>...</td>\n",
       "      <td>...</td>\n",
       "      <td>...</td>\n",
       "      <td>...</td>\n",
       "      <td>...</td>\n",
       "      <td>...</td>\n",
       "      <td>...</td>\n",
       "      <td>...</td>\n",
       "      <td>...</td>\n",
       "      <td>...</td>\n",
       "      <td>...</td>\n",
       "      <td>...</td>\n",
       "      <td>...</td>\n",
       "      <td>...</td>\n",
       "      <td>...</td>\n",
       "      <td>...</td>\n",
       "    </tr>\n",
       "    <tr>\n",
       "      <th>27692</th>\n",
       "      <td>300532018</td>\n",
       "      <td>40109</td>\n",
       "      <td>Oklahoma</td>\n",
       "      <td>OKLAHOMA CITY</td>\n",
       "      <td>0.0</td>\n",
       "      <td>1</td>\n",
       "      <td>11</td>\n",
       "      <td>2021</td>\n",
       "      <td>7</td>\n",
       "      <td>4</td>\n",
       "      <td>...</td>\n",
       "      <td>0</td>\n",
       "      <td>1</td>\n",
       "      <td>1</td>\n",
       "      <td>0.25</td>\n",
       "      <td>G40004906819002</td>\n",
       "      <td>49</td>\n",
       "      <td>98862.92586</td>\n",
       "      <td>G40004906819002</td>\n",
       "      <td>Garvin County</td>\n",
       "      <td>1122</td>\n",
       "    </tr>\n",
       "    <tr>\n",
       "      <th>27693</th>\n",
       "      <td>300534146</td>\n",
       "      <td>40109</td>\n",
       "      <td>Oklahoma</td>\n",
       "      <td>OKLAHOMA CITY</td>\n",
       "      <td>0.0</td>\n",
       "      <td>1</td>\n",
       "      <td>11</td>\n",
       "      <td>2021</td>\n",
       "      <td>7</td>\n",
       "      <td>4</td>\n",
       "      <td>...</td>\n",
       "      <td>0</td>\n",
       "      <td>1</td>\n",
       "      <td>1</td>\n",
       "      <td>0.25</td>\n",
       "      <td>G40004906819002</td>\n",
       "      <td>49</td>\n",
       "      <td>98862.92586</td>\n",
       "      <td>G40004906819002</td>\n",
       "      <td>Garvin County</td>\n",
       "      <td>1122</td>\n",
       "    </tr>\n",
       "    <tr>\n",
       "      <th>27694</th>\n",
       "      <td>300528197</td>\n",
       "      <td>40109</td>\n",
       "      <td>Oklahoma</td>\n",
       "      <td>OKLAHOMA CITY</td>\n",
       "      <td>0.0</td>\n",
       "      <td>1</td>\n",
       "      <td>11</td>\n",
       "      <td>2021</td>\n",
       "      <td>7</td>\n",
       "      <td>4</td>\n",
       "      <td>...</td>\n",
       "      <td>1</td>\n",
       "      <td>1</td>\n",
       "      <td>1</td>\n",
       "      <td>0.25</td>\n",
       "      <td>G40004906819002</td>\n",
       "      <td>49</td>\n",
       "      <td>98862.92586</td>\n",
       "      <td>G40004906819002</td>\n",
       "      <td>Garvin County</td>\n",
       "      <td>1122</td>\n",
       "    </tr>\n",
       "    <tr>\n",
       "      <th>27695</th>\n",
       "      <td>300539748</td>\n",
       "      <td>40109</td>\n",
       "      <td>Oklahoma</td>\n",
       "      <td>OKLAHOMA CITY</td>\n",
       "      <td>0.0</td>\n",
       "      <td>1</td>\n",
       "      <td>11</td>\n",
       "      <td>2021</td>\n",
       "      <td>7</td>\n",
       "      <td>4</td>\n",
       "      <td>...</td>\n",
       "      <td>1</td>\n",
       "      <td>0</td>\n",
       "      <td>0</td>\n",
       "      <td>0.25</td>\n",
       "      <td>G40004906819002</td>\n",
       "      <td>49</td>\n",
       "      <td>98862.92586</td>\n",
       "      <td>G40004906819002</td>\n",
       "      <td>Garvin County</td>\n",
       "      <td>1122</td>\n",
       "    </tr>\n",
       "    <tr>\n",
       "      <th>27696</th>\n",
       "      <td>300536486</td>\n",
       "      <td>40109</td>\n",
       "      <td>Oklahoma</td>\n",
       "      <td>OKLAHOMA CITY</td>\n",
       "      <td>0.0</td>\n",
       "      <td>3</td>\n",
       "      <td>11</td>\n",
       "      <td>2021</td>\n",
       "      <td>7</td>\n",
       "      <td>4</td>\n",
       "      <td>...</td>\n",
       "      <td>1</td>\n",
       "      <td>1</td>\n",
       "      <td>1</td>\n",
       "      <td>0.25</td>\n",
       "      <td>G40004906819002</td>\n",
       "      <td>49</td>\n",
       "      <td>98862.92586</td>\n",
       "      <td>G40004906819002</td>\n",
       "      <td>Garvin County</td>\n",
       "      <td>1122</td>\n",
       "    </tr>\n",
       "  </tbody>\n",
       "</table>\n",
       "<p>9309 rows × 25 columns</p>\n",
       "</div>"
      ],
      "text/plain": [
       "        Crash_ID  County_FIP     COUNTY           CITY  TIME  LIGHTING_CAT  \\\n",
       "12873  211202855       40027  Cleveland          NOBLE   0.0             1   \n",
       "12874  211202858       40037      Creek        BRISTOW   0.0             1   \n",
       "12875  211202863       40017   Canadian        MUSTANG   0.0             1   \n",
       "12876  211230295       40143      Tulsa   BROKEN ARROW   0.0             1   \n",
       "12877  211230321       40143      Tulsa   BROKEN ARROW   0.0             1   \n",
       "...          ...         ...        ...            ...   ...           ...   \n",
       "27692  300532018       40109   Oklahoma  OKLAHOMA CITY   0.0             1   \n",
       "27693  300534146       40109   Oklahoma  OKLAHOMA CITY   0.0             1   \n",
       "27694  300528197       40109   Oklahoma  OKLAHOMA CITY   0.0             1   \n",
       "27695  300539748       40109   Oklahoma  OKLAHOMA CITY   0.0             1   \n",
       "27696  300536486       40109   Oklahoma  OKLAHOMA CITY   0.0             3   \n",
       "\n",
       "       WEATHER_CAT  YEAR  ROAD_CLASS  INTOXICATION  ...  OLDER_DRIV  \\\n",
       "12873           11  2021           7             4  ...           1   \n",
       "12874            2  2021           7             4  ...           0   \n",
       "12875           12  2021           7             4  ...           1   \n",
       "12876           11  2021           7             4  ...           0   \n",
       "12877           12  2021           7             4  ...           0   \n",
       "...            ...   ...         ...           ...  ...         ...   \n",
       "27692           11  2021           7             4  ...           0   \n",
       "27693           11  2021           7             4  ...           0   \n",
       "27694           11  2021           7             4  ...           1   \n",
       "27695           11  2021           7             4  ...           1   \n",
       "27696           11  2021           7             4  ...           1   \n",
       "\n",
       "       INJURY_COUNT  INJURY_OUTCOME  BUFF_DIST          GISJOIN  COUNTYFP  \\\n",
       "12873             1               1       0.25  G40004906819002        49   \n",
       "12874             1               1       0.25  G40002903882001        29   \n",
       "12875             1               1       0.25  G40013700009021       137   \n",
       "12876             2               1       0.25  G40012104868001       121   \n",
       "12877             1               1       0.25  G40012104868001       121   \n",
       "...             ...             ...        ...              ...       ...   \n",
       "27692             1               1       0.25  G40004906819002        49   \n",
       "27693             1               1       0.25  G40004906819002        49   \n",
       "27694             1               1       0.25  G40004906819002        49   \n",
       "27695             0               0       0.25  G40004906819002        49   \n",
       "27696             1               1       0.25  G40004906819002        49   \n",
       "\n",
       "         Shape_Leng        GISJOIN.1          COUNTY.1  POPN  \n",
       "12873   98862.92586  G40004906819002     Garvin County  1122  \n",
       "12874  104926.65410  G40002903882001       Coal County  1059  \n",
       "12875   97242.43652  G40013700009021   Stephens County  1355  \n",
       "12876   83370.68390  G40012104868001  Pittsburg County   664  \n",
       "12877   83370.68390  G40012104868001  Pittsburg County   664  \n",
       "...             ...              ...               ...   ...  \n",
       "27692   98862.92586  G40004906819002     Garvin County  1122  \n",
       "27693   98862.92586  G40004906819002     Garvin County  1122  \n",
       "27694   98862.92586  G40004906819002     Garvin County  1122  \n",
       "27695   98862.92586  G40004906819002     Garvin County  1122  \n",
       "27696   98862.92586  G40004906819002     Garvin County  1122  \n",
       "\n",
       "[9309 rows x 25 columns]"
      ]
     },
     "execution_count": 10,
     "metadata": {},
     "output_type": "execute_result"
    }
   ],
   "source": [
    "o_21"
   ]
  },
  {
   "cell_type": "code",
   "execution_count": 11,
   "id": "2e6c6678",
   "metadata": {},
   "outputs": [],
   "source": [
    "group_19 = o_19.groupby(['GISJOIN'])"
   ]
  },
  {
   "cell_type": "code",
   "execution_count": 12,
   "id": "4d1170a9",
   "metadata": {},
   "outputs": [],
   "source": [
    "group_19 = group_19.size()"
   ]
  },
  {
   "cell_type": "code",
   "execution_count": 13,
   "id": "7eed9c34",
   "metadata": {},
   "outputs": [],
   "source": [
    "group_19 = group_19.reset_index()"
   ]
  },
  {
   "cell_type": "code",
   "execution_count": 14,
   "id": "fe16301a",
   "metadata": {},
   "outputs": [
    {
     "data": {
      "text/html": [
       "<div>\n",
       "<style scoped>\n",
       "    .dataframe tbody tr th:only-of-type {\n",
       "        vertical-align: middle;\n",
       "    }\n",
       "\n",
       "    .dataframe tbody tr th {\n",
       "        vertical-align: top;\n",
       "    }\n",
       "\n",
       "    .dataframe thead th {\n",
       "        text-align: right;\n",
       "    }\n",
       "</style>\n",
       "<table border=\"1\" class=\"dataframe\">\n",
       "  <thead>\n",
       "    <tr style=\"text-align: right;\">\n",
       "      <th></th>\n",
       "      <th>GISJOIN</th>\n",
       "      <th>0</th>\n",
       "    </tr>\n",
       "  </thead>\n",
       "  <tbody>\n",
       "    <tr>\n",
       "      <th>0</th>\n",
       "      <td>G40000103766001</td>\n",
       "      <td>2</td>\n",
       "    </tr>\n",
       "    <tr>\n",
       "      <th>1</th>\n",
       "      <td>G40000103767001</td>\n",
       "      <td>2</td>\n",
       "    </tr>\n",
       "    <tr>\n",
       "      <th>2</th>\n",
       "      <td>G40000103767002</td>\n",
       "      <td>3</td>\n",
       "    </tr>\n",
       "    <tr>\n",
       "      <th>3</th>\n",
       "      <td>G40000103767003</td>\n",
       "      <td>1</td>\n",
       "    </tr>\n",
       "    <tr>\n",
       "      <th>4</th>\n",
       "      <td>G40000103767004</td>\n",
       "      <td>2</td>\n",
       "    </tr>\n",
       "    <tr>\n",
       "      <th>...</th>\n",
       "      <td>...</td>\n",
       "      <td>...</td>\n",
       "    </tr>\n",
       "    <tr>\n",
       "      <th>2592</th>\n",
       "      <td>G40015309532003</td>\n",
       "      <td>9</td>\n",
       "    </tr>\n",
       "    <tr>\n",
       "      <th>2593</th>\n",
       "      <td>G40015309533002</td>\n",
       "      <td>3</td>\n",
       "    </tr>\n",
       "    <tr>\n",
       "      <th>2594</th>\n",
       "      <td>G40015309534002</td>\n",
       "      <td>1</td>\n",
       "    </tr>\n",
       "    <tr>\n",
       "      <th>2595</th>\n",
       "      <td>G40015309534004</td>\n",
       "      <td>1</td>\n",
       "    </tr>\n",
       "    <tr>\n",
       "      <th>2596</th>\n",
       "      <td>G40015309535005</td>\n",
       "      <td>1</td>\n",
       "    </tr>\n",
       "  </tbody>\n",
       "</table>\n",
       "<p>2597 rows × 2 columns</p>\n",
       "</div>"
      ],
      "text/plain": [
       "              GISJOIN  0\n",
       "0     G40000103766001  2\n",
       "1     G40000103767001  2\n",
       "2     G40000103767002  3\n",
       "3     G40000103767003  1\n",
       "4     G40000103767004  2\n",
       "...               ... ..\n",
       "2592  G40015309532003  9\n",
       "2593  G40015309533002  3\n",
       "2594  G40015309534002  1\n",
       "2595  G40015309534004  1\n",
       "2596  G40015309535005  1\n",
       "\n",
       "[2597 rows x 2 columns]"
      ]
     },
     "execution_count": 14,
     "metadata": {},
     "output_type": "execute_result"
    }
   ],
   "source": [
    "group_19"
   ]
  },
  {
   "cell_type": "code",
   "execution_count": 15,
   "id": "2b40e31b",
   "metadata": {},
   "outputs": [],
   "source": [
    "group_20 = o_20.groupby(['GISJOIN'])"
   ]
  },
  {
   "cell_type": "code",
   "execution_count": 16,
   "id": "4c1f94f3",
   "metadata": {},
   "outputs": [],
   "source": [
    "group_20 = group_20.size()"
   ]
  },
  {
   "cell_type": "code",
   "execution_count": 17,
   "id": "e123fe1c",
   "metadata": {},
   "outputs": [],
   "source": [
    "group_20 = group_20.reset_index()"
   ]
  },
  {
   "cell_type": "code",
   "execution_count": 18,
   "id": "764855f6",
   "metadata": {},
   "outputs": [
    {
     "data": {
      "text/html": [
       "<div>\n",
       "<style scoped>\n",
       "    .dataframe tbody tr th:only-of-type {\n",
       "        vertical-align: middle;\n",
       "    }\n",
       "\n",
       "    .dataframe tbody tr th {\n",
       "        vertical-align: top;\n",
       "    }\n",
       "\n",
       "    .dataframe thead th {\n",
       "        text-align: right;\n",
       "    }\n",
       "</style>\n",
       "<table border=\"1\" class=\"dataframe\">\n",
       "  <thead>\n",
       "    <tr style=\"text-align: right;\">\n",
       "      <th></th>\n",
       "      <th>GISJOIN</th>\n",
       "      <th>0</th>\n",
       "    </tr>\n",
       "  </thead>\n",
       "  <tbody>\n",
       "    <tr>\n",
       "      <th>0</th>\n",
       "      <td>G40000103767003</td>\n",
       "      <td>1</td>\n",
       "    </tr>\n",
       "    <tr>\n",
       "      <th>1</th>\n",
       "      <td>G40000103769003</td>\n",
       "      <td>1</td>\n",
       "    </tr>\n",
       "    <tr>\n",
       "      <th>2</th>\n",
       "      <td>G40000103770001</td>\n",
       "      <td>1</td>\n",
       "    </tr>\n",
       "    <tr>\n",
       "      <th>3</th>\n",
       "      <td>G40000103770004</td>\n",
       "      <td>1</td>\n",
       "    </tr>\n",
       "    <tr>\n",
       "      <th>4</th>\n",
       "      <td>G40000505876001</td>\n",
       "      <td>1254</td>\n",
       "    </tr>\n",
       "    <tr>\n",
       "      <th>...</th>\n",
       "      <td>...</td>\n",
       "      <td>...</td>\n",
       "    </tr>\n",
       "    <tr>\n",
       "      <th>309</th>\n",
       "      <td>G40014700006013</td>\n",
       "      <td>1</td>\n",
       "    </tr>\n",
       "    <tr>\n",
       "      <th>310</th>\n",
       "      <td>G40014700007002</td>\n",
       "      <td>1</td>\n",
       "    </tr>\n",
       "    <tr>\n",
       "      <th>311</th>\n",
       "      <td>G40014700010001</td>\n",
       "      <td>73</td>\n",
       "    </tr>\n",
       "    <tr>\n",
       "      <th>312</th>\n",
       "      <td>G40015309531001</td>\n",
       "      <td>1</td>\n",
       "    </tr>\n",
       "    <tr>\n",
       "      <th>313</th>\n",
       "      <td>G40015309532003</td>\n",
       "      <td>2</td>\n",
       "    </tr>\n",
       "  </tbody>\n",
       "</table>\n",
       "<p>314 rows × 2 columns</p>\n",
       "</div>"
      ],
      "text/plain": [
       "             GISJOIN     0\n",
       "0    G40000103767003     1\n",
       "1    G40000103769003     1\n",
       "2    G40000103770001     1\n",
       "3    G40000103770004     1\n",
       "4    G40000505876001  1254\n",
       "..               ...   ...\n",
       "309  G40014700006013     1\n",
       "310  G40014700007002     1\n",
       "311  G40014700010001    73\n",
       "312  G40015309531001     1\n",
       "313  G40015309532003     2\n",
       "\n",
       "[314 rows x 2 columns]"
      ]
     },
     "execution_count": 18,
     "metadata": {},
     "output_type": "execute_result"
    }
   ],
   "source": [
    "group_20"
   ]
  },
  {
   "cell_type": "code",
   "execution_count": 19,
   "id": "3e61efc9",
   "metadata": {},
   "outputs": [
    {
     "data": {
      "text/plain": [
       "<pandas.core.groupby.generic.DataFrameGroupBy object at 0x0000025C2C5307D0>"
      ]
     },
     "execution_count": 19,
     "metadata": {},
     "output_type": "execute_result"
    }
   ],
   "source": [
    "group_21 = o_21.groupby(['GISJOIN'])\n",
    "group_21"
   ]
  },
  {
   "cell_type": "code",
   "execution_count": 20,
   "id": "dd3b6f90",
   "metadata": {},
   "outputs": [
    {
     "data": {
      "text/plain": [
       "GISJOIN\n",
       "G40000505876001    1477\n",
       "G40001703007023       1\n",
       "G40002903881001     203\n",
       "G40002903882001     242\n",
       "G40003100020031      61\n",
       "                   ... \n",
       "G40014300076562       2\n",
       "G40015109542012       1\n",
       "G40015109542013       7\n",
       "G40015109543003       1\n",
       "G40015309531001       1\n",
       "Length: 120, dtype: int64"
      ]
     },
     "execution_count": 20,
     "metadata": {},
     "output_type": "execute_result"
    }
   ],
   "source": [
    "group_21 = group_21.size()\n",
    "group_21"
   ]
  },
  {
   "cell_type": "code",
   "execution_count": 21,
   "id": "add3303d",
   "metadata": {},
   "outputs": [
    {
     "data": {
      "text/html": [
       "<div>\n",
       "<style scoped>\n",
       "    .dataframe tbody tr th:only-of-type {\n",
       "        vertical-align: middle;\n",
       "    }\n",
       "\n",
       "    .dataframe tbody tr th {\n",
       "        vertical-align: top;\n",
       "    }\n",
       "\n",
       "    .dataframe thead th {\n",
       "        text-align: right;\n",
       "    }\n",
       "</style>\n",
       "<table border=\"1\" class=\"dataframe\">\n",
       "  <thead>\n",
       "    <tr style=\"text-align: right;\">\n",
       "      <th></th>\n",
       "      <th>GISJOIN</th>\n",
       "      <th>0</th>\n",
       "    </tr>\n",
       "  </thead>\n",
       "  <tbody>\n",
       "    <tr>\n",
       "      <th>0</th>\n",
       "      <td>G40000505876001</td>\n",
       "      <td>1477</td>\n",
       "    </tr>\n",
       "    <tr>\n",
       "      <th>1</th>\n",
       "      <td>G40001703007023</td>\n",
       "      <td>1</td>\n",
       "    </tr>\n",
       "    <tr>\n",
       "      <th>2</th>\n",
       "      <td>G40002903881001</td>\n",
       "      <td>203</td>\n",
       "    </tr>\n",
       "    <tr>\n",
       "      <th>3</th>\n",
       "      <td>G40002903882001</td>\n",
       "      <td>242</td>\n",
       "    </tr>\n",
       "    <tr>\n",
       "      <th>4</th>\n",
       "      <td>G40003100020031</td>\n",
       "      <td>61</td>\n",
       "    </tr>\n",
       "    <tr>\n",
       "      <th>...</th>\n",
       "      <td>...</td>\n",
       "      <td>...</td>\n",
       "    </tr>\n",
       "    <tr>\n",
       "      <th>115</th>\n",
       "      <td>G40014300076562</td>\n",
       "      <td>2</td>\n",
       "    </tr>\n",
       "    <tr>\n",
       "      <th>116</th>\n",
       "      <td>G40015109542012</td>\n",
       "      <td>1</td>\n",
       "    </tr>\n",
       "    <tr>\n",
       "      <th>117</th>\n",
       "      <td>G40015109542013</td>\n",
       "      <td>7</td>\n",
       "    </tr>\n",
       "    <tr>\n",
       "      <th>118</th>\n",
       "      <td>G40015109543003</td>\n",
       "      <td>1</td>\n",
       "    </tr>\n",
       "    <tr>\n",
       "      <th>119</th>\n",
       "      <td>G40015309531001</td>\n",
       "      <td>1</td>\n",
       "    </tr>\n",
       "  </tbody>\n",
       "</table>\n",
       "<p>120 rows × 2 columns</p>\n",
       "</div>"
      ],
      "text/plain": [
       "             GISJOIN     0\n",
       "0    G40000505876001  1477\n",
       "1    G40001703007023     1\n",
       "2    G40002903881001   203\n",
       "3    G40002903882001   242\n",
       "4    G40003100020031    61\n",
       "..               ...   ...\n",
       "115  G40014300076562     2\n",
       "116  G40015109542012     1\n",
       "117  G40015109542013     7\n",
       "118  G40015109543003     1\n",
       "119  G40015309531001     1\n",
       "\n",
       "[120 rows x 2 columns]"
      ]
     },
     "execution_count": 21,
     "metadata": {},
     "output_type": "execute_result"
    }
   ],
   "source": [
    "group_21= group_21.reset_index()\n",
    "group_21"
   ]
  },
  {
   "cell_type": "code",
   "execution_count": 22,
   "id": "2f3b334e",
   "metadata": {},
   "outputs": [
    {
     "data": {
      "text/html": [
       "<div>\n",
       "<style scoped>\n",
       "    .dataframe tbody tr th:only-of-type {\n",
       "        vertical-align: middle;\n",
       "    }\n",
       "\n",
       "    .dataframe tbody tr th {\n",
       "        vertical-align: top;\n",
       "    }\n",
       "\n",
       "    .dataframe thead th {\n",
       "        text-align: right;\n",
       "    }\n",
       "</style>\n",
       "<table border=\"1\" class=\"dataframe\">\n",
       "  <thead>\n",
       "    <tr style=\"text-align: right;\">\n",
       "      <th></th>\n",
       "      <th>GISJOIN</th>\n",
       "      <th>0</th>\n",
       "    </tr>\n",
       "  </thead>\n",
       "  <tbody>\n",
       "    <tr>\n",
       "      <th>0</th>\n",
       "      <td>G40000505876001</td>\n",
       "      <td>1477</td>\n",
       "    </tr>\n",
       "    <tr>\n",
       "      <th>1</th>\n",
       "      <td>G40001703007023</td>\n",
       "      <td>1</td>\n",
       "    </tr>\n",
       "    <tr>\n",
       "      <th>2</th>\n",
       "      <td>G40002903881001</td>\n",
       "      <td>203</td>\n",
       "    </tr>\n",
       "    <tr>\n",
       "      <th>3</th>\n",
       "      <td>G40002903882001</td>\n",
       "      <td>242</td>\n",
       "    </tr>\n",
       "    <tr>\n",
       "      <th>4</th>\n",
       "      <td>G40003100020031</td>\n",
       "      <td>61</td>\n",
       "    </tr>\n",
       "    <tr>\n",
       "      <th>...</th>\n",
       "      <td>...</td>\n",
       "      <td>...</td>\n",
       "    </tr>\n",
       "    <tr>\n",
       "      <th>115</th>\n",
       "      <td>G40014300076562</td>\n",
       "      <td>2</td>\n",
       "    </tr>\n",
       "    <tr>\n",
       "      <th>116</th>\n",
       "      <td>G40015109542012</td>\n",
       "      <td>1</td>\n",
       "    </tr>\n",
       "    <tr>\n",
       "      <th>117</th>\n",
       "      <td>G40015109542013</td>\n",
       "      <td>7</td>\n",
       "    </tr>\n",
       "    <tr>\n",
       "      <th>118</th>\n",
       "      <td>G40015109543003</td>\n",
       "      <td>1</td>\n",
       "    </tr>\n",
       "    <tr>\n",
       "      <th>119</th>\n",
       "      <td>G40015309531001</td>\n",
       "      <td>1</td>\n",
       "    </tr>\n",
       "  </tbody>\n",
       "</table>\n",
       "<p>120 rows × 2 columns</p>\n",
       "</div>"
      ],
      "text/plain": [
       "             GISJOIN     0\n",
       "0    G40000505876001  1477\n",
       "1    G40001703007023     1\n",
       "2    G40002903881001   203\n",
       "3    G40002903882001   242\n",
       "4    G40003100020031    61\n",
       "..               ...   ...\n",
       "115  G40014300076562     2\n",
       "116  G40015109542012     1\n",
       "117  G40015109542013     7\n",
       "118  G40015109543003     1\n",
       "119  G40015309531001     1\n",
       "\n",
       "[120 rows x 2 columns]"
      ]
     },
     "execution_count": 22,
     "metadata": {},
     "output_type": "execute_result"
    }
   ],
   "source": [
    "group_21"
   ]
  },
  {
   "cell_type": "code",
   "execution_count": 23,
   "id": "f00d5d5d",
   "metadata": {},
   "outputs": [
    {
     "data": {
      "text/plain": [
       "Index(['Crash_ID', 'County_FIP', 'COUNTY', 'CITY', 'TIME', 'LIGHTING_CAT',\n",
       "       'WEATHER_CAT', 'YEAR', 'ROAD_CLASS', 'INTOXICATION', 'LATITUDE',\n",
       "       'LONGITUDE', 'INATTENTION', 'SPEEDING', 'TEEN_DRIVE', 'OLDER_DRIV',\n",
       "       'INJURY_COUNT', 'INJURY_OUTCOME', 'BUFF_DIST', 'GISJOIN', 'COUNTYFP',\n",
       "       'Shape_Leng', 'GISJOIN.1', 'COUNTY.1', 'POPN'],\n",
       "      dtype='object')"
      ]
     },
     "execution_count": 23,
     "metadata": {},
     "output_type": "execute_result"
    }
   ],
   "source": [
    "okla.columns"
   ]
  },
  {
   "cell_type": "code",
   "execution_count": 24,
   "id": "5584275b",
   "metadata": {},
   "outputs": [
    {
     "data": {
      "text/plain": [
       "array([1, 4, 3, 6, 2, 5, 8, 0], dtype=int64)"
      ]
     },
     "execution_count": 24,
     "metadata": {},
     "output_type": "execute_result"
    }
   ],
   "source": [
    "okla['LIGHTING_CAT'].unique()"
   ]
  },
  {
   "cell_type": "code",
   "execution_count": 25,
   "id": "c0fd21b3",
   "metadata": {},
   "outputs": [
    {
     "name": "stderr",
     "output_type": "stream",
     "text": [
      "C:\\Users\\karan\\AppData\\Local\\Temp\\ipykernel_21608\\3384557865.py:13: SettingWithCopyWarning: \n",
      "A value is trying to be set on a copy of a slice from a DataFrame.\n",
      "Try using .loc[row_indexer,col_indexer] = value instead\n",
      "\n",
      "See the caveats in the documentation: https://pandas.pydata.org/pandas-docs/stable/user_guide/indexing.html#returning-a-view-versus-a-copy\n",
      "  df['light_desc'] = df['LIGHTING_CAT'].map(mapping).astype(str)\n",
      "C:\\Users\\karan\\AppData\\Local\\Temp\\ipykernel_21608\\3384557865.py:13: SettingWithCopyWarning: \n",
      "A value is trying to be set on a copy of a slice from a DataFrame.\n",
      "Try using .loc[row_indexer,col_indexer] = value instead\n",
      "\n",
      "See the caveats in the documentation: https://pandas.pydata.org/pandas-docs/stable/user_guide/indexing.html#returning-a-view-versus-a-copy\n",
      "  df['light_desc'] = df['LIGHTING_CAT'].map(mapping).astype(str)\n",
      "C:\\Users\\karan\\AppData\\Local\\Temp\\ipykernel_21608\\3384557865.py:13: SettingWithCopyWarning: \n",
      "A value is trying to be set on a copy of a slice from a DataFrame.\n",
      "Try using .loc[row_indexer,col_indexer] = value instead\n",
      "\n",
      "See the caveats in the documentation: https://pandas.pydata.org/pandas-docs/stable/user_guide/indexing.html#returning-a-view-versus-a-copy\n",
      "  df['light_desc'] = df['LIGHTING_CAT'].map(mapping).astype(str)\n"
     ]
    }
   ],
   "source": [
    "lighting_conditions = {\n",
    "    1: 'DAYLIGHT',\n",
    "    4: 'DARK-LIGHTED',\n",
    "    3: 'DARK-NOT LIGHTED',\n",
    "    6: 'DARK-UNKNOWN LIGHTING',\n",
    "    5: 'DUSK',\n",
    "    2: 'DAWN',\n",
    "    0: 'UNK_LIGHT',\n",
    "    8: 'OTHER_LIGHT'\n",
    "}\n",
    "def process_intoxication_data(df, mapping):\n",
    "    # Map the intoxication codes to descriptive names\n",
    "    df['light_desc'] = df['LIGHTING_CAT'].map(mapping).astype(str)\n",
    "\n",
    "    # Create a list of all possible intoxication categories\n",
    "    all_categories = list(mapping.values())\n",
    "\n",
    "    # Group by COUNTY and INTOXICATION_DESC, then count occurrences\n",
    "    grouped = df.groupby(['GISJOIN', 'light_desc']).size().unstack(fill_value=0)\n",
    "\n",
    "    # Reindex the DataFrame to include all possible intoxication categories\n",
    "    grouped = grouped.reindex(columns=all_categories, fill_value=0)\n",
    "\n",
    "    # Calculate total counts by county to normalize the data\n",
    "    total_counts_by_county = grouped.sum(axis=1)\n",
    "\n",
    "    # Calculate percentages\n",
    "    light_percentages_df = (grouped.div(total_counts_by_county, axis=0) * 100).fillna(0)\n",
    "    light_percentages_df = light_percentages_df.reset_index(drop=False)\n",
    "\n",
    "    return light_percentages_df\n",
    "\n",
    "# Process each year's data\n",
    "l_df_2019 = process_intoxication_data(o_19, lighting_conditions)\n",
    "l_df_2020 = process_intoxication_data(o_20, lighting_conditions)\n",
    "l_df_2021 = process_intoxication_data(o_21, lighting_conditions)\n",
    "\n"
   ]
  },
  {
   "cell_type": "code",
   "execution_count": 26,
   "id": "7505c651",
   "metadata": {},
   "outputs": [],
   "source": [
    "o1 = pd.merge(group_19,l_df_2019,on=['GISJOIN'],how='left')\n",
    "o2 = pd.merge(group_20,l_df_2020,on=['GISJOIN'],how='left')\n",
    "o3 = pd.merge(group_21,l_df_2021,on=['GISJOIN'],how='left')"
   ]
  },
  {
   "cell_type": "code",
   "execution_count": 27,
   "id": "b2848ad6",
   "metadata": {},
   "outputs": [
    {
     "data": {
      "text/plain": [
       "((2597, 10), (314, 10), (120, 10))"
      ]
     },
     "execution_count": 27,
     "metadata": {},
     "output_type": "execute_result"
    }
   ],
   "source": [
    "o1.shape, o2.shape, o3.shape"
   ]
  },
  {
   "cell_type": "code",
   "execution_count": 28,
   "id": "1bc911a5",
   "metadata": {},
   "outputs": [
    {
     "data": {
      "text/html": [
       "<div>\n",
       "<style scoped>\n",
       "    .dataframe tbody tr th:only-of-type {\n",
       "        vertical-align: middle;\n",
       "    }\n",
       "\n",
       "    .dataframe tbody tr th {\n",
       "        vertical-align: top;\n",
       "    }\n",
       "\n",
       "    .dataframe thead th {\n",
       "        text-align: right;\n",
       "    }\n",
       "</style>\n",
       "<table border=\"1\" class=\"dataframe\">\n",
       "  <thead>\n",
       "    <tr style=\"text-align: right;\">\n",
       "      <th></th>\n",
       "      <th>GISJOIN</th>\n",
       "      <th>0</th>\n",
       "      <th>DAYLIGHT</th>\n",
       "      <th>DARK-LIGHTED</th>\n",
       "      <th>DARK-NOT LIGHTED</th>\n",
       "      <th>DARK-UNKNOWN LIGHTING</th>\n",
       "      <th>DUSK</th>\n",
       "      <th>DAWN</th>\n",
       "      <th>UNK_LIGHT</th>\n",
       "      <th>OTHER_LIGHT</th>\n",
       "    </tr>\n",
       "  </thead>\n",
       "  <tbody>\n",
       "    <tr>\n",
       "      <th>0</th>\n",
       "      <td>G40000505876001</td>\n",
       "      <td>1477</td>\n",
       "      <td>68.449560</td>\n",
       "      <td>15.978334</td>\n",
       "      <td>12.389980</td>\n",
       "      <td>0.203114</td>\n",
       "      <td>1.624915</td>\n",
       "      <td>1.083277</td>\n",
       "      <td>0.135410</td>\n",
       "      <td>0.13541</td>\n",
       "    </tr>\n",
       "    <tr>\n",
       "      <th>1</th>\n",
       "      <td>G40001703007023</td>\n",
       "      <td>1</td>\n",
       "      <td>100.000000</td>\n",
       "      <td>0.000000</td>\n",
       "      <td>0.000000</td>\n",
       "      <td>0.000000</td>\n",
       "      <td>0.000000</td>\n",
       "      <td>0.000000</td>\n",
       "      <td>0.000000</td>\n",
       "      <td>0.00000</td>\n",
       "    </tr>\n",
       "    <tr>\n",
       "      <th>2</th>\n",
       "      <td>G40002903881001</td>\n",
       "      <td>203</td>\n",
       "      <td>67.487685</td>\n",
       "      <td>6.896552</td>\n",
       "      <td>20.689655</td>\n",
       "      <td>0.492611</td>\n",
       "      <td>3.940887</td>\n",
       "      <td>0.492611</td>\n",
       "      <td>0.000000</td>\n",
       "      <td>0.00000</td>\n",
       "    </tr>\n",
       "    <tr>\n",
       "      <th>3</th>\n",
       "      <td>G40002903882001</td>\n",
       "      <td>242</td>\n",
       "      <td>58.677686</td>\n",
       "      <td>2.479339</td>\n",
       "      <td>33.884298</td>\n",
       "      <td>0.000000</td>\n",
       "      <td>1.652893</td>\n",
       "      <td>2.479339</td>\n",
       "      <td>0.826446</td>\n",
       "      <td>0.00000</td>\n",
       "    </tr>\n",
       "    <tr>\n",
       "      <th>4</th>\n",
       "      <td>G40003100020031</td>\n",
       "      <td>61</td>\n",
       "      <td>59.016393</td>\n",
       "      <td>0.000000</td>\n",
       "      <td>36.065574</td>\n",
       "      <td>0.000000</td>\n",
       "      <td>1.639344</td>\n",
       "      <td>3.278689</td>\n",
       "      <td>0.000000</td>\n",
       "      <td>0.00000</td>\n",
       "    </tr>\n",
       "    <tr>\n",
       "      <th>...</th>\n",
       "      <td>...</td>\n",
       "      <td>...</td>\n",
       "      <td>...</td>\n",
       "      <td>...</td>\n",
       "      <td>...</td>\n",
       "      <td>...</td>\n",
       "      <td>...</td>\n",
       "      <td>...</td>\n",
       "      <td>...</td>\n",
       "      <td>...</td>\n",
       "    </tr>\n",
       "    <tr>\n",
       "      <th>115</th>\n",
       "      <td>G40014300076562</td>\n",
       "      <td>2</td>\n",
       "      <td>100.000000</td>\n",
       "      <td>0.000000</td>\n",
       "      <td>0.000000</td>\n",
       "      <td>0.000000</td>\n",
       "      <td>0.000000</td>\n",
       "      <td>0.000000</td>\n",
       "      <td>0.000000</td>\n",
       "      <td>0.00000</td>\n",
       "    </tr>\n",
       "    <tr>\n",
       "      <th>116</th>\n",
       "      <td>G40015109542012</td>\n",
       "      <td>1</td>\n",
       "      <td>100.000000</td>\n",
       "      <td>0.000000</td>\n",
       "      <td>0.000000</td>\n",
       "      <td>0.000000</td>\n",
       "      <td>0.000000</td>\n",
       "      <td>0.000000</td>\n",
       "      <td>0.000000</td>\n",
       "      <td>0.00000</td>\n",
       "    </tr>\n",
       "    <tr>\n",
       "      <th>117</th>\n",
       "      <td>G40015109542013</td>\n",
       "      <td>7</td>\n",
       "      <td>57.142857</td>\n",
       "      <td>0.000000</td>\n",
       "      <td>0.000000</td>\n",
       "      <td>0.000000</td>\n",
       "      <td>14.285714</td>\n",
       "      <td>28.571429</td>\n",
       "      <td>0.000000</td>\n",
       "      <td>0.00000</td>\n",
       "    </tr>\n",
       "    <tr>\n",
       "      <th>118</th>\n",
       "      <td>G40015109543003</td>\n",
       "      <td>1</td>\n",
       "      <td>100.000000</td>\n",
       "      <td>0.000000</td>\n",
       "      <td>0.000000</td>\n",
       "      <td>0.000000</td>\n",
       "      <td>0.000000</td>\n",
       "      <td>0.000000</td>\n",
       "      <td>0.000000</td>\n",
       "      <td>0.00000</td>\n",
       "    </tr>\n",
       "    <tr>\n",
       "      <th>119</th>\n",
       "      <td>G40015309531001</td>\n",
       "      <td>1</td>\n",
       "      <td>100.000000</td>\n",
       "      <td>0.000000</td>\n",
       "      <td>0.000000</td>\n",
       "      <td>0.000000</td>\n",
       "      <td>0.000000</td>\n",
       "      <td>0.000000</td>\n",
       "      <td>0.000000</td>\n",
       "      <td>0.00000</td>\n",
       "    </tr>\n",
       "  </tbody>\n",
       "</table>\n",
       "<p>120 rows × 10 columns</p>\n",
       "</div>"
      ],
      "text/plain": [
       "             GISJOIN     0    DAYLIGHT  DARK-LIGHTED  DARK-NOT LIGHTED  \\\n",
       "0    G40000505876001  1477   68.449560     15.978334         12.389980   \n",
       "1    G40001703007023     1  100.000000      0.000000          0.000000   \n",
       "2    G40002903881001   203   67.487685      6.896552         20.689655   \n",
       "3    G40002903882001   242   58.677686      2.479339         33.884298   \n",
       "4    G40003100020031    61   59.016393      0.000000         36.065574   \n",
       "..               ...   ...         ...           ...               ...   \n",
       "115  G40014300076562     2  100.000000      0.000000          0.000000   \n",
       "116  G40015109542012     1  100.000000      0.000000          0.000000   \n",
       "117  G40015109542013     7   57.142857      0.000000          0.000000   \n",
       "118  G40015109543003     1  100.000000      0.000000          0.000000   \n",
       "119  G40015309531001     1  100.000000      0.000000          0.000000   \n",
       "\n",
       "     DARK-UNKNOWN LIGHTING       DUSK       DAWN  UNK_LIGHT  OTHER_LIGHT  \n",
       "0                 0.203114   1.624915   1.083277   0.135410      0.13541  \n",
       "1                 0.000000   0.000000   0.000000   0.000000      0.00000  \n",
       "2                 0.492611   3.940887   0.492611   0.000000      0.00000  \n",
       "3                 0.000000   1.652893   2.479339   0.826446      0.00000  \n",
       "4                 0.000000   1.639344   3.278689   0.000000      0.00000  \n",
       "..                     ...        ...        ...        ...          ...  \n",
       "115               0.000000   0.000000   0.000000   0.000000      0.00000  \n",
       "116               0.000000   0.000000   0.000000   0.000000      0.00000  \n",
       "117               0.000000  14.285714  28.571429   0.000000      0.00000  \n",
       "118               0.000000   0.000000   0.000000   0.000000      0.00000  \n",
       "119               0.000000   0.000000   0.000000   0.000000      0.00000  \n",
       "\n",
       "[120 rows x 10 columns]"
      ]
     },
     "execution_count": 28,
     "metadata": {},
     "output_type": "execute_result"
    }
   ],
   "source": [
    "o3"
   ]
  },
  {
   "cell_type": "code",
   "execution_count": 29,
   "id": "57c221ac",
   "metadata": {},
   "outputs": [
    {
     "data": {
      "text/html": [
       "<div>\n",
       "<style scoped>\n",
       "    .dataframe tbody tr th:only-of-type {\n",
       "        vertical-align: middle;\n",
       "    }\n",
       "\n",
       "    .dataframe tbody tr th {\n",
       "        vertical-align: top;\n",
       "    }\n",
       "\n",
       "    .dataframe thead th {\n",
       "        text-align: right;\n",
       "    }\n",
       "</style>\n",
       "<table border=\"1\" class=\"dataframe\">\n",
       "  <thead>\n",
       "    <tr style=\"text-align: right;\">\n",
       "      <th></th>\n",
       "      <th>GISJOIN</th>\n",
       "      <th>POPN</th>\n",
       "      <th>0</th>\n",
       "    </tr>\n",
       "  </thead>\n",
       "  <tbody>\n",
       "    <tr>\n",
       "      <th>0</th>\n",
       "      <td>G40000103766001</td>\n",
       "      <td>817</td>\n",
       "      <td>2</td>\n",
       "    </tr>\n",
       "    <tr>\n",
       "      <th>1</th>\n",
       "      <td>G40000103767001</td>\n",
       "      <td>589</td>\n",
       "      <td>2</td>\n",
       "    </tr>\n",
       "    <tr>\n",
       "      <th>2</th>\n",
       "      <td>G40000103767002</td>\n",
       "      <td>1364</td>\n",
       "      <td>3</td>\n",
       "    </tr>\n",
       "    <tr>\n",
       "      <th>3</th>\n",
       "      <td>G40000103767003</td>\n",
       "      <td>734</td>\n",
       "      <td>1</td>\n",
       "    </tr>\n",
       "    <tr>\n",
       "      <th>4</th>\n",
       "      <td>G40000103767004</td>\n",
       "      <td>803</td>\n",
       "      <td>2</td>\n",
       "    </tr>\n",
       "    <tr>\n",
       "      <th>...</th>\n",
       "      <td>...</td>\n",
       "      <td>...</td>\n",
       "      <td>...</td>\n",
       "    </tr>\n",
       "    <tr>\n",
       "      <th>2592</th>\n",
       "      <td>G40015309532003</td>\n",
       "      <td>1123</td>\n",
       "      <td>9</td>\n",
       "    </tr>\n",
       "    <tr>\n",
       "      <th>2593</th>\n",
       "      <td>G40015309533002</td>\n",
       "      <td>1726</td>\n",
       "      <td>3</td>\n",
       "    </tr>\n",
       "    <tr>\n",
       "      <th>2594</th>\n",
       "      <td>G40015309534002</td>\n",
       "      <td>716</td>\n",
       "      <td>1</td>\n",
       "    </tr>\n",
       "    <tr>\n",
       "      <th>2595</th>\n",
       "      <td>G40015309534004</td>\n",
       "      <td>1016</td>\n",
       "      <td>1</td>\n",
       "    </tr>\n",
       "    <tr>\n",
       "      <th>2596</th>\n",
       "      <td>G40015309535005</td>\n",
       "      <td>1082</td>\n",
       "      <td>1</td>\n",
       "    </tr>\n",
       "  </tbody>\n",
       "</table>\n",
       "<p>2597 rows × 3 columns</p>\n",
       "</div>"
      ],
      "text/plain": [
       "              GISJOIN  POPN  0\n",
       "0     G40000103766001   817  2\n",
       "1     G40000103767001   589  2\n",
       "2     G40000103767002  1364  3\n",
       "3     G40000103767003   734  1\n",
       "4     G40000103767004   803  2\n",
       "...               ...   ... ..\n",
       "2592  G40015309532003  1123  9\n",
       "2593  G40015309533002  1726  3\n",
       "2594  G40015309534002   716  1\n",
       "2595  G40015309534004  1016  1\n",
       "2596  G40015309535005  1082  1\n",
       "\n",
       "[2597 rows x 3 columns]"
      ]
     },
     "execution_count": 29,
     "metadata": {},
     "output_type": "execute_result"
    }
   ],
   "source": [
    "pop1 = o_19.groupby(['GISJOIN','POPN'])\n",
    "pop1 = pop1.size()\n",
    "pop1 = pop1.reset_index()\n",
    "pop1"
   ]
  },
  {
   "cell_type": "code",
   "execution_count": 30,
   "id": "282d4ff4",
   "metadata": {},
   "outputs": [
    {
     "data": {
      "text/html": [
       "<div>\n",
       "<style scoped>\n",
       "    .dataframe tbody tr th:only-of-type {\n",
       "        vertical-align: middle;\n",
       "    }\n",
       "\n",
       "    .dataframe tbody tr th {\n",
       "        vertical-align: top;\n",
       "    }\n",
       "\n",
       "    .dataframe thead th {\n",
       "        text-align: right;\n",
       "    }\n",
       "</style>\n",
       "<table border=\"1\" class=\"dataframe\">\n",
       "  <thead>\n",
       "    <tr style=\"text-align: right;\">\n",
       "      <th></th>\n",
       "      <th>GISJOIN</th>\n",
       "      <th>POPN</th>\n",
       "      <th>0</th>\n",
       "    </tr>\n",
       "  </thead>\n",
       "  <tbody>\n",
       "    <tr>\n",
       "      <th>0</th>\n",
       "      <td>G40000103767003</td>\n",
       "      <td>734</td>\n",
       "      <td>1</td>\n",
       "    </tr>\n",
       "    <tr>\n",
       "      <th>1</th>\n",
       "      <td>G40000103769003</td>\n",
       "      <td>1411</td>\n",
       "      <td>1</td>\n",
       "    </tr>\n",
       "    <tr>\n",
       "      <th>2</th>\n",
       "      <td>G40000103770001</td>\n",
       "      <td>1597</td>\n",
       "      <td>1</td>\n",
       "    </tr>\n",
       "    <tr>\n",
       "      <th>3</th>\n",
       "      <td>G40000103770004</td>\n",
       "      <td>1173</td>\n",
       "      <td>1</td>\n",
       "    </tr>\n",
       "    <tr>\n",
       "      <th>4</th>\n",
       "      <td>G40000505876001</td>\n",
       "      <td>1146</td>\n",
       "      <td>1254</td>\n",
       "    </tr>\n",
       "    <tr>\n",
       "      <th>...</th>\n",
       "      <td>...</td>\n",
       "      <td>...</td>\n",
       "      <td>...</td>\n",
       "    </tr>\n",
       "    <tr>\n",
       "      <th>309</th>\n",
       "      <td>G40014700006013</td>\n",
       "      <td>1331</td>\n",
       "      <td>1</td>\n",
       "    </tr>\n",
       "    <tr>\n",
       "      <th>310</th>\n",
       "      <td>G40014700007002</td>\n",
       "      <td>1349</td>\n",
       "      <td>1</td>\n",
       "    </tr>\n",
       "    <tr>\n",
       "      <th>311</th>\n",
       "      <td>G40014700010001</td>\n",
       "      <td>1214</td>\n",
       "      <td>73</td>\n",
       "    </tr>\n",
       "    <tr>\n",
       "      <th>312</th>\n",
       "      <td>G40015309531001</td>\n",
       "      <td>703</td>\n",
       "      <td>1</td>\n",
       "    </tr>\n",
       "    <tr>\n",
       "      <th>313</th>\n",
       "      <td>G40015309532003</td>\n",
       "      <td>1123</td>\n",
       "      <td>2</td>\n",
       "    </tr>\n",
       "  </tbody>\n",
       "</table>\n",
       "<p>314 rows × 3 columns</p>\n",
       "</div>"
      ],
      "text/plain": [
       "             GISJOIN  POPN     0\n",
       "0    G40000103767003   734     1\n",
       "1    G40000103769003  1411     1\n",
       "2    G40000103770001  1597     1\n",
       "3    G40000103770004  1173     1\n",
       "4    G40000505876001  1146  1254\n",
       "..               ...   ...   ...\n",
       "309  G40014700006013  1331     1\n",
       "310  G40014700007002  1349     1\n",
       "311  G40014700010001  1214    73\n",
       "312  G40015309531001   703     1\n",
       "313  G40015309532003  1123     2\n",
       "\n",
       "[314 rows x 3 columns]"
      ]
     },
     "execution_count": 30,
     "metadata": {},
     "output_type": "execute_result"
    }
   ],
   "source": [
    "pop2 = o_20.groupby(['GISJOIN','POPN'])\n",
    "pop2 = pop2.size()\n",
    "pop2 = pop2.reset_index()\n",
    "pop2"
   ]
  },
  {
   "cell_type": "code",
   "execution_count": 31,
   "id": "c8534a2e",
   "metadata": {},
   "outputs": [
    {
     "data": {
      "text/html": [
       "<div>\n",
       "<style scoped>\n",
       "    .dataframe tbody tr th:only-of-type {\n",
       "        vertical-align: middle;\n",
       "    }\n",
       "\n",
       "    .dataframe tbody tr th {\n",
       "        vertical-align: top;\n",
       "    }\n",
       "\n",
       "    .dataframe thead th {\n",
       "        text-align: right;\n",
       "    }\n",
       "</style>\n",
       "<table border=\"1\" class=\"dataframe\">\n",
       "  <thead>\n",
       "    <tr style=\"text-align: right;\">\n",
       "      <th></th>\n",
       "      <th>GISJOIN</th>\n",
       "      <th>POPN</th>\n",
       "      <th>0</th>\n",
       "    </tr>\n",
       "  </thead>\n",
       "  <tbody>\n",
       "    <tr>\n",
       "      <th>0</th>\n",
       "      <td>G40000505876001</td>\n",
       "      <td>1146</td>\n",
       "      <td>1477</td>\n",
       "    </tr>\n",
       "    <tr>\n",
       "      <th>1</th>\n",
       "      <td>G40001703007023</td>\n",
       "      <td>1155</td>\n",
       "      <td>1</td>\n",
       "    </tr>\n",
       "    <tr>\n",
       "      <th>2</th>\n",
       "      <td>G40002903881001</td>\n",
       "      <td>630</td>\n",
       "      <td>203</td>\n",
       "    </tr>\n",
       "    <tr>\n",
       "      <th>3</th>\n",
       "      <td>G40002903882001</td>\n",
       "      <td>1059</td>\n",
       "      <td>242</td>\n",
       "    </tr>\n",
       "    <tr>\n",
       "      <th>4</th>\n",
       "      <td>G40003100020031</td>\n",
       "      <td>2410</td>\n",
       "      <td>61</td>\n",
       "    </tr>\n",
       "    <tr>\n",
       "      <th>...</th>\n",
       "      <td>...</td>\n",
       "      <td>...</td>\n",
       "      <td>...</td>\n",
       "    </tr>\n",
       "    <tr>\n",
       "      <th>115</th>\n",
       "      <td>G40014300076562</td>\n",
       "      <td>1092</td>\n",
       "      <td>2</td>\n",
       "    </tr>\n",
       "    <tr>\n",
       "      <th>116</th>\n",
       "      <td>G40015109542012</td>\n",
       "      <td>686</td>\n",
       "      <td>1</td>\n",
       "    </tr>\n",
       "    <tr>\n",
       "      <th>117</th>\n",
       "      <td>G40015109542013</td>\n",
       "      <td>621</td>\n",
       "      <td>7</td>\n",
       "    </tr>\n",
       "    <tr>\n",
       "      <th>118</th>\n",
       "      <td>G40015109543003</td>\n",
       "      <td>1343</td>\n",
       "      <td>1</td>\n",
       "    </tr>\n",
       "    <tr>\n",
       "      <th>119</th>\n",
       "      <td>G40015309531001</td>\n",
       "      <td>703</td>\n",
       "      <td>1</td>\n",
       "    </tr>\n",
       "  </tbody>\n",
       "</table>\n",
       "<p>120 rows × 3 columns</p>\n",
       "</div>"
      ],
      "text/plain": [
       "             GISJOIN  POPN     0\n",
       "0    G40000505876001  1146  1477\n",
       "1    G40001703007023  1155     1\n",
       "2    G40002903881001   630   203\n",
       "3    G40002903882001  1059   242\n",
       "4    G40003100020031  2410    61\n",
       "..               ...   ...   ...\n",
       "115  G40014300076562  1092     2\n",
       "116  G40015109542012   686     1\n",
       "117  G40015109542013   621     7\n",
       "118  G40015109543003  1343     1\n",
       "119  G40015309531001   703     1\n",
       "\n",
       "[120 rows x 3 columns]"
      ]
     },
     "execution_count": 31,
     "metadata": {},
     "output_type": "execute_result"
    }
   ],
   "source": [
    "pop3 = o_21.groupby(['GISJOIN','POPN'])\n",
    "pop3 = pop3.size()\n",
    "pop3 = pop3.reset_index()\n",
    "pop3"
   ]
  },
  {
   "cell_type": "code",
   "execution_count": 32,
   "id": "0778ad40",
   "metadata": {},
   "outputs": [],
   "source": [
    "o1 = pd.merge(o1,pop1,on=['GISJOIN'],how='left')\n",
    "o2 = pd.merge(o2,pop2,on=['GISJOIN'],how='left')\n",
    "o3 = pd.merge(o3,pop3,on=['GISJOIN'],how='left')"
   ]
  },
  {
   "cell_type": "code",
   "execution_count": 33,
   "id": "2317c16c",
   "metadata": {},
   "outputs": [
    {
     "data": {
      "text/plain": [
       "Index(['GISJOIN', '0_x', 'DAYLIGHT', 'DARK-LIGHTED', 'DARK-NOT LIGHTED',\n",
       "       'DARK-UNKNOWN LIGHTING', 'DUSK', 'DAWN', 'UNK_LIGHT', 'OTHER_LIGHT',\n",
       "       'POPN', '0_y'],\n",
       "      dtype='object')"
      ]
     },
     "execution_count": 33,
     "metadata": {},
     "output_type": "execute_result"
    }
   ],
   "source": [
    "o1.columns"
   ]
  },
  {
   "cell_type": "code",
   "execution_count": 34,
   "id": "374f6261",
   "metadata": {},
   "outputs": [],
   "source": [
    "def drop(data):\n",
    "    data.drop(columns=['0_x','0_y'],inplace=True)\n",
    "    return data\n",
    "    "
   ]
  },
  {
   "cell_type": "code",
   "execution_count": 35,
   "id": "31d8f5f3",
   "metadata": {},
   "outputs": [],
   "source": [
    "o1 = drop(o1)"
   ]
  },
  {
   "cell_type": "code",
   "execution_count": 36,
   "id": "29fb2e84",
   "metadata": {},
   "outputs": [],
   "source": [
    "o2 = drop(o2)\n",
    "o3 = drop(o3)"
   ]
  },
  {
   "cell_type": "code",
   "execution_count": 37,
   "id": "07448429",
   "metadata": {},
   "outputs": [
    {
     "data": {
      "text/plain": [
       "((2597, 10), (314, 10), (120, 10))"
      ]
     },
     "execution_count": 37,
     "metadata": {},
     "output_type": "execute_result"
    }
   ],
   "source": [
    "o1.shape, o2.shape, o3.shape"
   ]
  },
  {
   "cell_type": "code",
   "execution_count": 38,
   "id": "fe54aeb7",
   "metadata": {},
   "outputs": [
    {
     "data": {
      "text/plain": [
       "Index(['GISJOIN', 'DAYLIGHT', 'DARK-LIGHTED', 'DARK-NOT LIGHTED',\n",
       "       'DARK-UNKNOWN LIGHTING', 'DUSK', 'DAWN', 'UNK_LIGHT', 'OTHER_LIGHT',\n",
       "       'POPN'],\n",
       "      dtype='object')"
      ]
     },
     "execution_count": 38,
     "metadata": {},
     "output_type": "execute_result"
    }
   ],
   "source": [
    "o2.columns"
   ]
  },
  {
   "cell_type": "code",
   "execution_count": 39,
   "id": "a5daaeab",
   "metadata": {},
   "outputs": [
    {
     "data": {
      "text/html": [
       "<div>\n",
       "<style scoped>\n",
       "    .dataframe tbody tr th:only-of-type {\n",
       "        vertical-align: middle;\n",
       "    }\n",
       "\n",
       "    .dataframe tbody tr th {\n",
       "        vertical-align: top;\n",
       "    }\n",
       "\n",
       "    .dataframe thead th {\n",
       "        text-align: right;\n",
       "    }\n",
       "</style>\n",
       "<table border=\"1\" class=\"dataframe\">\n",
       "  <thead>\n",
       "    <tr style=\"text-align: right;\">\n",
       "      <th></th>\n",
       "      <th>GISJOIN</th>\n",
       "      <th>DAYLIGHT</th>\n",
       "      <th>DARK-LIGHTED</th>\n",
       "      <th>DARK-NOT LIGHTED</th>\n",
       "      <th>DARK-UNKNOWN LIGHTING</th>\n",
       "      <th>DUSK</th>\n",
       "      <th>DAWN</th>\n",
       "      <th>UNK_LIGHT</th>\n",
       "      <th>OTHER_LIGHT</th>\n",
       "      <th>POPN</th>\n",
       "    </tr>\n",
       "  </thead>\n",
       "  <tbody>\n",
       "    <tr>\n",
       "      <th>0</th>\n",
       "      <td>G40000505876001</td>\n",
       "      <td>68.449560</td>\n",
       "      <td>15.978334</td>\n",
       "      <td>12.389980</td>\n",
       "      <td>0.203114</td>\n",
       "      <td>1.624915</td>\n",
       "      <td>1.083277</td>\n",
       "      <td>0.135410</td>\n",
       "      <td>0.13541</td>\n",
       "      <td>1146</td>\n",
       "    </tr>\n",
       "    <tr>\n",
       "      <th>1</th>\n",
       "      <td>G40001703007023</td>\n",
       "      <td>100.000000</td>\n",
       "      <td>0.000000</td>\n",
       "      <td>0.000000</td>\n",
       "      <td>0.000000</td>\n",
       "      <td>0.000000</td>\n",
       "      <td>0.000000</td>\n",
       "      <td>0.000000</td>\n",
       "      <td>0.00000</td>\n",
       "      <td>1155</td>\n",
       "    </tr>\n",
       "    <tr>\n",
       "      <th>2</th>\n",
       "      <td>G40002903881001</td>\n",
       "      <td>67.487685</td>\n",
       "      <td>6.896552</td>\n",
       "      <td>20.689655</td>\n",
       "      <td>0.492611</td>\n",
       "      <td>3.940887</td>\n",
       "      <td>0.492611</td>\n",
       "      <td>0.000000</td>\n",
       "      <td>0.00000</td>\n",
       "      <td>630</td>\n",
       "    </tr>\n",
       "    <tr>\n",
       "      <th>3</th>\n",
       "      <td>G40002903882001</td>\n",
       "      <td>58.677686</td>\n",
       "      <td>2.479339</td>\n",
       "      <td>33.884298</td>\n",
       "      <td>0.000000</td>\n",
       "      <td>1.652893</td>\n",
       "      <td>2.479339</td>\n",
       "      <td>0.826446</td>\n",
       "      <td>0.00000</td>\n",
       "      <td>1059</td>\n",
       "    </tr>\n",
       "    <tr>\n",
       "      <th>4</th>\n",
       "      <td>G40003100020031</td>\n",
       "      <td>59.016393</td>\n",
       "      <td>0.000000</td>\n",
       "      <td>36.065574</td>\n",
       "      <td>0.000000</td>\n",
       "      <td>1.639344</td>\n",
       "      <td>3.278689</td>\n",
       "      <td>0.000000</td>\n",
       "      <td>0.00000</td>\n",
       "      <td>2410</td>\n",
       "    </tr>\n",
       "    <tr>\n",
       "      <th>...</th>\n",
       "      <td>...</td>\n",
       "      <td>...</td>\n",
       "      <td>...</td>\n",
       "      <td>...</td>\n",
       "      <td>...</td>\n",
       "      <td>...</td>\n",
       "      <td>...</td>\n",
       "      <td>...</td>\n",
       "      <td>...</td>\n",
       "      <td>...</td>\n",
       "    </tr>\n",
       "    <tr>\n",
       "      <th>115</th>\n",
       "      <td>G40014300076562</td>\n",
       "      <td>100.000000</td>\n",
       "      <td>0.000000</td>\n",
       "      <td>0.000000</td>\n",
       "      <td>0.000000</td>\n",
       "      <td>0.000000</td>\n",
       "      <td>0.000000</td>\n",
       "      <td>0.000000</td>\n",
       "      <td>0.00000</td>\n",
       "      <td>1092</td>\n",
       "    </tr>\n",
       "    <tr>\n",
       "      <th>116</th>\n",
       "      <td>G40015109542012</td>\n",
       "      <td>100.000000</td>\n",
       "      <td>0.000000</td>\n",
       "      <td>0.000000</td>\n",
       "      <td>0.000000</td>\n",
       "      <td>0.000000</td>\n",
       "      <td>0.000000</td>\n",
       "      <td>0.000000</td>\n",
       "      <td>0.00000</td>\n",
       "      <td>686</td>\n",
       "    </tr>\n",
       "    <tr>\n",
       "      <th>117</th>\n",
       "      <td>G40015109542013</td>\n",
       "      <td>57.142857</td>\n",
       "      <td>0.000000</td>\n",
       "      <td>0.000000</td>\n",
       "      <td>0.000000</td>\n",
       "      <td>14.285714</td>\n",
       "      <td>28.571429</td>\n",
       "      <td>0.000000</td>\n",
       "      <td>0.00000</td>\n",
       "      <td>621</td>\n",
       "    </tr>\n",
       "    <tr>\n",
       "      <th>118</th>\n",
       "      <td>G40015109543003</td>\n",
       "      <td>100.000000</td>\n",
       "      <td>0.000000</td>\n",
       "      <td>0.000000</td>\n",
       "      <td>0.000000</td>\n",
       "      <td>0.000000</td>\n",
       "      <td>0.000000</td>\n",
       "      <td>0.000000</td>\n",
       "      <td>0.00000</td>\n",
       "      <td>1343</td>\n",
       "    </tr>\n",
       "    <tr>\n",
       "      <th>119</th>\n",
       "      <td>G40015309531001</td>\n",
       "      <td>100.000000</td>\n",
       "      <td>0.000000</td>\n",
       "      <td>0.000000</td>\n",
       "      <td>0.000000</td>\n",
       "      <td>0.000000</td>\n",
       "      <td>0.000000</td>\n",
       "      <td>0.000000</td>\n",
       "      <td>0.00000</td>\n",
       "      <td>703</td>\n",
       "    </tr>\n",
       "  </tbody>\n",
       "</table>\n",
       "<p>120 rows × 10 columns</p>\n",
       "</div>"
      ],
      "text/plain": [
       "             GISJOIN    DAYLIGHT  DARK-LIGHTED  DARK-NOT LIGHTED  \\\n",
       "0    G40000505876001   68.449560     15.978334         12.389980   \n",
       "1    G40001703007023  100.000000      0.000000          0.000000   \n",
       "2    G40002903881001   67.487685      6.896552         20.689655   \n",
       "3    G40002903882001   58.677686      2.479339         33.884298   \n",
       "4    G40003100020031   59.016393      0.000000         36.065574   \n",
       "..               ...         ...           ...               ...   \n",
       "115  G40014300076562  100.000000      0.000000          0.000000   \n",
       "116  G40015109542012  100.000000      0.000000          0.000000   \n",
       "117  G40015109542013   57.142857      0.000000          0.000000   \n",
       "118  G40015109543003  100.000000      0.000000          0.000000   \n",
       "119  G40015309531001  100.000000      0.000000          0.000000   \n",
       "\n",
       "     DARK-UNKNOWN LIGHTING       DUSK       DAWN  UNK_LIGHT  OTHER_LIGHT  POPN  \n",
       "0                 0.203114   1.624915   1.083277   0.135410      0.13541  1146  \n",
       "1                 0.000000   0.000000   0.000000   0.000000      0.00000  1155  \n",
       "2                 0.492611   3.940887   0.492611   0.000000      0.00000   630  \n",
       "3                 0.000000   1.652893   2.479339   0.826446      0.00000  1059  \n",
       "4                 0.000000   1.639344   3.278689   0.000000      0.00000  2410  \n",
       "..                     ...        ...        ...        ...          ...   ...  \n",
       "115               0.000000   0.000000   0.000000   0.000000      0.00000  1092  \n",
       "116               0.000000   0.000000   0.000000   0.000000      0.00000   686  \n",
       "117               0.000000  14.285714  28.571429   0.000000      0.00000   621  \n",
       "118               0.000000   0.000000   0.000000   0.000000      0.00000  1343  \n",
       "119               0.000000   0.000000   0.000000   0.000000      0.00000   703  \n",
       "\n",
       "[120 rows x 10 columns]"
      ]
     },
     "execution_count": 39,
     "metadata": {},
     "output_type": "execute_result"
    }
   ],
   "source": [
    "o3"
   ]
  },
  {
   "cell_type": "code",
   "execution_count": 40,
   "id": "97c0740e",
   "metadata": {
    "scrolled": true
   },
   "outputs": [
    {
     "data": {
      "text/plain": [
       "Index(['Crash_ID', 'County_FIP', 'COUNTY', 'CITY', 'TIME', 'LIGHTING_CAT',\n",
       "       'WEATHER_CAT', 'YEAR', 'ROAD_CLASS', 'INTOXICATION', 'LATITUDE',\n",
       "       'LONGITUDE', 'INATTENTION', 'SPEEDING', 'TEEN_DRIVE', 'OLDER_DRIV',\n",
       "       'INJURY_COUNT', 'INJURY_OUTCOME', 'BUFF_DIST', 'GISJOIN', 'COUNTYFP',\n",
       "       'Shape_Leng', 'GISJOIN.1', 'COUNTY.1', 'POPN'],\n",
       "      dtype='object')"
      ]
     },
     "execution_count": 40,
     "metadata": {},
     "output_type": "execute_result"
    }
   ],
   "source": [
    "okla.columns"
   ]
  },
  {
   "cell_type": "code",
   "execution_count": 41,
   "id": "54091eff",
   "metadata": {},
   "outputs": [
    {
     "data": {
      "text/plain": [
       "array([11,  2,  3, 12,  0,  5,  4,  7,  6,  8], dtype=int64)"
      ]
     },
     "execution_count": 41,
     "metadata": {},
     "output_type": "execute_result"
    }
   ],
   "source": [
    "okla['WEATHER_CAT'].unique()"
   ]
  },
  {
   "cell_type": "code",
   "execution_count": 42,
   "id": "6f80ad6f",
   "metadata": {},
   "outputs": [
    {
     "name": "stderr",
     "output_type": "stream",
     "text": [
      "C:\\Users\\karan\\AppData\\Local\\Temp\\ipykernel_21608\\433814867.py:16: SettingWithCopyWarning: \n",
      "A value is trying to be set on a copy of a slice from a DataFrame.\n",
      "Try using .loc[row_indexer,col_indexer] = value instead\n",
      "\n",
      "See the caveats in the documentation: https://pandas.pydata.org/pandas-docs/stable/user_guide/indexing.html#returning-a-view-versus-a-copy\n",
      "  df['weather_DESC'] = df['WEATHER_CAT'].map(mapping).astype(str)\n",
      "C:\\Users\\karan\\AppData\\Local\\Temp\\ipykernel_21608\\433814867.py:16: SettingWithCopyWarning: \n",
      "A value is trying to be set on a copy of a slice from a DataFrame.\n",
      "Try using .loc[row_indexer,col_indexer] = value instead\n",
      "\n",
      "See the caveats in the documentation: https://pandas.pydata.org/pandas-docs/stable/user_guide/indexing.html#returning-a-view-versus-a-copy\n",
      "  df['weather_DESC'] = df['WEATHER_CAT'].map(mapping).astype(str)\n",
      "C:\\Users\\karan\\AppData\\Local\\Temp\\ipykernel_21608\\433814867.py:16: SettingWithCopyWarning: \n",
      "A value is trying to be set on a copy of a slice from a DataFrame.\n",
      "Try using .loc[row_indexer,col_indexer] = value instead\n",
      "\n",
      "See the caveats in the documentation: https://pandas.pydata.org/pandas-docs/stable/user_guide/indexing.html#returning-a-view-versus-a-copy\n",
      "  df['weather_DESC'] = df['WEATHER_CAT'].map(mapping).astype(str)\n"
     ]
    }
   ],
   "source": [
    "weather_mapping = {\n",
    "    11: 'CLEAR',\n",
    "    12: 'CLOUDY',\n",
    "    5: 'FOG',\n",
    "    2: 'RAIN',\n",
    "    3: 'SLEET/HAIL',\n",
    "    8: 'OTHER_WEATHER',\n",
    "    0: 'UNK_Weather',\n",
    "    4: 'SNOW_Weather',\n",
    "    6: 'BLOWING SAND/SNOW',\n",
    "    7: 'SEVERE CROSSWINDS'\n",
    "}\n",
    "\n",
    "def process_road_type_data(df, mapping):\n",
    "    # Map the road type codes to descriptive names\n",
    "    df['weather_DESC'] = df['WEATHER_CAT'].map(mapping).astype(str)\n",
    "    \n",
    "    all_categories = list(mapping.values())\n",
    "    \n",
    "    # Group by COUNTY and ROAD_TYPE_DESC, then count occurrences\n",
    "    grouped = df.groupby(['GISJOIN', 'weather_DESC']).size().unstack(fill_value=0)\n",
    "    \n",
    "    grouped = grouped.reindex(columns=all_categories, fill_value=0)\n",
    "    \n",
    "    # Calculate total counts by county to normalize the data\n",
    "    total_counts_by_county_road_type = grouped.sum(axis=1)\n",
    "    \n",
    "    # Calculate percentages\n",
    "    road_type_percentages_df = (grouped.div(total_counts_by_county_road_type, axis=0) * 100).fillna(0)\n",
    "    road_type_percentages_df = road_type_percentages_df.reset_index()\n",
    "    \n",
    "    return road_type_percentages_df\n",
    "\n",
    "# Apply the function to each yearly DataFrame\n",
    "w_type_percentages_df_2019 = process_road_type_data(o_19, weather_mapping)\n",
    "w_type_percentages_df_2020 = process_road_type_data(o_20, weather_mapping)\n",
    "w_type_percentages_df_2021 = process_road_type_data(o_21, weather_mapping)\n"
   ]
  },
  {
   "cell_type": "code",
   "execution_count": 43,
   "id": "92985b95",
   "metadata": {},
   "outputs": [
    {
     "data": {
      "text/html": [
       "<div>\n",
       "<style scoped>\n",
       "    .dataframe tbody tr th:only-of-type {\n",
       "        vertical-align: middle;\n",
       "    }\n",
       "\n",
       "    .dataframe tbody tr th {\n",
       "        vertical-align: top;\n",
       "    }\n",
       "\n",
       "    .dataframe thead th {\n",
       "        text-align: right;\n",
       "    }\n",
       "</style>\n",
       "<table border=\"1\" class=\"dataframe\">\n",
       "  <thead>\n",
       "    <tr style=\"text-align: right;\">\n",
       "      <th>weather_DESC</th>\n",
       "      <th>GISJOIN</th>\n",
       "      <th>CLEAR</th>\n",
       "      <th>CLOUDY</th>\n",
       "      <th>FOG</th>\n",
       "      <th>RAIN</th>\n",
       "      <th>SLEET/HAIL</th>\n",
       "      <th>OTHER_WEATHER</th>\n",
       "      <th>UNK_Weather</th>\n",
       "      <th>SNOW_Weather</th>\n",
       "      <th>BLOWING SAND/SNOW</th>\n",
       "      <th>SEVERE CROSSWINDS</th>\n",
       "    </tr>\n",
       "  </thead>\n",
       "  <tbody>\n",
       "    <tr>\n",
       "      <th>0</th>\n",
       "      <td>G40000103766001</td>\n",
       "      <td>100.000000</td>\n",
       "      <td>0.000000</td>\n",
       "      <td>0.0</td>\n",
       "      <td>0.0</td>\n",
       "      <td>0.0</td>\n",
       "      <td>0.0</td>\n",
       "      <td>0.0</td>\n",
       "      <td>0.000000</td>\n",
       "      <td>0.0</td>\n",
       "      <td>0.0</td>\n",
       "    </tr>\n",
       "    <tr>\n",
       "      <th>1</th>\n",
       "      <td>G40000103767001</td>\n",
       "      <td>50.000000</td>\n",
       "      <td>0.000000</td>\n",
       "      <td>0.0</td>\n",
       "      <td>50.0</td>\n",
       "      <td>0.0</td>\n",
       "      <td>0.0</td>\n",
       "      <td>0.0</td>\n",
       "      <td>0.000000</td>\n",
       "      <td>0.0</td>\n",
       "      <td>0.0</td>\n",
       "    </tr>\n",
       "    <tr>\n",
       "      <th>2</th>\n",
       "      <td>G40000103767002</td>\n",
       "      <td>66.666667</td>\n",
       "      <td>33.333333</td>\n",
       "      <td>0.0</td>\n",
       "      <td>0.0</td>\n",
       "      <td>0.0</td>\n",
       "      <td>0.0</td>\n",
       "      <td>0.0</td>\n",
       "      <td>0.000000</td>\n",
       "      <td>0.0</td>\n",
       "      <td>0.0</td>\n",
       "    </tr>\n",
       "    <tr>\n",
       "      <th>3</th>\n",
       "      <td>G40000103767003</td>\n",
       "      <td>0.000000</td>\n",
       "      <td>100.000000</td>\n",
       "      <td>0.0</td>\n",
       "      <td>0.0</td>\n",
       "      <td>0.0</td>\n",
       "      <td>0.0</td>\n",
       "      <td>0.0</td>\n",
       "      <td>0.000000</td>\n",
       "      <td>0.0</td>\n",
       "      <td>0.0</td>\n",
       "    </tr>\n",
       "    <tr>\n",
       "      <th>4</th>\n",
       "      <td>G40000103767004</td>\n",
       "      <td>100.000000</td>\n",
       "      <td>0.000000</td>\n",
       "      <td>0.0</td>\n",
       "      <td>0.0</td>\n",
       "      <td>0.0</td>\n",
       "      <td>0.0</td>\n",
       "      <td>0.0</td>\n",
       "      <td>0.000000</td>\n",
       "      <td>0.0</td>\n",
       "      <td>0.0</td>\n",
       "    </tr>\n",
       "    <tr>\n",
       "      <th>...</th>\n",
       "      <td>...</td>\n",
       "      <td>...</td>\n",
       "      <td>...</td>\n",
       "      <td>...</td>\n",
       "      <td>...</td>\n",
       "      <td>...</td>\n",
       "      <td>...</td>\n",
       "      <td>...</td>\n",
       "      <td>...</td>\n",
       "      <td>...</td>\n",
       "      <td>...</td>\n",
       "    </tr>\n",
       "    <tr>\n",
       "      <th>2592</th>\n",
       "      <td>G40015309532003</td>\n",
       "      <td>66.666667</td>\n",
       "      <td>0.000000</td>\n",
       "      <td>0.0</td>\n",
       "      <td>0.0</td>\n",
       "      <td>0.0</td>\n",
       "      <td>0.0</td>\n",
       "      <td>0.0</td>\n",
       "      <td>33.333333</td>\n",
       "      <td>0.0</td>\n",
       "      <td>0.0</td>\n",
       "    </tr>\n",
       "    <tr>\n",
       "      <th>2593</th>\n",
       "      <td>G40015309533002</td>\n",
       "      <td>100.000000</td>\n",
       "      <td>0.000000</td>\n",
       "      <td>0.0</td>\n",
       "      <td>0.0</td>\n",
       "      <td>0.0</td>\n",
       "      <td>0.0</td>\n",
       "      <td>0.0</td>\n",
       "      <td>0.000000</td>\n",
       "      <td>0.0</td>\n",
       "      <td>0.0</td>\n",
       "    </tr>\n",
       "    <tr>\n",
       "      <th>2594</th>\n",
       "      <td>G40015309534002</td>\n",
       "      <td>100.000000</td>\n",
       "      <td>0.000000</td>\n",
       "      <td>0.0</td>\n",
       "      <td>0.0</td>\n",
       "      <td>0.0</td>\n",
       "      <td>0.0</td>\n",
       "      <td>0.0</td>\n",
       "      <td>0.000000</td>\n",
       "      <td>0.0</td>\n",
       "      <td>0.0</td>\n",
       "    </tr>\n",
       "    <tr>\n",
       "      <th>2595</th>\n",
       "      <td>G40015309534004</td>\n",
       "      <td>100.000000</td>\n",
       "      <td>0.000000</td>\n",
       "      <td>0.0</td>\n",
       "      <td>0.0</td>\n",
       "      <td>0.0</td>\n",
       "      <td>0.0</td>\n",
       "      <td>0.0</td>\n",
       "      <td>0.000000</td>\n",
       "      <td>0.0</td>\n",
       "      <td>0.0</td>\n",
       "    </tr>\n",
       "    <tr>\n",
       "      <th>2596</th>\n",
       "      <td>G40015309535005</td>\n",
       "      <td>100.000000</td>\n",
       "      <td>0.000000</td>\n",
       "      <td>0.0</td>\n",
       "      <td>0.0</td>\n",
       "      <td>0.0</td>\n",
       "      <td>0.0</td>\n",
       "      <td>0.0</td>\n",
       "      <td>0.000000</td>\n",
       "      <td>0.0</td>\n",
       "      <td>0.0</td>\n",
       "    </tr>\n",
       "  </tbody>\n",
       "</table>\n",
       "<p>2597 rows × 11 columns</p>\n",
       "</div>"
      ],
      "text/plain": [
       "weather_DESC          GISJOIN       CLEAR      CLOUDY  FOG  RAIN  SLEET/HAIL  \\\n",
       "0             G40000103766001  100.000000    0.000000  0.0   0.0         0.0   \n",
       "1             G40000103767001   50.000000    0.000000  0.0  50.0         0.0   \n",
       "2             G40000103767002   66.666667   33.333333  0.0   0.0         0.0   \n",
       "3             G40000103767003    0.000000  100.000000  0.0   0.0         0.0   \n",
       "4             G40000103767004  100.000000    0.000000  0.0   0.0         0.0   \n",
       "...                       ...         ...         ...  ...   ...         ...   \n",
       "2592          G40015309532003   66.666667    0.000000  0.0   0.0         0.0   \n",
       "2593          G40015309533002  100.000000    0.000000  0.0   0.0         0.0   \n",
       "2594          G40015309534002  100.000000    0.000000  0.0   0.0         0.0   \n",
       "2595          G40015309534004  100.000000    0.000000  0.0   0.0         0.0   \n",
       "2596          G40015309535005  100.000000    0.000000  0.0   0.0         0.0   \n",
       "\n",
       "weather_DESC  OTHER_WEATHER  UNK_Weather  SNOW_Weather  BLOWING SAND/SNOW  \\\n",
       "0                       0.0          0.0      0.000000                0.0   \n",
       "1                       0.0          0.0      0.000000                0.0   \n",
       "2                       0.0          0.0      0.000000                0.0   \n",
       "3                       0.0          0.0      0.000000                0.0   \n",
       "4                       0.0          0.0      0.000000                0.0   \n",
       "...                     ...          ...           ...                ...   \n",
       "2592                    0.0          0.0     33.333333                0.0   \n",
       "2593                    0.0          0.0      0.000000                0.0   \n",
       "2594                    0.0          0.0      0.000000                0.0   \n",
       "2595                    0.0          0.0      0.000000                0.0   \n",
       "2596                    0.0          0.0      0.000000                0.0   \n",
       "\n",
       "weather_DESC  SEVERE CROSSWINDS  \n",
       "0                           0.0  \n",
       "1                           0.0  \n",
       "2                           0.0  \n",
       "3                           0.0  \n",
       "4                           0.0  \n",
       "...                         ...  \n",
       "2592                        0.0  \n",
       "2593                        0.0  \n",
       "2594                        0.0  \n",
       "2595                        0.0  \n",
       "2596                        0.0  \n",
       "\n",
       "[2597 rows x 11 columns]"
      ]
     },
     "execution_count": 43,
     "metadata": {},
     "output_type": "execute_result"
    }
   ],
   "source": [
    "w_type_percentages_df_2019"
   ]
  },
  {
   "cell_type": "code",
   "execution_count": 44,
   "id": "f7c4f1f9",
   "metadata": {},
   "outputs": [],
   "source": [
    "o1 = pd.merge(o1,w_type_percentages_df_2019,on=['GISJOIN'],how='left')\n",
    "o2 = pd.merge(o2,w_type_percentages_df_2020,on=['GISJOIN'],how='left')\n",
    "o3 = pd.merge(o3,w_type_percentages_df_2021,on=['GISJOIN'],how='left')"
   ]
  },
  {
   "cell_type": "code",
   "execution_count": 45,
   "id": "4d8a17f4",
   "metadata": {},
   "outputs": [
    {
     "data": {
      "text/plain": [
       "((2597, 20), (314, 20), (120, 20))"
      ]
     },
     "execution_count": 45,
     "metadata": {},
     "output_type": "execute_result"
    }
   ],
   "source": [
    "o1.shape, o2.shape, o3.shape"
   ]
  },
  {
   "cell_type": "code",
   "execution_count": 46,
   "id": "1180d39c",
   "metadata": {},
   "outputs": [
    {
     "data": {
      "text/plain": [
       "Index(['Crash_ID', 'County_FIP', 'COUNTY', 'CITY', 'TIME', 'LIGHTING_CAT',\n",
       "       'WEATHER_CAT', 'YEAR', 'ROAD_CLASS', 'INTOXICATION', 'LATITUDE',\n",
       "       'LONGITUDE', 'INATTENTION', 'SPEEDING', 'TEEN_DRIVE', 'OLDER_DRIV',\n",
       "       'INJURY_COUNT', 'INJURY_OUTCOME', 'BUFF_DIST', 'GISJOIN', 'COUNTYFP',\n",
       "       'Shape_Leng', 'GISJOIN.1', 'COUNTY.1', 'POPN'],\n",
       "      dtype='object')"
      ]
     },
     "execution_count": 46,
     "metadata": {},
     "output_type": "execute_result"
    }
   ],
   "source": [
    "okla.columns"
   ]
  },
  {
   "cell_type": "code",
   "execution_count": 47,
   "id": "5b2b5a02",
   "metadata": {},
   "outputs": [
    {
     "data": {
      "text/plain": [
       "array([2, 5, 1, 4, 7], dtype=int64)"
      ]
     },
     "execution_count": 47,
     "metadata": {},
     "output_type": "execute_result"
    }
   ],
   "source": [
    "okla['ROAD_CLASS'].unique()"
   ]
  },
  {
   "cell_type": "code",
   "execution_count": 48,
   "id": "63d2b4e1",
   "metadata": {},
   "outputs": [
    {
     "name": "stderr",
     "output_type": "stream",
     "text": [
      "C:\\Users\\karan\\AppData\\Local\\Temp\\ipykernel_21608\\1972534223.py:15: SettingWithCopyWarning: \n",
      "A value is trying to be set on a copy of a slice from a DataFrame.\n",
      "Try using .loc[row_indexer,col_indexer] = value instead\n",
      "\n",
      "See the caveats in the documentation: https://pandas.pydata.org/pandas-docs/stable/user_guide/indexing.html#returning-a-view-versus-a-copy\n",
      "  df['ROAD_TYPE_DESC'] = df['ROAD_CLASS'].map(mapping).astype(str)\n",
      "C:\\Users\\karan\\AppData\\Local\\Temp\\ipykernel_21608\\1972534223.py:15: SettingWithCopyWarning: \n",
      "A value is trying to be set on a copy of a slice from a DataFrame.\n",
      "Try using .loc[row_indexer,col_indexer] = value instead\n",
      "\n",
      "See the caveats in the documentation: https://pandas.pydata.org/pandas-docs/stable/user_guide/indexing.html#returning-a-view-versus-a-copy\n",
      "  df['ROAD_TYPE_DESC'] = df['ROAD_CLASS'].map(mapping).astype(str)\n",
      "C:\\Users\\karan\\AppData\\Local\\Temp\\ipykernel_21608\\1972534223.py:15: SettingWithCopyWarning: \n",
      "A value is trying to be set on a copy of a slice from a DataFrame.\n",
      "Try using .loc[row_indexer,col_indexer] = value instead\n",
      "\n",
      "See the caveats in the documentation: https://pandas.pydata.org/pandas-docs/stable/user_guide/indexing.html#returning-a-view-versus-a-copy\n",
      "  df['ROAD_TYPE_DESC'] = df['ROAD_CLASS'].map(mapping).astype(str)\n"
     ]
    }
   ],
   "source": [
    "roadway_types = {\n",
    "    1: 'INTERSTATE',\n",
    "    2: 'US & STATE HIGHWAY',\n",
    "    3: 'FARM TO MARKET',\n",
    "    4: 'COUNTY ROAD',\n",
    "    5: 'CITY STREET',\n",
    "    6: 'TOLLWAY',\n",
    "    7: 'OTHER ROADS',\n",
    "    8: 'TOLL BRIDGES'\n",
    "}\n",
    "\n",
    "\n",
    "def process_road_type_data(df, mapping):\n",
    "    # Map the road type codes to descriptive names\n",
    "    df['ROAD_TYPE_DESC'] = df['ROAD_CLASS'].map(mapping).astype(str)\n",
    "    \n",
    "    all_categories = list(mapping.values())\n",
    "    \n",
    "    # Group by COUNTY and ROAD_TYPE_DESC, then count occurrences\n",
    "    grouped = df.groupby(['GISJOIN', 'ROAD_TYPE_DESC']).size().unstack(fill_value=0)\n",
    "    \n",
    "    grouped = grouped.reindex(columns=all_categories, fill_value=0)\n",
    "    \n",
    "    # Calculate total counts by county to normalize the data\n",
    "    total_counts_by_county_road_type = grouped.sum(axis=1)\n",
    "    \n",
    "    # Calculate percentages\n",
    "    road_type_percentages_df = (grouped.div(total_counts_by_county_road_type, axis=0) * 100).fillna(0)\n",
    "    road_type_percentages_df = road_type_percentages_df.reset_index()\n",
    "    \n",
    "    return road_type_percentages_df\n",
    "\n",
    "# Apply the function to each yearly DataFrame\n",
    "road_type_percentages_df_2019 = process_road_type_data(o_19, roadway_types)\n",
    "road_type_percentages_df_2020 = process_road_type_data(o_20, roadway_types)\n",
    "road_type_percentages_df_2021 = process_road_type_data(o_21, roadway_types)\n"
   ]
  },
  {
   "cell_type": "code",
   "execution_count": 49,
   "id": "06bc7555",
   "metadata": {},
   "outputs": [
    {
     "data": {
      "text/html": [
       "<div>\n",
       "<style scoped>\n",
       "    .dataframe tbody tr th:only-of-type {\n",
       "        vertical-align: middle;\n",
       "    }\n",
       "\n",
       "    .dataframe tbody tr th {\n",
       "        vertical-align: top;\n",
       "    }\n",
       "\n",
       "    .dataframe thead th {\n",
       "        text-align: right;\n",
       "    }\n",
       "</style>\n",
       "<table border=\"1\" class=\"dataframe\">\n",
       "  <thead>\n",
       "    <tr style=\"text-align: right;\">\n",
       "      <th>ROAD_TYPE_DESC</th>\n",
       "      <th>GISJOIN</th>\n",
       "      <th>INTERSTATE</th>\n",
       "      <th>US &amp; STATE HIGHWAY</th>\n",
       "      <th>FARM TO MARKET</th>\n",
       "      <th>COUNTY ROAD</th>\n",
       "      <th>CITY STREET</th>\n",
       "      <th>TOLLWAY</th>\n",
       "      <th>OTHER ROADS</th>\n",
       "      <th>TOLL BRIDGES</th>\n",
       "    </tr>\n",
       "  </thead>\n",
       "  <tbody>\n",
       "    <tr>\n",
       "      <th>0</th>\n",
       "      <td>G40000103766001</td>\n",
       "      <td>0.0</td>\n",
       "      <td>50.000000</td>\n",
       "      <td>0.0</td>\n",
       "      <td>50.000000</td>\n",
       "      <td>0.0</td>\n",
       "      <td>0.0</td>\n",
       "      <td>0.0</td>\n",
       "      <td>0.0</td>\n",
       "    </tr>\n",
       "    <tr>\n",
       "      <th>1</th>\n",
       "      <td>G40000103767001</td>\n",
       "      <td>0.0</td>\n",
       "      <td>50.000000</td>\n",
       "      <td>0.0</td>\n",
       "      <td>50.000000</td>\n",
       "      <td>0.0</td>\n",
       "      <td>0.0</td>\n",
       "      <td>0.0</td>\n",
       "      <td>0.0</td>\n",
       "    </tr>\n",
       "    <tr>\n",
       "      <th>2</th>\n",
       "      <td>G40000103767002</td>\n",
       "      <td>0.0</td>\n",
       "      <td>33.333333</td>\n",
       "      <td>0.0</td>\n",
       "      <td>66.666667</td>\n",
       "      <td>0.0</td>\n",
       "      <td>0.0</td>\n",
       "      <td>0.0</td>\n",
       "      <td>0.0</td>\n",
       "    </tr>\n",
       "    <tr>\n",
       "      <th>3</th>\n",
       "      <td>G40000103767003</td>\n",
       "      <td>0.0</td>\n",
       "      <td>100.000000</td>\n",
       "      <td>0.0</td>\n",
       "      <td>0.000000</td>\n",
       "      <td>0.0</td>\n",
       "      <td>0.0</td>\n",
       "      <td>0.0</td>\n",
       "      <td>0.0</td>\n",
       "    </tr>\n",
       "    <tr>\n",
       "      <th>4</th>\n",
       "      <td>G40000103767004</td>\n",
       "      <td>0.0</td>\n",
       "      <td>50.000000</td>\n",
       "      <td>0.0</td>\n",
       "      <td>50.000000</td>\n",
       "      <td>0.0</td>\n",
       "      <td>0.0</td>\n",
       "      <td>0.0</td>\n",
       "      <td>0.0</td>\n",
       "    </tr>\n",
       "    <tr>\n",
       "      <th>...</th>\n",
       "      <td>...</td>\n",
       "      <td>...</td>\n",
       "      <td>...</td>\n",
       "      <td>...</td>\n",
       "      <td>...</td>\n",
       "      <td>...</td>\n",
       "      <td>...</td>\n",
       "      <td>...</td>\n",
       "      <td>...</td>\n",
       "    </tr>\n",
       "    <tr>\n",
       "      <th>2592</th>\n",
       "      <td>G40015309532003</td>\n",
       "      <td>0.0</td>\n",
       "      <td>77.777778</td>\n",
       "      <td>0.0</td>\n",
       "      <td>22.222222</td>\n",
       "      <td>0.0</td>\n",
       "      <td>0.0</td>\n",
       "      <td>0.0</td>\n",
       "      <td>0.0</td>\n",
       "    </tr>\n",
       "    <tr>\n",
       "      <th>2593</th>\n",
       "      <td>G40015309533002</td>\n",
       "      <td>0.0</td>\n",
       "      <td>100.000000</td>\n",
       "      <td>0.0</td>\n",
       "      <td>0.000000</td>\n",
       "      <td>0.0</td>\n",
       "      <td>0.0</td>\n",
       "      <td>0.0</td>\n",
       "      <td>0.0</td>\n",
       "    </tr>\n",
       "    <tr>\n",
       "      <th>2594</th>\n",
       "      <td>G40015309534002</td>\n",
       "      <td>0.0</td>\n",
       "      <td>0.000000</td>\n",
       "      <td>0.0</td>\n",
       "      <td>0.000000</td>\n",
       "      <td>100.0</td>\n",
       "      <td>0.0</td>\n",
       "      <td>0.0</td>\n",
       "      <td>0.0</td>\n",
       "    </tr>\n",
       "    <tr>\n",
       "      <th>2595</th>\n",
       "      <td>G40015309534004</td>\n",
       "      <td>0.0</td>\n",
       "      <td>100.000000</td>\n",
       "      <td>0.0</td>\n",
       "      <td>0.000000</td>\n",
       "      <td>0.0</td>\n",
       "      <td>0.0</td>\n",
       "      <td>0.0</td>\n",
       "      <td>0.0</td>\n",
       "    </tr>\n",
       "    <tr>\n",
       "      <th>2596</th>\n",
       "      <td>G40015309535005</td>\n",
       "      <td>0.0</td>\n",
       "      <td>0.000000</td>\n",
       "      <td>0.0</td>\n",
       "      <td>100.000000</td>\n",
       "      <td>0.0</td>\n",
       "      <td>0.0</td>\n",
       "      <td>0.0</td>\n",
       "      <td>0.0</td>\n",
       "    </tr>\n",
       "  </tbody>\n",
       "</table>\n",
       "<p>2597 rows × 9 columns</p>\n",
       "</div>"
      ],
      "text/plain": [
       "ROAD_TYPE_DESC          GISJOIN  INTERSTATE  US & STATE HIGHWAY  \\\n",
       "0               G40000103766001         0.0           50.000000   \n",
       "1               G40000103767001         0.0           50.000000   \n",
       "2               G40000103767002         0.0           33.333333   \n",
       "3               G40000103767003         0.0          100.000000   \n",
       "4               G40000103767004         0.0           50.000000   \n",
       "...                         ...         ...                 ...   \n",
       "2592            G40015309532003         0.0           77.777778   \n",
       "2593            G40015309533002         0.0          100.000000   \n",
       "2594            G40015309534002         0.0            0.000000   \n",
       "2595            G40015309534004         0.0          100.000000   \n",
       "2596            G40015309535005         0.0            0.000000   \n",
       "\n",
       "ROAD_TYPE_DESC  FARM TO MARKET  COUNTY ROAD  CITY STREET  TOLLWAY  \\\n",
       "0                          0.0    50.000000          0.0      0.0   \n",
       "1                          0.0    50.000000          0.0      0.0   \n",
       "2                          0.0    66.666667          0.0      0.0   \n",
       "3                          0.0     0.000000          0.0      0.0   \n",
       "4                          0.0    50.000000          0.0      0.0   \n",
       "...                        ...          ...          ...      ...   \n",
       "2592                       0.0    22.222222          0.0      0.0   \n",
       "2593                       0.0     0.000000          0.0      0.0   \n",
       "2594                       0.0     0.000000        100.0      0.0   \n",
       "2595                       0.0     0.000000          0.0      0.0   \n",
       "2596                       0.0   100.000000          0.0      0.0   \n",
       "\n",
       "ROAD_TYPE_DESC  OTHER ROADS  TOLL BRIDGES  \n",
       "0                       0.0           0.0  \n",
       "1                       0.0           0.0  \n",
       "2                       0.0           0.0  \n",
       "3                       0.0           0.0  \n",
       "4                       0.0           0.0  \n",
       "...                     ...           ...  \n",
       "2592                    0.0           0.0  \n",
       "2593                    0.0           0.0  \n",
       "2594                    0.0           0.0  \n",
       "2595                    0.0           0.0  \n",
       "2596                    0.0           0.0  \n",
       "\n",
       "[2597 rows x 9 columns]"
      ]
     },
     "execution_count": 49,
     "metadata": {},
     "output_type": "execute_result"
    }
   ],
   "source": [
    "road_type_percentages_df_2019"
   ]
  },
  {
   "cell_type": "code",
   "execution_count": 50,
   "id": "6174d99c",
   "metadata": {},
   "outputs": [],
   "source": [
    "o1 = pd.merge(o1,road_type_percentages_df_2019,on=['GISJOIN'],how='left')\n",
    "o2 = pd.merge(o2,road_type_percentages_df_2020,on=['GISJOIN'],how='left')\n",
    "o3 = pd.merge(o3,road_type_percentages_df_2021,on=['GISJOIN'],how='left')"
   ]
  },
  {
   "cell_type": "code",
   "execution_count": 51,
   "id": "82f198ad",
   "metadata": {},
   "outputs": [
    {
     "data": {
      "text/plain": [
       "((2597, 28), (314, 28), (120, 28))"
      ]
     },
     "execution_count": 51,
     "metadata": {},
     "output_type": "execute_result"
    }
   ],
   "source": [
    "o1.shape, o2.shape, o3.shape"
   ]
  },
  {
   "cell_type": "code",
   "execution_count": 52,
   "id": "632c915d",
   "metadata": {},
   "outputs": [
    {
     "data": {
      "text/plain": [
       "array([4, 1, 3, 2], dtype=int64)"
      ]
     },
     "execution_count": 52,
     "metadata": {},
     "output_type": "execute_result"
    }
   ],
   "source": [
    "okla['INTOXICATION'].unique()"
   ]
  },
  {
   "cell_type": "code",
   "execution_count": 53,
   "id": "e0984d69",
   "metadata": {},
   "outputs": [
    {
     "data": {
      "text/plain": [
       "Index(['Crash_ID', 'County_FIP', 'COUNTY', 'CITY', 'TIME', 'LIGHTING_CAT',\n",
       "       'WEATHER_CAT', 'YEAR', 'ROAD_CLASS', 'INTOXICATION', 'LATITUDE',\n",
       "       'LONGITUDE', 'INATTENTION', 'SPEEDING', 'TEEN_DRIVE', 'OLDER_DRIV',\n",
       "       'INJURY_COUNT', 'INJURY_OUTCOME', 'BUFF_DIST', 'GISJOIN', 'COUNTYFP',\n",
       "       'Shape_Leng', 'GISJOIN.1', 'COUNTY.1', 'POPN'],\n",
       "      dtype='object')"
      ]
     },
     "execution_count": 53,
     "metadata": {},
     "output_type": "execute_result"
    }
   ],
   "source": [
    "okla.columns"
   ]
  },
  {
   "cell_type": "code",
   "execution_count": 54,
   "id": "26172893",
   "metadata": {},
   "outputs": [
    {
     "data": {
      "text/plain": [
       "array([4, 1, 3, 2], dtype=int64)"
      ]
     },
     "execution_count": 54,
     "metadata": {},
     "output_type": "execute_result"
    }
   ],
   "source": [
    "okla['INTOXICATION'].unique()"
   ]
  },
  {
   "cell_type": "code",
   "execution_count": 55,
   "id": "25f62017",
   "metadata": {},
   "outputs": [
    {
     "name": "stderr",
     "output_type": "stream",
     "text": [
      "C:\\Users\\karan\\AppData\\Local\\Temp\\ipykernel_21608\\2935850862.py:11: SettingWithCopyWarning: \n",
      "A value is trying to be set on a copy of a slice from a DataFrame.\n",
      "Try using .loc[row_indexer,col_indexer] = value instead\n",
      "\n",
      "See the caveats in the documentation: https://pandas.pydata.org/pandas-docs/stable/user_guide/indexing.html#returning-a-view-versus-a-copy\n",
      "  df['INT_DESC'] = df['INTOXICATION'].map(mapping).astype(str)\n",
      "C:\\Users\\karan\\AppData\\Local\\Temp\\ipykernel_21608\\2935850862.py:11: SettingWithCopyWarning: \n",
      "A value is trying to be set on a copy of a slice from a DataFrame.\n",
      "Try using .loc[row_indexer,col_indexer] = value instead\n",
      "\n",
      "See the caveats in the documentation: https://pandas.pydata.org/pandas-docs/stable/user_guide/indexing.html#returning-a-view-versus-a-copy\n",
      "  df['INT_DESC'] = df['INTOXICATION'].map(mapping).astype(str)\n",
      "C:\\Users\\karan\\AppData\\Local\\Temp\\ipykernel_21608\\2935850862.py:11: SettingWithCopyWarning: \n",
      "A value is trying to be set on a copy of a slice from a DataFrame.\n",
      "Try using .loc[row_indexer,col_indexer] = value instead\n",
      "\n",
      "See the caveats in the documentation: https://pandas.pydata.org/pandas-docs/stable/user_guide/indexing.html#returning-a-view-versus-a-copy\n",
      "  df['INT_DESC'] = df['INTOXICATION'].map(mapping).astype(str)\n"
     ]
    }
   ],
   "source": [
    "intoxication_mapping = {\n",
    "    1: 'ALCOHOL',\n",
    "    2: 'DRUG',\n",
    "    3: 'ALCOHOL, DRUG',\n",
    "    4: 'NO INTOXICATION',\n",
    "    5: 'MEDICINAL',\n",
    "    6: 'MARIJUANA'\n",
    "}\n",
    "def process_intoxication_data(df, mapping):\n",
    "    # Map the intoxication codes to descriptive names\n",
    "    df['INT_DESC'] = df['INTOXICATION'].map(mapping).astype(str)\n",
    "\n",
    "    # Create a list of all possible intoxication categories\n",
    "    all_categories = list(mapping.values())\n",
    "\n",
    "    # Group by COUNTY and INTOXICATION_DESC, then count occurrences\n",
    "    grouped = df.groupby(['GISJOIN', 'INT_DESC']).size().unstack(fill_value=0)\n",
    "\n",
    "    # Reindex the DataFrame to include all possible intoxication categories\n",
    "    grouped = grouped.reindex(columns=all_categories, fill_value=0)\n",
    "\n",
    "    # Calculate total counts by county to normalize the data\n",
    "    total_counts_by_county = grouped.sum(axis=1)\n",
    "\n",
    "    # Calculate percentages\n",
    "    test_percentages_df = (grouped.div(total_counts_by_county, axis=0) * 100).fillna(0)\n",
    "    test_percentages_df = test_percentages_df.reset_index(drop=False)\n",
    "\n",
    "    return test_percentages_df\n",
    "\n",
    "# Process each year's data\n",
    "int_df_2019 = process_intoxication_data(o_19, intoxication_mapping)\n",
    "int_df_2020 = process_intoxication_data(o_20, intoxication_mapping)\n",
    "int_df_2021 = process_intoxication_data(o_21, intoxication_mapping)\n"
   ]
  },
  {
   "cell_type": "code",
   "execution_count": 56,
   "id": "938e079e",
   "metadata": {},
   "outputs": [
    {
     "data": {
      "text/plain": [
       "((2597, 7), (314, 7), (120, 7))"
      ]
     },
     "execution_count": 56,
     "metadata": {},
     "output_type": "execute_result"
    }
   ],
   "source": [
    "int_df_2019.shape, int_df_2020.shape, int_df_2021.shape"
   ]
  },
  {
   "cell_type": "code",
   "execution_count": 57,
   "id": "8aae47f3",
   "metadata": {},
   "outputs": [
    {
     "data": {
      "text/plain": [
       "Index(['GISJOIN', 'ALCOHOL', 'DRUG', 'ALCOHOL, DRUG', 'NO INTOXICATION',\n",
       "       'MEDICINAL', 'MARIJUANA'],\n",
       "      dtype='object', name='INT_DESC')"
      ]
     },
     "execution_count": 57,
     "metadata": {},
     "output_type": "execute_result"
    }
   ],
   "source": [
    "int_df_2019.columns"
   ]
  },
  {
   "cell_type": "code",
   "execution_count": 58,
   "id": "79ec94f2",
   "metadata": {},
   "outputs": [],
   "source": [
    "o1 = pd.merge(o1,int_df_2019,on=['GISJOIN'],how='left')\n",
    "o2 = pd.merge(o2,int_df_2020,on=['GISJOIN'],how='left')\n",
    "o3 = pd.merge(o3,int_df_2021,on=['GISJOIN'],how='left')"
   ]
  },
  {
   "cell_type": "code",
   "execution_count": 59,
   "id": "2feac3ad",
   "metadata": {},
   "outputs": [
    {
     "data": {
      "text/plain": [
       "((2597, 34), (314, 34), (120, 34))"
      ]
     },
     "execution_count": 59,
     "metadata": {},
     "output_type": "execute_result"
    }
   ],
   "source": [
    "o1.shape, o2.shape,o3.shape"
   ]
  },
  {
   "cell_type": "code",
   "execution_count": 60,
   "id": "145eb497",
   "metadata": {},
   "outputs": [
    {
     "data": {
      "text/plain": [
       "Index(['Crash_ID', 'County_FIP', 'COUNTY', 'CITY', 'TIME', 'LIGHTING_CAT',\n",
       "       'WEATHER_CAT', 'YEAR', 'ROAD_CLASS', 'INTOXICATION', 'LATITUDE',\n",
       "       'LONGITUDE', 'INATTENTION', 'SPEEDING', 'TEEN_DRIVE', 'OLDER_DRIV',\n",
       "       'INJURY_COUNT', 'INJURY_OUTCOME', 'BUFF_DIST', 'GISJOIN', 'COUNTYFP',\n",
       "       'Shape_Leng', 'GISJOIN.1', 'COUNTY.1', 'POPN'],\n",
       "      dtype='object')"
      ]
     },
     "execution_count": 60,
     "metadata": {},
     "output_type": "execute_result"
    }
   ],
   "source": [
    "okla.columns"
   ]
  },
  {
   "cell_type": "code",
   "execution_count": null,
   "id": "16e2db0e",
   "metadata": {},
   "outputs": [],
   "source": []
  },
  {
   "cell_type": "code",
   "execution_count": 61,
   "id": "17f2f92d",
   "metadata": {},
   "outputs": [
    {
     "data": {
      "text/plain": [
       "0        0\n",
       "1        1\n",
       "2        0\n",
       "3        0\n",
       "4        0\n",
       "        ..\n",
       "27692    0\n",
       "27693    1\n",
       "27694    0\n",
       "27695    0\n",
       "27696    0\n",
       "Name: INATTENTION, Length: 27697, dtype: int64"
      ]
     },
     "execution_count": 61,
     "metadata": {},
     "output_type": "execute_result"
    }
   ],
   "source": [
    "okla['INATTENTION']"
   ]
  },
  {
   "cell_type": "code",
   "execution_count": 62,
   "id": "655f60f4",
   "metadata": {},
   "outputs": [
    {
     "data": {
      "text/html": [
       "<div>\n",
       "<style scoped>\n",
       "    .dataframe tbody tr th:only-of-type {\n",
       "        vertical-align: middle;\n",
       "    }\n",
       "\n",
       "    .dataframe tbody tr th {\n",
       "        vertical-align: top;\n",
       "    }\n",
       "\n",
       "    .dataframe thead th {\n",
       "        text-align: right;\n",
       "    }\n",
       "</style>\n",
       "<table border=\"1\" class=\"dataframe\">\n",
       "  <thead>\n",
       "    <tr style=\"text-align: right;\">\n",
       "      <th>INATTENTION</th>\n",
       "      <th>0</th>\n",
       "      <th>1</th>\n",
       "    </tr>\n",
       "    <tr>\n",
       "      <th>GISJOIN</th>\n",
       "      <th></th>\n",
       "      <th></th>\n",
       "    </tr>\n",
       "  </thead>\n",
       "  <tbody>\n",
       "    <tr>\n",
       "      <th>G40000103766001</th>\n",
       "      <td>1</td>\n",
       "      <td>1</td>\n",
       "    </tr>\n",
       "    <tr>\n",
       "      <th>G40000103767001</th>\n",
       "      <td>2</td>\n",
       "      <td>0</td>\n",
       "    </tr>\n",
       "    <tr>\n",
       "      <th>G40000103767002</th>\n",
       "      <td>3</td>\n",
       "      <td>0</td>\n",
       "    </tr>\n",
       "    <tr>\n",
       "      <th>G40000103767003</th>\n",
       "      <td>1</td>\n",
       "      <td>1</td>\n",
       "    </tr>\n",
       "    <tr>\n",
       "      <th>G40000103767004</th>\n",
       "      <td>1</td>\n",
       "      <td>1</td>\n",
       "    </tr>\n",
       "    <tr>\n",
       "      <th>...</th>\n",
       "      <td>...</td>\n",
       "      <td>...</td>\n",
       "    </tr>\n",
       "    <tr>\n",
       "      <th>G40015309532003</th>\n",
       "      <td>11</td>\n",
       "      <td>0</td>\n",
       "    </tr>\n",
       "    <tr>\n",
       "      <th>G40015309533002</th>\n",
       "      <td>3</td>\n",
       "      <td>0</td>\n",
       "    </tr>\n",
       "    <tr>\n",
       "      <th>G40015309534002</th>\n",
       "      <td>1</td>\n",
       "      <td>0</td>\n",
       "    </tr>\n",
       "    <tr>\n",
       "      <th>G40015309534004</th>\n",
       "      <td>0</td>\n",
       "      <td>1</td>\n",
       "    </tr>\n",
       "    <tr>\n",
       "      <th>G40015309535005</th>\n",
       "      <td>0</td>\n",
       "      <td>1</td>\n",
       "    </tr>\n",
       "  </tbody>\n",
       "</table>\n",
       "<p>2657 rows × 2 columns</p>\n",
       "</div>"
      ],
      "text/plain": [
       "INATTENTION       0  1\n",
       "GISJOIN               \n",
       "G40000103766001   1  1\n",
       "G40000103767001   2  0\n",
       "G40000103767002   3  0\n",
       "G40000103767003   1  1\n",
       "G40000103767004   1  1\n",
       "...              .. ..\n",
       "G40015309532003  11  0\n",
       "G40015309533002   3  0\n",
       "G40015309534002   1  0\n",
       "G40015309534004   0  1\n",
       "G40015309535005   0  1\n",
       "\n",
       "[2657 rows x 2 columns]"
      ]
     },
     "execution_count": 62,
     "metadata": {},
     "output_type": "execute_result"
    }
   ],
   "source": [
    "grouped_intersection = okla.groupby(['GISJOIN', 'INATTENTION']).size().unstack(fill_value=0)\n",
    "grouped_intersection"
   ]
  },
  {
   "cell_type": "code",
   "execution_count": null,
   "id": "8e3beaf8",
   "metadata": {},
   "outputs": [],
   "source": []
  },
  {
   "cell_type": "code",
   "execution_count": 63,
   "id": "6db2ef08",
   "metadata": {},
   "outputs": [],
   "source": [
    "def calculate_intersection_percentages(df):\n",
    "    grouped_intersection = df.groupby(['GISJOIN', 'INATTENTION']).size().unstack(fill_value=0)\n",
    "    grouped_intersection.columns = ['NO_INATTENTION', 'YES_INATTENTION']\n",
    "    total_counts_by_county = grouped_intersection.sum(axis=1)\n",
    "    no_intersection_percentage = (grouped_intersection['NO_INATTENTION'] / total_counts_by_county) * 100\n",
    "    yes_intersection_percentage = (grouped_intersection['YES_INATTENTION'] / total_counts_by_county) * 100\n",
    "\n",
    "    intersection_percentages_df = pd.concat([\n",
    "        no_intersection_percentage,\n",
    "        yes_intersection_percentage\n",
    "    ], axis=1)\n",
    "    intersection_percentages_df.columns = ['NO_INATTENTION', 'YES_INATTENTION']\n",
    "    intersection_percentages_df = intersection_percentages_df.reset_index().rename(columns={'index': 'GISJOIN'})\n",
    "    intersection_percentages_df.fillna(0, inplace=True)\n",
    "\n",
    "    return intersection_percentages_df"
   ]
  },
  {
   "cell_type": "code",
   "execution_count": 64,
   "id": "9a251c6f",
   "metadata": {},
   "outputs": [],
   "source": [
    "int1 = calculate_intersection_percentages(o_19)\n",
    "int2 = calculate_intersection_percentages(o_20)\n",
    "int3 = calculate_intersection_percentages(o_21)"
   ]
  },
  {
   "cell_type": "code",
   "execution_count": 65,
   "id": "cd3d9de3",
   "metadata": {},
   "outputs": [],
   "source": [
    "o1 = pd.merge(o1,int1,on=['GISJOIN'],how='left')\n",
    "o2 = pd.merge(o2,int2,on=['GISJOIN'],how='left')\n",
    "o3 = pd.merge(o3,int3,on=['GISJOIN'],how='left')"
   ]
  },
  {
   "cell_type": "code",
   "execution_count": 66,
   "id": "32027621",
   "metadata": {},
   "outputs": [
    {
     "data": {
      "text/plain": [
       "((2597, 36), (314, 36), (120, 36))"
      ]
     },
     "execution_count": 66,
     "metadata": {},
     "output_type": "execute_result"
    }
   ],
   "source": [
    "o1.shape, o2.shape,o3.shape"
   ]
  },
  {
   "cell_type": "code",
   "execution_count": 67,
   "id": "3ed911bf",
   "metadata": {},
   "outputs": [
    {
     "data": {
      "text/plain": [
       "array([0, 1], dtype=int64)"
      ]
     },
     "execution_count": 67,
     "metadata": {},
     "output_type": "execute_result"
    }
   ],
   "source": [
    "okla['SPEEDING'].unique()"
   ]
  },
  {
   "cell_type": "code",
   "execution_count": null,
   "id": "54ef778b",
   "metadata": {},
   "outputs": [],
   "source": []
  },
  {
   "cell_type": "code",
   "execution_count": 68,
   "id": "5327e59f",
   "metadata": {},
   "outputs": [],
   "source": [
    "sp1 = calculate_intersection_percentages(o_19)"
   ]
  },
  {
   "cell_type": "code",
   "execution_count": 69,
   "id": "ce99b230",
   "metadata": {},
   "outputs": [
    {
     "data": {
      "text/plain": [
       "array([0, 1], dtype=int64)"
      ]
     },
     "execution_count": 69,
     "metadata": {},
     "output_type": "execute_result"
    }
   ],
   "source": [
    "o_19['SPEEDING'].unique()"
   ]
  },
  {
   "cell_type": "code",
   "execution_count": 70,
   "id": "b9a9936b",
   "metadata": {},
   "outputs": [
    {
     "data": {
      "text/plain": [
       "array([0], dtype=int64)"
      ]
     },
     "execution_count": 70,
     "metadata": {},
     "output_type": "execute_result"
    }
   ],
   "source": [
    "o_21['SPEEDING'].unique()"
   ]
  },
  {
   "cell_type": "code",
   "execution_count": 71,
   "id": "88711bc7",
   "metadata": {},
   "outputs": [
    {
     "data": {
      "text/plain": [
       "array([0], dtype=int64)"
      ]
     },
     "execution_count": 71,
     "metadata": {},
     "output_type": "execute_result"
    }
   ],
   "source": [
    "o_20['SPEEDING'].unique()"
   ]
  },
  {
   "cell_type": "code",
   "execution_count": 72,
   "id": "a19e73ef",
   "metadata": {},
   "outputs": [
    {
     "data": {
      "text/html": [
       "<div>\n",
       "<style scoped>\n",
       "    .dataframe tbody tr th:only-of-type {\n",
       "        vertical-align: middle;\n",
       "    }\n",
       "\n",
       "    .dataframe tbody tr th {\n",
       "        vertical-align: top;\n",
       "    }\n",
       "\n",
       "    .dataframe thead th {\n",
       "        text-align: right;\n",
       "    }\n",
       "</style>\n",
       "<table border=\"1\" class=\"dataframe\">\n",
       "  <thead>\n",
       "    <tr style=\"text-align: right;\">\n",
       "      <th></th>\n",
       "      <th>GISJOIN</th>\n",
       "      <th>NO_INATTENTION</th>\n",
       "      <th>YES_INATTENTION</th>\n",
       "    </tr>\n",
       "  </thead>\n",
       "  <tbody>\n",
       "    <tr>\n",
       "      <th>0</th>\n",
       "      <td>G40000103766001</td>\n",
       "      <td>50.0</td>\n",
       "      <td>50.0</td>\n",
       "    </tr>\n",
       "    <tr>\n",
       "      <th>1</th>\n",
       "      <td>G40000103767001</td>\n",
       "      <td>100.0</td>\n",
       "      <td>0.0</td>\n",
       "    </tr>\n",
       "    <tr>\n",
       "      <th>2</th>\n",
       "      <td>G40000103767002</td>\n",
       "      <td>100.0</td>\n",
       "      <td>0.0</td>\n",
       "    </tr>\n",
       "    <tr>\n",
       "      <th>3</th>\n",
       "      <td>G40000103767003</td>\n",
       "      <td>0.0</td>\n",
       "      <td>100.0</td>\n",
       "    </tr>\n",
       "    <tr>\n",
       "      <th>4</th>\n",
       "      <td>G40000103767004</td>\n",
       "      <td>50.0</td>\n",
       "      <td>50.0</td>\n",
       "    </tr>\n",
       "    <tr>\n",
       "      <th>...</th>\n",
       "      <td>...</td>\n",
       "      <td>...</td>\n",
       "      <td>...</td>\n",
       "    </tr>\n",
       "    <tr>\n",
       "      <th>2592</th>\n",
       "      <td>G40015309532003</td>\n",
       "      <td>100.0</td>\n",
       "      <td>0.0</td>\n",
       "    </tr>\n",
       "    <tr>\n",
       "      <th>2593</th>\n",
       "      <td>G40015309533002</td>\n",
       "      <td>100.0</td>\n",
       "      <td>0.0</td>\n",
       "    </tr>\n",
       "    <tr>\n",
       "      <th>2594</th>\n",
       "      <td>G40015309534002</td>\n",
       "      <td>100.0</td>\n",
       "      <td>0.0</td>\n",
       "    </tr>\n",
       "    <tr>\n",
       "      <th>2595</th>\n",
       "      <td>G40015309534004</td>\n",
       "      <td>0.0</td>\n",
       "      <td>100.0</td>\n",
       "    </tr>\n",
       "    <tr>\n",
       "      <th>2596</th>\n",
       "      <td>G40015309535005</td>\n",
       "      <td>0.0</td>\n",
       "      <td>100.0</td>\n",
       "    </tr>\n",
       "  </tbody>\n",
       "</table>\n",
       "<p>2597 rows × 3 columns</p>\n",
       "</div>"
      ],
      "text/plain": [
       "              GISJOIN  NO_INATTENTION  YES_INATTENTION\n",
       "0     G40000103766001            50.0             50.0\n",
       "1     G40000103767001           100.0              0.0\n",
       "2     G40000103767002           100.0              0.0\n",
       "3     G40000103767003             0.0            100.0\n",
       "4     G40000103767004            50.0             50.0\n",
       "...               ...             ...              ...\n",
       "2592  G40015309532003           100.0              0.0\n",
       "2593  G40015309533002           100.0              0.0\n",
       "2594  G40015309534002           100.0              0.0\n",
       "2595  G40015309534004             0.0            100.0\n",
       "2596  G40015309535005             0.0            100.0\n",
       "\n",
       "[2597 rows x 3 columns]"
      ]
     },
     "execution_count": 72,
     "metadata": {},
     "output_type": "execute_result"
    }
   ],
   "source": [
    "calculate_intersection_percentages(o_19)"
   ]
  },
  {
   "cell_type": "code",
   "execution_count": 73,
   "id": "9bbcef51",
   "metadata": {},
   "outputs": [],
   "source": [
    "def calculate_intersection_percentages(df):\n",
    "    grouped_intersection = df.groupby(['GISJOIN', 'SPEEDING']).size().unstack(fill_value=0)\n",
    "    \n",
    "    # Ensure both columns 'NO_SPD' and 'YES_SPD' are always present\n",
    "    if 0 in grouped_intersection.columns and 1 in grouped_intersection.columns:\n",
    "        grouped_intersection.columns = ['NO_SPD', 'YES_SPD']\n",
    "    elif 0 in grouped_intersection.columns:\n",
    "        grouped_intersection.columns = ['NO_SPD']\n",
    "        grouped_intersection['YES_SPD'] = 0\n",
    "    else:\n",
    "        grouped_intersection.columns = ['YES_SPD']\n",
    "        grouped_intersection['NO_SPD'] = 0\n",
    "    \n",
    "    total_counts_by_county = grouped_intersection.sum(axis=1)\n",
    "\n",
    "    no_intersection_percentage = (grouped_intersection['NO_SPD'] / total_counts_by_county) * 100\n",
    "    yes_intersection_percentage = (grouped_intersection['YES_SPD'] / total_counts_by_county) * 100\n",
    "\n",
    "    # Replace NaN values with 0\n",
    "    no_intersection_percentage.fillna(0, inplace=True)\n",
    "    yes_intersection_percentage.fillna(0, inplace=True)\n",
    "\n",
    "    # Ensure that both no_intersection_percentage and yes_intersection_percentage have the same index\n",
    "    no_intersection_percentage = no_intersection_percentage.reindex(grouped_intersection.index, fill_value=0)\n",
    "    yes_intersection_percentage = yes_intersection_percentage.reindex(grouped_intersection.index, fill_value=0)\n",
    "\n",
    "    intersection_percentages_df = pd.concat([\n",
    "        no_intersection_percentage,\n",
    "        yes_intersection_percentage\n",
    "    ], axis=1)\n",
    "    \n",
    "    intersection_percentages_df.columns = ['NO_SPD', 'YES_SPD']\n",
    "    intersection_percentages_df = intersection_percentages_df.reset_index().rename(columns={'index': 'GISJOIN'})\n",
    "\n",
    "    return intersection_percentages_df"
   ]
  },
  {
   "cell_type": "code",
   "execution_count": 74,
   "id": "60145aca",
   "metadata": {},
   "outputs": [
    {
     "data": {
      "text/html": [
       "<div>\n",
       "<style scoped>\n",
       "    .dataframe tbody tr th:only-of-type {\n",
       "        vertical-align: middle;\n",
       "    }\n",
       "\n",
       "    .dataframe tbody tr th {\n",
       "        vertical-align: top;\n",
       "    }\n",
       "\n",
       "    .dataframe thead th {\n",
       "        text-align: right;\n",
       "    }\n",
       "</style>\n",
       "<table border=\"1\" class=\"dataframe\">\n",
       "  <thead>\n",
       "    <tr style=\"text-align: right;\">\n",
       "      <th></th>\n",
       "      <th>GISJOIN</th>\n",
       "      <th>NO_SPD</th>\n",
       "      <th>YES_SPD</th>\n",
       "    </tr>\n",
       "  </thead>\n",
       "  <tbody>\n",
       "    <tr>\n",
       "      <th>0</th>\n",
       "      <td>G40000103766001</td>\n",
       "      <td>50.000000</td>\n",
       "      <td>50.000000</td>\n",
       "    </tr>\n",
       "    <tr>\n",
       "      <th>1</th>\n",
       "      <td>G40000103767001</td>\n",
       "      <td>100.000000</td>\n",
       "      <td>0.000000</td>\n",
       "    </tr>\n",
       "    <tr>\n",
       "      <th>2</th>\n",
       "      <td>G40000103767002</td>\n",
       "      <td>33.333333</td>\n",
       "      <td>66.666667</td>\n",
       "    </tr>\n",
       "    <tr>\n",
       "      <th>3</th>\n",
       "      <td>G40000103767003</td>\n",
       "      <td>100.000000</td>\n",
       "      <td>0.000000</td>\n",
       "    </tr>\n",
       "    <tr>\n",
       "      <th>4</th>\n",
       "      <td>G40000103767004</td>\n",
       "      <td>100.000000</td>\n",
       "      <td>0.000000</td>\n",
       "    </tr>\n",
       "    <tr>\n",
       "      <th>...</th>\n",
       "      <td>...</td>\n",
       "      <td>...</td>\n",
       "      <td>...</td>\n",
       "    </tr>\n",
       "    <tr>\n",
       "      <th>2592</th>\n",
       "      <td>G40015309532003</td>\n",
       "      <td>44.444444</td>\n",
       "      <td>55.555556</td>\n",
       "    </tr>\n",
       "    <tr>\n",
       "      <th>2593</th>\n",
       "      <td>G40015309533002</td>\n",
       "      <td>66.666667</td>\n",
       "      <td>33.333333</td>\n",
       "    </tr>\n",
       "    <tr>\n",
       "      <th>2594</th>\n",
       "      <td>G40015309534002</td>\n",
       "      <td>100.000000</td>\n",
       "      <td>0.000000</td>\n",
       "    </tr>\n",
       "    <tr>\n",
       "      <th>2595</th>\n",
       "      <td>G40015309534004</td>\n",
       "      <td>100.000000</td>\n",
       "      <td>0.000000</td>\n",
       "    </tr>\n",
       "    <tr>\n",
       "      <th>2596</th>\n",
       "      <td>G40015309535005</td>\n",
       "      <td>100.000000</td>\n",
       "      <td>0.000000</td>\n",
       "    </tr>\n",
       "  </tbody>\n",
       "</table>\n",
       "<p>2597 rows × 3 columns</p>\n",
       "</div>"
      ],
      "text/plain": [
       "              GISJOIN      NO_SPD    YES_SPD\n",
       "0     G40000103766001   50.000000  50.000000\n",
       "1     G40000103767001  100.000000   0.000000\n",
       "2     G40000103767002   33.333333  66.666667\n",
       "3     G40000103767003  100.000000   0.000000\n",
       "4     G40000103767004  100.000000   0.000000\n",
       "...               ...         ...        ...\n",
       "2592  G40015309532003   44.444444  55.555556\n",
       "2593  G40015309533002   66.666667  33.333333\n",
       "2594  G40015309534002  100.000000   0.000000\n",
       "2595  G40015309534004  100.000000   0.000000\n",
       "2596  G40015309535005  100.000000   0.000000\n",
       "\n",
       "[2597 rows x 3 columns]"
      ]
     },
     "execution_count": 74,
     "metadata": {},
     "output_type": "execute_result"
    }
   ],
   "source": [
    "sp1 = calculate_intersection_percentages(o_19)\n",
    "sp1"
   ]
  },
  {
   "cell_type": "code",
   "execution_count": 75,
   "id": "23718306",
   "metadata": {},
   "outputs": [],
   "source": [
    "sp2 = calculate_intersection_percentages(o_20)"
   ]
  },
  {
   "cell_type": "code",
   "execution_count": 76,
   "id": "2ea03028",
   "metadata": {},
   "outputs": [],
   "source": [
    "sp3 = calculate_intersection_percentages(o_21)"
   ]
  },
  {
   "cell_type": "code",
   "execution_count": 77,
   "id": "9eb59c99",
   "metadata": {},
   "outputs": [],
   "source": [
    "o1 = pd.merge(o1,sp1,on=['GISJOIN'],how='left')\n",
    "o2 = pd.merge(o2,sp2,on=['GISJOIN'],how='left')\n",
    "o3 = pd.merge(o3,sp3,on=['GISJOIN'],how='left')"
   ]
  },
  {
   "cell_type": "code",
   "execution_count": 78,
   "id": "82f92a0a",
   "metadata": {},
   "outputs": [
    {
     "data": {
      "text/plain": [
       "((2597, 38), (314, 38), (120, 38))"
      ]
     },
     "execution_count": 78,
     "metadata": {},
     "output_type": "execute_result"
    }
   ],
   "source": [
    "o1.shape, o2.shape, o3.shape"
   ]
  },
  {
   "cell_type": "code",
   "execution_count": 79,
   "id": "3a3a2f71",
   "metadata": {},
   "outputs": [
    {
     "data": {
      "text/plain": [
       "Index(['Crash_ID', 'County_FIP', 'COUNTY', 'CITY', 'TIME', 'LIGHTING_CAT',\n",
       "       'WEATHER_CAT', 'YEAR', 'ROAD_CLASS', 'INTOXICATION', 'LATITUDE',\n",
       "       'LONGITUDE', 'INATTENTION', 'SPEEDING', 'TEEN_DRIVE', 'OLDER_DRIV',\n",
       "       'INJURY_COUNT', 'INJURY_OUTCOME', 'BUFF_DIST', 'GISJOIN', 'COUNTYFP',\n",
       "       'Shape_Leng', 'GISJOIN.1', 'COUNTY.1', 'POPN'],\n",
       "      dtype='object')"
      ]
     },
     "execution_count": 79,
     "metadata": {},
     "output_type": "execute_result"
    }
   ],
   "source": [
    "okla.columns"
   ]
  },
  {
   "cell_type": "code",
   "execution_count": 80,
   "id": "7967b9fa",
   "metadata": {},
   "outputs": [
    {
     "data": {
      "text/plain": [
       "array([1, 0], dtype=int64)"
      ]
     },
     "execution_count": 80,
     "metadata": {},
     "output_type": "execute_result"
    }
   ],
   "source": [
    "o_21['INJURY_OUTCOME'].unique()"
   ]
  },
  {
   "cell_type": "code",
   "execution_count": 81,
   "id": "cb9a4f8c",
   "metadata": {},
   "outputs": [],
   "source": [
    "def calculate_intersection_percentages(df):\n",
    "    grouped_intersection = df.groupby(['GISJOIN', 'INJURY_OUTCOME']).size().unstack(fill_value=0)\n",
    "    grouped_intersection.columns = ['NO_INJ', 'YES_INJ']\n",
    "    total_counts_by_county = grouped_intersection.sum(axis=1)\n",
    "    no_intersection_percentage = (grouped_intersection['NO_INJ'] / total_counts_by_county) * 100\n",
    "    yes_intersection_percentage = (grouped_intersection['YES_INJ'] / total_counts_by_county) * 100\n",
    "\n",
    "    intersection_percentages_df = pd.concat([\n",
    "        no_intersection_percentage,\n",
    "        yes_intersection_percentage\n",
    "    ], axis=1)\n",
    "    intersection_percentages_df.columns = ['NO_INJ', 'YES_INJ']\n",
    "    intersection_percentages_df = intersection_percentages_df.reset_index().rename(columns={'index': 'GISJOIN'})\n",
    "    intersection_percentages_df.fillna(0, inplace=True)\n",
    "\n",
    "    return intersection_percentages_df"
   ]
  },
  {
   "cell_type": "code",
   "execution_count": 82,
   "id": "9731c2d3",
   "metadata": {},
   "outputs": [],
   "source": [
    "in1 = calculate_intersection_percentages(o_19)\n",
    "in2 = calculate_intersection_percentages(o_20)\n",
    "in3 = calculate_intersection_percentages(o_21)"
   ]
  },
  {
   "cell_type": "code",
   "execution_count": 83,
   "id": "1f3c4694",
   "metadata": {},
   "outputs": [],
   "source": [
    "o1 = pd.merge(o1,in1,on=['GISJOIN'],how='left')\n",
    "o2 = pd.merge(o2,in2,on=['GISJOIN'],how='left')\n",
    "o3 = pd.merge(o3,in3,on=['GISJOIN'],how='left')"
   ]
  },
  {
   "cell_type": "code",
   "execution_count": 84,
   "id": "eb0ac7b5",
   "metadata": {},
   "outputs": [
    {
     "data": {
      "text/plain": [
       "((2597, 40), (314, 40), (120, 40))"
      ]
     },
     "execution_count": 84,
     "metadata": {},
     "output_type": "execute_result"
    }
   ],
   "source": [
    "o1.shape, o2.shape,  o3.shape"
   ]
  },
  {
   "cell_type": "code",
   "execution_count": 85,
   "id": "2f727b83",
   "metadata": {},
   "outputs": [],
   "source": [
    "def process_median_width_data(df):\n",
    "    # Group by COUNTY and MEDIANWIDTH, then aggregate to calculate the sum and median\n",
    "    aggregated_data = df.groupby('GISJOIN')['INJURY_COUNT'].agg(['sum']).reset_index()\n",
    " \n",
    "    # Rename columns for clarity\n",
    "    aggregated_data.columns = ['GISJOIN', 'INJ_COUNT_SUM']\n",
    " \n",
    "   \n",
    " \n",
    "    return aggregated_data\n",
    " \n",
    "# Assuming df_2019, df_2020, df_2021 are your dataframes for each respective year\n",
    "inj_width_summary_df_2019 = process_median_width_data(o_19)\n",
    "inj_width_summary_df_2020 = process_median_width_data(o_20)\n",
    "inj_width_summary_df_2021 = process_median_width_data(o_21)\n",
    " \n"
   ]
  },
  {
   "cell_type": "code",
   "execution_count": 86,
   "id": "c61adbde",
   "metadata": {},
   "outputs": [],
   "source": [
    "o1 = pd.merge(o1,inj_width_summary_df_2019,on=['GISJOIN'],how='left')\n",
    "o2 = pd.merge(o2,inj_width_summary_df_2020,on=['GISJOIN'],how='left')\n",
    "o3 = pd.merge(o3,inj_width_summary_df_2021,on=['GISJOIN'],how='left')"
   ]
  },
  {
   "cell_type": "code",
   "execution_count": 87,
   "id": "9671a103",
   "metadata": {},
   "outputs": [
    {
     "data": {
      "text/plain": [
       "((2597, 41), (314, 41), (120, 41))"
      ]
     },
     "execution_count": 87,
     "metadata": {},
     "output_type": "execute_result"
    }
   ],
   "source": [
    "o1.shape, o2.shape, o3.shape"
   ]
  },
  {
   "cell_type": "code",
   "execution_count": 88,
   "id": "94c35c7e",
   "metadata": {},
   "outputs": [
    {
     "data": {
      "text/plain": [
       "Index(['Crash_ID', 'County_FIP', 'COUNTY', 'CITY', 'TIME', 'LIGHTING_CAT',\n",
       "       'WEATHER_CAT', 'YEAR', 'ROAD_CLASS', 'INTOXICATION', 'LATITUDE',\n",
       "       'LONGITUDE', 'INATTENTION', 'SPEEDING', 'TEEN_DRIVE', 'OLDER_DRIV',\n",
       "       'INJURY_COUNT', 'INJURY_OUTCOME', 'BUFF_DIST', 'GISJOIN', 'COUNTYFP',\n",
       "       'Shape_Leng', 'GISJOIN.1', 'COUNTY.1', 'POPN'],\n",
       "      dtype='object')"
      ]
     },
     "execution_count": 88,
     "metadata": {},
     "output_type": "execute_result"
    }
   ],
   "source": [
    "okla.columns"
   ]
  },
  {
   "cell_type": "code",
   "execution_count": 89,
   "id": "298217c0",
   "metadata": {},
   "outputs": [],
   "source": [
    "o1['YEAR'] = 2019\n",
    "o2['YEAR'] = 2020\n",
    "o3['YEAR'] = 2021"
   ]
  },
  {
   "cell_type": "code",
   "execution_count": 95,
   "id": "58368c48",
   "metadata": {},
   "outputs": [],
   "source": [
    "o1['STATE'] = 'Oklahoma'\n",
    "o2['STATE'] = 'Oklahoma'\n",
    "o3['STATE'] = 'Oklahoma'"
   ]
  },
  {
   "cell_type": "code",
   "execution_count": 98,
   "id": "ce077f8c",
   "metadata": {},
   "outputs": [],
   "source": [
    "o1.to_csv('okla_2019.csv',index= False)\n",
    "#o2.to_csv('okla_2020.csv',index= False)\n",
    "#o3.to_csv('okla_2021.csv',index= False)"
   ]
  },
  {
   "cell_type": "code",
   "execution_count": 90,
   "id": "9911a924",
   "metadata": {},
   "outputs": [],
   "source": [
    "okla = pd.concat([o1,o2,o3],axis=0)"
   ]
  },
  {
   "cell_type": "code",
   "execution_count": 91,
   "id": "0c270bc4",
   "metadata": {},
   "outputs": [
    {
     "data": {
      "text/plain": [
       "0"
      ]
     },
     "execution_count": 91,
     "metadata": {},
     "output_type": "execute_result"
    }
   ],
   "source": [
    "okla.isna().sum().sum()"
   ]
  },
  {
   "cell_type": "code",
   "execution_count": 92,
   "id": "b43c1a1b",
   "metadata": {},
   "outputs": [],
   "source": [
    "okla['STATE'] = 'Oklahoma'"
   ]
  },
  {
   "cell_type": "code",
   "execution_count": 93,
   "id": "c141f9d9",
   "metadata": {},
   "outputs": [],
   "source": [
    "okla.to_csv('okla.csv',index= False)"
   ]
  },
  {
   "cell_type": "code",
   "execution_count": null,
   "id": "75263cad",
   "metadata": {},
   "outputs": [],
   "source": []
  }
 ],
 "metadata": {
  "kernelspec": {
   "display_name": "Python 3 (ipykernel)",
   "language": "python",
   "name": "python3"
  },
  "language_info": {
   "codemirror_mode": {
    "name": "ipython",
    "version": 3
   },
   "file_extension": ".py",
   "mimetype": "text/x-python",
   "name": "python",
   "nbconvert_exporter": "python",
   "pygments_lexer": "ipython3",
   "version": "3.11.4"
  }
 },
 "nbformat": 4,
 "nbformat_minor": 5
}
