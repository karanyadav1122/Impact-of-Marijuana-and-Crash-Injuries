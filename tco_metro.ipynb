{
 "cells": [
  {
   "cell_type": "code",
   "execution_count": 1,
   "id": "b1c278e7",
   "metadata": {},
   "outputs": [],
   "source": [
    "import numpy as np\n",
    "import pandas as pd"
   ]
  },
  {
   "cell_type": "code",
   "execution_count": 2,
   "id": "3b275a09",
   "metadata": {},
   "outputs": [],
   "source": [
    "t1 = pd.read_csv('C:/Users/karan/Texas_2019_LSAD.csv')\n",
    "t2 = pd.read_csv('C:/Users/karan/Texas_2020_LSAD.csv')\n",
    "t3 = pd.read_csv('C:/Users/karan/Texas_2021_LSAD.csv')"
   ]
  },
  {
   "cell_type": "code",
   "execution_count": 3,
   "id": "2dd3e170",
   "metadata": {},
   "outputs": [
    {
     "data": {
      "text/plain": [
       "((16032, 82), (16032, 79), (16032, 78))"
      ]
     },
     "execution_count": 3,
     "metadata": {},
     "output_type": "execute_result"
    }
   ],
   "source": [
    "t1.shape, t2.shape,t3.shape"
   ]
  },
  {
   "cell_type": "code",
   "execution_count": 4,
   "id": "6bc0dc10",
   "metadata": {},
   "outputs": [
    {
     "data": {
      "text/plain": [
       "Index(['GISJOIN', 'TEXAS_CopyFeatures1_STATEFP',\n",
       "       'TEXAS_CopyFeatures1_COUNTYFP', 'TEXAS_CopyFeatures1_Shape_Leng',\n",
       "       'COUNT', 'ALCOHOL', 'DRUG', 'ALCOHOL__DRUG', 'NO_INTOXICATION',\n",
       "       'MEDICINAL', 'MARIJUANA', 'Race_UNK', 'White', 'Hispanic', 'Black',\n",
       "       'Asian', 'Other', 'American_Native', 'BLOWING_SAND_SNOW', 'CLEAR',\n",
       "       'CLOUDY', 'FOG', 'Other_Weather', 'RAIN', 'SEVERE_CROSSWINDS',\n",
       "       'SLEET_HAIL', 'SNOW_Weather', 'UNK_Weather', 'DAYLIGHT', 'DARK_LIGHTED',\n",
       "       'DARK_NOT_LIGHTED', 'DARK_UNKNOWN_LIGHTING', 'DUSK', 'DAWN',\n",
       "       'UNK_LIGHT', 'OTHER_LIGHT', 'CITY_STREET', 'COUNTY_ROAD',\n",
       "       'FARM_TO_MARKET', 'INTERSTATE', 'OTHER_ROADS', 'TOLL_BRIDGES',\n",
       "       'TOLLWAY', 'US_STATE_HIGHWAY', 'DRY', 'ICE', 'OTHER_SURF',\n",
       "       'SAND_MUD_DIRT', 'SLUSH', 'SNOW_SURF', 'STANDING_WATER', 'UNKNOWN_SURF',\n",
       "       'WET', 'SPEEDING', 'INATTENTION', 'LANE_CHANGE', 'TAILGATING',\n",
       "       'VIOLATION', 'UNSAFE_BACKING', 'IMPAIRMENT', 'TURNING', 'TECH_PARK',\n",
       "       'NO_FAULT', 'KNOWN_HUMAN_FACTOR', 'UNKNOWN_HUMAN_FACTOR', 'FATAL',\n",
       "       'MIN_INJURY', 'NO_INJURY', 'POSBL_INJURY', 'Sus_serious_Inj',\n",
       "       'UNK_SEVERITY', 'NO_INJ', 'YES_INJ', 'INJ_COUNT_SUM', 'POPN', 'YEAR',\n",
       "       'FID_LSAD_Metropolitan', 'GISJOIN.1', 'NAME', 'NAMELSAD', 'LSAD',\n",
       "       'Shape_Area'],\n",
       "      dtype='object')"
      ]
     },
     "execution_count": 4,
     "metadata": {},
     "output_type": "execute_result"
    }
   ],
   "source": [
    "t1.columns"
   ]
  },
  {
   "cell_type": "code",
   "execution_count": 5,
   "id": "30d50863",
   "metadata": {},
   "outputs": [],
   "source": [
    "cols= ['GISJOIN', 'STATEFP', 'Shape_Leng', 'COUNT', 'ALCOHOL', 'DRUG',\n",
    "       'ALCOHOL__DRUG', 'NO_INTOXICATION', 'MEDICINAL', 'MARIJUANA',\n",
    "        'BLOWING_SAND_SNOW', 'CLEAR', 'CLOUDY', 'FOG',\n",
    "       'Other_Weather', 'RAIN', 'SEVERE_CROSSWINDS', 'SLEET_HAIL',\n",
    "       'SNOW_Weather', 'UNK_Weather', 'DAYLIGHT', 'DARK_LIGHTED',\n",
    "       'DARK_NOT_LIGHTED', 'DARK_UNKNOWN_LIGHTING', 'DUSK', 'DAWN',\n",
    "       'UNK_LIGHT', 'OTHER_LIGHT', 'CITY_STREET', 'COUNTY_ROAD',\n",
    "       'FARM_TO_MARKET', 'INTERSTATE', 'OTHER_ROADS', 'TOLL_BRIDGES',\n",
    "       'TOLLWAY', 'US_STATE_HIGHWAY', 'DRY', 'ICE', 'OTHER_SURF',\n",
    "       'SAND_MUD_DIRT', 'SLUSH', 'SNOW_SURF', 'STANDING_WATER', 'UNKNOWN_SURF',\n",
    "       'WET', 'SPEEDING', 'INATTENTION', 'LANE_CHANGE', 'TAILGATING',\n",
    "       'VIOLATION', 'UNSAFE_BACKING', 'IMPAIRMENT', 'TURNING', 'TECH_PARK',\n",
    "       'NO_FAULT', 'KNOWN_HUMAN_FACTOR', 'UNKNOWN_HUMAN_FACTOR', 'FATAL',\n",
    "       'MIN_INJURY', 'NO_INJURY', 'POSBL_INJURY','UNK_SEVERITY', 'NO_INJ', 'YES_INJ', 'INJ_COUNT_SUM', 'POPN', 'YEAR','Shape_Area','NAME']"
   ]
  },
  {
   "cell_type": "code",
   "execution_count": 6,
   "id": "461e6975",
   "metadata": {},
   "outputs": [],
   "source": [
    "t1.rename(columns={'TEXAS_CopyFeatures1_Shape_Leng':'Shape_Leng'},inplace= True)"
   ]
  },
  {
   "cell_type": "code",
   "execution_count": 7,
   "id": "6751f725",
   "metadata": {},
   "outputs": [],
   "source": [
    "t1.drop(columns=['TEXAS_CopyFeatures1_COUNTYFP'],inplace= True)"
   ]
  },
  {
   "cell_type": "code",
   "execution_count": 8,
   "id": "da07ca5b",
   "metadata": {},
   "outputs": [],
   "source": [
    "t2.drop(columns=['TEXAS_CopyFeatures_1_BLKGRPCE'],inplace= True)"
   ]
  },
  {
   "cell_type": "code",
   "execution_count": 9,
   "id": "03458b7b",
   "metadata": {},
   "outputs": [
    {
     "data": {
      "text/plain": [
       "Index(['GISJOIN', 'TEXAS_CopyFeatures1_STATEFP', 'Shape_Leng', 'COUNT',\n",
       "       'ALCOHOL', 'DRUG', 'ALCOHOL__DRUG', 'NO_INTOXICATION', 'MEDICINAL',\n",
       "       'MARIJUANA', 'Race_UNK', 'White', 'Hispanic', 'Black', 'Asian', 'Other',\n",
       "       'American_Native', 'BLOWING_SAND_SNOW', 'CLEAR', 'CLOUDY', 'FOG',\n",
       "       'Other_Weather', 'RAIN', 'SEVERE_CROSSWINDS', 'SLEET_HAIL',\n",
       "       'SNOW_Weather', 'UNK_Weather', 'DAYLIGHT', 'DARK_LIGHTED',\n",
       "       'DARK_NOT_LIGHTED', 'DARK_UNKNOWN_LIGHTING', 'DUSK', 'DAWN',\n",
       "       'UNK_LIGHT', 'OTHER_LIGHT', 'CITY_STREET', 'COUNTY_ROAD',\n",
       "       'FARM_TO_MARKET', 'INTERSTATE', 'OTHER_ROADS', 'TOLL_BRIDGES',\n",
       "       'TOLLWAY', 'US_STATE_HIGHWAY', 'DRY', 'ICE', 'OTHER_SURF',\n",
       "       'SAND_MUD_DIRT', 'SLUSH', 'SNOW_SURF', 'STANDING_WATER', 'UNKNOWN_SURF',\n",
       "       'WET', 'SPEEDING', 'INATTENTION', 'LANE_CHANGE', 'TAILGATING',\n",
       "       'VIOLATION', 'UNSAFE_BACKING', 'IMPAIRMENT', 'TURNING', 'TECH_PARK',\n",
       "       'NO_FAULT', 'KNOWN_HUMAN_FACTOR', 'UNKNOWN_HUMAN_FACTOR', 'FATAL',\n",
       "       'MIN_INJURY', 'NO_INJURY', 'POSBL_INJURY', 'Sus_serious_Inj',\n",
       "       'UNK_SEVERITY', 'NO_INJ', 'YES_INJ', 'INJ_COUNT_SUM', 'POPN', 'YEAR',\n",
       "       'FID_LSAD_Metropolitan', 'GISJOIN.1', 'NAME', 'NAMELSAD', 'LSAD',\n",
       "       'Shape_Area'],\n",
       "      dtype='object')"
      ]
     },
     "execution_count": 9,
     "metadata": {},
     "output_type": "execute_result"
    }
   ],
   "source": [
    "t1.columns"
   ]
  },
  {
   "cell_type": "code",
   "execution_count": 10,
   "id": "2b59b6c8",
   "metadata": {},
   "outputs": [],
   "source": [
    "t2.rename(columns={'TEXAS_CopyFeatures_1_STATEFP':'STATEFP'},inplace= True)"
   ]
  },
  {
   "cell_type": "code",
   "execution_count": 11,
   "id": "f3d9ad30",
   "metadata": {},
   "outputs": [],
   "source": [
    "t1.rename(columns={'TEXAS_CopyFeatures1_STATEFP':'STATEFP'},inplace= True)"
   ]
  },
  {
   "cell_type": "code",
   "execution_count": 12,
   "id": "33d9494d",
   "metadata": {},
   "outputs": [
    {
     "data": {
      "text/plain": [
       "Index(['GISJOIN', 'STATEFP', 'TEXAS_CopyFeatures_1_COUNTYFP', 'Shape_Leng',\n",
       "       'COUNT', 'ALCOHOL', 'DRUG', 'ALCOHOL__DRUG', 'No_INTOXICATION',\n",
       "       'MEDICINAL', 'MARIJUANA', 'Race_UNK', 'White', 'Hispanic', 'Black',\n",
       "       'Asian', 'Other_Race', 'American_Native', 'BLOWING_SAND_SNOW', 'CLEAR',\n",
       "       'CLOUDY', 'FOG', 'Other_Weather ', 'RAIN', 'SEVERE_CROSSWINDS',\n",
       "       'SLEET_HAIL', 'SNOW_Weather', 'UNK_Weather', 'DAYLIGHT', 'DARK_LIGHTED',\n",
       "       'DARK_NOT_LIGHTED', 'DARK_UNKNOWN_LIGHTING', 'DUSK', 'DAWN',\n",
       "       'UNK_LIGHT', 'OTHER_LIGHT', 'CITY_STREET', 'COUNTY_ROAD',\n",
       "       'FARM_TO_MARKET', 'INTERSTATE', 'OTHER_ROADS', 'TOLL_BRIDGES',\n",
       "       'TOLLWAY', 'US_STATE_HIGHWAY', 'DRY', 'ICE', 'OTHER_SURF',\n",
       "       'SAND_MUD_DIRT', 'SLUSH', 'SNOW_SURF', 'STANDING_WATER', 'UNKNOWN_SURF',\n",
       "       'WET', 'SPEEDING', 'INATTENTION', 'LANE_CHANGE', 'TAILGATING',\n",
       "       'texas_2020_csv_VIOLATION', 'UNSAFE_BACKING', 'IMPAIRMENT', 'TURNING',\n",
       "       'TECH_PARK', 'NO_FAULT', 'KNOWN_HUMAN_FACTOR', 'UNKNOWN_HUMAN_FACTOR',\n",
       "       'FATAL', 'MIN_INJURY', 'NO_INJURY', 'POSBL_INJURY', 'Sus_Serious_inj',\n",
       "       'UNK_SEVERITY', 'NO_INJ', 'YES_INJ', 'INJ_COUNT_SUM', 'POPN', 'YEAR',\n",
       "       'NAME', 'Shape_Area'],\n",
       "      dtype='object')"
      ]
     },
     "execution_count": 12,
     "metadata": {},
     "output_type": "execute_result"
    }
   ],
   "source": [
    "t2.columns"
   ]
  },
  {
   "cell_type": "code",
   "execution_count": 13,
   "id": "9daa3a53",
   "metadata": {},
   "outputs": [
    {
     "data": {
      "text/plain": [
       "72"
      ]
     },
     "execution_count": 13,
     "metadata": {},
     "output_type": "execute_result"
    }
   ],
   "source": [
    "t = t1.columns.intersection(t2.columns)\n",
    "len(t)"
   ]
  },
  {
   "cell_type": "code",
   "execution_count": 14,
   "id": "43d50d41",
   "metadata": {},
   "outputs": [],
   "source": [
    "t2.rename(columns={'No_INTOXICATION':'NO_INTOXICATION','texas_2020_csv_VIOLATION':'VIOLATION'},inplace= True)"
   ]
  },
  {
   "cell_type": "code",
   "execution_count": 15,
   "id": "7ee311c4",
   "metadata": {},
   "outputs": [
    {
     "data": {
      "text/plain": [
       "{'FID_LSAD_Metropolitan',\n",
       " 'GISJOIN.1',\n",
       " 'LSAD',\n",
       " 'NAMELSAD',\n",
       " 'Other',\n",
       " 'Other_Weather',\n",
       " 'Sus_serious_Inj'}"
      ]
     },
     "execution_count": 15,
     "metadata": {},
     "output_type": "execute_result"
    }
   ],
   "source": [
    "w1 = set(t1.columns)\n",
    "w2= set(t2.columns)\n",
    "w1-w2"
   ]
  },
  {
   "cell_type": "code",
   "execution_count": 16,
   "id": "9685c3bd",
   "metadata": {},
   "outputs": [
    {
     "data": {
      "text/plain": [
       "15"
      ]
     },
     "execution_count": 16,
     "metadata": {},
     "output_type": "execute_result"
    }
   ],
   "source": [
    "t1.columns.tolist().index('Other')"
   ]
  },
  {
   "cell_type": "code",
   "execution_count": 17,
   "id": "73cbe2b4",
   "metadata": {},
   "outputs": [
    {
     "data": {
      "text/plain": [
       "array([2019,    0], dtype=int64)"
      ]
     },
     "execution_count": 17,
     "metadata": {},
     "output_type": "execute_result"
    }
   ],
   "source": [
    "t1['YEAR'].unique()"
   ]
  },
  {
   "cell_type": "code",
   "execution_count": 18,
   "id": "b205aab5",
   "metadata": {},
   "outputs": [
    {
     "data": {
      "text/plain": [
       "array([2020,    0], dtype=int64)"
      ]
     },
     "execution_count": 18,
     "metadata": {},
     "output_type": "execute_result"
    }
   ],
   "source": [
    "t2['YEAR'].unique()"
   ]
  },
  {
   "cell_type": "code",
   "execution_count": 19,
   "id": "0e140d18",
   "metadata": {},
   "outputs": [
    {
     "data": {
      "text/plain": [
       "Index(['GISJOIN', 'STATEFP', 'Shape_Leng', 'COUNT', 'ALCOHOL', 'DRUG',\n",
       "       'ALCOHOL__DRUG', 'NO_INTOXICATION', 'MEDICINAL', 'MARIJUANA',\n",
       "       'Race_UNK', 'White', 'Hispanic', 'Black', 'Asian', 'Other',\n",
       "       'American_Native', 'BLOWING_SAND_SNOW', 'CLEAR', 'CLOUDY', 'FOG',\n",
       "       'Other_Weather', 'RAIN', 'SEVERE_CROSSWINDS', 'SLEET_HAIL',\n",
       "       'SNOW_Weather', 'UNK_Weather', 'DAYLIGHT', 'DARK_LIGHTED',\n",
       "       'DARK_NOT_LIGHTED', 'DARK_UNKNOWN_LIGHTING', 'DUSK', 'DAWN',\n",
       "       'UNK_LIGHT', 'OTHER_LIGHT', 'CITY_STREET', 'COUNTY_ROAD',\n",
       "       'FARM_TO_MARKET', 'INTERSTATE', 'OTHER_ROADS', 'TOLL_BRIDGES',\n",
       "       'TOLLWAY', 'US_STATE_HIGHWAY', 'DRY', 'ICE', 'OTHER_SURF',\n",
       "       'SAND_MUD_DIRT', 'SLUSH', 'SNOW_SURF', 'STANDING_WATER', 'UNKNOWN_SURF',\n",
       "       'WET', 'SPEEDING', 'INATTENTION', 'LANE_CHANGE', 'TAILGATING',\n",
       "       'VIOLATION', 'UNSAFE_BACKING', 'IMPAIRMENT', 'TURNING', 'TECH_PARK',\n",
       "       'NO_FAULT', 'KNOWN_HUMAN_FACTOR', 'UNKNOWN_HUMAN_FACTOR', 'FATAL',\n",
       "       'MIN_INJURY', 'NO_INJURY', 'POSBL_INJURY', 'Sus_serious_Inj',\n",
       "       'UNK_SEVERITY', 'NO_INJ', 'YES_INJ', 'INJ_COUNT_SUM', 'POPN', 'YEAR',\n",
       "       'FID_LSAD_Metropolitan', 'GISJOIN.1', 'NAME', 'NAMELSAD', 'LSAD',\n",
       "       'Shape_Area'],\n",
       "      dtype='object')"
      ]
     },
     "execution_count": 19,
     "metadata": {},
     "output_type": "execute_result"
    }
   ],
   "source": [
    "t1.columns"
   ]
  },
  {
   "cell_type": "code",
   "execution_count": 20,
   "id": "0e79778a",
   "metadata": {},
   "outputs": [],
   "source": [
    "t2.rename(columns={'Other_Weather ':'Other_Weather'},inplace= True)"
   ]
  },
  {
   "cell_type": "code",
   "execution_count": 21,
   "id": "bbb3fa18",
   "metadata": {},
   "outputs": [],
   "source": [
    "t11 = t1[cols]"
   ]
  },
  {
   "cell_type": "code",
   "execution_count": 22,
   "id": "ae0e9814",
   "metadata": {},
   "outputs": [],
   "source": [
    "t22 = t2[cols]"
   ]
  },
  {
   "cell_type": "code",
   "execution_count": 23,
   "id": "1c3b04e8",
   "metadata": {},
   "outputs": [
    {
     "data": {
      "text/plain": [
       "Index(['GISJOIN', 'STATEFP', 'Shape_Leng', 'COUNT', 'ALCOHOL', 'DRUG',\n",
       "       'ALCOHOL__DRUG', 'NO_INTOXICATION', 'MEDICINAL', 'MARIJUANA',\n",
       "       'BLOWING_SAND_SNOW', 'CLEAR', 'CLOUDY', 'FOG', 'Other_Weather', 'RAIN',\n",
       "       'SEVERE_CROSSWINDS', 'SLEET_HAIL', 'SNOW_Weather', 'UNK_Weather',\n",
       "       'DAYLIGHT', 'DARK_LIGHTED', 'DARK_NOT_LIGHTED', 'DARK_UNKNOWN_LIGHTING',\n",
       "       'DUSK', 'DAWN', 'UNK_LIGHT', 'OTHER_LIGHT', 'CITY_STREET',\n",
       "       'COUNTY_ROAD', 'FARM_TO_MARKET', 'INTERSTATE', 'OTHER_ROADS',\n",
       "       'TOLL_BRIDGES', 'TOLLWAY', 'US_STATE_HIGHWAY', 'DRY', 'ICE',\n",
       "       'OTHER_SURF', 'SAND_MUD_DIRT', 'SLUSH', 'SNOW_SURF', 'STANDING_WATER',\n",
       "       'UNKNOWN_SURF', 'WET', 'SPEEDING', 'INATTENTION', 'LANE_CHANGE',\n",
       "       'TAILGATING', 'VIOLATION', 'UNSAFE_BACKING', 'IMPAIRMENT', 'TURNING',\n",
       "       'TECH_PARK', 'NO_FAULT', 'KNOWN_HUMAN_FACTOR', 'UNKNOWN_HUMAN_FACTOR',\n",
       "       'FATAL', 'MIN_INJURY', 'NO_INJURY', 'POSBL_INJURY', 'UNK_SEVERITY',\n",
       "       'NO_INJ', 'YES_INJ', 'INJ_COUNT_SUM', 'POPN', 'YEAR', 'Shape_Area',\n",
       "       'NAME'],\n",
       "      dtype='object')"
      ]
     },
     "execution_count": 23,
     "metadata": {},
     "output_type": "execute_result"
    }
   ],
   "source": [
    "t22.columns"
   ]
  },
  {
   "cell_type": "code",
   "execution_count": 24,
   "id": "51a5ca5e",
   "metadata": {},
   "outputs": [],
   "source": [
    "t3.columns = t3.columns.str.replace('TEXAS_CopyFeatures_','')"
   ]
  },
  {
   "cell_type": "code",
   "execution_count": 25,
   "id": "7d442148",
   "metadata": {
    "scrolled": true
   },
   "outputs": [],
   "source": [
    "t33 = t3[cols]"
   ]
  },
  {
   "cell_type": "code",
   "execution_count": 26,
   "id": "0912696b",
   "metadata": {},
   "outputs": [
    {
     "data": {
      "text/plain": [
       "array([2019,    0], dtype=int64)"
      ]
     },
     "execution_count": 26,
     "metadata": {},
     "output_type": "execute_result"
    }
   ],
   "source": [
    "t11['YEAR'].unique()"
   ]
  },
  {
   "cell_type": "code",
   "execution_count": 27,
   "id": "ba4b7e2c",
   "metadata": {
    "scrolled": true
   },
   "outputs": [
    {
     "name": "stderr",
     "output_type": "stream",
     "text": [
      "C:\\Users\\karan\\AppData\\Local\\Temp\\ipykernel_25652\\115541228.py:1: SettingWithCopyWarning: \n",
      "A value is trying to be set on a copy of a slice from a DataFrame.\n",
      "Try using .loc[row_indexer,col_indexer] = value instead\n",
      "\n",
      "See the caveats in the documentation: https://pandas.pydata.org/pandas-docs/stable/user_guide/indexing.html#returning-a-view-versus-a-copy\n",
      "  t11['YEAR'] = np.where(t11['YEAR']==0,2019,t11['YEAR'])\n"
     ]
    }
   ],
   "source": [
    "t11['YEAR'] = np.where(t11['YEAR']==0,2019,t11['YEAR'])"
   ]
  },
  {
   "cell_type": "code",
   "execution_count": 28,
   "id": "c471573d",
   "metadata": {},
   "outputs": [
    {
     "name": "stderr",
     "output_type": "stream",
     "text": [
      "C:\\Users\\karan\\AppData\\Local\\Temp\\ipykernel_25652\\329786148.py:1: SettingWithCopyWarning: \n",
      "A value is trying to be set on a copy of a slice from a DataFrame.\n",
      "Try using .loc[row_indexer,col_indexer] = value instead\n",
      "\n",
      "See the caveats in the documentation: https://pandas.pydata.org/pandas-docs/stable/user_guide/indexing.html#returning-a-view-versus-a-copy\n",
      "  t22['YEAR'] = np.where(t22['YEAR']==0,2020,t22['YEAR'])\n"
     ]
    }
   ],
   "source": [
    "t22['YEAR'] = np.where(t22['YEAR']==0,2020,t22['YEAR'])"
   ]
  },
  {
   "cell_type": "code",
   "execution_count": 29,
   "id": "1f7d6986",
   "metadata": {},
   "outputs": [
    {
     "name": "stderr",
     "output_type": "stream",
     "text": [
      "C:\\Users\\karan\\AppData\\Local\\Temp\\ipykernel_25652\\4024975471.py:1: SettingWithCopyWarning: \n",
      "A value is trying to be set on a copy of a slice from a DataFrame.\n",
      "Try using .loc[row_indexer,col_indexer] = value instead\n",
      "\n",
      "See the caveats in the documentation: https://pandas.pydata.org/pandas-docs/stable/user_guide/indexing.html#returning-a-view-versus-a-copy\n",
      "  t33['YEAR'] = np.where(t33['YEAR']==0,2021,t33['YEAR'])\n"
     ]
    }
   ],
   "source": [
    "t33['YEAR'] = np.where(t33['YEAR']==0,2021,t33['YEAR'])"
   ]
  },
  {
   "cell_type": "code",
   "execution_count": null,
   "id": "a199aeef",
   "metadata": {},
   "outputs": [],
   "source": []
  },
  {
   "cell_type": "code",
   "execution_count": 30,
   "id": "62e5670d",
   "metadata": {},
   "outputs": [
    {
     "name": "stderr",
     "output_type": "stream",
     "text": [
      "C:\\Users\\karan\\AppData\\Local\\Temp\\ipykernel_25652\\658547526.py:1: SettingWithCopyWarning: \n",
      "A value is trying to be set on a copy of a slice from a DataFrame.\n",
      "Try using .loc[row_indexer,col_indexer] = value instead\n",
      "\n",
      "See the caveats in the documentation: https://pandas.pydata.org/pandas-docs/stable/user_guide/indexing.html#returning-a-view-versus-a-copy\n",
      "  t11['YEAR_CAT'] = 1\n",
      "C:\\Users\\karan\\AppData\\Local\\Temp\\ipykernel_25652\\658547526.py:2: SettingWithCopyWarning: \n",
      "A value is trying to be set on a copy of a slice from a DataFrame.\n",
      "Try using .loc[row_indexer,col_indexer] = value instead\n",
      "\n",
      "See the caveats in the documentation: https://pandas.pydata.org/pandas-docs/stable/user_guide/indexing.html#returning-a-view-versus-a-copy\n",
      "  t22['YEAR_CAT'] =2\n",
      "C:\\Users\\karan\\AppData\\Local\\Temp\\ipykernel_25652\\658547526.py:3: SettingWithCopyWarning: \n",
      "A value is trying to be set on a copy of a slice from a DataFrame.\n",
      "Try using .loc[row_indexer,col_indexer] = value instead\n",
      "\n",
      "See the caveats in the documentation: https://pandas.pydata.org/pandas-docs/stable/user_guide/indexing.html#returning-a-view-versus-a-copy\n",
      "  t33['YEAR_CAT'] =3\n"
     ]
    }
   ],
   "source": [
    "t11['YEAR_CAT'] = 1\n",
    "t22['YEAR_CAT'] =2\n",
    "t33['YEAR_CAT'] =3"
   ]
  },
  {
   "cell_type": "code",
   "execution_count": 31,
   "id": "61e6d070",
   "metadata": {},
   "outputs": [
    {
     "name": "stderr",
     "output_type": "stream",
     "text": [
      "C:\\Users\\karan\\AppData\\Local\\Temp\\ipykernel_25652\\668016725.py:1: SettingWithCopyWarning: \n",
      "A value is trying to be set on a copy of a slice from a DataFrame.\n",
      "Try using .loc[row_indexer,col_indexer] = value instead\n",
      "\n",
      "See the caveats in the documentation: https://pandas.pydata.org/pandas-docs/stable/user_guide/indexing.html#returning-a-view-versus-a-copy\n",
      "  t11['STATE_CAT'] = 1\n",
      "C:\\Users\\karan\\AppData\\Local\\Temp\\ipykernel_25652\\668016725.py:2: SettingWithCopyWarning: \n",
      "A value is trying to be set on a copy of a slice from a DataFrame.\n",
      "Try using .loc[row_indexer,col_indexer] = value instead\n",
      "\n",
      "See the caveats in the documentation: https://pandas.pydata.org/pandas-docs/stable/user_guide/indexing.html#returning-a-view-versus-a-copy\n",
      "  t22['STATE_CAT'] =1\n",
      "C:\\Users\\karan\\AppData\\Local\\Temp\\ipykernel_25652\\668016725.py:3: SettingWithCopyWarning: \n",
      "A value is trying to be set on a copy of a slice from a DataFrame.\n",
      "Try using .loc[row_indexer,col_indexer] = value instead\n",
      "\n",
      "See the caveats in the documentation: https://pandas.pydata.org/pandas-docs/stable/user_guide/indexing.html#returning-a-view-versus-a-copy\n",
      "  t33['STATE_CAT'] =1\n"
     ]
    }
   ],
   "source": [
    "t11['STATE_CAT'] = 1\n",
    "t22['STATE_CAT'] =1\n",
    "t33['STATE_CAT'] =1"
   ]
  },
  {
   "cell_type": "code",
   "execution_count": null,
   "id": "c1d97f8a",
   "metadata": {},
   "outputs": [],
   "source": []
  },
  {
   "cell_type": "code",
   "execution_count": 32,
   "id": "272fca92",
   "metadata": {},
   "outputs": [],
   "source": [
    "texas = pd.concat([t11,t22,t33],axis=0)\n",
    "texas['STATE'] = 'Texas'"
   ]
  },
  {
   "cell_type": "code",
   "execution_count": 33,
   "id": "108fa0f7",
   "metadata": {},
   "outputs": [
    {
     "data": {
      "text/plain": [
       "(48096, 72)"
      ]
     },
     "execution_count": 33,
     "metadata": {},
     "output_type": "execute_result"
    }
   ],
   "source": [
    "texas.shape"
   ]
  },
  {
   "cell_type": "code",
   "execution_count": 34,
   "id": "52371281",
   "metadata": {},
   "outputs": [],
   "source": [
    "texas.to_csv('texas_metro.csv',index= False)"
   ]
  },
  {
   "cell_type": "code",
   "execution_count": 35,
   "id": "63ebe67c",
   "metadata": {},
   "outputs": [
    {
     "data": {
      "text/plain": [
       "(48096, 72)"
      ]
     },
     "execution_count": 35,
     "metadata": {},
     "output_type": "execute_result"
    }
   ],
   "source": [
    "texas.shape"
   ]
  },
  {
   "cell_type": "code",
   "execution_count": 36,
   "id": "1f1aa389",
   "metadata": {},
   "outputs": [
    {
     "data": {
      "text/plain": [
       "2019    16032\n",
       "2020    16032\n",
       "2021    16032\n",
       "Name: YEAR, dtype: int64"
      ]
     },
     "execution_count": 36,
     "metadata": {},
     "output_type": "execute_result"
    }
   ],
   "source": [
    "texas['YEAR'].value_counts()"
   ]
  },
  {
   "cell_type": "code",
   "execution_count": 37,
   "id": "dfa35230",
   "metadata": {},
   "outputs": [],
   "source": [
    "texas.to_csv('texas_metro.csv',index= False)"
   ]
  },
  {
   "cell_type": "code",
   "execution_count": 38,
   "id": "83235c1b",
   "metadata": {
    "scrolled": true
   },
   "outputs": [],
   "source": [
    "o1 = pd.read_csv('C:/Users/karan/Oklahoma_2019_LSAD.csv')\n",
    "o2 = pd.read_csv('C:/Users/karan/Oklahoma_2020_LSAD.csv')\n",
    "o3 = pd.read_csv('C:/Users/karan/Oklahoma_2021_LSAD.csv')"
   ]
  },
  {
   "cell_type": "code",
   "execution_count": 39,
   "id": "1a19e8be",
   "metadata": {},
   "outputs": [
    {
     "data": {
      "text/plain": [
       "((2196, 48), (2196, 48), (2196, 75))"
      ]
     },
     "execution_count": 39,
     "metadata": {},
     "output_type": "execute_result"
    }
   ],
   "source": [
    "o1.shape, o2.shape, o3.shape"
   ]
  },
  {
   "cell_type": "code",
   "execution_count": 40,
   "id": "4419928e",
   "metadata": {},
   "outputs": [],
   "source": [
    "del o1['Shape_Leng']"
   ]
  },
  {
   "cell_type": "code",
   "execution_count": 41,
   "id": "bf95ecf1",
   "metadata": {},
   "outputs": [
    {
     "data": {
      "text/plain": [
       "Index(['GISJOIN', 'STATEFP', 'COUNTYFP', 'DAYLIGHT', 'DARK_LIGHTED',\n",
       "       'DARK_NOT_LIGHTED', 'DARK_UNKNOWN_LIGHTING', 'DUSK', 'DAWN',\n",
       "       'UNK_LIGHT', 'OTHER_LIGHT', 'POPN', 'CLEAR', 'CLOUDY', 'FOG', 'RAIN',\n",
       "       'SLEET_HAIL', 'OTHER_WEATHER', 'UNK_Weather', 'SNOW_Weather',\n",
       "       'BLOWING_SAND_SNOW', 'SEVERE_CROSSWINDS', 'INTERSTATE',\n",
       "       'US_STATE_HIGHWAY', 'FARM_TO_MARKET', 'COUNTY_ROAD', 'CITY_STREET',\n",
       "       'TOLLWAY', 'OTHER_ROADS', 'TOLL_BRIDGES', 'ALCOHOL', 'DRUG',\n",
       "       'ALCOHOL__DRUG', 'NO_INTOXICATION', 'MEDICINAL', 'MARIJUANA',\n",
       "       'NO_INATTENTION', 'YES_INATTENTION', 'NO_SPD', 'YES_SPD', 'NO_INJ',\n",
       "       'YES_INJ', 'INJ_COUNT_SUM', 'YEAR', 'STATE', 'NAME', 'Shape_Area', '0',\n",
       "       '0.1', '0.2', '0.3', '0.4', '0.5', '0.6', '0.7', '0.8', '0.9', '0.10',\n",
       "       '0.11', '0.12', '0.13', '0.14', '0.15', '0.16', '0.17', '0.18', '0.19',\n",
       "       '0.20', '0.21', '0.22', '0.23', '0.24', '0.25', '0.26', '0.27'],\n",
       "      dtype='object')"
      ]
     },
     "execution_count": 41,
     "metadata": {},
     "output_type": "execute_result"
    }
   ],
   "source": [
    "o3.columns"
   ]
  },
  {
   "cell_type": "code",
   "execution_count": 42,
   "id": "f90d516d",
   "metadata": {},
   "outputs": [
    {
     "data": {
      "text/plain": [
       "array([2019,    0], dtype=int64)"
      ]
     },
     "execution_count": 42,
     "metadata": {},
     "output_type": "execute_result"
    }
   ],
   "source": [
    "o1['YEAR'].unique()"
   ]
  },
  {
   "cell_type": "code",
   "execution_count": 43,
   "id": "f78dc037",
   "metadata": {},
   "outputs": [],
   "source": [
    "o1['YEAR'] = np.where(o1['YEAR']==0,2019,o1['YEAR'])"
   ]
  },
  {
   "cell_type": "code",
   "execution_count": null,
   "id": "0eb7b1ef",
   "metadata": {},
   "outputs": [],
   "source": []
  },
  {
   "cell_type": "code",
   "execution_count": 44,
   "id": "6e37f113",
   "metadata": {},
   "outputs": [],
   "source": [
    "o3['YEAR'] =np.where(o3['YEAR']==0,2021,o3['YEAR'])"
   ]
  },
  {
   "cell_type": "code",
   "execution_count": 45,
   "id": "f9461f92",
   "metadata": {},
   "outputs": [],
   "source": [
    "o33 = o3[o1.columns]"
   ]
  },
  {
   "cell_type": "code",
   "execution_count": 46,
   "id": "cbbb8021",
   "metadata": {},
   "outputs": [
    {
     "data": {
      "text/plain": [
       "((2196, 47), (2196, 47))"
      ]
     },
     "execution_count": 46,
     "metadata": {},
     "output_type": "execute_result"
    }
   ],
   "source": [
    "o1.shape, o33.shape"
   ]
  },
  {
   "cell_type": "code",
   "execution_count": 47,
   "id": "726bb034",
   "metadata": {},
   "outputs": [],
   "source": [
    "o2.columns= o2.columns.str.replace('Oklahoma_CopyFeatures_1_','')"
   ]
  },
  {
   "cell_type": "code",
   "execution_count": 48,
   "id": "c31f0d3c",
   "metadata": {},
   "outputs": [],
   "source": [
    "o2.rename(columns={'_COUNTY_ROAD':'COUNTY_ROAD'},inplace= True)"
   ]
  },
  {
   "cell_type": "code",
   "execution_count": 49,
   "id": "ce32dd1e",
   "metadata": {},
   "outputs": [
    {
     "data": {
      "text/plain": [
       "Index(['GISJOIN', 'STATEFP', 'COUNTYFP', 'DAYLIGHT', 'DARK_LIGHTED',\n",
       "       'DARK_NOT_LIGHTED', 'DARK_UNKNOWN_LIGHTING', 'DUSK', 'DAWN',\n",
       "       'UNK_LIGHT', 'OTHER_LIGHT', 'POPN', 'CLEAR', 'CLOUDY', 'FOG', 'RAIN',\n",
       "       'SLEET_HAIL', 'OTHER_WEATHER', 'UNK_Weather', 'SNOW_Weather',\n",
       "       'BLOWING_SAND_SNOW', 'SEVERE_CROSSWINDS', 'INTERSTATE',\n",
       "       'US_STATE_HIGHWAY', 'FARM_TO_MARKET', 'COUNTY_ROAD', 'CITY_STREET',\n",
       "       'TOLLWAY', 'OTHER_ROADS', 'TOLL_BRIDGES', 'ALCOHOL', 'DRUG',\n",
       "       'ALCOHOL__DRUG', 'NO_INTOXICATION', 'MEDICINAL', 'MARIJUANA',\n",
       "       'NO_INATTENTION', 'YES_INATTENTION', 'NO_SPD', 'YES_SPD', 'NO_INJ',\n",
       "       'YES_INJ', 'INJ_COUNT_SUM', 'YEAR', 'STATE', 'NAME', 'Shape_Area'],\n",
       "      dtype='object')"
      ]
     },
     "execution_count": 49,
     "metadata": {},
     "output_type": "execute_result"
    }
   ],
   "source": [
    "o33.columns"
   ]
  },
  {
   "cell_type": "code",
   "execution_count": 50,
   "id": "0891ac74",
   "metadata": {},
   "outputs": [],
   "source": [
    "o22 = o2[o33.columns]"
   ]
  },
  {
   "cell_type": "code",
   "execution_count": 51,
   "id": "453f2690",
   "metadata": {},
   "outputs": [
    {
     "data": {
      "text/plain": [
       "array([2020,    0], dtype=int64)"
      ]
     },
     "execution_count": 51,
     "metadata": {},
     "output_type": "execute_result"
    }
   ],
   "source": [
    "o22['YEAR'].unique()"
   ]
  },
  {
   "cell_type": "code",
   "execution_count": 52,
   "id": "1b16e827",
   "metadata": {},
   "outputs": [
    {
     "name": "stderr",
     "output_type": "stream",
     "text": [
      "C:\\Users\\karan\\AppData\\Local\\Temp\\ipykernel_25652\\1525507479.py:1: SettingWithCopyWarning: \n",
      "A value is trying to be set on a copy of a slice from a DataFrame.\n",
      "Try using .loc[row_indexer,col_indexer] = value instead\n",
      "\n",
      "See the caveats in the documentation: https://pandas.pydata.org/pandas-docs/stable/user_guide/indexing.html#returning-a-view-versus-a-copy\n",
      "  o22['YEAR'] = np.where(o22['YEAR']==0,2020,o22['YEAR'])\n"
     ]
    }
   ],
   "source": [
    "o22['YEAR'] = np.where(o22['YEAR']==0,2020,o22['YEAR'])"
   ]
  },
  {
   "cell_type": "code",
   "execution_count": null,
   "id": "342d09f8",
   "metadata": {},
   "outputs": [],
   "source": []
  },
  {
   "cell_type": "code",
   "execution_count": 53,
   "id": "3ad3f0f7",
   "metadata": {},
   "outputs": [
    {
     "data": {
      "text/plain": [
       "((2196, 47), (2196, 47), (2196, 47))"
      ]
     },
     "execution_count": 53,
     "metadata": {},
     "output_type": "execute_result"
    }
   ],
   "source": [
    "o1.shape, o22.shape,o33.shape"
   ]
  },
  {
   "cell_type": "code",
   "execution_count": 54,
   "id": "bbea4aac",
   "metadata": {},
   "outputs": [
    {
     "name": "stderr",
     "output_type": "stream",
     "text": [
      "C:\\Users\\karan\\AppData\\Local\\Temp\\ipykernel_25652\\1681792907.py:3: SettingWithCopyWarning: \n",
      "A value is trying to be set on a copy of a slice from a DataFrame.\n",
      "Try using .loc[row_indexer,col_indexer] = value instead\n",
      "\n",
      "See the caveats in the documentation: https://pandas.pydata.org/pandas-docs/stable/user_guide/indexing.html#returning-a-view-versus-a-copy\n",
      "  o33['STATE_CAT'] =2\n",
      "C:\\Users\\karan\\AppData\\Local\\Temp\\ipykernel_25652\\1681792907.py:7: SettingWithCopyWarning: \n",
      "A value is trying to be set on a copy of a slice from a DataFrame.\n",
      "Try using .loc[row_indexer,col_indexer] = value instead\n",
      "\n",
      "See the caveats in the documentation: https://pandas.pydata.org/pandas-docs/stable/user_guide/indexing.html#returning-a-view-versus-a-copy\n",
      "  o33['YEAR_CAT'] = 3\n"
     ]
    }
   ],
   "source": [
    "o1['STATE_CAT'] = 2\n",
    "o22['STATE_CAT'] = 2\n",
    "o33['STATE_CAT'] =2\n",
    "\n",
    "o1['YEAR_CAT'] =1\n",
    "o22['YEAR_CAT'] = 2\n",
    "o33['YEAR_CAT'] = 3"
   ]
  },
  {
   "cell_type": "code",
   "execution_count": 55,
   "id": "7b916702",
   "metadata": {},
   "outputs": [
    {
     "data": {
      "text/plain": [
       "((2196, 49), (2196, 49), (2196, 49))"
      ]
     },
     "execution_count": 55,
     "metadata": {},
     "output_type": "execute_result"
    }
   ],
   "source": [
    "o1.shape,o22.shape,o33.shape"
   ]
  },
  {
   "cell_type": "code",
   "execution_count": 56,
   "id": "af206bd5",
   "metadata": {},
   "outputs": [],
   "source": [
    "okla = pd.concat([o1,o22,o33],axis=0)\n",
    "okla['STATE'] = okla['STATE'].replace('0', 'Oklahoma')"
   ]
  },
  {
   "cell_type": "code",
   "execution_count": 57,
   "id": "9557eef6",
   "metadata": {},
   "outputs": [
    {
     "data": {
      "text/plain": [
       "array(['Oklahoma'], dtype=object)"
      ]
     },
     "execution_count": 57,
     "metadata": {},
     "output_type": "execute_result"
    }
   ],
   "source": [
    "okla['STATE'].unique()"
   ]
  },
  {
   "cell_type": "code",
   "execution_count": 58,
   "id": "9e0593d3",
   "metadata": {},
   "outputs": [],
   "source": [
    "okla.to_csv('okla_metro.csv',index= False)"
   ]
  },
  {
   "cell_type": "code",
   "execution_count": 59,
   "id": "a3ad54a9",
   "metadata": {},
   "outputs": [
    {
     "data": {
      "text/plain": [
       "((6588, 49), (48096, 72))"
      ]
     },
     "execution_count": 59,
     "metadata": {},
     "output_type": "execute_result"
    }
   ],
   "source": [
    "okla.shape, texas.shape"
   ]
  },
  {
   "cell_type": "code",
   "execution_count": 60,
   "id": "ab8a3d93",
   "metadata": {},
   "outputs": [
    {
     "data": {
      "text/plain": [
       "Index(['GISJOIN', 'STATEFP', 'Shape_Leng', 'COUNT', 'ALCOHOL', 'DRUG',\n",
       "       'ALCOHOL__DRUG', 'NO_INTOXICATION', 'MEDICINAL', 'MARIJUANA',\n",
       "       'BLOWING_SAND_SNOW', 'CLEAR', 'CLOUDY', 'FOG', 'Other_Weather', 'RAIN',\n",
       "       'SEVERE_CROSSWINDS', 'SLEET_HAIL', 'SNOW_Weather', 'UNK_Weather',\n",
       "       'DAYLIGHT', 'DARK_LIGHTED', 'DARK_NOT_LIGHTED', 'DARK_UNKNOWN_LIGHTING',\n",
       "       'DUSK', 'DAWN', 'UNK_LIGHT', 'OTHER_LIGHT', 'CITY_STREET',\n",
       "       'COUNTY_ROAD', 'FARM_TO_MARKET', 'INTERSTATE', 'OTHER_ROADS',\n",
       "       'TOLL_BRIDGES', 'TOLLWAY', 'US_STATE_HIGHWAY', 'DRY', 'ICE',\n",
       "       'OTHER_SURF', 'SAND_MUD_DIRT', 'SLUSH', 'SNOW_SURF', 'STANDING_WATER',\n",
       "       'UNKNOWN_SURF', 'WET', 'SPEEDING', 'INATTENTION', 'LANE_CHANGE',\n",
       "       'TAILGATING', 'VIOLATION', 'UNSAFE_BACKING', 'IMPAIRMENT', 'TURNING',\n",
       "       'TECH_PARK', 'NO_FAULT', 'KNOWN_HUMAN_FACTOR', 'UNKNOWN_HUMAN_FACTOR',\n",
       "       'FATAL', 'MIN_INJURY', 'NO_INJURY', 'POSBL_INJURY', 'UNK_SEVERITY',\n",
       "       'NO_INJ', 'YES_INJ', 'INJ_COUNT_SUM', 'POPN', 'YEAR', 'Shape_Area',\n",
       "       'NAME', 'YEAR_CAT', 'STATE_CAT', 'STATE'],\n",
       "      dtype='object')"
      ]
     },
     "execution_count": 60,
     "metadata": {},
     "output_type": "execute_result"
    }
   ],
   "source": [
    "texas.columns"
   ]
  },
  {
   "cell_type": "code",
   "execution_count": 61,
   "id": "fb7e65bf",
   "metadata": {},
   "outputs": [],
   "source": [
    "del okla['COUNTYFP']"
   ]
  },
  {
   "cell_type": "code",
   "execution_count": null,
   "id": "3c478ea0",
   "metadata": {},
   "outputs": [],
   "source": []
  },
  {
   "cell_type": "code",
   "execution_count": 62,
   "id": "ede9925c",
   "metadata": {},
   "outputs": [
    {
     "data": {
      "text/plain": [
       "Index(['GISJOIN', 'STATEFP', 'Shape_Leng', 'COUNT', 'ALCOHOL', 'DRUG',\n",
       "       'ALCOHOL__DRUG', 'NO_INTOXICATION', 'MEDICINAL', 'MARIJUANA',\n",
       "       'BLOWING_SAND_SNOW', 'CLEAR', 'CLOUDY', 'FOG', 'Other_Weather', 'RAIN',\n",
       "       'SEVERE_CROSSWINDS', 'SLEET_HAIL', 'SNOW_Weather', 'UNK_Weather',\n",
       "       'DAYLIGHT', 'DARK_LIGHTED', 'DARK_NOT_LIGHTED', 'DARK_UNKNOWN_LIGHTING',\n",
       "       'DUSK', 'DAWN', 'UNK_LIGHT', 'OTHER_LIGHT', 'CITY_STREET',\n",
       "       'COUNTY_ROAD', 'FARM_TO_MARKET', 'INTERSTATE', 'OTHER_ROADS',\n",
       "       'TOLL_BRIDGES', 'TOLLWAY', 'US_STATE_HIGHWAY', 'DRY', 'ICE',\n",
       "       'OTHER_SURF', 'SAND_MUD_DIRT', 'SLUSH', 'SNOW_SURF', 'STANDING_WATER',\n",
       "       'UNKNOWN_SURF', 'WET', 'SPEEDING', 'INATTENTION', 'LANE_CHANGE',\n",
       "       'TAILGATING', 'VIOLATION', 'UNSAFE_BACKING', 'IMPAIRMENT', 'TURNING',\n",
       "       'TECH_PARK', 'NO_FAULT', 'KNOWN_HUMAN_FACTOR', 'UNKNOWN_HUMAN_FACTOR',\n",
       "       'FATAL', 'MIN_INJURY', 'NO_INJURY', 'POSBL_INJURY', 'UNK_SEVERITY',\n",
       "       'NO_INJ', 'YES_INJ', 'INJ_COUNT_SUM', 'POPN', 'YEAR', 'Shape_Area',\n",
       "       'NAME', 'YEAR_CAT', 'STATE_CAT', 'STATE'],\n",
       "      dtype='object')"
      ]
     },
     "execution_count": 62,
     "metadata": {},
     "output_type": "execute_result"
    }
   ],
   "source": [
    "texas.columns"
   ]
  },
  {
   "cell_type": "code",
   "execution_count": 63,
   "id": "cc6ea3d2",
   "metadata": {},
   "outputs": [],
   "source": [
    "okla.rename(columns={'OTHER_WEATHER':'Other_Weather'},inplace= True)"
   ]
  },
  {
   "cell_type": "code",
   "execution_count": 64,
   "id": "0e5beb0e",
   "metadata": {},
   "outputs": [],
   "source": [
    "okla.rename(columns={'YES_SPD':'SPEEDING','YES_INATTENTION':'INATTENTION'},inplace= True)"
   ]
  },
  {
   "cell_type": "code",
   "execution_count": 65,
   "id": "6805e7af",
   "metadata": {
    "scrolled": true
   },
   "outputs": [
    {
     "data": {
      "text/plain": [
       "Index(['GISJOIN', 'STATEFP', 'DAYLIGHT', 'DARK_LIGHTED', 'DARK_NOT_LIGHTED',\n",
       "       'DARK_UNKNOWN_LIGHTING', 'DUSK', 'DAWN', 'UNK_LIGHT', 'OTHER_LIGHT',\n",
       "       'POPN', 'CLEAR', 'CLOUDY', 'FOG', 'RAIN', 'SLEET_HAIL', 'Other_Weather',\n",
       "       'UNK_Weather', 'SNOW_Weather', 'BLOWING_SAND_SNOW', 'SEVERE_CROSSWINDS',\n",
       "       'INTERSTATE', 'US_STATE_HIGHWAY', 'FARM_TO_MARKET', 'COUNTY_ROAD',\n",
       "       'CITY_STREET', 'TOLLWAY', 'OTHER_ROADS', 'TOLL_BRIDGES', 'ALCOHOL',\n",
       "       'DRUG', 'ALCOHOL__DRUG', 'NO_INTOXICATION', 'MEDICINAL', 'MARIJUANA',\n",
       "       'NO_INATTENTION', 'INATTENTION', 'NO_SPD', 'SPEEDING', 'NO_INJ',\n",
       "       'YES_INJ', 'INJ_COUNT_SUM', 'YEAR', 'STATE', 'NAME', 'Shape_Area',\n",
       "       'STATE_CAT', 'YEAR_CAT'],\n",
       "      dtype='object')"
      ]
     },
     "execution_count": 65,
     "metadata": {},
     "output_type": "execute_result"
    }
   ],
   "source": [
    "okla.columns"
   ]
  },
  {
   "cell_type": "code",
   "execution_count": 66,
   "id": "989f9bdb",
   "metadata": {},
   "outputs": [],
   "source": [
    "www = ['GISJOIN', 'STATEFP', 'DAYLIGHT', 'DARK_LIGHTED', 'DARK_NOT_LIGHTED',\n",
    "       'DARK_UNKNOWN_LIGHTING', 'DUSK', 'DAWN', 'UNK_LIGHT', 'OTHER_LIGHT',\n",
    "       'POPN', 'CLEAR', 'CLOUDY', 'FOG', 'RAIN', 'SLEET_HAIL', 'Other_Weather',\n",
    "       'UNK_Weather', 'SNOW_Weather', 'BLOWING_SAND_SNOW', 'SEVERE_CROSSWINDS',\n",
    "       'INTERSTATE', 'US_STATE_HIGHWAY', 'FARM_TO_MARKET', 'COUNTY_ROAD',\n",
    "       'CITY_STREET', 'TOLLWAY', 'OTHER_ROADS', 'TOLL_BRIDGES', 'ALCOHOL',\n",
    "       'DRUG', 'ALCOHOL__DRUG', 'NO_INTOXICATION', 'MEDICINAL', 'MARIJUANA',\n",
    "       'INATTENTION',  'SPEEDING', 'NO_INJ',\n",
    "       'YES_INJ', 'INJ_COUNT_SUM', 'YEAR', 'STATE', 'NAME', 'Shape_Area',\n",
    "       'STATE_CAT', 'YEAR_CAT']"
   ]
  },
  {
   "cell_type": "code",
   "execution_count": 67,
   "id": "1cffedb3",
   "metadata": {},
   "outputs": [],
   "source": [
    "tt = texas[www]"
   ]
  },
  {
   "cell_type": "code",
   "execution_count": 68,
   "id": "fdfbc5b9",
   "metadata": {},
   "outputs": [],
   "source": [
    "ok = okla[www]"
   ]
  },
  {
   "cell_type": "code",
   "execution_count": 69,
   "id": "764a9aae",
   "metadata": {},
   "outputs": [],
   "source": [
    "to = pd.concat([tt,ok],axis=0)"
   ]
  },
  {
   "cell_type": "code",
   "execution_count": 70,
   "id": "c4abe5c5",
   "metadata": {},
   "outputs": [
    {
     "data": {
      "text/plain": [
       "0"
      ]
     },
     "execution_count": 70,
     "metadata": {},
     "output_type": "execute_result"
    }
   ],
   "source": [
    "to.isna().sum().sum()"
   ]
  },
  {
   "cell_type": "code",
   "execution_count": 71,
   "id": "53420cc2",
   "metadata": {},
   "outputs": [],
   "source": [
    "txokla = to"
   ]
  },
  {
   "cell_type": "code",
   "execution_count": 72,
   "id": "152c3b08",
   "metadata": {},
   "outputs": [
    {
     "data": {
      "text/html": [
       "<div>\n",
       "<style scoped>\n",
       "    .dataframe tbody tr th:only-of-type {\n",
       "        vertical-align: middle;\n",
       "    }\n",
       "\n",
       "    .dataframe tbody tr th {\n",
       "        vertical-align: top;\n",
       "    }\n",
       "\n",
       "    .dataframe thead th {\n",
       "        text-align: right;\n",
       "    }\n",
       "</style>\n",
       "<table border=\"1\" class=\"dataframe\">\n",
       "  <thead>\n",
       "    <tr style=\"text-align: right;\">\n",
       "      <th></th>\n",
       "      <th>GISJOIN</th>\n",
       "      <th>STATEFP</th>\n",
       "      <th>DAYLIGHT</th>\n",
       "      <th>DARK_LIGHTED</th>\n",
       "      <th>DARK_NOT_LIGHTED</th>\n",
       "      <th>DARK_UNKNOWN_LIGHTING</th>\n",
       "      <th>DUSK</th>\n",
       "      <th>DAWN</th>\n",
       "      <th>UNK_LIGHT</th>\n",
       "      <th>OTHER_LIGHT</th>\n",
       "      <th>...</th>\n",
       "      <th>SPEEDING</th>\n",
       "      <th>NO_INJ</th>\n",
       "      <th>YES_INJ</th>\n",
       "      <th>INJ_COUNT_SUM</th>\n",
       "      <th>YEAR</th>\n",
       "      <th>STATE</th>\n",
       "      <th>NAME</th>\n",
       "      <th>Shape_Area</th>\n",
       "      <th>STATE_CAT</th>\n",
       "      <th>YEAR_CAT</th>\n",
       "    </tr>\n",
       "  </thead>\n",
       "  <tbody>\n",
       "    <tr>\n",
       "      <th>0</th>\n",
       "      <td>G48000900201001</td>\n",
       "      <td>48</td>\n",
       "      <td>50.000000</td>\n",
       "      <td>0.000000</td>\n",
       "      <td>50.000000</td>\n",
       "      <td>0.0</td>\n",
       "      <td>0.0</td>\n",
       "      <td>0.000000</td>\n",
       "      <td>0.0</td>\n",
       "      <td>0.0</td>\n",
       "      <td>...</td>\n",
       "      <td>0.000000</td>\n",
       "      <td>100.000000</td>\n",
       "      <td>0.000000</td>\n",
       "      <td>0</td>\n",
       "      <td>2019</td>\n",
       "      <td>Texas</td>\n",
       "      <td>Wichita Falls, TX</td>\n",
       "      <td>1.666707e+07</td>\n",
       "      <td>1</td>\n",
       "      <td>1</td>\n",
       "    </tr>\n",
       "    <tr>\n",
       "      <th>1</th>\n",
       "      <td>G48000900201002</td>\n",
       "      <td>48</td>\n",
       "      <td>59.259259</td>\n",
       "      <td>0.000000</td>\n",
       "      <td>40.740741</td>\n",
       "      <td>0.0</td>\n",
       "      <td>0.0</td>\n",
       "      <td>0.000000</td>\n",
       "      <td>0.0</td>\n",
       "      <td>0.0</td>\n",
       "      <td>...</td>\n",
       "      <td>3.703704</td>\n",
       "      <td>55.555556</td>\n",
       "      <td>44.444444</td>\n",
       "      <td>13</td>\n",
       "      <td>2019</td>\n",
       "      <td>Texas</td>\n",
       "      <td>Wichita Falls, TX</td>\n",
       "      <td>1.667774e+08</td>\n",
       "      <td>1</td>\n",
       "      <td>1</td>\n",
       "    </tr>\n",
       "    <tr>\n",
       "      <th>2</th>\n",
       "      <td>G48000900202001</td>\n",
       "      <td>48</td>\n",
       "      <td>51.515152</td>\n",
       "      <td>6.060606</td>\n",
       "      <td>30.303030</td>\n",
       "      <td>0.0</td>\n",
       "      <td>0.0</td>\n",
       "      <td>12.121212</td>\n",
       "      <td>0.0</td>\n",
       "      <td>0.0</td>\n",
       "      <td>...</td>\n",
       "      <td>3.030303</td>\n",
       "      <td>66.666667</td>\n",
       "      <td>33.333333</td>\n",
       "      <td>15</td>\n",
       "      <td>2019</td>\n",
       "      <td>Texas</td>\n",
       "      <td>Wichita Falls, TX</td>\n",
       "      <td>1.316214e+09</td>\n",
       "      <td>1</td>\n",
       "      <td>1</td>\n",
       "    </tr>\n",
       "    <tr>\n",
       "      <th>3</th>\n",
       "      <td>G48000900202002</td>\n",
       "      <td>48</td>\n",
       "      <td>0.000000</td>\n",
       "      <td>0.000000</td>\n",
       "      <td>100.000000</td>\n",
       "      <td>0.0</td>\n",
       "      <td>0.0</td>\n",
       "      <td>0.000000</td>\n",
       "      <td>0.0</td>\n",
       "      <td>0.0</td>\n",
       "      <td>...</td>\n",
       "      <td>50.000000</td>\n",
       "      <td>50.000000</td>\n",
       "      <td>50.000000</td>\n",
       "      <td>2</td>\n",
       "      <td>2019</td>\n",
       "      <td>Texas</td>\n",
       "      <td>Wichita Falls, TX</td>\n",
       "      <td>2.697749e+07</td>\n",
       "      <td>1</td>\n",
       "      <td>1</td>\n",
       "    </tr>\n",
       "    <tr>\n",
       "      <th>4</th>\n",
       "      <td>G48000900202003</td>\n",
       "      <td>48</td>\n",
       "      <td>66.666667</td>\n",
       "      <td>0.000000</td>\n",
       "      <td>33.333333</td>\n",
       "      <td>0.0</td>\n",
       "      <td>0.0</td>\n",
       "      <td>0.000000</td>\n",
       "      <td>0.0</td>\n",
       "      <td>0.0</td>\n",
       "      <td>...</td>\n",
       "      <td>0.000000</td>\n",
       "      <td>66.666667</td>\n",
       "      <td>33.333333</td>\n",
       "      <td>1</td>\n",
       "      <td>2019</td>\n",
       "      <td>Texas</td>\n",
       "      <td>Wichita Falls, TX</td>\n",
       "      <td>1.621930e+07</td>\n",
       "      <td>1</td>\n",
       "      <td>1</td>\n",
       "    </tr>\n",
       "    <tr>\n",
       "      <th>...</th>\n",
       "      <td>...</td>\n",
       "      <td>...</td>\n",
       "      <td>...</td>\n",
       "      <td>...</td>\n",
       "      <td>...</td>\n",
       "      <td>...</td>\n",
       "      <td>...</td>\n",
       "      <td>...</td>\n",
       "      <td>...</td>\n",
       "      <td>...</td>\n",
       "      <td>...</td>\n",
       "      <td>...</td>\n",
       "      <td>...</td>\n",
       "      <td>...</td>\n",
       "      <td>...</td>\n",
       "      <td>...</td>\n",
       "      <td>...</td>\n",
       "      <td>...</td>\n",
       "      <td>...</td>\n",
       "      <td>...</td>\n",
       "      <td>...</td>\n",
       "    </tr>\n",
       "    <tr>\n",
       "      <th>2191</th>\n",
       "      <td>G40014500307981</td>\n",
       "      <td>40</td>\n",
       "      <td>0.000000</td>\n",
       "      <td>0.000000</td>\n",
       "      <td>0.000000</td>\n",
       "      <td>0.0</td>\n",
       "      <td>0.0</td>\n",
       "      <td>0.000000</td>\n",
       "      <td>0.0</td>\n",
       "      <td>0.0</td>\n",
       "      <td>...</td>\n",
       "      <td>0.000000</td>\n",
       "      <td>0.000000</td>\n",
       "      <td>0.000000</td>\n",
       "      <td>0</td>\n",
       "      <td>2021</td>\n",
       "      <td>Oklahoma</td>\n",
       "      <td>Tulsa, OK</td>\n",
       "      <td>1.704119e+08</td>\n",
       "      <td>2</td>\n",
       "      <td>3</td>\n",
       "    </tr>\n",
       "    <tr>\n",
       "      <th>2192</th>\n",
       "      <td>G40014500307982</td>\n",
       "      <td>40</td>\n",
       "      <td>0.000000</td>\n",
       "      <td>0.000000</td>\n",
       "      <td>0.000000</td>\n",
       "      <td>0.0</td>\n",
       "      <td>0.0</td>\n",
       "      <td>0.000000</td>\n",
       "      <td>0.0</td>\n",
       "      <td>0.0</td>\n",
       "      <td>...</td>\n",
       "      <td>0.000000</td>\n",
       "      <td>0.000000</td>\n",
       "      <td>0.000000</td>\n",
       "      <td>0</td>\n",
       "      <td>2021</td>\n",
       "      <td>Oklahoma</td>\n",
       "      <td>Tulsa, OK</td>\n",
       "      <td>8.900419e+06</td>\n",
       "      <td>2</td>\n",
       "      <td>3</td>\n",
       "    </tr>\n",
       "    <tr>\n",
       "      <th>2193</th>\n",
       "      <td>G40014500307983</td>\n",
       "      <td>40</td>\n",
       "      <td>0.000000</td>\n",
       "      <td>0.000000</td>\n",
       "      <td>0.000000</td>\n",
       "      <td>0.0</td>\n",
       "      <td>0.0</td>\n",
       "      <td>0.000000</td>\n",
       "      <td>0.0</td>\n",
       "      <td>0.0</td>\n",
       "      <td>...</td>\n",
       "      <td>0.000000</td>\n",
       "      <td>0.000000</td>\n",
       "      <td>0.000000</td>\n",
       "      <td>0</td>\n",
       "      <td>2021</td>\n",
       "      <td>Oklahoma</td>\n",
       "      <td>Tulsa, OK</td>\n",
       "      <td>1.398283e+08</td>\n",
       "      <td>2</td>\n",
       "      <td>3</td>\n",
       "    </tr>\n",
       "    <tr>\n",
       "      <th>2194</th>\n",
       "      <td>G40014500308001</td>\n",
       "      <td>40</td>\n",
       "      <td>0.000000</td>\n",
       "      <td>0.000000</td>\n",
       "      <td>0.000000</td>\n",
       "      <td>0.0</td>\n",
       "      <td>0.0</td>\n",
       "      <td>0.000000</td>\n",
       "      <td>0.0</td>\n",
       "      <td>0.0</td>\n",
       "      <td>...</td>\n",
       "      <td>0.000000</td>\n",
       "      <td>0.000000</td>\n",
       "      <td>0.000000</td>\n",
       "      <td>0</td>\n",
       "      <td>2021</td>\n",
       "      <td>Oklahoma</td>\n",
       "      <td>Tulsa, OK</td>\n",
       "      <td>1.538469e+08</td>\n",
       "      <td>2</td>\n",
       "      <td>3</td>\n",
       "    </tr>\n",
       "    <tr>\n",
       "      <th>2195</th>\n",
       "      <td>G40014500308002</td>\n",
       "      <td>40</td>\n",
       "      <td>0.000000</td>\n",
       "      <td>0.000000</td>\n",
       "      <td>0.000000</td>\n",
       "      <td>0.0</td>\n",
       "      <td>0.0</td>\n",
       "      <td>0.000000</td>\n",
       "      <td>0.0</td>\n",
       "      <td>0.0</td>\n",
       "      <td>...</td>\n",
       "      <td>0.000000</td>\n",
       "      <td>0.000000</td>\n",
       "      <td>0.000000</td>\n",
       "      <td>0</td>\n",
       "      <td>2021</td>\n",
       "      <td>Oklahoma</td>\n",
       "      <td>Tulsa, OK</td>\n",
       "      <td>6.596828e+07</td>\n",
       "      <td>2</td>\n",
       "      <td>3</td>\n",
       "    </tr>\n",
       "  </tbody>\n",
       "</table>\n",
       "<p>54684 rows × 46 columns</p>\n",
       "</div>"
      ],
      "text/plain": [
       "              GISJOIN  STATEFP   DAYLIGHT  DARK_LIGHTED  DARK_NOT_LIGHTED  \\\n",
       "0     G48000900201001       48  50.000000      0.000000         50.000000   \n",
       "1     G48000900201002       48  59.259259      0.000000         40.740741   \n",
       "2     G48000900202001       48  51.515152      6.060606         30.303030   \n",
       "3     G48000900202002       48   0.000000      0.000000        100.000000   \n",
       "4     G48000900202003       48  66.666667      0.000000         33.333333   \n",
       "...               ...      ...        ...           ...               ...   \n",
       "2191  G40014500307981       40   0.000000      0.000000          0.000000   \n",
       "2192  G40014500307982       40   0.000000      0.000000          0.000000   \n",
       "2193  G40014500307983       40   0.000000      0.000000          0.000000   \n",
       "2194  G40014500308001       40   0.000000      0.000000          0.000000   \n",
       "2195  G40014500308002       40   0.000000      0.000000          0.000000   \n",
       "\n",
       "      DARK_UNKNOWN_LIGHTING  DUSK       DAWN  UNK_LIGHT  OTHER_LIGHT  ...  \\\n",
       "0                       0.0   0.0   0.000000        0.0          0.0  ...   \n",
       "1                       0.0   0.0   0.000000        0.0          0.0  ...   \n",
       "2                       0.0   0.0  12.121212        0.0          0.0  ...   \n",
       "3                       0.0   0.0   0.000000        0.0          0.0  ...   \n",
       "4                       0.0   0.0   0.000000        0.0          0.0  ...   \n",
       "...                     ...   ...        ...        ...          ...  ...   \n",
       "2191                    0.0   0.0   0.000000        0.0          0.0  ...   \n",
       "2192                    0.0   0.0   0.000000        0.0          0.0  ...   \n",
       "2193                    0.0   0.0   0.000000        0.0          0.0  ...   \n",
       "2194                    0.0   0.0   0.000000        0.0          0.0  ...   \n",
       "2195                    0.0   0.0   0.000000        0.0          0.0  ...   \n",
       "\n",
       "       SPEEDING      NO_INJ    YES_INJ  INJ_COUNT_SUM  YEAR     STATE  \\\n",
       "0      0.000000  100.000000   0.000000              0  2019     Texas   \n",
       "1      3.703704   55.555556  44.444444             13  2019     Texas   \n",
       "2      3.030303   66.666667  33.333333             15  2019     Texas   \n",
       "3     50.000000   50.000000  50.000000              2  2019     Texas   \n",
       "4      0.000000   66.666667  33.333333              1  2019     Texas   \n",
       "...         ...         ...        ...            ...   ...       ...   \n",
       "2191   0.000000    0.000000   0.000000              0  2021  Oklahoma   \n",
       "2192   0.000000    0.000000   0.000000              0  2021  Oklahoma   \n",
       "2193   0.000000    0.000000   0.000000              0  2021  Oklahoma   \n",
       "2194   0.000000    0.000000   0.000000              0  2021  Oklahoma   \n",
       "2195   0.000000    0.000000   0.000000              0  2021  Oklahoma   \n",
       "\n",
       "                   NAME    Shape_Area  STATE_CAT  YEAR_CAT  \n",
       "0     Wichita Falls, TX  1.666707e+07          1         1  \n",
       "1     Wichita Falls, TX  1.667774e+08          1         1  \n",
       "2     Wichita Falls, TX  1.316214e+09          1         1  \n",
       "3     Wichita Falls, TX  2.697749e+07          1         1  \n",
       "4     Wichita Falls, TX  1.621930e+07          1         1  \n",
       "...                 ...           ...        ...       ...  \n",
       "2191          Tulsa, OK  1.704119e+08          2         3  \n",
       "2192          Tulsa, OK  8.900419e+06          2         3  \n",
       "2193          Tulsa, OK  1.398283e+08          2         3  \n",
       "2194          Tulsa, OK  1.538469e+08          2         3  \n",
       "2195          Tulsa, OK  6.596828e+07          2         3  \n",
       "\n",
       "[54684 rows x 46 columns]"
      ]
     },
     "execution_count": 72,
     "metadata": {},
     "output_type": "execute_result"
    }
   ],
   "source": [
    "txokla"
   ]
  },
  {
   "cell_type": "code",
   "execution_count": 73,
   "id": "e02f664e",
   "metadata": {},
   "outputs": [],
   "source": [
    "c2 = pd.read_csv('C:/Users/karan/Colorado_2020_LSAD.csv')\n",
    "c3 = pd.read_csv('C:/Users/karan/Colorado_2021_LSAD.csv')"
   ]
  },
  {
   "cell_type": "code",
   "execution_count": 74,
   "id": "d1395610",
   "metadata": {},
   "outputs": [],
   "source": [
    "c1 = pd.read_csv('C:/Users/karan/colo_2019_LSAD (1).csv')"
   ]
  },
  {
   "cell_type": "code",
   "execution_count": 75,
   "id": "e17fb0d8",
   "metadata": {},
   "outputs": [
    {
     "data": {
      "text/plain": [
       "GISJOIN                          0\n",
       "STATEFP                          0\n",
       "POPN                             0\n",
       "DATE                             0\n",
       "INTOXICATION                     0\n",
       "colorado_19_1_csv_COUNTY_FIPS    0\n",
       "COUNTY                           0\n",
       "YEAR                             0\n",
       "INJURY_COUNT                     0\n",
       "INJURY_OUTCOME                   0\n",
       "BLOWING_SAND_SNOW_COUNT          0\n",
       "CLEAR_COUNT                      0\n",
       "CLOUDY_COUNT                     0\n",
       "FOG_COUNT                        0\n",
       "OTHER_WEATHER_COUNT              0\n",
       "RAIN_COUNT                       0\n",
       "SEVERE_CROSSWINDS                0\n",
       "SLEET_HAIL                       0\n",
       "SNOW_WEATHER                     0\n",
       "DARK_LIGHTED                     0\n",
       "DARK_NOT_LIGHTED                 0\n",
       "DAWN                             0\n",
       "DAYLIGHT                         0\n",
       "DUSK                             0\n",
       "UNKNOWN_LIGHT                    0\n",
       "DARK_UNKNOWN_LIGHTING            0\n",
       "OTHER_LIGHT                      0\n",
       "CITY_STREET                      0\n",
       "COUNTY_ROAD                      0\n",
       "INTERSTATE                       0\n",
       "OTHER_ROADS                      0\n",
       "US_STATE_HIGHWAY                 0\n",
       "IMPAIRMENT                       0\n",
       "INATTENTION                      0\n",
       "KNOWN_HUMAN_FACTOR               0\n",
       "LANE_CHNG                        0\n",
       "NO_FAULT                         0\n",
       "SPEEDING                         0\n",
       "TAILGATING                       0\n",
       "TECH_PARK                        0\n",
       "TURNING                          0\n",
       "UNKNOWN_HUMAN_FACTOR             0\n",
       "UNSAFE_BACKING                   0\n",
       "VIOLATION                        0\n",
       "INJURY_COUNT_SUM                 0\n",
       "NO_INJURY_OUTCOME                0\n",
       "YES_INJURY_OUTCOME               0\n",
       "NAME                             0\n",
       "Shape_Area                       0\n",
       "dtype: int64"
      ]
     },
     "execution_count": 75,
     "metadata": {},
     "output_type": "execute_result"
    }
   ],
   "source": [
    "c1.isna().sum()"
   ]
  },
  {
   "cell_type": "code",
   "execution_count": 76,
   "id": "ab82be68",
   "metadata": {},
   "outputs": [
    {
     "data": {
      "text/plain": [
       "0"
      ]
     },
     "execution_count": 76,
     "metadata": {},
     "output_type": "execute_result"
    }
   ],
   "source": [
    "c2.isna().sum().sum()"
   ]
  },
  {
   "cell_type": "code",
   "execution_count": 77,
   "id": "de8b4de1",
   "metadata": {},
   "outputs": [
    {
     "data": {
      "text/plain": [
       "0"
      ]
     },
     "execution_count": 77,
     "metadata": {},
     "output_type": "execute_result"
    }
   ],
   "source": [
    "c3.isna().sum().sum()"
   ]
  },
  {
   "cell_type": "code",
   "execution_count": 78,
   "id": "98fad0b0",
   "metadata": {},
   "outputs": [
    {
     "data": {
      "text/plain": [
       "((3455, 49), (3455, 101), (3455, 48))"
      ]
     },
     "execution_count": 78,
     "metadata": {},
     "output_type": "execute_result"
    }
   ],
   "source": [
    "c1.shape, c2.shape, c3.shape"
   ]
  },
  {
   "cell_type": "code",
   "execution_count": 79,
   "id": "0fec79b2",
   "metadata": {},
   "outputs": [
    {
     "data": {
      "text/plain": [
       "Index(['GISJOIN', 'STATEFP', 'POPN', 'DATE', 'INTOXICATION',\n",
       "       'colorado_19_1_csv_COUNTY_FIPS', 'COUNTY', 'YEAR', 'INJURY_COUNT',\n",
       "       'INJURY_OUTCOME', 'BLOWING_SAND_SNOW_COUNT', 'CLEAR_COUNT',\n",
       "       'CLOUDY_COUNT', 'FOG_COUNT', 'OTHER_WEATHER_COUNT', 'RAIN_COUNT',\n",
       "       'SEVERE_CROSSWINDS', 'SLEET_HAIL', 'SNOW_WEATHER', 'DARK_LIGHTED',\n",
       "       'DARK_NOT_LIGHTED', 'DAWN', 'DAYLIGHT', 'DUSK', 'UNKNOWN_LIGHT',\n",
       "       'DARK_UNKNOWN_LIGHTING', 'OTHER_LIGHT', 'CITY_STREET', 'COUNTY_ROAD',\n",
       "       'INTERSTATE', 'OTHER_ROADS', 'US_STATE_HIGHWAY', 'IMPAIRMENT',\n",
       "       'INATTENTION', 'KNOWN_HUMAN_FACTOR', 'LANE_CHNG', 'NO_FAULT',\n",
       "       'SPEEDING', 'TAILGATING', 'TECH_PARK', 'TURNING',\n",
       "       'UNKNOWN_HUMAN_FACTOR', 'UNSAFE_BACKING', 'VIOLATION',\n",
       "       'INJURY_COUNT_SUM', 'NO_INJURY_OUTCOME', 'YES_INJURY_OUTCOME', 'NAME',\n",
       "       'Shape_Area'],\n",
       "      dtype='object')"
      ]
     },
     "execution_count": 79,
     "metadata": {},
     "output_type": "execute_result"
    }
   ],
   "source": [
    "c1.columns"
   ]
  },
  {
   "cell_type": "code",
   "execution_count": 80,
   "id": "43cf7f10",
   "metadata": {},
   "outputs": [],
   "source": [
    "c2.drop(columns=['0.43', '0.44', '0.45', '0.46', '0.47', '0.48', '0.49', '0.50', '0.51',\n",
    "       '0.52'],inplace= True)"
   ]
  },
  {
   "cell_type": "code",
   "execution_count": 81,
   "id": "ad1c14f8",
   "metadata": {},
   "outputs": [],
   "source": [
    "c2.drop(columns=['0', '0.1', '0.2', '0.3', '0.4', '0.5', '0.6', '0.7',\n",
    "       '0.8', '0.9', '0.10', '0.11', '0.12', '0.13', '0.14', '0.15', '0.16',\n",
    "       '0.17', '0.18', '0.19', '0.20', '0.21', '0.22', '0.23', '0.24', '0.25',\n",
    "       '0.26', '0.27', '0.28', '0.29', '0.30', '0.31', '0.32', '0.33', '0.34',\n",
    "       '0.35', '0.36', '0.37', '0.38', '0.39', '0.40', '0.41', '0.42'],inplace= True)"
   ]
  },
  {
   "cell_type": "code",
   "execution_count": 82,
   "id": "e04c0567",
   "metadata": {},
   "outputs": [
    {
     "data": {
      "text/plain": [
       "Index(['GISJOIN', 'STATEFP', 'POPN', 'INTOXICATION',\n",
       "       'colorado_20_1_csv_COUNTY_FIPS', 'COUNTY', 'YEAR', 'INJURY_COUNT',\n",
       "       'INJURY_OUTCOME', 'BLOWING_SAND_SNOW_COUNT', 'CLEAR_COUNT',\n",
       "       'CLOUDY_COUNT', 'FOG_COUNT', 'OTHER_WEATHER_COUNT', 'RAIN_COUNT',\n",
       "       'SEVERE_CROSSWINDS_COUNT', 'SLEET_HAIL_COUNT', 'SNOW_WEATHER_COUNT',\n",
       "       'DARK_LIGHTED', 'DARK_NOT_LIGHTED', 'DAWN', 'DAYLIGHT', 'DUSK',\n",
       "       'UNKNOWN_LIGHT', 'DARK_UNKNOWN_LIGHTING', 'OTHER_LIGHT', 'CITY_STREET',\n",
       "       'COUNTY_ROAD', 'INTERSTATE', 'OTHER_ROADS', 'US_STATE_HIGHWAY',\n",
       "       'IMPAIRMENT', 'INATTENTION', 'KNOWN_HUMAN_FACTOR', 'LANE_CHNG',\n",
       "       'NO_FAULT', 'SPEEDING', 'TAILGATING', 'TECH_PARK', 'TURNING',\n",
       "       'UNKNOWN_HUMAN_FACTOR', 'UNSAFE_BACKING', 'VIOLATION',\n",
       "       'INJURY_COUNT_SUM', 'NO_INJURY_OUTCOME', 'YES_INJURY_OUTCOME', 'NAME',\n",
       "       'Shape_Area'],\n",
       "      dtype='object')"
      ]
     },
     "execution_count": 82,
     "metadata": {},
     "output_type": "execute_result"
    }
   ],
   "source": [
    "c2.columns"
   ]
  },
  {
   "cell_type": "code",
   "execution_count": 83,
   "id": "b5b0e174",
   "metadata": {},
   "outputs": [
    {
     "data": {
      "text/plain": [
       "Index(['GISJOIN', 'STATEFP', 'POPN', 'DATE', 'INTOXICATION',\n",
       "       'colorado_19_1_csv_COUNTY_FIPS', 'COUNTY', 'YEAR', 'INJURY_COUNT',\n",
       "       'INJURY_OUTCOME', 'BLOWING_SAND_SNOW_COUNT', 'CLEAR_COUNT',\n",
       "       'CLOUDY_COUNT', 'FOG_COUNT', 'OTHER_WEATHER_COUNT', 'RAIN_COUNT',\n",
       "       'SEVERE_CROSSWINDS', 'SLEET_HAIL', 'SNOW_WEATHER', 'DARK_LIGHTED',\n",
       "       'DARK_NOT_LIGHTED', 'DAWN', 'DAYLIGHT', 'DUSK', 'UNKNOWN_LIGHT',\n",
       "       'DARK_UNKNOWN_LIGHTING', 'OTHER_LIGHT', 'CITY_STREET', 'COUNTY_ROAD',\n",
       "       'INTERSTATE', 'OTHER_ROADS', 'US_STATE_HIGHWAY', 'IMPAIRMENT',\n",
       "       'INATTENTION', 'KNOWN_HUMAN_FACTOR', 'LANE_CHNG', 'NO_FAULT',\n",
       "       'SPEEDING', 'TAILGATING', 'TECH_PARK', 'TURNING',\n",
       "       'UNKNOWN_HUMAN_FACTOR', 'UNSAFE_BACKING', 'VIOLATION',\n",
       "       'INJURY_COUNT_SUM', 'NO_INJURY_OUTCOME', 'YES_INJURY_OUTCOME', 'NAME',\n",
       "       'Shape_Area'],\n",
       "      dtype='object')"
      ]
     },
     "execution_count": 83,
     "metadata": {},
     "output_type": "execute_result"
    }
   ],
   "source": [
    "c1.columns"
   ]
  },
  {
   "cell_type": "code",
   "execution_count": 84,
   "id": "f4985145",
   "metadata": {},
   "outputs": [],
   "source": [
    "c1['INTOXICATION'] = c1['INTOXICATION'].fillna(4)"
   ]
  },
  {
   "cell_type": "code",
   "execution_count": 85,
   "id": "26c957fd",
   "metadata": {},
   "outputs": [],
   "source": [
    "c1['INTOXICATION'] = c1['INTOXICATION'].astype(int)"
   ]
  },
  {
   "cell_type": "code",
   "execution_count": 86,
   "id": "560bbabd",
   "metadata": {},
   "outputs": [
    {
     "data": {
      "text/plain": [
       "array([4, 2, 1, 0, 5, 3])"
      ]
     },
     "execution_count": 86,
     "metadata": {},
     "output_type": "execute_result"
    }
   ],
   "source": [
    "c1['INTOXICATION'].unique()"
   ]
  },
  {
   "cell_type": "code",
   "execution_count": 87,
   "id": "3330f76a",
   "metadata": {},
   "outputs": [
    {
     "data": {
      "text/plain": [
       "array([4, 1, 5, 0, 3], dtype=int64)"
      ]
     },
     "execution_count": 87,
     "metadata": {},
     "output_type": "execute_result"
    }
   ],
   "source": [
    "c2['INTOXICATION'].unique()"
   ]
  },
  {
   "cell_type": "code",
   "execution_count": 88,
   "id": "becb250a",
   "metadata": {},
   "outputs": [
    {
     "data": {
      "text/plain": [
       "array([4, 1, 0, 6], dtype=int64)"
      ]
     },
     "execution_count": 88,
     "metadata": {},
     "output_type": "execute_result"
    }
   ],
   "source": [
    "c3['INTOXICATION'].unique()"
   ]
  },
  {
   "cell_type": "code",
   "execution_count": 89,
   "id": "31f300ca",
   "metadata": {},
   "outputs": [],
   "source": [
    "c1.rename(columns={'NO_INJURY_OUTCOME':'NO_INJURY','YES_INJURY_OUTCOME':'YES_INJURY'},inplace= True)"
   ]
  },
  {
   "cell_type": "code",
   "execution_count": 90,
   "id": "0b63db7d",
   "metadata": {},
   "outputs": [],
   "source": [
    "c2.rename(columns={'NO_INJURY_OUTCOME':'NO_INJURY','YES_INJURY_OUTCOME':'YES_INJURY'},inplace= True)"
   ]
  },
  {
   "cell_type": "code",
   "execution_count": 91,
   "id": "233a652d",
   "metadata": {},
   "outputs": [
    {
     "data": {
      "text/plain": [
       "Index(['Colorado_CopyFeatures2_GISJOIN', 'STATEFP', 'POPN', 'INTOXICATION',\n",
       "       'COUNTY_FIPS', 'COUNTY', 'YEAR', 'INJURY_COUNT', 'INJURY_OUTCOME',\n",
       "       'BLOWING_SAND_SNOW_COUNT', 'CLEAR_COUNT', 'CLOUDY_COUNT', 'FOG_COUNT',\n",
       "       'OTHER_WEATHER_COUNT', 'RAIN_COUNT', 'SEVERE_CROSSWINDS_COUNT',\n",
       "       'SLEET_HAIL_COUNT', 'SNOW_WEATHER_COUNT', 'DARK_LIGHTED',\n",
       "       'DARK_NOT_LIGHTED', 'DAWN', 'DAYLIGHT', 'DUSK', 'UNKNOWN_LIGHT',\n",
       "       'DARK_UNKNOWN_LIGHTING', 'OTHER_LIGHT', 'CITY_STREET', 'COUNTY_ROAD',\n",
       "       'INTERSTATE', 'OTHER_ROADS', 'US_STATE_HIGHWAY', 'IMPAIRMENT',\n",
       "       'INATTENTION', 'KNOWN_HUMAN_FACTOR', 'LANE_CHNG', 'NO_FAULT',\n",
       "       'SPEEDING', 'TAILGATING', 'TECH_PARK_', 'TURNING',\n",
       "       'UNKNOWN_HUMAN_FACTOR', 'UNSAFE_BACKING', 'VIOLATION',\n",
       "       'INJURY_COUNT_SUM', 'NO_INJURY', 'YES_INJURY', 'NAME', 'Shape_Area'],\n",
       "      dtype='object')"
      ]
     },
     "execution_count": 91,
     "metadata": {},
     "output_type": "execute_result"
    }
   ],
   "source": [
    "c3.columns"
   ]
  },
  {
   "cell_type": "code",
   "execution_count": 92,
   "id": "c6e0d3ee",
   "metadata": {},
   "outputs": [],
   "source": [
    "c3.columns = c3.columns.str.replace('Colorado_CopyFeatures2_','')"
   ]
  },
  {
   "cell_type": "code",
   "execution_count": 93,
   "id": "a5fb31c7",
   "metadata": {},
   "outputs": [],
   "source": [
    "intoxication_mapping = {\n",
    "    1: 'ALCOHOL',\n",
    "    2: 'DRUG',\n",
    "    3: 'ALCOHOL, DRUG',\n",
    "    4: 'NO INTOXICATION',\n",
    "    5: 'MEDICINAL',\n",
    "    6: 'MARIJUANA'\n",
    "}\n",
    "\n",
    "\n",
    "\n",
    "def process_intoxication_data(df, mapping):\n",
    "    # Map the intoxication codes to descriptive names\n",
    "    df['INTOXICATION_DESC'] = df['INTOXICATION'].map(mapping).astype(str)\n",
    "    \n",
    "    all_categories = list(mapping.values())\n",
    "    \n",
    "    # Group by COUNTY and INTOXICATION_DESC, then count occurrences\n",
    "    grouped = df.groupby(['GISJOIN', 'INTOXICATION_DESC']).size().unstack(fill_value=0)\n",
    "    grouped = grouped.reindex(columns=all_categories, fill_value=0)\n",
    "    \n",
    "    # Calculate total counts by county to normalize the data\n",
    "    total_counts_by_county = grouped.sum(axis=1)\n",
    "    \n",
    "    # Calculate percentages\n",
    "    intoxication_percentages_df = (grouped.div(total_counts_by_county, axis=0) * 100).fillna(0)\n",
    "    intoxication_percentages_df = intoxication_percentages_df.reset_index()\n",
    "    \n",
    "    return intoxication_percentages_df\n",
    "\n",
    "# Process each year's data\n",
    "intoxication_df_2019 = process_intoxication_data(c1, intoxication_mapping)\n",
    "intoxication_df_2020 = process_intoxication_data(c2, intoxication_mapping)\n",
    "intoxication_df_2021 = process_intoxication_data(c3, intoxication_mapping)\n",
    "\n"
   ]
  },
  {
   "cell_type": "code",
   "execution_count": 94,
   "id": "ecf9ae6d",
   "metadata": {},
   "outputs": [
    {
     "data": {
      "text/plain": [
       "((3455, 7), (3455, 7), (3455, 7))"
      ]
     },
     "execution_count": 94,
     "metadata": {},
     "output_type": "execute_result"
    }
   ],
   "source": [
    "intoxication_df_2019.shape, intoxication_df_2020.shape, intoxication_df_2021.shape"
   ]
  },
  {
   "cell_type": "code",
   "execution_count": 95,
   "id": "709ce29c",
   "metadata": {},
   "outputs": [],
   "source": [
    "c1 = pd.merge(c1,intoxication_df_2019,on=['GISJOIN'],how='left')\n",
    "c2 = pd.merge(c2,intoxication_df_2020,on=['GISJOIN'],how='left')\n",
    "c3 = pd.merge(c3,intoxication_df_2021,on=['GISJOIN'],how='left')"
   ]
  },
  {
   "cell_type": "code",
   "execution_count": 96,
   "id": "1a446662",
   "metadata": {},
   "outputs": [
    {
     "data": {
      "text/plain": [
       "array([2019,    0], dtype=int64)"
      ]
     },
     "execution_count": 96,
     "metadata": {},
     "output_type": "execute_result"
    }
   ],
   "source": [
    "c1['YEAR'].unique()"
   ]
  },
  {
   "cell_type": "code",
   "execution_count": 97,
   "id": "03a84348",
   "metadata": {},
   "outputs": [],
   "source": [
    "c1['YEAR'] = np.where(c1['YEAR']==0,2019,c1['YEAR'])"
   ]
  },
  {
   "cell_type": "code",
   "execution_count": 98,
   "id": "a8f82a2a",
   "metadata": {},
   "outputs": [],
   "source": [
    "c2['YEAR'] = np.where(c2['YEAR']==0,2020,c2['YEAR'])"
   ]
  },
  {
   "cell_type": "code",
   "execution_count": 99,
   "id": "fef88cfa",
   "metadata": {},
   "outputs": [],
   "source": [
    "c3['YEAR'] = np.where(c3['YEAR']==0,2021,c3['YEAR'])"
   ]
  },
  {
   "cell_type": "code",
   "execution_count": null,
   "id": "ee785f61",
   "metadata": {},
   "outputs": [],
   "source": []
  },
  {
   "cell_type": "code",
   "execution_count": 100,
   "id": "ebed3246",
   "metadata": {},
   "outputs": [
    {
     "data": {
      "text/plain": [
       "Index(['GISJOIN', 'STATEFP', 'POPN', 'DATE', 'INTOXICATION',\n",
       "       'colorado_19_1_csv_COUNTY_FIPS', 'COUNTY', 'YEAR', 'INJURY_COUNT',\n",
       "       'INJURY_OUTCOME', 'BLOWING_SAND_SNOW_COUNT', 'CLEAR_COUNT',\n",
       "       'CLOUDY_COUNT', 'FOG_COUNT', 'OTHER_WEATHER_COUNT', 'RAIN_COUNT',\n",
       "       'SEVERE_CROSSWINDS', 'SLEET_HAIL', 'SNOW_WEATHER', 'DARK_LIGHTED',\n",
       "       'DARK_NOT_LIGHTED', 'DAWN', 'DAYLIGHT', 'DUSK', 'UNKNOWN_LIGHT',\n",
       "       'DARK_UNKNOWN_LIGHTING', 'OTHER_LIGHT', 'CITY_STREET', 'COUNTY_ROAD',\n",
       "       'INTERSTATE', 'OTHER_ROADS', 'US_STATE_HIGHWAY', 'IMPAIRMENT',\n",
       "       'INATTENTION', 'KNOWN_HUMAN_FACTOR', 'LANE_CHNG', 'NO_FAULT',\n",
       "       'SPEEDING', 'TAILGATING', 'TECH_PARK', 'TURNING',\n",
       "       'UNKNOWN_HUMAN_FACTOR', 'UNSAFE_BACKING', 'VIOLATION',\n",
       "       'INJURY_COUNT_SUM', 'NO_INJURY', 'YES_INJURY', 'NAME', 'Shape_Area',\n",
       "       'INTOXICATION_DESC', 'ALCOHOL', 'DRUG', 'ALCOHOL, DRUG',\n",
       "       'NO INTOXICATION', 'MEDICINAL', 'MARIJUANA'],\n",
       "      dtype='object')"
      ]
     },
     "execution_count": 100,
     "metadata": {},
     "output_type": "execute_result"
    }
   ],
   "source": [
    "c1.columns"
   ]
  },
  {
   "cell_type": "code",
   "execution_count": 101,
   "id": "8ed70626",
   "metadata": {},
   "outputs": [],
   "source": [
    "colo19 = pd.read_csv('C:/Users/karan/colo_2019.csv')\n",
    "colo20 = pd.read_csv('C:/Users/karan/colo_2020.csv')\n",
    "colo21 = pd.read_csv('C:/Users/karan/col_2021.csv')"
   ]
  },
  {
   "cell_type": "code",
   "execution_count": 102,
   "id": "5db2b989",
   "metadata": {},
   "outputs": [
    {
     "data": {
      "text/plain": [
       "0"
      ]
     },
     "execution_count": 102,
     "metadata": {},
     "output_type": "execute_result"
    }
   ],
   "source": [
    "colo19.isna().sum().sum()"
   ]
  },
  {
   "cell_type": "code",
   "execution_count": 103,
   "id": "f895d4a9",
   "metadata": {},
   "outputs": [
    {
     "data": {
      "text/plain": [
       "0"
      ]
     },
     "execution_count": 103,
     "metadata": {},
     "output_type": "execute_result"
    }
   ],
   "source": [
    "colo20.isna().sum().sum()"
   ]
  },
  {
   "cell_type": "code",
   "execution_count": 104,
   "id": "87d0a6fc",
   "metadata": {
    "scrolled": true
   },
   "outputs": [
    {
     "data": {
      "text/plain": [
       "0"
      ]
     },
     "execution_count": 104,
     "metadata": {},
     "output_type": "execute_result"
    }
   ],
   "source": [
    "colo21.isna().sum().sum()"
   ]
  },
  {
   "cell_type": "code",
   "execution_count": 105,
   "id": "d13538a2",
   "metadata": {},
   "outputs": [
    {
     "name": "stdout",
     "output_type": "stream",
     "text": [
      "FID_Colorado_CopyFeatures_csv\n",
      "Colorado_CopyFeatures_GISJOIN\n",
      "Colorado_CopyFeatures_STATEFP\n",
      "Colorado_CopyFeatures_COUNTYFP\n",
      "Colorado_CopyFeatures_TRACTCE\n",
      "Colorado_CopyFeatures_BLKGRPCE\n",
      "Colorado_CopyFeatures_GEOID\n",
      "Colorado_CopyFeatures_NAMELSAD\n",
      "Colorado_CopyFeatures_MTFCC\n",
      "Colorado_CopyFeatures_FUNCSTAT\n",
      "Colorado_CopyFeatures_ALAND\n",
      "Colorado_CopyFeatures_AWATER\n",
      "Colorado_CopyFeatures_INTPTLAT\n",
      "Colorado_CopyFeatures_INTPTLON\n",
      "Colorado_CopyFeatures_Shape_Leng\n",
      "colorado_19_1_csv_GISJOIN\n",
      "colorado_19_1_csv_STATEFP\n",
      "colorado_19_1_csv_TRACTCE\n",
      "colorado_19_1_csv_Colorado_Population_csv_AMPVE001\n",
      "colorado_19_1_csv_BUFFER\n",
      "colorado_19_1_csv_ROAD_CLASS\n",
      "colorado_19_1_csv_DATE\n",
      "colorado_19_1_csv_INTERSECTION\n",
      "colorado_19_1_csv_CONTOUR\n",
      "colorado_19_1_csv_SURFACE\n",
      "colorado_19_1_csv_LIGHTING\n",
      "colorado_19_1_csv_WEATHER\n",
      "colorado_19_1_csv_HUMAN_FACTOR\n",
      "colorado_19_1_csv_INTOXICATION\n",
      "colorado_19_1_csv_AGE\n",
      "colorado_19_1_csv_GENDER\n",
      "colorado_19_1_csv_COUNTY_FIPS\n",
      "colorado_19_1_csv_COUNTY\n",
      "colorado_19_1_csv_LATITUDE\n",
      "colorado_19_1_csv_LONGITUDE\n",
      "colorado_19_1_csv_YEAR\n",
      "colorado_19_1_csv_INJURY_COUNT\n",
      "colorado_19_1_csv_INJURY_OUTCOME\n",
      "colorado_19_1_csv_Crash_ID\n",
      "colorado_19_1_csv_BUFF_DIST\n",
      "colorado_19_1_csv_ORIG_FID\n",
      "colorado_19_1_csv_Shape_Length\n",
      "colorado_19_1_csv_Shape_Area\n",
      "colorado_19_1_csv_WEATHER_DESC\n",
      "colorado_19_1_csv_BLOWING_SAND_SNOW_COUNT\n",
      "colorado_19_1_csv_CLEAR_COUNT\n",
      "colorado_19_1_csv_CLOUDY_COUNT\n",
      "colorado_19_1_csv_FOG_COUNT\n",
      "colorado_19_1_csv_OTHER_WEATHER_COUNT\n",
      "colorado_19_1_csv_RAIN_COUNT\n",
      "colorado_19_1_csv_SEVERE_CROSSWINDS_COUNT\n",
      "colorado_19_1_csv_SLEET_HAIL_COUNT\n",
      "colorado_19_1_csv_SNOW_WEATHER_COUNT\n",
      "colorado_19_1_csv_LIGHTING_DESC\n",
      "colorado_19_1_csv_DARK_LIGHTED_PERCENTAGE\n",
      "colorado_19_1_csv_DARK_NOT_LIGHTED_PERCENTAGE\n",
      "colorado_19_1_csv_DAWN_PERCENTAGE\n",
      "colorado_19_1_csv_DAYLIGHT_PERCENTAGE\n",
      "colorado_19_1_csv_DUSK_PERCENTAGE\n",
      "colorado_19_1_csv_UNKNOWN_LIGHT_PERCENTAGE\n",
      "colorado_19_1_csv_DARK_UNKNOWN_LIGHTING_PERCENTAGE\n",
      "colorado_19_1_csv_OTHER_LIGHT_PERCENTAGE\n",
      "colorado_19_1_csv_SURFACE_DESC\n",
      "colorado_19_1_csv_DIRT_PERCENTAGE\n",
      "colorado_19_1_csv_DRY_PERCENTAGE\n",
      "colorado_19_1_csv_ICE_PERCENTAGE\n",
      "colorado_19_1_csv_SLUSH_PERCENTAGE\n",
      "colorado_19_1_csv_SNOW_SURF_PERCENTAGE\n",
      "colorado_19_1_csv_UNKNOWN_SURF_PERCENTAGE\n",
      "colorado_19_1_csv_WET_PERCENTAGE\n",
      "colorado_19_1_csv_STANDING_WATER_PERCENTAGE\n",
      "colorado_19_1_csv_OTHER_SURF_PERCENTAGE\n",
      "colorado_19_1_csv_INTERSECTION_DESC\n",
      "colorado_19_1_csv_NO_INTERSECTION_PERCENTAGE\n",
      "colorado_19_1_csv_YES_INTERSECTION_PERCENTAGE\n",
      "colorado_19_1_csv_ROAD_CLASS_DESC\n",
      "colorado_19_1_csv_CITY_STREET_PERCENTAGE\n",
      "colorado_19_1_csv_COUNTY_ROAD_PERCENTAGE\n",
      "colorado_19_1_csv_INTERSTATE_PERCENTAGE\n",
      "colorado_19_1_csv_OTHER_ROADS_PERCENTAGE\n",
      "colorado_19_1_csv_US___STATE_HIGHWAY_PERCENTAGE\n",
      "colorado_19_1_csv_HUMAN_FACTOR_DESC\n",
      "colorado_19_1_csv_IMPAIRMENT_PERCENTAGE\n",
      "colorado_19_1_csv_INATTENTION_PERCENTAGE\n",
      "colorado_19_1_csv_KNOWN_HUMAN_FACTOR_PERCENTAGE\n",
      "colorado_19_1_csv_LANE_CHNG_PERCENTAGE\n",
      "colorado_19_1_csv_NO_FAULT_PERCENTAGE\n",
      "colorado_19_1_csv_SPEEDING_PERCENTAGE\n",
      "colorado_19_1_csv_TAILGATING_PERCENTAGE\n",
      "colorado_19_1_csv_TECH_PARK_PERCENTAGE\n",
      "colorado_19_1_csv_TURNING_PERCENTAGE\n",
      "colorado_19_1_csv_UNKNOWN_HUMAN_FACTOR_PERCENTAGE\n",
      "colorado_19_1_csv_UNSAFE_BACKING_PERCENTAGE\n",
      "colorado_19_1_csv_VIOLATION_PERCENTAGE\n",
      "colorado_19_1_csv_AGE_BAND\n",
      "colorado_19_1_csv_AGE_1_21_PERCENTAGE\n",
      "colorado_19_1_csv_AGE_22_30_PERCENTAGE\n",
      "colorado_19_1_csv_AGE_31_65_PERCENTAGE\n",
      "colorado_19_1_csv_AGE_66_and_above_PERCENTAGE\n",
      "colorado_19_1_csv_AGE_100_and_above_PERCENTAGE\n",
      "colorado_19_1_csv_Unknown_Age_PERCENTAGE\n",
      "colorado_19_1_csv_GENDER_DESC\n",
      "colorado_19_1_csv_FEMALE_PERCENTAGE\n",
      "colorado_19_1_csv_MALE_PERCENTAGE\n",
      "colorado_19_1_csv_UNKNOWN_GENDER_PERCENTAGE\n",
      "colorado_19_1_csv_INJURY_COUNT_SUM\n",
      "colorado_19_1_csv_INJURY_OUTCOME_DESC\n",
      "colorado_19_1_csv_NO_INJURY_OUTCOME\n",
      "colorado_19_1_csv_YES_INJURY_OUTCOME\n",
      "FID_LSAD_Metropolitan\n",
      "GISJOIN\n",
      "CSAFP\n",
      "CBSAFP\n",
      "GEOID\n",
      "NAME\n",
      "NAMELSAD\n",
      "LSAD\n",
      "MEMI\n",
      "MTFCC\n",
      "ALAND\n",
      "AWATER\n",
      "INTPTLAT\n",
      "INTPTLON\n",
      "Shape_Leng\n",
      "Shape_Length\n",
      "Shape_Area\n"
     ]
    }
   ],
   "source": [
    "for i in colo19.columns:\n",
    "    print(i)"
   ]
  },
  {
   "cell_type": "code",
   "execution_count": 106,
   "id": "d517ef82",
   "metadata": {},
   "outputs": [],
   "source": [
    "del colo19['colorado_19_1_csv_GISJOIN']"
   ]
  },
  {
   "cell_type": "code",
   "execution_count": 107,
   "id": "97ff6a36",
   "metadata": {},
   "outputs": [],
   "source": [
    "del colo19['GISJOIN']"
   ]
  },
  {
   "cell_type": "code",
   "execution_count": 108,
   "id": "7f08a0f8",
   "metadata": {},
   "outputs": [],
   "source": [
    "colo19.columns = colo19.columns.str.replace('colorado_19_1_csv_','')"
   ]
  },
  {
   "cell_type": "code",
   "execution_count": 109,
   "id": "f2a9b813",
   "metadata": {},
   "outputs": [],
   "source": [
    "colo19.columns = colo19.columns.str.replace('Colorado_CopyFeatures_','')"
   ]
  },
  {
   "cell_type": "code",
   "execution_count": 110,
   "id": "b8d5a586",
   "metadata": {},
   "outputs": [
    {
     "name": "stdout",
     "output_type": "stream",
     "text": [
      "FID_Colorado_CopyFeatures1_csv\n",
      "Colorado_CopyFeatures1_GISJOIN\n",
      "Colorado_CopyFeatures1_STATEFP\n",
      "Colorado_CopyFeatures1_COUNTYFP\n",
      "Colorado_CopyFeatures1_TRACTCE\n",
      "Colorado_CopyFeatures1_BLKGRPCE\n",
      "Colorado_CopyFeatures1_GEOID\n",
      "Colorado_CopyFeatures1_NAMELSAD\n",
      "Colorado_CopyFeatures1_MTFCC\n",
      "Colorado_CopyFeatures1_FUNCSTAT\n",
      "Colorado_CopyFeatures1_ALAND\n",
      "Colorado_CopyFeatures1_AWATER\n",
      "Colorado_CopyFeatures1_INTPTLAT\n",
      "Colorado_CopyFeatures1_INTPTLON\n",
      "Colorado_CopyFeatures1_Shape_Leng\n",
      "colorado_20_1_csv_GISJOIN\n",
      "colorado_20_1_csv_STATEFP\n",
      "colorado_20_1_csv_TRACTCE\n",
      "colorado_20_1_csv_Colorado_Population_csv_AMPVE001\n",
      "colorado_20_1_csv_BUFFER\n",
      "colorado_20_1_csv_ROAD_CLASS\n",
      "colorado_20_1_csv_DATE\n",
      "colorado_20_1_csv_INTERSECTION\n",
      "colorado_20_1_csv_CONTOUR\n",
      "colorado_20_1_csv_SURFACE\n",
      "colorado_20_1_csv_LIGHTING\n",
      "colorado_20_1_csv_WEATHER\n",
      "colorado_20_1_csv_HUMAN_FACTOR\n",
      "colorado_20_1_csv_INTOXICATION\n",
      "colorado_20_1_csv_AGE\n",
      "colorado_20_1_csv_GENDER\n",
      "colorado_20_1_csv_COUNTY_FIPS\n",
      "colorado_20_1_csv_COUNTY\n",
      "colorado_20_1_csv_LATITUDE\n",
      "colorado_20_1_csv_LONGITUDE\n",
      "colorado_20_1_csv_YEAR\n",
      "colorado_20_1_csv_INJURY_COUNT\n",
      "colorado_20_1_csv_INJURY_OUTCOME\n",
      "colorado_20_1_csv_Crash_ID\n",
      "colorado_20_1_csv_BUFF_DIST\n",
      "colorado_20_1_csv_ORIG_FID\n",
      "colorado_20_1_csv_Shape_Length\n",
      "colorado_20_1_csv_Shape_Area\n",
      "colorado_20_1_csv_WEATHER_DESC\n",
      "colorado_20_1_csv_BLOWING_SAND_SNOW_COUNT\n",
      "colorado_20_1_csv_CLEAR_COUNT\n",
      "colorado_20_1_csv_CLOUDY_COUNT\n",
      "colorado_20_1_csv_FOG_COUNT\n",
      "colorado_20_1_csv_OTHER_WEATHER_COUNT\n",
      "colorado_20_1_csv_RAIN_COUNT\n",
      "colorado_20_1_csv_SEVERE_CROSSWINDS_COUNT\n",
      "colorado_20_1_csv_SLEET_HAIL_COUNT\n",
      "colorado_20_1_csv_SNOW_WEATHER_COUNT\n",
      "colorado_20_1_csv_LIGHTING_DESC\n",
      "colorado_20_1_csv_DARK_LIGHTED_PERCENTAGE\n",
      "colorado_20_1_csv_DARK_NOT_LIGHTED_PERCENTAGE\n",
      "colorado_20_1_csv_DAWN_PERCENTAGE\n",
      "colorado_20_1_csv_DAYLIGHT_PERCENTAGE\n",
      "colorado_20_1_csv_DUSK_PERCENTAGE\n",
      "colorado_20_1_csv_UNKNOWN_LIGHT_PERCENTAGE\n",
      "colorado_20_1_csv_DARK_UNKNOWN_LIGHTING_PERCENTAGE\n",
      "colorado_20_1_csv_OTHER_LIGHT_PERCENTAGE\n",
      "colorado_20_1_csv_SURFACE_DESC\n",
      "colorado_20_1_csv_DIRT_PERCENTAGE\n",
      "colorado_20_1_csv_DRY_PERCENTAGE\n",
      "colorado_20_1_csv_ICE_PERCENTAGE\n",
      "colorado_20_1_csv_SLUSH_PERCENTAGE\n",
      "colorado_20_1_csv_SNOW_SURF_PERCENTAGE\n",
      "colorado_20_1_csv_UNKNOWN_SURF_PERCENTAGE\n",
      "colorado_20_1_csv_WET_PERCENTAGE\n",
      "colorado_20_1_csv_STANDING_WATER_PERCENTAGE\n",
      "colorado_20_1_csv_OTHER_SURF_PERCENTAGE\n",
      "colorado_20_1_csv_INTERSECTION_DESC\n",
      "colorado_20_1_csv_NO_INTERSECTION_PERCENTAGE\n",
      "colorado_20_1_csv_YES_INTERSECTION_PERCENTAGE\n",
      "colorado_20_1_csv_ROAD_CLASS_DESC\n",
      "colorado_20_1_csv_CITY_STREET_PERCENTAGE\n",
      "colorado_20_1_csv_COUNTY_ROAD_PERCENTAGE\n",
      "colorado_20_1_csv_INTERSTATE_PERCENTAGE\n",
      "colorado_20_1_csv_OTHER_ROADS_PERCENTAGE\n",
      "colorado_20_1_csv_US___STATE_HIGHWAY_PERCENTAGE\n",
      "colorado_20_1_csv_HUMAN_FACTOR_DESC\n",
      "colorado_20_1_csv_IMPAIRMENT_PERCENTAGE\n",
      "colorado_20_1_csv_INATTENTION_PERCENTAGE\n",
      "colorado_20_1_csv_KNOWN_HUMAN_FACTOR_PERCENTAGE\n",
      "colorado_20_1_csv_LANE_CHNG_PERCENTAGE\n",
      "colorado_20_1_csv_NO_FAULT_PERCENTAGE\n",
      "colorado_20_1_csv_SPEEDING_PERCENTAGE\n",
      "colorado_20_1_csv_TAILGATING_PERCENTAGE\n",
      "colorado_20_1_csv_TECH_PARK_PERCENTAGE\n",
      "colorado_20_1_csv_TURNING_PERCENTAGE\n",
      "colorado_20_1_csv_UNKNOWN_HUMAN_FACTOR_PERCENTAGE\n",
      "colorado_20_1_csv_UNSAFE_BACKING_PERCENTAGE\n",
      "colorado_20_1_csv_VIOLATION_PERCENTAGE\n",
      "colorado_20_1_csv_AGE_BAND\n",
      "colorado_20_1_csv_AGE_1_21_PERCENTAGE\n",
      "colorado_20_1_csv_AGE_22_30_PERCENTAGE\n",
      "colorado_20_1_csv_AGE_31_65_PERCENTAGE\n",
      "colorado_20_1_csv_AGE_66_and_above_PERCENTAGE\n",
      "colorado_20_1_csv_AGE_100_and_above_PERCENTAGE\n",
      "colorado_20_1_csv_Unknown_Age_PERCENTAGE\n",
      "colorado_20_1_csv_GENDER_DESC\n",
      "colorado_20_1_csv_FEMALE_PERCENTAGE\n",
      "colorado_20_1_csv_MALE_PERCENTAGE\n",
      "colorado_20_1_csv_UNKNOWN_GENDER_PERCENTAGE\n",
      "colorado_20_1_csv_INJURY_COUNT_SUM\n",
      "colorado_20_1_csv_INJURY_OUTCOME_DESC\n",
      "colorado_20_1_csv_NO_INJURY_OUTCOME\n",
      "colorado_20_1_csv_YES_INJURY_OUTCOME\n",
      "FID_LSAD_Metropolitan\n",
      "GISJOIN\n",
      "CSAFP\n",
      "CBSAFP\n",
      "GEOID\n",
      "NAME\n",
      "NAMELSAD\n",
      "LSAD\n",
      "MEMI\n",
      "MTFCC\n",
      "ALAND\n",
      "AWATER\n",
      "INTPTLAT\n",
      "INTPTLON\n",
      "Shape_Leng\n",
      "Shape_Length\n",
      "Shape_Area\n"
     ]
    }
   ],
   "source": [
    "for i in colo20.columns:\n",
    "    print(i)"
   ]
  },
  {
   "cell_type": "code",
   "execution_count": 111,
   "id": "9d13d9b3",
   "metadata": {},
   "outputs": [],
   "source": [
    "del colo20['colorado_20_1_csv_GISJOIN']"
   ]
  },
  {
   "cell_type": "code",
   "execution_count": 112,
   "id": "ac7f3908",
   "metadata": {},
   "outputs": [],
   "source": [
    "del colo20['GISJOIN']"
   ]
  },
  {
   "cell_type": "code",
   "execution_count": 113,
   "id": "ff6a8d1f",
   "metadata": {},
   "outputs": [],
   "source": [
    "colo20.columns = colo20.columns.str.replace('Colorado_CopyFeatures1_','')"
   ]
  },
  {
   "cell_type": "code",
   "execution_count": 114,
   "id": "69aacae9",
   "metadata": {},
   "outputs": [],
   "source": [
    "colo20.columns = colo20.columns.str.replace('_COUNT','')"
   ]
  },
  {
   "cell_type": "code",
   "execution_count": 115,
   "id": "11805a02",
   "metadata": {},
   "outputs": [],
   "source": [
    "colo20.columns= colo20.columns.str.replace('colorado_20_1_csv_','')"
   ]
  },
  {
   "cell_type": "code",
   "execution_count": 116,
   "id": "bc7c4e0b",
   "metadata": {},
   "outputs": [
    {
     "name": "stdout",
     "output_type": "stream",
     "text": [
      "FID_Colorado_CopyFeatures2_csv\n",
      "Colorado_CopyFeatures2_GISJOIN\n",
      "Colorado_CopyFeatures2_STATEFP\n",
      "Colorado_CopyFeatures2_COUNTYFP\n",
      "Colorado_CopyFeatures2_TRACTCE\n",
      "Colorado_CopyFeatures2_BLKGRPCE\n",
      "Colorado_CopyFeatures2_GEOID\n",
      "Colorado_CopyFeatures2_NAMELSAD\n",
      "Colorado_CopyFeatures2_MTFCC\n",
      "Colorado_CopyFeatures2_FUNCSTAT\n",
      "Colorado_CopyFeatures2_ALAND\n",
      "Colorado_CopyFeatures2_AWATER\n",
      "Colorado_CopyFeatures2_INTPTLAT\n",
      "Colorado_CopyFeatures2_INTPTLON\n",
      "Colorado_CopyFeatures2_Shape_Leng\n",
      "colorado_21_1_csv_GISJOIN\n",
      "colorado_21_1_csv_STATEFP\n",
      "colorado_21_1_csv_TRACTCE\n",
      "colorado_21_1_csv_Colorado_Population_csv_AMPVE001\n",
      "colorado_21_1_csv_BUFFER\n",
      "colorado_21_1_csv_ROAD_CLASS\n",
      "colorado_21_1_csv_DATE\n",
      "colorado_21_1_csv_INTERSECTION\n",
      "colorado_21_1_csv_CONTOUR\n",
      "colorado_21_1_csv_SURFACE\n",
      "colorado_21_1_csv_LIGHTING\n",
      "colorado_21_1_csv_WEATHER\n",
      "colorado_21_1_csv_HUMAN_FACTOR\n",
      "colorado_21_1_csv_INTOXICATION\n",
      "colorado_21_1_csv_AGE\n",
      "colorado_21_1_csv_GENDER\n",
      "colorado_21_1_csv_COUNTY_FIPS\n",
      "colorado_21_1_csv_COUNTY\n",
      "colorado_21_1_csv_LATITUDE\n",
      "colorado_21_1_csv_LONGITUDE\n",
      "colorado_21_1_csv_YEAR\n",
      "colorado_21_1_csv_INJURY_COUNT\n",
      "colorado_21_1_csv_INJURY_OUTCOME\n",
      "colorado_21_1_csv_Crash_ID\n",
      "colorado_21_1_csv_BUFF_DIST\n",
      "colorado_21_1_csv_ORIG_FID\n",
      "colorado_21_1_csv_Shape_Length\n",
      "colorado_21_1_csv_Shape_Area\n",
      "colorado_21_1_csv_WEATHER_DESC\n",
      "colorado_21_1_csv_BLOWING_SAND_SNOW_COUNT\n",
      "colorado_21_1_csv_CLEAR_COUNT\n",
      "colorado_21_1_csv_CLOUDY_COUNT\n",
      "colorado_21_1_csv_FOG_COUNT\n",
      "colorado_21_1_csv_OTHER_WEATHER_COUNT\n",
      "colorado_21_1_csv_RAIN_COUNT\n",
      "colorado_21_1_csv_SEVERE_CROSSWINDS_COUNT\n",
      "colorado_21_1_csv_SLEET_HAIL_COUNT\n",
      "colorado_21_1_csv_SNOW_WEATHER_COUNT\n",
      "colorado_21_1_csv_LIGHTING_DESC\n",
      "colorado_21_1_csv_DARK_LIGHTED_PERCENTAGE\n",
      "colorado_21_1_csv_DARK_NOT_LIGHTED_PERCENTAGE\n",
      "colorado_21_1_csv_DAWN_PERCENTAGE\n",
      "colorado_21_1_csv_DAYLIGHT_PERCENTAGE\n",
      "colorado_21_1_csv_DUSK_PERCENTAGE\n",
      "colorado_21_1_csv_UNKNOWN_LIGHT_PERCENTAGE\n",
      "colorado_21_1_csv_DARK_UNKNOWN_LIGHTING_PERCENTAGE\n",
      "colorado_21_1_csv_OTHER_LIGHT_PERCENTAGE\n",
      "colorado_21_1_csv_SURFACE_DESC\n",
      "colorado_21_1_csv_DIRT_PERCENTAGE\n",
      "colorado_21_1_csv_DRY_PERCENTAGE\n",
      "colorado_21_1_csv_ICE_PERCENTAGE\n",
      "colorado_21_1_csv_SLUSH_PERCENTAGE\n",
      "colorado_21_1_csv_SNOW_SURF_PERCENTAGE\n",
      "colorado_21_1_csv_UNKNOWN_SURF_PERCENTAGE\n",
      "colorado_21_1_csv_WET_PERCENTAGE\n",
      "colorado_21_1_csv_STANDING_WATER_PERCENTAGE\n",
      "colorado_21_1_csv_OTHER_SURF_PERCENTAGE\n",
      "colorado_21_1_csv_INTERSECTION_DESC\n",
      "colorado_21_1_csv_NO_INTERSECTION_PERCENTAGE\n",
      "colorado_21_1_csv_YES_INTERSECTION_PERCENTAGE\n",
      "colorado_21_1_csv_ROAD_CLASS_DESC\n",
      "colorado_21_1_csv_CITY_STREET_PERCENTAGE\n",
      "colorado_21_1_csv_COUNTY_ROAD_PERCENTAGE\n",
      "colorado_21_1_csv_INTERSTATE_PERCENTAGE\n",
      "colorado_21_1_csv_OTHER_ROADS_PERCENTAGE\n",
      "colorado_21_1_csv_US___STATE_HIGHWAY_PERCENTAGE\n",
      "colorado_21_1_csv_HUMAN_FACTOR_DESC\n",
      "colorado_21_1_csv_IMPAIRMENT_PERCENTAGE\n",
      "colorado_21_1_csv_INATTENTION_PERCENTAGE\n",
      "colorado_21_1_csv_KNOWN_HUMAN_FACTOR_PERCENTAGE\n",
      "colorado_21_1_csv_LANE_CHNG_PERCENTAGE\n",
      "colorado_21_1_csv_NO_FAULT_PERCENTAGE\n",
      "colorado_21_1_csv_SPEEDING_PERCENTAGE\n",
      "colorado_21_1_csv_TAILGATING_PERCENTAGE\n",
      "colorado_21_1_csv_TECH_PARK_PERCENTAGE\n",
      "colorado_21_1_csv_TURNING_PERCENTAGE\n",
      "colorado_21_1_csv_UNKNOWN_HUMAN_FACTOR_PERCENTAGE\n",
      "colorado_21_1_csv_UNSAFE_BACKING_PERCENTAGE\n",
      "colorado_21_1_csv_VIOLATION_PERCENTAGE\n",
      "colorado_21_1_csv_AGE_BAND\n",
      "colorado_21_1_csv_AGE_1_21_PERCENTAGE\n",
      "colorado_21_1_csv_AGE_22_30_PERCENTAGE\n",
      "colorado_21_1_csv_AGE_31_65_PERCENTAGE\n",
      "colorado_21_1_csv_AGE_66_and_above_PERCENTAGE\n",
      "colorado_21_1_csv_AGE_100_and_above_PERCENTAGE\n",
      "colorado_21_1_csv_Unknown_Age_PERCENTAGE\n",
      "colorado_21_1_csv_GENDER_DESC\n",
      "colorado_21_1_csv_FEMALE_PERCENTAGE\n",
      "colorado_21_1_csv_MALE_PERCENTAGE\n",
      "colorado_21_1_csv_UNKNOWN_GENDER_PERCENTAGE\n",
      "colorado_21_1_csv_INJURY_COUNT_SUM\n",
      "colorado_21_1_csv_INJURY_OUTCOME_DESC\n",
      "colorado_21_1_csv_NO_INJURY_OUTCOME\n",
      "colorado_21_1_csv_YES_INJURY_OUTCOME\n",
      "FID_LSAD_Metropolitan\n",
      "GISJOIN\n",
      "CSAFP\n",
      "CBSAFP\n",
      "GEOID\n",
      "NAME\n",
      "NAMELSAD\n",
      "LSAD\n",
      "MEMI\n",
      "MTFCC\n",
      "ALAND\n",
      "AWATER\n",
      "INTPTLAT\n",
      "INTPTLON\n",
      "Shape_Leng\n",
      "Shape_Length\n",
      "Shape_Area\n"
     ]
    }
   ],
   "source": [
    "for i in colo21.columns:\n",
    "    print(i)"
   ]
  },
  {
   "cell_type": "code",
   "execution_count": 117,
   "id": "cf34eef0",
   "metadata": {},
   "outputs": [],
   "source": [
    "del colo21['colorado_21_1_csv_GISJOIN']"
   ]
  },
  {
   "cell_type": "code",
   "execution_count": 118,
   "id": "a446d783",
   "metadata": {},
   "outputs": [],
   "source": [
    "del colo21['GISJOIN']"
   ]
  },
  {
   "cell_type": "code",
   "execution_count": 119,
   "id": "323c4dd6",
   "metadata": {},
   "outputs": [],
   "source": [
    "colo21.columns = colo21.columns.str.replace('Colorado_CopyFeatures2_','')"
   ]
  },
  {
   "cell_type": "code",
   "execution_count": 120,
   "id": "f1cf13e4",
   "metadata": {},
   "outputs": [],
   "source": [
    "colo21.columns = colo21.columns.str.replace('colorado_21_1_csv_','')"
   ]
  },
  {
   "cell_type": "code",
   "execution_count": 121,
   "id": "540b54e2",
   "metadata": {},
   "outputs": [],
   "source": [
    "colo21.columns = colo21.columns.str.replace('_COUNT','')"
   ]
  },
  {
   "cell_type": "code",
   "execution_count": 122,
   "id": "6abeb122",
   "metadata": {},
   "outputs": [
    {
     "data": {
      "text/html": [
       "<div>\n",
       "<style scoped>\n",
       "    .dataframe tbody tr th:only-of-type {\n",
       "        vertical-align: middle;\n",
       "    }\n",
       "\n",
       "    .dataframe tbody tr th {\n",
       "        vertical-align: top;\n",
       "    }\n",
       "\n",
       "    .dataframe thead th {\n",
       "        text-align: right;\n",
       "    }\n",
       "</style>\n",
       "<table border=\"1\" class=\"dataframe\">\n",
       "  <thead>\n",
       "    <tr style=\"text-align: right;\">\n",
       "      <th></th>\n",
       "      <th>GISJOIN</th>\n",
       "      <th>WEATHER</th>\n",
       "    </tr>\n",
       "  </thead>\n",
       "  <tbody>\n",
       "    <tr>\n",
       "      <th>0</th>\n",
       "      <td>G08000100078011</td>\n",
       "      <td>8</td>\n",
       "    </tr>\n",
       "    <tr>\n",
       "      <th>1</th>\n",
       "      <td>G08000100078012</td>\n",
       "      <td>8</td>\n",
       "    </tr>\n",
       "    <tr>\n",
       "      <th>2</th>\n",
       "      <td>G08000100078021</td>\n",
       "      <td>8</td>\n",
       "    </tr>\n",
       "    <tr>\n",
       "      <th>3</th>\n",
       "      <td>G08000100078022</td>\n",
       "      <td>4</td>\n",
       "    </tr>\n",
       "    <tr>\n",
       "      <th>4</th>\n",
       "      <td>G08000100078023</td>\n",
       "      <td>8</td>\n",
       "    </tr>\n",
       "    <tr>\n",
       "      <th>...</th>\n",
       "      <td>...</td>\n",
       "      <td>...</td>\n",
       "    </tr>\n",
       "    <tr>\n",
       "      <th>3450</th>\n",
       "      <td>G08012300025021</td>\n",
       "      <td>4</td>\n",
       "    </tr>\n",
       "    <tr>\n",
       "      <th>3451</th>\n",
       "      <td>G08012300025022</td>\n",
       "      <td>8</td>\n",
       "    </tr>\n",
       "    <tr>\n",
       "      <th>3452</th>\n",
       "      <td>G08012300025023</td>\n",
       "      <td>8</td>\n",
       "    </tr>\n",
       "    <tr>\n",
       "      <th>3453</th>\n",
       "      <td>G08012300025024</td>\n",
       "      <td>8</td>\n",
       "    </tr>\n",
       "    <tr>\n",
       "      <th>3454</th>\n",
       "      <td>G08012300025025</td>\n",
       "      <td>7</td>\n",
       "    </tr>\n",
       "  </tbody>\n",
       "</table>\n",
       "<p>3455 rows × 2 columns</p>\n",
       "</div>"
      ],
      "text/plain": [
       "              GISJOIN  WEATHER\n",
       "0     G08000100078011        8\n",
       "1     G08000100078012        8\n",
       "2     G08000100078021        8\n",
       "3     G08000100078022        4\n",
       "4     G08000100078023        8\n",
       "...               ...      ...\n",
       "3450  G08012300025021        4\n",
       "3451  G08012300025022        8\n",
       "3452  G08012300025023        8\n",
       "3453  G08012300025024        8\n",
       "3454  G08012300025025        7\n",
       "\n",
       "[3455 rows x 2 columns]"
      ]
     },
     "execution_count": 122,
     "metadata": {},
     "output_type": "execute_result"
    }
   ],
   "source": [
    "col19 = colo19[['GISJOIN','WEATHER']]\n",
    "col19"
   ]
  },
  {
   "cell_type": "code",
   "execution_count": 123,
   "id": "cf78e4ef",
   "metadata": {},
   "outputs": [
    {
     "name": "stdout",
     "output_type": "stream",
     "text": [
      "FID_csv\n",
      "GISJOIN\n",
      "STATEFP\n",
      "COUNTYFP\n",
      "TRACTCE\n",
      "BLKGRPCE\n",
      "GEOID\n",
      "NAMELSAD\n",
      "MTFCC\n",
      "FUNCSTAT\n",
      "ALAND\n",
      "AWATER\n",
      "INTPTLAT\n",
      "INTPTLON\n",
      "Shape_Leng\n",
      "STATEFP\n",
      "TRACTCE\n",
      "Colorado_Population_csv_AMPVE001\n",
      "BUFFER\n",
      "ROAD_CLASS\n",
      "DATE\n",
      "INTERSECTION\n",
      "CONTOUR\n",
      "SURFACE\n",
      "LIGHTING\n",
      "WEATHER\n",
      "HUMAN_FACTOR\n",
      "INTOXICATION\n",
      "AGE\n",
      "GENDER\n",
      "COUNTY_FIPS\n",
      "COUNTY\n",
      "LATITUDE\n",
      "LONGITUDE\n",
      "YEAR\n",
      "INJURY_COUNT\n",
      "INJURY_OUTCOME\n",
      "Crash_ID\n",
      "BUFF_DIST\n",
      "ORIG_FID\n",
      "Shape_Length\n",
      "Shape_Area\n",
      "WEATHER_DESC\n",
      "BLOWING_SAND_SNOW_COUNT\n",
      "CLEAR_COUNT\n",
      "CLOUDY_COUNT\n",
      "FOG_COUNT\n",
      "OTHER_WEATHER_COUNT\n",
      "RAIN_COUNT\n",
      "SEVERE_CROSSWINDS_COUNT\n",
      "SLEET_HAIL_COUNT\n",
      "SNOW_WEATHER_COUNT\n",
      "LIGHTING_DESC\n",
      "DARK_LIGHTED_PERCENTAGE\n",
      "DARK_NOT_LIGHTED_PERCENTAGE\n",
      "DAWN_PERCENTAGE\n",
      "DAYLIGHT_PERCENTAGE\n",
      "DUSK_PERCENTAGE\n",
      "UNKNOWN_LIGHT_PERCENTAGE\n",
      "DARK_UNKNOWN_LIGHTING_PERCENTAGE\n",
      "OTHER_LIGHT_PERCENTAGE\n",
      "SURFACE_DESC\n",
      "DIRT_PERCENTAGE\n",
      "DRY_PERCENTAGE\n",
      "ICE_PERCENTAGE\n",
      "SLUSH_PERCENTAGE\n",
      "SNOW_SURF_PERCENTAGE\n",
      "UNKNOWN_SURF_PERCENTAGE\n",
      "WET_PERCENTAGE\n",
      "STANDING_WATER_PERCENTAGE\n",
      "OTHER_SURF_PERCENTAGE\n",
      "INTERSECTION_DESC\n",
      "NO_INTERSECTION_PERCENTAGE\n",
      "YES_INTERSECTION_PERCENTAGE\n",
      "ROAD_CLASS_DESC\n",
      "CITY_STREET_PERCENTAGE\n",
      "COUNTY_ROAD_PERCENTAGE\n",
      "INTERSTATE_PERCENTAGE\n",
      "OTHER_ROADS_PERCENTAGE\n",
      "US___STATE_HIGHWAY_PERCENTAGE\n",
      "HUMAN_FACTOR_DESC\n",
      "IMPAIRMENT_PERCENTAGE\n",
      "INATTENTION_PERCENTAGE\n",
      "KNOWN_HUMAN_FACTOR_PERCENTAGE\n",
      "LANE_CHNG_PERCENTAGE\n",
      "NO_FAULT_PERCENTAGE\n",
      "SPEEDING_PERCENTAGE\n",
      "TAILGATING_PERCENTAGE\n",
      "TECH_PARK_PERCENTAGE\n",
      "TURNING_PERCENTAGE\n",
      "UNKNOWN_HUMAN_FACTOR_PERCENTAGE\n",
      "UNSAFE_BACKING_PERCENTAGE\n",
      "VIOLATION_PERCENTAGE\n",
      "AGE_BAND\n",
      "AGE_1_21_PERCENTAGE\n",
      "AGE_22_30_PERCENTAGE\n",
      "AGE_31_65_PERCENTAGE\n",
      "AGE_66_and_above_PERCENTAGE\n",
      "AGE_100_and_above_PERCENTAGE\n",
      "Unknown_Age_PERCENTAGE\n",
      "GENDER_DESC\n",
      "FEMALE_PERCENTAGE\n",
      "MALE_PERCENTAGE\n",
      "UNKNOWN_GENDER_PERCENTAGE\n",
      "INJURY_COUNT_SUM\n",
      "INJURY_OUTCOME_DESC\n",
      "NO_INJURY_OUTCOME\n",
      "YES_INJURY_OUTCOME\n",
      "FID_LSAD_Metropolitan\n",
      "CSAFP\n",
      "CBSAFP\n",
      "GEOID\n",
      "NAME\n",
      "NAMELSAD\n",
      "LSAD\n",
      "MEMI\n",
      "MTFCC\n",
      "ALAND\n",
      "AWATER\n",
      "INTPTLAT\n",
      "INTPTLON\n",
      "Shape_Leng\n",
      "Shape_Length\n",
      "Shape_Area\n"
     ]
    }
   ],
   "source": [
    "for i in colo19.columns:\n",
    "    print(i)"
   ]
  },
  {
   "cell_type": "code",
   "execution_count": 124,
   "id": "8237976e",
   "metadata": {},
   "outputs": [
    {
     "data": {
      "text/html": [
       "<div>\n",
       "<style scoped>\n",
       "    .dataframe tbody tr th:only-of-type {\n",
       "        vertical-align: middle;\n",
       "    }\n",
       "\n",
       "    .dataframe tbody tr th {\n",
       "        vertical-align: top;\n",
       "    }\n",
       "\n",
       "    .dataframe thead th {\n",
       "        text-align: right;\n",
       "    }\n",
       "</style>\n",
       "<table border=\"1\" class=\"dataframe\">\n",
       "  <thead>\n",
       "    <tr style=\"text-align: right;\">\n",
       "      <th></th>\n",
       "      <th>GISJOIN</th>\n",
       "      <th>WEATHER</th>\n",
       "    </tr>\n",
       "  </thead>\n",
       "  <tbody>\n",
       "    <tr>\n",
       "      <th>0</th>\n",
       "      <td>G08000100078011</td>\n",
       "      <td>4</td>\n",
       "    </tr>\n",
       "    <tr>\n",
       "      <th>1</th>\n",
       "      <td>G08000100078012</td>\n",
       "      <td>8</td>\n",
       "    </tr>\n",
       "    <tr>\n",
       "      <th>2</th>\n",
       "      <td>G08000100078021</td>\n",
       "      <td>8</td>\n",
       "    </tr>\n",
       "    <tr>\n",
       "      <th>3</th>\n",
       "      <td>G08000100078022</td>\n",
       "      <td>8</td>\n",
       "    </tr>\n",
       "    <tr>\n",
       "      <th>4</th>\n",
       "      <td>G08000100078023</td>\n",
       "      <td>8</td>\n",
       "    </tr>\n",
       "    <tr>\n",
       "      <th>...</th>\n",
       "      <td>...</td>\n",
       "      <td>...</td>\n",
       "    </tr>\n",
       "    <tr>\n",
       "      <th>3450</th>\n",
       "      <td>G08012300025021</td>\n",
       "      <td>8</td>\n",
       "    </tr>\n",
       "    <tr>\n",
       "      <th>3451</th>\n",
       "      <td>G08012300025022</td>\n",
       "      <td>8</td>\n",
       "    </tr>\n",
       "    <tr>\n",
       "      <th>3452</th>\n",
       "      <td>G08012300025023</td>\n",
       "      <td>2</td>\n",
       "    </tr>\n",
       "    <tr>\n",
       "      <th>3453</th>\n",
       "      <td>G08012300025024</td>\n",
       "      <td>8</td>\n",
       "    </tr>\n",
       "    <tr>\n",
       "      <th>3454</th>\n",
       "      <td>G08012300025025</td>\n",
       "      <td>8</td>\n",
       "    </tr>\n",
       "  </tbody>\n",
       "</table>\n",
       "<p>3455 rows × 2 columns</p>\n",
       "</div>"
      ],
      "text/plain": [
       "              GISJOIN  WEATHER\n",
       "0     G08000100078011        4\n",
       "1     G08000100078012        8\n",
       "2     G08000100078021        8\n",
       "3     G08000100078022        8\n",
       "4     G08000100078023        8\n",
       "...               ...      ...\n",
       "3450  G08012300025021        8\n",
       "3451  G08012300025022        8\n",
       "3452  G08012300025023        2\n",
       "3453  G08012300025024        8\n",
       "3454  G08012300025025        8\n",
       "\n",
       "[3455 rows x 2 columns]"
      ]
     },
     "execution_count": 124,
     "metadata": {},
     "output_type": "execute_result"
    }
   ],
   "source": [
    "col20 = colo20[['GISJOIN','WEATHER']]\n",
    "col20"
   ]
  },
  {
   "cell_type": "code",
   "execution_count": 125,
   "id": "76e6b69d",
   "metadata": {},
   "outputs": [
    {
     "data": {
      "text/html": [
       "<div>\n",
       "<style scoped>\n",
       "    .dataframe tbody tr th:only-of-type {\n",
       "        vertical-align: middle;\n",
       "    }\n",
       "\n",
       "    .dataframe tbody tr th {\n",
       "        vertical-align: top;\n",
       "    }\n",
       "\n",
       "    .dataframe thead th {\n",
       "        text-align: right;\n",
       "    }\n",
       "</style>\n",
       "<table border=\"1\" class=\"dataframe\">\n",
       "  <thead>\n",
       "    <tr style=\"text-align: right;\">\n",
       "      <th></th>\n",
       "      <th>GISJOIN</th>\n",
       "      <th>WEATHER</th>\n",
       "    </tr>\n",
       "  </thead>\n",
       "  <tbody>\n",
       "    <tr>\n",
       "      <th>0</th>\n",
       "      <td>G08000100078011</td>\n",
       "      <td>11</td>\n",
       "    </tr>\n",
       "    <tr>\n",
       "      <th>1</th>\n",
       "      <td>G08000100078012</td>\n",
       "      <td>11</td>\n",
       "    </tr>\n",
       "    <tr>\n",
       "      <th>2</th>\n",
       "      <td>G08000100078021</td>\n",
       "      <td>0</td>\n",
       "    </tr>\n",
       "    <tr>\n",
       "      <th>3</th>\n",
       "      <td>G08000100078022</td>\n",
       "      <td>0</td>\n",
       "    </tr>\n",
       "    <tr>\n",
       "      <th>4</th>\n",
       "      <td>G08000100078023</td>\n",
       "      <td>0</td>\n",
       "    </tr>\n",
       "    <tr>\n",
       "      <th>...</th>\n",
       "      <td>...</td>\n",
       "      <td>...</td>\n",
       "    </tr>\n",
       "    <tr>\n",
       "      <th>3450</th>\n",
       "      <td>G08012300025021</td>\n",
       "      <td>11</td>\n",
       "    </tr>\n",
       "    <tr>\n",
       "      <th>3451</th>\n",
       "      <td>G08012300025022</td>\n",
       "      <td>11</td>\n",
       "    </tr>\n",
       "    <tr>\n",
       "      <th>3452</th>\n",
       "      <td>G08012300025023</td>\n",
       "      <td>11</td>\n",
       "    </tr>\n",
       "    <tr>\n",
       "      <th>3453</th>\n",
       "      <td>G08012300025024</td>\n",
       "      <td>11</td>\n",
       "    </tr>\n",
       "    <tr>\n",
       "      <th>3454</th>\n",
       "      <td>G08012300025025</td>\n",
       "      <td>3</td>\n",
       "    </tr>\n",
       "  </tbody>\n",
       "</table>\n",
       "<p>3455 rows × 2 columns</p>\n",
       "</div>"
      ],
      "text/plain": [
       "              GISJOIN  WEATHER\n",
       "0     G08000100078011       11\n",
       "1     G08000100078012       11\n",
       "2     G08000100078021        0\n",
       "3     G08000100078022        0\n",
       "4     G08000100078023        0\n",
       "...               ...      ...\n",
       "3450  G08012300025021       11\n",
       "3451  G08012300025022       11\n",
       "3452  G08012300025023       11\n",
       "3453  G08012300025024       11\n",
       "3454  G08012300025025        3\n",
       "\n",
       "[3455 rows x 2 columns]"
      ]
     },
     "execution_count": 125,
     "metadata": {},
     "output_type": "execute_result"
    }
   ],
   "source": [
    "col21 = colo21[['GISJOIN','WEATHER']]\n",
    "col21"
   ]
  },
  {
   "cell_type": "code",
   "execution_count": 126,
   "id": "266fdb1d",
   "metadata": {},
   "outputs": [
    {
     "data": {
      "text/plain": [
       "Index(['GISJOIN', 'STATEFP', 'POPN', 'DATE', 'INTOXICATION',\n",
       "       'colorado_19_1_csv_COUNTY_FIPS', 'COUNTY', 'YEAR', 'INJURY_COUNT',\n",
       "       'INJURY_OUTCOME', 'BLOWING_SAND_SNOW_COUNT', 'CLEAR_COUNT',\n",
       "       'CLOUDY_COUNT', 'FOG_COUNT', 'OTHER_WEATHER_COUNT', 'RAIN_COUNT',\n",
       "       'SEVERE_CROSSWINDS', 'SLEET_HAIL', 'SNOW_WEATHER', 'DARK_LIGHTED',\n",
       "       'DARK_NOT_LIGHTED', 'DAWN', 'DAYLIGHT', 'DUSK', 'UNKNOWN_LIGHT',\n",
       "       'DARK_UNKNOWN_LIGHTING', 'OTHER_LIGHT', 'CITY_STREET', 'COUNTY_ROAD',\n",
       "       'INTERSTATE', 'OTHER_ROADS', 'US_STATE_HIGHWAY', 'IMPAIRMENT',\n",
       "       'INATTENTION', 'KNOWN_HUMAN_FACTOR', 'LANE_CHNG', 'NO_FAULT',\n",
       "       'SPEEDING', 'TAILGATING', 'TECH_PARK', 'TURNING',\n",
       "       'UNKNOWN_HUMAN_FACTOR', 'UNSAFE_BACKING', 'VIOLATION',\n",
       "       'INJURY_COUNT_SUM', 'NO_INJURY', 'YES_INJURY', 'NAME', 'Shape_Area',\n",
       "       'INTOXICATION_DESC', 'ALCOHOL', 'DRUG', 'ALCOHOL, DRUG',\n",
       "       'NO INTOXICATION', 'MEDICINAL', 'MARIJUANA'],\n",
       "      dtype='object')"
      ]
     },
     "execution_count": 126,
     "metadata": {},
     "output_type": "execute_result"
    }
   ],
   "source": [
    "c1.columns"
   ]
  },
  {
   "cell_type": "code",
   "execution_count": 127,
   "id": "42f71e08",
   "metadata": {},
   "outputs": [],
   "source": [
    "c1.drop(columns=['BLOWING_SAND_SNOW_COUNT', 'CLEAR_COUNT',\n",
    "       'CLOUDY_COUNT', 'FOG_COUNT', 'OTHER_WEATHER_COUNT', 'RAIN_COUNT',\n",
    "       'SEVERE_CROSSWINDS', 'SLEET_HAIL', 'SNOW_WEATHER'],inplace= True)"
   ]
  },
  {
   "cell_type": "code",
   "execution_count": 128,
   "id": "46a22551",
   "metadata": {},
   "outputs": [
    {
     "data": {
      "text/plain": [
       "Index(['GISJOIN', 'STATEFP', 'POPN', 'INTOXICATION',\n",
       "       'colorado_20_1_csv_COUNTY_FIPS', 'COUNTY', 'YEAR', 'INJURY_COUNT',\n",
       "       'INJURY_OUTCOME', 'BLOWING_SAND_SNOW_COUNT', 'CLEAR_COUNT',\n",
       "       'CLOUDY_COUNT', 'FOG_COUNT', 'OTHER_WEATHER_COUNT', 'RAIN_COUNT',\n",
       "       'SEVERE_CROSSWINDS_COUNT', 'SLEET_HAIL_COUNT', 'SNOW_WEATHER_COUNT',\n",
       "       'DARK_LIGHTED', 'DARK_NOT_LIGHTED', 'DAWN', 'DAYLIGHT', 'DUSK',\n",
       "       'UNKNOWN_LIGHT', 'DARK_UNKNOWN_LIGHTING', 'OTHER_LIGHT', 'CITY_STREET',\n",
       "       'COUNTY_ROAD', 'INTERSTATE', 'OTHER_ROADS', 'US_STATE_HIGHWAY',\n",
       "       'IMPAIRMENT', 'INATTENTION', 'KNOWN_HUMAN_FACTOR', 'LANE_CHNG',\n",
       "       'NO_FAULT', 'SPEEDING', 'TAILGATING', 'TECH_PARK', 'TURNING',\n",
       "       'UNKNOWN_HUMAN_FACTOR', 'UNSAFE_BACKING', 'VIOLATION',\n",
       "       'INJURY_COUNT_SUM', 'NO_INJURY', 'YES_INJURY', 'NAME', 'Shape_Area',\n",
       "       'INTOXICATION_DESC', 'ALCOHOL', 'DRUG', 'ALCOHOL, DRUG',\n",
       "       'NO INTOXICATION', 'MEDICINAL', 'MARIJUANA'],\n",
       "      dtype='object')"
      ]
     },
     "execution_count": 128,
     "metadata": {},
     "output_type": "execute_result"
    }
   ],
   "source": [
    "c2.columns"
   ]
  },
  {
   "cell_type": "code",
   "execution_count": 129,
   "id": "d9304293",
   "metadata": {},
   "outputs": [],
   "source": [
    "c2.drop(columns=['BLOWING_SAND_SNOW_COUNT', 'CLEAR_COUNT',\n",
    "       'CLOUDY_COUNT', 'FOG_COUNT', 'OTHER_WEATHER_COUNT', 'RAIN_COUNT',\n",
    "       'SEVERE_CROSSWINDS_COUNT', 'SLEET_HAIL_COUNT', 'SNOW_WEATHER_COUNT'],inplace= True)"
   ]
  },
  {
   "cell_type": "code",
   "execution_count": 130,
   "id": "661a6a57",
   "metadata": {},
   "outputs": [
    {
     "data": {
      "text/plain": [
       "Index(['GISJOIN', 'STATEFP', 'POPN', 'INTOXICATION', 'COUNTY_FIPS', 'COUNTY',\n",
       "       'YEAR', 'INJURY_COUNT', 'INJURY_OUTCOME', 'BLOWING_SAND_SNOW_COUNT',\n",
       "       'CLEAR_COUNT', 'CLOUDY_COUNT', 'FOG_COUNT', 'OTHER_WEATHER_COUNT',\n",
       "       'RAIN_COUNT', 'SEVERE_CROSSWINDS_COUNT', 'SLEET_HAIL_COUNT',\n",
       "       'SNOW_WEATHER_COUNT', 'DARK_LIGHTED', 'DARK_NOT_LIGHTED', 'DAWN',\n",
       "       'DAYLIGHT', 'DUSK', 'UNKNOWN_LIGHT', 'DARK_UNKNOWN_LIGHTING',\n",
       "       'OTHER_LIGHT', 'CITY_STREET', 'COUNTY_ROAD', 'INTERSTATE',\n",
       "       'OTHER_ROADS', 'US_STATE_HIGHWAY', 'IMPAIRMENT', 'INATTENTION',\n",
       "       'KNOWN_HUMAN_FACTOR', 'LANE_CHNG', 'NO_FAULT', 'SPEEDING', 'TAILGATING',\n",
       "       'TECH_PARK_', 'TURNING', 'UNKNOWN_HUMAN_FACTOR', 'UNSAFE_BACKING',\n",
       "       'VIOLATION', 'INJURY_COUNT_SUM', 'NO_INJURY', 'YES_INJURY', 'NAME',\n",
       "       'Shape_Area', 'INTOXICATION_DESC', 'ALCOHOL', 'DRUG', 'ALCOHOL, DRUG',\n",
       "       'NO INTOXICATION', 'MEDICINAL', 'MARIJUANA'],\n",
       "      dtype='object')"
      ]
     },
     "execution_count": 130,
     "metadata": {},
     "output_type": "execute_result"
    }
   ],
   "source": [
    "c3.columns"
   ]
  },
  {
   "cell_type": "code",
   "execution_count": 131,
   "id": "f7afc2da",
   "metadata": {},
   "outputs": [],
   "source": [
    "c3.drop(columns=['BLOWING_SAND_SNOW_COUNT',\n",
    "       'CLEAR_COUNT', 'CLOUDY_COUNT', 'FOG_COUNT', 'OTHER_WEATHER_COUNT',\n",
    "       'RAIN_COUNT', 'SEVERE_CROSSWINDS_COUNT', 'SLEET_HAIL_COUNT',\n",
    "       'SNOW_WEATHER_COUNT'],inplace= True)"
   ]
  },
  {
   "cell_type": "code",
   "execution_count": 132,
   "id": "2340c21a",
   "metadata": {},
   "outputs": [
    {
     "data": {
      "text/plain": [
       "Index(['GISJOIN', 'WEATHER'], dtype='object')"
      ]
     },
     "execution_count": 132,
     "metadata": {},
     "output_type": "execute_result"
    }
   ],
   "source": [
    "col21.columns"
   ]
  },
  {
   "cell_type": "code",
   "execution_count": null,
   "id": "07e2c5fb",
   "metadata": {},
   "outputs": [],
   "source": []
  },
  {
   "cell_type": "code",
   "execution_count": 133,
   "id": "38ce5d96",
   "metadata": {},
   "outputs": [],
   "source": [
    "c1= pd.merge(c1,col19,on=['GISJOIN'],how='left')\n",
    "c2 = pd.merge(c2,col20,on=['GISJOIN'],how='left')\n",
    "c3 = pd.merge(c3,col21,on=['GISJOIN'],how='left')"
   ]
  },
  {
   "cell_type": "code",
   "execution_count": 134,
   "id": "fe0f2ac1",
   "metadata": {},
   "outputs": [
    {
     "data": {
      "text/plain": [
       "0"
      ]
     },
     "execution_count": 134,
     "metadata": {},
     "output_type": "execute_result"
    }
   ],
   "source": [
    "c1.isna().sum().sum()"
   ]
  },
  {
   "cell_type": "code",
   "execution_count": null,
   "id": "1eb4157d",
   "metadata": {},
   "outputs": [],
   "source": []
  },
  {
   "cell_type": "code",
   "execution_count": 135,
   "id": "43d04e3c",
   "metadata": {},
   "outputs": [
    {
     "data": {
      "text/plain": [
       "array([8, 4, 2, 0, 5, 7], dtype=int64)"
      ]
     },
     "execution_count": 135,
     "metadata": {},
     "output_type": "execute_result"
    }
   ],
   "source": [
    "c1['WEATHER'].unique()"
   ]
  },
  {
   "cell_type": "code",
   "execution_count": 136,
   "id": "4c5dcf95",
   "metadata": {},
   "outputs": [
    {
     "data": {
      "text/plain": [
       "array([4, 8, 0, 5, 7, 2], dtype=int64)"
      ]
     },
     "execution_count": 136,
     "metadata": {},
     "output_type": "execute_result"
    }
   ],
   "source": [
    "c2['WEATHER'].unique()"
   ]
  },
  {
   "cell_type": "code",
   "execution_count": 137,
   "id": "1a74498a",
   "metadata": {},
   "outputs": [
    {
     "data": {
      "text/plain": [
       "array([11,  0,  2,  4,  3, 12,  7,  5,  6], dtype=int64)"
      ]
     },
     "execution_count": 137,
     "metadata": {},
     "output_type": "execute_result"
    }
   ],
   "source": [
    "c3['WEATHER'].unique()"
   ]
  },
  {
   "cell_type": "code",
   "execution_count": 138,
   "id": "01b697cc",
   "metadata": {},
   "outputs": [],
   "source": [
    "weather_mapping = {\n",
    "    11: 'CLEAR',\n",
    "    12: 'CLOUDY',\n",
    "    5: 'FOG',\n",
    "    2: 'RAIN',\n",
    "    3: 'SLEET/HAIL',\n",
    "    8: 'OTHER_WEATHER',\n",
    "    0: 'UNKNOWN_WEATHER',\n",
    "    4: 'SNOW_WEATHER',\n",
    "    6: 'BLOWING SAND/SNOW',\n",
    "    7: 'SEVERE CROSSWINDS'\n",
    "}\n",
    "\n",
    "\n",
    "def process_intoxication_data(df, mapping):\n",
    "    # Map the intoxication codes to descriptive names\n",
    "    df['WEATHER_DESC'] = df['WEATHER'].map(weather_mapping).astype(str)\n",
    "\n",
    "    # Create a list of all possible intoxication categories\n",
    "    all_categories = list(mapping.values())\n",
    "\n",
    "    # Group by COUNTY and INTOXICATION_DESC, then count occurrences\n",
    "    grouped = df.groupby(['GISJOIN', 'WEATHER_DESC']).size().unstack(fill_value=0)\n",
    "\n",
    "    # Reindex the DataFrame to include all possible intoxication categories\n",
    "    grouped = grouped.reindex(columns=all_categories, fill_value=0)\n",
    "\n",
    "    # Calculate total counts by county to normalize the data\n",
    "    total_counts_by_county = grouped.sum(axis=1)\n",
    "\n",
    "    # Calculate percentages\n",
    "    w_df = (grouped.div(total_counts_by_county, axis=0) * 100).fillna(0)\n",
    "    w_df = w_df.reset_index(drop=False)\n",
    "\n",
    "    return w_df\n",
    "\n",
    "\n",
    "w19 = process_intoxication_data(c1,weather_mapping)\n",
    "w20 = process_intoxication_data(c2,weather_mapping)\n",
    "w21 = process_intoxication_data(c3,weather_mapping)"
   ]
  },
  {
   "cell_type": "code",
   "execution_count": 139,
   "id": "6271f304",
   "metadata": {},
   "outputs": [],
   "source": [
    "c1 = pd.merge(c1,w19,on=['GISJOIN'],how='left')\n",
    "c2 = pd.merge(c2,w20,on=['GISJOIN'],how='left')\n",
    "c3 = pd.merge(c3,w21,on=['GISJOIN'],how='left')"
   ]
  },
  {
   "cell_type": "code",
   "execution_count": 140,
   "id": "af18dae4",
   "metadata": {},
   "outputs": [],
   "source": [
    "c1['STATE'] = 'Colorado'\n",
    "c2['STATE'] = 'Colorado'\n",
    "c3['STATE'] = 'Colorado'"
   ]
  },
  {
   "cell_type": "code",
   "execution_count": 141,
   "id": "6314d43f",
   "metadata": {},
   "outputs": [],
   "source": [
    "c1['YEAR_CAT'] = 1\n",
    "c2['YEAR_CAT'] = 2\n",
    "c3['YEAR_CAT'] = 3"
   ]
  },
  {
   "cell_type": "code",
   "execution_count": 142,
   "id": "63abc01d",
   "metadata": {},
   "outputs": [
    {
     "data": {
      "text/plain": [
       "((3455, 61), (3455, 60), (3455, 60))"
      ]
     },
     "execution_count": 142,
     "metadata": {},
     "output_type": "execute_result"
    }
   ],
   "source": [
    "c1.shape, c2.shape, c3.shape"
   ]
  },
  {
   "cell_type": "code",
   "execution_count": 143,
   "id": "caea9a5b",
   "metadata": {},
   "outputs": [],
   "source": [
    "del c1['DATE']"
   ]
  },
  {
   "cell_type": "code",
   "execution_count": 144,
   "id": "15bde40c",
   "metadata": {},
   "outputs": [
    {
     "data": {
      "text/plain": [
       "0"
      ]
     },
     "execution_count": 144,
     "metadata": {},
     "output_type": "execute_result"
    }
   ],
   "source": [
    "c1.isna().sum().sum()"
   ]
  },
  {
   "cell_type": "code",
   "execution_count": null,
   "id": "6281ff66",
   "metadata": {},
   "outputs": [],
   "source": []
  },
  {
   "cell_type": "code",
   "execution_count": null,
   "id": "50e15fb3",
   "metadata": {},
   "outputs": [],
   "source": []
  },
  {
   "cell_type": "code",
   "execution_count": 145,
   "id": "8289a46f",
   "metadata": {},
   "outputs": [],
   "source": [
    "cold = pd.concat([c1,c2,c3],axis=0)"
   ]
  },
  {
   "cell_type": "code",
   "execution_count": 146,
   "id": "0dc607e3",
   "metadata": {},
   "outputs": [
    {
     "data": {
      "text/plain": [
       "((3455, 60), (3455, 60), (3455, 60))"
      ]
     },
     "execution_count": 146,
     "metadata": {},
     "output_type": "execute_result"
    }
   ],
   "source": [
    "c1.shape,c2.shape,c3.shape\n"
   ]
  },
  {
   "cell_type": "code",
   "execution_count": 147,
   "id": "d854dd65",
   "metadata": {},
   "outputs": [
    {
     "data": {
      "text/plain": [
       "(10365, 63)"
      ]
     },
     "execution_count": 147,
     "metadata": {},
     "output_type": "execute_result"
    }
   ],
   "source": [
    "cold.shape"
   ]
  },
  {
   "cell_type": "code",
   "execution_count": 148,
   "id": "8e4e63d0",
   "metadata": {},
   "outputs": [],
   "source": [
    "cold['STATE_CAT'] = 3"
   ]
  },
  {
   "cell_type": "code",
   "execution_count": 149,
   "id": "0c8b2c66",
   "metadata": {
    "scrolled": false
   },
   "outputs": [
    {
     "data": {
      "text/plain": [
       "Index(['GISJOIN', 'STATEFP', 'POPN', 'INTOXICATION',\n",
       "       'colorado_19_1_csv_COUNTY_FIPS', 'COUNTY', 'YEAR', 'INJURY_COUNT',\n",
       "       'INJURY_OUTCOME', 'DARK_LIGHTED', 'DARK_NOT_LIGHTED', 'DAWN',\n",
       "       'DAYLIGHT', 'DUSK', 'UNKNOWN_LIGHT', 'DARK_UNKNOWN_LIGHTING',\n",
       "       'OTHER_LIGHT', 'CITY_STREET', 'COUNTY_ROAD', 'INTERSTATE',\n",
       "       'OTHER_ROADS', 'US_STATE_HIGHWAY', 'IMPAIRMENT', 'INATTENTION',\n",
       "       'KNOWN_HUMAN_FACTOR', 'LANE_CHNG', 'NO_FAULT', 'SPEEDING', 'TAILGATING',\n",
       "       'TECH_PARK', 'TURNING', 'UNKNOWN_HUMAN_FACTOR', 'UNSAFE_BACKING',\n",
       "       'VIOLATION', 'INJURY_COUNT_SUM', 'NO_INJURY', 'YES_INJURY', 'NAME',\n",
       "       'Shape_Area', 'INTOXICATION_DESC', 'ALCOHOL', 'DRUG', 'ALCOHOL, DRUG',\n",
       "       'NO INTOXICATION', 'MEDICINAL', 'MARIJUANA', 'WEATHER', 'WEATHER_DESC',\n",
       "       'CLEAR', 'CLOUDY', 'FOG', 'RAIN', 'SLEET/HAIL', 'OTHER_WEATHER',\n",
       "       'UNKNOWN_WEATHER', 'SNOW_WEATHER', 'BLOWING SAND/SNOW',\n",
       "       'SEVERE CROSSWINDS', 'STATE', 'YEAR_CAT',\n",
       "       'colorado_20_1_csv_COUNTY_FIPS', 'COUNTY_FIPS', 'TECH_PARK_',\n",
       "       'STATE_CAT'],\n",
       "      dtype='object')"
      ]
     },
     "execution_count": 149,
     "metadata": {},
     "output_type": "execute_result"
    }
   ],
   "source": [
    "cold.columns"
   ]
  },
  {
   "cell_type": "code",
   "execution_count": 150,
   "id": "70fa8da1",
   "metadata": {},
   "outputs": [
    {
     "data": {
      "text/plain": [
       "0"
      ]
     },
     "execution_count": 150,
     "metadata": {},
     "output_type": "execute_result"
    }
   ],
   "source": [
    "txokla.isna().sum().sum()"
   ]
  },
  {
   "cell_type": "code",
   "execution_count": 151,
   "id": "87ebdeb5",
   "metadata": {},
   "outputs": [
    {
     "name": "stdout",
     "output_type": "stream",
     "text": [
      "0 0\n",
      "1 0\n",
      "2 0\n",
      "3 0\n",
      "4 6910\n",
      "5 0\n",
      "6 0\n",
      "7 0\n",
      "8 0\n",
      "9 0\n",
      "10 0\n",
      "11 0\n",
      "12 0\n",
      "13 0\n",
      "14 0\n",
      "15 0\n",
      "16 0\n",
      "17 0\n",
      "18 0\n",
      "19 0\n",
      "20 0\n",
      "21 0\n",
      "22 0\n",
      "23 0\n",
      "24 0\n",
      "25 0\n",
      "26 0\n",
      "27 0\n",
      "28 0\n",
      "29 3455\n",
      "30 0\n",
      "31 0\n",
      "32 0\n",
      "33 0\n",
      "34 0\n",
      "35 0\n",
      "36 0\n",
      "37 0\n",
      "38 0\n",
      "39 0\n",
      "40 0\n",
      "41 0\n",
      "42 0\n",
      "43 0\n",
      "44 0\n",
      "45 0\n",
      "46 0\n",
      "47 0\n",
      "48 0\n",
      "49 0\n",
      "50 0\n",
      "51 0\n",
      "52 0\n",
      "53 0\n",
      "54 0\n",
      "55 0\n",
      "56 0\n",
      "57 0\n",
      "58 0\n",
      "59 0\n",
      "60 6910\n",
      "61 6910\n",
      "62 6910\n",
      "63 0\n"
     ]
    }
   ],
   "source": [
    "for i,n in enumerate(cold.isna().sum()):\n",
    "    print(i,n)"
   ]
  },
  {
   "cell_type": "code",
   "execution_count": 152,
   "id": "7498f4a9",
   "metadata": {
    "scrolled": true
   },
   "outputs": [
    {
     "data": {
      "text/plain": [
       "Index(['GISJOIN', 'STATEFP', 'DAYLIGHT', 'DARK_LIGHTED', 'DARK_NOT_LIGHTED',\n",
       "       'DARK_UNKNOWN_LIGHTING', 'DUSK', 'DAWN', 'UNK_LIGHT', 'OTHER_LIGHT',\n",
       "       'POPN', 'CLEAR', 'CLOUDY', 'FOG', 'RAIN', 'SLEET_HAIL', 'Other_Weather',\n",
       "       'UNK_Weather', 'SNOW_Weather', 'BLOWING_SAND_SNOW', 'SEVERE_CROSSWINDS',\n",
       "       'INTERSTATE', 'US_STATE_HIGHWAY', 'FARM_TO_MARKET', 'COUNTY_ROAD',\n",
       "       'CITY_STREET', 'TOLLWAY', 'OTHER_ROADS', 'TOLL_BRIDGES', 'ALCOHOL',\n",
       "       'DRUG', 'ALCOHOL__DRUG', 'NO_INTOXICATION', 'MEDICINAL', 'MARIJUANA',\n",
       "       'INATTENTION', 'SPEEDING', 'NO_INJ', 'YES_INJ', 'INJ_COUNT_SUM', 'YEAR',\n",
       "       'STATE', 'NAME', 'Shape_Area', 'STATE_CAT', 'YEAR_CAT'],\n",
       "      dtype='object')"
      ]
     },
     "execution_count": 152,
     "metadata": {},
     "output_type": "execute_result"
    }
   ],
   "source": [
    "txokla.columns"
   ]
  },
  {
   "cell_type": "code",
   "execution_count": 153,
   "id": "ce8d1cef",
   "metadata": {},
   "outputs": [
    {
     "data": {
      "text/plain": [
       "31095"
      ]
     },
     "execution_count": 153,
     "metadata": {},
     "output_type": "execute_result"
    }
   ],
   "source": [
    "cold.isna().sum().sum()"
   ]
  },
  {
   "cell_type": "code",
   "execution_count": 154,
   "id": "c4e940f6",
   "metadata": {},
   "outputs": [
    {
     "data": {
      "text/plain": [
       "0"
      ]
     },
     "execution_count": 154,
     "metadata": {},
     "output_type": "execute_result"
    }
   ],
   "source": [
    "txokla.isna().sum().sum()"
   ]
  },
  {
   "cell_type": "code",
   "execution_count": null,
   "id": "18e09c07",
   "metadata": {},
   "outputs": [],
   "source": []
  },
  {
   "cell_type": "code",
   "execution_count": 155,
   "id": "1bd8123f",
   "metadata": {},
   "outputs": [],
   "source": [
    "cold.rename(columns={'UNKNOWN_LIGHT':'UNK_LIGHT','SLEET/HAIL':'SLEET_HAIL',\n",
    "                     'OTHER_WEATHER':'Other_Weather',\n",
    "                    'UNKNOWN_WEATHER':'UNK_Weather',\n",
    "                    'BLOWING SAND/SNOW':'BLOWING_SAND_SNOW',\n",
    "                    'SEVERE CROSSWINDS':'SEVERE_CROSSWINDS',\n",
    "                    'ALCOHOL, DRUG':'ALCOHOL__DRUG',\n",
    "                    'NO INTOXICATION':'NO_INTOXICATION',\n",
    "                    'NO_INJURY':'NO_INJ','YES_INJURY':'YES_INJ','INJURY_COUNT':'INJ_COUNT_SUM'},inplace= True)"
   ]
  },
  {
   "cell_type": "code",
   "execution_count": 156,
   "id": "eae3379d",
   "metadata": {},
   "outputs": [],
   "source": [
    "cold.rename(columns={'SNOW_WEATHER':'SNOW_Weather'},inplace= True)"
   ]
  },
  {
   "cell_type": "code",
   "execution_count": 157,
   "id": "c493f6b0",
   "metadata": {},
   "outputs": [],
   "source": [
    "cold['TOLL_BRIDGES'] = 0\n",
    "cold['TOLLWAY'] = 0\n",
    "cold['FARM_TO_MARKET'] = 0"
   ]
  },
  {
   "cell_type": "code",
   "execution_count": 158,
   "id": "10e3849a",
   "metadata": {},
   "outputs": [
    {
     "data": {
      "text/plain": [
       "Index(['GISJOIN', 'STATEFP', 'POPN', 'INTOXICATION',\n",
       "       'colorado_19_1_csv_COUNTY_FIPS', 'COUNTY', 'YEAR', 'INJ_COUNT_SUM',\n",
       "       'INJURY_OUTCOME', 'DARK_LIGHTED', 'DARK_NOT_LIGHTED', 'DAWN',\n",
       "       'DAYLIGHT', 'DUSK', 'UNK_LIGHT', 'DARK_UNKNOWN_LIGHTING', 'OTHER_LIGHT',\n",
       "       'CITY_STREET', 'COUNTY_ROAD', 'INTERSTATE', 'OTHER_ROADS',\n",
       "       'US_STATE_HIGHWAY', 'IMPAIRMENT', 'INATTENTION', 'KNOWN_HUMAN_FACTOR',\n",
       "       'LANE_CHNG', 'NO_FAULT', 'SPEEDING', 'TAILGATING', 'TECH_PARK',\n",
       "       'TURNING', 'UNKNOWN_HUMAN_FACTOR', 'UNSAFE_BACKING', 'VIOLATION',\n",
       "       'INJURY_COUNT_SUM', 'NO_INJ', 'YES_INJ', 'NAME', 'Shape_Area',\n",
       "       'INTOXICATION_DESC', 'ALCOHOL', 'DRUG', 'ALCOHOL__DRUG',\n",
       "       'NO_INTOXICATION', 'MEDICINAL', 'MARIJUANA', 'WEATHER', 'WEATHER_DESC',\n",
       "       'CLEAR', 'CLOUDY', 'FOG', 'RAIN', 'SLEET_HAIL', 'Other_Weather',\n",
       "       'UNK_Weather', 'SNOW_Weather', 'BLOWING_SAND_SNOW', 'SEVERE_CROSSWINDS',\n",
       "       'STATE', 'YEAR_CAT', 'colorado_20_1_csv_COUNTY_FIPS', 'COUNTY_FIPS',\n",
       "       'TECH_PARK_', 'STATE_CAT', 'TOLL_BRIDGES', 'TOLLWAY', 'FARM_TO_MARKET'],\n",
       "      dtype='object')"
      ]
     },
     "execution_count": 158,
     "metadata": {},
     "output_type": "execute_result"
    }
   ],
   "source": [
    "cold.columns"
   ]
  },
  {
   "cell_type": "code",
   "execution_count": 159,
   "id": "80b24670",
   "metadata": {},
   "outputs": [],
   "source": [
    "cold1 = cold[txokla.columns]"
   ]
  },
  {
   "cell_type": "code",
   "execution_count": 160,
   "id": "9eff5b5c",
   "metadata": {},
   "outputs": [
    {
     "data": {
      "text/plain": [
       "(10365, 46)"
      ]
     },
     "execution_count": 160,
     "metadata": {},
     "output_type": "execute_result"
    }
   ],
   "source": [
    "cold1.shape"
   ]
  },
  {
   "cell_type": "code",
   "execution_count": 161,
   "id": "e519bf29",
   "metadata": {},
   "outputs": [
    {
     "data": {
      "text/plain": [
       "(54684, 46)"
      ]
     },
     "execution_count": 161,
     "metadata": {},
     "output_type": "execute_result"
    }
   ],
   "source": [
    "txokla.shape"
   ]
  },
  {
   "cell_type": "code",
   "execution_count": 162,
   "id": "231c3f5a",
   "metadata": {},
   "outputs": [
    {
     "data": {
      "text/plain": [
       "array(['Colorado'], dtype=object)"
      ]
     },
     "execution_count": 162,
     "metadata": {},
     "output_type": "execute_result"
    }
   ],
   "source": [
    "cold['STATE'].unique()"
   ]
  },
  {
   "cell_type": "code",
   "execution_count": 163,
   "id": "6bf8a746",
   "metadata": {},
   "outputs": [],
   "source": [
    "tco = pd.concat([txokla,cold1],axis=0)"
   ]
  },
  {
   "cell_type": "code",
   "execution_count": 164,
   "id": "eab85612",
   "metadata": {},
   "outputs": [
    {
     "data": {
      "text/plain": [
       "Index(['GISJOIN', 'STATEFP', 'DAYLIGHT', 'DARK_LIGHTED', 'DARK_NOT_LIGHTED',\n",
       "       'DARK_UNKNOWN_LIGHTING', 'DUSK', 'DAWN', 'UNK_LIGHT', 'OTHER_LIGHT',\n",
       "       'POPN', 'CLEAR', 'CLOUDY', 'FOG', 'RAIN', 'SLEET_HAIL', 'Other_Weather',\n",
       "       'UNK_Weather', 'SNOW_Weather', 'BLOWING_SAND_SNOW', 'SEVERE_CROSSWINDS',\n",
       "       'INTERSTATE', 'US_STATE_HIGHWAY', 'FARM_TO_MARKET', 'COUNTY_ROAD',\n",
       "       'CITY_STREET', 'TOLLWAY', 'OTHER_ROADS', 'TOLL_BRIDGES', 'ALCOHOL',\n",
       "       'DRUG', 'ALCOHOL__DRUG', 'NO_INTOXICATION', 'MEDICINAL', 'MARIJUANA',\n",
       "       'INATTENTION', 'SPEEDING', 'NO_INJ', 'YES_INJ', 'INJ_COUNT_SUM', 'YEAR',\n",
       "       'STATE', 'NAME', 'Shape_Area', 'STATE_CAT', 'YEAR_CAT'],\n",
       "      dtype='object')"
      ]
     },
     "execution_count": 164,
     "metadata": {},
     "output_type": "execute_result"
    }
   ],
   "source": [
    "tco.columns"
   ]
  },
  {
   "cell_type": "code",
   "execution_count": 165,
   "id": "3cb98343",
   "metadata": {},
   "outputs": [],
   "source": [
    "state_dummies = pd.get_dummies(tco['STATE_CAT'], prefix='STATE')\n",
    "\n",
    "# Concatenate the original tco DataFrame with the state_dummies DataFrame\n",
    "tco = pd.concat([tco, state_dummies], axis=1)"
   ]
  },
  {
   "cell_type": "code",
   "execution_count": 166,
   "id": "f56af9f8",
   "metadata": {},
   "outputs": [],
   "source": [
    "year_dummies = pd.get_dummies(tco['YEAR_CAT'], prefix='YEAR')\n",
    "\n",
    "# Concatenate the original tco DataFrame with the state_dummies DataFrame\n",
    "tco = pd.concat([tco, year_dummies], axis=1)"
   ]
  },
  {
   "cell_type": "code",
   "execution_count": 167,
   "id": "de82b670",
   "metadata": {},
   "outputs": [
    {
     "data": {
      "text/plain": [
       "Index(['GISJOIN', 'STATEFP', 'DAYLIGHT', 'DARK_LIGHTED', 'DARK_NOT_LIGHTED',\n",
       "       'DARK_UNKNOWN_LIGHTING', 'DUSK', 'DAWN', 'UNK_LIGHT', 'OTHER_LIGHT',\n",
       "       'POPN', 'CLEAR', 'CLOUDY', 'FOG', 'RAIN', 'SLEET_HAIL', 'Other_Weather',\n",
       "       'UNK_Weather', 'SNOW_Weather', 'BLOWING_SAND_SNOW', 'SEVERE_CROSSWINDS',\n",
       "       'INTERSTATE', 'US_STATE_HIGHWAY', 'FARM_TO_MARKET', 'COUNTY_ROAD',\n",
       "       'CITY_STREET', 'TOLLWAY', 'OTHER_ROADS', 'TOLL_BRIDGES', 'ALCOHOL',\n",
       "       'DRUG', 'ALCOHOL__DRUG', 'NO_INTOXICATION', 'MEDICINAL', 'MARIJUANA',\n",
       "       'INATTENTION', 'SPEEDING', 'NO_INJ', 'YES_INJ', 'INJ_COUNT_SUM', 'YEAR',\n",
       "       'STATE', 'NAME', 'Shape_Area', 'STATE_CAT', 'YEAR_CAT', 'STATE_1',\n",
       "       'STATE_2', 'STATE_3', 'YEAR_1', 'YEAR_2', 'YEAR_3'],\n",
       "      dtype='object')"
      ]
     },
     "execution_count": 167,
     "metadata": {},
     "output_type": "execute_result"
    }
   ],
   "source": [
    "tco.columns"
   ]
  },
  {
   "cell_type": "code",
   "execution_count": 168,
   "id": "6691f0e2",
   "metadata": {},
   "outputs": [],
   "source": [
    "tco['INJURY_RATE'] = (tco['INJ_COUNT_SUM']/tco['POPN'])*100000"
   ]
  },
  {
   "cell_type": "code",
   "execution_count": 169,
   "id": "be516531",
   "metadata": {},
   "outputs": [],
   "source": [
    "tco['INJURY_RATE'] = tco['INJURY_RATE'].fillna(0)\n"
   ]
  },
  {
   "cell_type": "code",
   "execution_count": 170,
   "id": "98483941",
   "metadata": {},
   "outputs": [
    {
     "data": {
      "text/plain": [
       "0"
      ]
     },
     "execution_count": 170,
     "metadata": {},
     "output_type": "execute_result"
    }
   ],
   "source": [
    "tco['INJURY_RATE'].isna().sum().sum()"
   ]
  },
  {
   "cell_type": "code",
   "execution_count": 171,
   "id": "3c91cf74",
   "metadata": {},
   "outputs": [
    {
     "data": {
      "text/plain": [
       "0"
      ]
     },
     "execution_count": 171,
     "metadata": {},
     "output_type": "execute_result"
    }
   ],
   "source": [
    "tco.isna().sum().sum()"
   ]
  },
  {
   "cell_type": "code",
   "execution_count": 172,
   "id": "9056a35f",
   "metadata": {},
   "outputs": [],
   "source": [
    "tco['LOG_INJ_RATE'] = np.log(tco['INJURY_RATE']+1)"
   ]
  },
  {
   "cell_type": "code",
   "execution_count": 173,
   "id": "578e2508",
   "metadata": {},
   "outputs": [],
   "source": [
    "cold.to_csv('colorado_metro.csv',index= False)"
   ]
  },
  {
   "cell_type": "code",
   "execution_count": null,
   "id": "6ea401e7",
   "metadata": {},
   "outputs": [],
   "source": []
  },
  {
   "cell_type": "code",
   "execution_count": 174,
   "id": "16200fbd",
   "metadata": {},
   "outputs": [
    {
     "data": {
      "text/plain": [
       "(65049, 54)"
      ]
     },
     "execution_count": 174,
     "metadata": {},
     "output_type": "execute_result"
    }
   ],
   "source": [
    "tco.shape"
   ]
  },
  {
   "cell_type": "code",
   "execution_count": 175,
   "id": "59bd993c",
   "metadata": {},
   "outputs": [],
   "source": [
    "tco.to_csv('tco_metro.csv',index= False)"
   ]
  },
  {
   "cell_type": "code",
   "execution_count": 176,
   "id": "83a534d9",
   "metadata": {},
   "outputs": [
    {
     "data": {
      "text/plain": [
       "(65049, 54)"
      ]
     },
     "execution_count": 176,
     "metadata": {},
     "output_type": "execute_result"
    }
   ],
   "source": [
    "tco.shape"
   ]
  },
  {
   "cell_type": "code",
   "execution_count": 177,
   "id": "0ef6a492",
   "metadata": {},
   "outputs": [
    {
     "data": {
      "text/plain": [
       "array([2019, 2020, 2021], dtype=int64)"
      ]
     },
     "execution_count": 177,
     "metadata": {},
     "output_type": "execute_result"
    }
   ],
   "source": [
    "tco['YEAR'].unique()"
   ]
  },
  {
   "cell_type": "code",
   "execution_count": 178,
   "id": "ea5544c1",
   "metadata": {},
   "outputs": [
    {
     "data": {
      "text/plain": [
       "array(['Texas', 'Oklahoma', 'Colorado'], dtype=object)"
      ]
     },
     "execution_count": 178,
     "metadata": {},
     "output_type": "execute_result"
    }
   ],
   "source": [
    "tco['STATE'].unique()"
   ]
  },
  {
   "cell_type": "code",
   "execution_count": null,
   "id": "10b1cee9",
   "metadata": {},
   "outputs": [],
   "source": []
  },
  {
   "cell_type": "code",
   "execution_count": null,
   "id": "8e764c54",
   "metadata": {},
   "outputs": [],
   "source": []
  }
 ],
 "metadata": {
  "kernelspec": {
   "display_name": "Python 3 (ipykernel)",
   "language": "python",
   "name": "python3"
  },
  "language_info": {
   "codemirror_mode": {
    "name": "ipython",
    "version": 3
   },
   "file_extension": ".py",
   "mimetype": "text/x-python",
   "name": "python",
   "nbconvert_exporter": "python",
   "pygments_lexer": "ipython3",
   "version": "3.11.9"
  }
 },
 "nbformat": 4,
 "nbformat_minor": 5
}
