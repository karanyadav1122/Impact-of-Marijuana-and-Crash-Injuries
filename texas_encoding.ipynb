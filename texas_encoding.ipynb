{
 "cells": [
  {
   "cell_type": "code",
   "execution_count": 2,
   "id": "fdfd87d6",
   "metadata": {},
   "outputs": [],
   "source": [
    "import numpy as np\n",
    "import pandas as pd"
   ]
  },
  {
   "cell_type": "code",
   "execution_count": 3,
   "id": "aac76765",
   "metadata": {},
   "outputs": [],
   "source": [
    "texas_4 = pd.read_csv('C:/Users/karan/texas_recoded_4.csv')"
   ]
  },
  {
   "cell_type": "code",
   "execution_count": 5,
   "id": "2d3f6b39",
   "metadata": {},
   "outputs": [
    {
     "data": {
      "text/plain": [
       "Index(['Crash_ID', 'AGE', 'GENDER', 'DATE', 'TIME', 'COUNTY_FIPS', 'COUNTY',\n",
       "       'INTERSECTION', 'WEATHER', 'LIGHTING', 'SURFACE', 'HUMAN_FACTOR',\n",
       "       'ROAD_CLASS', 'LATITUDE', 'LONGITUDE', 'MEDIANWIDTH', 'LANES',\n",
       "       'ROADWIDTH', 'AADT', 'INJURY_OUTCOME', 'INJURY_COUNT', 'YEAR',\n",
       "       'INTOXICATION'],\n",
       "      dtype='object')"
      ]
     },
     "execution_count": 5,
     "metadata": {},
     "output_type": "execute_result"
    }
   ],
   "source": [
    "texas_4.columns"
   ]
  },
  {
   "cell_type": "code",
   "execution_count": 17,
   "id": "0593772b",
   "metadata": {},
   "outputs": [
    {
     "data": {
      "text/plain": [
       "0         15585669\n",
       "1         16473665\n",
       "2         16585839\n",
       "3         16824697\n",
       "4         16824710\n",
       "            ...   \n",
       "726218    19834478\n",
       "726219    19850863\n",
       "726220    19906451\n",
       "726221    20073914\n",
       "726222    20087367\n",
       "Name: Crash_ID, Length: 726223, dtype: int64"
      ]
     },
     "execution_count": 17,
     "metadata": {},
     "output_type": "execute_result"
    }
   ],
   "source": [
    "texas_4['Crash_ID']"
   ]
  },
  {
   "cell_type": "code",
   "execution_count": 280,
   "id": "a745d1e7",
   "metadata": {},
   "outputs": [
    {
     "name": "stderr",
     "output_type": "stream",
     "text": [
      "C:\\Users\\karan\\AppData\\Local\\Temp\\ipykernel_11700\\1037178860.py:1: DtypeWarning: Columns (2) have mixed types. Specify dtype option on import or set low_memory=False.\n",
      "  colo_4 = pd.read_csv('C:/Users/karan/colorado_comb_recoded_4.csv')\n"
     ]
    }
   ],
   "source": [
    "colo_4 = pd.read_csv('C:/Users/karan/colorado_comb_recoded_4.csv')"
   ]
  },
  {
   "cell_type": "code",
   "execution_count": 7,
   "id": "bfa6b8c5",
   "metadata": {},
   "outputs": [
    {
     "data": {
      "text/plain": [
       "Index(['SYSTEM', 'DATE', 'TIME', 'INJURY 00', 'INJURY 01', 'INJURY 02',\n",
       "       'INJURY 03', 'INJURY 04', 'INTERSECTION', 'CONTOUR', 'SURFACE',\n",
       "       'LIGHTING', 'WEATHER', 'HUMAN_FACTOR', 'INTOXICATION', 'AGE', 'GENDER',\n",
       "       'COUNTY_FIPS', 'COUNTY', 'LATITUDE', 'LONGITUDE', 'YEAR',\n",
       "       'INJURY_COUNT', 'INJURY_OUTCOME'],\n",
       "      dtype='object')"
      ]
     },
     "execution_count": 7,
     "metadata": {},
     "output_type": "execute_result"
    }
   ],
   "source": [
    "colo_4.columns"
   ]
  },
  {
   "cell_type": "code",
   "execution_count": 281,
   "id": "b832c08f",
   "metadata": {},
   "outputs": [],
   "source": [
    "colo_4['INJURY_COUNT'] = colo_4[['INJURY 01', 'INJURY 02',\n",
    "       'INJURY 03', 'INJURY 04']].sum(axis=1)"
   ]
  },
  {
   "cell_type": "code",
   "execution_count": 282,
   "id": "670a36a0",
   "metadata": {},
   "outputs": [
    {
     "data": {
      "text/html": [
       "<div>\n",
       "<style scoped>\n",
       "    .dataframe tbody tr th:only-of-type {\n",
       "        vertical-align: middle;\n",
       "    }\n",
       "\n",
       "    .dataframe tbody tr th {\n",
       "        vertical-align: top;\n",
       "    }\n",
       "\n",
       "    .dataframe thead th {\n",
       "        text-align: right;\n",
       "    }\n",
       "</style>\n",
       "<table border=\"1\" class=\"dataframe\">\n",
       "  <thead>\n",
       "    <tr style=\"text-align: right;\">\n",
       "      <th></th>\n",
       "      <th>INJURY 01</th>\n",
       "      <th>INJURY 02</th>\n",
       "      <th>INJURY 03</th>\n",
       "      <th>INJURY 04</th>\n",
       "      <th>INJURY_COUNT</th>\n",
       "    </tr>\n",
       "  </thead>\n",
       "  <tbody>\n",
       "    <tr>\n",
       "      <th>0</th>\n",
       "      <td>0</td>\n",
       "      <td>0</td>\n",
       "      <td>0</td>\n",
       "      <td>0</td>\n",
       "      <td>0</td>\n",
       "    </tr>\n",
       "    <tr>\n",
       "      <th>1</th>\n",
       "      <td>0</td>\n",
       "      <td>0</td>\n",
       "      <td>0</td>\n",
       "      <td>0</td>\n",
       "      <td>0</td>\n",
       "    </tr>\n",
       "    <tr>\n",
       "      <th>2</th>\n",
       "      <td>0</td>\n",
       "      <td>0</td>\n",
       "      <td>0</td>\n",
       "      <td>0</td>\n",
       "      <td>0</td>\n",
       "    </tr>\n",
       "    <tr>\n",
       "      <th>3</th>\n",
       "      <td>0</td>\n",
       "      <td>1</td>\n",
       "      <td>0</td>\n",
       "      <td>0</td>\n",
       "      <td>1</td>\n",
       "    </tr>\n",
       "    <tr>\n",
       "      <th>4</th>\n",
       "      <td>0</td>\n",
       "      <td>0</td>\n",
       "      <td>5</td>\n",
       "      <td>0</td>\n",
       "      <td>5</td>\n",
       "    </tr>\n",
       "    <tr>\n",
       "      <th>...</th>\n",
       "      <td>...</td>\n",
       "      <td>...</td>\n",
       "      <td>...</td>\n",
       "      <td>...</td>\n",
       "      <td>...</td>\n",
       "    </tr>\n",
       "    <tr>\n",
       "      <th>242114</th>\n",
       "      <td>0</td>\n",
       "      <td>0</td>\n",
       "      <td>0</td>\n",
       "      <td>0</td>\n",
       "      <td>0</td>\n",
       "    </tr>\n",
       "    <tr>\n",
       "      <th>242115</th>\n",
       "      <td>0</td>\n",
       "      <td>0</td>\n",
       "      <td>0</td>\n",
       "      <td>0</td>\n",
       "      <td>0</td>\n",
       "    </tr>\n",
       "    <tr>\n",
       "      <th>242116</th>\n",
       "      <td>2</td>\n",
       "      <td>2</td>\n",
       "      <td>0</td>\n",
       "      <td>0</td>\n",
       "      <td>4</td>\n",
       "    </tr>\n",
       "    <tr>\n",
       "      <th>242117</th>\n",
       "      <td>0</td>\n",
       "      <td>0</td>\n",
       "      <td>0</td>\n",
       "      <td>0</td>\n",
       "      <td>0</td>\n",
       "    </tr>\n",
       "    <tr>\n",
       "      <th>242118</th>\n",
       "      <td>0</td>\n",
       "      <td>0</td>\n",
       "      <td>0</td>\n",
       "      <td>0</td>\n",
       "      <td>0</td>\n",
       "    </tr>\n",
       "  </tbody>\n",
       "</table>\n",
       "<p>242119 rows × 5 columns</p>\n",
       "</div>"
      ],
      "text/plain": [
       "        INJURY 01  INJURY 02  INJURY 03  INJURY 04  INJURY_COUNT\n",
       "0               0          0          0          0             0\n",
       "1               0          0          0          0             0\n",
       "2               0          0          0          0             0\n",
       "3               0          1          0          0             1\n",
       "4               0          0          5          0             5\n",
       "...           ...        ...        ...        ...           ...\n",
       "242114          0          0          0          0             0\n",
       "242115          0          0          0          0             0\n",
       "242116          2          2          0          0             4\n",
       "242117          0          0          0          0             0\n",
       "242118          0          0          0          0             0\n",
       "\n",
       "[242119 rows x 5 columns]"
      ]
     },
     "execution_count": 282,
     "metadata": {},
     "output_type": "execute_result"
    }
   ],
   "source": [
    "colo_4[['INJURY 01', 'INJURY 02',\n",
    "       'INJURY 03', 'INJURY 04','INJURY_COUNT']]"
   ]
  },
  {
   "cell_type": "code",
   "execution_count": 283,
   "id": "4200b63e",
   "metadata": {},
   "outputs": [],
   "source": [
    "colo_4['INJURY_OUTCOME'] = np.where(colo_4['INJURY_COUNT'] == 0,0,1)"
   ]
  },
  {
   "cell_type": "code",
   "execution_count": 284,
   "id": "8f61086f",
   "metadata": {},
   "outputs": [
    {
     "data": {
      "text/html": [
       "<div>\n",
       "<style scoped>\n",
       "    .dataframe tbody tr th:only-of-type {\n",
       "        vertical-align: middle;\n",
       "    }\n",
       "\n",
       "    .dataframe tbody tr th {\n",
       "        vertical-align: top;\n",
       "    }\n",
       "\n",
       "    .dataframe thead th {\n",
       "        text-align: right;\n",
       "    }\n",
       "</style>\n",
       "<table border=\"1\" class=\"dataframe\">\n",
       "  <thead>\n",
       "    <tr style=\"text-align: right;\">\n",
       "      <th></th>\n",
       "      <th>INJURY 01</th>\n",
       "      <th>INJURY 02</th>\n",
       "      <th>INJURY 03</th>\n",
       "      <th>INJURY 04</th>\n",
       "      <th>INJURY_COUNT</th>\n",
       "      <th>INJURY_OUTCOME</th>\n",
       "    </tr>\n",
       "  </thead>\n",
       "  <tbody>\n",
       "    <tr>\n",
       "      <th>0</th>\n",
       "      <td>0</td>\n",
       "      <td>0</td>\n",
       "      <td>0</td>\n",
       "      <td>0</td>\n",
       "      <td>0</td>\n",
       "      <td>0</td>\n",
       "    </tr>\n",
       "    <tr>\n",
       "      <th>1</th>\n",
       "      <td>0</td>\n",
       "      <td>0</td>\n",
       "      <td>0</td>\n",
       "      <td>0</td>\n",
       "      <td>0</td>\n",
       "      <td>0</td>\n",
       "    </tr>\n",
       "    <tr>\n",
       "      <th>2</th>\n",
       "      <td>0</td>\n",
       "      <td>0</td>\n",
       "      <td>0</td>\n",
       "      <td>0</td>\n",
       "      <td>0</td>\n",
       "      <td>0</td>\n",
       "    </tr>\n",
       "    <tr>\n",
       "      <th>3</th>\n",
       "      <td>0</td>\n",
       "      <td>1</td>\n",
       "      <td>0</td>\n",
       "      <td>0</td>\n",
       "      <td>1</td>\n",
       "      <td>1</td>\n",
       "    </tr>\n",
       "    <tr>\n",
       "      <th>4</th>\n",
       "      <td>0</td>\n",
       "      <td>0</td>\n",
       "      <td>5</td>\n",
       "      <td>0</td>\n",
       "      <td>5</td>\n",
       "      <td>1</td>\n",
       "    </tr>\n",
       "    <tr>\n",
       "      <th>...</th>\n",
       "      <td>...</td>\n",
       "      <td>...</td>\n",
       "      <td>...</td>\n",
       "      <td>...</td>\n",
       "      <td>...</td>\n",
       "      <td>...</td>\n",
       "    </tr>\n",
       "    <tr>\n",
       "      <th>242114</th>\n",
       "      <td>0</td>\n",
       "      <td>0</td>\n",
       "      <td>0</td>\n",
       "      <td>0</td>\n",
       "      <td>0</td>\n",
       "      <td>0</td>\n",
       "    </tr>\n",
       "    <tr>\n",
       "      <th>242115</th>\n",
       "      <td>0</td>\n",
       "      <td>0</td>\n",
       "      <td>0</td>\n",
       "      <td>0</td>\n",
       "      <td>0</td>\n",
       "      <td>0</td>\n",
       "    </tr>\n",
       "    <tr>\n",
       "      <th>242116</th>\n",
       "      <td>2</td>\n",
       "      <td>2</td>\n",
       "      <td>0</td>\n",
       "      <td>0</td>\n",
       "      <td>4</td>\n",
       "      <td>1</td>\n",
       "    </tr>\n",
       "    <tr>\n",
       "      <th>242117</th>\n",
       "      <td>0</td>\n",
       "      <td>0</td>\n",
       "      <td>0</td>\n",
       "      <td>0</td>\n",
       "      <td>0</td>\n",
       "      <td>0</td>\n",
       "    </tr>\n",
       "    <tr>\n",
       "      <th>242118</th>\n",
       "      <td>0</td>\n",
       "      <td>0</td>\n",
       "      <td>0</td>\n",
       "      <td>0</td>\n",
       "      <td>0</td>\n",
       "      <td>0</td>\n",
       "    </tr>\n",
       "  </tbody>\n",
       "</table>\n",
       "<p>242119 rows × 6 columns</p>\n",
       "</div>"
      ],
      "text/plain": [
       "        INJURY 01  INJURY 02  INJURY 03  INJURY 04  INJURY_COUNT  \\\n",
       "0               0          0          0          0             0   \n",
       "1               0          0          0          0             0   \n",
       "2               0          0          0          0             0   \n",
       "3               0          1          0          0             1   \n",
       "4               0          0          5          0             5   \n",
       "...           ...        ...        ...        ...           ...   \n",
       "242114          0          0          0          0             0   \n",
       "242115          0          0          0          0             0   \n",
       "242116          2          2          0          0             4   \n",
       "242117          0          0          0          0             0   \n",
       "242118          0          0          0          0             0   \n",
       "\n",
       "        INJURY_OUTCOME  \n",
       "0                    0  \n",
       "1                    0  \n",
       "2                    0  \n",
       "3                    1  \n",
       "4                    1  \n",
       "...                ...  \n",
       "242114               0  \n",
       "242115               0  \n",
       "242116               1  \n",
       "242117               0  \n",
       "242118               0  \n",
       "\n",
       "[242119 rows x 6 columns]"
      ]
     },
     "execution_count": 284,
     "metadata": {},
     "output_type": "execute_result"
    }
   ],
   "source": [
    "colo_4[['INJURY 01', 'INJURY 02',\n",
    "       'INJURY 03', 'INJURY 04','INJURY_COUNT','INJURY_OUTCOME']]"
   ]
  },
  {
   "cell_type": "code",
   "execution_count": 285,
   "id": "bec212de",
   "metadata": {},
   "outputs": [
    {
     "data": {
      "text/plain": [
       "(242119, 24)"
      ]
     },
     "execution_count": 285,
     "metadata": {},
     "output_type": "execute_result"
    }
   ],
   "source": [
    "colo_4.shape"
   ]
  },
  {
   "cell_type": "code",
   "execution_count": 286,
   "id": "2e85a272",
   "metadata": {},
   "outputs": [],
   "source": [
    "def generate_crash_id(index):\n",
    "    return str(index + 10000000)  # Adding 10000000 ensures the number is 8 digits and doesn't start with 0\n",
    "\n",
    "# Generate unique Crash_ID for each row\n",
    "colo_4['Crash_ID'] = [generate_crash_id(i) for i in range(len(colo_4))]\n"
   ]
  },
  {
   "cell_type": "code",
   "execution_count": 287,
   "id": "40f06c44",
   "metadata": {},
   "outputs": [
    {
     "data": {
      "text/plain": [
       "242119"
      ]
     },
     "execution_count": 287,
     "metadata": {},
     "output_type": "execute_result"
    }
   ],
   "source": [
    "colo_4['Crash_ID'].nunique()"
   ]
  },
  {
   "cell_type": "code",
   "execution_count": 288,
   "id": "4ce38890",
   "metadata": {},
   "outputs": [
    {
     "data": {
      "text/plain": [
       "Index(['SYSTEM', 'DATE', 'TIME', 'INJURY 00', 'INJURY 01', 'INJURY 02',\n",
       "       'INJURY 03', 'INJURY 04', 'INTERSECTION', 'CONTOUR', 'SURFACE',\n",
       "       'LIGHTING', 'WEATHER', 'HUMAN_FACTOR', 'INTOXICATION', 'AGE', 'GENDER',\n",
       "       'COUNTY_FIPS', 'COUNTY', 'LATITUDE', 'LONGITUDE', 'YEAR',\n",
       "       'INJURY_COUNT', 'INJURY_OUTCOME', 'Crash_ID'],\n",
       "      dtype='object')"
      ]
     },
     "execution_count": 288,
     "metadata": {},
     "output_type": "execute_result"
    }
   ],
   "source": [
    "colo_4.columns"
   ]
  },
  {
   "cell_type": "code",
   "execution_count": 238,
   "id": "ed3053ac",
   "metadata": {},
   "outputs": [],
   "source": [
    "colo_4.to_csv('colo_recoded_4.csv',index=False)"
   ]
  },
  {
   "cell_type": "code",
   "execution_count": 32,
   "id": "bed99cc3",
   "metadata": {},
   "outputs": [
    {
     "data": {
      "text/plain": [
       "Index(['Crash_ID', 'AGE', 'GENDER', 'DATE', 'TIME', 'COUNTY_FIPS', 'COUNTY',\n",
       "       'INTERSECTION', 'WEATHER', 'LIGHTING', 'SURFACE', 'HUMAN_FACTOR',\n",
       "       'ROAD_CLASS', 'LATITUDE', 'LONGITUDE', 'MEDIANWIDTH', 'LANES',\n",
       "       'ROADWIDTH', 'AADT', 'INJURY_OUTCOME', 'INJURY_COUNT', 'YEAR',\n",
       "       'INTOXICATION'],\n",
       "      dtype='object')"
      ]
     },
     "execution_count": 32,
     "metadata": {},
     "output_type": "execute_result"
    }
   ],
   "source": [
    "texas_4.columns"
   ]
  },
  {
   "cell_type": "code",
   "execution_count": 3,
   "id": "2e469765",
   "metadata": {
    "scrolled": true
   },
   "outputs": [],
   "source": [
    "okla = pd.read_csv('C:/Users/karan/Final_Oklahoma_4.csv')"
   ]
  },
  {
   "cell_type": "code",
   "execution_count": 4,
   "id": "babbfc10",
   "metadata": {},
   "outputs": [
    {
     "data": {
      "text/plain": [
       "array([11,  2,  3, 12,  0,  5,  4,  7,  6, 10], dtype=int64)"
      ]
     },
     "execution_count": 4,
     "metadata": {},
     "output_type": "execute_result"
    }
   ],
   "source": [
    "okla['WEATHER_CAT'].unique()"
   ]
  },
  {
   "cell_type": "code",
   "execution_count": 36,
   "id": "ac83349a",
   "metadata": {},
   "outputs": [
    {
     "data": {
      "text/plain": [
       "Index(['Join_Count', 'TARGET_FID', 'Crash_ID', 'FATAL', 'County_FIP', 'COUNTY',\n",
       "       'CITY', 'DATE', 'TIME', 'LIGHTING_CAT', 'WEATHER_CAT', 'YEAR',\n",
       "       'RDWAY_CLASS', 'INTOXICATION', 'LATITUDE', 'LONGITUDE', 'INATTENTION',\n",
       "       'SPEEDING', 'TEEN_DRIVE', 'OLDER_DRIV', 'FATAL_COUNT', 'INJURY_COUNT',\n",
       "       'INJURY_OUTCOME', 'x', 'y', 'ROUTE_ID', 'FROM_MEASU', 'TO_MEASURE',\n",
       "       'AADT', 'MEDIANWIDT', 'FUNCTIONAL', 'LANES', 'ROWWIDTH', 'SPEEDLIMIT',\n",
       "       'MLENGTH'],\n",
       "      dtype='object')"
      ]
     },
     "execution_count": 36,
     "metadata": {},
     "output_type": "execute_result"
    }
   ],
   "source": [
    "okla.columns"
   ]
  },
  {
   "cell_type": "code",
   "execution_count": 40,
   "id": "0efb8be3",
   "metadata": {},
   "outputs": [
    {
     "data": {
      "text/html": [
       "<div>\n",
       "<style scoped>\n",
       "    .dataframe tbody tr th:only-of-type {\n",
       "        vertical-align: middle;\n",
       "    }\n",
       "\n",
       "    .dataframe tbody tr th {\n",
       "        vertical-align: top;\n",
       "    }\n",
       "\n",
       "    .dataframe thead th {\n",
       "        text-align: right;\n",
       "    }\n",
       "</style>\n",
       "<table border=\"1\" class=\"dataframe\">\n",
       "  <thead>\n",
       "    <tr style=\"text-align: right;\">\n",
       "      <th></th>\n",
       "      <th>INATTENTION</th>\n",
       "      <th>SPEEDING</th>\n",
       "    </tr>\n",
       "  </thead>\n",
       "  <tbody>\n",
       "    <tr>\n",
       "      <th>0</th>\n",
       "      <td>0</td>\n",
       "      <td>0</td>\n",
       "    </tr>\n",
       "    <tr>\n",
       "      <th>1</th>\n",
       "      <td>0</td>\n",
       "      <td>0</td>\n",
       "    </tr>\n",
       "    <tr>\n",
       "      <th>2</th>\n",
       "      <td>1</td>\n",
       "      <td>0</td>\n",
       "    </tr>\n",
       "    <tr>\n",
       "      <th>3</th>\n",
       "      <td>0</td>\n",
       "      <td>0</td>\n",
       "    </tr>\n",
       "    <tr>\n",
       "      <th>4</th>\n",
       "      <td>0</td>\n",
       "      <td>0</td>\n",
       "    </tr>\n",
       "    <tr>\n",
       "      <th>...</th>\n",
       "      <td>...</td>\n",
       "      <td>...</td>\n",
       "    </tr>\n",
       "    <tr>\n",
       "      <th>27727</th>\n",
       "      <td>1</td>\n",
       "      <td>0</td>\n",
       "    </tr>\n",
       "    <tr>\n",
       "      <th>27728</th>\n",
       "      <td>0</td>\n",
       "      <td>0</td>\n",
       "    </tr>\n",
       "    <tr>\n",
       "      <th>27729</th>\n",
       "      <td>0</td>\n",
       "      <td>0</td>\n",
       "    </tr>\n",
       "    <tr>\n",
       "      <th>27730</th>\n",
       "      <td>1</td>\n",
       "      <td>0</td>\n",
       "    </tr>\n",
       "    <tr>\n",
       "      <th>27731</th>\n",
       "      <td>1</td>\n",
       "      <td>0</td>\n",
       "    </tr>\n",
       "  </tbody>\n",
       "</table>\n",
       "<p>27732 rows × 2 columns</p>\n",
       "</div>"
      ],
      "text/plain": [
       "       INATTENTION  SPEEDING\n",
       "0                0         0\n",
       "1                0         0\n",
       "2                1         0\n",
       "3                0         0\n",
       "4                0         0\n",
       "...            ...       ...\n",
       "27727            1         0\n",
       "27728            0         0\n",
       "27729            0         0\n",
       "27730            1         0\n",
       "27731            1         0\n",
       "\n",
       "[27732 rows x 2 columns]"
      ]
     },
     "execution_count": 40,
     "metadata": {},
     "output_type": "execute_result"
    }
   ],
   "source": [
    "okla[['INATTENTION','SPEEDING']]"
   ]
  },
  {
   "cell_type": "code",
   "execution_count": 120,
   "id": "91cb7b9e",
   "metadata": {},
   "outputs": [],
   "source": [
    "texas_road = pd.read_csv('C:/Texas/Texas_Road.csv')"
   ]
  },
  {
   "cell_type": "code",
   "execution_count": 121,
   "id": "9fa27ac1",
   "metadata": {},
   "outputs": [],
   "source": [
    "texas_road['SPEEDING'] = np.where(texas_road['HUMAN_FACTOR'] ==1,1,0)"
   ]
  },
  {
   "cell_type": "code",
   "execution_count": 122,
   "id": "5c9bdd4a",
   "metadata": {},
   "outputs": [
    {
     "data": {
      "text/html": [
       "<div>\n",
       "<style scoped>\n",
       "    .dataframe tbody tr th:only-of-type {\n",
       "        vertical-align: middle;\n",
       "    }\n",
       "\n",
       "    .dataframe tbody tr th {\n",
       "        vertical-align: top;\n",
       "    }\n",
       "\n",
       "    .dataframe thead th {\n",
       "        text-align: right;\n",
       "    }\n",
       "</style>\n",
       "<table border=\"1\" class=\"dataframe\">\n",
       "  <thead>\n",
       "    <tr style=\"text-align: right;\">\n",
       "      <th></th>\n",
       "      <th>HUMAN_FACTOR</th>\n",
       "      <th>SPEEDING</th>\n",
       "    </tr>\n",
       "  </thead>\n",
       "  <tbody>\n",
       "    <tr>\n",
       "      <th>17</th>\n",
       "      <td>1</td>\n",
       "      <td>1</td>\n",
       "    </tr>\n",
       "    <tr>\n",
       "      <th>165</th>\n",
       "      <td>1</td>\n",
       "      <td>1</td>\n",
       "    </tr>\n",
       "    <tr>\n",
       "      <th>368</th>\n",
       "      <td>1</td>\n",
       "      <td>1</td>\n",
       "    </tr>\n",
       "    <tr>\n",
       "      <th>417</th>\n",
       "      <td>1</td>\n",
       "      <td>1</td>\n",
       "    </tr>\n",
       "    <tr>\n",
       "      <th>477</th>\n",
       "      <td>1</td>\n",
       "      <td>1</td>\n",
       "    </tr>\n",
       "    <tr>\n",
       "      <th>...</th>\n",
       "      <td>...</td>\n",
       "      <td>...</td>\n",
       "    </tr>\n",
       "    <tr>\n",
       "      <th>725071</th>\n",
       "      <td>1</td>\n",
       "      <td>1</td>\n",
       "    </tr>\n",
       "    <tr>\n",
       "      <th>725469</th>\n",
       "      <td>1</td>\n",
       "      <td>1</td>\n",
       "    </tr>\n",
       "    <tr>\n",
       "      <th>725478</th>\n",
       "      <td>1</td>\n",
       "      <td>1</td>\n",
       "    </tr>\n",
       "    <tr>\n",
       "      <th>726140</th>\n",
       "      <td>1</td>\n",
       "      <td>1</td>\n",
       "    </tr>\n",
       "    <tr>\n",
       "      <th>726163</th>\n",
       "      <td>1</td>\n",
       "      <td>1</td>\n",
       "    </tr>\n",
       "  </tbody>\n",
       "</table>\n",
       "<p>3798 rows × 2 columns</p>\n",
       "</div>"
      ],
      "text/plain": [
       "        HUMAN_FACTOR  SPEEDING\n",
       "17                 1         1\n",
       "165                1         1\n",
       "368                1         1\n",
       "417                1         1\n",
       "477                1         1\n",
       "...              ...       ...\n",
       "725071             1         1\n",
       "725469             1         1\n",
       "725478             1         1\n",
       "726140             1         1\n",
       "726163             1         1\n",
       "\n",
       "[3798 rows x 2 columns]"
      ]
     },
     "execution_count": 122,
     "metadata": {},
     "output_type": "execute_result"
    }
   ],
   "source": [
    "texas_road[texas_road['SPEEDING']==1][['HUMAN_FACTOR','SPEEDING']]"
   ]
  },
  {
   "cell_type": "code",
   "execution_count": 123,
   "id": "ad17c5bb",
   "metadata": {},
   "outputs": [
    {
     "data": {
      "text/html": [
       "<div>\n",
       "<style scoped>\n",
       "    .dataframe tbody tr th:only-of-type {\n",
       "        vertical-align: middle;\n",
       "    }\n",
       "\n",
       "    .dataframe tbody tr th {\n",
       "        vertical-align: top;\n",
       "    }\n",
       "\n",
       "    .dataframe thead th {\n",
       "        text-align: right;\n",
       "    }\n",
       "</style>\n",
       "<table border=\"1\" class=\"dataframe\">\n",
       "  <thead>\n",
       "    <tr style=\"text-align: right;\">\n",
       "      <th></th>\n",
       "      <th>HUMAN_FACTOR</th>\n",
       "      <th>SPEEDING</th>\n",
       "    </tr>\n",
       "  </thead>\n",
       "  <tbody>\n",
       "    <tr>\n",
       "      <th>0</th>\n",
       "      <td>8</td>\n",
       "      <td>0</td>\n",
       "    </tr>\n",
       "    <tr>\n",
       "      <th>1</th>\n",
       "      <td>8</td>\n",
       "      <td>0</td>\n",
       "    </tr>\n",
       "    <tr>\n",
       "      <th>2</th>\n",
       "      <td>7</td>\n",
       "      <td>0</td>\n",
       "    </tr>\n",
       "    <tr>\n",
       "      <th>3</th>\n",
       "      <td>2</td>\n",
       "      <td>0</td>\n",
       "    </tr>\n",
       "    <tr>\n",
       "      <th>4</th>\n",
       "      <td>8</td>\n",
       "      <td>0</td>\n",
       "    </tr>\n",
       "    <tr>\n",
       "      <th>...</th>\n",
       "      <td>...</td>\n",
       "      <td>...</td>\n",
       "    </tr>\n",
       "    <tr>\n",
       "      <th>726218</th>\n",
       "      <td>8</td>\n",
       "      <td>0</td>\n",
       "    </tr>\n",
       "    <tr>\n",
       "      <th>726219</th>\n",
       "      <td>8</td>\n",
       "      <td>0</td>\n",
       "    </tr>\n",
       "    <tr>\n",
       "      <th>726220</th>\n",
       "      <td>8</td>\n",
       "      <td>0</td>\n",
       "    </tr>\n",
       "    <tr>\n",
       "      <th>726221</th>\n",
       "      <td>5</td>\n",
       "      <td>0</td>\n",
       "    </tr>\n",
       "    <tr>\n",
       "      <th>726222</th>\n",
       "      <td>8</td>\n",
       "      <td>0</td>\n",
       "    </tr>\n",
       "  </tbody>\n",
       "</table>\n",
       "<p>726223 rows × 2 columns</p>\n",
       "</div>"
      ],
      "text/plain": [
       "        HUMAN_FACTOR  SPEEDING\n",
       "0                  8         0\n",
       "1                  8         0\n",
       "2                  7         0\n",
       "3                  2         0\n",
       "4                  8         0\n",
       "...              ...       ...\n",
       "726218             8         0\n",
       "726219             8         0\n",
       "726220             8         0\n",
       "726221             5         0\n",
       "726222             8         0\n",
       "\n",
       "[726223 rows x 2 columns]"
      ]
     },
     "execution_count": 123,
     "metadata": {},
     "output_type": "execute_result"
    }
   ],
   "source": [
    "texas_road[['HUMAN_FACTOR','SPEEDING']]"
   ]
  },
  {
   "cell_type": "code",
   "execution_count": 124,
   "id": "f3deeb6c",
   "metadata": {},
   "outputs": [],
   "source": [
    "texas_road['INATTENTION'] = np.where(texas_4['HUMAN_FACTOR']==2,1,0)"
   ]
  },
  {
   "cell_type": "code",
   "execution_count": 125,
   "id": "19f2821f",
   "metadata": {},
   "outputs": [
    {
     "data": {
      "text/html": [
       "<div>\n",
       "<style scoped>\n",
       "    .dataframe tbody tr th:only-of-type {\n",
       "        vertical-align: middle;\n",
       "    }\n",
       "\n",
       "    .dataframe tbody tr th {\n",
       "        vertical-align: top;\n",
       "    }\n",
       "\n",
       "    .dataframe thead th {\n",
       "        text-align: right;\n",
       "    }\n",
       "</style>\n",
       "<table border=\"1\" class=\"dataframe\">\n",
       "  <thead>\n",
       "    <tr style=\"text-align: right;\">\n",
       "      <th></th>\n",
       "      <th>INATTENTION</th>\n",
       "      <th>HUMAN_FACTOR</th>\n",
       "    </tr>\n",
       "  </thead>\n",
       "  <tbody>\n",
       "    <tr>\n",
       "      <th>0</th>\n",
       "      <td>0</td>\n",
       "      <td>8</td>\n",
       "    </tr>\n",
       "    <tr>\n",
       "      <th>1</th>\n",
       "      <td>0</td>\n",
       "      <td>8</td>\n",
       "    </tr>\n",
       "    <tr>\n",
       "      <th>2</th>\n",
       "      <td>0</td>\n",
       "      <td>7</td>\n",
       "    </tr>\n",
       "    <tr>\n",
       "      <th>3</th>\n",
       "      <td>1</td>\n",
       "      <td>2</td>\n",
       "    </tr>\n",
       "    <tr>\n",
       "      <th>4</th>\n",
       "      <td>0</td>\n",
       "      <td>8</td>\n",
       "    </tr>\n",
       "    <tr>\n",
       "      <th>...</th>\n",
       "      <td>...</td>\n",
       "      <td>...</td>\n",
       "    </tr>\n",
       "    <tr>\n",
       "      <th>726218</th>\n",
       "      <td>0</td>\n",
       "      <td>8</td>\n",
       "    </tr>\n",
       "    <tr>\n",
       "      <th>726219</th>\n",
       "      <td>0</td>\n",
       "      <td>8</td>\n",
       "    </tr>\n",
       "    <tr>\n",
       "      <th>726220</th>\n",
       "      <td>0</td>\n",
       "      <td>8</td>\n",
       "    </tr>\n",
       "    <tr>\n",
       "      <th>726221</th>\n",
       "      <td>0</td>\n",
       "      <td>5</td>\n",
       "    </tr>\n",
       "    <tr>\n",
       "      <th>726222</th>\n",
       "      <td>0</td>\n",
       "      <td>8</td>\n",
       "    </tr>\n",
       "  </tbody>\n",
       "</table>\n",
       "<p>726223 rows × 2 columns</p>\n",
       "</div>"
      ],
      "text/plain": [
       "        INATTENTION  HUMAN_FACTOR\n",
       "0                 0             8\n",
       "1                 0             8\n",
       "2                 0             7\n",
       "3                 1             2\n",
       "4                 0             8\n",
       "...             ...           ...\n",
       "726218            0             8\n",
       "726219            0             8\n",
       "726220            0             8\n",
       "726221            0             5\n",
       "726222            0             8\n",
       "\n",
       "[726223 rows x 2 columns]"
      ]
     },
     "execution_count": 125,
     "metadata": {},
     "output_type": "execute_result"
    }
   ],
   "source": [
    "texas_road[['INATTENTION','HUMAN_FACTOR']]"
   ]
  },
  {
   "cell_type": "code",
   "execution_count": 126,
   "id": "15e0a629",
   "metadata": {},
   "outputs": [
    {
     "data": {
      "text/html": [
       "<div>\n",
       "<style scoped>\n",
       "    .dataframe tbody tr th:only-of-type {\n",
       "        vertical-align: middle;\n",
       "    }\n",
       "\n",
       "    .dataframe tbody tr th {\n",
       "        vertical-align: top;\n",
       "    }\n",
       "\n",
       "    .dataframe thead th {\n",
       "        text-align: right;\n",
       "    }\n",
       "</style>\n",
       "<table border=\"1\" class=\"dataframe\">\n",
       "  <thead>\n",
       "    <tr style=\"text-align: right;\">\n",
       "      <th></th>\n",
       "      <th>HUMAN_FACTOR</th>\n",
       "      <th>INATTENTION</th>\n",
       "    </tr>\n",
       "  </thead>\n",
       "  <tbody>\n",
       "    <tr>\n",
       "      <th>3</th>\n",
       "      <td>2</td>\n",
       "      <td>1</td>\n",
       "    </tr>\n",
       "    <tr>\n",
       "      <th>6</th>\n",
       "      <td>2</td>\n",
       "      <td>1</td>\n",
       "    </tr>\n",
       "    <tr>\n",
       "      <th>8</th>\n",
       "      <td>2</td>\n",
       "      <td>1</td>\n",
       "    </tr>\n",
       "    <tr>\n",
       "      <th>10</th>\n",
       "      <td>2</td>\n",
       "      <td>1</td>\n",
       "    </tr>\n",
       "    <tr>\n",
       "      <th>18</th>\n",
       "      <td>2</td>\n",
       "      <td>1</td>\n",
       "    </tr>\n",
       "    <tr>\n",
       "      <th>...</th>\n",
       "      <td>...</td>\n",
       "      <td>...</td>\n",
       "    </tr>\n",
       "    <tr>\n",
       "      <th>726105</th>\n",
       "      <td>2</td>\n",
       "      <td>1</td>\n",
       "    </tr>\n",
       "    <tr>\n",
       "      <th>726131</th>\n",
       "      <td>2</td>\n",
       "      <td>1</td>\n",
       "    </tr>\n",
       "    <tr>\n",
       "      <th>726173</th>\n",
       "      <td>2</td>\n",
       "      <td>1</td>\n",
       "    </tr>\n",
       "    <tr>\n",
       "      <th>726181</th>\n",
       "      <td>2</td>\n",
       "      <td>1</td>\n",
       "    </tr>\n",
       "    <tr>\n",
       "      <th>726190</th>\n",
       "      <td>2</td>\n",
       "      <td>1</td>\n",
       "    </tr>\n",
       "  </tbody>\n",
       "</table>\n",
       "<p>30725 rows × 2 columns</p>\n",
       "</div>"
      ],
      "text/plain": [
       "        HUMAN_FACTOR  INATTENTION\n",
       "3                  2            1\n",
       "6                  2            1\n",
       "8                  2            1\n",
       "10                 2            1\n",
       "18                 2            1\n",
       "...              ...          ...\n",
       "726105             2            1\n",
       "726131             2            1\n",
       "726173             2            1\n",
       "726181             2            1\n",
       "726190             2            1\n",
       "\n",
       "[30725 rows x 2 columns]"
      ]
     },
     "execution_count": 126,
     "metadata": {},
     "output_type": "execute_result"
    }
   ],
   "source": [
    "texas_road[texas_road['HUMAN_FACTOR']==2][['HUMAN_FACTOR','INATTENTION']]"
   ]
  },
  {
   "cell_type": "code",
   "execution_count": 127,
   "id": "91ed79e3",
   "metadata": {},
   "outputs": [],
   "source": [
    "texas_road['LANE_CHNG'] = np.where(texas_road['HUMAN_FACTOR']==3,1,0)"
   ]
  },
  {
   "cell_type": "code",
   "execution_count": 128,
   "id": "549ee422",
   "metadata": {},
   "outputs": [],
   "source": [
    "texas_road['TAILGATING'] = np.where(texas_road['HUMAN_FACTOR']==4,1,0)"
   ]
  },
  {
   "cell_type": "code",
   "execution_count": 129,
   "id": "e8e838d3",
   "metadata": {},
   "outputs": [],
   "source": [
    "texas_road['VIOLATION'] = np.where(texas_road['HUMAN_FACTOR']==5,1,0)"
   ]
  },
  {
   "cell_type": "code",
   "execution_count": 130,
   "id": "f01992af",
   "metadata": {},
   "outputs": [],
   "source": [
    "texas_road['UNSAFE_BACKING'] = np.where(texas_road['HUMAN_FACTOR']==6,1,0)"
   ]
  },
  {
   "cell_type": "code",
   "execution_count": 131,
   "id": "981ad1ce",
   "metadata": {},
   "outputs": [],
   "source": [
    "texas_road['IMPAIRMENT'] =  np.where(texas_road['HUMAN_FACTOR']==7,1,0)"
   ]
  },
  {
   "cell_type": "code",
   "execution_count": 132,
   "id": "7b75817c",
   "metadata": {},
   "outputs": [],
   "source": [
    "texas_road['TURNING'] = np.where(texas_road['HUMAN_FACTOR']==8,1,0)"
   ]
  },
  {
   "cell_type": "code",
   "execution_count": 133,
   "id": "76744c90",
   "metadata": {},
   "outputs": [],
   "source": [
    "texas_road['TECH_PARK'] = np.where(texas_road['HUMAN_FACTOR']==9,1,0)"
   ]
  },
  {
   "cell_type": "code",
   "execution_count": 134,
   "id": "e67c26c1",
   "metadata": {},
   "outputs": [],
   "source": [
    "texas_road['NO_FAULT'] = np.where(texas_road['HUMAN_FACTOR']==10,1,0)"
   ]
  },
  {
   "cell_type": "code",
   "execution_count": 135,
   "id": "b63f2b9b",
   "metadata": {},
   "outputs": [],
   "source": [
    "texas_road['KNW_HMN_FACTOR'] = np.where(texas_road['HUMAN_FACTOR'] == 11,1,0)"
   ]
  },
  {
   "cell_type": "code",
   "execution_count": 136,
   "id": "46f5fd93",
   "metadata": {},
   "outputs": [],
   "source": [
    "texas_road['UNK_HMN_FACTOR'] = np.where(texas_road['HUMAN_FACTOR']==12,1,0)"
   ]
  },
  {
   "cell_type": "code",
   "execution_count": 137,
   "id": "591808b4",
   "metadata": {},
   "outputs": [
    {
     "data": {
      "text/plain": [
       "Index(['Join_Count', 'TARGET_FID', 'CRASH_ID', 'AGE', 'GENDER', 'DATE', 'TIME',\n",
       "       'COUNTY_FIP', 'COUNTY', 'INTERSECTION', 'WEATHER', 'LIGHTING',\n",
       "       'SURFACE', 'HUMAN_FACTOR', 'ROAD_CLASS', 'LATITUDE', 'LONGITUDE',\n",
       "       'MEDIANWIDTH', 'LANES', 'ROADWIDTH', 'AADT', 'INJURY_OUTCOME',\n",
       "       'INJURY_COUNT', 'YEAR', 'INTOXICATION', 'RTE_GRID', 'FRM_DFO', 'TO_DFO',\n",
       "       'FUNCTIONAL', 'SPD_MAX', 'LEN_SEC', 'LN_MILES', 'SPEEDING',\n",
       "       'INATTENTION', 'LANE_CHNG', 'TAILGATING', 'VIOLATION', 'UNSAFE_BACKING',\n",
       "       'IMPAIRMENT', 'TURNING', 'TECH_PARK', 'NO_FAULT', 'KNW_HMN_FACTOR',\n",
       "       'UNK_HMN_FACTOR'],\n",
       "      dtype='object')"
      ]
     },
     "execution_count": 137,
     "metadata": {},
     "output_type": "execute_result"
    }
   ],
   "source": [
    "texas_road.columns"
   ]
  },
  {
   "cell_type": "code",
   "execution_count": 138,
   "id": "c0a1837f",
   "metadata": {},
   "outputs": [
    {
     "data": {
      "text/plain": [
       "array([11, 12,  5,  2,  3,  8,  0,  4,  6,  7], dtype=int64)"
      ]
     },
     "execution_count": 138,
     "metadata": {},
     "output_type": "execute_result"
    }
   ],
   "source": [
    "texas_road['WEATHER'].unique()"
   ]
  },
  {
   "cell_type": "code",
   "execution_count": 139,
   "id": "473613b3",
   "metadata": {},
   "outputs": [],
   "source": [
    "texas_road['UNK_WEATHER'] = np.where(texas_road['WEATHER']==0,1,0)"
   ]
  },
  {
   "cell_type": "code",
   "execution_count": 140,
   "id": "91f7e34a",
   "metadata": {},
   "outputs": [],
   "source": [
    "texas_road['RAIN'] = np.where(texas_road['WEATHER']==2,1,0)"
   ]
  },
  {
   "cell_type": "code",
   "execution_count": 141,
   "id": "64ef4903",
   "metadata": {},
   "outputs": [],
   "source": [
    "texas_road['SLEET_HAIL'] = np.where(texas_road['WEATHER']==3,1,0)"
   ]
  },
  {
   "cell_type": "code",
   "execution_count": 142,
   "id": "624810d0",
   "metadata": {},
   "outputs": [],
   "source": [
    "texas_road['SNOW'] = np.where(texas_road['WEATHER']==4,1,0)"
   ]
  },
  {
   "cell_type": "code",
   "execution_count": 143,
   "id": "5e1520de",
   "metadata": {},
   "outputs": [],
   "source": [
    "texas_road['FOG'] = np.where(texas_road['WEATHER']==5,1,0)"
   ]
  },
  {
   "cell_type": "code",
   "execution_count": 144,
   "id": "8d8aac5c",
   "metadata": {},
   "outputs": [],
   "source": [
    "texas_road['SAND_SNOW'] = np.where(texas_road['WEATHER'] == 6,1,0)"
   ]
  },
  {
   "cell_type": "code",
   "execution_count": 145,
   "id": "081cda48",
   "metadata": {},
   "outputs": [],
   "source": [
    "texas_road['CROSSWIND'] = np.where(texas_road['WEATHER']==7,1,0)"
   ]
  },
  {
   "cell_type": "code",
   "execution_count": 146,
   "id": "eb2acf0d",
   "metadata": {},
   "outputs": [],
   "source": [
    "texas_road['OTHER_WEATHER'] = np.where(texas_road['WEATHER']==8,1,0)"
   ]
  },
  {
   "cell_type": "code",
   "execution_count": 147,
   "id": "11b664a4",
   "metadata": {},
   "outputs": [],
   "source": [
    "texas_road['CLEAR'] = np.where(texas_road['WEATHER']==11,1,0)"
   ]
  },
  {
   "cell_type": "code",
   "execution_count": 148,
   "id": "7b5725b4",
   "metadata": {},
   "outputs": [],
   "source": [
    "texas_road['CLOUDY'] = np.where(texas_road['WEATHER'] ==12,1,0)"
   ]
  },
  {
   "cell_type": "code",
   "execution_count": 149,
   "id": "d0b1a814",
   "metadata": {},
   "outputs": [
    {
     "data": {
      "text/plain": [
       "Index(['Join_Count', 'TARGET_FID', 'CRASH_ID', 'AGE', 'GENDER', 'DATE', 'TIME',\n",
       "       'COUNTY_FIP', 'COUNTY', 'INTERSECTION', 'WEATHER', 'LIGHTING',\n",
       "       'SURFACE', 'HUMAN_FACTOR', 'ROAD_CLASS', 'LATITUDE', 'LONGITUDE',\n",
       "       'MEDIANWIDTH', 'LANES', 'ROADWIDTH', 'AADT', 'INJURY_OUTCOME',\n",
       "       'INJURY_COUNT', 'YEAR', 'INTOXICATION', 'RTE_GRID', 'FRM_DFO', 'TO_DFO',\n",
       "       'FUNCTIONAL', 'SPD_MAX', 'LEN_SEC', 'LN_MILES', 'SPEEDING',\n",
       "       'INATTENTION', 'LANE_CHNG', 'TAILGATING', 'VIOLATION', 'UNSAFE_BACKING',\n",
       "       'IMPAIRMENT', 'TURNING', 'TECH_PARK', 'NO_FAULT', 'KNW_HMN_FACTOR',\n",
       "       'UNK_HMN_FACTOR', 'UNK_WEATHER', 'RAIN', 'SLEET_HAIL', 'SNOW', 'FOG',\n",
       "       'SAND_SNOW', 'CROSSWIND', 'OTHER_WEATHER', 'CLEAR', 'CLOUDY'],\n",
       "      dtype='object')"
      ]
     },
     "execution_count": 149,
     "metadata": {},
     "output_type": "execute_result"
    }
   ],
   "source": [
    "texas_road.columns"
   ]
  },
  {
   "cell_type": "code",
   "execution_count": 215,
   "id": "27ade2e4",
   "metadata": {},
   "outputs": [],
   "source": [
    "texas_road_1 = texas_road.copy()"
   ]
  },
  {
   "cell_type": "code",
   "execution_count": 216,
   "id": "6dc272b8",
   "metadata": {},
   "outputs": [],
   "source": [
    "texas_road_1['UNK_LIGHT'] = np.where(texas_road_1['LIGHTING']==0,1,0)"
   ]
  },
  {
   "cell_type": "code",
   "execution_count": 217,
   "id": "8392d22a",
   "metadata": {},
   "outputs": [],
   "source": [
    "texas_road_1['DAYLIGHT'] = np.where(texas_road_1['LIGHTING']==1,1,0)"
   ]
  },
  {
   "cell_type": "code",
   "execution_count": 218,
   "id": "ec57f6d0",
   "metadata": {},
   "outputs": [],
   "source": [
    "texas_road_1['DAWN'] = np.where(texas_road_1['LIGHTING']==2,1,0)"
   ]
  },
  {
   "cell_type": "code",
   "execution_count": 219,
   "id": "b4678ab2",
   "metadata": {},
   "outputs": [],
   "source": [
    "texas_road_1['DARK_NLIGHT'] = np.where(texas_road_1['LIGHTING']==3,1,0)"
   ]
  },
  {
   "cell_type": "code",
   "execution_count": 220,
   "id": "f380f4cd",
   "metadata": {},
   "outputs": [],
   "source": [
    "texas_road_1['DARK_LIGHTED'] = np.where(texas_road_1['LIGHTING']==4,1,0)"
   ]
  },
  {
   "cell_type": "code",
   "execution_count": 221,
   "id": "a332641a",
   "metadata": {},
   "outputs": [],
   "source": [
    "texas_road_1['DUSK'] = np.where(texas_road_1['LIGHTING']==5,1,0)"
   ]
  },
  {
   "cell_type": "code",
   "execution_count": 222,
   "id": "db3d10be",
   "metadata": {},
   "outputs": [],
   "source": [
    "texas_road_1['DARK_UNK_LIGHT'] = np.where(texas_road_1['LIGHTING']==6,1,0)"
   ]
  },
  {
   "cell_type": "code",
   "execution_count": 223,
   "id": "1b6ae723",
   "metadata": {},
   "outputs": [],
   "source": [
    "texas_road_1['OTHERS_LIGHT'] = np.where(texas_road_1['LIGHTING'] ==8,1,0)"
   ]
  },
  {
   "cell_type": "code",
   "execution_count": 224,
   "id": "2ab62005",
   "metadata": {},
   "outputs": [],
   "source": [
    "texas_road_2 = texas_road_1.copy()"
   ]
  },
  {
   "cell_type": "code",
   "execution_count": 225,
   "id": "e3336a7d",
   "metadata": {},
   "outputs": [],
   "source": [
    "texas_road_2['UNK_SURF'] = np.where(texas_road_2['SURFACE']==0,1,0)"
   ]
  },
  {
   "cell_type": "code",
   "execution_count": 226,
   "id": "a34e27a5",
   "metadata": {},
   "outputs": [],
   "source": [
    "texas_road_2['DRY_SURF'] = np.where(texas_road_2['SURFACE']==1,1,0)"
   ]
  },
  {
   "cell_type": "code",
   "execution_count": 227,
   "id": "9c1b2514",
   "metadata": {},
   "outputs": [],
   "source": [
    "texas_road_2['WET_SURF'] = np.where(texas_road_2['SURFACE']==2,1,0)"
   ]
  },
  {
   "cell_type": "code",
   "execution_count": 228,
   "id": "58f8beaa",
   "metadata": {},
   "outputs": [],
   "source": [
    "texas_road_2['STAND_WATER'] = np.where(texas_road_2['SURFACE']==3,1,0)"
   ]
  },
  {
   "cell_type": "code",
   "execution_count": 229,
   "id": "4f446d95",
   "metadata": {},
   "outputs": [],
   "source": [
    "texas_road_2['SLUSH_SURF'] = np.where(texas_road_2['SURFACE']==5,1,0)"
   ]
  },
  {
   "cell_type": "code",
   "execution_count": 230,
   "id": "0b1428f0",
   "metadata": {},
   "outputs": [],
   "source": [
    "texas_road_2['ICE_SURF'] = np.where(texas_road_2['SURFACE']==6,1,0)"
   ]
  },
  {
   "cell_type": "code",
   "execution_count": 231,
   "id": "3858d98c",
   "metadata": {},
   "outputs": [],
   "source": [
    "texas_road_2['OTHER_SURF'] = np.where(texas_road_2['SURFACE']==8,1,0)"
   ]
  },
  {
   "cell_type": "code",
   "execution_count": 232,
   "id": "f238b9be",
   "metadata": {},
   "outputs": [],
   "source": [
    "texas_road_2['SNOW_SURF'] = np.where(texas_road_2['SURFACE']==9,1,0)"
   ]
  },
  {
   "cell_type": "code",
   "execution_count": 233,
   "id": "dfb93ab8",
   "metadata": {},
   "outputs": [],
   "source": [
    "texas_road_2['DIRT_SURF'] = np.where(texas_road_2['SURFACE']==10,1,0)"
   ]
  },
  {
   "cell_type": "code",
   "execution_count": 234,
   "id": "e56acbc4",
   "metadata": {},
   "outputs": [
    {
     "data": {
      "text/plain": [
       "Index(['Join_Count', 'TARGET_FID', 'CRASH_ID', 'AGE', 'GENDER', 'DATE', 'TIME',\n",
       "       'COUNTY_FIP', 'COUNTY', 'INTERSECTION', 'WEATHER', 'LIGHTING',\n",
       "       'SURFACE', 'HUMAN_FACTOR', 'ROAD_CLASS', 'LATITUDE', 'LONGITUDE',\n",
       "       'MEDIANWIDTH', 'LANES', 'ROADWIDTH', 'AADT', 'INJURY_OUTCOME',\n",
       "       'INJURY_COUNT', 'YEAR', 'INTOXICATION', 'RTE_GRID', 'FRM_DFO', 'TO_DFO',\n",
       "       'FUNCTIONAL', 'SPD_MAX', 'LEN_SEC', 'LN_MILES', 'SPEEDING',\n",
       "       'INATTENTION', 'LANE_CHNG', 'TAILGATING', 'VIOLATION', 'UNSAFE_BACKING',\n",
       "       'IMPAIRMENT', 'TURNING', 'TECH_PARK', 'NO_FAULT', 'KNW_HMN_FACTOR',\n",
       "       'UNK_HMN_FACTOR', 'UNK_WEATHER', 'RAIN', 'SLEET_HAIL', 'SNOW', 'FOG',\n",
       "       'SAND_SNOW', 'CROSSWIND', 'OTHER_WEATHER', 'CLEAR', 'CLOUDY',\n",
       "       'UNK_LIGHT', 'DAYLIGHT', 'DAWN', 'DARK_NLIGHT', 'DARK_LIGHTED', 'DUSK',\n",
       "       'DARK_UNK_LIGHT', 'OTHERS_LIGHT', 'UNK_SURF', 'DRY_SURF', 'WET_SURF',\n",
       "       'STAND_WATER', 'SLUSH_SURF', 'ICE_SURF', 'OTHER_SURF', 'SNOW_SURF',\n",
       "       'DIRT_SURF'],\n",
       "      dtype='object')"
      ]
     },
     "execution_count": 234,
     "metadata": {},
     "output_type": "execute_result"
    }
   ],
   "source": [
    "texas_road_2.columns"
   ]
  },
  {
   "cell_type": "code",
   "execution_count": 235,
   "id": "608bd698",
   "metadata": {},
   "outputs": [],
   "source": [
    "cat_columns = [i for i in texas_road_2.columns if texas_road_2[i].dtype =='O'] "
   ]
  },
  {
   "cell_type": "code",
   "execution_count": 236,
   "id": "9fb58157",
   "metadata": {},
   "outputs": [
    {
     "data": {
      "text/plain": [
       "['DATE', 'TIME', 'COUNTY']"
      ]
     },
     "execution_count": 236,
     "metadata": {},
     "output_type": "execute_result"
    }
   ],
   "source": [
    "cat_columns"
   ]
  },
  {
   "cell_type": "code",
   "execution_count": 237,
   "id": "df1f2c10",
   "metadata": {},
   "outputs": [],
   "source": [
    "texas_road_2.to_csv('texas_road_dummy.csv',index=False)"
   ]
  },
  {
   "cell_type": "code",
   "execution_count": 240,
   "id": "c769c690",
   "metadata": {},
   "outputs": [
    {
     "data": {
      "text/plain": [
       "Index(['SYSTEM', 'DATE', 'TIME', 'INJURY 00', 'INJURY 01', 'INJURY 02',\n",
       "       'INJURY 03', 'INJURY 04', 'INTERSECTION', 'CONTOUR', 'SURFACE',\n",
       "       'LIGHTING', 'WEATHER', 'HUMAN_FACTOR', 'INTOXICATION', 'AGE', 'GENDER',\n",
       "       'COUNTY_FIPS', 'COUNTY', 'LATITUDE', 'LONGITUDE', 'YEAR',\n",
       "       'INJURY_COUNT', 'INJURY_OUTCOME', 'Crash_ID'],\n",
       "      dtype='object')"
      ]
     },
     "execution_count": 240,
     "metadata": {},
     "output_type": "execute_result"
    }
   ],
   "source": [
    "colo_4.columns"
   ]
  },
  {
   "cell_type": "code",
   "execution_count": 315,
   "id": "61e85801",
   "metadata": {},
   "outputs": [
    {
     "data": {
      "text/plain": [
       "9"
      ]
     },
     "execution_count": 315,
     "metadata": {},
     "output_type": "execute_result"
    }
   ],
   "source": [
    "(colo_4['WEATHER'].nunique())"
   ]
  },
  {
   "cell_type": "code",
   "execution_count": 316,
   "id": "abbeffc6",
   "metadata": {},
   "outputs": [
    {
     "data": {
      "text/plain": [
       "5"
      ]
     },
     "execution_count": 316,
     "metadata": {},
     "output_type": "execute_result"
    }
   ],
   "source": [
    "colo_4['LIGHTING'].nunique()"
   ]
  },
  {
   "cell_type": "code",
   "execution_count": 289,
   "id": "348b1208",
   "metadata": {},
   "outputs": [],
   "source": [
    "colo_4['DAYLIGHT'] = np.where(colo_4['LIGHTING']==1,1,0)"
   ]
  },
  {
   "cell_type": "code",
   "execution_count": 290,
   "id": "63ee83c1",
   "metadata": {},
   "outputs": [],
   "source": [
    "colo_4['DAWN'] = np.where(colo_4['LIGHTING']==2,1,0)"
   ]
  },
  {
   "cell_type": "code",
   "execution_count": 291,
   "id": "7eabeb9f",
   "metadata": {},
   "outputs": [],
   "source": [
    "colo_4['DARK_NLIGHT'] = np.where(colo_4['LIGHTING']==3,1,0)"
   ]
  },
  {
   "cell_type": "code",
   "execution_count": 292,
   "id": "585e4d97",
   "metadata": {},
   "outputs": [],
   "source": [
    "colo_4['DARK_LIGHTED'] = np.where(colo_4['LIGHTING']==4,1,0)"
   ]
  },
  {
   "cell_type": "code",
   "execution_count": 293,
   "id": "408114ae",
   "metadata": {},
   "outputs": [],
   "source": [
    "colo_4['DUSK'] = np.where(colo_4['LIGHTING']==5,1,0)"
   ]
  },
  {
   "cell_type": "code",
   "execution_count": 294,
   "id": "ee937292",
   "metadata": {},
   "outputs": [],
   "source": [
    "colo_4_1 = colo_4.copy()"
   ]
  },
  {
   "cell_type": "code",
   "execution_count": 295,
   "id": "d5fc93b7",
   "metadata": {},
   "outputs": [],
   "source": [
    "colo_4_1['RAIN'] = np.where(colo_4_1['WEATHER']==2,1,0)"
   ]
  },
  {
   "cell_type": "code",
   "execution_count": 296,
   "id": "19c625fe",
   "metadata": {},
   "outputs": [],
   "source": [
    "colo_4_1['SLEET_HAIL'] = np.where(colo_4_1['WEATHER']==3,1,0)"
   ]
  },
  {
   "cell_type": "code",
   "execution_count": 297,
   "id": "4386d797",
   "metadata": {},
   "outputs": [],
   "source": [
    "colo_4_1['SNOW'] = np.where(colo_4_1['WEATHER']==4,1,0)"
   ]
  },
  {
   "cell_type": "code",
   "execution_count": 298,
   "id": "d406d74f",
   "metadata": {},
   "outputs": [],
   "source": [
    "colo_4_1['FOG'] = np.where(colo_4_1['WEATHER']==5,1,0)"
   ]
  },
  {
   "cell_type": "code",
   "execution_count": 299,
   "id": "5053f963",
   "metadata": {},
   "outputs": [],
   "source": [
    "colo_4_1['SAND_SNOW'] = np.where(colo_4_1['WEATHER']==6,1,0)"
   ]
  },
  {
   "cell_type": "code",
   "execution_count": 300,
   "id": "df838b50",
   "metadata": {},
   "outputs": [],
   "source": [
    "colo_4_1['CROSSWIND'] = np.where(colo_4_1['WEATHER']==7,1,0)"
   ]
  },
  {
   "cell_type": "code",
   "execution_count": 301,
   "id": "fb08fa37",
   "metadata": {},
   "outputs": [],
   "source": [
    "colo_4_1['OTHER_WEATHER'] = np.where(colo_4_1['WEATHER']==8,1,0)"
   ]
  },
  {
   "cell_type": "code",
   "execution_count": 302,
   "id": "8f5c6ddd",
   "metadata": {},
   "outputs": [],
   "source": [
    "colo_4_1['CLEAR'] = np.where(colo_4_1['WEATHER']==11,1,0)"
   ]
  },
  {
   "cell_type": "code",
   "execution_count": 303,
   "id": "2e77b953",
   "metadata": {},
   "outputs": [],
   "source": [
    "colo_4_1['CLOUDY'] = np.where(colo_4_1['WEATHER']==12,1,0)"
   ]
  },
  {
   "cell_type": "code",
   "execution_count": 340,
   "id": "a2ae4101",
   "metadata": {},
   "outputs": [],
   "source": [
    "colo = colo_4_1.copy()"
   ]
  },
  {
   "cell_type": "code",
   "execution_count": 341,
   "id": "56aacaaa",
   "metadata": {},
   "outputs": [
    {
     "data": {
      "text/plain": [
       "7"
      ]
     },
     "execution_count": 341,
     "metadata": {},
     "output_type": "execute_result"
    }
   ],
   "source": [
    "(colo['SURFACE'].nunique())"
   ]
  },
  {
   "cell_type": "code",
   "execution_count": 342,
   "id": "84bb7546",
   "metadata": {},
   "outputs": [],
   "source": [
    "colo['UNK_SURF'] = np.where(colo['SURFACE']==0,1,0)"
   ]
  },
  {
   "cell_type": "code",
   "execution_count": 343,
   "id": "4c0b4074",
   "metadata": {},
   "outputs": [],
   "source": [
    "colo['DRY_SURF'] = np.where(colo['SURFACE']==1,1,0)"
   ]
  },
  {
   "cell_type": "code",
   "execution_count": 344,
   "id": "0842c5cd",
   "metadata": {},
   "outputs": [],
   "source": [
    "colo['WET_SURF'] = np.where(colo['SURFACE']==2,1,0)"
   ]
  },
  {
   "cell_type": "code",
   "execution_count": 345,
   "id": "d89386ac",
   "metadata": {},
   "outputs": [],
   "source": [
    "colo['SLUSH_SURF'] = np.where(colo['SURFACE']==5,1,0)"
   ]
  },
  {
   "cell_type": "code",
   "execution_count": 346,
   "id": "334be9aa",
   "metadata": {},
   "outputs": [],
   "source": [
    "colo['ICE_SURF'] = np.where(colo['SURFACE']==6,1,0)"
   ]
  },
  {
   "cell_type": "code",
   "execution_count": 347,
   "id": "3d737e1d",
   "metadata": {},
   "outputs": [],
   "source": [
    "colo['SNOW_SURF'] = np.where(colo['SURFACE']==9,1,0)"
   ]
  },
  {
   "cell_type": "code",
   "execution_count": 348,
   "id": "80e237b2",
   "metadata": {},
   "outputs": [],
   "source": [
    "colo['DIRT_SURF'] = np.where(colo['SURFACE']==10,1,0)"
   ]
  },
  {
   "cell_type": "code",
   "execution_count": 349,
   "id": "1d53d38c",
   "metadata": {},
   "outputs": [
    {
     "data": {
      "text/plain": [
       "Index(['SYSTEM', 'DATE', 'TIME', 'INJURY 00', 'INJURY 01', 'INJURY 02',\n",
       "       'INJURY 03', 'INJURY 04', 'INTERSECTION', 'CONTOUR', 'SURFACE',\n",
       "       'LIGHTING', 'WEATHER', 'HUMAN_FACTOR', 'INTOXICATION', 'AGE', 'GENDER',\n",
       "       'COUNTY_FIPS', 'COUNTY', 'LATITUDE', 'LONGITUDE', 'YEAR',\n",
       "       'INJURY_COUNT', 'INJURY_OUTCOME', 'Crash_ID', 'DAYLIGHT', 'DAWN',\n",
       "       'DARK_NLIGHT', 'DARK_LIGHTED', 'DUSK', 'RAIN', 'SLEET_HAIL', 'SNOW',\n",
       "       'FOG', 'SAND_SNOW', 'CROSSWIND', 'OTHER_WEATHER', 'CLEAR', 'CLOUDY',\n",
       "       'UNK_SURF', 'DRY_SURF', 'WET_SURF', 'SLUSH_SURF', 'ICE_SURF',\n",
       "       'SNOW_SURF', 'DIRT_SURF'],\n",
       "      dtype='object')"
      ]
     },
     "execution_count": 349,
     "metadata": {},
     "output_type": "execute_result"
    }
   ],
   "source": [
    "colo.columns"
   ]
  },
  {
   "cell_type": "code",
   "execution_count": 336,
   "id": "e23e5b24",
   "metadata": {},
   "outputs": [
    {
     "data": {
      "text/html": [
       "<div>\n",
       "<style scoped>\n",
       "    .dataframe tbody tr th:only-of-type {\n",
       "        vertical-align: middle;\n",
       "    }\n",
       "\n",
       "    .dataframe tbody tr th {\n",
       "        vertical-align: top;\n",
       "    }\n",
       "\n",
       "    .dataframe thead th {\n",
       "        text-align: right;\n",
       "    }\n",
       "</style>\n",
       "<table border=\"1\" class=\"dataframe\">\n",
       "  <thead>\n",
       "    <tr style=\"text-align: right;\">\n",
       "      <th></th>\n",
       "      <th>SYSTEM</th>\n",
       "      <th>DATE</th>\n",
       "      <th>TIME</th>\n",
       "      <th>INJURY 00</th>\n",
       "      <th>INJURY 01</th>\n",
       "      <th>INJURY 02</th>\n",
       "      <th>INJURY 03</th>\n",
       "      <th>INJURY 04</th>\n",
       "      <th>INTERSECTION</th>\n",
       "      <th>CONTOUR</th>\n",
       "      <th>...</th>\n",
       "      <th>OTHER_WEATHER</th>\n",
       "      <th>CLEAR</th>\n",
       "      <th>CLOUDY</th>\n",
       "      <th>UNK_SURF</th>\n",
       "      <th>DRY_SURF</th>\n",
       "      <th>WET_SURF</th>\n",
       "      <th>SLUSH_SURF</th>\n",
       "      <th>ICE_SURF</th>\n",
       "      <th>SNOW_SURF</th>\n",
       "      <th>DIRT_SURF</th>\n",
       "    </tr>\n",
       "  </thead>\n",
       "  <tbody>\n",
       "    <tr>\n",
       "      <th>0</th>\n",
       "      <td>CITY STREET</td>\n",
       "      <td>2019-01-01</td>\n",
       "      <td>0</td>\n",
       "      <td>3</td>\n",
       "      <td>0</td>\n",
       "      <td>0</td>\n",
       "      <td>0</td>\n",
       "      <td>0</td>\n",
       "      <td>YES</td>\n",
       "      <td>STRAIGHT ON-GRADE</td>\n",
       "      <td>...</td>\n",
       "      <td>1</td>\n",
       "      <td>0</td>\n",
       "      <td>0</td>\n",
       "      <td>0</td>\n",
       "      <td>0</td>\n",
       "      <td>0</td>\n",
       "      <td>0</td>\n",
       "      <td>1</td>\n",
       "      <td>0</td>\n",
       "      <td>0</td>\n",
       "    </tr>\n",
       "    <tr>\n",
       "      <th>1</th>\n",
       "      <td>CITY STREET</td>\n",
       "      <td>2019-01-01</td>\n",
       "      <td>0</td>\n",
       "      <td>1</td>\n",
       "      <td>0</td>\n",
       "      <td>0</td>\n",
       "      <td>0</td>\n",
       "      <td>0</td>\n",
       "      <td>NO</td>\n",
       "      <td>STRAIGHT ON-GRADE</td>\n",
       "      <td>...</td>\n",
       "      <td>1</td>\n",
       "      <td>0</td>\n",
       "      <td>0</td>\n",
       "      <td>0</td>\n",
       "      <td>0</td>\n",
       "      <td>0</td>\n",
       "      <td>0</td>\n",
       "      <td>0</td>\n",
       "      <td>1</td>\n",
       "      <td>0</td>\n",
       "    </tr>\n",
       "    <tr>\n",
       "      <th>2</th>\n",
       "      <td>INTERSTATE</td>\n",
       "      <td>2019-01-01</td>\n",
       "      <td>10</td>\n",
       "      <td>1</td>\n",
       "      <td>0</td>\n",
       "      <td>0</td>\n",
       "      <td>0</td>\n",
       "      <td>0</td>\n",
       "      <td>NO</td>\n",
       "      <td>STRAIGHT ON-GRADE</td>\n",
       "      <td>...</td>\n",
       "      <td>0</td>\n",
       "      <td>0</td>\n",
       "      <td>0</td>\n",
       "      <td>0</td>\n",
       "      <td>0</td>\n",
       "      <td>0</td>\n",
       "      <td>0</td>\n",
       "      <td>0</td>\n",
       "      <td>1</td>\n",
       "      <td>0</td>\n",
       "    </tr>\n",
       "    <tr>\n",
       "      <th>3</th>\n",
       "      <td>CITY STREET</td>\n",
       "      <td>2019-01-01</td>\n",
       "      <td>17</td>\n",
       "      <td>1</td>\n",
       "      <td>0</td>\n",
       "      <td>1</td>\n",
       "      <td>0</td>\n",
       "      <td>0</td>\n",
       "      <td>NO</td>\n",
       "      <td>STRAIGHT ON-LEVEL</td>\n",
       "      <td>...</td>\n",
       "      <td>0</td>\n",
       "      <td>0</td>\n",
       "      <td>0</td>\n",
       "      <td>0</td>\n",
       "      <td>0</td>\n",
       "      <td>0</td>\n",
       "      <td>0</td>\n",
       "      <td>1</td>\n",
       "      <td>0</td>\n",
       "      <td>0</td>\n",
       "    </tr>\n",
       "    <tr>\n",
       "      <th>4</th>\n",
       "      <td>CITY STREET</td>\n",
       "      <td>2019-01-01</td>\n",
       "      <td>21</td>\n",
       "      <td>0</td>\n",
       "      <td>0</td>\n",
       "      <td>0</td>\n",
       "      <td>5</td>\n",
       "      <td>0</td>\n",
       "      <td>YES</td>\n",
       "      <td>STRAIGHT ON-GRADE</td>\n",
       "      <td>...</td>\n",
       "      <td>1</td>\n",
       "      <td>0</td>\n",
       "      <td>0</td>\n",
       "      <td>0</td>\n",
       "      <td>0</td>\n",
       "      <td>0</td>\n",
       "      <td>0</td>\n",
       "      <td>0</td>\n",
       "      <td>1</td>\n",
       "      <td>0</td>\n",
       "    </tr>\n",
       "    <tr>\n",
       "      <th>...</th>\n",
       "      <td>...</td>\n",
       "      <td>...</td>\n",
       "      <td>...</td>\n",
       "      <td>...</td>\n",
       "      <td>...</td>\n",
       "      <td>...</td>\n",
       "      <td>...</td>\n",
       "      <td>...</td>\n",
       "      <td>...</td>\n",
       "      <td>...</td>\n",
       "      <td>...</td>\n",
       "      <td>...</td>\n",
       "      <td>...</td>\n",
       "      <td>...</td>\n",
       "      <td>...</td>\n",
       "      <td>...</td>\n",
       "      <td>...</td>\n",
       "      <td>...</td>\n",
       "      <td>...</td>\n",
       "      <td>...</td>\n",
       "      <td>...</td>\n",
       "    </tr>\n",
       "    <tr>\n",
       "      <th>242114</th>\n",
       "      <td>State Highway</td>\n",
       "      <td>2021-12-31</td>\n",
       "      <td>23:22:00</td>\n",
       "      <td>3</td>\n",
       "      <td>0</td>\n",
       "      <td>0</td>\n",
       "      <td>0</td>\n",
       "      <td>0</td>\n",
       "      <td>At Intersection</td>\n",
       "      <td>StraightLevel</td>\n",
       "      <td>...</td>\n",
       "      <td>0</td>\n",
       "      <td>0</td>\n",
       "      <td>0</td>\n",
       "      <td>0</td>\n",
       "      <td>0</td>\n",
       "      <td>0</td>\n",
       "      <td>0</td>\n",
       "      <td>1</td>\n",
       "      <td>0</td>\n",
       "      <td>0</td>\n",
       "    </tr>\n",
       "    <tr>\n",
       "      <th>242115</th>\n",
       "      <td>County Road</td>\n",
       "      <td>2021-12-31</td>\n",
       "      <td>23:23:00</td>\n",
       "      <td>1</td>\n",
       "      <td>0</td>\n",
       "      <td>0</td>\n",
       "      <td>0</td>\n",
       "      <td>0</td>\n",
       "      <td>Non-Intersection</td>\n",
       "      <td>Curve LeftLevel</td>\n",
       "      <td>...</td>\n",
       "      <td>0</td>\n",
       "      <td>0</td>\n",
       "      <td>0</td>\n",
       "      <td>0</td>\n",
       "      <td>0</td>\n",
       "      <td>0</td>\n",
       "      <td>0</td>\n",
       "      <td>1</td>\n",
       "      <td>0</td>\n",
       "      <td>0</td>\n",
       "    </tr>\n",
       "    <tr>\n",
       "      <th>242116</th>\n",
       "      <td>Interstate Highway</td>\n",
       "      <td>2021-12-31</td>\n",
       "      <td>23:39:00</td>\n",
       "      <td>0</td>\n",
       "      <td>2</td>\n",
       "      <td>2</td>\n",
       "      <td>0</td>\n",
       "      <td>0</td>\n",
       "      <td>Non-Intersection</td>\n",
       "      <td>Curve RightDownhill</td>\n",
       "      <td>...</td>\n",
       "      <td>0</td>\n",
       "      <td>0</td>\n",
       "      <td>0</td>\n",
       "      <td>1</td>\n",
       "      <td>0</td>\n",
       "      <td>0</td>\n",
       "      <td>0</td>\n",
       "      <td>0</td>\n",
       "      <td>0</td>\n",
       "      <td>0</td>\n",
       "    </tr>\n",
       "    <tr>\n",
       "      <th>242117</th>\n",
       "      <td>State Highway</td>\n",
       "      <td>2021-12-31</td>\n",
       "      <td>23:41:00</td>\n",
       "      <td>1</td>\n",
       "      <td>0</td>\n",
       "      <td>0</td>\n",
       "      <td>0</td>\n",
       "      <td>0</td>\n",
       "      <td>Intersection Related</td>\n",
       "      <td>StraightLevel</td>\n",
       "      <td>...</td>\n",
       "      <td>0</td>\n",
       "      <td>0</td>\n",
       "      <td>0</td>\n",
       "      <td>0</td>\n",
       "      <td>0</td>\n",
       "      <td>0</td>\n",
       "      <td>0</td>\n",
       "      <td>0</td>\n",
       "      <td>1</td>\n",
       "      <td>0</td>\n",
       "    </tr>\n",
       "    <tr>\n",
       "      <th>242118</th>\n",
       "      <td>State Highway</td>\n",
       "      <td>2021-12-31</td>\n",
       "      <td>23:43:00</td>\n",
       "      <td>1</td>\n",
       "      <td>0</td>\n",
       "      <td>0</td>\n",
       "      <td>0</td>\n",
       "      <td>0</td>\n",
       "      <td>Ramp</td>\n",
       "      <td>StraightUphill</td>\n",
       "      <td>...</td>\n",
       "      <td>0</td>\n",
       "      <td>0</td>\n",
       "      <td>0</td>\n",
       "      <td>0</td>\n",
       "      <td>0</td>\n",
       "      <td>0</td>\n",
       "      <td>0</td>\n",
       "      <td>1</td>\n",
       "      <td>0</td>\n",
       "      <td>0</td>\n",
       "    </tr>\n",
       "  </tbody>\n",
       "</table>\n",
       "<p>242119 rows × 46 columns</p>\n",
       "</div>"
      ],
      "text/plain": [
       "                    SYSTEM        DATE      TIME  INJURY 00  INJURY 01  \\\n",
       "0              CITY STREET  2019-01-01         0          3          0   \n",
       "1              CITY STREET  2019-01-01         0          1          0   \n",
       "2               INTERSTATE  2019-01-01        10          1          0   \n",
       "3              CITY STREET  2019-01-01        17          1          0   \n",
       "4              CITY STREET  2019-01-01        21          0          0   \n",
       "...                    ...         ...       ...        ...        ...   \n",
       "242114       State Highway  2021-12-31  23:22:00          3          0   \n",
       "242115         County Road  2021-12-31  23:23:00          1          0   \n",
       "242116  Interstate Highway  2021-12-31  23:39:00          0          2   \n",
       "242117       State Highway  2021-12-31  23:41:00          1          0   \n",
       "242118       State Highway  2021-12-31  23:43:00          1          0   \n",
       "\n",
       "        INJURY 02  INJURY 03  INJURY 04          INTERSECTION  \\\n",
       "0               0          0          0                   YES   \n",
       "1               0          0          0                    NO   \n",
       "2               0          0          0                    NO   \n",
       "3               1          0          0                    NO   \n",
       "4               0          5          0                   YES   \n",
       "...           ...        ...        ...                   ...   \n",
       "242114          0          0          0       At Intersection   \n",
       "242115          0          0          0      Non-Intersection   \n",
       "242116          2          0          0      Non-Intersection   \n",
       "242117          0          0          0  Intersection Related   \n",
       "242118          0          0          0                  Ramp   \n",
       "\n",
       "                    CONTOUR  ...  OTHER_WEATHER  CLEAR  CLOUDY  UNK_SURF  \\\n",
       "0         STRAIGHT ON-GRADE  ...              1      0       0         0   \n",
       "1         STRAIGHT ON-GRADE  ...              1      0       0         0   \n",
       "2         STRAIGHT ON-GRADE  ...              0      0       0         0   \n",
       "3         STRAIGHT ON-LEVEL  ...              0      0       0         0   \n",
       "4         STRAIGHT ON-GRADE  ...              1      0       0         0   \n",
       "...                     ...  ...            ...    ...     ...       ...   \n",
       "242114        StraightLevel  ...              0      0       0         0   \n",
       "242115      Curve LeftLevel  ...              0      0       0         0   \n",
       "242116  Curve RightDownhill  ...              0      0       0         1   \n",
       "242117        StraightLevel  ...              0      0       0         0   \n",
       "242118       StraightUphill  ...              0      0       0         0   \n",
       "\n",
       "        DRY_SURF  WET_SURF SLUSH_SURF  ICE_SURF SNOW_SURF  DIRT_SURF  \n",
       "0              0         0          0         1         0          0  \n",
       "1              0         0          0         0         1          0  \n",
       "2              0         0          0         0         1          0  \n",
       "3              0         0          0         1         0          0  \n",
       "4              0         0          0         0         1          0  \n",
       "...          ...       ...        ...       ...       ...        ...  \n",
       "242114         0         0          0         1         0          0  \n",
       "242115         0         0          0         1         0          0  \n",
       "242116         0         0          0         0         0          0  \n",
       "242117         0         0          0         0         1          0  \n",
       "242118         0         0          0         1         0          0  \n",
       "\n",
       "[242119 rows x 46 columns]"
      ]
     },
     "execution_count": 336,
     "metadata": {},
     "output_type": "execute_result"
    }
   ],
   "source": [
    "colo"
   ]
  },
  {
   "cell_type": "code",
   "execution_count": 319,
   "id": "6bee092a",
   "metadata": {},
   "outputs": [],
   "source": [
    "colo.to_csv('colorado_dummy.csv',index= False)"
   ]
  },
  {
   "cell_type": "code",
   "execution_count": 350,
   "id": "016e91d8",
   "metadata": {},
   "outputs": [
    {
     "data": {
      "text/plain": [
       "Index(['Join_Count', 'TARGET_FID', 'Crash_ID', 'FATAL', 'County_FIP', 'COUNTY',\n",
       "       'CITY', 'DATE', 'TIME', 'LIGHTING_CAT', 'WEATHER_CAT', 'YEAR',\n",
       "       'RDWAY_CLASS', 'INTOXICATION', 'LATITUDE', 'LONGITUDE', 'INATTENTION',\n",
       "       'SPEEDING', 'TEEN_DRIVE', 'OLDER_DRIV', 'FATAL_COUNT', 'INJURY_COUNT',\n",
       "       'INJURY_OUTCOME', 'x', 'y', 'ROUTE_ID', 'FROM_MEASU', 'TO_MEASURE',\n",
       "       'AADT', 'MEDIANWIDT', 'FUNCTIONAL', 'LANES', 'ROWWIDTH', 'SPEEDLIMIT',\n",
       "       'MLENGTH'],\n",
       "      dtype='object')"
      ]
     },
     "execution_count": 350,
     "metadata": {},
     "output_type": "execute_result"
    }
   ],
   "source": [
    "okla.columns"
   ]
  },
  {
   "cell_type": "code",
   "execution_count": 351,
   "id": "a7ac0e50",
   "metadata": {},
   "outputs": [],
   "source": [
    "colo['HUMAN_FACTOR'] = colo['HUMAN_FACTOR'].astype(int)"
   ]
  },
  {
   "cell_type": "code",
   "execution_count": 353,
   "id": "ae56119b",
   "metadata": {},
   "outputs": [
    {
     "data": {
      "text/plain": [
       "[1, 2, 3, 4, 5, 6, 7, 8, 9, 10, 11, 12]"
      ]
     },
     "execution_count": 353,
     "metadata": {},
     "output_type": "execute_result"
    }
   ],
   "source": [
    "sorted(colo['HUMAN_FACTOR'].unique())"
   ]
  },
  {
   "cell_type": "code",
   "execution_count": 354,
   "id": "deed77df",
   "metadata": {},
   "outputs": [],
   "source": [
    "colo['SPEEDING'] = np.where(colo['HUMAN_FACTOR']==1,1,0)"
   ]
  },
  {
   "cell_type": "code",
   "execution_count": 355,
   "id": "aa3980f8",
   "metadata": {},
   "outputs": [],
   "source": [
    "colo['INATTENTION'] = np.where(colo['HUMAN_FACTOR']==2,1,0)"
   ]
  },
  {
   "cell_type": "code",
   "execution_count": 357,
   "id": "f35ebe58",
   "metadata": {},
   "outputs": [],
   "source": [
    "colo['LANE_CHNG']= np.where(colo['HUMAN_FACTOR']==3,1,0)"
   ]
  },
  {
   "cell_type": "code",
   "execution_count": 358,
   "id": "f217c5f0",
   "metadata": {},
   "outputs": [],
   "source": [
    "colo['TAILGATING'] = np.where(colo['HUMAN_FACTOR']==4,1,0)"
   ]
  },
  {
   "cell_type": "code",
   "execution_count": 359,
   "id": "cb220fb8",
   "metadata": {},
   "outputs": [],
   "source": [
    "colo['VIOLATION'] = np.where(colo['HUMAN_FACTOR']==5,1,0)"
   ]
  },
  {
   "cell_type": "code",
   "execution_count": 360,
   "id": "a2cc5c7b",
   "metadata": {},
   "outputs": [],
   "source": [
    "colo['UNSAFE_BACKING'] = np.where(colo['HUMAN_FACTOR']==6,1,0)"
   ]
  },
  {
   "cell_type": "code",
   "execution_count": 361,
   "id": "ad75906e",
   "metadata": {},
   "outputs": [],
   "source": [
    "colo['IMPAIRMENT'] = np.where(colo['HUMAN_FACTOR']==7,1,0)"
   ]
  },
  {
   "cell_type": "code",
   "execution_count": 362,
   "id": "f70bd4d7",
   "metadata": {},
   "outputs": [],
   "source": [
    "colo['TURNING'] = np.where(colo['HUMAN_FACTOR']==8,1,0)"
   ]
  },
  {
   "cell_type": "code",
   "execution_count": 363,
   "id": "4588493b",
   "metadata": {},
   "outputs": [],
   "source": [
    "colo['TECH_PARK'] = np.where(colo['HUMAN_FACTOR']==9,1,0)"
   ]
  },
  {
   "cell_type": "code",
   "execution_count": 364,
   "id": "caccee84",
   "metadata": {},
   "outputs": [],
   "source": [
    "colo['NO_FAULT'] = np.where(colo['HUMAN_FACTOR']==10,1,0)"
   ]
  },
  {
   "cell_type": "code",
   "execution_count": 365,
   "id": "7fce1967",
   "metadata": {},
   "outputs": [],
   "source": [
    "colo['KNW_HMN_FACTOR'] = np.where(colo['HUMAN_FACTOR']==11,1,0)"
   ]
  },
  {
   "cell_type": "code",
   "execution_count": 366,
   "id": "b5d0b300",
   "metadata": {},
   "outputs": [],
   "source": [
    "colo['UNK_HMN_FACTOR'] = np.where(colo['HUMAN_FACTOR']==12,1,0)"
   ]
  },
  {
   "cell_type": "code",
   "execution_count": 367,
   "id": "99141851",
   "metadata": {},
   "outputs": [
    {
     "data": {
      "text/plain": [
       "Index(['SYSTEM', 'DATE', 'TIME', 'INJURY 00', 'INJURY 01', 'INJURY 02',\n",
       "       'INJURY 03', 'INJURY 04', 'INTERSECTION', 'CONTOUR', 'SURFACE',\n",
       "       'LIGHTING', 'WEATHER', 'HUMAN_FACTOR', 'INTOXICATION', 'AGE', 'GENDER',\n",
       "       'COUNTY_FIPS', 'COUNTY', 'LATITUDE', 'LONGITUDE', 'YEAR',\n",
       "       'INJURY_COUNT', 'INJURY_OUTCOME', 'Crash_ID', 'DAYLIGHT', 'DAWN',\n",
       "       'DARK_NLIGHT', 'DARK_LIGHTED', 'DUSK', 'RAIN', 'SLEET_HAIL', 'SNOW',\n",
       "       'FOG', 'SAND_SNOW', 'CROSSWIND', 'OTHER_WEATHER', 'CLEAR', 'CLOUDY',\n",
       "       'UNK_SURF', 'DRY_SURF', 'WET_SURF', 'SLUSH_SURF', 'ICE_SURF',\n",
       "       'SNOW_SURF', 'DIRT_SURF', 'SPEEDING', 'INATTENTION', 'LANE_CHNG',\n",
       "       'TAILGATING', 'VIOLATION', 'UNSAFE_BACKING', 'IMPAIRMENT', 'TURNING',\n",
       "       'TECH_PARK', 'NO_FAULT', 'KNW_HMN_FACTOR', 'UNK_HMN_FACTOR'],\n",
       "      dtype='object')"
      ]
     },
     "execution_count": 367,
     "metadata": {},
     "output_type": "execute_result"
    }
   ],
   "source": [
    "colo.columns"
   ]
  },
  {
   "cell_type": "code",
   "execution_count": 368,
   "id": "0c0d7657",
   "metadata": {},
   "outputs": [],
   "source": [
    "colo.to_csv('colorado_dummy.csv',index= False)"
   ]
  },
  {
   "cell_type": "code",
   "execution_count": 391,
   "id": "88006a3a",
   "metadata": {},
   "outputs": [
    {
     "data": {
      "text/plain": [
       "11    18634\n",
       "12     5935\n",
       "2      2286\n",
       "3       333\n",
       "5       245\n",
       "4       136\n",
       "10       71\n",
       "0        70\n",
       "7        20\n",
       "6         2\n",
       "Name: WEATHER_CAT, dtype: int64"
      ]
     },
     "execution_count": 391,
     "metadata": {},
     "output_type": "execute_result"
    }
   ],
   "source": [
    "okla['WEATHER_CAT'].value_counts()"
   ]
  },
  {
   "cell_type": "code",
   "execution_count": 369,
   "id": "9d336fd2",
   "metadata": {},
   "outputs": [
    {
     "data": {
      "text/plain": [
       "Index(['Join_Count', 'TARGET_FID', 'Crash_ID', 'FATAL', 'County_FIP', 'COUNTY',\n",
       "       'CITY', 'DATE', 'TIME', 'LIGHTING_CAT', 'WEATHER_CAT', 'YEAR',\n",
       "       'RDWAY_CLASS', 'INTOXICATION', 'LATITUDE', 'LONGITUDE', 'INATTENTION',\n",
       "       'SPEEDING', 'TEEN_DRIVE', 'OLDER_DRIV', 'FATAL_COUNT', 'INJURY_COUNT',\n",
       "       'INJURY_OUTCOME', 'x', 'y', 'ROUTE_ID', 'FROM_MEASU', 'TO_MEASURE',\n",
       "       'AADT', 'MEDIANWIDT', 'FUNCTIONAL', 'LANES', 'ROWWIDTH', 'SPEEDLIMIT',\n",
       "       'MLENGTH'],\n",
       "      dtype='object')"
      ]
     },
     "execution_count": 369,
     "metadata": {},
     "output_type": "execute_result"
    }
   ],
   "source": [
    "okla.columns"
   ]
  },
  {
   "cell_type": "code",
   "execution_count": 371,
   "id": "437b39ab",
   "metadata": {},
   "outputs": [
    {
     "data": {
      "text/plain": [
       "[0, 1, 2, 3, 4, 5, 6, 8]"
      ]
     },
     "execution_count": 371,
     "metadata": {},
     "output_type": "execute_result"
    }
   ],
   "source": [
    "sorted(okla['LIGHTING_CAT'].unique())"
   ]
  },
  {
   "cell_type": "code",
   "execution_count": 372,
   "id": "9be31678",
   "metadata": {},
   "outputs": [],
   "source": [
    "okla['UNK_LIGHT'] = np.where(okla['LIGHTING_CAT']==0,1,0)"
   ]
  },
  {
   "cell_type": "code",
   "execution_count": 373,
   "id": "b54f4d6a",
   "metadata": {},
   "outputs": [],
   "source": [
    "okla['DAYLIGHT'] = np.where(okla['LIGHTING_CAT']==1,1,0)"
   ]
  },
  {
   "cell_type": "code",
   "execution_count": 374,
   "id": "f26390d5",
   "metadata": {},
   "outputs": [],
   "source": [
    "okla['DAWN'] = np.where(okla['LIGHTING_CAT']==2,1,0)"
   ]
  },
  {
   "cell_type": "code",
   "execution_count": 375,
   "id": "627138b2",
   "metadata": {},
   "outputs": [],
   "source": [
    "okla['DARK_NLIGHT'] = np.where(okla['LIGHTING_CAT']==3,1,0)"
   ]
  },
  {
   "cell_type": "code",
   "execution_count": 376,
   "id": "9748996b",
   "metadata": {},
   "outputs": [],
   "source": [
    "okla['DARK_LIGHTED'] = np.where(okla['LIGHTING_CAT']==4,1,0)"
   ]
  },
  {
   "cell_type": "code",
   "execution_count": 377,
   "id": "594fd119",
   "metadata": {},
   "outputs": [],
   "source": [
    "okla['DUSK'] = np.where(okla['LIGHTING_CAT']==5,1,0)"
   ]
  },
  {
   "cell_type": "code",
   "execution_count": 378,
   "id": "5242c745",
   "metadata": {},
   "outputs": [],
   "source": [
    "okla['DARK_UNK_LIGHT'] = np.where(okla['LIGHTING_CAT']==6,1,0)"
   ]
  },
  {
   "cell_type": "code",
   "execution_count": 379,
   "id": "09634449",
   "metadata": {},
   "outputs": [],
   "source": [
    "okla['OTHERS_LIGHT'] = np.where(okla['LIGHTING_CAT']==8,1,0)"
   ]
  },
  {
   "cell_type": "code",
   "execution_count": 380,
   "id": "ad4dc160",
   "metadata": {},
   "outputs": [],
   "source": [
    "okla_1 = okla.copy()"
   ]
  },
  {
   "cell_type": "code",
   "execution_count": 382,
   "id": "4239674a",
   "metadata": {},
   "outputs": [
    {
     "data": {
      "text/plain": [
       "[0, 2, 3, 4, 5, 6, 7, 10, 11, 12]"
      ]
     },
     "execution_count": 382,
     "metadata": {},
     "output_type": "execute_result"
    }
   ],
   "source": [
    "sorted(okla_1['WEATHER_CAT'].unique())"
   ]
  },
  {
   "cell_type": "code",
   "execution_count": 383,
   "id": "bb41a689",
   "metadata": {},
   "outputs": [],
   "source": [
    "okla_1['UNK_WAETHER'] = np.where(okla_1['WEATHER_CAT']==0,1,0)"
   ]
  },
  {
   "cell_type": "code",
   "execution_count": 384,
   "id": "14508f03",
   "metadata": {},
   "outputs": [],
   "source": [
    "okla_1['RAIN'] = np.where(okla_1['WEATHER_CAT']==2,1,0)"
   ]
  },
  {
   "cell_type": "code",
   "execution_count": 385,
   "id": "57729052",
   "metadata": {},
   "outputs": [],
   "source": [
    "okla_1['SLEET_HAIL'] = np.where(okla_1['WEATHER_CAT']==3,1,0)"
   ]
  },
  {
   "cell_type": "code",
   "execution_count": 386,
   "id": "11926596",
   "metadata": {},
   "outputs": [],
   "source": [
    "okla_1['SNOW'] = np.where(okla_1['WEATHER_CAT']==4,1,0)"
   ]
  },
  {
   "cell_type": "code",
   "execution_count": 387,
   "id": "5403d16d",
   "metadata": {},
   "outputs": [],
   "source": [
    "okla_1['FOG'] = np.where(okla_1['WEATHER_CAT']==5,1,0)"
   ]
  },
  {
   "cell_type": "code",
   "execution_count": 388,
   "id": "143b1adb",
   "metadata": {},
   "outputs": [],
   "source": [
    "okla_1['SAND_SNOW'] = np.where(okla_1['WEATHER_CAT']==6,1,0)"
   ]
  },
  {
   "cell_type": "code",
   "execution_count": 389,
   "id": "e8d8b056",
   "metadata": {},
   "outputs": [],
   "source": [
    "okla_1['CROSSWIND'] = np.where(okla_1['WEATHER_CAT']==7,1,0)"
   ]
  },
  {
   "cell_type": "code",
   "execution_count": null,
   "id": "6d744da4",
   "metadata": {},
   "outputs": [],
   "source": [
    "okla_1['OTHER_WEATHER'] = np.where(okla_1['WEATHER_CAT']==)"
   ]
  }
 ],
 "metadata": {
  "kernelspec": {
   "display_name": "Python 3 (ipykernel)",
   "language": "python",
   "name": "python3"
  },
  "language_info": {
   "codemirror_mode": {
    "name": "ipython",
    "version": 3
   },
   "file_extension": ".py",
   "mimetype": "text/x-python",
   "name": "python",
   "nbconvert_exporter": "python",
   "pygments_lexer": "ipython3",
   "version": "3.11.4"
  }
 },
 "nbformat": 4,
 "nbformat_minor": 5
}
