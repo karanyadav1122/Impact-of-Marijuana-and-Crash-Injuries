{
 "cells": [
  {
   "cell_type": "code",
   "execution_count": 1,
   "id": "d9338489",
   "metadata": {},
   "outputs": [],
   "source": [
    "import numpy as np\n",
    "import pandas as pd\n"
   ]
  },
  {
   "cell_type": "code",
   "execution_count": 2,
   "id": "98e9396d",
   "metadata": {},
   "outputs": [],
   "source": [
    "tco = pd.read_csv('C:/Users/karan/tco_WorkingfFile.csv')"
   ]
  },
  {
   "cell_type": "code",
   "execution_count": 3,
   "id": "8a96059a",
   "metadata": {},
   "outputs": [
    {
     "data": {
      "text/plain": [
       "Index(['Crash_ID', 'COUNTY_FIPS', 'COUNTY', 'INJURY_COUNT', 'INJURY_OUTCOME',\n",
       "       'INJURY_COUNT_SUM', 'BLOWING SAND/SNOW', 'CLEAR', 'CLOUDY', 'FOG',\n",
       "       'OTHER_WEATHER', 'RAIN', 'SEVERE CROSSWINDS', 'SLEET/HAIL',\n",
       "       'SNOW_WEATHER', 'UNKNOWN_WEATHER', 'DARK-LIGHTED', 'DARK-NOT LIGHTED',\n",
       "       'DARK-UNKNOWN LIGHTING', 'DAWN', 'DAYLIGHT', 'DUSK', 'OTHER_LIGHT',\n",
       "       'UNKNOWN_LIGHT', 'INATTENTION', 'SPEEDING', 'CITY STREET',\n",
       "       'COUNTY ROAD', 'FARM TO MARKET', 'INTERSTATE', 'OTHER ROADS',\n",
       "       'TOLL BRIDGES', 'TOLLWAY', 'US & STATE HIGHWAY', 'NO_INJURY',\n",
       "       'YES_INJURY', 'ALCOHOL', 'ALCOHOL, DRUG', 'DRUG', 'MARIJUANA',\n",
       "       'MEDICINAL', 'NO INTOXICATION', 'YEAR_CAT', 'YEAR_2019', 'YEAR_2020',\n",
       "       'YEAR_2021', 'STATE', 'POPULATION', 'INJURY_RATE', 'STATE_CAT',\n",
       "       'STATE_Colorado', 'STATE_Oklahoma', 'STATE_Texas'],\n",
       "      dtype='object')"
      ]
     },
     "execution_count": 3,
     "metadata": {},
     "output_type": "execute_result"
    }
   ],
   "source": [
    "tco.columns"
   ]
  },
  {
   "cell_type": "code",
   "execution_count": 4,
   "id": "2a01aeb2",
   "metadata": {},
   "outputs": [],
   "source": [
    "tco.rename(columns={'DARK-LIGHTED':'LL1',\n",
    "                   'DARK-NOT LIGHTED':'LL2',\n",
    "                  'DARK-UNKNOWN LIGHTING':'LL3',\n",
    "                   'DAWN':'LL4',\n",
    "                   'DAYLIGHT':'LL5',\n",
    "                  'DUSK':'LL6',\n",
    "                   'OTHER_LIGHT':'LL7',\n",
    "                   'UNKNOWN_LIGHT':'LL8',\n",
    "                    'INATTENTION':'HF1',\n",
    "                    'SPEEDING':'HF2',\n",
    "                    'ALCOHOL':'IN1'\n",
    "                    , 'ALCOHOL, DRUG':'IN2'\n",
    "                    , 'DRUG':'IN3',\n",
    "                    'MARIJUANA':'IN4'\n",
    "                    ,'MEDICINAL':'IN5',\n",
    "                    'NO INTOXICATION':'IN6',\n",
    "                    'CITY STREET':'RR1',\n",
    "       'COUNTY ROAD':'RR2',\n",
    "                    'FARM TO MARKET':'RR4', 'INTERSTATE':'RR3', 'OTHER ROADS':'RR5',\n",
    "       'TOLL BRIDGES':'RR6', 'TOLLWAY':'RR7', 'US & STATE HIGHWAY':'RR8',\n",
    "                    'BLOWING SAND/SNOW':'WW1', 'CLEAR':'WW3', 'CLOUDY':'WW2', 'FOG':'WW4',\n",
    "       'OTHER_WEATHER':'WW9', 'RAIN':'WW10', 'SEVERE CROSSWINDS':'WW5', 'SLEET/HAIL':'WW6',\n",
    "       'SNOW_WEATHER':'WW7', 'UNKNOWN_WEATHER':'WW8'},inplace= True)"
   ]
  },
  {
   "cell_type": "code",
   "execution_count": 5,
   "id": "7895f5d3",
   "metadata": {},
   "outputs": [
    {
     "data": {
      "text/plain": [
       "Index(['Crash_ID', 'COUNTY_FIPS', 'COUNTY', 'INJURY_COUNT', 'INJURY_OUTCOME',\n",
       "       'INJURY_COUNT_SUM', 'WW1', 'WW3', 'WW2', 'WW4', 'WW9', 'WW10', 'WW5',\n",
       "       'WW6', 'WW7', 'WW8', 'LL1', 'LL2', 'LL3', 'LL4', 'LL5', 'LL6', 'LL7',\n",
       "       'LL8', 'HF1', 'HF2', 'RR1', 'RR2', 'RR4', 'RR3', 'RR5', 'RR6', 'RR7',\n",
       "       'RR8', 'NO_INJURY', 'YES_INJURY', 'IN1', 'IN2', 'IN3', 'IN4', 'IN5',\n",
       "       'IN6', 'YEAR_CAT', 'YEAR_2019', 'YEAR_2020', 'YEAR_2021', 'STATE',\n",
       "       'POPULATION', 'INJURY_RATE', 'STATE_CAT', 'STATE_Colorado',\n",
       "       'STATE_Oklahoma', 'STATE_Texas'],\n",
       "      dtype='object')"
      ]
     },
     "execution_count": 5,
     "metadata": {},
     "output_type": "execute_result"
    }
   ],
   "source": [
    "tco.columns"
   ]
  },
  {
   "cell_type": "code",
   "execution_count": 6,
   "id": "3be4652c",
   "metadata": {},
   "outputs": [],
   "source": [
    "tco.rename(columns={'COUNTY':'CNT',\n",
    "                   'INJURY_COUNT':'INC',\n",
    "                   'INJURY_OUTCOME':'INO',\n",
    "                   'INJURY_COUNT_SUM':'INS',\n",
    "                   'INJURY_RATE':'INR',\n",
    "                    'YEAR_CAT':'YCA',\n",
    "                    'YEAR_2019':'Y19', 'YEAR_2020':'Y20', 'YEAR_2021':'Y21',\n",
    "                    'POPULATION':'PPN','STATE_CAT':'ST', 'STATE_Colorado':'ST2',\n",
    "       'STATE_Oklahoma':'ST3', 'STATE_Texas':'ST1'},inplace= True)"
   ]
  },
  {
   "cell_type": "code",
   "execution_count": 7,
   "id": "bc59bc06",
   "metadata": {},
   "outputs": [
    {
     "data": {
      "text/plain": [
       "Index(['Crash_ID', 'COUNTY_FIPS', 'CNT', 'INC', 'INO', 'INS', 'WW1', 'WW3',\n",
       "       'WW2', 'WW4', 'WW9', 'WW10', 'WW5', 'WW6', 'WW7', 'WW8', 'LL1', 'LL2',\n",
       "       'LL3', 'LL4', 'LL5', 'LL6', 'LL7', 'LL8', 'HF1', 'HF2', 'RR1', 'RR2',\n",
       "       'RR4', 'RR3', 'RR5', 'RR6', 'RR7', 'RR8', 'NO_INJURY', 'YES_INJURY',\n",
       "       'IN1', 'IN2', 'IN3', 'IN4', 'IN5', 'IN6', 'YCA', 'Y19', 'Y20', 'Y21',\n",
       "       'STATE', 'PPN', 'INR', 'ST', 'ST2', 'ST3', 'ST1'],\n",
       "      dtype='object')"
      ]
     },
     "execution_count": 7,
     "metadata": {},
     "output_type": "execute_result"
    }
   ],
   "source": [
    "tco.columns"
   ]
  },
  {
   "cell_type": "code",
   "execution_count": 11,
   "id": "9e021637",
   "metadata": {},
   "outputs": [],
   "source": [
    "tco.to_csv('tco_amos.csv',index= False)"
   ]
  },
  {
   "cell_type": "code",
   "execution_count": 10,
   "id": "25054a97",
   "metadata": {},
   "outputs": [
    {
     "data": {
      "text/plain": [
       "Crash_ID       0\n",
       "COUNTY_FIPS    0\n",
       "CNT            0\n",
       "INC            0\n",
       "INO            0\n",
       "INS            0\n",
       "WW1            0\n",
       "WW3            0\n",
       "WW2            0\n",
       "WW4            0\n",
       "WW9            0\n",
       "WW10           0\n",
       "WW5            0\n",
       "WW6            0\n",
       "WW7            0\n",
       "WW8            0\n",
       "LL1            0\n",
       "LL2            0\n",
       "LL3            0\n",
       "LL4            0\n",
       "LL5            0\n",
       "LL6            0\n",
       "LL7            0\n",
       "LL8            0\n",
       "HF1            0\n",
       "HF2            0\n",
       "RR1            0\n",
       "RR2            0\n",
       "RR4            0\n",
       "RR3            0\n",
       "RR5            0\n",
       "RR6            0\n",
       "RR7            0\n",
       "RR8            0\n",
       "NO_INJURY      0\n",
       "YES_INJURY     0\n",
       "IN1            0\n",
       "IN2            0\n",
       "IN3            0\n",
       "IN4            0\n",
       "IN5            0\n",
       "IN6            0\n",
       "YCA            0\n",
       "Y19            0\n",
       "Y20            0\n",
       "Y21            0\n",
       "STATE          0\n",
       "PPN            0\n",
       "INR            0\n",
       "ST             0\n",
       "ST2            0\n",
       "ST3            0\n",
       "ST1            0\n",
       "dtype: int64"
      ]
     },
     "execution_count": 10,
     "metadata": {},
     "output_type": "execute_result"
    }
   ],
   "source": [
    "tco.isnull().sum()"
   ]
  },
  {
   "cell_type": "code",
   "execution_count": null,
   "id": "1ef7d109",
   "metadata": {},
   "outputs": [],
   "source": []
  }
 ],
 "metadata": {
  "kernelspec": {
   "display_name": "Python 3 (ipykernel)",
   "language": "python",
   "name": "python3"
  },
  "language_info": {
   "codemirror_mode": {
    "name": "ipython",
    "version": 3
   },
   "file_extension": ".py",
   "mimetype": "text/x-python",
   "name": "python",
   "nbconvert_exporter": "python",
   "pygments_lexer": "ipython3",
   "version": "3.11.4"
  }
 },
 "nbformat": 4,
 "nbformat_minor": 5
}
