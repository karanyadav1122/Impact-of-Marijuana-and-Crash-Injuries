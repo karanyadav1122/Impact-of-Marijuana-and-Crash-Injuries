{
 "cells": [
  {
   "cell_type": "code",
   "execution_count": 2,
   "id": "71f9c093",
   "metadata": {},
   "outputs": [],
   "source": [
    "import numpy as np\n",
    "import pandas as pd"
   ]
  },
  {
   "cell_type": "code",
   "execution_count": 3,
   "id": "2b4eb00c",
   "metadata": {},
   "outputs": [],
   "source": [
    "t1 = pd.read_csv('C:/Kaggle/Texas_2019.csv')\n",
    "t2 = pd.read_csv('C:/Kaggle/Texas_2020.csv')\n",
    "t3 = pd.read_csv('C:/Kaggle/Texas_2021.csv')"
   ]
  },
  {
   "cell_type": "code",
   "execution_count": 25,
   "id": "3e87f75b",
   "metadata": {},
   "outputs": [
    {
     "data": {
      "text/plain": [
       "((18626, 79), (18626, 79), (18626, 79))"
      ]
     },
     "execution_count": 25,
     "metadata": {},
     "output_type": "execute_result"
    }
   ],
   "source": [
    "t1.shape, t2.shape, t3.shape"
   ]
  },
  {
   "cell_type": "code",
   "execution_count": 5,
   "id": "f6847dd7",
   "metadata": {},
   "outputs": [
    {
     "data": {
      "text/plain": [
       "Index(['GISJOIN', 'STATEFP', 'Shape_Area', 'ALCOHOL', 'DRUG', 'ALCOHOL__DRUG',\n",
       "       'NO_INTOXICATION', 'MEDICINAL', 'MARIJUANA', 'UNK', 'White', 'Hispanic',\n",
       "       'Black', 'Asian', 'Other', 'American_Native', 'NO_Damage', 'YES_Damage',\n",
       "       'NO_Intersection', 'YES_Intersection', 'BLOWING_SAND_SNOW', 'CLEAR',\n",
       "       'CLOUDY', 'FOG', 'RAIN', 'SEVERE_CROSSWINDS', 'SLEET_HAIL',\n",
       "       'SNOW_Weather', 'UNK_Weather', 'DAYLIGHT', 'DARK_LIGHTED',\n",
       "       'DARK_NOT_LIGHTED', 'DARK_UNKNOWN_LIGHTING', 'DUSK', 'DAWN',\n",
       "       'UNK_LIGHT', 'OTHER_LIGHT', 'CITY_STREET', 'COUNTY_ROAD',\n",
       "       'FARM_TO_MARKET', 'INTERSTATE', 'OTHER_ROADS', 'TOLL_BRIDGES',\n",
       "       'TOLLWAY', 'US___STATE_HIGHWAY', 'DRY', 'ICE', 'OTHER_SURF',\n",
       "       'SAND_MUD_DIRT', 'SLUSH', 'SNOW_SURF', 'STANDING_WATER', 'UNKNOWN_SURF',\n",
       "       'WET', 'SPEEDING', 'INATTENTION', 'LANE_CHANGE', 'TAILGATING',\n",
       "       'VIOLATION', 'UNSAFE_BACKING', 'IMPAIRMENT', 'TURNING', 'TECH_PARK',\n",
       "       'NO_FAULT', 'KNOWN_HUMAN_FACTOR', 'UNKNOWN_HUMAN_FACTOR',\n",
       "       'SUM_MEDIANWIDTH', 'MEDIAN_MEDIANWIDTH', 'FATAL', 'MIN_INJURY',\n",
       "       'NO_INJURY', 'POSBL_INJURY', 'SSI', 'UNK_SEVERITY', 'NO_INJ', 'YES_INJ',\n",
       "       'INJ_COUNT_SUM', 'POPN', 'YEAR'],\n",
       "      dtype='object')"
      ]
     },
     "execution_count": 5,
     "metadata": {},
     "output_type": "execute_result"
    }
   ],
   "source": [
    "t1.columns"
   ]
  },
  {
   "cell_type": "code",
   "execution_count": 6,
   "id": "ccc07cb6",
   "metadata": {},
   "outputs": [
    {
     "data": {
      "text/plain": [
       "Index(['GISJOIN', 'STATEFP', 'Shape_Area', 'ALCOHOL', 'DRUG', 'ALCOHOL_1',\n",
       "       'NO', 'MEDICINAL', 'MARIJUANA', 'UNK', 'White', 'Hispanic', 'Black',\n",
       "       'Asian', 'Other', 'American', 'NO_Damage', 'YES_Damage',\n",
       "       'NO_Intersection', 'YES_Intersection', 'BLOWING', 'CLEAR', 'CLOUDY',\n",
       "       'FOG', 'RAIN', 'SEVERE', 'SLEET_HAIL', 'SNOW_Weather', 'UNK_Weather',\n",
       "       'DAYLIGHT', 'DARK_LIGHTED', 'DARK_NOT', 'DARK_UNKNOWN', 'DUSK', 'DAWN',\n",
       "       'UNK_LIGHT', 'OTHER_LIGHT', 'CITY', 'COUNTY', 'FARM', 'INTERSTATE',\n",
       "       'OTHER_1', 'TOLL', 'TOLLWAY', 'US', 'DRY', 'ICE', 'OTHER_SURF', 'SAND',\n",
       "       'SLUSH', 'SNOW_SURF', 'STANDING', 'UNKNOWN_SURF', 'WET', 'SPEEDING',\n",
       "       'INATTENTION', 'LANE_CHANGE', 'TAILGATING', 'VIOLATION',\n",
       "       'UNSAFE_BACKING', 'IMPAIRMENT', 'TURNING', 'TECH_PARK', 'NO_FAULT',\n",
       "       'KNOWN_HUMAN_FACTOR', 'UNKNOWN_HUMAN_FACTOR', 'SUM_MEDIANWIDTH',\n",
       "       'MEDIAN_MEDIANWIDTH', 'FATAL', 'MIN_INJURY', 'NO_INJURY',\n",
       "       'POSBL_INJURY', 'SSI', 'UNK_SEVERITY', 'NO_INJ', 'YES_INJ',\n",
       "       'INJ_COUNT_SUM', 'POPN', 'YEAR'],\n",
       "      dtype='object')"
      ]
     },
     "execution_count": 6,
     "metadata": {},
     "output_type": "execute_result"
    }
   ],
   "source": [
    "t2.columns"
   ]
  },
  {
   "cell_type": "code",
   "execution_count": 7,
   "id": "6d5e4eaf",
   "metadata": {},
   "outputs": [],
   "source": [
    "t2.rename(columns={'ALCOHOL_1':'ALCOHOL__DRUG'},inplace= True)"
   ]
  },
  {
   "cell_type": "code",
   "execution_count": 8,
   "id": "8a0f6c9e",
   "metadata": {},
   "outputs": [],
   "source": [
    "t2.rename(columns={'NO':'NO_INTOXICATION'},inplace= True)"
   ]
  },
  {
   "cell_type": "code",
   "execution_count": 9,
   "id": "c0ed69ea",
   "metadata": {},
   "outputs": [],
   "source": [
    "t2.rename(columns={'American':'American_Native'},inplace= True)"
   ]
  },
  {
   "cell_type": "code",
   "execution_count": 10,
   "id": "9f214727",
   "metadata": {},
   "outputs": [],
   "source": [
    "t2.rename(columns={'Blowing':'BLOWING_SAND_SNOW'},inplace= True)"
   ]
  },
  {
   "cell_type": "code",
   "execution_count": 11,
   "id": "551ebb5f",
   "metadata": {},
   "outputs": [],
   "source": [
    "column_mapping = {\n",
    "    'BLOWING': 'BLOWING_SAND_SNOW',\n",
    "    'SEVERE': 'SEVERE_CROSSWINDS',\n",
    "    'DARK_NOT': 'DARK_NOT_LIGHTED',\n",
    "    'DARK_UNKNOWN': 'DARK_UNKNOWN_LIGHTING',\n",
    "    'CITY': 'CITY_STREET',\n",
    "    'COUNTY': 'COUNTY_ROAD',\n",
    "    'FARM': 'FARM_TO_MARKET',\n",
    "    'OTHER_1': 'OTHER_ROADS',\n",
    "    'TOLL': 'TOLL_BRIDGES',\n",
    "    'US': 'US___STATE_HIGHWAY',\n",
    "    'SAND': 'SAND_MUD_DIRT',\n",
    "    'STANDING': 'STANDING_WATER'\n",
    "    # Add any additional mappings if necessary\n",
    "}\n",
    "t2 = t2.rename(columns=column_mapping)"
   ]
  },
  {
   "cell_type": "code",
   "execution_count": 12,
   "id": "5070213e",
   "metadata": {},
   "outputs": [],
   "source": [
    "p = t1.columns.intersection(t2.columns)"
   ]
  },
  {
   "cell_type": "code",
   "execution_count": 14,
   "id": "8c1d3ddd",
   "metadata": {},
   "outputs": [
    {
     "data": {
      "text/plain": [
       "79"
      ]
     },
     "execution_count": 14,
     "metadata": {},
     "output_type": "execute_result"
    }
   ],
   "source": [
    "len(p)"
   ]
  },
  {
   "cell_type": "code",
   "execution_count": 24,
   "id": "64f5d98c",
   "metadata": {},
   "outputs": [
    {
     "data": {
      "text/plain": [
       "Index(['GISJOIN', 'STATEFP', 'Shape_Area', 'ALCOHOL', 'DRUG', 'ALCOHOL__DRUG',\n",
       "       'NO_INTOXICATION', 'MEDICINAL', 'MARIJUANA', 'UNK', 'White', 'Hispanic',\n",
       "       'Black', 'Asian', 'Other', 'American_Native', 'NO_Damage', 'YES_Damage',\n",
       "       'NO_Intersection', 'YES_Intersection', 'BLOWING_SAND_SNOW', 'CLEAR',\n",
       "       'CLOUDY', 'FOG', 'RAIN', 'SEVERE_CROSSWINDS', 'SLEET_HAIL',\n",
       "       'SNOW_Weather', 'UNK_Weather', 'DAYLIGHT', 'DARK_LIGHTED',\n",
       "       'DARK_NOT_LIGHTED', 'DARK_UNKNOWN_LIGHTING', 'DUSK', 'DAWN',\n",
       "       'UNK_LIGHT', 'OTHER_LIGHT', 'CITY_STREET', 'COUNTY_ROAD',\n",
       "       'FARM_TO_MARKET', 'INTERSTATE', 'OTHER_ROADS', 'TOLL_BRIDGES',\n",
       "       'TOLLWAY', 'US___STATE_HIGHWAY', 'DRY', 'ICE', 'OTHER_SURF',\n",
       "       'SAND_MUD_DIRT', 'SLUSH', 'SNOW_SURF', 'STANDING_WATER', 'UNKNOWN_SURF',\n",
       "       'WET', 'SPEEDING', 'INATTENTION', 'LANE_CHANGE', 'TAILGATING',\n",
       "       'VIOLATION', 'UNSAFE_BACKING', 'IMPAIRMENT', 'TURNING', 'TECH_PARK',\n",
       "       'NO_FAULT', 'KNOWN_HUMAN_FACTOR', 'UNKNOWN_HUMAN_FACTOR',\n",
       "       'SUM_MEDIANWIDTH', 'MEDIAN_MEDIANWIDTH', 'FATAL', 'MIN_INJURY',\n",
       "       'NO_INJURY', 'POSBL_INJURY', 'SSI', 'UNK_SEVERITY', 'NO_INJ', 'YES_INJ',\n",
       "       'INJ_COUNT_SUM', 'POPN', 'YEAR'],\n",
       "      dtype='object')"
      ]
     },
     "execution_count": 24,
     "metadata": {},
     "output_type": "execute_result"
    }
   ],
   "source": [
    "t3.columns"
   ]
  },
  {
   "cell_type": "code",
   "execution_count": 23,
   "id": "3737d0ca",
   "metadata": {},
   "outputs": [],
   "source": [
    "t3.drop(columns={'COUNTYFP','COUNT'},inplace= True)"
   ]
  },
  {
   "cell_type": "code",
   "execution_count": 21,
   "id": "2558d660",
   "metadata": {},
   "outputs": [
    {
     "data": {
      "text/plain": [
       "79"
      ]
     },
     "execution_count": 21,
     "metadata": {},
     "output_type": "execute_result"
    }
   ],
   "source": [
    "len(r)"
   ]
  },
  {
   "cell_type": "code",
   "execution_count": 355,
   "id": "4c35d680",
   "metadata": {},
   "outputs": [],
   "source": [
    "t1['YEAR_CAT'] = 1\n",
    "t2['YEAR_CAT'] =2\n",
    "t3['YEAR_CAT'] = 3"
   ]
  },
  {
   "cell_type": "code",
   "execution_count": 356,
   "id": "250a6693",
   "metadata": {},
   "outputs": [],
   "source": [
    "texas = pd.concat([t1,t2,t3],axis= 0)"
   ]
  },
  {
   "cell_type": "code",
   "execution_count": 27,
   "id": "655966c4",
   "metadata": {},
   "outputs": [
    {
     "data": {
      "text/plain": [
       "(55878, 79)"
      ]
     },
     "execution_count": 27,
     "metadata": {},
     "output_type": "execute_result"
    }
   ],
   "source": [
    "texas.shape"
   ]
  },
  {
   "cell_type": "code",
   "execution_count": 314,
   "id": "0b0be956",
   "metadata": {},
   "outputs": [],
   "source": [
    "o1 = pd.read_csv('C:/Kaggle/Oklahoma_2019.csv')\n",
    "o2 = pd.read_csv('C:/Kaggle/Oklahoma_2020.csv')\n",
    "o3 = pd.read_csv('C:/Kaggle/Oklahoma_2021.csv')"
   ]
  },
  {
   "cell_type": "code",
   "execution_count": 320,
   "id": "40eae6c3",
   "metadata": {},
   "outputs": [],
   "source": [
    "o1['YEAR_CAT']= 1"
   ]
  },
  {
   "cell_type": "code",
   "execution_count": 321,
   "id": "aab389c9",
   "metadata": {},
   "outputs": [],
   "source": [
    "o2['YEAR_CAT']=2"
   ]
  },
  {
   "cell_type": "code",
   "execution_count": 322,
   "id": "579e05a5",
   "metadata": {},
   "outputs": [],
   "source": [
    "o3['YEAR_CAT'] = 3"
   ]
  },
  {
   "cell_type": "code",
   "execution_count": 323,
   "id": "7bf336ef",
   "metadata": {},
   "outputs": [],
   "source": [
    "p = o1.columns.intersection(o2.columns)"
   ]
  },
  {
   "cell_type": "code",
   "execution_count": 324,
   "id": "d4ee22b0",
   "metadata": {},
   "outputs": [
    {
     "data": {
      "text/plain": [
       "47"
      ]
     },
     "execution_count": 324,
     "metadata": {},
     "output_type": "execute_result"
    }
   ],
   "source": [
    "len(p)"
   ]
  },
  {
   "cell_type": "code",
   "execution_count": 325,
   "id": "1d70f7f0",
   "metadata": {},
   "outputs": [],
   "source": [
    "o1.drop(columns=['COUNTYFP'],inplace= True)"
   ]
  },
  {
   "cell_type": "code",
   "execution_count": 326,
   "id": "83fe3ea8",
   "metadata": {},
   "outputs": [],
   "source": [
    "o2.drop(columns=['COUNTYFP'],inplace= True)"
   ]
  },
  {
   "cell_type": "code",
   "execution_count": 327,
   "id": "24f0f810",
   "metadata": {},
   "outputs": [
    {
     "data": {
      "text/plain": [
       "((3374, 46), (3374, 46), (3374, 46))"
      ]
     },
     "execution_count": 327,
     "metadata": {},
     "output_type": "execute_result"
    }
   ],
   "source": [
    "o1.shape, o2.shape, o3.shape"
   ]
  },
  {
   "cell_type": "code",
   "execution_count": 328,
   "id": "f49ba77c",
   "metadata": {},
   "outputs": [],
   "source": [
    "d = o2.columns.intersection(o3.columns)"
   ]
  },
  {
   "cell_type": "code",
   "execution_count": 329,
   "id": "2c581c00",
   "metadata": {},
   "outputs": [
    {
     "data": {
      "text/plain": [
       "34"
      ]
     },
     "execution_count": 329,
     "metadata": {},
     "output_type": "execute_result"
    }
   ],
   "source": [
    "len(d)"
   ]
  },
  {
   "cell_type": "code",
   "execution_count": 330,
   "id": "440a02d5",
   "metadata": {},
   "outputs": [
    {
     "data": {
      "text/plain": [
       "array([2020,    0], dtype=int64)"
      ]
     },
     "execution_count": 330,
     "metadata": {},
     "output_type": "execute_result"
    }
   ],
   "source": [
    "o2['YEAR'].unique()"
   ]
  },
  {
   "cell_type": "code",
   "execution_count": 331,
   "id": "412f6026",
   "metadata": {},
   "outputs": [
    {
     "data": {
      "text/plain": [
       "Index(['GISJOIN', 'STATEFP', 'Shape_Area', 'DAYLIGHT', 'DARK_LIGHTED',\n",
       "       'DARK_NOT', 'DARK_UNKNOWN', 'DUSK', 'DAWN', 'UNK_LIGHT', 'OTHER_LIGHT',\n",
       "       'POPN', 'CLEAR', 'CLOUDY', 'FOG', 'RAIN', 'SLEET_HAIL', 'OTHER_WEATHER',\n",
       "       'UNK_Weather', 'SNOW_Weather', 'BLOWING', 'SEVERE', 'INTERSTATE', 'US',\n",
       "       'FARM', 'COUNTY', 'CITY', 'TOLLWAY', 'OTHER', 'TOLL', 'ALCOHOL', 'DRUG',\n",
       "       'ALCOHOL_1', 'NO', 'MEDICINAL', 'MARIJUANA', 'NO_INATTENTION',\n",
       "       'YES_INATTENTION', 'NO_SPD', 'YES_SPD', 'NO_INJ', 'YES_INJ',\n",
       "       'INJ_COUNT_SUM', 'YEAR', 'STATE', 'YEAR_CAT'],\n",
       "      dtype='object')"
      ]
     },
     "execution_count": 331,
     "metadata": {},
     "output_type": "execute_result"
    }
   ],
   "source": [
    "o3.columns"
   ]
  },
  {
   "cell_type": "code",
   "execution_count": 332,
   "id": "ed6dbc48",
   "metadata": {},
   "outputs": [],
   "source": [
    "column_mapping = {\n",
    "    'GISJOIN': 'GISJOIN',\n",
    "    'STATEFP': 'STATEFP',\n",
    "    'Shape_Area': 'Shape_Area',\n",
    "    'DAYLIGHT': 'DAYLIGHT',\n",
    "    'DARK_LIGHTED': 'DARK_LIGHTED',\n",
    "    'DARK_NOT': 'DARK_NOT_LIGHTED',\n",
    "    'DARK_UNKNOWN': 'DARK_UNKNOWN_LIGHTING',\n",
    "    'DUSK': 'DUSK',\n",
    "    'DAWN': 'DAWN',\n",
    "    'UNK_LIGHT': 'UNK_LIGHT',\n",
    "    'OTHER_LIGHT': 'OTHER_LIGHT',\n",
    "    'POPN': 'POPN',\n",
    "    'CLEAR': 'CLEAR',\n",
    "    'CLOUDY': 'CLOUDY',\n",
    "    'FOG': 'FOG',\n",
    "    'RAIN': 'RAIN',\n",
    "    'SLEET_HAIL': 'SLEET_HAIL',\n",
    "    'OTHER_WEATHER': 'OTHER_WEATHER',\n",
    "    'UNK_Weather': 'UNK_Weather',\n",
    "    'SNOW_Weather': 'SNOW_Weather',\n",
    "    'BLOWING': 'BLOWING_SAND_SNOW',\n",
    "    'SEVERE': 'SEVERE_CROSSWINDS',\n",
    "    'INTERSTATE': 'INTERSTATE',\n",
    "    'US': 'US___STATE_HIGHWAY',\n",
    "    'FARM': 'FARM_TO_MARKET',\n",
    "    'COUNTY': 'COUNTY_ROAD',\n",
    "    'CITY': 'CITY_STREET',\n",
    "    'TOLLWAY': 'TOLLWAY',\n",
    "    'OTHER': 'OTHER_ROADS',\n",
    "    'TOLL': 'TOLL_BRIDGES',\n",
    "    'ALCOHOL': 'ALCOHOL',\n",
    "    'DRUG': 'DRUG',\n",
    "    'ALCOHOL_1': 'ALCOHOL__DRUG',\n",
    "    'NO': 'NO_INTOXICATION',\n",
    "    'MEDICINAL': 'MEDICINAL',\n",
    "    'MARIJUANA': 'MARIJUANA',\n",
    "    'NO_INATTENTION': 'NO_INATTENTION',\n",
    "    'YES_INATTENTION': 'YES_INATTENTION',\n",
    "    'NO_SPD': 'NO_SPD',\n",
    "    'YES_SPD': 'YES_SPD',\n",
    "    'NO_INJ': 'NO_INJ',\n",
    "    'YES_INJ': 'YES_INJ',\n",
    "    'INJ_COUNT_SUM': 'INJ_COUNT_SUM',\n",
    "    'YEAR': 'YEAR',\n",
    "    'STATE': 'STATE'\n",
    "}\n",
    "\n",
    "\n",
    "o3.rename(columns=column_mapping, inplace=True)"
   ]
  },
  {
   "cell_type": "code",
   "execution_count": 333,
   "id": "68087af4",
   "metadata": {},
   "outputs": [],
   "source": [
    "okla = pd.concat([o1,o2,o3],axis=0)"
   ]
  },
  {
   "cell_type": "code",
   "execution_count": 334,
   "id": "18bcd05c",
   "metadata": {},
   "outputs": [
    {
     "data": {
      "text/plain": [
       "0"
      ]
     },
     "execution_count": 334,
     "metadata": {},
     "output_type": "execute_result"
    }
   ],
   "source": [
    "okla.isna().sum().sum()"
   ]
  },
  {
   "cell_type": "code",
   "execution_count": 312,
   "id": "087c327c",
   "metadata": {},
   "outputs": [
    {
     "data": {
      "text/plain": [
       "array([2019,    0, 2020, 2021], dtype=int64)"
      ]
     },
     "execution_count": 312,
     "metadata": {},
     "output_type": "execute_result"
    }
   ],
   "source": [
    "okla['YEAR'].unique()"
   ]
  },
  {
   "cell_type": "code",
   "execution_count": 311,
   "id": "b1e02ca9",
   "metadata": {},
   "outputs": [
    {
     "data": {
      "text/plain": [
       "array(['Oklahoma', '0'], dtype=object)"
      ]
     },
     "execution_count": 311,
     "metadata": {},
     "output_type": "execute_result"
    }
   ],
   "source": [
    "okla['STATE'].unique()"
   ]
  },
  {
   "cell_type": "code",
   "execution_count": 48,
   "id": "0445a252",
   "metadata": {},
   "outputs": [],
   "source": [
    "c1 = pd.read_csv('C:/Kaggle/Colorad0_2019.csv')\n",
    "c2= pd.read_csv('C:/Kaggle/Colorado_2020.csv')\n",
    "c3 = pd.read_csv('C:/Kaggle/Colorado_2021.csv')"
   ]
  },
  {
   "cell_type": "code",
   "execution_count": 135,
   "id": "8d0b7b34",
   "metadata": {},
   "outputs": [
    {
     "data": {
      "text/plain": [
       "0       38\n",
       "1       41\n",
       "2       21\n",
       "3        9\n",
       "4        2\n",
       "        ..\n",
       "4053     0\n",
       "4054     0\n",
       "4055     0\n",
       "4056     0\n",
       "4057     0\n",
       "Name: INJURY_COUNT_SUM, Length: 4058, dtype: int64"
      ]
     },
     "execution_count": 135,
     "metadata": {},
     "output_type": "execute_result"
    }
   ],
   "source": [
    "c1['INJURY_COUNT_SUM']"
   ]
  },
  {
   "cell_type": "code",
   "execution_count": 49,
   "id": "c35a84e7",
   "metadata": {},
   "outputs": [
    {
     "data": {
      "text/plain": [
       "((4058, 95), (4058, 94), (4058, 110))"
      ]
     },
     "execution_count": 49,
     "metadata": {},
     "output_type": "execute_result"
    }
   ],
   "source": [
    "c1.shape, c2.shape, c3.shape"
   ]
  },
  {
   "cell_type": "code",
   "execution_count": 50,
   "id": "5703c143",
   "metadata": {},
   "outputs": [
    {
     "data": {
      "text/plain": [
       "Index(['GISJOIN', 'STATEFP', 'COUNTYFP', 'Shape_Area', 'POPULATION', 'BUFFER',\n",
       "       'ROAD_CLASS', 'DATE', 'INTERSECTION', 'CONTOUR', 'SURFACE', 'LIGHTING',\n",
       "       'WEATHER', 'HUMAN_FACTOR', 'INTOXICATION', 'AGE', 'GENDER',\n",
       "       'COUNTY_FIPS', 'COUNTY', 'LATITUDE', 'LONGITUDE', 'YEAR',\n",
       "       'INJURY_COUNT', 'INJURY_OUTCOME', 'Crash_ID', 'BUFF_DIST', 'ORIG_FID',\n",
       "       'Shape_Length_1', 'Shape_Area_1', 'WEATHER_DESC', 'BLOWING',\n",
       "       'CLEAR_COUNT', 'CLOUDY_COUNT', 'FOG_COUNT', 'OTHER_WEATHER_COUNT',\n",
       "       'RAIN_COUNT', 'SEVERE', 'SLEET_HAIL_COUNT', 'SNOW_WEATHER_COUNT',\n",
       "       'LIGHTING_DESC', 'DARK_LIGHTED_PERCENTAGE', 'DARK_NOT',\n",
       "       'DAWN_PERCENTAGE', 'DAYLIGHT_PERCENTAGE', 'DUSK_PERCENTAGE',\n",
       "       'UNKNOWN_LIGHT_PERCENTAGE', 'DARK_UNKNOWN', 'OTHER_LIGHT_PERCENTAGE',\n",
       "       'SURFACE_DESC', 'DIRT_PERCENTAGE', 'DRY_PERCENTAGE', 'ICE_PERCENTAGE',\n",
       "       'SLUSH_PERCENTAGE', 'SNOW_SURF_PERCENTAGE', 'UNKNOWN_SURF_PERCENTAGE',\n",
       "       'WET_PERCENTAGE', 'STANDING_WATER_PERCENTAGE', 'OTHER_SURF_PERCENTAGE',\n",
       "       'INTERSECTION_DESC', 'NO_INTERSECTION_PERCENTAGE',\n",
       "       'YES_INTERSECTION_PERCENTAGE', 'ROAD_CLASS_DESC', 'CITY', 'COUNTY_1',\n",
       "       'INTERSTATE_PERCENTAGE', 'OTHER', 'US', 'HUMAN_FACTOR_DESC',\n",
       "       'IMPAIRMENT_PERCENTAGE', 'INATTENTION_PERCENTAGE',\n",
       "       'KNOWN_HUMAN_FACTOR_PERCENTAGE', 'LANE_CHNG_PERCENTAGE',\n",
       "       'NO_FAULT_PERCENTAGE', 'SPEEDING_PERCENTAGE', 'TAILGATING_PERCENTAGE',\n",
       "       'TECH_PARK_PERCENTAGE', 'TURNING_PERCENTAGE',\n",
       "       'UNKNOWN_HUMAN_FACTOR_PERCENTAGE', 'UNSAFE_BACKING_PERCENTAGE',\n",
       "       'VIOLATION_PERCENTAGE', 'AGE_BAND', 'AGE_1', 'AGE_12', 'AGE_12_13',\n",
       "       'AGE_12_13_14', 'AGE_12_13_14_15', 'Unknown', 'GENDER_DESC',\n",
       "       'FEMALE_PERCENTAGE', 'MALE_PERCENTAGE', 'UNKNOWN_GENDER_PERCENTAGE',\n",
       "       'INJURY_COUNT_SUM', 'INJURY_OUTCOME_DESC', 'NO', 'YES'],\n",
       "      dtype='object')"
      ]
     },
     "execution_count": 50,
     "metadata": {},
     "output_type": "execute_result"
    }
   ],
   "source": [
    "c1.columns"
   ]
  },
  {
   "cell_type": "code",
   "execution_count": 51,
   "id": "613ee86a",
   "metadata": {},
   "outputs": [
    {
     "data": {
      "text/plain": [
       "Index(['GISJOIN', 'STATEFP', 'COUNTYFP', 'Shape_Area', 'POPULATION', 'BUFFER',\n",
       "       'ROAD_CLASS', 'INTERSECTION', 'CONTOUR', 'SURFACE', 'LIGHTING',\n",
       "       'WEATHER', 'HUMAN_FACTOR', 'INTOXICATION', 'AGE', 'GENDER',\n",
       "       'COUNTY_FIPS', 'COUNTY', 'LATITUDE', 'LONGITUDE', 'YEAR',\n",
       "       'INJURY_COUNT', 'INJURY_OUTCOME', 'Crash_ID', 'BUFF_DIST', 'ORIG_FID',\n",
       "       'Shape_Length_1', 'Shape_Area_1', 'WEATHER_DESC',\n",
       "       'BLOWING_SAND_SNOW_COUNT', 'CLEAR_COUNT', 'CLOUDY_COUNT', 'FOG_COUNT',\n",
       "       'OTHER_WEATHER_COUNT', 'RAIN_COUNT', 'SEVERE_CROSSWINDS_COUNT',\n",
       "       'SLEET_HAIL_COUNT', 'SNOW_WEATHER_COUNT', 'LIGHTING_DESC',\n",
       "       'DARK_LIGHTED_PERCENTAGE', 'DARK_NOT_LIGHTED_PERCENTAGE',\n",
       "       'DAWN_PERCENTAGE', 'DAYLIGHT_PERCENTAGE', 'DUSK_PERCENTAGE',\n",
       "       'UNKNOWN_LIGHT_PERCENTAGE', 'DARK_UNKNOWN_LIGHTING_PERCENTAGE',\n",
       "       'OTHER_LIGHT_PERCENTAGE', 'SURFACE_DESC', 'DIRT_PERCENTAGE',\n",
       "       'DRY_PERCENTAGE', 'ICE_PERCENTAGE', 'SLUSH_PERCENTAGE',\n",
       "       'SNOW_SURF_PERCENTAGE', 'UNKNOWN_SURF_PERCENTAGE', 'WET_PERCENTAGE',\n",
       "       'STANDING_WATER_PERCENTAGE', 'OTHER_SURF_PERCENTAGE',\n",
       "       'INTERSECTION_DESC', 'NO_INTERSECTION_PERCENTAGE',\n",
       "       'YES_INTERSECTION_PERCENTAGE', 'ROAD_CLASS_DESC',\n",
       "       'CITY_STREET_PERCENTAGE', 'COUNTY_ROAD_PERCENTAGE',\n",
       "       'INTERSTATE_PERCENTAGE', 'OTHER_ROADS_PERCENTAGE',\n",
       "       'US___STATE_HIGHWAY_PERCENTAGE', 'HUMAN_FACTOR_DESC',\n",
       "       'IMPAIRMENT_PERCENTAGE', 'INATTENTION_PERCENTAGE',\n",
       "       'KNOWN_HUMAN_FACTOR_PERCENTAGE', 'LANE_CHNG_PERCENTAGE',\n",
       "       'NO_FAULT_PERCENTAGE', 'SPEEDING_PERCENTAGE', 'TAILGATING_PERCENTAGE',\n",
       "       'TECH_PARK_PERCENTAGE', 'TURNING_PERCENTAGE',\n",
       "       'UNKNOWN_HUMAN_FACTOR_PERCENTAGE', 'UNSAFE_BACKING_PERCENTAGE',\n",
       "       'VIOLATION_PERCENTAGE', 'AGE_BAND', 'AGE_1_21_PERCENTAGE',\n",
       "       'AGE_22_30_PERCENTAGE', 'AGE_31_65_PERCENTAGE',\n",
       "       'AGE_66_and_above_PERCENTAGE', 'AGE_100_and_above_PERCENTAGE',\n",
       "       'Unknown_Age_PERCENTAGE', 'GENDER_DESC', 'FEMALE_PERCENTAGE',\n",
       "       'MALE_PERCENTAGE', 'UNKNOWN_GENDER_PERCENTAGE', 'INJURY_COUNT_SUM',\n",
       "       'INJURY_OUTCOME_DESC', 'NO_INJURY_OUTCOME', 'YES_INJURY_OUTCOME'],\n",
       "      dtype='object')"
      ]
     },
     "execution_count": 51,
     "metadata": {},
     "output_type": "execute_result"
    }
   ],
   "source": [
    "c2.columns"
   ]
  },
  {
   "cell_type": "code",
   "execution_count": 54,
   "id": "1e68d7b8",
   "metadata": {},
   "outputs": [],
   "source": [
    "column_mapping = {\n",
    "    'GISJOIN': 'GISJOIN',\n",
    "    'STATEFP': 'STATEFP',\n",
    "    'COUNTYFP': 'COUNTYFP',\n",
    "    'Shape_Area': 'Shape_Area',\n",
    "    'POPULATION': 'POPULATION',\n",
    "    'BUFFER': 'BUFFER',\n",
    "    'ROAD_CLASS': 'ROAD_CLASS',\n",
    "    'INTERSECTION': 'INTERSECTION',\n",
    "    'CONTOUR': 'CONTOUR',\n",
    "    'SURFACE': 'SURFACE',\n",
    "    'LIGHTING': 'LIGHTING',\n",
    "    'WEATHER': 'WEATHER',\n",
    "    'HUMAN_FACTOR': 'HUMAN_FACTOR',\n",
    "    'INTOXICATION': 'INTOXICATION',\n",
    "    'AGE': 'AGE',\n",
    "    'GENDER': 'GENDER',\n",
    "    'COUNTY_FIPS': 'COUNTY_FIPS',\n",
    "    'COUNTY': 'COUNTY',\n",
    "    'LATITUDE': 'LATITUDE',\n",
    "    'LONGITUDE': 'LONGITUDE',\n",
    "    'YEAR': 'YEAR',\n",
    "    'INJURY_COUNT': 'INJURY_COUNT',\n",
    "    'INJURY_OUTCOME': 'INJURY_OUTCOME',\n",
    "    'Crash_ID': 'Crash_ID',\n",
    "    'BUFF_DIST': 'BUFF_DIST',\n",
    "    'ORIG_FID': 'ORIG_FID',\n",
    "    'Shape_Length_1': 'Shape_Length_1',\n",
    "    'Shape_Area_1': 'Shape_Area_1',\n",
    "    'WEATHER_DESC': 'WEATHER_DESC',\n",
    "    'BLOWING_SAND_SNOW_COUNT': 'BLOWING',\n",
    "    'CLEAR_COUNT': 'CLEAR_COUNT',\n",
    "    'CLOUDY_COUNT': 'CLOUDY_COUNT',\n",
    "    'FOG_COUNT': 'FOG_COUNT',\n",
    "    'OTHER_WEATHER_COUNT': 'OTHER_WEATHER_COUNT',\n",
    "    'RAIN_COUNT': 'RAIN_COUNT',\n",
    "    'SEVERE_CROSSWINDS_COUNT': 'SEVERE',\n",
    "    'SLEET_HAIL_COUNT': 'SLEET_HAIL_COUNT',\n",
    "    'SNOW_WEATHER_COUNT': 'SNOW_WEATHER_COUNT',\n",
    "    'LIGHTING_DESC': 'LIGHTING_DESC',\n",
    "    'DARK_LIGHTED_PERCENTAGE': 'DARK_LIGHTED_PERCENTAGE',\n",
    "    'DARK_NOT_LIGHTED_PERCENTAGE': 'DARK_NOT',\n",
    "    'DAWN_PERCENTAGE': 'DAWN_PERCENTAGE',\n",
    "    'DAYLIGHT_PERCENTAGE': 'DAYLIGHT_PERCENTAGE',\n",
    "    'DUSK_PERCENTAGE': 'DUSK_PERCENTAGE',\n",
    "    'UNKNOWN_LIGHT_PERCENTAGE': 'UNKNOWN_LIGHT_PERCENTAGE',\n",
    "    'DARK_UNKNOWN_LIGHTING_PERCENTAGE': 'DARK_UNKNOWN',\n",
    "    'OTHER_LIGHT_PERCENTAGE': 'OTHER_LIGHT_PERCENTAGE',\n",
    "    'SURFACE_DESC': 'SURFACE_DESC',\n",
    "    'DIRT_PERCENTAGE': 'DIRT_PERCENTAGE',\n",
    "    'DRY_PERCENTAGE': 'DRY_PERCENTAGE',\n",
    "    'ICE_PERCENTAGE': 'ICE_PERCENTAGE',\n",
    "    'SLUSH_PERCENTAGE': 'SLUSH_PERCENTAGE',\n",
    "    'SNOW_SURF_PERCENTAGE': 'SNOW_SURF_PERCENTAGE',\n",
    "    'UNKNOWN_SURF_PERCENTAGE': 'UNKNOWN_SURF_PERCENTAGE',\n",
    "    'WET_PERCENTAGE': 'WET_PERCENTAGE',\n",
    "    'STANDING_WATER_PERCENTAGE': 'STANDING_WATER_PERCENTAGE',\n",
    "    'OTHER_SURF_PERCENTAGE': 'OTHER_SURF_PERCENTAGE',\n",
    "    'INTERSECTION_DESC': 'INTERSECTION_DESC',\n",
    "    'NO_INTERSECTION_PERCENTAGE': 'NO_INTERSECTION_PERCENTAGE',\n",
    "    'YES_INTERSECTION_PERCENTAGE': 'YES_INTERSECTION_PERCENTAGE',\n",
    "    'ROAD_CLASS_DESC': 'ROAD_CLASS_DESC',\n",
    "    'CITY_STREET_PERCENTAGE': 'CITY',\n",
    "    'COUNTY_ROAD_PERCENTAGE': 'COUNTY_1',\n",
    "    'INTERSTATE_PERCENTAGE': 'INTERSTATE_PERCENTAGE',\n",
    "    'OTHER_ROADS_PERCENTAGE': 'OTHER',\n",
    "    'US___STATE_HIGHWAY_PERCENTAGE': 'US',\n",
    "    'HUMAN_FACTOR_DESC': 'HUMAN_FACTOR_DESC',\n",
    "    'IMPAIRMENT_PERCENTAGE': 'IMPAIRMENT_PERCENTAGE',\n",
    "    'INATTENTION_PERCENTAGE': 'INATTENTION_PERCENTAGE',\n",
    "    'KNOWN_HUMAN_FACTOR_PERCENTAGE': 'KNOWN_HUMAN_FACTOR_PERCENTAGE',\n",
    "    'LANE_CHNG_PERCENTAGE': 'LANE_CHNG_PERCENTAGE',\n",
    "    'NO_FAULT_PERCENTAGE': 'NO_FAULT_PERCENTAGE',\n",
    "    'SPEEDING_PERCENTAGE': 'SPEEDING_PERCENTAGE',\n",
    "    'TAILGATING_PERCENTAGE': 'TAILGATING_PERCENTAGE',\n",
    "    'TECH_PARK_PERCENTAGE': 'TECH_PARK_PERCENTAGE',\n",
    "    'TURNING_PERCENTAGE': 'TURNING_PERCENTAGE',\n",
    "    'UNKNOWN_HUMAN_FACTOR_PERCENTAGE': 'UNKNOWN_HUMAN_FACTOR_PERCENTAGE',\n",
    "    'UNSAFE_BACKING_PERCENTAGE': 'UNSAFE_BACKING_PERCENTAGE',\n",
    "    'VIOLATION_PERCENTAGE': 'VIOLATION_PERCENTAGE',\n",
    "    'AGE_BAND': 'AGE_BAND',\n",
    "    'AGE_1_21_PERCENTAGE': 'AGE_1',\n",
    "    'AGE_22_30_PERCENTAGE': 'AGE_12',\n",
    "    'AGE_31_65_PERCENTAGE': 'AGE_12_13',\n",
    "    'AGE_66_and_above_PERCENTAGE': 'AGE_12_13_14',\n",
    "    'AGE_100_and_above_PERCENTAGE': 'AGE_12_13_14_15',\n",
    "    'Unknown_Age_PERCENTAGE': 'Unknown',\n",
    "    'GENDER_DESC': 'GENDER_DESC',\n",
    "    'FEMALE_PERCENTAGE': 'FEMALE_PERCENTAGE',\n",
    "    'MALE_PERCENTAGE': 'MALE_PERCENTAGE',\n",
    "    'UNKNOWN_GENDER_PERCENTAGE': 'UNKNOWN_GENDER_PERCENTAGE',\n",
    "    'INJURY_COUNT_SUM': 'INJURY_COUNT_SUM',\n",
    "    'INJURY_OUTCOME_DESC': 'INJURY_OUTCOME_DESC',\n",
    "    'NO_INJURY_OUTCOME': 'NO',\n",
    "    'YES_INJURY_OUTCOME': 'YES'\n",
    "}\n",
    "\n",
    "# Renaming columns of c2\n",
    "c2.rename(columns=column_mapping, inplace=True)\n"
   ]
  },
  {
   "cell_type": "code",
   "execution_count": 58,
   "id": "6afdaea3",
   "metadata": {},
   "outputs": [],
   "source": [
    "w1 = set(c1.columns)\n",
    "w2 = set(c2.columns)"
   ]
  },
  {
   "cell_type": "code",
   "execution_count": 59,
   "id": "f6c4cb55",
   "metadata": {},
   "outputs": [
    {
     "data": {
      "text/plain": [
       "set()"
      ]
     },
     "execution_count": 59,
     "metadata": {},
     "output_type": "execute_result"
    }
   ],
   "source": [
    "w1-w2"
   ]
  },
  {
   "cell_type": "code",
   "execution_count": 57,
   "id": "f6094644",
   "metadata": {},
   "outputs": [],
   "source": [
    "c1.drop(columns=['DATE'],inplace= True)"
   ]
  },
  {
   "cell_type": "code",
   "execution_count": 64,
   "id": "77d89fb6",
   "metadata": {},
   "outputs": [
    {
     "name": "stdout",
     "output_type": "stream",
     "text": [
      "GISJOIN\n",
      "STATEFP\n",
      "COUNTYFP\n",
      "Shape_Area\n",
      "PUPULATION\n",
      "BUFFER\n",
      "ROAD_CLASS\n",
      "DATE\n",
      "INTERSECTION\n",
      "CONTOUR\n",
      "SURFACE\n",
      "LIGHTING\n",
      "WEATHER\n",
      "HUMAN_FACTOR\n",
      "INTOXICATION\n",
      "AGE\n",
      "GENDER\n",
      "COUNTY_FIPS\n",
      "COUNTY\n",
      "LATITUDE\n",
      "LONGITUDE\n",
      "YEAR\n",
      "INJURY_COUNT\n",
      "INJURY_OUTCOME\n",
      "Crash_ID\n",
      "BUFF_DIST\n",
      "ORIG_FID\n",
      "Shape_Length_1\n",
      "Shape_Area_1\n",
      "WEATHER_DESC\n",
      "BLOWING_SAND_SNOW_COUNT\n",
      "CLEAR_COUNT\n",
      "CLOUDY_COUNT\n",
      "FOG_COUNT\n",
      "OTHER_WEATHER_COUNT\n",
      "RAIN_COUNT\n",
      "SEVERE_CROSSWINDS_COUNT\n",
      "SLEET_HAIL_COUNT\n",
      "SNOW_WEATHER_COUNT\n",
      "LIGHTING_DESC\n",
      "DARK_LIGHTED_PERCENTAGE\n",
      "DARK_NOT_LIGHTED_PERCENTAGE\n",
      "DAWN_PERCENTAGE\n",
      "DAYLIGHT_PERCENTAGE\n",
      "DUSK_PERCENTAGE\n",
      "UNKNOWN_LIGHT_PERCENTAGE\n",
      "DARK_UNKNOWN_LIGHTING_PERCENTAGE\n",
      "OTHER_LIGHT_PERCENTAGE\n",
      "SURFACE_DESC\n",
      "DIRT_PERCENTAGE\n",
      "DRY_PERCENTAGE\n",
      "ICE_PERCENTAGE\n",
      "SLUSH_PERCENTAGE\n",
      "SNOW_SURF_PERCENTAGE\n",
      "UNKNOWN_SURF_PERCENTAGE\n",
      "WET_PERCENTAGE\n",
      "STANDING_WATER_PERCENTAGE\n",
      "OTHER_SURF_PERCENTAGE\n",
      "INTERSECTION_DESC\n",
      "NO_INTERSECTION_PERCENTAGE\n",
      "YES_INTERSECTION_PERCENTAGE\n",
      "ROAD_CLASS_DESC\n",
      "CITY_STREET_PERCENTAGE\n",
      "COUNTY_ROAD_PERCENTAGE\n",
      "INTERSTATE_PERCENTAGE\n",
      "OTHER_ROADS_PERCENTAGE\n",
      "US___STATE_HIGHWAY_PERCENTAGE\n",
      "HUMAN_FACTOR_DESC\n",
      "IMPAIRMENT_PERCENTAGE\n",
      "INATTENTION_PERCENTAGE\n",
      "KNOWN_HUMAN_FACTOR_PERCENTAGE\n",
      "LANE_CHNG_PERCENTAGE\n",
      "NO_FAULT_PERCENTAGE\n",
      "SPEEDING_PERCENTAGE\n",
      "TAILGATING_PERCENTAGE\n",
      "TECH_PARK_PERCENTAGE\n",
      "TURNING_PERCENTAGE\n",
      "UNKNOWN_HUMAN_FACTOR_PERCENTAGE\n",
      "UNSAFE_BACKING_PERCENTAGE\n",
      "VIOLATION_PERCENTAGE\n",
      "AGE_BAND\n",
      "AGE_1_21_PERCENTAGE\n",
      "AGE_22_30_PERCENTAGE\n",
      "AGE_31_65_PERCENTAGE\n",
      "AGE_66_and_above_PERCENTAGE\n",
      "AGE_100_and_above_PERCENTAGE\n",
      "Unknown_Age_PERCENTAGE\n",
      "GENDER_DESC\n",
      "FEMALE_PERCENTAGE\n",
      "MALE_PERCENTAGE\n",
      "UNKNOWN_GENDER_PERCENTAGE\n",
      "INJURY_COUNT_SUM\n",
      "INJURY_OUTCOME_DESC\n",
      "NO_INJURY_OUTCOME\n",
      "YES_INJURY_OUTCOME\n"
     ]
    }
   ],
   "source": [
    " for i in c3.columns:\n",
    "        print(i)"
   ]
  },
  {
   "cell_type": "code",
   "execution_count": 63,
   "id": "94ff7a37",
   "metadata": {},
   "outputs": [],
   "source": [
    "c3.drop(columns=[\n",
    "    '0',\n",
    "    '0.1',\n",
    "    '0.2',\n",
    "    '0.3',\n",
    "    '0.4',\n",
    "    '0.5',\n",
    "    '0.6',\n",
    "    '0.7',\n",
    "    '0.8',\n",
    "    '0.9',\n",
    "    '0.10',\n",
    "    '0.11',\n",
    "    '0.12',\n",
    "    '0.13',\n",
    "    '0.14'\n",
    "], inplace=True)"
   ]
  },
  {
   "cell_type": "code",
   "execution_count": 65,
   "id": "4930ad6a",
   "metadata": {},
   "outputs": [
    {
     "data": {
      "text/plain": [
       "(4058, 95)"
      ]
     },
     "execution_count": 65,
     "metadata": {},
     "output_type": "execute_result"
    }
   ],
   "source": [
    "c3.shape"
   ]
  },
  {
   "cell_type": "code",
   "execution_count": 68,
   "id": "87757b2a",
   "metadata": {},
   "outputs": [],
   "source": [
    "p1 = c2.columns.intersection(c3.columns)"
   ]
  },
  {
   "cell_type": "code",
   "execution_count": 69,
   "id": "166efe9d",
   "metadata": {},
   "outputs": [
    {
     "data": {
      "text/plain": [
       "77"
      ]
     },
     "execution_count": 69,
     "metadata": {},
     "output_type": "execute_result"
    }
   ],
   "source": [
    "len(p1)"
   ]
  },
  {
   "cell_type": "code",
   "execution_count": 70,
   "id": "2b28f5b8",
   "metadata": {},
   "outputs": [],
   "source": [
    "a1 = set(c2.columns)\n",
    "a2 = set(c3.columns)"
   ]
  },
  {
   "cell_type": "code",
   "execution_count": 73,
   "id": "ca8377f5",
   "metadata": {},
   "outputs": [
    {
     "data": {
      "text/plain": [
       "{'AGE_1',\n",
       " 'AGE_12',\n",
       " 'AGE_12_13',\n",
       " 'AGE_12_13_14',\n",
       " 'AGE_12_13_14_15',\n",
       " 'BLOWING',\n",
       " 'CITY',\n",
       " 'COUNTY_1',\n",
       " 'DARK_NOT',\n",
       " 'DARK_UNKNOWN',\n",
       " 'NO',\n",
       " 'OTHER',\n",
       " 'POPULATION',\n",
       " 'SEVERE',\n",
       " 'US',\n",
       " 'Unknown',\n",
       " 'YES'}"
      ]
     },
     "execution_count": 73,
     "metadata": {},
     "output_type": "execute_result"
    }
   ],
   "source": [
    "a1-a2"
   ]
  },
  {
   "cell_type": "code",
   "execution_count": 74,
   "id": "fe437bf2",
   "metadata": {},
   "outputs": [
    {
     "data": {
      "text/plain": [
       "Index(['GISJOIN', 'STATEFP', 'COUNTYFP', 'Shape_Area', 'POPULATION', 'BUFFER',\n",
       "       'ROAD_CLASS', 'INTERSECTION', 'CONTOUR', 'SURFACE', 'LIGHTING',\n",
       "       'WEATHER', 'HUMAN_FACTOR', 'INTOXICATION', 'AGE', 'GENDER',\n",
       "       'COUNTY_FIPS', 'COUNTY', 'LATITUDE', 'LONGITUDE', 'YEAR',\n",
       "       'INJURY_COUNT', 'INJURY_OUTCOME', 'Crash_ID', 'BUFF_DIST', 'ORIG_FID',\n",
       "       'Shape_Length_1', 'Shape_Area_1', 'WEATHER_DESC', 'BLOWING',\n",
       "       'CLEAR_COUNT', 'CLOUDY_COUNT', 'FOG_COUNT', 'OTHER_WEATHER_COUNT',\n",
       "       'RAIN_COUNT', 'SEVERE', 'SLEET_HAIL_COUNT', 'SNOW_WEATHER_COUNT',\n",
       "       'LIGHTING_DESC', 'DARK_LIGHTED_PERCENTAGE', 'DARK_NOT',\n",
       "       'DAWN_PERCENTAGE', 'DAYLIGHT_PERCENTAGE', 'DUSK_PERCENTAGE',\n",
       "       'UNKNOWN_LIGHT_PERCENTAGE', 'DARK_UNKNOWN', 'OTHER_LIGHT_PERCENTAGE',\n",
       "       'SURFACE_DESC', 'DIRT_PERCENTAGE', 'DRY_PERCENTAGE', 'ICE_PERCENTAGE',\n",
       "       'SLUSH_PERCENTAGE', 'SNOW_SURF_PERCENTAGE', 'UNKNOWN_SURF_PERCENTAGE',\n",
       "       'WET_PERCENTAGE', 'STANDING_WATER_PERCENTAGE', 'OTHER_SURF_PERCENTAGE',\n",
       "       'INTERSECTION_DESC', 'NO_INTERSECTION_PERCENTAGE',\n",
       "       'YES_INTERSECTION_PERCENTAGE', 'ROAD_CLASS_DESC', 'CITY', 'COUNTY_1',\n",
       "       'INTERSTATE_PERCENTAGE', 'OTHER', 'US', 'HUMAN_FACTOR_DESC',\n",
       "       'IMPAIRMENT_PERCENTAGE', 'INATTENTION_PERCENTAGE',\n",
       "       'KNOWN_HUMAN_FACTOR_PERCENTAGE', 'LANE_CHNG_PERCENTAGE',\n",
       "       'NO_FAULT_PERCENTAGE', 'SPEEDING_PERCENTAGE', 'TAILGATING_PERCENTAGE',\n",
       "       'TECH_PARK_PERCENTAGE', 'TURNING_PERCENTAGE',\n",
       "       'UNKNOWN_HUMAN_FACTOR_PERCENTAGE', 'UNSAFE_BACKING_PERCENTAGE',\n",
       "       'VIOLATION_PERCENTAGE', 'AGE_BAND', 'AGE_1', 'AGE_12', 'AGE_12_13',\n",
       "       'AGE_12_13_14', 'AGE_12_13_14_15', 'Unknown', 'GENDER_DESC',\n",
       "       'FEMALE_PERCENTAGE', 'MALE_PERCENTAGE', 'UNKNOWN_GENDER_PERCENTAGE',\n",
       "       'INJURY_COUNT_SUM', 'INJURY_OUTCOME_DESC', 'NO', 'YES'],\n",
       "      dtype='object')"
      ]
     },
     "execution_count": 74,
     "metadata": {},
     "output_type": "execute_result"
    }
   ],
   "source": [
    "c2.columns"
   ]
  },
  {
   "cell_type": "code",
   "execution_count": 75,
   "id": "7874c22c",
   "metadata": {},
   "outputs": [
    {
     "data": {
      "text/plain": [
       "Index(['GISJOIN', 'STATEFP', 'COUNTYFP', 'Shape_Area', 'PUPULATION', 'BUFFER',\n",
       "       'ROAD_CLASS', 'DATE', 'INTERSECTION', 'CONTOUR', 'SURFACE', 'LIGHTING',\n",
       "       'WEATHER', 'HUMAN_FACTOR', 'INTOXICATION', 'AGE', 'GENDER',\n",
       "       'COUNTY_FIPS', 'COUNTY', 'LATITUDE', 'LONGITUDE', 'YEAR',\n",
       "       'INJURY_COUNT', 'INJURY_OUTCOME', 'Crash_ID', 'BUFF_DIST', 'ORIG_FID',\n",
       "       'Shape_Length_1', 'Shape_Area_1', 'WEATHER_DESC',\n",
       "       'BLOWING_SAND_SNOW_COUNT', 'CLEAR_COUNT', 'CLOUDY_COUNT', 'FOG_COUNT',\n",
       "       'OTHER_WEATHER_COUNT', 'RAIN_COUNT', 'SEVERE_CROSSWINDS_COUNT',\n",
       "       'SLEET_HAIL_COUNT', 'SNOW_WEATHER_COUNT', 'LIGHTING_DESC',\n",
       "       'DARK_LIGHTED_PERCENTAGE', 'DARK_NOT_LIGHTED_PERCENTAGE',\n",
       "       'DAWN_PERCENTAGE', 'DAYLIGHT_PERCENTAGE', 'DUSK_PERCENTAGE',\n",
       "       'UNKNOWN_LIGHT_PERCENTAGE', 'DARK_UNKNOWN_LIGHTING_PERCENTAGE',\n",
       "       'OTHER_LIGHT_PERCENTAGE', 'SURFACE_DESC', 'DIRT_PERCENTAGE',\n",
       "       'DRY_PERCENTAGE', 'ICE_PERCENTAGE', 'SLUSH_PERCENTAGE',\n",
       "       'SNOW_SURF_PERCENTAGE', 'UNKNOWN_SURF_PERCENTAGE', 'WET_PERCENTAGE',\n",
       "       'STANDING_WATER_PERCENTAGE', 'OTHER_SURF_PERCENTAGE',\n",
       "       'INTERSECTION_DESC', 'NO_INTERSECTION_PERCENTAGE',\n",
       "       'YES_INTERSECTION_PERCENTAGE', 'ROAD_CLASS_DESC',\n",
       "       'CITY_STREET_PERCENTAGE', 'COUNTY_ROAD_PERCENTAGE',\n",
       "       'INTERSTATE_PERCENTAGE', 'OTHER_ROADS_PERCENTAGE',\n",
       "       'US___STATE_HIGHWAY_PERCENTAGE', 'HUMAN_FACTOR_DESC',\n",
       "       'IMPAIRMENT_PERCENTAGE', 'INATTENTION_PERCENTAGE',\n",
       "       'KNOWN_HUMAN_FACTOR_PERCENTAGE', 'LANE_CHNG_PERCENTAGE',\n",
       "       'NO_FAULT_PERCENTAGE', 'SPEEDING_PERCENTAGE', 'TAILGATING_PERCENTAGE',\n",
       "       'TECH_PARK_PERCENTAGE', 'TURNING_PERCENTAGE',\n",
       "       'UNKNOWN_HUMAN_FACTOR_PERCENTAGE', 'UNSAFE_BACKING_PERCENTAGE',\n",
       "       'VIOLATION_PERCENTAGE', 'AGE_BAND', 'AGE_1_21_PERCENTAGE',\n",
       "       'AGE_22_30_PERCENTAGE', 'AGE_31_65_PERCENTAGE',\n",
       "       'AGE_66_and_above_PERCENTAGE', 'AGE_100_and_above_PERCENTAGE',\n",
       "       'Unknown_Age_PERCENTAGE', 'GENDER_DESC', 'FEMALE_PERCENTAGE',\n",
       "       'MALE_PERCENTAGE', 'UNKNOWN_GENDER_PERCENTAGE', 'INJURY_COUNT_SUM',\n",
       "       'INJURY_OUTCOME_DESC', 'NO_INJURY_OUTCOME', 'YES_INJURY_OUTCOME'],\n",
       "      dtype='object')"
      ]
     },
     "execution_count": 75,
     "metadata": {},
     "output_type": "execute_result"
    }
   ],
   "source": [
    "c3.columns"
   ]
  },
  {
   "cell_type": "code",
   "execution_count": 76,
   "id": "5fd2468d",
   "metadata": {},
   "outputs": [],
   "source": [
    "column_mapping = {\n",
    "    'GISJOIN': 'GISJOIN',\n",
    "    'STATEFP': 'STATEFP',\n",
    "    'COUNTYFP': 'COUNTYFP',\n",
    "    'Shape_Area': 'Shape_Area',\n",
    "    'PUPULATION': 'POPULATION',\n",
    "    'BUFFER': 'BUFFER',\n",
    "    'ROAD_CLASS': 'ROAD_CLASS',\n",
    "    'DATE': 'DATE',\n",
    "    'INTERSECTION': 'INTERSECTION',\n",
    "    'CONTOUR': 'CONTOUR',\n",
    "    'SURFACE': 'SURFACE',\n",
    "    'LIGHTING': 'LIGHTING',\n",
    "    'WEATHER': 'WEATHER',\n",
    "    'HUMAN_FACTOR': 'HUMAN_FACTOR',\n",
    "    'INTOXICATION': 'INTOXICATION',\n",
    "    'AGE': 'AGE',\n",
    "    'GENDER': 'GENDER',\n",
    "    'COUNTY_FIPS': 'COUNTY_FIPS',\n",
    "    'COUNTY': 'COUNTY',\n",
    "    'LATITUDE': 'LATITUDE',\n",
    "    'LONGITUDE': 'LONGITUDE',\n",
    "    'YEAR': 'YEAR',\n",
    "    'INJURY_COUNT': 'INJURY_COUNT',\n",
    "    'INJURY_OUTCOME': 'INJURY_OUTCOME',\n",
    "    'Crash_ID': 'Crash_ID',\n",
    "    'BUFF_DIST': 'BUFF_DIST',\n",
    "    'ORIG_FID': 'ORIG_FID',\n",
    "    'Shape_Length_1': 'Shape_Length_1',\n",
    "    'Shape_Area_1': 'Shape_Area_1',\n",
    "    'WEATHER_DESC': 'WEATHER_DESC',\n",
    "    'BLOWING_SAND_SNOW_COUNT': 'BLOWING',\n",
    "    'CLEAR_COUNT': 'CLEAR_COUNT',\n",
    "    'CLOUDY_COUNT': 'CLOUDY_COUNT',\n",
    "    'FOG_COUNT': 'FOG_COUNT',\n",
    "    'OTHER_WEATHER_COUNT': 'OTHER_WEATHER_COUNT',\n",
    "    'RAIN_COUNT': 'RAIN_COUNT',\n",
    "    'SEVERE_CROSSWINDS_COUNT': 'SEVERE',\n",
    "    'SLEET_HAIL_COUNT': 'SLEET_HAIL_COUNT',\n",
    "    'SNOW_WEATHER_COUNT': 'SNOW_WEATHER_COUNT',\n",
    "    'LIGHTING_DESC': 'LIGHTING_DESC',\n",
    "    'DARK_LIGHTED_PERCENTAGE': 'DARK_LIGHTED_PERCENTAGE',\n",
    "    'DARK_NOT_LIGHTED_PERCENTAGE': 'DARK_NOT',\n",
    "    'DAWN_PERCENTAGE': 'DAWN_PERCENTAGE',\n",
    "    'DAYLIGHT_PERCENTAGE': 'DAYLIGHT_PERCENTAGE',\n",
    "    'DUSK_PERCENTAGE': 'DUSK_PERCENTAGE',\n",
    "    'UNKNOWN_LIGHT_PERCENTAGE': 'UNKNOWN_LIGHT_PERCENTAGE',\n",
    "    'DARK_UNKNOWN_LIGHTING_PERCENTAGE': 'DARK_UNKNOWN',\n",
    "    'OTHER_LIGHT_PERCENTAGE': 'OTHER_LIGHT_PERCENTAGE',\n",
    "    'SURFACE_DESC': 'SURFACE_DESC',\n",
    "    'DIRT_PERCENTAGE': 'DIRT_PERCENTAGE',\n",
    "    'DRY_PERCENTAGE': 'DRY_PERCENTAGE',\n",
    "    'ICE_PERCENTAGE': 'ICE_PERCENTAGE',\n",
    "    'SLUSH_PERCENTAGE': 'SLUSH_PERCENTAGE',\n",
    "    'SNOW_SURF_PERCENTAGE': 'SNOW_SURF_PERCENTAGE',\n",
    "    'UNKNOWN_SURF_PERCENTAGE': 'UNKNOWN_SURF_PERCENTAGE',\n",
    "    'WET_PERCENTAGE': 'WET_PERCENTAGE',\n",
    "    'STANDING_WATER_PERCENTAGE': 'STANDING_WATER_PERCENTAGE',\n",
    "    'OTHER_SURF_PERCENTAGE': 'OTHER_SURF_PERCENTAGE',\n",
    "    'INTERSECTION_DESC': 'INTERSECTION_DESC',\n",
    "    'NO_INTERSECTION_PERCENTAGE': 'NO_INTERSECTION_PERCENTAGE',\n",
    "    'YES_INTERSECTION_PERCENTAGE': 'YES_INTERSECTION_PERCENTAGE',\n",
    "    'ROAD_CLASS_DESC': 'ROAD_CLASS_DESC',\n",
    "    'CITY_STREET_PERCENTAGE': 'CITY',\n",
    "    'COUNTY_ROAD_PERCENTAGE': 'COUNTY_1',\n",
    "    'INTERSTATE_PERCENTAGE': 'INTERSTATE_PERCENTAGE',\n",
    "    'OTHER_ROADS_PERCENTAGE': 'OTHER',\n",
    "    'US___STATE_HIGHWAY_PERCENTAGE': 'US',\n",
    "    'HUMAN_FACTOR_DESC': 'HUMAN_FACTOR_DESC',\n",
    "    'IMPAIRMENT_PERCENTAGE': 'IMPAIRMENT_PERCENTAGE',\n",
    "    'INATTENTION_PERCENTAGE': 'INATTENTION_PERCENTAGE',\n",
    "    'KNOWN_HUMAN_FACTOR_PERCENTAGE': 'KNOWN_HUMAN_FACTOR_PERCENTAGE',\n",
    "    'LANE_CHNG_PERCENTAGE': 'LANE_CHNG_PERCENTAGE',\n",
    "    'NO_FAULT_PERCENTAGE': 'NO_FAULT_PERCENTAGE',\n",
    "    'SPEEDING_PERCENTAGE': 'SPEEDING_PERCENTAGE',\n",
    "    'TAILGATING_PERCENTAGE': 'TAILGATING_PERCENTAGE',\n",
    "    'TECH_PARK_PERCENTAGE': 'TECH_PARK_PERCENTAGE',\n",
    "    'TURNING_PERCENTAGE': 'TURNING_PERCENTAGE',\n",
    "    'UNKNOWN_HUMAN_FACTOR_PERCENTAGE': 'UNKNOWN_HUMAN_FACTOR_PERCENTAGE',\n",
    "    'UNSAFE_BACKING_PERCENTAGE': 'UNSAFE_BACKING_PERCENTAGE',\n",
    "    'VIOLATION_PERCENTAGE': 'VIOLATION_PERCENTAGE',\n",
    "    'AGE_BAND': 'AGE_BAND',\n",
    "    'AGE_1_21_PERCENTAGE': 'AGE_1',\n",
    "    'AGE_22_30_PERCENTAGE': 'AGE_12',\n",
    "    'AGE_31_65_PERCENTAGE': 'AGE_12_13',\n",
    "    'AGE_66_and_above_PERCENTAGE': 'AGE_12_13_14',\n",
    "    'AGE_100_and_above_PERCENTAGE': 'AGE_12_13_14_15',\n",
    "    'Unknown_Age_PERCENTAGE': 'Unknown',\n",
    "    'GENDER_DESC': 'GENDER_DESC',\n",
    "    'FEMALE_PERCENTAGE': 'FEMALE_PERCENTAGE',\n",
    "    'MALE_PERCENTAGE': 'MALE_PERCENTAGE',\n",
    "    'UNKNOWN_GENDER_PERCENTAGE': 'UNKNOWN_GENDER_PERCENTAGE',\n",
    "    'INJURY_COUNT_SUM': 'INJURY_COUNT_SUM',\n",
    "    'INJURY_OUTCOME_DESC': 'INJURY_OUTCOME_DESC',\n",
    "    'NO_INJURY_OUTCOME': 'NO',\n",
    "    'YES_INJURY_OUTCOME': 'YES'\n",
    "}\n",
    "\n",
    "# Renaming columns of c3\n",
    "c3.rename(columns=column_mapping, inplace=True)"
   ]
  },
  {
   "cell_type": "code",
   "execution_count": 78,
   "id": "7b2614ef",
   "metadata": {},
   "outputs": [
    {
     "data": {
      "text/plain": [
       "((4058, 94), (4058, 94), (4058, 95))"
      ]
     },
     "execution_count": 78,
     "metadata": {},
     "output_type": "execute_result"
    }
   ],
   "source": [
    "c1.shape, c2.shape, c3.shape"
   ]
  },
  {
   "cell_type": "code",
   "execution_count": 79,
   "id": "937aa142",
   "metadata": {},
   "outputs": [],
   "source": [
    "ww = c2.columns.intersection(c3.columns)"
   ]
  },
  {
   "cell_type": "code",
   "execution_count": 81,
   "id": "c14921bb",
   "metadata": {},
   "outputs": [
    {
     "data": {
      "text/plain": [
       "94"
      ]
     },
     "execution_count": 81,
     "metadata": {},
     "output_type": "execute_result"
    }
   ],
   "source": [
    "len(ww)"
   ]
  },
  {
   "cell_type": "code",
   "execution_count": 82,
   "id": "9c0a746d",
   "metadata": {},
   "outputs": [
    {
     "data": {
      "text/plain": [
       "{'DATE'}"
      ]
     },
     "execution_count": 82,
     "metadata": {},
     "output_type": "execute_result"
    }
   ],
   "source": [
    "wq1 = set(c2.columns)\n",
    "wq2= set(c3.columns)\n",
    "wq2-wq1"
   ]
  },
  {
   "cell_type": "code",
   "execution_count": 83,
   "id": "8d0cc4c5",
   "metadata": {},
   "outputs": [],
   "source": [
    "c3.drop(columns=['DATE'],inplace= True)"
   ]
  },
  {
   "cell_type": "code",
   "execution_count": 84,
   "id": "ec6a487e",
   "metadata": {},
   "outputs": [],
   "source": [
    "c111= c1.columns.intersection(c3.columns)"
   ]
  },
  {
   "cell_type": "code",
   "execution_count": 85,
   "id": "a1077635",
   "metadata": {},
   "outputs": [
    {
     "data": {
      "text/plain": [
       "94"
      ]
     },
     "execution_count": 85,
     "metadata": {},
     "output_type": "execute_result"
    }
   ],
   "source": [
    "len(c111)"
   ]
  },
  {
   "cell_type": "code",
   "execution_count": 335,
   "id": "be73dab9",
   "metadata": {},
   "outputs": [],
   "source": [
    "c1['YEAR_CAT'] =1\n",
    "c2['YEAR_CAT'] = 2\n",
    "c3['YEAR_CAT'] = 3"
   ]
  },
  {
   "cell_type": "code",
   "execution_count": 336,
   "id": "f6f4b97a",
   "metadata": {},
   "outputs": [],
   "source": [
    "colo = pd.concat([c1,c2,c3],axis=0)"
   ]
  },
  {
   "cell_type": "code",
   "execution_count": 337,
   "id": "6425f252",
   "metadata": {},
   "outputs": [
    {
     "data": {
      "text/plain": [
       "((55878, 81), (10122, 46), (12174, 95))"
      ]
     },
     "execution_count": 337,
     "metadata": {},
     "output_type": "execute_result"
    }
   ],
   "source": [
    "texas.shape , okla.shape, colo.shape"
   ]
  },
  {
   "cell_type": "code",
   "execution_count": 338,
   "id": "3be752d9",
   "metadata": {},
   "outputs": [
    {
     "data": {
      "text/plain": [
       "Index(['GISJOIN', 'STATEFP', 'Shape_Area', 'ALCOHOL', 'DRUG', 'ALCOHOL__DRUG',\n",
       "       'NO_INTOXICATION', 'MEDICINAL', 'MARIJUANA', 'UNK', 'White', 'Hispanic',\n",
       "       'Black', 'Asian', 'Other', 'American_Native', 'NO_Damage', 'YES_Damage',\n",
       "       'NO_Intersection', 'YES_Intersection', 'BLOWING_SAND_SNOW', 'CLEAR',\n",
       "       'CLOUDY', 'FOG', 'RAIN', 'SEVERE_CROSSWINDS', 'SLEET_HAIL',\n",
       "       'SNOW_Weather', 'UNK_Weather', 'DAYLIGHT', 'DARK_LIGHTED',\n",
       "       'DARK_NOT_LIGHTED', 'DARK_UNKNOWN_LIGHTING', 'DUSK', 'DAWN',\n",
       "       'UNK_LIGHT', 'OTHER_LIGHT', 'CITY_STREET', 'COUNTY_ROAD',\n",
       "       'FARM_TO_MARKET', 'INTERSTATE', 'OTHER_ROADS', 'TOLL_BRIDGES',\n",
       "       'TOLLWAY', 'US___STATE_HIGHWAY', 'DRY', 'ICE', 'OTHER_SURF',\n",
       "       'SAND_MUD_DIRT', 'SLUSH', 'SNOW_SURF', 'STANDING_WATER', 'UNKNOWN_SURF',\n",
       "       'WET', 'SPEEDING', 'INATTENTION', 'LANE_CHANGE', 'TAILGATING',\n",
       "       'VIOLATION', 'UNSAFE_BACKING', 'IMPAIRMENT', 'TURNING', 'TECH_PARK',\n",
       "       'NO_FAULT', 'KNOWN_HUMAN_FACTOR', 'UNKNOWN_HUMAN_FACTOR',\n",
       "       'SUM_MEDIANWIDTH', 'MEDIAN_MEDIANWIDTH', 'FATAL', 'MIN_INJURY',\n",
       "       'NO_INJURY', 'POSBL_INJURY', 'SSI', 'UNK_SEVERITY', 'NO_INJ', 'YES_INJ',\n",
       "       'INJ_COUNT_SUM', 'POPN', 'YEAR', 'OTHER_WEATHER', 'STATE'],\n",
       "      dtype='object')"
      ]
     },
     "execution_count": 338,
     "metadata": {},
     "output_type": "execute_result"
    }
   ],
   "source": [
    "texas.columns"
   ]
  },
  {
   "cell_type": "code",
   "execution_count": 339,
   "id": "b93b5994",
   "metadata": {
    "scrolled": false
   },
   "outputs": [
    {
     "data": {
      "text/plain": [
       "Index(['GISJOIN', 'STATEFP', 'Shape_Area', 'DAYLIGHT', 'DARK_LIGHTED',\n",
       "       'DARK_NOT_LIGHTED', 'DARK_UNKNOWN_LIGHTING', 'DUSK', 'DAWN',\n",
       "       'UNK_LIGHT', 'OTHER_LIGHT', 'POPN', 'CLEAR', 'CLOUDY', 'FOG', 'RAIN',\n",
       "       'SLEET_HAIL', 'OTHER_WEATHER', 'UNK_Weather', 'SNOW_Weather',\n",
       "       'BLOWING_SAND_SNOW', 'SEVERE_CROSSWINDS', 'INTERSTATE',\n",
       "       'US___STATE_HIGHWAY', 'FARM_TO_MARKET', 'COUNTY_ROAD', 'CITY_STREET',\n",
       "       'TOLLWAY', 'OTHER_ROADS', 'TOLL_BRIDGES', 'ALCOHOL', 'DRUG',\n",
       "       'ALCOHOL__DRUG', 'NO_INTOXICATION', 'MEDICINAL', 'MARIJUANA',\n",
       "       'NO_INATTENTION', 'YES_INATTENTION', 'NO_SPD', 'YES_SPD', 'NO_INJ',\n",
       "       'YES_INJ', 'INJ_COUNT_SUM', 'YEAR', 'STATE', 'YEAR_CAT'],\n",
       "      dtype='object')"
      ]
     },
     "execution_count": 339,
     "metadata": {},
     "output_type": "execute_result"
    }
   ],
   "source": [
    "okla.columns"
   ]
  },
  {
   "cell_type": "code",
   "execution_count": 362,
   "id": "0f7c2118",
   "metadata": {},
   "outputs": [],
   "source": [
    "texas['OTHER_WEATHER'] = 0"
   ]
  },
  {
   "cell_type": "code",
   "execution_count": 363,
   "id": "e656c478",
   "metadata": {},
   "outputs": [],
   "source": [
    "texas['STATE'] = 'Texas'"
   ]
  },
  {
   "cell_type": "code",
   "execution_count": null,
   "id": "cc801427",
   "metadata": {},
   "outputs": [],
   "source": []
  },
  {
   "cell_type": "code",
   "execution_count": 364,
   "id": "a3dddb3f",
   "metadata": {},
   "outputs": [],
   "source": [
    "okla.rename(columns={'YES_INATTENTION':'INATTENTION','YES_SPD':'SPEEDING'},inplace= True)"
   ]
  },
  {
   "cell_type": "code",
   "execution_count": 365,
   "id": "fecac118",
   "metadata": {},
   "outputs": [],
   "source": [
    "col= ['GISJOIN', 'STATEFP', 'Shape_Area', 'DAYLIGHT', 'DARK_LIGHTED',\n",
    "       'DARK_NOT_LIGHTED', 'DARK_UNKNOWN_LIGHTING', 'DUSK', 'DAWN',\n",
    "       'UNK_LIGHT', 'OTHER_LIGHT', 'POPN', 'CLEAR', 'CLOUDY', 'FOG', 'RAIN',\n",
    "       'SLEET_HAIL', 'OTHER_WEATHER', 'UNK_Weather', 'SNOW_Weather',\n",
    "       'BLOWING_SAND_SNOW', 'SEVERE_CROSSWINDS', 'INTERSTATE',\n",
    "       'US___STATE_HIGHWAY', 'FARM_TO_MARKET', 'COUNTY_ROAD', 'CITY_STREET',\n",
    "       'TOLLWAY', 'OTHER_ROADS', 'TOLL_BRIDGES', 'ALCOHOL', 'DRUG',\n",
    "       'ALCOHOL__DRUG', 'NO_INTOXICATION', 'MEDICINAL','MARIJUANA',\n",
    "     'INATTENTION','SPEEDING','NO_INJ',\n",
    "       'YES_INJ', 'INJ_COUNT_SUM', 'YEAR', 'STATE','YEAR_CAT']"
   ]
  },
  {
   "cell_type": "code",
   "execution_count": 366,
   "id": "6a6194fe",
   "metadata": {},
   "outputs": [],
   "source": [
    "ok = okla[col]"
   ]
  },
  {
   "cell_type": "code",
   "execution_count": 367,
   "id": "c808b5bb",
   "metadata": {},
   "outputs": [
    {
     "data": {
      "text/plain": [
       "array(['Oklahoma', '0'], dtype=object)"
      ]
     },
     "execution_count": 367,
     "metadata": {},
     "output_type": "execute_result"
    }
   ],
   "source": [
    "ok['STATE'].unique()"
   ]
  },
  {
   "cell_type": "code",
   "execution_count": 368,
   "id": "e887b6d9",
   "metadata": {},
   "outputs": [],
   "source": [
    "tx = texas[col]"
   ]
  },
  {
   "cell_type": "code",
   "execution_count": 347,
   "id": "d0fa0b2c",
   "metadata": {},
   "outputs": [
    {
     "data": {
      "text/plain": [
       "((10122, 43), (55878, 43))"
      ]
     },
     "execution_count": 347,
     "metadata": {},
     "output_type": "execute_result"
    }
   ],
   "source": [
    "ok.shape, tx.shape"
   ]
  },
  {
   "cell_type": "code",
   "execution_count": 348,
   "id": "bf4ef233",
   "metadata": {},
   "outputs": [
    {
     "data": {
      "text/plain": [
       "0"
      ]
     },
     "execution_count": 348,
     "metadata": {},
     "output_type": "execute_result"
    }
   ],
   "source": [
    "ok.isna().sum().sum()"
   ]
  },
  {
   "cell_type": "code",
   "execution_count": 349,
   "id": "ea3e5a47",
   "metadata": {},
   "outputs": [
    {
     "data": {
      "text/plain": [
       "0"
      ]
     },
     "execution_count": 349,
     "metadata": {},
     "output_type": "execute_result"
    }
   ],
   "source": [
    "tx.isna().sum().sum()"
   ]
  },
  {
   "cell_type": "code",
   "execution_count": 369,
   "id": "8e9bcc17",
   "metadata": {},
   "outputs": [],
   "source": [
    "to = pd.concat([tx,ok],axis=0)"
   ]
  },
  {
   "cell_type": "code",
   "execution_count": 370,
   "id": "b98c9753",
   "metadata": {},
   "outputs": [
    {
     "data": {
      "text/plain": [
       "Index(['GISJOIN', 'STATEFP', 'Shape_Area', 'DAYLIGHT', 'DARK_LIGHTED',\n",
       "       'DARK_NOT_LIGHTED', 'DARK_UNKNOWN_LIGHTING', 'DUSK', 'DAWN',\n",
       "       'UNK_LIGHT', 'OTHER_LIGHT', 'POPN', 'CLEAR', 'CLOUDY', 'FOG', 'RAIN',\n",
       "       'SLEET_HAIL', 'OTHER_WEATHER', 'UNK_Weather', 'SNOW_Weather',\n",
       "       'BLOWING_SAND_SNOW', 'SEVERE_CROSSWINDS', 'INTERSTATE',\n",
       "       'US___STATE_HIGHWAY', 'FARM_TO_MARKET', 'COUNTY_ROAD', 'CITY_STREET',\n",
       "       'TOLLWAY', 'OTHER_ROADS', 'TOLL_BRIDGES', 'ALCOHOL', 'DRUG',\n",
       "       'ALCOHOL__DRUG', 'NO_INTOXICATION', 'MEDICINAL', 'MARIJUANA',\n",
       "       'INATTENTION', 'SPEEDING', 'NO_INJ', 'YES_INJ', 'INJ_COUNT_SUM', 'YEAR',\n",
       "       'STATE', 'YEAR_CAT'],\n",
       "      dtype='object')"
      ]
     },
     "execution_count": 370,
     "metadata": {},
     "output_type": "execute_result"
    }
   ],
   "source": [
    "to.columns"
   ]
  },
  {
   "cell_type": "code",
   "execution_count": 308,
   "id": "9bfa1911",
   "metadata": {},
   "outputs": [
    {
     "data": {
      "text/plain": [
       "array(['Texas', 'Oklahoma', '0'], dtype=object)"
      ]
     },
     "execution_count": 308,
     "metadata": {},
     "output_type": "execute_result"
    }
   ],
   "source": [
    "to['STATE'].unique()"
   ]
  },
  {
   "cell_type": "code",
   "execution_count": 150,
   "id": "9abf383b",
   "metadata": {},
   "outputs": [
    {
     "data": {
      "text/plain": [
       "array([ 38,  41,  21,   9,   2,  13,   1,  40,   5,  27,  10,  14, 151,\n",
       "        60,  15,  57, 209,  17, 115,  11, 336,   7, 156,  39,  36,  18,\n",
       "        37,  30,  22,   0,  23,  12,  16,   4, 136,   6, 163,  24,   8,\n",
       "         3,  48, 122, 114,  32, 159,  69,  35,  31,  20,  19,  33,  25,\n",
       "        42, 116, 255, 190, 220, 188, 247,  71,  47,  43,  68,  34,  29,\n",
       "        64,  51,  45, 138,  52,  28,  26, 186, 155,  70,  62, 544, 173,\n",
       "        65,  77,  92,  53,  80,  81,  54,  82,  58, 106, 108,  55, 162,\n",
       "        76, 179,  89, 201,  56,  50,  63, 101, 103,  49, 129,  85,  73,\n",
       "        97,  91,  74, 105, 185, 133, 172, 125, 180,  78,  61,  67, 120,\n",
       "        44,  66, 245, 144, 124, 135, 154,  98,  72,  46,  93, 111, 175,\n",
       "        88,  59, 146, 224, 369, 204,  75,  94, 326, 102,  87, 104, 160,\n",
       "        83, 343, 885, 165, 132, 287,  84,  90, 219, 261, 128, 174, 169,\n",
       "       107,  95,  86, 131, 171, 141, 143,  79,  99, 113,  96, 193, 291,\n",
       "       130, 139, 183, 161, 148, 153, 234], dtype=int64)"
      ]
     },
     "execution_count": 150,
     "metadata": {},
     "output_type": "execute_result"
    }
   ],
   "source": [
    "colo['INJURY_COUNT_SUM'].unique()"
   ]
  },
  {
   "cell_type": "code",
   "execution_count": 371,
   "id": "3fe67872",
   "metadata": {},
   "outputs": [],
   "source": [
    "colo = pd.concat([c1,c2,c3],axis=0)"
   ]
  },
  {
   "cell_type": "code",
   "execution_count": 372,
   "id": "fe190ba8",
   "metadata": {},
   "outputs": [],
   "source": [
    "colo.columns = colo.columns.str.replace('_PERCENTAGE', '')"
   ]
  },
  {
   "cell_type": "code",
   "execution_count": 373,
   "id": "5888ade3",
   "metadata": {},
   "outputs": [],
   "source": [
    "colo.columns = colo.columns.str.replace('_COUNT', '')"
   ]
  },
  {
   "cell_type": "code",
   "execution_count": 374,
   "id": "05d155e8",
   "metadata": {
    "scrolled": true
   },
   "outputs": [
    {
     "data": {
      "text/plain": [
       "Index(['GISJOIN', 'STATEFP', 'COUNTYFP', 'Shape_Area', 'POPULATION', 'BUFFER',\n",
       "       'ROAD_CLASS', 'INTERSECTION', 'CONTOUR', 'SURFACE', 'LIGHTING',\n",
       "       'WEATHER', 'HUMAN_FACTOR', 'INTOXICATION', 'AGE', 'GENDER',\n",
       "       'COUNTY_FIPS', 'COUNTY', 'LATITUDE', 'LONGITUDE', 'YEAR', 'INJURY',\n",
       "       'INJURY_OUTCOME', 'Crash_ID', 'BUFF_DIST', 'ORIG_FID', 'Shape_Length_1',\n",
       "       'Shape_Area_1', 'WEATHER_DESC', 'BLOWING', 'CLEAR', 'CLOUDY', 'FOG',\n",
       "       'OTHER_WEATHER', 'RAIN', 'SEVERE', 'SLEET_HAIL', 'SNOW_WEATHER',\n",
       "       'LIGHTING_DESC', 'DARK_LIGHTED', 'DARK_NOT', 'DAWN', 'DAYLIGHT', 'DUSK',\n",
       "       'UNKNOWN_LIGHT', 'DARK_UNKNOWN', 'OTHER_LIGHT', 'SURFACE_DESC', 'DIRT',\n",
       "       'DRY', 'ICE', 'SLUSH', 'SNOW_SURF', 'UNKNOWN_SURF', 'WET',\n",
       "       'STANDING_WATER', 'OTHER_SURF', 'INTERSECTION_DESC', 'NO_INTERSECTION',\n",
       "       'YES_INTERSECTION', 'ROAD_CLASS_DESC', 'CITY', 'COUNTY_1', 'INTERSTATE',\n",
       "       'OTHER', 'US', 'HUMAN_FACTOR_DESC', 'IMPAIRMENT', 'INATTENTION',\n",
       "       'KNOWN_HUMAN_FACTOR', 'LANE_CHNG', 'NO_FAULT', 'SPEEDING', 'TAILGATING',\n",
       "       'TECH_PARK', 'TURNING', 'UNKNOWN_HUMAN_FACTOR', 'UNSAFE_BACKING',\n",
       "       'VIOLATION', 'AGE_BAND', 'AGE_1', 'AGE_12', 'AGE_12_13', 'AGE_12_13_14',\n",
       "       'AGE_12_13_14_15', 'Unknown', 'GENDER_DESC', 'FEMALE', 'MALE',\n",
       "       'UNKNOWN_GENDER', 'INJURY_SUM', 'INJURY_OUTCOME_DESC', 'NO', 'YES',\n",
       "       'YEAR_CAT'],\n",
       "      dtype='object')"
      ]
     },
     "execution_count": 374,
     "metadata": {},
     "output_type": "execute_result"
    }
   ],
   "source": [
    "colo.columns"
   ]
  },
  {
   "cell_type": "code",
   "execution_count": 375,
   "id": "be80c27a",
   "metadata": {},
   "outputs": [],
   "source": [
    "colo['INTOXICATION'] = np.where(colo['INTOXICATION']==0,4,colo['INTOXICATION'])"
   ]
  },
  {
   "cell_type": "code",
   "execution_count": 376,
   "id": "6f400128",
   "metadata": {},
   "outputs": [],
   "source": [
    "intoxication_mapping = {\n",
    "    1: 'ALCOHOL',\n",
    "    2: 'DRUG',\n",
    "    3: 'ALCOHOL, DRUG',\n",
    "    4: 'NO INTOXICATION',\n",
    "    5: 'MEDICINAL',\n",
    "    6: 'MARIJUANA'\n",
    "}\n",
    "\n",
    "\n",
    "def process_intoxication_data(df, mapping):\n",
    "    # Map the intoxication codes to descriptive names\n",
    "    df['INTOXICATION_DESC'] = df['INTOXICATION'].map(mapping).astype(str)\n",
    "    \n",
    "    # Group by COUNTY and INTOXICATION_DESC, then count occurrences\n",
    "    grouped = df.groupby(['GISJOIN', 'INTOXICATION_DESC']).size().unstack(fill_value=0)\n",
    "    \n",
    "    # Calculate total counts by county to normalize the data\n",
    "    total_counts_by_county = grouped.sum(axis=1)\n",
    "    \n",
    "    # Calculate percentages\n",
    "    intoxication_percentages_df = (grouped.div(total_counts_by_county, axis=0) * 100).fillna(0)\n",
    "    intoxication_percentages_df = intoxication_percentages_df.reset_index()\n",
    "    \n",
    "    return intoxication_percentages_df\n",
    "\n",
    "# Process each year's data\n",
    "intoxication_df = process_intoxication_data(colo ,intoxication_mapping)\n",
    "\n",
    "\n"
   ]
  },
  {
   "cell_type": "code",
   "execution_count": 377,
   "id": "d6373b46",
   "metadata": {},
   "outputs": [],
   "source": [
    "colo = pd.merge(colo,intoxication_df,on=['GISJOIN'],how='left')"
   ]
  },
  {
   "cell_type": "code",
   "execution_count": null,
   "id": "32a77d8b",
   "metadata": {},
   "outputs": [],
   "source": []
  },
  {
   "cell_type": "code",
   "execution_count": 378,
   "id": "ad775871",
   "metadata": {},
   "outputs": [
    {
     "data": {
      "text/plain": [
       "Index(['GISJOIN', 'STATEFP', 'COUNTYFP', 'Shape_Area', 'POPULATION', 'BUFFER',\n",
       "       'ROAD_CLASS', 'INTERSECTION', 'CONTOUR', 'SURFACE',\n",
       "       ...\n",
       "       'NO', 'YES', 'YEAR_CAT', 'INTOXICATION_DESC', 'ALCOHOL',\n",
       "       'ALCOHOL, DRUG', 'DRUG', 'MARIJUANA', 'MEDICINAL', 'NO INTOXICATION'],\n",
       "      dtype='object', length=102)"
      ]
     },
     "execution_count": 378,
     "metadata": {},
     "output_type": "execute_result"
    }
   ],
   "source": [
    "colo.columns"
   ]
  },
  {
   "cell_type": "code",
   "execution_count": 379,
   "id": "0a30ea78",
   "metadata": {},
   "outputs": [],
   "source": [
    "colo.rename(columns={'INJURY_SUM':'INJURY_COUNT_SUM'},inplace= True)"
   ]
  },
  {
   "cell_type": "code",
   "execution_count": 380,
   "id": "2e06388a",
   "metadata": {},
   "outputs": [],
   "source": [
    "colo['UNK_Weather'] = 0"
   ]
  },
  {
   "cell_type": "code",
   "execution_count": 381,
   "id": "669f30a2",
   "metadata": {},
   "outputs": [],
   "source": [
    "colo.rename(columns={'DARK_NOT':'DARK_NOT_LIGHTED','DARK_UNKNOWN':'DARK_UNKNOWN_LIGHTING',\n",
    "                    'UNKNOWN_LIGHT':'UNK_LIGHT','SEVERE':'SEVERE_CROSSWINDS','BLOWING':'BLOWING_SAND_SNOW','SNOW_WEATHER':'SNOW_Weather',\n",
    "                     'Y_1':'COUNTY_ROAD','CITY':'CITY_STREET'\n",
    "                    },inplace= True)"
   ]
  },
  {
   "cell_type": "code",
   "execution_count": 382,
   "id": "f20ac5b9",
   "metadata": {},
   "outputs": [],
   "source": [
    "colo.rename(columns={'OTHER':'OTHER_ROADS'},inplace= True)"
   ]
  },
  {
   "cell_type": "code",
   "execution_count": 383,
   "id": "e04727b7",
   "metadata": {},
   "outputs": [],
   "source": [
    "colo.rename(columns={'US':'US___STATE_HIGHWAY'},inplace= True)"
   ]
  },
  {
   "cell_type": "code",
   "execution_count": 384,
   "id": "b325d595",
   "metadata": {},
   "outputs": [],
   "source": [
    "colo['FARM_TO_MARKET'] = 0\n",
    "colo['TOLL_BRIDGES'] = 0\n",
    "colo['TOLLWAY'] = 0"
   ]
  },
  {
   "cell_type": "code",
   "execution_count": 385,
   "id": "c8853814",
   "metadata": {},
   "outputs": [
    {
     "data": {
      "text/plain": [
       "Index(['GISJOIN', 'STATEFP', 'COUNTYFP', 'Shape_Area', 'POPULATION', 'BUFFER',\n",
       "       'ROAD_CLASS', 'INTERSECTION', 'CONTOUR', 'SURFACE',\n",
       "       ...\n",
       "       'ALCOHOL', 'ALCOHOL, DRUG', 'DRUG', 'MARIJUANA', 'MEDICINAL',\n",
       "       'NO INTOXICATION', 'UNK_Weather', 'FARM_TO_MARKET', 'TOLL_BRIDGES',\n",
       "       'TOLLWAY'],\n",
       "      dtype='object', length=106)"
      ]
     },
     "execution_count": 385,
     "metadata": {},
     "output_type": "execute_result"
    }
   ],
   "source": [
    "colo.columns"
   ]
  },
  {
   "cell_type": "code",
   "execution_count": 386,
   "id": "bebd1a52",
   "metadata": {},
   "outputs": [],
   "source": [
    "colo.rename(columns={'NO':'NO_INJ','YES':'YES_INJ'},inplace= True)"
   ]
  },
  {
   "cell_type": "code",
   "execution_count": 387,
   "id": "c276df5e",
   "metadata": {},
   "outputs": [],
   "source": [
    "colo['STATE'] = 'Colorado'"
   ]
  },
  {
   "cell_type": "code",
   "execution_count": 388,
   "id": "89101997",
   "metadata": {},
   "outputs": [
    {
     "name": "stdout",
     "output_type": "stream",
     "text": [
      "GISJOIN\n",
      "STATEFP\n",
      "COUNTYFP\n",
      "Shape_Area\n",
      "POPULATION\n",
      "BUFFER\n",
      "ROAD_CLASS\n",
      "INTERSECTION\n",
      "CONTOUR\n",
      "SURFACE\n",
      "LIGHTING\n",
      "WEATHER\n",
      "HUMAN_FACTOR\n",
      "INTOXICATION\n",
      "AGE\n",
      "GENDER\n",
      "COUNTY_FIPS\n",
      "COUNTY\n",
      "LATITUDE\n",
      "LONGITUDE\n",
      "YEAR\n",
      "INJURY\n",
      "INJURY_OUTCOME\n",
      "Crash_ID\n",
      "BUFF_DIST\n",
      "ORIG_FID\n",
      "Shape_Length_1\n",
      "Shape_Area_1\n",
      "WEATHER_DESC\n",
      "BLOWING_SAND_SNOW\n",
      "CLEAR\n",
      "CLOUDY\n",
      "FOG\n",
      "OTHER_WEATHER\n",
      "RAIN\n",
      "SEVERE_CROSSWINDS\n",
      "SLEET_HAIL\n",
      "SNOW_Weather\n",
      "LIGHTING_DESC\n",
      "DARK_LIGHTED\n",
      "DARK_NOT_LIGHTED\n",
      "DAWN\n",
      "DAYLIGHT\n",
      "DUSK\n",
      "UNK_LIGHT\n",
      "DARK_UNKNOWN_LIGHTING\n",
      "OTHER_LIGHT\n",
      "SURFACE_DESC\n",
      "DIRT\n",
      "DRY\n",
      "ICE\n",
      "SLUSH\n",
      "SNOW_SURF\n",
      "UNKNOWN_SURF\n",
      "WET\n",
      "STANDING_WATER\n",
      "OTHER_SURF\n",
      "INTERSECTION_DESC\n",
      "NO_INTERSECTION\n",
      "YES_INTERSECTION\n",
      "ROAD_CLASS_DESC\n",
      "CITY_STREET\n",
      "COUNTY_1\n",
      "INTERSTATE\n",
      "OTHER_ROADS\n",
      "US___STATE_HIGHWAY\n",
      "HUMAN_FACTOR_DESC\n",
      "IMPAIRMENT\n",
      "INATTENTION\n",
      "KNOWN_HUMAN_FACTOR\n",
      "LANE_CHNG\n",
      "NO_FAULT\n",
      "SPEEDING\n",
      "TAILGATING\n",
      "TECH_PARK\n",
      "TURNING\n",
      "UNKNOWN_HUMAN_FACTOR\n",
      "UNSAFE_BACKING\n",
      "VIOLATION\n",
      "AGE_BAND\n",
      "AGE_1\n",
      "AGE_12\n",
      "AGE_12_13\n",
      "AGE_12_13_14\n",
      "AGE_12_13_14_15\n",
      "Unknown\n",
      "GENDER_DESC\n",
      "FEMALE\n",
      "MALE\n",
      "UNKNOWN_GENDER\n",
      "INJURY_COUNT_SUM\n",
      "INJURY_OUTCOME_DESC\n",
      "NO_INJ\n",
      "YES_INJ\n",
      "YEAR_CAT\n",
      "INTOXICATION_DESC\n",
      "ALCOHOL\n",
      "ALCOHOL, DRUG\n",
      "DRUG\n",
      "MARIJUANA\n",
      "MEDICINAL\n",
      "NO INTOXICATION\n",
      "UNK_Weather\n",
      "FARM_TO_MARKET\n",
      "TOLL_BRIDGES\n",
      "TOLLWAY\n",
      "STATE\n"
     ]
    }
   ],
   "source": [
    "for i in colo.columns:\n",
    "    print(i)"
   ]
  },
  {
   "cell_type": "code",
   "execution_count": 389,
   "id": "522c4848",
   "metadata": {},
   "outputs": [],
   "source": [
    "colo.rename(columns={'ALCOHOL, DRUG':'ALCOHOL__DRUG'},inplace= True)"
   ]
  },
  {
   "cell_type": "code",
   "execution_count": 390,
   "id": "8b158332",
   "metadata": {},
   "outputs": [],
   "source": [
    "colo.rename(columns={'COUNTY_1':'COUNTY_ROAD'},inplace= True)"
   ]
  },
  {
   "cell_type": "code",
   "execution_count": 391,
   "id": "58c6a23c",
   "metadata": {},
   "outputs": [],
   "source": [
    "colo.rename(columns={'NO INTOXICATION':'NO_INTOXICATION'},inplace= True)"
   ]
  },
  {
   "cell_type": "code",
   "execution_count": 392,
   "id": "a5eef350",
   "metadata": {},
   "outputs": [],
   "source": [
    "colo.rename(columns={'POPULATION':'POPN'},inplace= True)"
   ]
  },
  {
   "cell_type": "code",
   "execution_count": 393,
   "id": "3650553d",
   "metadata": {},
   "outputs": [],
   "source": [
    "colo.rename(columns={'INJURY_COUNT_SUM':'INJ_COUNT_SUM'},inplace= True)"
   ]
  },
  {
   "cell_type": "code",
   "execution_count": 395,
   "id": "87201d7f",
   "metadata": {},
   "outputs": [
    {
     "data": {
      "text/plain": [
       "Index(['GISJOIN', 'STATEFP', 'Shape_Area', 'DAYLIGHT', 'DARK_LIGHTED',\n",
       "       'DARK_NOT_LIGHTED', 'DARK_UNKNOWN_LIGHTING', 'DUSK', 'DAWN',\n",
       "       'UNK_LIGHT', 'OTHER_LIGHT', 'POPN', 'CLEAR', 'CLOUDY', 'FOG', 'RAIN',\n",
       "       'SLEET_HAIL', 'OTHER_WEATHER', 'UNK_Weather', 'SNOW_Weather',\n",
       "       'BLOWING_SAND_SNOW', 'SEVERE_CROSSWINDS', 'INTERSTATE',\n",
       "       'US___STATE_HIGHWAY', 'FARM_TO_MARKET', 'COUNTY_ROAD', 'CITY_STREET',\n",
       "       'TOLLWAY', 'OTHER_ROADS', 'TOLL_BRIDGES', 'ALCOHOL', 'DRUG',\n",
       "       'ALCOHOL__DRUG', 'NO_INTOXICATION', 'MEDICINAL', 'MARIJUANA',\n",
       "       'INATTENTION', 'SPEEDING', 'NO_INJ', 'YES_INJ', 'INJ_COUNT_SUM', 'YEAR',\n",
       "       'STATE', 'YEAR_CAT'],\n",
       "      dtype='object')"
      ]
     },
     "execution_count": 395,
     "metadata": {},
     "output_type": "execute_result"
    }
   ],
   "source": [
    "to.columns"
   ]
  },
  {
   "cell_type": "code",
   "execution_count": 405,
   "id": "25b904ed",
   "metadata": {},
   "outputs": [],
   "source": [
    "cols = ['GISJOIN', 'STATEFP', 'Shape_Area', 'DAYLIGHT', 'DARK_LIGHTED',\n",
    "       'DARK_NOT_LIGHTED', 'DARK_UNKNOWN_LIGHTING', 'DUSK', 'DAWN',\n",
    "       'UNK_LIGHT', 'OTHER_LIGHT', 'POPN', 'CLEAR', 'CLOUDY', 'FOG', 'RAIN',\n",
    "       'SLEET_HAIL', 'OTHER_WEATHER', 'UNK_Weather', 'SNOW_Weather',\n",
    "       'BLOWING_SAND_SNOW', 'SEVERE_CROSSWINDS', 'INTERSTATE',\n",
    "       'US___STATE_HIGHWAY', 'FARM_TO_MARKET', 'COUNTY_ROAD', 'CITY_STREET',\n",
    "       'TOLLWAY', 'OTHER_ROADS', 'TOLL_BRIDGES', 'ALCOHOL', 'DRUG',\n",
    "       'ALCOHOL__DRUG', 'NO_INTOXICATION', 'MEDICINAL', 'MARIJUANA',\n",
    "       'INATTENTION', 'SPEEDING', 'NO_INJ', 'YES_INJ', 'INJ_COUNT_SUM', 'YEAR',\n",
    "       'STATE','YEAR_CAT']"
   ]
  },
  {
   "cell_type": "code",
   "execution_count": 406,
   "id": "aad230dd",
   "metadata": {},
   "outputs": [],
   "source": [
    "color = colo[cols]"
   ]
  },
  {
   "cell_type": "code",
   "execution_count": 407,
   "id": "a7c754ea",
   "metadata": {},
   "outputs": [],
   "source": [
    "txok = to[cols]"
   ]
  },
  {
   "cell_type": "code",
   "execution_count": 408,
   "id": "9fc12ed4",
   "metadata": {},
   "outputs": [
    {
     "data": {
      "text/plain": [
       "0"
      ]
     },
     "execution_count": 408,
     "metadata": {},
     "output_type": "execute_result"
    }
   ],
   "source": [
    "color.isna().sum().sum()"
   ]
  },
  {
   "cell_type": "code",
   "execution_count": 409,
   "id": "5d2fc322",
   "metadata": {},
   "outputs": [
    {
     "data": {
      "text/plain": [
       "0"
      ]
     },
     "execution_count": 409,
     "metadata": {},
     "output_type": "execute_result"
    }
   ],
   "source": [
    "txok.isna().sum().sum()"
   ]
  },
  {
   "cell_type": "code",
   "execution_count": 445,
   "id": "4cce2ad2",
   "metadata": {},
   "outputs": [],
   "source": [
    "tco = pd.concat([txok,color],axis=0)"
   ]
  },
  {
   "cell_type": "code",
   "execution_count": 446,
   "id": "133380d6",
   "metadata": {},
   "outputs": [
    {
     "data": {
      "text/plain": [
       "array(['Texas', 'Oklahoma', '0', 'Colorado'], dtype=object)"
      ]
     },
     "execution_count": 446,
     "metadata": {},
     "output_type": "execute_result"
    }
   ],
   "source": [
    "tco['STATE'].unique()"
   ]
  },
  {
   "cell_type": "code",
   "execution_count": 447,
   "id": "49ade554",
   "metadata": {},
   "outputs": [],
   "source": [
    "tco['STATE_CAT'] = np.where(tco['STATE'] == 'Texas', 1,\n",
    "                            np.where(tco['STATE'].isin(['Oklahoma', '0']), 2,\n",
    "                                     np.where(tco['STATE'] == 'Colorado', 3, 0)))"
   ]
  },
  {
   "cell_type": "code",
   "execution_count": 448,
   "id": "f5389a45",
   "metadata": {},
   "outputs": [
    {
     "data": {
      "text/plain": [
       "array([1, 2, 3])"
      ]
     },
     "execution_count": 448,
     "metadata": {},
     "output_type": "execute_result"
    }
   ],
   "source": [
    "tco['STATE_CAT'].unique()"
   ]
  },
  {
   "cell_type": "code",
   "execution_count": 449,
   "id": "c73ff7a5",
   "metadata": {},
   "outputs": [
    {
     "data": {
      "text/plain": [
       "array([2019,    0, 2020, 2021], dtype=int64)"
      ]
     },
     "execution_count": 449,
     "metadata": {},
     "output_type": "execute_result"
    }
   ],
   "source": [
    "tco['YEAR'].unique()"
   ]
  },
  {
   "cell_type": "code",
   "execution_count": 450,
   "id": "aa7d2b04",
   "metadata": {},
   "outputs": [
    {
     "data": {
      "text/plain": [
       "array([1, 2, 3], dtype=int64)"
      ]
     },
     "execution_count": 450,
     "metadata": {},
     "output_type": "execute_result"
    }
   ],
   "source": [
    "tco['YEAR_CAT'].unique()"
   ]
  },
  {
   "cell_type": "code",
   "execution_count": 451,
   "id": "b0859164",
   "metadata": {},
   "outputs": [
    {
     "data": {
      "text/plain": [
       "array([1, 2, 3])"
      ]
     },
     "execution_count": 451,
     "metadata": {},
     "output_type": "execute_result"
    }
   ],
   "source": [
    "tco['STATE_CAT'].unique()"
   ]
  },
  {
   "cell_type": "code",
   "execution_count": 452,
   "id": "607dbb56",
   "metadata": {},
   "outputs": [],
   "source": [
    "state_dummies = pd.get_dummies(tco['STATE_CAT'], prefix='STATE')\n",
    "\n",
    "# Concatenate the original tco DataFrame with the state_dummies DataFrame\n",
    "tco = pd.concat([tco, state_dummies], axis=1)"
   ]
  },
  {
   "cell_type": "code",
   "execution_count": 453,
   "id": "10663fad",
   "metadata": {},
   "outputs": [],
   "source": [
    "year_dummies = pd.get_dummies(tco['YEAR_CAT'], prefix='YEAR')\n",
    "\n",
    "# Concatenate the original tco DataFrame with the state_dummies DataFrame\n",
    "tco = pd.concat([tco, year_dummies], axis=1)"
   ]
  },
  {
   "cell_type": "code",
   "execution_count": 454,
   "id": "c894cb72",
   "metadata": {},
   "outputs": [
    {
     "data": {
      "text/plain": [
       "Index(['GISJOIN', 'STATEFP', 'Shape_Area', 'DAYLIGHT', 'DARK_LIGHTED',\n",
       "       'DARK_NOT_LIGHTED', 'DARK_UNKNOWN_LIGHTING', 'DUSK', 'DAWN',\n",
       "       'UNK_LIGHT', 'OTHER_LIGHT', 'POPN', 'CLEAR', 'CLOUDY', 'FOG', 'RAIN',\n",
       "       'SLEET_HAIL', 'OTHER_WEATHER', 'UNK_Weather', 'SNOW_Weather',\n",
       "       'BLOWING_SAND_SNOW', 'SEVERE_CROSSWINDS', 'INTERSTATE',\n",
       "       'US___STATE_HIGHWAY', 'FARM_TO_MARKET', 'COUNTY_ROAD', 'CITY_STREET',\n",
       "       'TOLLWAY', 'OTHER_ROADS', 'TOLL_BRIDGES', 'ALCOHOL', 'DRUG',\n",
       "       'ALCOHOL__DRUG', 'NO_INTOXICATION', 'MEDICINAL', 'MARIJUANA',\n",
       "       'INATTENTION', 'SPEEDING', 'NO_INJ', 'YES_INJ', 'INJ_COUNT_SUM', 'YEAR',\n",
       "       'STATE', 'YEAR_CAT', 'STATE_CAT', 'STATE_1', 'STATE_2', 'STATE_3',\n",
       "       'YEAR_1', 'YEAR_2', 'YEAR_3'],\n",
       "      dtype='object')"
      ]
     },
     "execution_count": 454,
     "metadata": {},
     "output_type": "execute_result"
    }
   ],
   "source": [
    "tco.columns"
   ]
  },
  {
   "cell_type": "code",
   "execution_count": 459,
   "id": "387ea7b1",
   "metadata": {},
   "outputs": [
    {
     "data": {
      "text/plain": [
       "0"
      ]
     },
     "execution_count": 459,
     "metadata": {},
     "output_type": "execute_result"
    }
   ],
   "source": [
    "tco['POPN'].isna().sum()"
   ]
  },
  {
   "cell_type": "code",
   "execution_count": 460,
   "id": "36c1efc6",
   "metadata": {},
   "outputs": [],
   "source": [
    "tco['INJURY_RATE'] = (tco['INJ_COUNT_SUM']/tco['POPN'])*100000"
   ]
  },
  {
   "cell_type": "code",
   "execution_count": 469,
   "id": "bbcaf083",
   "metadata": {},
   "outputs": [],
   "source": [
    "tco['INJURY_RATE'] = tco['INJURY_RATE'].fillna(0)\n"
   ]
  },
  {
   "cell_type": "code",
   "execution_count": 465,
   "id": "c3da692b",
   "metadata": {},
   "outputs": [
    {
     "data": {
      "text/plain": [
       "dtype('int64')"
      ]
     },
     "execution_count": 465,
     "metadata": {},
     "output_type": "execute_result"
    }
   ],
   "source": [
    "tco['POPN'].dtype"
   ]
  },
  {
   "cell_type": "code",
   "execution_count": 471,
   "id": "ffb1f511",
   "metadata": {},
   "outputs": [],
   "source": [
    "tco.to_csv('tco_gb.csv',index= False)"
   ]
  },
  {
   "cell_type": "code",
   "execution_count": null,
   "id": "b8c2a54e",
   "metadata": {},
   "outputs": [],
   "source": []
  }
 ],
 "metadata": {
  "kernelspec": {
   "display_name": "Python 3 (ipykernel)",
   "language": "python",
   "name": "python3"
  },
  "language_info": {
   "codemirror_mode": {
    "name": "ipython",
    "version": 3
   },
   "file_extension": ".py",
   "mimetype": "text/x-python",
   "name": "python",
   "nbconvert_exporter": "python",
   "pygments_lexer": "ipython3",
   "version": "3.11.4"
  }
 },
 "nbformat": 4,
 "nbformat_minor": 5
}
