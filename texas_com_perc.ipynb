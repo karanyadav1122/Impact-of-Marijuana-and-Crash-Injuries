{
 "cells": [
  {
   "cell_type": "code",
   "execution_count": 1,
   "id": "9e0bd8c3",
   "metadata": {},
   "outputs": [],
   "source": [
    "import numpy as np\n",
    "import pandas as pd"
   ]
  },
  {
   "cell_type": "code",
   "execution_count": 2,
   "id": "319998f2",
   "metadata": {},
   "outputs": [],
   "source": [
    "texas = pd.read_csv('C:/Users/karan/Texas_Crash_buffer.csv')"
   ]
  },
  {
   "cell_type": "code",
   "execution_count": 3,
   "id": "9badc561",
   "metadata": {},
   "outputs": [
    {
     "data": {
      "text/plain": [
       "array([5, 2, 1, 3, 4, 6, 7, 8], dtype=int64)"
      ]
     },
     "execution_count": 3,
     "metadata": {},
     "output_type": "execute_result"
    }
   ],
   "source": [
    "texas['ROAD_CLASS'].unique()"
   ]
  },
  {
   "cell_type": "code",
   "execution_count": 4,
   "id": "ae4575b0",
   "metadata": {},
   "outputs": [
    {
     "data": {
      "text/plain": [
       "array([2019, 2020, 2021], dtype=int64)"
      ]
     },
     "execution_count": 4,
     "metadata": {},
     "output_type": "execute_result"
    }
   ],
   "source": [
    "texas['YEAR'].unique()"
   ]
  },
  {
   "cell_type": "code",
   "execution_count": 5,
   "id": "170c5702",
   "metadata": {},
   "outputs": [],
   "source": [
    "texas_2019 = texas[texas['YEAR']== 2019]\n",
    "texas_2020 = texas[texas['YEAR']==2020]\n",
    "texas_2021 = texas[texas['YEAR']==2021]"
   ]
  },
  {
   "cell_type": "code",
   "execution_count": 6,
   "id": "92b55770",
   "metadata": {},
   "outputs": [
    {
     "name": "stderr",
     "output_type": "stream",
     "text": [
      "C:\\Users\\karan\\AppData\\Local\\Temp\\ipykernel_6304\\3021618074.py:4: SettingWithCopyWarning: \n",
      "A value is trying to be set on a copy of a slice from a DataFrame.\n",
      "Try using .loc[row_indexer,col_indexer] = value instead\n",
      "\n",
      "See the caveats in the documentation: https://pandas.pydata.org/pandas-docs/stable/user_guide/indexing.html#returning-a-view-versus-a-copy\n",
      "  texas_2019['AGE_BAND'] = pd.cut(texas_2019['AGE'], bins=[0, 21, 30, 65, 100, np.inf], labels=age_bands, right=False)\n"
     ]
    }
   ],
   "source": [
    "age_bands = ['AGE 1-21', 'AGE 22-30', 'AGE 31-65', 'AGE 66 and above', 'Unknown Age']\n",
    "\n",
    "# Use pd.cut() to bin the ages into the age bands\n",
    "texas_2019['AGE_BAND'] = pd.cut(texas_2019['AGE'], bins=[0, 21, 30, 65, 100, np.inf], labels=age_bands, right=False)"
   ]
  },
  {
   "cell_type": "code",
   "execution_count": 7,
   "id": "1160934a",
   "metadata": {},
   "outputs": [
    {
     "name": "stderr",
     "output_type": "stream",
     "text": [
      "C:\\Users\\karan\\AppData\\Local\\Temp\\ipykernel_6304\\3327702539.py:4: SettingWithCopyWarning: \n",
      "A value is trying to be set on a copy of a slice from a DataFrame.\n",
      "Try using .loc[row_indexer,col_indexer] = value instead\n",
      "\n",
      "See the caveats in the documentation: https://pandas.pydata.org/pandas-docs/stable/user_guide/indexing.html#returning-a-view-versus-a-copy\n",
      "  texas_2020['AGE_BAND'] = pd.cut(texas_2020['AGE'], bins=[0, 21, 30, 65, 100, np.inf], labels=age_bands, right=False)\n"
     ]
    }
   ],
   "source": [
    "age_bands = ['AGE 1-21', 'AGE 22-30', 'AGE 31-65', 'AGE 66 and above', 'Unknown Age']\n",
    "\n",
    "# Use pd.cut() to bin the ages into the age bands\n",
    "texas_2020['AGE_BAND'] = pd.cut(texas_2020['AGE'], bins=[0, 21, 30, 65, 100, np.inf], labels=age_bands, right=False)"
   ]
  },
  {
   "cell_type": "code",
   "execution_count": 8,
   "id": "f85928f6",
   "metadata": {},
   "outputs": [
    {
     "name": "stderr",
     "output_type": "stream",
     "text": [
      "C:\\Users\\karan\\AppData\\Local\\Temp\\ipykernel_6304\\2660556298.py:4: SettingWithCopyWarning: \n",
      "A value is trying to be set on a copy of a slice from a DataFrame.\n",
      "Try using .loc[row_indexer,col_indexer] = value instead\n",
      "\n",
      "See the caveats in the documentation: https://pandas.pydata.org/pandas-docs/stable/user_guide/indexing.html#returning-a-view-versus-a-copy\n",
      "  texas_2021['AGE_BAND'] = pd.cut(texas_2021['AGE'], bins=[0, 21, 30, 65, 100, np.inf], labels=age_bands, right=False)\n"
     ]
    }
   ],
   "source": [
    "age_bands = ['AGE 1-21', 'AGE 22-30', 'AGE 31-65', 'AGE 66 and above', 'Unknown Age']\n",
    "\n",
    "# Use pd.cut() to bin the ages into the age bands\n",
    "texas_2021['AGE_BAND'] = pd.cut(texas_2021['AGE'], bins=[0, 21, 30, 65, 100, np.inf], labels=age_bands, right=False)"
   ]
  },
  {
   "cell_type": "code",
   "execution_count": 9,
   "id": "545e258b",
   "metadata": {},
   "outputs": [],
   "source": [
    "def age(df):\n",
    "    \n",
    "    # Group by COUNTY and ROAD_TYPE_DESC, then count occurrences\n",
    "    grouped_road_type = df.groupby(['COUNTY', 'AGE_BAND']).size().unstack(fill_value=0)\n",
    "    \n",
    "    # Calculate total counts by county to normalize the data\n",
    "    total_counts_by_county_road_type = grouped_road_type.sum(axis=1)\n",
    "    \n",
    "    # Calculate percentages\n",
    "    age_percentages_df = (grouped_road_type.div(total_counts_by_county_road_type, axis=0) * 100).fillna(0)\n",
    "    age_percentages_df = age_percentages_df.reset_index()\n",
    "    \n",
    "    return age_percentages_df\n",
    "\n",
    "# Apply the function to each yearly DataFrame\n",
    "age_percentages_df_2019 = age(texas_2019)\n",
    "age_percentages_df_2020 = age(texas_2020)\n",
    "age_percentages_df_2021 = age(texas_2021)"
   ]
  },
  {
   "cell_type": "code",
   "execution_count": 10,
   "id": "85ef453b",
   "metadata": {},
   "outputs": [
    {
     "data": {
      "text/plain": [
       "((254, 6), (254, 6), (254, 6))"
      ]
     },
     "execution_count": 10,
     "metadata": {},
     "output_type": "execute_result"
    }
   ],
   "source": [
    "age_percentages_df_2019.shape, age_percentages_df_2020.shape,age_percentages_df_2021.shape"
   ]
  },
  {
   "cell_type": "code",
   "execution_count": 11,
   "id": "e2ce8f96",
   "metadata": {},
   "outputs": [],
   "source": [
    "def merger(f1,f2):\n",
    "    f1 = pd.merge(f1,f2,on=['COUNTY'],how='left')\n",
    "    return f1"
   ]
  },
  {
   "cell_type": "code",
   "execution_count": 12,
   "id": "6d176068",
   "metadata": {},
   "outputs": [],
   "source": [
    "texas_2019 = merger(texas_2019,age_percentages_df_2019)\n",
    "texas_2020 = merger(texas_2020,age_percentages_df_2020)\n",
    "texas_2021 = merger(texas_2021,age_percentages_df_2021)"
   ]
  },
  {
   "cell_type": "code",
   "execution_count": 13,
   "id": "889192a0",
   "metadata": {},
   "outputs": [
    {
     "data": {
      "text/plain": [
       "((241003, 33), (242151, 33), (243069, 33))"
      ]
     },
     "execution_count": 13,
     "metadata": {},
     "output_type": "execute_result"
    }
   ],
   "source": [
    "texas_2019.shape, texas_2020.shape, texas_2021.shape"
   ]
  },
  {
   "cell_type": "code",
   "execution_count": 14,
   "id": "511b38be",
   "metadata": {},
   "outputs": [
    {
     "data": {
      "text/plain": [
       "(array([2, 1, 0], dtype=int64),\n",
       " array([2, 0, 1], dtype=int64),\n",
       " array([1, 2, 0], dtype=int64))"
      ]
     },
     "execution_count": 14,
     "metadata": {},
     "output_type": "execute_result"
    }
   ],
   "source": [
    "texas_2019['GENDER'].unique(), texas_2020['GENDER'].unique(), texas_2021['GENDER'].unique()"
   ]
  },
  {
   "cell_type": "code",
   "execution_count": 15,
   "id": "fedddb39",
   "metadata": {},
   "outputs": [],
   "source": [
    "gender_mapping = {\n",
    "    0: 'MALE',\n",
    "    1: 'FEMALE',\n",
    "    2: 'UNKNOWN_GENDER'\n",
    "}\n",
    "\n",
    "\n",
    "\n",
    "def process_gender_data(df, mapping):\n",
    "    # Map the gender codes to descriptive names\n",
    "    df['GENDER_DESC'] = df['GENDER'].map(mapping).astype(str)\n",
    "    \n",
    "    # Group by COUNTY and GENDER_DESC, then count occurrences\n",
    "    grouped = df.groupby(['COUNTY', 'GENDER_DESC']).size().unstack(fill_value=0)\n",
    "    \n",
    "    # Calculate total counts by county to normalize the data\n",
    "    total_counts_by_county = grouped.sum(axis=1)\n",
    "    \n",
    "    # Calculate percentages\n",
    "    gender_percentages_df = (grouped.div(total_counts_by_county, axis=0) * 100).fillna(0)\n",
    "    gender_percentages_df = gender_percentages_df.reset_index()\n",
    "    \n",
    "    return gender_percentages_df\n",
    "\n",
    "# Process each year's data\n",
    "gender_df_2019 = process_gender_data(texas_2019, gender_mapping)\n",
    "gender_df_2020 = process_gender_data(texas_2020, gender_mapping)\n",
    "gender_df_2021 = process_gender_data(texas_2021, gender_mapping)\n"
   ]
  },
  {
   "cell_type": "code",
   "execution_count": 16,
   "id": "3f361b1d",
   "metadata": {},
   "outputs": [],
   "source": [
    "def merger(f1,f2):\n",
    "    f1 = pd.merge(f1,f2,on=['COUNTY'],how='left')\n",
    "    return f1"
   ]
  },
  {
   "cell_type": "code",
   "execution_count": 17,
   "id": "fff4b2fe",
   "metadata": {},
   "outputs": [],
   "source": [
    "texas_2019 = merger(texas_2019,gender_df_2019)\n",
    "texas_2020 = merger(texas_2020,gender_df_2020)\n",
    "texas_2021 = merger(texas_2021,gender_df_2021)"
   ]
  },
  {
   "cell_type": "code",
   "execution_count": 18,
   "id": "9ca34013",
   "metadata": {},
   "outputs": [
    {
     "data": {
      "text/plain": [
       "((241003, 37), (242151, 37), (243069, 37))"
      ]
     },
     "execution_count": 18,
     "metadata": {},
     "output_type": "execute_result"
    }
   ],
   "source": [
    "texas_2019.shape, texas_2020.shape, texas_2021.shape"
   ]
  },
  {
   "cell_type": "code",
   "execution_count": 19,
   "id": "2e1ef196",
   "metadata": {},
   "outputs": [
    {
     "data": {
      "text/plain": [
       "(array([1, 0], dtype=int64),\n",
       " array([1, 0], dtype=int64),\n",
       " array([0, 1], dtype=int64))"
      ]
     },
     "execution_count": 19,
     "metadata": {},
     "output_type": "execute_result"
    }
   ],
   "source": [
    "texas_2019['INTERSECTION'].unique(), texas_2020['INTERSECTION'].unique(), texas_2021['INTERSECTION'].unique()"
   ]
  },
  {
   "cell_type": "code",
   "execution_count": 20,
   "id": "10c2f849",
   "metadata": {},
   "outputs": [],
   "source": [
    "intersection_mapping ={\n",
    "    0:'NO_INTERSECTION',\n",
    "    1:'YES_INTERSECTION'\n",
    "}\n",
    "\n",
    "\n",
    "def intersect(df, mapping):\n",
    "    df['INTERSECTION_DESC'] = df['INTERSECTION'].map(mapping)\n",
    "    grouped_lighting = df.groupby(['COUNTY', 'INTERSECTION_DESC']).size().unstack(fill_value=0)\n",
    "    grouped_lighting = df.groupby(['COUNTY', 'INTERSECTION_DESC']).size().unstack(fill_value=0)\n",
    "    total_counts_by_county_lighting = grouped_lighting.sum(axis=1)\n",
    "    intersection_percentages_df = (grouped_lighting.div(total_counts_by_county_lighting, axis=0) * 100).fillna(0)\n",
    "    intersection_percentages_df = intersection_percentages_df.reset_index()\n",
    "    \n",
    "    return intersection_percentages_df\n",
    "\n",
    "intersection_percentages_df_2019 = intersect(texas_2019, intersection_mapping)\n",
    "intersection_percentages_df_2020 = intersect(texas_2020, intersection_mapping)\n",
    "intersection_percentages_df_2021 = intersect(texas_2021, intersection_mapping)"
   ]
  },
  {
   "cell_type": "code",
   "execution_count": 21,
   "id": "7632c09f",
   "metadata": {},
   "outputs": [
    {
     "data": {
      "text/plain": [
       "(241003, 38)"
      ]
     },
     "execution_count": 21,
     "metadata": {},
     "output_type": "execute_result"
    }
   ],
   "source": [
    "texas_2019.shape"
   ]
  },
  {
   "cell_type": "code",
   "execution_count": 22,
   "id": "51c47ffa",
   "metadata": {},
   "outputs": [],
   "source": [
    "texas_2019 = merger(texas_2019,intersection_percentages_df_2019)\n",
    "texas_2020 = merger(texas_2020,intersection_percentages_df_2020)\n",
    "texas_2021 = merger(texas_2021,intersection_percentages_df_2021)"
   ]
  },
  {
   "cell_type": "code",
   "execution_count": 23,
   "id": "82ec6115",
   "metadata": {},
   "outputs": [
    {
     "data": {
      "text/plain": [
       "((241003, 40), (242151, 40), (243069, 40))"
      ]
     },
     "execution_count": 23,
     "metadata": {},
     "output_type": "execute_result"
    }
   ],
   "source": [
    "texas_2019.shape, texas_2020.shape,  texas_2021.shape"
   ]
  },
  {
   "cell_type": "code",
   "execution_count": 24,
   "id": "62624b61",
   "metadata": {},
   "outputs": [],
   "source": [
    "weather_mapping = {\n",
    "    11: 'CLEAR',\n",
    "    12: 'CLOUDY',\n",
    "    5: 'FOG',\n",
    "    2: 'RAIN',\n",
    "    3: 'SLEET/HAIL',\n",
    "    8: 'OTHER_WEATHER',\n",
    "    0: 'UNKNOWN_WEATHER',\n",
    "    4: 'SNOW_WEATHER',\n",
    "    6: 'BLOWING SAND/SNOW',\n",
    "    7: 'SEVERE CROSSWINDS'\n",
    "}\n",
    "\n",
    "\n",
    "texas_2019['WEATHER_DESC'] = texas_2019['WEATHER'].map(weather_mapping)\n",
    "texas_2020['WEATHER_DESC'] = texas_2020['WEATHER'].map(weather_mapping)\n",
    "texas_2021['WEATHER_DESC'] = texas_2021['WEATHER'].map(weather_mapping)\n",
    "\n",
    "def analyze_weather(df):\n",
    "    grouped_weather = df.groupby(['COUNTY', 'WEATHER_DESC']).size().unstack(fill_value=0)\n",
    "    total_counts_by_county_weather = grouped_weather.sum(axis=1)\n",
    "    weather_percentages_df = (grouped_weather.div(total_counts_by_county_weather, axis=0) * 100).fillna(0)\n",
    "    weather_percentages_df = weather_percentages_df.reset_index()\n",
    "    return weather_percentages_df\n",
    "\n",
    "weather_percentages_df_2019 = analyze_weather(texas_2019)\n",
    "weather_percentages_df_2020 = analyze_weather(texas_2020)\n",
    "weather_percentages_df_2021 = analyze_weather(texas_2021)"
   ]
  },
  {
   "cell_type": "code",
   "execution_count": 25,
   "id": "7fbfb0f4",
   "metadata": {},
   "outputs": [
    {
     "data": {
      "text/plain": [
       "(254, 11)"
      ]
     },
     "execution_count": 25,
     "metadata": {},
     "output_type": "execute_result"
    }
   ],
   "source": [
    "weather_percentages_df_2019.shape"
   ]
  },
  {
   "cell_type": "code",
   "execution_count": 26,
   "id": "4c7c6781",
   "metadata": {},
   "outputs": [
    {
     "data": {
      "text/plain": [
       "(254, 11)"
      ]
     },
     "execution_count": 26,
     "metadata": {},
     "output_type": "execute_result"
    }
   ],
   "source": [
    "weather_percentages_df_2020.shape"
   ]
  },
  {
   "cell_type": "code",
   "execution_count": 27,
   "id": "2eeb3853",
   "metadata": {},
   "outputs": [
    {
     "data": {
      "text/plain": [
       "(254, 11)"
      ]
     },
     "execution_count": 27,
     "metadata": {},
     "output_type": "execute_result"
    }
   ],
   "source": [
    "weather_percentages_df_2021.shape"
   ]
  },
  {
   "cell_type": "code",
   "execution_count": 28,
   "id": "9c1007e7",
   "metadata": {},
   "outputs": [
    {
     "data": {
      "text/plain": [
       "(241003, 41)"
      ]
     },
     "execution_count": 28,
     "metadata": {},
     "output_type": "execute_result"
    }
   ],
   "source": [
    "texas_2019.shape"
   ]
  },
  {
   "cell_type": "code",
   "execution_count": 29,
   "id": "cc26d85a",
   "metadata": {},
   "outputs": [],
   "source": [
    "texas_2019 = merger(texas_2019,weather_percentages_df_2019)\n",
    "texas_2020 = merger(texas_2020,weather_percentages_df_2020)\n",
    "texas_2021 = merger(texas_2021,weather_percentages_df_2021)"
   ]
  },
  {
   "cell_type": "code",
   "execution_count": 30,
   "id": "bc9e80f4",
   "metadata": {},
   "outputs": [
    {
     "data": {
      "text/plain": [
       "((241003, 51), (242151, 51), (243069, 51))"
      ]
     },
     "execution_count": 30,
     "metadata": {},
     "output_type": "execute_result"
    }
   ],
   "source": [
    "texas_2019.shape, texas_2020.shape, texas_2021.shape"
   ]
  },
  {
   "cell_type": "code",
   "execution_count": 31,
   "id": "0cabfc00",
   "metadata": {},
   "outputs": [],
   "source": [
    "map = {\n",
    "    0:'UNKNOWN_LIGHT',\n",
    "    1:'DAYLIGHT',\n",
    "    2:'DAWN',\n",
    "    3:'DARK-NOT LIGHTED',\n",
    "    4:'DARK-LIGHTED',\n",
    "    5:'DUSK',\n",
    "    6:'DARK-UNKNOWN LIGHTING',\n",
    "    8:'OTHER_LIGHT'\n",
    "}\n",
    "\n",
    "def process_lighting_data(df, mapping):\n",
    "    df['LIGHTING_DESC'] = df['LIGHTING'].map(mapping)\n",
    "    grouped_lighting = df.groupby(['COUNTY', 'LIGHTING_DESC']).size().unstack(fill_value=0)\n",
    "    grouped_lighting = df.groupby(['COUNTY', 'LIGHTING_DESC']).size().unstack(fill_value=0)\n",
    "    total_counts_by_county_lighting = grouped_lighting.sum(axis=1)\n",
    "    lighting_percentages_df = (grouped_lighting.div(total_counts_by_county_lighting, axis=0) * 100).fillna(0)\n",
    "    lighting_percentages_df = lighting_percentages_df.reset_index()\n",
    "    \n",
    "    return lighting_percentages_df\n",
    "\n",
    "lighting_percentages_df_2019 = process_lighting_data(texas_2019, map)\n",
    "lighting_percentages_df_2020 = process_lighting_data(texas_2020, map)\n",
    "lighting_percentages_df_2021 = process_lighting_data(texas_2021, map)"
   ]
  },
  {
   "cell_type": "code",
   "execution_count": 32,
   "id": "a53d60fa",
   "metadata": {},
   "outputs": [
    {
     "data": {
      "text/plain": [
       "(254, 9)"
      ]
     },
     "execution_count": 32,
     "metadata": {},
     "output_type": "execute_result"
    }
   ],
   "source": [
    "lighting_percentages_df_2019.shape"
   ]
  },
  {
   "cell_type": "code",
   "execution_count": 33,
   "id": "2463276f",
   "metadata": {},
   "outputs": [
    {
     "data": {
      "text/plain": [
       "(254, 9)"
      ]
     },
     "execution_count": 33,
     "metadata": {},
     "output_type": "execute_result"
    }
   ],
   "source": [
    "lighting_percentages_df_2020.shape"
   ]
  },
  {
   "cell_type": "code",
   "execution_count": 34,
   "id": "41945c49",
   "metadata": {},
   "outputs": [
    {
     "data": {
      "text/plain": [
       "(254, 9)"
      ]
     },
     "execution_count": 34,
     "metadata": {},
     "output_type": "execute_result"
    }
   ],
   "source": [
    "lighting_percentages_df_2021.shape"
   ]
  },
  {
   "cell_type": "code",
   "execution_count": 35,
   "id": "ebc4db65",
   "metadata": {},
   "outputs": [],
   "source": [
    "texas_2019 = merger(texas_2019,lighting_percentages_df_2019)\n",
    "texas_2020 = merger(texas_2020,lighting_percentages_df_2020)\n",
    "texas_2021 = merger(texas_2021,lighting_percentages_df_2021)"
   ]
  },
  {
   "cell_type": "code",
   "execution_count": 36,
   "id": "5e42c820",
   "metadata": {},
   "outputs": [
    {
     "data": {
      "text/plain": [
       "((241003, 60), (242151, 60), (243069, 60))"
      ]
     },
     "execution_count": 36,
     "metadata": {},
     "output_type": "execute_result"
    }
   ],
   "source": [
    "texas_2019.shape, texas_2020.shape, texas_2021.shape"
   ]
  },
  {
   "cell_type": "code",
   "execution_count": 37,
   "id": "831e1886",
   "metadata": {},
   "outputs": [],
   "source": [
    "surface_mapping={\n",
    "    0:'UNKNOWN_SURF',\n",
    "    1:'DRY',\n",
    "    2:'WET',\n",
    "    3:'STANDING_WATER',\n",
    "    5:'SLUSH',\n",
    "    6:'ICE',\n",
    "    8:'OTHER_SURF',\n",
    "    9:'SNOW_SURF',\n",
    "    10:'DIRT'\n",
    "    \n",
    "}\n",
    "\n",
    "def surface(df, mapping):\n",
    "    df['SURF_DESC'] = df['SURFACE'].map(mapping)\n",
    "    grouped_lighting = df.groupby(['COUNTY', 'SURF_DESC']).size().unstack(fill_value=0)\n",
    "    grouped_lighting = df.groupby(['COUNTY', 'SURF_DESC']).size().unstack(fill_value=0)\n",
    "    total_counts_by_county_lighting = grouped_lighting.sum(axis=1)\n",
    "    surf_percentages_df = (grouped_lighting.div(total_counts_by_county_lighting, axis=0) * 100).fillna(0)\n",
    "    surf_percentages_df = surf_percentages_df.reset_index()\n",
    "    \n",
    "    return surf_percentages_df\n",
    "\n",
    "surf_percentages_df_2019 = surface(texas_2019, surface_mapping)\n",
    "surf_percentages_df_2020 = surface(texas_2020, surface_mapping)\n",
    "surf_percentages_df_2021 = surface(texas_2021, surface_mapping)\n"
   ]
  },
  {
   "cell_type": "code",
   "execution_count": 38,
   "id": "f666a5d0",
   "metadata": {},
   "outputs": [
    {
     "data": {
      "text/plain": [
       "(254, 10)"
      ]
     },
     "execution_count": 38,
     "metadata": {},
     "output_type": "execute_result"
    }
   ],
   "source": [
    "surf_percentages_df_2019.shape"
   ]
  },
  {
   "cell_type": "code",
   "execution_count": 39,
   "id": "476da3e9",
   "metadata": {},
   "outputs": [
    {
     "data": {
      "text/plain": [
       "(254, 10)"
      ]
     },
     "execution_count": 39,
     "metadata": {},
     "output_type": "execute_result"
    }
   ],
   "source": [
    "surf_percentages_df_2020.shape"
   ]
  },
  {
   "cell_type": "code",
   "execution_count": 40,
   "id": "c672bd70",
   "metadata": {},
   "outputs": [
    {
     "data": {
      "text/plain": [
       "(254, 10)"
      ]
     },
     "execution_count": 40,
     "metadata": {},
     "output_type": "execute_result"
    }
   ],
   "source": [
    "surf_percentages_df_2021.shape"
   ]
  },
  {
   "cell_type": "code",
   "execution_count": 41,
   "id": "62b44691",
   "metadata": {},
   "outputs": [],
   "source": [
    "texas_2019 = merger(texas_2019,surf_percentages_df_2019)\n",
    "texas_2020 = merger(texas_2020,surf_percentages_df_2020)\n",
    "texas_2021 = merger(texas_2021,surf_percentages_df_2021)"
   ]
  },
  {
   "cell_type": "code",
   "execution_count": 42,
   "id": "dd87a6bc",
   "metadata": {},
   "outputs": [
    {
     "data": {
      "text/plain": [
       "((241003, 70), (242151, 70), (243069, 70))"
      ]
     },
     "execution_count": 42,
     "metadata": {},
     "output_type": "execute_result"
    }
   ],
   "source": [
    "texas_2019.shape, texas_2020.shape, texas_2021.shape"
   ]
  },
  {
   "cell_type": "code",
   "execution_count": 43,
   "id": "9fe75ddb",
   "metadata": {},
   "outputs": [],
   "source": [
    "human_encoding = {\n",
    "    1:'SPEEDING',\n",
    "    2:'INATTENTION',\n",
    "    3:'LANE_CHNG',\n",
    "    4:'TAILGATING',\n",
    "    5:'VIOLATION',\n",
    "    6:'UNSAFE_BACKING',\n",
    "    7:'IMPAIRMENT',\n",
    "    8:'TURNING',\n",
    "    9:'TECH_PARK',\n",
    "    10:'NO_FAULT',\n",
    "    11:'KNOWN_HUMAN_FACTOR',\n",
    "    12:'UNKNOWN_HUMAN_FACTOR'\n",
    "}\n",
    "\n",
    "\n",
    "def human(df, mapping):\n",
    "    # Map the road type codes to descriptive names\n",
    "    df['HUMAN_FACTOR_DESC'] = df['HUMAN_FACTOR'].map(mapping).astype(str)\n",
    "    \n",
    "    # Group by COUNTY and ROAD_TYPE_DESC, then count occurrences\n",
    "    grouped_road_type = df.groupby(['COUNTY', 'HUMAN_FACTOR_DESC']).size().unstack(fill_value=0)\n",
    "    \n",
    "    # Calculate total counts by county to normalize the data\n",
    "    total_counts_by_county_road_type = grouped_road_type.sum(axis=1)\n",
    "    \n",
    "    # Calculate percentages\n",
    "    human_percentages_df = (grouped_road_type.div(total_counts_by_county_road_type, axis=0) * 100).fillna(0)\n",
    "    human_percentages_df = human_percentages_df.reset_index()\n",
    "    \n",
    "    return human_percentages_df\n",
    "\n",
    "# Apply the function to each yearly DataFrame\n",
    "human_percentages_df_2019 = human(texas_2019, human_encoding)\n",
    "human_percentages_df_2020 = human(texas_2020, human_encoding)\n",
    "human_percentages_df_2021 = human(texas_2021, human_encoding)"
   ]
  },
  {
   "cell_type": "code",
   "execution_count": 44,
   "id": "d56e1bcc",
   "metadata": {
    "scrolled": true
   },
   "outputs": [
    {
     "data": {
      "text/plain": [
       "((254, 12), (254, 13), (254, 13))"
      ]
     },
     "execution_count": 44,
     "metadata": {},
     "output_type": "execute_result"
    }
   ],
   "source": [
    "human_percentages_df_2019.shape, human_percentages_df_2020.shape, human_percentages_df_2021.shape"
   ]
  },
  {
   "cell_type": "code",
   "execution_count": 45,
   "id": "f9683829",
   "metadata": {},
   "outputs": [
    {
     "data": {
      "text/plain": [
       "Index(['COUNTY', 'IMPAIRMENT', 'INATTENTION', 'KNOWN_HUMAN_FACTOR',\n",
       "       'LANE_CHNG', 'NO_FAULT', 'SPEEDING', 'TECH_PARK', 'TURNING',\n",
       "       'UNKNOWN_HUMAN_FACTOR', 'UNSAFE_BACKING', 'VIOLATION'],\n",
       "      dtype='object', name='HUMAN_FACTOR_DESC')"
      ]
     },
     "execution_count": 45,
     "metadata": {},
     "output_type": "execute_result"
    }
   ],
   "source": [
    "human_percentages_df_2019.columns"
   ]
  },
  {
   "cell_type": "code",
   "execution_count": 46,
   "id": "a7e5597a",
   "metadata": {},
   "outputs": [
    {
     "data": {
      "text/plain": [
       "Index(['COUNTY', 'IMPAIRMENT', 'INATTENTION', 'KNOWN_HUMAN_FACTOR',\n",
       "       'LANE_CHNG', 'NO_FAULT', 'SPEEDING', 'TAILGATING', 'TECH_PARK',\n",
       "       'TURNING', 'UNKNOWN_HUMAN_FACTOR', 'UNSAFE_BACKING', 'VIOLATION'],\n",
       "      dtype='object', name='HUMAN_FACTOR_DESC')"
      ]
     },
     "execution_count": 46,
     "metadata": {},
     "output_type": "execute_result"
    }
   ],
   "source": [
    "human_percentages_df_2020.columns"
   ]
  },
  {
   "cell_type": "code",
   "execution_count": 47,
   "id": "660da569",
   "metadata": {},
   "outputs": [
    {
     "data": {
      "text/plain": [
       "Index(['COUNTY', 'IMPAIRMENT', 'INATTENTION', 'KNOWN_HUMAN_FACTOR',\n",
       "       'LANE_CHNG', 'NO_FAULT', 'SPEEDING', 'TAILGATING', 'TECH_PARK',\n",
       "       'TURNING', 'UNKNOWN_HUMAN_FACTOR', 'UNSAFE_BACKING', 'VIOLATION'],\n",
       "      dtype='object', name='HUMAN_FACTOR_DESC')"
      ]
     },
     "execution_count": 47,
     "metadata": {},
     "output_type": "execute_result"
    }
   ],
   "source": [
    "human_percentages_df_2021.columns\n"
   ]
  },
  {
   "cell_type": "code",
   "execution_count": 48,
   "id": "59c1ea0e",
   "metadata": {},
   "outputs": [],
   "source": [
    "human_percentages_df_2019.insert(7,'TAILGATING',0)"
   ]
  },
  {
   "cell_type": "code",
   "execution_count": 49,
   "id": "bc873b89",
   "metadata": {},
   "outputs": [],
   "source": [
    "texas_2019 = merger(texas_2019,human_percentages_df_2019)\n",
    "texas_2020 = merger(texas_2020,human_percentages_df_2020)\n",
    "texas_2021 = merger(texas_2021,human_percentages_df_2021)"
   ]
  },
  {
   "cell_type": "code",
   "execution_count": 50,
   "id": "8d5c2976",
   "metadata": {},
   "outputs": [
    {
     "data": {
      "text/plain": [
       "array([5, 2, 1, 3, 4, 6, 7, 8], dtype=int64)"
      ]
     },
     "execution_count": 50,
     "metadata": {},
     "output_type": "execute_result"
    }
   ],
   "source": [
    "texas['ROAD_CLASS'].unique()"
   ]
  },
  {
   "cell_type": "code",
   "execution_count": 51,
   "id": "763a5f0d",
   "metadata": {
    "scrolled": true
   },
   "outputs": [
    {
     "data": {
      "text/plain": [
       "((241003, 83), (242151, 83), (243069, 83))"
      ]
     },
     "execution_count": 51,
     "metadata": {},
     "output_type": "execute_result"
    }
   ],
   "source": [
    "texas_2019.shape, texas_2020.shape, texas_2021.shape"
   ]
  },
  {
   "cell_type": "code",
   "execution_count": 52,
   "id": "363fcb8f",
   "metadata": {},
   "outputs": [],
   "source": [
    "roadway_types = {\n",
    "    1: 'INTERSTATE',\n",
    "    2: 'US & STATE HIGHWAY',\n",
    "    3: 'FARM TO MARKET',\n",
    "    4: 'COUNTY ROAD',\n",
    "    5: 'CITY STREET',\n",
    "    6: 'TOLLWAY',\n",
    "    7: 'OTHER ROADS',\n",
    "    8: 'TOLL BRIDGES'\n",
    "}\n",
    "\n",
    "\n",
    "def process_road_type_data(df, mapping):\n",
    "    # Map the road type codes to descriptive names\n",
    "    df['ROAD_TYPE_DESC'] = df['ROAD_CLASS'].map(mapping).astype(str)\n",
    "    \n",
    "    # Group by COUNTY and ROAD_TYPE_DESC, then count occurrences\n",
    "    grouped_road_type = df.groupby(['COUNTY', 'ROAD_TYPE_DESC']).size().unstack(fill_value=0)\n",
    "    \n",
    "    # Calculate total counts by county to normalize the data\n",
    "    total_counts_by_county_road_type = grouped_road_type.sum(axis=1)\n",
    "    \n",
    "    # Calculate percentages\n",
    "    road_type_percentages_df = (grouped_road_type.div(total_counts_by_county_road_type, axis=0) * 100).fillna(0)\n",
    "    road_type_percentages_df = road_type_percentages_df.reset_index()\n",
    "    \n",
    "    return road_type_percentages_df\n",
    "\n",
    "# Apply the function to each yearly DataFrame\n",
    "road_type_percentages_df_2019 = process_road_type_data(texas_2019, roadway_types)\n",
    "road_type_percentages_df_2020 = process_road_type_data(texas_2020, roadway_types)\n",
    "road_type_percentages_df_2021 = process_road_type_data(texas_2021, roadway_types)"
   ]
  },
  {
   "cell_type": "code",
   "execution_count": 53,
   "id": "913039ed",
   "metadata": {},
   "outputs": [
    {
     "data": {
      "text/plain": [
       "((254, 9), (254, 9), (254, 9))"
      ]
     },
     "execution_count": 53,
     "metadata": {},
     "output_type": "execute_result"
    }
   ],
   "source": [
    "road_type_percentages_df_2019.shape, road_type_percentages_df_2020.shape, road_type_percentages_df_2021.shape"
   ]
  },
  {
   "cell_type": "code",
   "execution_count": 54,
   "id": "9a2ded98",
   "metadata": {},
   "outputs": [],
   "source": [
    "texas_2019 = merger(texas_2019,road_type_percentages_df_2019)\n",
    "texas_2020 = merger(texas_2020,road_type_percentages_df_2020)\n",
    "texas_2021 = merger(texas_2021,road_type_percentages_df_2021)"
   ]
  },
  {
   "cell_type": "code",
   "execution_count": 55,
   "id": "55f246b5",
   "metadata": {},
   "outputs": [
    {
     "data": {
      "text/plain": [
       "((241003, 92), (242151, 92), (243069, 92))"
      ]
     },
     "execution_count": 55,
     "metadata": {},
     "output_type": "execute_result"
    }
   ],
   "source": [
    "texas_2019.shape, texas_2020.shape, texas_2021.shape\n"
   ]
  },
  {
   "cell_type": "code",
   "execution_count": 56,
   "id": "fb1d0df0",
   "metadata": {},
   "outputs": [
    {
     "data": {
      "text/plain": [
       "array([0, 1], dtype=int64)"
      ]
     },
     "execution_count": 56,
     "metadata": {},
     "output_type": "execute_result"
    }
   ],
   "source": [
    "texas['INJURY_OUTCOME'].unique()"
   ]
  },
  {
   "cell_type": "code",
   "execution_count": 57,
   "id": "bc3ce7bc",
   "metadata": {},
   "outputs": [],
   "source": [
    "map = {\n",
    "    0:'NO_INJURY',\n",
    "    1:'YES_INJURY'\n",
    "}\n",
    "\n",
    "def injury(df,map):\n",
    "    df['INJURY_DESC'] = df['INJURY_OUTCOME'].map(map).astype('str')\n",
    "    grouped = df.groupby(['COUNTY','INJURY_DESC']).size().unstack(fill_value=0)\n",
    "    total_counts_by_county = grouped.sum(axis=1)\n",
    "    injury_percentages_df = (grouped.div(total_counts_by_county, axis=0) * 100).fillna(0)\n",
    "    injury_percentages_df = injury_percentages_df.reset_index()\n",
    "    return injury_percentages_df\n",
    "\n",
    "injury_percentages_df_2019 = injury(texas_2019, map)\n",
    "injury_percentages_df_2020 = injury(texas_2020, map)\n",
    "injury_percentages_df_2021 = injury(texas_2021, map)"
   ]
  },
  {
   "cell_type": "code",
   "execution_count": null,
   "id": "a53bd086",
   "metadata": {},
   "outputs": [],
   "source": []
  },
  {
   "cell_type": "code",
   "execution_count": 58,
   "id": "7bacaaa1",
   "metadata": {},
   "outputs": [],
   "source": [
    "texas_2019 = merger(texas_2019,injury_percentages_df_2019)\n",
    "texas_2020 = merger(texas_2020,injury_percentages_df_2020)\n",
    "texas_2021 = merger(texas_2021,injury_percentages_df_2021)"
   ]
  },
  {
   "cell_type": "code",
   "execution_count": 59,
   "id": "d05a0ac1",
   "metadata": {},
   "outputs": [
    {
     "data": {
      "text/plain": [
       "((241003, 95), (242151, 95), (243069, 95))"
      ]
     },
     "execution_count": 59,
     "metadata": {},
     "output_type": "execute_result"
    }
   ],
   "source": [
    "texas_2019.shape, texas_2020.shape, texas_2021.shape"
   ]
  },
  {
   "cell_type": "code",
   "execution_count": 60,
   "id": "01bcc399",
   "metadata": {},
   "outputs": [
    {
     "data": {
      "text/plain": [
       "Index(['Crash_ID', 'AGE', 'GENDER', 'DATE', 'TIME', 'COUNTY_FIPS', 'COUNTY',\n",
       "       'INTERSECTION', 'WEATHER', 'LIGHTING', 'SURFACE', 'HUMAN_FACTOR',\n",
       "       'ROAD_CLASS', 'LATITUDE', 'LONGITUDE', 'MEDIANWIDTH', 'LANES',\n",
       "       'ROADWIDTH', 'AADT', 'INJURY_OUTCOME', 'INJURY_COUNT', 'YEAR',\n",
       "       'INTOXICATION', 'BUFF_DIST', 'ORIG_FID', 'Shape_Length', 'Shape_Area',\n",
       "       'AGE_BAND', 'AGE 1-21', 'AGE 22-30', 'AGE 31-65', 'AGE 66 and above',\n",
       "       'Unknown Age', 'GENDER_DESC', 'FEMALE', 'MALE', 'UNKNOWN_GENDER',\n",
       "       'INTERSECTION_DESC', 'NO_INTERSECTION', 'YES_INTERSECTION',\n",
       "       'WEATHER_DESC', 'BLOWING SAND/SNOW', 'CLEAR', 'CLOUDY', 'FOG',\n",
       "       'OTHER_WEATHER', 'RAIN', 'SEVERE CROSSWINDS', 'SLEET/HAIL',\n",
       "       'SNOW_WEATHER', 'UNKNOWN_WEATHER', 'LIGHTING_DESC', 'DARK-LIGHTED',\n",
       "       'DARK-NOT LIGHTED', 'DARK-UNKNOWN LIGHTING', 'DAWN', 'DAYLIGHT', 'DUSK',\n",
       "       'OTHER_LIGHT', 'UNKNOWN_LIGHT', 'SURF_DESC', 'DIRT', 'DRY', 'ICE',\n",
       "       'OTHER_SURF', 'SLUSH', 'SNOW_SURF', 'STANDING_WATER', 'UNKNOWN_SURF',\n",
       "       'WET', 'HUMAN_FACTOR_DESC', 'IMPAIRMENT', 'INATTENTION',\n",
       "       'KNOWN_HUMAN_FACTOR', 'LANE_CHNG', 'NO_FAULT', 'SPEEDING', 'TAILGATING',\n",
       "       'TECH_PARK', 'TURNING', 'UNKNOWN_HUMAN_FACTOR', 'UNSAFE_BACKING',\n",
       "       'VIOLATION', 'ROAD_TYPE_DESC', 'CITY STREET', 'COUNTY ROAD',\n",
       "       'FARM TO MARKET', 'INTERSTATE', 'OTHER ROADS', 'TOLL BRIDGES',\n",
       "       'TOLLWAY', 'US & STATE HIGHWAY', 'INJURY_DESC', 'NO_INJURY',\n",
       "       'YES_INJURY'],\n",
       "      dtype='object')"
      ]
     },
     "execution_count": 60,
     "metadata": {},
     "output_type": "execute_result"
    }
   ],
   "source": [
    "texas_2019.columns"
   ]
  },
  {
   "cell_type": "code",
   "execution_count": 61,
   "id": "09558efb",
   "metadata": {},
   "outputs": [],
   "source": [
    "intoxication_mapping = {\n",
    "    1: 'ALCOHOL',\n",
    "    2: 'DRUG',\n",
    "    3: 'ALCOHOL, DRUG',\n",
    "    4: 'NO INTOXICATION',\n",
    "    5: 'MEDICINAL',\n",
    "    6: 'MARIJUANA'\n",
    "}"
   ]
  },
  {
   "cell_type": "code",
   "execution_count": 62,
   "id": "fc62c2fc",
   "metadata": {},
   "outputs": [],
   "source": [
    "def process_intoxication_data(df, mapping):\n",
    "    # Map the intoxication codes to descriptive names\n",
    "    df['INTOXICATION_DESC'] = df['INTOXICATION'].map(mapping).astype(str)\n",
    "    \n",
    "    # Group by COUNTY and INTOXICATION_DESC, then count occurrences\n",
    "    grouped = df.groupby(['COUNTY', 'INTOXICATION_DESC']).size().unstack(fill_value=0)\n",
    "    \n",
    "    # Calculate total counts by county to normalize the data\n",
    "    total_counts_by_county = grouped.sum(axis=1)\n",
    "    \n",
    "    # Calculate percentages\n",
    "    intoxication_percentages_df = (grouped.div(total_counts_by_county, axis=0) * 100).fillna(0)\n",
    "    intoxication_percentages_df = intoxication_percentages_df.reset_index()\n",
    "    \n",
    "    return intoxication_percentages_df\n",
    "\n",
    "# Process each year's data\n",
    "intoxication_df_2019 = process_intoxication_data(texas_2019, intoxication_mapping)\n",
    "intoxication_df_2020 = process_intoxication_data(texas_2020, intoxication_mapping)\n",
    "intoxication_df_2021 = process_intoxication_data(texas_2021, intoxication_mapping)\n",
    "\n"
   ]
  },
  {
   "cell_type": "code",
   "execution_count": 63,
   "id": "e9560335",
   "metadata": {},
   "outputs": [
    {
     "data": {
      "text/html": [
       "<div>\n",
       "<style scoped>\n",
       "    .dataframe tbody tr th:only-of-type {\n",
       "        vertical-align: middle;\n",
       "    }\n",
       "\n",
       "    .dataframe tbody tr th {\n",
       "        vertical-align: top;\n",
       "    }\n",
       "\n",
       "    .dataframe thead th {\n",
       "        text-align: right;\n",
       "    }\n",
       "</style>\n",
       "<table border=\"1\" class=\"dataframe\">\n",
       "  <thead>\n",
       "    <tr style=\"text-align: right;\">\n",
       "      <th>INTOXICATION_DESC</th>\n",
       "      <th>COUNTY</th>\n",
       "      <th>ALCOHOL</th>\n",
       "      <th>ALCOHOL, DRUG</th>\n",
       "      <th>DRUG</th>\n",
       "      <th>MARIJUANA</th>\n",
       "      <th>MEDICINAL</th>\n",
       "      <th>NO INTOXICATION</th>\n",
       "    </tr>\n",
       "  </thead>\n",
       "  <tbody>\n",
       "    <tr>\n",
       "      <th>0</th>\n",
       "      <td>Anderson</td>\n",
       "      <td>0.000000</td>\n",
       "      <td>0.0</td>\n",
       "      <td>0.390625</td>\n",
       "      <td>0.585938</td>\n",
       "      <td>0.000000</td>\n",
       "      <td>99.023438</td>\n",
       "    </tr>\n",
       "    <tr>\n",
       "      <th>1</th>\n",
       "      <td>Andrews</td>\n",
       "      <td>0.000000</td>\n",
       "      <td>0.0</td>\n",
       "      <td>0.444444</td>\n",
       "      <td>0.000000</td>\n",
       "      <td>0.000000</td>\n",
       "      <td>99.555556</td>\n",
       "    </tr>\n",
       "    <tr>\n",
       "      <th>2</th>\n",
       "      <td>Angelina</td>\n",
       "      <td>0.095238</td>\n",
       "      <td>0.0</td>\n",
       "      <td>0.000000</td>\n",
       "      <td>0.000000</td>\n",
       "      <td>0.000000</td>\n",
       "      <td>99.904762</td>\n",
       "    </tr>\n",
       "    <tr>\n",
       "      <th>3</th>\n",
       "      <td>Aransas</td>\n",
       "      <td>0.000000</td>\n",
       "      <td>0.0</td>\n",
       "      <td>0.500000</td>\n",
       "      <td>0.000000</td>\n",
       "      <td>0.500000</td>\n",
       "      <td>99.000000</td>\n",
       "    </tr>\n",
       "    <tr>\n",
       "      <th>4</th>\n",
       "      <td>Archer</td>\n",
       "      <td>0.000000</td>\n",
       "      <td>0.0</td>\n",
       "      <td>1.063830</td>\n",
       "      <td>0.000000</td>\n",
       "      <td>0.000000</td>\n",
       "      <td>98.936170</td>\n",
       "    </tr>\n",
       "    <tr>\n",
       "      <th>...</th>\n",
       "      <td>...</td>\n",
       "      <td>...</td>\n",
       "      <td>...</td>\n",
       "      <td>...</td>\n",
       "      <td>...</td>\n",
       "      <td>...</td>\n",
       "      <td>...</td>\n",
       "    </tr>\n",
       "    <tr>\n",
       "      <th>249</th>\n",
       "      <td>Wood</td>\n",
       "      <td>0.272480</td>\n",
       "      <td>0.0</td>\n",
       "      <td>0.272480</td>\n",
       "      <td>0.000000</td>\n",
       "      <td>1.089918</td>\n",
       "      <td>98.365123</td>\n",
       "    </tr>\n",
       "    <tr>\n",
       "      <th>250</th>\n",
       "      <td>Yoakum</td>\n",
       "      <td>0.000000</td>\n",
       "      <td>0.0</td>\n",
       "      <td>0.000000</td>\n",
       "      <td>0.000000</td>\n",
       "      <td>0.000000</td>\n",
       "      <td>100.000000</td>\n",
       "    </tr>\n",
       "    <tr>\n",
       "      <th>251</th>\n",
       "      <td>Young</td>\n",
       "      <td>0.000000</td>\n",
       "      <td>0.0</td>\n",
       "      <td>0.000000</td>\n",
       "      <td>0.000000</td>\n",
       "      <td>0.000000</td>\n",
       "      <td>100.000000</td>\n",
       "    </tr>\n",
       "    <tr>\n",
       "      <th>252</th>\n",
       "      <td>Zapata</td>\n",
       "      <td>0.000000</td>\n",
       "      <td>0.0</td>\n",
       "      <td>0.000000</td>\n",
       "      <td>0.000000</td>\n",
       "      <td>0.000000</td>\n",
       "      <td>100.000000</td>\n",
       "    </tr>\n",
       "    <tr>\n",
       "      <th>253</th>\n",
       "      <td>Zavala</td>\n",
       "      <td>0.000000</td>\n",
       "      <td>0.0</td>\n",
       "      <td>0.000000</td>\n",
       "      <td>0.000000</td>\n",
       "      <td>0.000000</td>\n",
       "      <td>100.000000</td>\n",
       "    </tr>\n",
       "  </tbody>\n",
       "</table>\n",
       "<p>254 rows × 7 columns</p>\n",
       "</div>"
      ],
      "text/plain": [
       "INTOXICATION_DESC    COUNTY   ALCOHOL  ALCOHOL, DRUG      DRUG  MARIJUANA  \\\n",
       "0                  Anderson  0.000000            0.0  0.390625   0.585938   \n",
       "1                   Andrews  0.000000            0.0  0.444444   0.000000   \n",
       "2                  Angelina  0.095238            0.0  0.000000   0.000000   \n",
       "3                   Aransas  0.000000            0.0  0.500000   0.000000   \n",
       "4                    Archer  0.000000            0.0  1.063830   0.000000   \n",
       "..                      ...       ...            ...       ...        ...   \n",
       "249                    Wood  0.272480            0.0  0.272480   0.000000   \n",
       "250                  Yoakum  0.000000            0.0  0.000000   0.000000   \n",
       "251                   Young  0.000000            0.0  0.000000   0.000000   \n",
       "252                  Zapata  0.000000            0.0  0.000000   0.000000   \n",
       "253                  Zavala  0.000000            0.0  0.000000   0.000000   \n",
       "\n",
       "INTOXICATION_DESC  MEDICINAL  NO INTOXICATION  \n",
       "0                   0.000000        99.023438  \n",
       "1                   0.000000        99.555556  \n",
       "2                   0.000000        99.904762  \n",
       "3                   0.500000        99.000000  \n",
       "4                   0.000000        98.936170  \n",
       "..                       ...              ...  \n",
       "249                 1.089918        98.365123  \n",
       "250                 0.000000       100.000000  \n",
       "251                 0.000000       100.000000  \n",
       "252                 0.000000       100.000000  \n",
       "253                 0.000000       100.000000  \n",
       "\n",
       "[254 rows x 7 columns]"
      ]
     },
     "execution_count": 63,
     "metadata": {},
     "output_type": "execute_result"
    }
   ],
   "source": [
    "intoxication_df_2019"
   ]
  },
  {
   "cell_type": "code",
   "execution_count": 64,
   "id": "d3da6f2d",
   "metadata": {},
   "outputs": [
    {
     "data": {
      "text/html": [
       "<div>\n",
       "<style scoped>\n",
       "    .dataframe tbody tr th:only-of-type {\n",
       "        vertical-align: middle;\n",
       "    }\n",
       "\n",
       "    .dataframe tbody tr th {\n",
       "        vertical-align: top;\n",
       "    }\n",
       "\n",
       "    .dataframe thead th {\n",
       "        text-align: right;\n",
       "    }\n",
       "</style>\n",
       "<table border=\"1\" class=\"dataframe\">\n",
       "  <thead>\n",
       "    <tr style=\"text-align: right;\">\n",
       "      <th>INTOXICATION_DESC</th>\n",
       "      <th>COUNTY</th>\n",
       "      <th>ALCOHOL</th>\n",
       "      <th>ALCOHOL, DRUG</th>\n",
       "      <th>DRUG</th>\n",
       "      <th>MARIJUANA</th>\n",
       "      <th>MEDICINAL</th>\n",
       "      <th>NO INTOXICATION</th>\n",
       "    </tr>\n",
       "  </thead>\n",
       "  <tbody>\n",
       "    <tr>\n",
       "      <th>0</th>\n",
       "      <td>Anderson</td>\n",
       "      <td>0.0</td>\n",
       "      <td>0.0</td>\n",
       "      <td>0.563910</td>\n",
       "      <td>0.000000</td>\n",
       "      <td>0.000000</td>\n",
       "      <td>99.436090</td>\n",
       "    </tr>\n",
       "    <tr>\n",
       "      <th>1</th>\n",
       "      <td>Andrews</td>\n",
       "      <td>0.0</td>\n",
       "      <td>0.0</td>\n",
       "      <td>0.518135</td>\n",
       "      <td>0.000000</td>\n",
       "      <td>0.000000</td>\n",
       "      <td>99.481865</td>\n",
       "    </tr>\n",
       "    <tr>\n",
       "      <th>2</th>\n",
       "      <td>Angelina</td>\n",
       "      <td>0.0</td>\n",
       "      <td>0.0</td>\n",
       "      <td>0.078003</td>\n",
       "      <td>0.000000</td>\n",
       "      <td>0.156006</td>\n",
       "      <td>99.765991</td>\n",
       "    </tr>\n",
       "    <tr>\n",
       "      <th>3</th>\n",
       "      <td>Aransas</td>\n",
       "      <td>0.0</td>\n",
       "      <td>0.0</td>\n",
       "      <td>0.000000</td>\n",
       "      <td>0.000000</td>\n",
       "      <td>0.000000</td>\n",
       "      <td>100.000000</td>\n",
       "    </tr>\n",
       "    <tr>\n",
       "      <th>4</th>\n",
       "      <td>Archer</td>\n",
       "      <td>0.0</td>\n",
       "      <td>0.0</td>\n",
       "      <td>0.000000</td>\n",
       "      <td>0.787402</td>\n",
       "      <td>1.574803</td>\n",
       "      <td>97.637795</td>\n",
       "    </tr>\n",
       "    <tr>\n",
       "      <th>...</th>\n",
       "      <td>...</td>\n",
       "      <td>...</td>\n",
       "      <td>...</td>\n",
       "      <td>...</td>\n",
       "      <td>...</td>\n",
       "      <td>...</td>\n",
       "      <td>...</td>\n",
       "    </tr>\n",
       "    <tr>\n",
       "      <th>249</th>\n",
       "      <td>Wood</td>\n",
       "      <td>0.0</td>\n",
       "      <td>0.0</td>\n",
       "      <td>0.476190</td>\n",
       "      <td>0.000000</td>\n",
       "      <td>0.952381</td>\n",
       "      <td>98.571429</td>\n",
       "    </tr>\n",
       "    <tr>\n",
       "      <th>250</th>\n",
       "      <td>Yoakum</td>\n",
       "      <td>0.0</td>\n",
       "      <td>0.0</td>\n",
       "      <td>0.000000</td>\n",
       "      <td>0.000000</td>\n",
       "      <td>0.000000</td>\n",
       "      <td>100.000000</td>\n",
       "    </tr>\n",
       "    <tr>\n",
       "      <th>251</th>\n",
       "      <td>Young</td>\n",
       "      <td>0.0</td>\n",
       "      <td>0.0</td>\n",
       "      <td>0.666667</td>\n",
       "      <td>0.000000</td>\n",
       "      <td>0.666667</td>\n",
       "      <td>98.666667</td>\n",
       "    </tr>\n",
       "    <tr>\n",
       "      <th>252</th>\n",
       "      <td>Zapata</td>\n",
       "      <td>0.0</td>\n",
       "      <td>0.0</td>\n",
       "      <td>0.000000</td>\n",
       "      <td>0.000000</td>\n",
       "      <td>0.000000</td>\n",
       "      <td>100.000000</td>\n",
       "    </tr>\n",
       "    <tr>\n",
       "      <th>253</th>\n",
       "      <td>Zavala</td>\n",
       "      <td>0.0</td>\n",
       "      <td>0.0</td>\n",
       "      <td>0.000000</td>\n",
       "      <td>0.000000</td>\n",
       "      <td>0.000000</td>\n",
       "      <td>100.000000</td>\n",
       "    </tr>\n",
       "  </tbody>\n",
       "</table>\n",
       "<p>254 rows × 7 columns</p>\n",
       "</div>"
      ],
      "text/plain": [
       "INTOXICATION_DESC    COUNTY  ALCOHOL  ALCOHOL, DRUG      DRUG  MARIJUANA  \\\n",
       "0                  Anderson      0.0            0.0  0.563910   0.000000   \n",
       "1                   Andrews      0.0            0.0  0.518135   0.000000   \n",
       "2                  Angelina      0.0            0.0  0.078003   0.000000   \n",
       "3                   Aransas      0.0            0.0  0.000000   0.000000   \n",
       "4                    Archer      0.0            0.0  0.000000   0.787402   \n",
       "..                      ...      ...            ...       ...        ...   \n",
       "249                    Wood      0.0            0.0  0.476190   0.000000   \n",
       "250                  Yoakum      0.0            0.0  0.000000   0.000000   \n",
       "251                   Young      0.0            0.0  0.666667   0.000000   \n",
       "252                  Zapata      0.0            0.0  0.000000   0.000000   \n",
       "253                  Zavala      0.0            0.0  0.000000   0.000000   \n",
       "\n",
       "INTOXICATION_DESC  MEDICINAL  NO INTOXICATION  \n",
       "0                   0.000000        99.436090  \n",
       "1                   0.000000        99.481865  \n",
       "2                   0.156006        99.765991  \n",
       "3                   0.000000       100.000000  \n",
       "4                   1.574803        97.637795  \n",
       "..                       ...              ...  \n",
       "249                 0.952381        98.571429  \n",
       "250                 0.000000       100.000000  \n",
       "251                 0.666667        98.666667  \n",
       "252                 0.000000       100.000000  \n",
       "253                 0.000000       100.000000  \n",
       "\n",
       "[254 rows x 7 columns]"
      ]
     },
     "execution_count": 64,
     "metadata": {},
     "output_type": "execute_result"
    }
   ],
   "source": [
    "intoxication_df_2020"
   ]
  },
  {
   "cell_type": "code",
   "execution_count": 65,
   "id": "01fa2935",
   "metadata": {},
   "outputs": [
    {
     "data": {
      "text/html": [
       "<div>\n",
       "<style scoped>\n",
       "    .dataframe tbody tr th:only-of-type {\n",
       "        vertical-align: middle;\n",
       "    }\n",
       "\n",
       "    .dataframe tbody tr th {\n",
       "        vertical-align: top;\n",
       "    }\n",
       "\n",
       "    .dataframe thead th {\n",
       "        text-align: right;\n",
       "    }\n",
       "</style>\n",
       "<table border=\"1\" class=\"dataframe\">\n",
       "  <thead>\n",
       "    <tr style=\"text-align: right;\">\n",
       "      <th>INTOXICATION_DESC</th>\n",
       "      <th>COUNTY</th>\n",
       "      <th>ALCOHOL</th>\n",
       "      <th>ALCOHOL, DRUG</th>\n",
       "      <th>DRUG</th>\n",
       "      <th>MARIJUANA</th>\n",
       "      <th>MEDICINAL</th>\n",
       "      <th>NO INTOXICATION</th>\n",
       "    </tr>\n",
       "  </thead>\n",
       "  <tbody>\n",
       "    <tr>\n",
       "      <th>0</th>\n",
       "      <td>Anderson</td>\n",
       "      <td>0.000000</td>\n",
       "      <td>0.0</td>\n",
       "      <td>0.000000</td>\n",
       "      <td>0.000000</td>\n",
       "      <td>0.39604</td>\n",
       "      <td>99.603960</td>\n",
       "    </tr>\n",
       "    <tr>\n",
       "      <th>1</th>\n",
       "      <td>Andrews</td>\n",
       "      <td>0.000000</td>\n",
       "      <td>0.0</td>\n",
       "      <td>0.000000</td>\n",
       "      <td>0.000000</td>\n",
       "      <td>0.00000</td>\n",
       "      <td>100.000000</td>\n",
       "    </tr>\n",
       "    <tr>\n",
       "      <th>2</th>\n",
       "      <td>Angelina</td>\n",
       "      <td>0.082237</td>\n",
       "      <td>0.0</td>\n",
       "      <td>0.164474</td>\n",
       "      <td>0.000000</td>\n",
       "      <td>0.00000</td>\n",
       "      <td>99.753289</td>\n",
       "    </tr>\n",
       "    <tr>\n",
       "      <th>3</th>\n",
       "      <td>Aransas</td>\n",
       "      <td>0.000000</td>\n",
       "      <td>0.0</td>\n",
       "      <td>0.000000</td>\n",
       "      <td>0.000000</td>\n",
       "      <td>0.00000</td>\n",
       "      <td>100.000000</td>\n",
       "    </tr>\n",
       "    <tr>\n",
       "      <th>4</th>\n",
       "      <td>Archer</td>\n",
       "      <td>0.000000</td>\n",
       "      <td>0.0</td>\n",
       "      <td>1.041667</td>\n",
       "      <td>1.041667</td>\n",
       "      <td>0.00000</td>\n",
       "      <td>97.916667</td>\n",
       "    </tr>\n",
       "    <tr>\n",
       "      <th>...</th>\n",
       "      <td>...</td>\n",
       "      <td>...</td>\n",
       "      <td>...</td>\n",
       "      <td>...</td>\n",
       "      <td>...</td>\n",
       "      <td>...</td>\n",
       "      <td>...</td>\n",
       "    </tr>\n",
       "    <tr>\n",
       "      <th>249</th>\n",
       "      <td>Wood</td>\n",
       "      <td>0.000000</td>\n",
       "      <td>0.0</td>\n",
       "      <td>0.000000</td>\n",
       "      <td>0.542005</td>\n",
       "      <td>0.00000</td>\n",
       "      <td>99.457995</td>\n",
       "    </tr>\n",
       "    <tr>\n",
       "      <th>250</th>\n",
       "      <td>Yoakum</td>\n",
       "      <td>0.000000</td>\n",
       "      <td>0.0</td>\n",
       "      <td>0.000000</td>\n",
       "      <td>0.000000</td>\n",
       "      <td>0.00000</td>\n",
       "      <td>100.000000</td>\n",
       "    </tr>\n",
       "    <tr>\n",
       "      <th>251</th>\n",
       "      <td>Young</td>\n",
       "      <td>0.000000</td>\n",
       "      <td>0.0</td>\n",
       "      <td>0.000000</td>\n",
       "      <td>0.000000</td>\n",
       "      <td>0.00000</td>\n",
       "      <td>100.000000</td>\n",
       "    </tr>\n",
       "    <tr>\n",
       "      <th>252</th>\n",
       "      <td>Zapata</td>\n",
       "      <td>0.000000</td>\n",
       "      <td>0.0</td>\n",
       "      <td>0.000000</td>\n",
       "      <td>0.000000</td>\n",
       "      <td>0.00000</td>\n",
       "      <td>100.000000</td>\n",
       "    </tr>\n",
       "    <tr>\n",
       "      <th>253</th>\n",
       "      <td>Zavala</td>\n",
       "      <td>0.000000</td>\n",
       "      <td>0.0</td>\n",
       "      <td>0.000000</td>\n",
       "      <td>0.000000</td>\n",
       "      <td>0.00000</td>\n",
       "      <td>100.000000</td>\n",
       "    </tr>\n",
       "  </tbody>\n",
       "</table>\n",
       "<p>254 rows × 7 columns</p>\n",
       "</div>"
      ],
      "text/plain": [
       "INTOXICATION_DESC    COUNTY   ALCOHOL  ALCOHOL, DRUG      DRUG  MARIJUANA  \\\n",
       "0                  Anderson  0.000000            0.0  0.000000   0.000000   \n",
       "1                   Andrews  0.000000            0.0  0.000000   0.000000   \n",
       "2                  Angelina  0.082237            0.0  0.164474   0.000000   \n",
       "3                   Aransas  0.000000            0.0  0.000000   0.000000   \n",
       "4                    Archer  0.000000            0.0  1.041667   1.041667   \n",
       "..                      ...       ...            ...       ...        ...   \n",
       "249                    Wood  0.000000            0.0  0.000000   0.542005   \n",
       "250                  Yoakum  0.000000            0.0  0.000000   0.000000   \n",
       "251                   Young  0.000000            0.0  0.000000   0.000000   \n",
       "252                  Zapata  0.000000            0.0  0.000000   0.000000   \n",
       "253                  Zavala  0.000000            0.0  0.000000   0.000000   \n",
       "\n",
       "INTOXICATION_DESC  MEDICINAL  NO INTOXICATION  \n",
       "0                    0.39604        99.603960  \n",
       "1                    0.00000       100.000000  \n",
       "2                    0.00000        99.753289  \n",
       "3                    0.00000       100.000000  \n",
       "4                    0.00000        97.916667  \n",
       "..                       ...              ...  \n",
       "249                  0.00000        99.457995  \n",
       "250                  0.00000       100.000000  \n",
       "251                  0.00000       100.000000  \n",
       "252                  0.00000       100.000000  \n",
       "253                  0.00000       100.000000  \n",
       "\n",
       "[254 rows x 7 columns]"
      ]
     },
     "execution_count": 65,
     "metadata": {},
     "output_type": "execute_result"
    }
   ],
   "source": [
    "intoxication_df_2021"
   ]
  },
  {
   "cell_type": "code",
   "execution_count": 66,
   "id": "21522455",
   "metadata": {},
   "outputs": [],
   "source": [
    "texas_2019 = merger(texas_2019,intoxication_df_2019)\n",
    "texas_2020 = merger(texas_2020,intoxication_df_2020)\n",
    "texas_2021 = merger(texas_2021,intoxication_df_2021)"
   ]
  },
  {
   "cell_type": "code",
   "execution_count": 67,
   "id": "22086352",
   "metadata": {},
   "outputs": [
    {
     "data": {
      "text/plain": [
       "((241003, 102), (242151, 102), (243069, 102))"
      ]
     },
     "execution_count": 67,
     "metadata": {},
     "output_type": "execute_result"
    }
   ],
   "source": [
    "texas_2019.shape, texas_2020.shape, texas_2021.shape"
   ]
  },
  {
   "cell_type": "code",
   "execution_count": 68,
   "id": "0bf32ee1",
   "metadata": {},
   "outputs": [
    {
     "data": {
      "text/plain": [
       "Index(['Crash_ID', 'AGE', 'GENDER', 'DATE', 'TIME', 'COUNTY_FIPS', 'COUNTY',\n",
       "       'INTERSECTION', 'WEATHER', 'LIGHTING',\n",
       "       ...\n",
       "       'INJURY_DESC', 'NO_INJURY', 'YES_INJURY', 'INTOXICATION_DESC',\n",
       "       'ALCOHOL', 'ALCOHOL, DRUG', 'DRUG', 'MARIJUANA', 'MEDICINAL',\n",
       "       'NO INTOXICATION'],\n",
       "      dtype='object', length=102)"
      ]
     },
     "execution_count": 68,
     "metadata": {},
     "output_type": "execute_result"
    }
   ],
   "source": [
    "texas_2019.columns"
   ]
  },
  {
   "cell_type": "code",
   "execution_count": 69,
   "id": "72594042",
   "metadata": {},
   "outputs": [],
   "source": [
    "texas_2019['INJURY_COUNT_SUM'] = texas_2019.groupby(['COUNTY'])['INJURY_COUNT'].transform('sum')\n",
    "texas_2020['INJURY_COUNT_SUM'] = texas_2020.groupby(['COUNTY'])['INJURY_COUNT'].transform('sum')\n",
    "texas_2021['INJURY_COUNT_SUM'] = texas_2021.groupby(['COUNTY'])['INJURY_COUNT'].transform('sum')"
   ]
  },
  {
   "cell_type": "code",
   "execution_count": 70,
   "id": "3e786fa8",
   "metadata": {},
   "outputs": [
    {
     "data": {
      "text/plain": [
       "Index(['Crash_ID', 'AGE', 'GENDER', 'DATE', 'TIME', 'COUNTY_FIPS', 'COUNTY',\n",
       "       'INTERSECTION', 'WEATHER', 'LIGHTING',\n",
       "       ...\n",
       "       'NO_INJURY', 'YES_INJURY', 'INTOXICATION_DESC', 'ALCOHOL',\n",
       "       'ALCOHOL, DRUG', 'DRUG', 'MARIJUANA', 'MEDICINAL', 'NO INTOXICATION',\n",
       "       'INJURY_COUNT_SUM'],\n",
       "      dtype='object', length=103)"
      ]
     },
     "execution_count": 70,
     "metadata": {},
     "output_type": "execute_result"
    }
   ],
   "source": [
    "texas_2019.columns"
   ]
  },
  {
   "cell_type": "code",
   "execution_count": 71,
   "id": "202688cb",
   "metadata": {},
   "outputs": [],
   "source": [
    "texas_comb = pd.concat([texas_2019,texas_2020,texas_2021],axis=0)"
   ]
  },
  {
   "cell_type": "code",
   "execution_count": 72,
   "id": "7d0b8a80",
   "metadata": {},
   "outputs": [
    {
     "data": {
      "text/plain": [
       "(726223, 103)"
      ]
     },
     "execution_count": 72,
     "metadata": {},
     "output_type": "execute_result"
    }
   ],
   "source": [
    "texas_comb.shape"
   ]
  },
  {
   "cell_type": "code",
   "execution_count": 73,
   "id": "fd7866ef",
   "metadata": {},
   "outputs": [],
   "source": [
    "texas_comb['YEAR_CAT'] = np.where(texas_comb['YEAR']==2019,1,np.where(texas_comb['YEAR']==2020,2,np.where(texas_comb['YEAR']==2021,3,np.nan)))"
   ]
  },
  {
   "cell_type": "code",
   "execution_count": 74,
   "id": "7011f386",
   "metadata": {},
   "outputs": [],
   "source": [
    "texas_comb = pd.get_dummies(texas_comb,columns=['YEAR'])"
   ]
  },
  {
   "cell_type": "code",
   "execution_count": 75,
   "id": "deb28707",
   "metadata": {},
   "outputs": [
    {
     "data": {
      "text/html": [
       "<div>\n",
       "<style scoped>\n",
       "    .dataframe tbody tr th:only-of-type {\n",
       "        vertical-align: middle;\n",
       "    }\n",
       "\n",
       "    .dataframe tbody tr th {\n",
       "        vertical-align: top;\n",
       "    }\n",
       "\n",
       "    .dataframe thead th {\n",
       "        text-align: right;\n",
       "    }\n",
       "</style>\n",
       "<table border=\"1\" class=\"dataframe\">\n",
       "  <thead>\n",
       "    <tr style=\"text-align: right;\">\n",
       "      <th></th>\n",
       "      <th>Crash_ID</th>\n",
       "      <th>AGE</th>\n",
       "      <th>GENDER</th>\n",
       "      <th>DATE</th>\n",
       "      <th>TIME</th>\n",
       "      <th>COUNTY_FIPS</th>\n",
       "      <th>COUNTY</th>\n",
       "      <th>INTERSECTION</th>\n",
       "      <th>WEATHER</th>\n",
       "      <th>LIGHTING</th>\n",
       "      <th>...</th>\n",
       "      <th>ALCOHOL, DRUG</th>\n",
       "      <th>DRUG</th>\n",
       "      <th>MARIJUANA</th>\n",
       "      <th>MEDICINAL</th>\n",
       "      <th>NO INTOXICATION</th>\n",
       "      <th>INJURY_COUNT_SUM</th>\n",
       "      <th>YEAR_CAT</th>\n",
       "      <th>YEAR_2019</th>\n",
       "      <th>YEAR_2020</th>\n",
       "      <th>YEAR_2021</th>\n",
       "    </tr>\n",
       "  </thead>\n",
       "  <tbody>\n",
       "    <tr>\n",
       "      <th>0</th>\n",
       "      <td>15585669</td>\n",
       "      <td>27</td>\n",
       "      <td>2</td>\n",
       "      <td>2/10/2019</td>\n",
       "      <td>4:50 PM</td>\n",
       "      <td>48141</td>\n",
       "      <td>El Paso</td>\n",
       "      <td>1</td>\n",
       "      <td>11</td>\n",
       "      <td>1</td>\n",
       "      <td>...</td>\n",
       "      <td>0.000000</td>\n",
       "      <td>0.025940</td>\n",
       "      <td>0.038911</td>\n",
       "      <td>0.012970</td>\n",
       "      <td>99.753567</td>\n",
       "      <td>2850</td>\n",
       "      <td>1.0</td>\n",
       "      <td>1</td>\n",
       "      <td>0</td>\n",
       "      <td>0</td>\n",
       "    </tr>\n",
       "    <tr>\n",
       "      <th>1</th>\n",
       "      <td>16473665</td>\n",
       "      <td>48</td>\n",
       "      <td>1</td>\n",
       "      <td>6/15/2019</td>\n",
       "      <td>11:00 AM</td>\n",
       "      <td>48241</td>\n",
       "      <td>Jasper</td>\n",
       "      <td>1</td>\n",
       "      <td>11</td>\n",
       "      <td>1</td>\n",
       "      <td>...</td>\n",
       "      <td>0.000000</td>\n",
       "      <td>0.295858</td>\n",
       "      <td>0.295858</td>\n",
       "      <td>0.295858</td>\n",
       "      <td>99.112426</td>\n",
       "      <td>128</td>\n",
       "      <td>1.0</td>\n",
       "      <td>1</td>\n",
       "      <td>0</td>\n",
       "      <td>0</td>\n",
       "    </tr>\n",
       "    <tr>\n",
       "      <th>2</th>\n",
       "      <td>16585839</td>\n",
       "      <td>44</td>\n",
       "      <td>1</td>\n",
       "      <td>1/26/2019</td>\n",
       "      <td>12:40 PM</td>\n",
       "      <td>48113</td>\n",
       "      <td>Dallas</td>\n",
       "      <td>0</td>\n",
       "      <td>11</td>\n",
       "      <td>1</td>\n",
       "      <td>...</td>\n",
       "      <td>0.010487</td>\n",
       "      <td>0.115358</td>\n",
       "      <td>0.094384</td>\n",
       "      <td>0.068166</td>\n",
       "      <td>98.615699</td>\n",
       "      <td>9934</td>\n",
       "      <td>1.0</td>\n",
       "      <td>1</td>\n",
       "      <td>0</td>\n",
       "      <td>0</td>\n",
       "    </tr>\n",
       "    <tr>\n",
       "      <th>3</th>\n",
       "      <td>16824697</td>\n",
       "      <td>37</td>\n",
       "      <td>1</td>\n",
       "      <td>1/1/2019</td>\n",
       "      <td>4:53 AM</td>\n",
       "      <td>48113</td>\n",
       "      <td>Dallas</td>\n",
       "      <td>0</td>\n",
       "      <td>11</td>\n",
       "      <td>4</td>\n",
       "      <td>...</td>\n",
       "      <td>0.010487</td>\n",
       "      <td>0.115358</td>\n",
       "      <td>0.094384</td>\n",
       "      <td>0.068166</td>\n",
       "      <td>98.615699</td>\n",
       "      <td>9934</td>\n",
       "      <td>1.0</td>\n",
       "      <td>1</td>\n",
       "      <td>0</td>\n",
       "      <td>0</td>\n",
       "    </tr>\n",
       "    <tr>\n",
       "      <th>4</th>\n",
       "      <td>16824710</td>\n",
       "      <td>53</td>\n",
       "      <td>1</td>\n",
       "      <td>1/1/2019</td>\n",
       "      <td>2:57 AM</td>\n",
       "      <td>48303</td>\n",
       "      <td>Lubbock</td>\n",
       "      <td>1</td>\n",
       "      <td>12</td>\n",
       "      <td>4</td>\n",
       "      <td>...</td>\n",
       "      <td>0.000000</td>\n",
       "      <td>0.075273</td>\n",
       "      <td>0.112909</td>\n",
       "      <td>0.150546</td>\n",
       "      <td>99.623636</td>\n",
       "      <td>1596</td>\n",
       "      <td>1.0</td>\n",
       "      <td>1</td>\n",
       "      <td>0</td>\n",
       "      <td>0</td>\n",
       "    </tr>\n",
       "    <tr>\n",
       "      <th>...</th>\n",
       "      <td>...</td>\n",
       "      <td>...</td>\n",
       "      <td>...</td>\n",
       "      <td>...</td>\n",
       "      <td>...</td>\n",
       "      <td>...</td>\n",
       "      <td>...</td>\n",
       "      <td>...</td>\n",
       "      <td>...</td>\n",
       "      <td>...</td>\n",
       "      <td>...</td>\n",
       "      <td>...</td>\n",
       "      <td>...</td>\n",
       "      <td>...</td>\n",
       "      <td>...</td>\n",
       "      <td>...</td>\n",
       "      <td>...</td>\n",
       "      <td>...</td>\n",
       "      <td>...</td>\n",
       "      <td>...</td>\n",
       "      <td>...</td>\n",
       "    </tr>\n",
       "    <tr>\n",
       "      <th>243064</th>\n",
       "      <td>19834478</td>\n",
       "      <td>38</td>\n",
       "      <td>1</td>\n",
       "      <td>1/29/2021</td>\n",
       "      <td>3:57 PM</td>\n",
       "      <td>48019</td>\n",
       "      <td>Bandera</td>\n",
       "      <td>0</td>\n",
       "      <td>11</td>\n",
       "      <td>1</td>\n",
       "      <td>...</td>\n",
       "      <td>0.000000</td>\n",
       "      <td>0.000000</td>\n",
       "      <td>0.000000</td>\n",
       "      <td>0.000000</td>\n",
       "      <td>100.000000</td>\n",
       "      <td>59</td>\n",
       "      <td>3.0</td>\n",
       "      <td>0</td>\n",
       "      <td>0</td>\n",
       "      <td>1</td>\n",
       "    </tr>\n",
       "    <tr>\n",
       "      <th>243065</th>\n",
       "      <td>19850863</td>\n",
       "      <td>52</td>\n",
       "      <td>1</td>\n",
       "      <td>2/21/2021</td>\n",
       "      <td>12:22 PM</td>\n",
       "      <td>48019</td>\n",
       "      <td>Bandera</td>\n",
       "      <td>0</td>\n",
       "      <td>11</td>\n",
       "      <td>1</td>\n",
       "      <td>...</td>\n",
       "      <td>0.000000</td>\n",
       "      <td>0.000000</td>\n",
       "      <td>0.000000</td>\n",
       "      <td>0.000000</td>\n",
       "      <td>100.000000</td>\n",
       "      <td>59</td>\n",
       "      <td>3.0</td>\n",
       "      <td>0</td>\n",
       "      <td>0</td>\n",
       "      <td>1</td>\n",
       "    </tr>\n",
       "    <tr>\n",
       "      <th>243066</th>\n",
       "      <td>19906451</td>\n",
       "      <td>66</td>\n",
       "      <td>1</td>\n",
       "      <td>8/25/2021</td>\n",
       "      <td>7:32 PM</td>\n",
       "      <td>48479</td>\n",
       "      <td>Webb</td>\n",
       "      <td>0</td>\n",
       "      <td>11</td>\n",
       "      <td>1</td>\n",
       "      <td>...</td>\n",
       "      <td>0.000000</td>\n",
       "      <td>0.045872</td>\n",
       "      <td>0.000000</td>\n",
       "      <td>0.000000</td>\n",
       "      <td>99.816514</td>\n",
       "      <td>811</td>\n",
       "      <td>3.0</td>\n",
       "      <td>0</td>\n",
       "      <td>0</td>\n",
       "      <td>1</td>\n",
       "    </tr>\n",
       "    <tr>\n",
       "      <th>243067</th>\n",
       "      <td>20073914</td>\n",
       "      <td>18</td>\n",
       "      <td>1</td>\n",
       "      <td>2/23/2021</td>\n",
       "      <td>3:50 AM</td>\n",
       "      <td>48201</td>\n",
       "      <td>Harris</td>\n",
       "      <td>0</td>\n",
       "      <td>11</td>\n",
       "      <td>4</td>\n",
       "      <td>...</td>\n",
       "      <td>0.009031</td>\n",
       "      <td>0.069235</td>\n",
       "      <td>0.015051</td>\n",
       "      <td>0.051174</td>\n",
       "      <td>99.358820</td>\n",
       "      <td>13385</td>\n",
       "      <td>3.0</td>\n",
       "      <td>0</td>\n",
       "      <td>0</td>\n",
       "      <td>1</td>\n",
       "    </tr>\n",
       "    <tr>\n",
       "      <th>243068</th>\n",
       "      <td>20087367</td>\n",
       "      <td>35</td>\n",
       "      <td>1</td>\n",
       "      <td>3/14/2021</td>\n",
       "      <td>5:30 PM</td>\n",
       "      <td>48339</td>\n",
       "      <td>Montgomery</td>\n",
       "      <td>0</td>\n",
       "      <td>11</td>\n",
       "      <td>1</td>\n",
       "      <td>...</td>\n",
       "      <td>0.000000</td>\n",
       "      <td>0.165593</td>\n",
       "      <td>0.018399</td>\n",
       "      <td>0.055198</td>\n",
       "      <td>99.687213</td>\n",
       "      <td>2144</td>\n",
       "      <td>3.0</td>\n",
       "      <td>0</td>\n",
       "      <td>0</td>\n",
       "      <td>1</td>\n",
       "    </tr>\n",
       "  </tbody>\n",
       "</table>\n",
       "<p>726223 rows × 106 columns</p>\n",
       "</div>"
      ],
      "text/plain": [
       "        Crash_ID  AGE  GENDER       DATE      TIME  COUNTY_FIPS      COUNTY  \\\n",
       "0       15585669   27       2  2/10/2019   4:50 PM        48141     El Paso   \n",
       "1       16473665   48       1  6/15/2019  11:00 AM        48241      Jasper   \n",
       "2       16585839   44       1  1/26/2019  12:40 PM        48113      Dallas   \n",
       "3       16824697   37       1   1/1/2019   4:53 AM        48113      Dallas   \n",
       "4       16824710   53       1   1/1/2019   2:57 AM        48303     Lubbock   \n",
       "...          ...  ...     ...        ...       ...          ...         ...   \n",
       "243064  19834478   38       1  1/29/2021   3:57 PM        48019     Bandera   \n",
       "243065  19850863   52       1  2/21/2021  12:22 PM        48019     Bandera   \n",
       "243066  19906451   66       1  8/25/2021   7:32 PM        48479        Webb   \n",
       "243067  20073914   18       1  2/23/2021   3:50 AM        48201      Harris   \n",
       "243068  20087367   35       1  3/14/2021   5:30 PM        48339  Montgomery   \n",
       "\n",
       "        INTERSECTION  WEATHER  LIGHTING  ...  ALCOHOL, DRUG      DRUG  \\\n",
       "0                  1       11         1  ...       0.000000  0.025940   \n",
       "1                  1       11         1  ...       0.000000  0.295858   \n",
       "2                  0       11         1  ...       0.010487  0.115358   \n",
       "3                  0       11         4  ...       0.010487  0.115358   \n",
       "4                  1       12         4  ...       0.000000  0.075273   \n",
       "...              ...      ...       ...  ...            ...       ...   \n",
       "243064             0       11         1  ...       0.000000  0.000000   \n",
       "243065             0       11         1  ...       0.000000  0.000000   \n",
       "243066             0       11         1  ...       0.000000  0.045872   \n",
       "243067             0       11         4  ...       0.009031  0.069235   \n",
       "243068             0       11         1  ...       0.000000  0.165593   \n",
       "\n",
       "        MARIJUANA  MEDICINAL  NO INTOXICATION  INJURY_COUNT_SUM  YEAR_CAT  \\\n",
       "0        0.038911   0.012970        99.753567              2850       1.0   \n",
       "1        0.295858   0.295858        99.112426               128       1.0   \n",
       "2        0.094384   0.068166        98.615699              9934       1.0   \n",
       "3        0.094384   0.068166        98.615699              9934       1.0   \n",
       "4        0.112909   0.150546        99.623636              1596       1.0   \n",
       "...           ...        ...              ...               ...       ...   \n",
       "243064   0.000000   0.000000       100.000000                59       3.0   \n",
       "243065   0.000000   0.000000       100.000000                59       3.0   \n",
       "243066   0.000000   0.000000        99.816514               811       3.0   \n",
       "243067   0.015051   0.051174        99.358820             13385       3.0   \n",
       "243068   0.018399   0.055198        99.687213              2144       3.0   \n",
       "\n",
       "        YEAR_2019  YEAR_2020  YEAR_2021  \n",
       "0               1          0          0  \n",
       "1               1          0          0  \n",
       "2               1          0          0  \n",
       "3               1          0          0  \n",
       "4               1          0          0  \n",
       "...           ...        ...        ...  \n",
       "243064          0          0          1  \n",
       "243065          0          0          1  \n",
       "243066          0          0          1  \n",
       "243067          0          0          1  \n",
       "243068          0          0          1  \n",
       "\n",
       "[726223 rows x 106 columns]"
      ]
     },
     "execution_count": 75,
     "metadata": {},
     "output_type": "execute_result"
    }
   ],
   "source": [
    "texas_comb"
   ]
  },
  {
   "cell_type": "code",
   "execution_count": 76,
   "id": "6ac643b4",
   "metadata": {},
   "outputs": [],
   "source": [
    "texas_comb.to_csv('texas_comb.csv',index= False)"
   ]
  },
  {
   "cell_type": "code",
   "execution_count": null,
   "id": "425c6db9",
   "metadata": {},
   "outputs": [],
   "source": []
  }
 ],
 "metadata": {
  "kernelspec": {
   "display_name": "Python 3 (ipykernel)",
   "language": "python",
   "name": "python3"
  },
  "language_info": {
   "codemirror_mode": {
    "name": "ipython",
    "version": 3
   },
   "file_extension": ".py",
   "mimetype": "text/x-python",
   "name": "python",
   "nbconvert_exporter": "python",
   "pygments_lexer": "ipython3",
   "version": "3.11.9"
  }
 },
 "nbformat": 4,
 "nbformat_minor": 5
}
