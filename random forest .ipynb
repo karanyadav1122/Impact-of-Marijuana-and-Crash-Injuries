{
 "cells": [
  {
   "cell_type": "code",
   "execution_count": 1,
   "id": "fe21c155",
   "metadata": {},
   "outputs": [],
   "source": [
    "import numpy as np\n",
    "import pandas as pd"
   ]
  },
  {
   "cell_type": "code",
   "execution_count": 2,
   "id": "073701c8",
   "metadata": {},
   "outputs": [],
   "source": [
    "data = pd.read_csv('C:/Users/karan/TCO_County_Stand.csv')"
   ]
  },
  {
   "cell_type": "code",
   "execution_count": 3,
   "id": "05fe99b9",
   "metadata": {},
   "outputs": [
    {
     "data": {
      "text/plain": [
       "0"
      ]
     },
     "execution_count": 3,
     "metadata": {},
     "output_type": "execute_result"
    }
   ],
   "source": [
    "data.isna().sum().sum()"
   ]
  },
  {
   "cell_type": "code",
   "execution_count": 7,
   "id": "0a253839",
   "metadata": {},
   "outputs": [
    {
     "data": {
      "text/plain": [
       "Index(['WW1', 'WW3', 'WW2', 'WW4', 'WW9', 'WW10', 'WW5', 'WW6', 'WW7', 'WW8',\n",
       "       'LL1', 'LL2', 'LL3', 'LL4', 'LL5', 'LL6', 'LL7', 'LL8', 'HF1', 'HF2',\n",
       "       'RR1', 'RR2', 'RR4', 'RR3', 'RR5', 'RR6', 'RR7', 'RR8', 'YES_INJURY',\n",
       "       'IN1', 'IN2', 'IN3', 'IN4', 'IN5', 'IN6', 'YCA', 'Y19', 'Y20', 'Y21',\n",
       "       'ST2', 'ST3', 'ST1', 'Crash_ID', 'COUNTY_FIPS', 'CNT', 'INC', 'INO',\n",
       "       'INS', 'NO_INJURY', 'STATE', 'PPN', 'INR', 'ST', 'LOG_INR', 'INR_S'],\n",
       "      dtype='object')"
      ]
     },
     "execution_count": 7,
     "metadata": {},
     "output_type": "execute_result"
    }
   ],
   "source": [
    "data.columns"
   ]
  },
  {
   "cell_type": "code",
   "execution_count": 245,
   "id": "c4e7894c",
   "metadata": {},
   "outputs": [],
   "source": [
    "cols = ['WW1', 'WW3', 'WW2', 'WW4', 'WW10', 'WW5', 'WW6', 'WW7', 'WW8',\n",
    "       'LL1', 'LL2', 'LL3', 'LL4', 'LL6', 'LL7', 'LL8', 'HF1', 'HF2',\n",
    "       'RR1', 'RR2', 'RR4', 'RR3', 'RR5', 'RR6', 'RR7', 'RR8',\n",
    "       'IN1', 'IN2', 'IN3', 'IN4', 'IN5','ST2', 'ST3']"
   ]
  },
  {
   "cell_type": "code",
   "execution_count": 246,
   "id": "381e8617",
   "metadata": {},
   "outputs": [],
   "source": [
    "X = data[cols]"
   ]
  },
  {
   "cell_type": "code",
   "execution_count": 247,
   "id": "ddfc7b65",
   "metadata": {},
   "outputs": [],
   "source": [
    "y = data['INR']"
   ]
  },
  {
   "cell_type": "code",
   "execution_count": 248,
   "id": "1b942990",
   "metadata": {},
   "outputs": [],
   "source": [
    "from sklearn.model_selection import train_test_split"
   ]
  },
  {
   "cell_type": "code",
   "execution_count": 249,
   "id": "d11ce6e5",
   "metadata": {},
   "outputs": [],
   "source": [
    "from sklearn.ensemble import RandomForestRegressor"
   ]
  },
  {
   "cell_type": "code",
   "execution_count": 250,
   "id": "041aac45",
   "metadata": {},
   "outputs": [],
   "source": [
    "X_train, X_test, y_train, y_test = train_test_split(X,y, train_size= .75, random_state= 42)"
   ]
  },
  {
   "cell_type": "code",
   "execution_count": 251,
   "id": "f81ffbb2",
   "metadata": {},
   "outputs": [],
   "source": [
    "rf = RandomForestRegressor(random_state= 42)"
   ]
  },
  {
   "cell_type": "code",
   "execution_count": 252,
   "id": "ca0896e1",
   "metadata": {},
   "outputs": [
    {
     "data": {
      "text/html": [
       "<style>#sk-container-id-11 {color: black;}#sk-container-id-11 pre{padding: 0;}#sk-container-id-11 div.sk-toggleable {background-color: white;}#sk-container-id-11 label.sk-toggleable__label {cursor: pointer;display: block;width: 100%;margin-bottom: 0;padding: 0.3em;box-sizing: border-box;text-align: center;}#sk-container-id-11 label.sk-toggleable__label-arrow:before {content: \"▸\";float: left;margin-right: 0.25em;color: #696969;}#sk-container-id-11 label.sk-toggleable__label-arrow:hover:before {color: black;}#sk-container-id-11 div.sk-estimator:hover label.sk-toggleable__label-arrow:before {color: black;}#sk-container-id-11 div.sk-toggleable__content {max-height: 0;max-width: 0;overflow: hidden;text-align: left;background-color: #f0f8ff;}#sk-container-id-11 div.sk-toggleable__content pre {margin: 0.2em;color: black;border-radius: 0.25em;background-color: #f0f8ff;}#sk-container-id-11 input.sk-toggleable__control:checked~div.sk-toggleable__content {max-height: 200px;max-width: 100%;overflow: auto;}#sk-container-id-11 input.sk-toggleable__control:checked~label.sk-toggleable__label-arrow:before {content: \"▾\";}#sk-container-id-11 div.sk-estimator input.sk-toggleable__control:checked~label.sk-toggleable__label {background-color: #d4ebff;}#sk-container-id-11 div.sk-label input.sk-toggleable__control:checked~label.sk-toggleable__label {background-color: #d4ebff;}#sk-container-id-11 input.sk-hidden--visually {border: 0;clip: rect(1px 1px 1px 1px);clip: rect(1px, 1px, 1px, 1px);height: 1px;margin: -1px;overflow: hidden;padding: 0;position: absolute;width: 1px;}#sk-container-id-11 div.sk-estimator {font-family: monospace;background-color: #f0f8ff;border: 1px dotted black;border-radius: 0.25em;box-sizing: border-box;margin-bottom: 0.5em;}#sk-container-id-11 div.sk-estimator:hover {background-color: #d4ebff;}#sk-container-id-11 div.sk-parallel-item::after {content: \"\";width: 100%;border-bottom: 1px solid gray;flex-grow: 1;}#sk-container-id-11 div.sk-label:hover label.sk-toggleable__label {background-color: #d4ebff;}#sk-container-id-11 div.sk-serial::before {content: \"\";position: absolute;border-left: 1px solid gray;box-sizing: border-box;top: 0;bottom: 0;left: 50%;z-index: 0;}#sk-container-id-11 div.sk-serial {display: flex;flex-direction: column;align-items: center;background-color: white;padding-right: 0.2em;padding-left: 0.2em;position: relative;}#sk-container-id-11 div.sk-item {position: relative;z-index: 1;}#sk-container-id-11 div.sk-parallel {display: flex;align-items: stretch;justify-content: center;background-color: white;position: relative;}#sk-container-id-11 div.sk-item::before, #sk-container-id-11 div.sk-parallel-item::before {content: \"\";position: absolute;border-left: 1px solid gray;box-sizing: border-box;top: 0;bottom: 0;left: 50%;z-index: -1;}#sk-container-id-11 div.sk-parallel-item {display: flex;flex-direction: column;z-index: 1;position: relative;background-color: white;}#sk-container-id-11 div.sk-parallel-item:first-child::after {align-self: flex-end;width: 50%;}#sk-container-id-11 div.sk-parallel-item:last-child::after {align-self: flex-start;width: 50%;}#sk-container-id-11 div.sk-parallel-item:only-child::after {width: 0;}#sk-container-id-11 div.sk-dashed-wrapped {border: 1px dashed gray;margin: 0 0.4em 0.5em 0.4em;box-sizing: border-box;padding-bottom: 0.4em;background-color: white;}#sk-container-id-11 div.sk-label label {font-family: monospace;font-weight: bold;display: inline-block;line-height: 1.2em;}#sk-container-id-11 div.sk-label-container {text-align: center;}#sk-container-id-11 div.sk-container {/* jupyter's `normalize.less` sets `[hidden] { display: none; }` but bootstrap.min.css set `[hidden] { display: none !important; }` so we also need the `!important` here to be able to override the default hidden behavior on the sphinx rendered scikit-learn.org. See: https://github.com/scikit-learn/scikit-learn/issues/21755 */display: inline-block !important;position: relative;}#sk-container-id-11 div.sk-text-repr-fallback {display: none;}</style><div id=\"sk-container-id-11\" class=\"sk-top-container\"><div class=\"sk-text-repr-fallback\"><pre>RandomForestRegressor(random_state=42)</pre><b>In a Jupyter environment, please rerun this cell to show the HTML representation or trust the notebook. <br />On GitHub, the HTML representation is unable to render, please try loading this page with nbviewer.org.</b></div><div class=\"sk-container\" hidden><div class=\"sk-item\"><div class=\"sk-estimator sk-toggleable\"><input class=\"sk-toggleable__control sk-hidden--visually\" id=\"sk-estimator-id-11\" type=\"checkbox\" checked><label for=\"sk-estimator-id-11\" class=\"sk-toggleable__label sk-toggleable__label-arrow\">RandomForestRegressor</label><div class=\"sk-toggleable__content\"><pre>RandomForestRegressor(random_state=42)</pre></div></div></div></div></div>"
      ],
      "text/plain": [
       "RandomForestRegressor(random_state=42)"
      ]
     },
     "execution_count": 252,
     "metadata": {},
     "output_type": "execute_result"
    }
   ],
   "source": [
    "rf.fit(X_train,y_train)"
   ]
  },
  {
   "cell_type": "code",
   "execution_count": 253,
   "id": "e8adef5d",
   "metadata": {},
   "outputs": [],
   "source": [
    "y_pred = rf.predict(X_test)"
   ]
  },
  {
   "cell_type": "code",
   "execution_count": 254,
   "id": "8d49505b",
   "metadata": {},
   "outputs": [],
   "source": [
    "from sklearn.metrics import r2_score"
   ]
  },
  {
   "cell_type": "code",
   "execution_count": 255,
   "id": "e76a39fe",
   "metadata": {},
   "outputs": [
    {
     "data": {
      "text/plain": [
       "0.8482250212434937"
      ]
     },
     "execution_count": 255,
     "metadata": {},
     "output_type": "execute_result"
    }
   ],
   "source": [
    "train = rf.score(X_train,y_train)\n",
    "train"
   ]
  },
  {
   "cell_type": "code",
   "execution_count": 256,
   "id": "a1204278",
   "metadata": {},
   "outputs": [
    {
     "data": {
      "text/plain": [
       "-0.03104637012344913"
      ]
     },
     "execution_count": 256,
     "metadata": {},
     "output_type": "execute_result"
    }
   ],
   "source": [
    "test = rf.score(X_test,y_test)\n",
    "test"
   ]
  },
  {
   "cell_type": "code",
   "execution_count": 257,
   "id": "093cc519",
   "metadata": {},
   "outputs": [
    {
     "data": {
      "text/plain": [
       "-0.03104637012344913"
      ]
     },
     "execution_count": 257,
     "metadata": {},
     "output_type": "execute_result"
    }
   ],
   "source": [
    "r2 = r2_score(y_test,y_pred)\n",
    "r2"
   ]
  },
  {
   "cell_type": "code",
   "execution_count": 258,
   "id": "df65d944",
   "metadata": {},
   "outputs": [],
   "source": [
    "from sklearn.metrics import mean_squared_error,mean_absolute_error"
   ]
  },
  {
   "cell_type": "code",
   "execution_count": 259,
   "id": "5a4af9b8",
   "metadata": {},
   "outputs": [
    {
     "data": {
      "text/plain": [
       "2637095.9305512393"
      ]
     },
     "execution_count": 259,
     "metadata": {},
     "output_type": "execute_result"
    }
   ],
   "source": [
    "mse = mean_squared_error(y_test,y_pred)\n",
    "mse"
   ]
  },
  {
   "cell_type": "code",
   "execution_count": 260,
   "id": "5cbb2262",
   "metadata": {},
   "outputs": [
    {
     "data": {
      "text/plain": [
       "435.22451493757814"
      ]
     },
     "execution_count": 260,
     "metadata": {},
     "output_type": "execute_result"
    }
   ],
   "source": [
    "mae = mean_absolute_error(y_test, y_pred)\n",
    "mae"
   ]
  },
  {
   "cell_type": "code",
   "execution_count": 261,
   "id": "d1ea1eab",
   "metadata": {},
   "outputs": [
    {
     "data": {
      "text/plain": [
       "1623.9137694321207"
      ]
     },
     "execution_count": 261,
     "metadata": {},
     "output_type": "execute_result"
    }
   ],
   "source": [
    "rmse = np.sqrt(mse)\n",
    "rmse"
   ]
  },
  {
   "cell_type": "code",
   "execution_count": 262,
   "id": "47821e05",
   "metadata": {},
   "outputs": [],
   "source": [
    "importance = rf.feature_importances_"
   ]
  },
  {
   "cell_type": "code",
   "execution_count": 263,
   "id": "313647a9",
   "metadata": {},
   "outputs": [],
   "source": [
    "feature_importances = pd.DataFrame({\n",
    "    'Feature': cols,\n",
    "    'Importance': importance\n",
    "})\n"
   ]
  },
  {
   "cell_type": "code",
   "execution_count": 264,
   "id": "d1d7c696",
   "metadata": {},
   "outputs": [],
   "source": [
    "feature_importances = feature_importances.sort_values(by='Importance',ascending= False)"
   ]
  },
  {
   "cell_type": "code",
   "execution_count": 265,
   "id": "1c54c099",
   "metadata": {},
   "outputs": [
    {
     "data": {
      "text/html": [
       "<div>\n",
       "<style scoped>\n",
       "    .dataframe tbody tr th:only-of-type {\n",
       "        vertical-align: middle;\n",
       "    }\n",
       "\n",
       "    .dataframe tbody tr th {\n",
       "        vertical-align: top;\n",
       "    }\n",
       "\n",
       "    .dataframe thead th {\n",
       "        text-align: right;\n",
       "    }\n",
       "</style>\n",
       "<table border=\"1\" class=\"dataframe\">\n",
       "  <thead>\n",
       "    <tr style=\"text-align: right;\">\n",
       "      <th></th>\n",
       "      <th>Feature</th>\n",
       "      <th>Importance</th>\n",
       "    </tr>\n",
       "  </thead>\n",
       "  <tbody>\n",
       "    <tr>\n",
       "      <th>21</th>\n",
       "      <td>RR3</td>\n",
       "      <td>2.190131e-01</td>\n",
       "    </tr>\n",
       "    <tr>\n",
       "      <th>4</th>\n",
       "      <td>WW10</td>\n",
       "      <td>1.869161e-01</td>\n",
       "    </tr>\n",
       "    <tr>\n",
       "      <th>25</th>\n",
       "      <td>RR8</td>\n",
       "      <td>1.565733e-01</td>\n",
       "    </tr>\n",
       "    <tr>\n",
       "      <th>14</th>\n",
       "      <td>LL7</td>\n",
       "      <td>8.863476e-02</td>\n",
       "    </tr>\n",
       "    <tr>\n",
       "      <th>1</th>\n",
       "      <td>WW3</td>\n",
       "      <td>3.892587e-02</td>\n",
       "    </tr>\n",
       "    <tr>\n",
       "      <th>10</th>\n",
       "      <td>LL2</td>\n",
       "      <td>3.486724e-02</td>\n",
       "    </tr>\n",
       "    <tr>\n",
       "      <th>9</th>\n",
       "      <td>LL1</td>\n",
       "      <td>2.986059e-02</td>\n",
       "    </tr>\n",
       "    <tr>\n",
       "      <th>16</th>\n",
       "      <td>HF1</td>\n",
       "      <td>2.696314e-02</td>\n",
       "    </tr>\n",
       "    <tr>\n",
       "      <th>20</th>\n",
       "      <td>RR4</td>\n",
       "      <td>2.545679e-02</td>\n",
       "    </tr>\n",
       "    <tr>\n",
       "      <th>5</th>\n",
       "      <td>WW5</td>\n",
       "      <td>2.168785e-02</td>\n",
       "    </tr>\n",
       "    <tr>\n",
       "      <th>12</th>\n",
       "      <td>LL4</td>\n",
       "      <td>1.821122e-02</td>\n",
       "    </tr>\n",
       "    <tr>\n",
       "      <th>7</th>\n",
       "      <td>WW7</td>\n",
       "      <td>1.542972e-02</td>\n",
       "    </tr>\n",
       "    <tr>\n",
       "      <th>2</th>\n",
       "      <td>WW2</td>\n",
       "      <td>1.511913e-02</td>\n",
       "    </tr>\n",
       "    <tr>\n",
       "      <th>18</th>\n",
       "      <td>RR1</td>\n",
       "      <td>1.498535e-02</td>\n",
       "    </tr>\n",
       "    <tr>\n",
       "      <th>3</th>\n",
       "      <td>WW4</td>\n",
       "      <td>1.488370e-02</td>\n",
       "    </tr>\n",
       "    <tr>\n",
       "      <th>13</th>\n",
       "      <td>LL6</td>\n",
       "      <td>1.322198e-02</td>\n",
       "    </tr>\n",
       "    <tr>\n",
       "      <th>6</th>\n",
       "      <td>WW6</td>\n",
       "      <td>1.253100e-02</td>\n",
       "    </tr>\n",
       "    <tr>\n",
       "      <th>0</th>\n",
       "      <td>WW1</td>\n",
       "      <td>1.215396e-02</td>\n",
       "    </tr>\n",
       "    <tr>\n",
       "      <th>26</th>\n",
       "      <td>IN1</td>\n",
       "      <td>9.761619e-03</td>\n",
       "    </tr>\n",
       "    <tr>\n",
       "      <th>32</th>\n",
       "      <td>ST3</td>\n",
       "      <td>8.204455e-03</td>\n",
       "    </tr>\n",
       "    <tr>\n",
       "      <th>17</th>\n",
       "      <td>HF2</td>\n",
       "      <td>7.925610e-03</td>\n",
       "    </tr>\n",
       "    <tr>\n",
       "      <th>30</th>\n",
       "      <td>IN5</td>\n",
       "      <td>5.650156e-03</td>\n",
       "    </tr>\n",
       "    <tr>\n",
       "      <th>27</th>\n",
       "      <td>IN2</td>\n",
       "      <td>4.059347e-03</td>\n",
       "    </tr>\n",
       "    <tr>\n",
       "      <th>11</th>\n",
       "      <td>LL3</td>\n",
       "      <td>3.912710e-03</td>\n",
       "    </tr>\n",
       "    <tr>\n",
       "      <th>28</th>\n",
       "      <td>IN3</td>\n",
       "      <td>3.802326e-03</td>\n",
       "    </tr>\n",
       "    <tr>\n",
       "      <th>29</th>\n",
       "      <td>IN4</td>\n",
       "      <td>2.887783e-03</td>\n",
       "    </tr>\n",
       "    <tr>\n",
       "      <th>31</th>\n",
       "      <td>ST2</td>\n",
       "      <td>2.306407e-03</td>\n",
       "    </tr>\n",
       "    <tr>\n",
       "      <th>15</th>\n",
       "      <td>LL8</td>\n",
       "      <td>1.726171e-03</td>\n",
       "    </tr>\n",
       "    <tr>\n",
       "      <th>22</th>\n",
       "      <td>RR5</td>\n",
       "      <td>1.595398e-03</td>\n",
       "    </tr>\n",
       "    <tr>\n",
       "      <th>19</th>\n",
       "      <td>RR2</td>\n",
       "      <td>1.402170e-03</td>\n",
       "    </tr>\n",
       "    <tr>\n",
       "      <th>8</th>\n",
       "      <td>WW8</td>\n",
       "      <td>9.794823e-04</td>\n",
       "    </tr>\n",
       "    <tr>\n",
       "      <th>24</th>\n",
       "      <td>RR7</td>\n",
       "      <td>3.512991e-04</td>\n",
       "    </tr>\n",
       "    <tr>\n",
       "      <th>23</th>\n",
       "      <td>RR6</td>\n",
       "      <td>2.237206e-07</td>\n",
       "    </tr>\n",
       "  </tbody>\n",
       "</table>\n",
       "</div>"
      ],
      "text/plain": [
       "   Feature    Importance\n",
       "21     RR3  2.190131e-01\n",
       "4     WW10  1.869161e-01\n",
       "25     RR8  1.565733e-01\n",
       "14     LL7  8.863476e-02\n",
       "1      WW3  3.892587e-02\n",
       "10     LL2  3.486724e-02\n",
       "9      LL1  2.986059e-02\n",
       "16     HF1  2.696314e-02\n",
       "20     RR4  2.545679e-02\n",
       "5      WW5  2.168785e-02\n",
       "12     LL4  1.821122e-02\n",
       "7      WW7  1.542972e-02\n",
       "2      WW2  1.511913e-02\n",
       "18     RR1  1.498535e-02\n",
       "3      WW4  1.488370e-02\n",
       "13     LL6  1.322198e-02\n",
       "6      WW6  1.253100e-02\n",
       "0      WW1  1.215396e-02\n",
       "26     IN1  9.761619e-03\n",
       "32     ST3  8.204455e-03\n",
       "17     HF2  7.925610e-03\n",
       "30     IN5  5.650156e-03\n",
       "27     IN2  4.059347e-03\n",
       "11     LL3  3.912710e-03\n",
       "28     IN3  3.802326e-03\n",
       "29     IN4  2.887783e-03\n",
       "31     ST2  2.306407e-03\n",
       "15     LL8  1.726171e-03\n",
       "22     RR5  1.595398e-03\n",
       "19     RR2  1.402170e-03\n",
       "8      WW8  9.794823e-04\n",
       "24     RR7  3.512991e-04\n",
       "23     RR6  2.237206e-07"
      ]
     },
     "execution_count": 265,
     "metadata": {},
     "output_type": "execute_result"
    }
   ],
   "source": [
    "feature_importances"
   ]
  },
  {
   "cell_type": "code",
   "execution_count": 266,
   "id": "22dee6f9",
   "metadata": {},
   "outputs": [],
   "source": [
    "import matplotlib.pyplot as plt"
   ]
  },
  {
   "cell_type": "code",
   "execution_count": 267,
   "id": "b5a99984",
   "metadata": {},
   "outputs": [
    {
     "data": {
      "image/png": "[encoded data removed]",
      "text/plain": [
       "<Figure size 1200x800 with 1 Axes>"
      ]
     },
     "metadata": {},
     "output_type": "display_data"
    }
   ],
   "source": [
    "plt.figure(figsize=(12, 8))  # Increase the figure size for better visibility\n",
    "plt.bar(feature_importances['Feature'], feature_importances['Importance'], color='skyblue')\n",
    "plt.xlabel('Feature')\n",
    "plt.ylabel('Importance')\n",
    "plt.title('Feature Importances in RandomForestRegressor')\n",
    "plt.xticks(rotation=90)  # Rotate x-axis labels for better readability\n",
    "plt.yscale('log')  # Set the y-axis to a logarithmic scale\n",
    "plt.subplots_adjust(bottom=0.2)  # Adjust the bottom margin to provide space for x-axis labels\n",
    "plt.show()"
   ]
  },
  {
   "cell_type": "code",
   "execution_count": 268,
   "id": "a31ad787",
   "metadata": {},
   "outputs": [
    {
     "data": {
      "image/png": "[encoded data removed]",
      "text/plain": [
       "<Figure size 1200x800 with 1 Axes>"
      ]
     },
     "metadata": {},
     "output_type": "display_data"
    }
   ],
   "source": [
    "plt.figure(figsize=(12, 8))  # Increase the figure size for better visibility\n",
    "plt.bar(feature_importances['Feature'], feature_importances['Importance'], color='skyblue')\n",
    "plt.xlabel('Feature')\n",
    "plt.ylabel('Importance')\n",
    "plt.title('Feature Importances in RandomForestRegressor')\n",
    "plt.xticks(rotation=90)  # Rotate x-axis labels for better readability\n",
    "plt.subplots_adjust(bottom=0.2)  # Adjust the bottom margin to provide space for x-axis labels\n",
    "plt.show()"
   ]
  },
  {
   "cell_type": "code",
   "execution_count": 269,
   "id": "f816bd52",
   "metadata": {},
   "outputs": [
    {
     "data": {
      "text/html": [
       "<div>\n",
       "<style scoped>\n",
       "    .dataframe tbody tr th:only-of-type {\n",
       "        vertical-align: middle;\n",
       "    }\n",
       "\n",
       "    .dataframe tbody tr th {\n",
       "        vertical-align: top;\n",
       "    }\n",
       "\n",
       "    .dataframe thead th {\n",
       "        text-align: right;\n",
       "    }\n",
       "</style>\n",
       "<table border=\"1\" class=\"dataframe\">\n",
       "  <thead>\n",
       "    <tr style=\"text-align: right;\">\n",
       "      <th></th>\n",
       "      <th>WW1</th>\n",
       "      <th>WW3</th>\n",
       "      <th>WW2</th>\n",
       "      <th>WW4</th>\n",
       "      <th>WW9</th>\n",
       "      <th>WW10</th>\n",
       "      <th>WW5</th>\n",
       "      <th>WW6</th>\n",
       "      <th>WW7</th>\n",
       "      <th>WW8</th>\n",
       "      <th>...</th>\n",
       "      <th>PPN</th>\n",
       "      <th>INR</th>\n",
       "      <th>ST</th>\n",
       "      <th>LOG_INR</th>\n",
       "      <th>INR_S</th>\n",
       "      <th>AIN</th>\n",
       "      <th>ADN</th>\n",
       "      <th>DIN</th>\n",
       "      <th>MIN</th>\n",
       "      <th>MDIN</th>\n",
       "    </tr>\n",
       "  </thead>\n",
       "  <tbody>\n",
       "    <tr>\n",
       "      <th>0</th>\n",
       "      <td>0.200252</td>\n",
       "      <td>1.105542</td>\n",
       "      <td>-0.942190</td>\n",
       "      <td>-0.588432</td>\n",
       "      <td>-0.345183</td>\n",
       "      <td>-0.878377</td>\n",
       "      <td>-0.233064</td>\n",
       "      <td>-0.425076</td>\n",
       "      <td>-0.481266</td>\n",
       "      <td>1.393408</td>\n",
       "      <td>...</td>\n",
       "      <td>839238</td>\n",
       "      <td>339.593774</td>\n",
       "      <td>1</td>\n",
       "      <td>5.827750</td>\n",
       "      <td>-0.217915</td>\n",
       "      <td>0.307868</td>\n",
       "      <td>0.047436</td>\n",
       "      <td>0.034178</td>\n",
       "      <td>0.352656</td>\n",
       "      <td>-0.082078</td>\n",
       "    </tr>\n",
       "    <tr>\n",
       "      <th>1</th>\n",
       "      <td>-0.159645</td>\n",
       "      <td>0.169683</td>\n",
       "      <td>0.487120</td>\n",
       "      <td>-0.448252</td>\n",
       "      <td>-0.351857</td>\n",
       "      <td>0.875734</td>\n",
       "      <td>-0.336131</td>\n",
       "      <td>-0.431485</td>\n",
       "      <td>-0.483703</td>\n",
       "      <td>0.392183</td>\n",
       "      <td>...</td>\n",
       "      <td>35529</td>\n",
       "      <td>360.269076</td>\n",
       "      <td>1</td>\n",
       "      <td>5.886851</td>\n",
       "      <td>-0.200763</td>\n",
       "      <td>0.307868</td>\n",
       "      <td>0.047436</td>\n",
       "      <td>0.034178</td>\n",
       "      <td>0.352656</td>\n",
       "      <td>-0.082078</td>\n",
       "    </tr>\n",
       "    <tr>\n",
       "      <th>2</th>\n",
       "      <td>-0.153825</td>\n",
       "      <td>0.411230</td>\n",
       "      <td>0.025274</td>\n",
       "      <td>-0.501145</td>\n",
       "      <td>-0.349574</td>\n",
       "      <td>0.605984</td>\n",
       "      <td>-0.328777</td>\n",
       "      <td>-0.379666</td>\n",
       "      <td>-0.480748</td>\n",
       "      <td>0.246918</td>\n",
       "      <td>...</td>\n",
       "      <td>2635516</td>\n",
       "      <td>376.928085</td>\n",
       "      <td>1</td>\n",
       "      <td>5.932054</td>\n",
       "      <td>-0.186943</td>\n",
       "      <td>0.307868</td>\n",
       "      <td>0.047436</td>\n",
       "      <td>0.034178</td>\n",
       "      <td>0.352656</td>\n",
       "      <td>-0.082078</td>\n",
       "    </tr>\n",
       "    <tr>\n",
       "      <th>3</th>\n",
       "      <td>0.383412</td>\n",
       "      <td>0.600505</td>\n",
       "      <td>0.057832</td>\n",
       "      <td>-0.113251</td>\n",
       "      <td>-0.345898</td>\n",
       "      <td>-0.563845</td>\n",
       "      <td>-0.212982</td>\n",
       "      <td>-0.189726</td>\n",
       "      <td>-0.476633</td>\n",
       "      <td>0.474526</td>\n",
       "      <td>...</td>\n",
       "      <td>310569</td>\n",
       "      <td>513.895463</td>\n",
       "      <td>1</td>\n",
       "      <td>6.242020</td>\n",
       "      <td>-0.073317</td>\n",
       "      <td>0.307868</td>\n",
       "      <td>0.047436</td>\n",
       "      <td>0.034178</td>\n",
       "      <td>0.352656</td>\n",
       "      <td>-0.082078</td>\n",
       "    </tr>\n",
       "    <tr>\n",
       "      <th>4</th>\n",
       "      <td>-0.156354</td>\n",
       "      <td>0.300858</td>\n",
       "      <td>0.431593</td>\n",
       "      <td>-0.384729</td>\n",
       "      <td>-0.351153</td>\n",
       "      <td>0.285797</td>\n",
       "      <td>-0.329199</td>\n",
       "      <td>-0.428554</td>\n",
       "      <td>-0.483703</td>\n",
       "      <td>1.720866</td>\n",
       "      <td>...</td>\n",
       "      <td>4713325</td>\n",
       "      <td>286.994850</td>\n",
       "      <td>1</td>\n",
       "      <td>5.659464</td>\n",
       "      <td>-0.261550</td>\n",
       "      <td>0.307868</td>\n",
       "      <td>0.047436</td>\n",
       "      <td>0.034178</td>\n",
       "      <td>0.352656</td>\n",
       "      <td>-0.082078</td>\n",
       "    </tr>\n",
       "    <tr>\n",
       "      <th>...</th>\n",
       "      <td>...</td>\n",
       "      <td>...</td>\n",
       "      <td>...</td>\n",
       "      <td>...</td>\n",
       "      <td>...</td>\n",
       "      <td>...</td>\n",
       "      <td>...</td>\n",
       "      <td>...</td>\n",
       "      <td>...</td>\n",
       "      <td>...</td>\n",
       "      <td>...</td>\n",
       "      <td>...</td>\n",
       "      <td>...</td>\n",
       "      <td>...</td>\n",
       "      <td>...</td>\n",
       "      <td>...</td>\n",
       "      <td>...</td>\n",
       "      <td>...</td>\n",
       "      <td>...</td>\n",
       "      <td>...</td>\n",
       "      <td>...</td>\n",
       "    </tr>\n",
       "    <tr>\n",
       "      <th>1180</th>\n",
       "      <td>-0.159645</td>\n",
       "      <td>0.407729</td>\n",
       "      <td>-0.192016</td>\n",
       "      <td>0.161832</td>\n",
       "      <td>-0.351857</td>\n",
       "      <td>-0.417156</td>\n",
       "      <td>-0.336131</td>\n",
       "      <td>-0.431485</td>\n",
       "      <td>0.897509</td>\n",
       "      <td>-0.176092</td>\n",
       "      <td>...</td>\n",
       "      <td>6442</td>\n",
       "      <td>388.078237</td>\n",
       "      <td>2</td>\n",
       "      <td>5.961207</td>\n",
       "      <td>-0.177693</td>\n",
       "      <td>0.307868</td>\n",
       "      <td>0.047436</td>\n",
       "      <td>0.034178</td>\n",
       "      <td>0.352656</td>\n",
       "      <td>-0.082078</td>\n",
       "    </tr>\n",
       "    <tr>\n",
       "      <th>1181</th>\n",
       "      <td>-0.159645</td>\n",
       "      <td>0.499528</td>\n",
       "      <td>-1.463749</td>\n",
       "      <td>-0.601903</td>\n",
       "      <td>-0.351857</td>\n",
       "      <td>-0.894357</td>\n",
       "      <td>9.579156</td>\n",
       "      <td>-0.431485</td>\n",
       "      <td>-0.483703</td>\n",
       "      <td>-0.176092</td>\n",
       "      <td>...</td>\n",
       "      <td>3490</td>\n",
       "      <td>286.532951</td>\n",
       "      <td>2</td>\n",
       "      <td>5.657854</td>\n",
       "      <td>-0.261933</td>\n",
       "      <td>0.307868</td>\n",
       "      <td>0.047436</td>\n",
       "      <td>0.034178</td>\n",
       "      <td>0.352656</td>\n",
       "      <td>-0.082078</td>\n",
       "    </tr>\n",
       "    <tr>\n",
       "      <th>1182</th>\n",
       "      <td>9.491873</td>\n",
       "      <td>0.602662</td>\n",
       "      <td>-0.993761</td>\n",
       "      <td>-0.601903</td>\n",
       "      <td>-0.351857</td>\n",
       "      <td>-1.401383</td>\n",
       "      <td>-0.336131</td>\n",
       "      <td>-0.431485</td>\n",
       "      <td>1.149731</td>\n",
       "      <td>-0.176092</td>\n",
       "      <td>...</td>\n",
       "      <td>7395</td>\n",
       "      <td>351.588911</td>\n",
       "      <td>2</td>\n",
       "      <td>5.862463</td>\n",
       "      <td>-0.207964</td>\n",
       "      <td>0.307868</td>\n",
       "      <td>0.047436</td>\n",
       "      <td>0.034178</td>\n",
       "      <td>0.352656</td>\n",
       "      <td>-0.082078</td>\n",
       "    </tr>\n",
       "    <tr>\n",
       "      <th>1183</th>\n",
       "      <td>-0.159645</td>\n",
       "      <td>0.948974</td>\n",
       "      <td>-1.463749</td>\n",
       "      <td>2.860363</td>\n",
       "      <td>-0.351857</td>\n",
       "      <td>-1.401383</td>\n",
       "      <td>2.780103</td>\n",
       "      <td>-0.431485</td>\n",
       "      <td>-0.483703</td>\n",
       "      <td>-0.176092</td>\n",
       "      <td>...</td>\n",
       "      <td>1719</td>\n",
       "      <td>523.560209</td>\n",
       "      <td>2</td>\n",
       "      <td>6.260652</td>\n",
       "      <td>-0.065299</td>\n",
       "      <td>0.307868</td>\n",
       "      <td>0.047436</td>\n",
       "      <td>0.034178</td>\n",
       "      <td>0.352656</td>\n",
       "      <td>-0.082078</td>\n",
       "    </tr>\n",
       "    <tr>\n",
       "      <th>1184</th>\n",
       "      <td>-0.159645</td>\n",
       "      <td>1.498297</td>\n",
       "      <td>-1.463749</td>\n",
       "      <td>-0.601903</td>\n",
       "      <td>-0.351857</td>\n",
       "      <td>-1.401383</td>\n",
       "      <td>-0.336131</td>\n",
       "      <td>-0.431485</td>\n",
       "      <td>-0.483703</td>\n",
       "      <td>-0.176092</td>\n",
       "      <td>...</td>\n",
       "      <td>2326</td>\n",
       "      <td>85.984523</td>\n",
       "      <td>2</td>\n",
       "      <td>4.454167</td>\n",
       "      <td>-0.428304</td>\n",
       "      <td>0.307868</td>\n",
       "      <td>0.047436</td>\n",
       "      <td>0.034178</td>\n",
       "      <td>0.352656</td>\n",
       "      <td>-0.082078</td>\n",
       "    </tr>\n",
       "  </tbody>\n",
       "</table>\n",
       "<p>1185 rows × 60 columns</p>\n",
       "</div>"
      ],
      "text/plain": [
       "           WW1       WW3       WW2       WW4       WW9      WW10       WW5  \\\n",
       "0     0.200252  1.105542 -0.942190 -0.588432 -0.345183 -0.878377 -0.233064   \n",
       "1    -0.159645  0.169683  0.487120 -0.448252 -0.351857  0.875734 -0.336131   \n",
       "2    -0.153825  0.411230  0.025274 -0.501145 -0.349574  0.605984 -0.328777   \n",
       "3     0.383412  0.600505  0.057832 -0.113251 -0.345898 -0.563845 -0.212982   \n",
       "4    -0.156354  0.300858  0.431593 -0.384729 -0.351153  0.285797 -0.329199   \n",
       "...        ...       ...       ...       ...       ...       ...       ...   \n",
       "1180 -0.159645  0.407729 -0.192016  0.161832 -0.351857 -0.417156 -0.336131   \n",
       "1181 -0.159645  0.499528 -1.463749 -0.601903 -0.351857 -0.894357  9.579156   \n",
       "1182  9.491873  0.602662 -0.993761 -0.601903 -0.351857 -1.401383 -0.336131   \n",
       "1183 -0.159645  0.948974 -1.463749  2.860363 -0.351857 -1.401383  2.780103   \n",
       "1184 -0.159645  1.498297 -1.463749 -0.601903 -0.351857 -1.401383 -0.336131   \n",
       "\n",
       "           WW6       WW7       WW8  ...      PPN         INR  ST   LOG_INR  \\\n",
       "0    -0.425076 -0.481266  1.393408  ...   839238  339.593774   1  5.827750   \n",
       "1    -0.431485 -0.483703  0.392183  ...    35529  360.269076   1  5.886851   \n",
       "2    -0.379666 -0.480748  0.246918  ...  2635516  376.928085   1  5.932054   \n",
       "3    -0.189726 -0.476633  0.474526  ...   310569  513.895463   1  6.242020   \n",
       "4    -0.428554 -0.483703  1.720866  ...  4713325  286.994850   1  5.659464   \n",
       "...        ...       ...       ...  ...      ...         ...  ..       ...   \n",
       "1180 -0.431485  0.897509 -0.176092  ...     6442  388.078237   2  5.961207   \n",
       "1181 -0.431485 -0.483703 -0.176092  ...     3490  286.532951   2  5.657854   \n",
       "1182 -0.431485  1.149731 -0.176092  ...     7395  351.588911   2  5.862463   \n",
       "1183 -0.431485 -0.483703 -0.176092  ...     1719  523.560209   2  6.260652   \n",
       "1184 -0.431485 -0.483703 -0.176092  ...     2326   85.984523   2  4.454167   \n",
       "\n",
       "         INR_S       AIN       ADN       DIN       MIN      MDIN  \n",
       "0    -0.217915  0.307868  0.047436  0.034178  0.352656 -0.082078  \n",
       "1    -0.200763  0.307868  0.047436  0.034178  0.352656 -0.082078  \n",
       "2    -0.186943  0.307868  0.047436  0.034178  0.352656 -0.082078  \n",
       "3    -0.073317  0.307868  0.047436  0.034178  0.352656 -0.082078  \n",
       "4    -0.261550  0.307868  0.047436  0.034178  0.352656 -0.082078  \n",
       "...        ...       ...       ...       ...       ...       ...  \n",
       "1180 -0.177693  0.307868  0.047436  0.034178  0.352656 -0.082078  \n",
       "1181 -0.261933  0.307868  0.047436  0.034178  0.352656 -0.082078  \n",
       "1182 -0.207964  0.307868  0.047436  0.034178  0.352656 -0.082078  \n",
       "1183 -0.065299  0.307868  0.047436  0.034178  0.352656 -0.082078  \n",
       "1184 -0.428304  0.307868  0.047436  0.034178  0.352656 -0.082078  \n",
       "\n",
       "[1185 rows x 60 columns]"
      ]
     },
     "execution_count": 269,
     "metadata": {},
     "output_type": "execute_result"
    }
   ],
   "source": [
    "data"
   ]
  },
  {
   "cell_type": "code",
   "execution_count": 194,
   "id": "4b40f3ec",
   "metadata": {},
   "outputs": [],
   "source": [
    "data['AIN'] = data['IN1'].corr(data['HF1'])"
   ]
  },
  {
   "cell_type": "code",
   "execution_count": 164,
   "id": "30c47a02",
   "metadata": {},
   "outputs": [],
   "source": [
    "data['ADN'] = data['IN2'].corr(data['HF1'])"
   ]
  },
  {
   "cell_type": "code",
   "execution_count": 165,
   "id": "0d5bf5a9",
   "metadata": {},
   "outputs": [],
   "source": [
    "data['DIN'] = data['IN3'].corr(data['HF1'])"
   ]
  },
  {
   "cell_type": "code",
   "execution_count": 166,
   "id": "baf2b443",
   "metadata": {},
   "outputs": [],
   "source": [
    "data['MIN'] = data['IN4'].corr(data['HF1'])"
   ]
  },
  {
   "cell_type": "code",
   "execution_count": 167,
   "id": "5329ed90",
   "metadata": {},
   "outputs": [],
   "source": [
    "data['MDIN'] = data['IN5'].corr(data['HF1'])"
   ]
  },
  {
   "cell_type": "code",
   "execution_count": 168,
   "id": "68ffcdec",
   "metadata": {},
   "outputs": [],
   "source": [
    "data.to_csv('tco_county_intr.csv',index= False)"
   ]
  },
  {
   "cell_type": "code",
   "execution_count": null,
   "id": "0ded680f",
   "metadata": {},
   "outputs": [],
   "source": []
  }
 ],
 "metadata": {
  "kernelspec": {
   "display_name": "Python 3 (ipykernel)",
   "language": "python",
   "name": "python3"
  },
  "language_info": {
   "codemirror_mode": {
    "name": "ipython",
    "version": 3
   },
   "file_extension": ".py",
   "mimetype": "text/x-python",
   "name": "python",
   "nbconvert_exporter": "python",
   "pygments_lexer": "ipython3",
   "version": "3.11.9"
  }
 },
 "nbformat": 4,
 "nbformat_minor": 5
}
