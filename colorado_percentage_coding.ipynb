{
 "cells": [
  {
   "cell_type": "code",
   "execution_count": 1,
   "id": "c95880b6",
   "metadata": {},
   "outputs": [],
   "source": [
    "import numpy as np\n",
    "import pandas as pd"
   ]
  },
  {
   "cell_type": "code",
   "execution_count": 2,
   "id": "f5976f84",
   "metadata": {},
   "outputs": [
    {
     "name": "stderr",
     "output_type": "stream",
     "text": [
      "C:\\Users\\karan\\AppData\\Local\\Temp\\ipykernel_26268\\752822360.py:1: DtypeWarning: Columns (2) have mixed types. Specify dtype option on import or set low_memory=False.\n",
      "  colo = pd.read_csv('C:/Users/karan/Colorada_basic_Buffer.csv')\n"
     ]
    }
   ],
   "source": [
    "colo = pd.read_csv('C:/Users/karan/Colorada_basic_Buffer.csv')"
   ]
  },
  {
   "cell_type": "code",
   "execution_count": 3,
   "id": "4e553d7d",
   "metadata": {},
   "outputs": [
    {
     "data": {
      "text/plain": [
       "ROAD_CLASS        0\n",
       "DATE              0\n",
       "TIME              0\n",
       "INTERSECTION      0\n",
       "CONTOUR           0\n",
       "SURFACE           0\n",
       "LIGHTING          0\n",
       "WEATHER           0\n",
       "HUMAN_FACTOR      0\n",
       "INTOXICATION      0\n",
       "AGE               0\n",
       "GENDER            0\n",
       "COUNTY_FIPS       0\n",
       "COUNTY            0\n",
       "LATITUDE          0\n",
       "LONGITUDE         0\n",
       "YEAR              0\n",
       "INJURY_COUNT      0\n",
       "INJURY_OUTCOME    0\n",
       "Crash_ID          0\n",
       "BUFF_DIST         0\n",
       "ORIG_FID          0\n",
       "Shape_Length      0\n",
       "Shape_Area        0\n",
       "dtype: int64"
      ]
     },
     "execution_count": 3,
     "metadata": {},
     "output_type": "execute_result"
    }
   ],
   "source": [
    "colo.isna().sum()"
   ]
  },
  {
   "cell_type": "code",
   "execution_count": 4,
   "id": "27dc1685",
   "metadata": {},
   "outputs": [
    {
     "data": {
      "text/plain": [
       "ROAD_CLASS        0\n",
       "DATE              0\n",
       "TIME              0\n",
       "INTERSECTION      0\n",
       "CONTOUR           0\n",
       "SURFACE           0\n",
       "LIGHTING          0\n",
       "WEATHER           0\n",
       "HUMAN_FACTOR      0\n",
       "INTOXICATION      0\n",
       "AGE               0\n",
       "GENDER            0\n",
       "COUNTY_FIPS       0\n",
       "COUNTY            0\n",
       "LATITUDE          0\n",
       "LONGITUDE         0\n",
       "YEAR              0\n",
       "INJURY_COUNT      0\n",
       "INJURY_OUTCOME    0\n",
       "Crash_ID          0\n",
       "BUFF_DIST         0\n",
       "ORIG_FID          0\n",
       "Shape_Length      0\n",
       "Shape_Area        0\n",
       "dtype: int64"
      ]
     },
     "execution_count": 4,
     "metadata": {},
     "output_type": "execute_result"
    }
   ],
   "source": [
    "colo.isnull().sum()"
   ]
  },
  {
   "cell_type": "code",
   "execution_count": 5,
   "id": "63a60be8",
   "metadata": {
    "scrolled": false
   },
   "outputs": [
    {
     "data": {
      "text/plain": [
       "Index(['ROAD_CLASS', 'DATE', 'TIME', 'INTERSECTION', 'CONTOUR', 'SURFACE',\n",
       "       'LIGHTING', 'WEATHER', 'HUMAN_FACTOR', 'INTOXICATION', 'AGE', 'GENDER',\n",
       "       'COUNTY_FIPS', 'COUNTY', 'LATITUDE', 'LONGITUDE', 'YEAR',\n",
       "       'INJURY_COUNT', 'INJURY_OUTCOME', 'Crash_ID', 'BUFF_DIST', 'ORIG_FID',\n",
       "       'Shape_Length', 'Shape_Area'],\n",
       "      dtype='object')"
      ]
     },
     "execution_count": 5,
     "metadata": {},
     "output_type": "execute_result"
    }
   ],
   "source": [
    "colo.columns"
   ]
  },
  {
   "cell_type": "code",
   "execution_count": 6,
   "id": "0fd062bf",
   "metadata": {},
   "outputs": [
    {
     "data": {
      "text/plain": [
       "array([2019, 2020, 2021], dtype=int64)"
      ]
     },
     "execution_count": 6,
     "metadata": {},
     "output_type": "execute_result"
    }
   ],
   "source": [
    "colo['YEAR'].unique()"
   ]
  },
  {
   "cell_type": "code",
   "execution_count": 7,
   "id": "b311cf20",
   "metadata": {},
   "outputs": [],
   "source": [
    "colo_2019 = colo[colo['YEAR']== 2019]\n",
    "colo_2020 = colo[colo['YEAR']==2020]\n",
    "colo_2021 = colo[colo['YEAR']==2021]"
   ]
  },
  {
   "cell_type": "code",
   "execution_count": 8,
   "id": "2fc880b5",
   "metadata": {},
   "outputs": [
    {
     "data": {
      "text/plain": [
       "(108647, 24)"
      ]
     },
     "execution_count": 8,
     "metadata": {},
     "output_type": "execute_result"
    }
   ],
   "source": [
    "colo_2019.shape"
   ]
  },
  {
   "cell_type": "code",
   "execution_count": 9,
   "id": "a449c2f0",
   "metadata": {},
   "outputs": [
    {
     "data": {
      "text/plain": [
       "(74059, 24)"
      ]
     },
     "execution_count": 9,
     "metadata": {},
     "output_type": "execute_result"
    }
   ],
   "source": [
    "colo_2020.shape"
   ]
  },
  {
   "cell_type": "code",
   "execution_count": 10,
   "id": "19eb109d",
   "metadata": {},
   "outputs": [
    {
     "data": {
      "text/plain": [
       "(34584, 24)"
      ]
     },
     "execution_count": 10,
     "metadata": {},
     "output_type": "execute_result"
    }
   ],
   "source": [
    "colo_2021.shape"
   ]
  },
  {
   "cell_type": "code",
   "execution_count": 11,
   "id": "bcfbcce3",
   "metadata": {},
   "outputs": [
    {
     "data": {
      "text/plain": [
       "array([4, 8, 7, 2, 5], dtype=int64)"
      ]
     },
     "execution_count": 11,
     "metadata": {},
     "output_type": "execute_result"
    }
   ],
   "source": [
    "colo_2019['WEATHER'].unique()"
   ]
  },
  {
   "cell_type": "code",
   "execution_count": 12,
   "id": "1cce71b2",
   "metadata": {},
   "outputs": [
    {
     "data": {
      "text/plain": [
       "array([8, 4, 7, 2, 5], dtype=int64)"
      ]
     },
     "execution_count": 12,
     "metadata": {},
     "output_type": "execute_result"
    }
   ],
   "source": [
    "colo_2020['WEATHER'].unique()"
   ]
  },
  {
   "cell_type": "code",
   "execution_count": 13,
   "id": "c50dd5dd",
   "metadata": {},
   "outputs": [
    {
     "data": {
      "text/plain": [
       "array([11,  2, 12,  4,  7,  6,  3,  5], dtype=int64)"
      ]
     },
     "execution_count": 13,
     "metadata": {},
     "output_type": "execute_result"
    }
   ],
   "source": [
    "colo_2021['WEATHER'].unique()"
   ]
  },
  {
   "cell_type": "code",
   "execution_count": 14,
   "id": "72f55cfa",
   "metadata": {},
   "outputs": [
    {
     "name": "stderr",
     "output_type": "stream",
     "text": [
      "C:\\Users\\karan\\AppData\\Local\\Temp\\ipykernel_26268\\4123123285.py:15: SettingWithCopyWarning: \n",
      "A value is trying to be set on a copy of a slice from a DataFrame.\n",
      "Try using .loc[row_indexer,col_indexer] = value instead\n",
      "\n",
      "See the caveats in the documentation: https://pandas.pydata.org/pandas-docs/stable/user_guide/indexing.html#returning-a-view-versus-a-copy\n",
      "  colo_2019['WEATHER_DESC'] = colo_2019['WEATHER'].map(weather_mapping)\n",
      "C:\\Users\\karan\\AppData\\Local\\Temp\\ipykernel_26268\\4123123285.py:16: SettingWithCopyWarning: \n",
      "A value is trying to be set on a copy of a slice from a DataFrame.\n",
      "Try using .loc[row_indexer,col_indexer] = value instead\n",
      "\n",
      "See the caveats in the documentation: https://pandas.pydata.org/pandas-docs/stable/user_guide/indexing.html#returning-a-view-versus-a-copy\n",
      "  colo_2020['WEATHER_DESC'] = colo_2020['WEATHER'].map(weather_mapping)\n",
      "C:\\Users\\karan\\AppData\\Local\\Temp\\ipykernel_26268\\4123123285.py:17: SettingWithCopyWarning: \n",
      "A value is trying to be set on a copy of a slice from a DataFrame.\n",
      "Try using .loc[row_indexer,col_indexer] = value instead\n",
      "\n",
      "See the caveats in the documentation: https://pandas.pydata.org/pandas-docs/stable/user_guide/indexing.html#returning-a-view-versus-a-copy\n",
      "  colo_2021['WEATHER_DESC'] = colo_2021['WEATHER'].map(weather_mapping)\n"
     ]
    }
   ],
   "source": [
    "weather_mapping = {\n",
    "    11: 'CLEAR',\n",
    "    12: 'CLOUDY',\n",
    "    5: 'FOG',\n",
    "    2: 'RAIN',\n",
    "    3: 'SLEET/HAIL',\n",
    "    8: 'OTHER_WEATHER',\n",
    "    0: 'UNKNOWN_WEATHER',\n",
    "    4: 'SNOW_WEATHER',\n",
    "    6: 'BLOWING SAND/SNOW',\n",
    "    7: 'SEVERE CROSSWINDS'\n",
    "}\n",
    "\n",
    "\n",
    "colo_2019['WEATHER_DESC'] = colo_2019['WEATHER'].map(weather_mapping)\n",
    "colo_2020['WEATHER_DESC'] = colo_2020['WEATHER'].map(weather_mapping)\n",
    "colo_2021['WEATHER_DESC'] = colo_2021['WEATHER'].map(weather_mapping)\n",
    "\n",
    "def analyze_weather(df):\n",
    "    grouped_weather = df.groupby(['COUNTY', 'WEATHER_DESC']).size().unstack(fill_value=0)\n",
    "    total_counts_by_county_weather = grouped_weather.sum(axis=1)\n",
    "    weather_percentages_df = (grouped_weather.div(total_counts_by_county_weather, axis=0) * 100).fillna(0)\n",
    "    weather_percentages_df = weather_percentages_df.reset_index()\n",
    "    return weather_percentages_df\n",
    "\n",
    "weather_percentages_df_2019 = analyze_weather(colo_2019)\n",
    "weather_percentages_df_2020 = analyze_weather(colo_2020)\n",
    "weather_percentages_df_2021 = analyze_weather(colo_2021)"
   ]
  },
  {
   "cell_type": "code",
   "execution_count": 15,
   "id": "757647b5",
   "metadata": {},
   "outputs": [
    {
     "data": {
      "text/plain": [
       "Index(['COUNTY', 'FOG', 'OTHER_WEATHER', 'RAIN', 'SEVERE CROSSWINDS',\n",
       "       'SNOW_WEATHER'],\n",
       "      dtype='object', name='WEATHER_DESC')"
      ]
     },
     "execution_count": 15,
     "metadata": {},
     "output_type": "execute_result"
    }
   ],
   "source": [
    "weather_percentages_df_2019.columns"
   ]
  },
  {
   "cell_type": "code",
   "execution_count": 16,
   "id": "640ad0d1",
   "metadata": {},
   "outputs": [
    {
     "data": {
      "text/plain": [
       "Index(['COUNTY', 'FOG', 'OTHER_WEATHER', 'RAIN', 'SEVERE CROSSWINDS',\n",
       "       'SNOW_WEATHER'],\n",
       "      dtype='object', name='WEATHER_DESC')"
      ]
     },
     "execution_count": 16,
     "metadata": {},
     "output_type": "execute_result"
    }
   ],
   "source": [
    "weather_percentages_df_2020.columns"
   ]
  },
  {
   "cell_type": "code",
   "execution_count": 17,
   "id": "e8085549",
   "metadata": {},
   "outputs": [
    {
     "data": {
      "text/plain": [
       "Index(['COUNTY', 'BLOWING SAND/SNOW', 'CLEAR', 'CLOUDY', 'FOG', 'RAIN',\n",
       "       'SEVERE CROSSWINDS', 'SLEET/HAIL', 'SNOW_WEATHER'],\n",
       "      dtype='object', name='WEATHER_DESC')"
      ]
     },
     "execution_count": 17,
     "metadata": {},
     "output_type": "execute_result"
    }
   ],
   "source": [
    "weather_percentages_df_2021.columns"
   ]
  },
  {
   "cell_type": "code",
   "execution_count": 18,
   "id": "1ebe261e",
   "metadata": {},
   "outputs": [],
   "source": [
    "weather_percentages_df_2019.insert(1,'BLOWING SAND/SNOW',0)"
   ]
  },
  {
   "cell_type": "code",
   "execution_count": 19,
   "id": "f381d5ea",
   "metadata": {},
   "outputs": [],
   "source": [
    "weather_percentages_df_2019.insert(2,'CLEAR',0)"
   ]
  },
  {
   "cell_type": "code",
   "execution_count": 20,
   "id": "a3cd70fc",
   "metadata": {},
   "outputs": [],
   "source": [
    "weather_percentages_df_2019.insert(3,'CLOUDY',0)"
   ]
  },
  {
   "cell_type": "code",
   "execution_count": 21,
   "id": "c4d455d1",
   "metadata": {},
   "outputs": [],
   "source": [
    "weather_percentages_df_2019.rename(columns={'OTHER': 'OTHER_WEATHER'}, inplace=True)"
   ]
  },
  {
   "cell_type": "code",
   "execution_count": 22,
   "id": "0f67899c",
   "metadata": {},
   "outputs": [],
   "source": [
    "weather_percentages_df_2021.insert(5,'OTHER_WEATHER',0)"
   ]
  },
  {
   "cell_type": "code",
   "execution_count": 23,
   "id": "00aee185",
   "metadata": {},
   "outputs": [],
   "source": [
    "weather_percentages_df_2019.insert(8,'SLEET/HAIL',0)"
   ]
  },
  {
   "cell_type": "code",
   "execution_count": 24,
   "id": "d932969b",
   "metadata": {},
   "outputs": [],
   "source": [
    "weather_percentages_df_2020.rename(columns={'OTHER':'OTHER_WEATHER'},inplace=True)"
   ]
  },
  {
   "cell_type": "code",
   "execution_count": 25,
   "id": "e4810395",
   "metadata": {},
   "outputs": [],
   "source": [
    "weather_percentages_df_2020.insert(1,'BLOWING SAND/SNOW',0)"
   ]
  },
  {
   "cell_type": "code",
   "execution_count": 26,
   "id": "d84636d8",
   "metadata": {},
   "outputs": [],
   "source": [
    "weather_percentages_df_2020.insert(2,'CLEAR',0)"
   ]
  },
  {
   "cell_type": "code",
   "execution_count": 27,
   "id": "cc8e1f29",
   "metadata": {},
   "outputs": [],
   "source": [
    "weather_percentages_df_2020.insert(3,'CLOUDY',0)"
   ]
  },
  {
   "cell_type": "code",
   "execution_count": 28,
   "id": "11d564b6",
   "metadata": {},
   "outputs": [],
   "source": [
    "weather_percentages_df_2020.insert(8,'SLEET/HAIL',0)"
   ]
  },
  {
   "cell_type": "code",
   "execution_count": 29,
   "id": "b0eeee5e",
   "metadata": {},
   "outputs": [
    {
     "data": {
      "text/plain": [
       "(64, 10)"
      ]
     },
     "execution_count": 29,
     "metadata": {},
     "output_type": "execute_result"
    }
   ],
   "source": [
    "weather_percentages_df_2019.shape"
   ]
  },
  {
   "cell_type": "code",
   "execution_count": 30,
   "id": "5cb2aa26",
   "metadata": {},
   "outputs": [
    {
     "data": {
      "text/plain": [
       "(64, 10)"
      ]
     },
     "execution_count": 30,
     "metadata": {},
     "output_type": "execute_result"
    }
   ],
   "source": [
    "weather_percentages_df_2020.shape"
   ]
  },
  {
   "cell_type": "code",
   "execution_count": 31,
   "id": "938fd6e8",
   "metadata": {},
   "outputs": [
    {
     "data": {
      "text/plain": [
       "(64, 10)"
      ]
     },
     "execution_count": 31,
     "metadata": {},
     "output_type": "execute_result"
    }
   ],
   "source": [
    "weather_percentages_df_2021.shape"
   ]
  },
  {
   "cell_type": "code",
   "execution_count": 32,
   "id": "12ec92d5",
   "metadata": {},
   "outputs": [],
   "source": [
    "colo_2019 = pd.merge(colo_2019,weather_percentages_df_2019,on=['COUNTY'],how='left')"
   ]
  },
  {
   "cell_type": "code",
   "execution_count": 33,
   "id": "e6613bea",
   "metadata": {},
   "outputs": [
    {
     "data": {
      "text/plain": [
       "Index(['ROAD_CLASS', 'DATE', 'TIME', 'INTERSECTION', 'CONTOUR', 'SURFACE',\n",
       "       'LIGHTING', 'WEATHER', 'HUMAN_FACTOR', 'INTOXICATION', 'AGE', 'GENDER',\n",
       "       'COUNTY_FIPS', 'COUNTY', 'LATITUDE', 'LONGITUDE', 'YEAR',\n",
       "       'INJURY_COUNT', 'INJURY_OUTCOME', 'Crash_ID', 'BUFF_DIST', 'ORIG_FID',\n",
       "       'Shape_Length', 'Shape_Area', 'WEATHER_DESC', 'BLOWING SAND/SNOW',\n",
       "       'CLEAR', 'CLOUDY', 'FOG', 'OTHER_WEATHER', 'RAIN', 'SEVERE CROSSWINDS',\n",
       "       'SLEET/HAIL', 'SNOW_WEATHER'],\n",
       "      dtype='object')"
      ]
     },
     "execution_count": 33,
     "metadata": {},
     "output_type": "execute_result"
    }
   ],
   "source": [
    "colo_2019.columns"
   ]
  },
  {
   "cell_type": "code",
   "execution_count": 34,
   "id": "c977f9c8",
   "metadata": {},
   "outputs": [],
   "source": [
    "colo_2020 = pd.merge(colo_2020,weather_percentages_df_2020,on=['COUNTY'],how='left')"
   ]
  },
  {
   "cell_type": "code",
   "execution_count": 35,
   "id": "01990a17",
   "metadata": {},
   "outputs": [
    {
     "data": {
      "text/plain": [
       "Index(['ROAD_CLASS', 'DATE', 'TIME', 'INTERSECTION', 'CONTOUR', 'SURFACE',\n",
       "       'LIGHTING', 'WEATHER', 'HUMAN_FACTOR', 'INTOXICATION', 'AGE', 'GENDER',\n",
       "       'COUNTY_FIPS', 'COUNTY', 'LATITUDE', 'LONGITUDE', 'YEAR',\n",
       "       'INJURY_COUNT', 'INJURY_OUTCOME', 'Crash_ID', 'BUFF_DIST', 'ORIG_FID',\n",
       "       'Shape_Length', 'Shape_Area', 'WEATHER_DESC', 'BLOWING SAND/SNOW',\n",
       "       'CLEAR', 'CLOUDY', 'FOG', 'OTHER_WEATHER', 'RAIN', 'SEVERE CROSSWINDS',\n",
       "       'SLEET/HAIL', 'SNOW_WEATHER'],\n",
       "      dtype='object')"
      ]
     },
     "execution_count": 35,
     "metadata": {},
     "output_type": "execute_result"
    }
   ],
   "source": [
    "colo_2020.columns"
   ]
  },
  {
   "cell_type": "code",
   "execution_count": 36,
   "id": "95ed30d7",
   "metadata": {},
   "outputs": [],
   "source": [
    "colo_2021 = pd.merge(colo_2021,weather_percentages_df_2021,on=['COUNTY'],how='left')"
   ]
  },
  {
   "cell_type": "code",
   "execution_count": 37,
   "id": "fb1a19ea",
   "metadata": {},
   "outputs": [
    {
     "data": {
      "text/plain": [
       "Index(['ROAD_CLASS', 'DATE', 'TIME', 'INTERSECTION', 'CONTOUR', 'SURFACE',\n",
       "       'LIGHTING', 'WEATHER', 'HUMAN_FACTOR', 'INTOXICATION', 'AGE', 'GENDER',\n",
       "       'COUNTY_FIPS', 'COUNTY', 'LATITUDE', 'LONGITUDE', 'YEAR',\n",
       "       'INJURY_COUNT', 'INJURY_OUTCOME', 'Crash_ID', 'BUFF_DIST', 'ORIG_FID',\n",
       "       'Shape_Length', 'Shape_Area', 'WEATHER_DESC', 'BLOWING SAND/SNOW',\n",
       "       'CLEAR', 'CLOUDY', 'FOG', 'OTHER_WEATHER', 'RAIN', 'SEVERE CROSSWINDS',\n",
       "       'SLEET/HAIL', 'SNOW_WEATHER'],\n",
       "      dtype='object')"
      ]
     },
     "execution_count": 37,
     "metadata": {},
     "output_type": "execute_result"
    }
   ],
   "source": [
    "colo_2021.columns"
   ]
  },
  {
   "cell_type": "code",
   "execution_count": 38,
   "id": "bc4b17aa",
   "metadata": {},
   "outputs": [
    {
     "data": {
      "text/plain": [
       "array([4, 3, 1, 5, 2], dtype=int64)"
      ]
     },
     "execution_count": 38,
     "metadata": {},
     "output_type": "execute_result"
    }
   ],
   "source": [
    "colo_2019['LIGHTING'].unique()"
   ]
  },
  {
   "cell_type": "code",
   "execution_count": 39,
   "id": "2d938aa2",
   "metadata": {},
   "outputs": [
    {
     "data": {
      "text/plain": [
       "array([3, 1, 4, 2, 5], dtype=int64)"
      ]
     },
     "execution_count": 39,
     "metadata": {},
     "output_type": "execute_result"
    }
   ],
   "source": [
    "colo_2020['LIGHTING'].unique()"
   ]
  },
  {
   "cell_type": "code",
   "execution_count": 40,
   "id": "1ec28fbb",
   "metadata": {},
   "outputs": [
    {
     "data": {
      "text/plain": [
       "array([4, 1, 3, 5, 2], dtype=int64)"
      ]
     },
     "execution_count": 40,
     "metadata": {},
     "output_type": "execute_result"
    }
   ],
   "source": [
    "colo_2021['LIGHTING'].unique()"
   ]
  },
  {
   "cell_type": "code",
   "execution_count": 41,
   "id": "ff4a0242",
   "metadata": {},
   "outputs": [],
   "source": [
    "map = {\n",
    "    0:'UNKNOWN_LIGHT',\n",
    "    1:'DAYLIGHT',\n",
    "    2:'DAWN',\n",
    "    3:'DARK-NOT LIGHTED',\n",
    "    4:'DARK-LIGHTED',\n",
    "    5:'DUSK',\n",
    "    6:'DARK-UNKNOWN LIGHTING',\n",
    "    8:'OTHER_LIGHT'\n",
    "}\n",
    "\n",
    "def process_lighting_data(df, mapping):\n",
    "    df['LIGHTING_DESC'] = df['LIGHTING'].map(mapping)\n",
    "    grouped_lighting = df.groupby(['COUNTY', 'LIGHTING_DESC']).size().unstack(fill_value=0)\n",
    "    grouped_lighting = df.groupby(['COUNTY', 'LIGHTING_DESC']).size().unstack(fill_value=0)\n",
    "    total_counts_by_county_lighting = grouped_lighting.sum(axis=1)\n",
    "    lighting_percentages_df = (grouped_lighting.div(total_counts_by_county_lighting, axis=0) * 100).fillna(0)\n",
    "    lighting_percentages_df = lighting_percentages_df.reset_index()\n",
    "    \n",
    "    return lighting_percentages_df\n",
    "\n",
    "lighting_percentages_df_2019 = process_lighting_data(colo_2019, map)\n",
    "lighting_percentages_df_2020 = process_lighting_data(colo_2020, map)\n",
    "lighting_percentages_df_2021 = process_lighting_data(colo_2021, map)"
   ]
  },
  {
   "cell_type": "code",
   "execution_count": 42,
   "id": "276924e4",
   "metadata": {},
   "outputs": [
    {
     "data": {
      "text/plain": [
       "Index(['COUNTY', 'DARK-LIGHTED', 'DARK-NOT LIGHTED', 'DAWN', 'DAYLIGHT',\n",
       "       'DUSK'],\n",
       "      dtype='object', name='LIGHTING_DESC')"
      ]
     },
     "execution_count": 42,
     "metadata": {},
     "output_type": "execute_result"
    }
   ],
   "source": [
    "lighting_percentages_df_2019.columns"
   ]
  },
  {
   "cell_type": "code",
   "execution_count": 43,
   "id": "8a39b337",
   "metadata": {},
   "outputs": [
    {
     "data": {
      "text/plain": [
       "Index(['COUNTY', 'DARK-LIGHTED', 'DARK-NOT LIGHTED', 'DAWN', 'DAYLIGHT',\n",
       "       'DUSK'],\n",
       "      dtype='object', name='LIGHTING_DESC')"
      ]
     },
     "execution_count": 43,
     "metadata": {},
     "output_type": "execute_result"
    }
   ],
   "source": [
    "lighting_percentages_df_2020.columns"
   ]
  },
  {
   "cell_type": "code",
   "execution_count": 44,
   "id": "35733e34",
   "metadata": {},
   "outputs": [
    {
     "data": {
      "text/plain": [
       "Index(['COUNTY', 'DARK-LIGHTED', 'DARK-NOT LIGHTED', 'DAWN', 'DAYLIGHT',\n",
       "       'DUSK'],\n",
       "      dtype='object', name='LIGHTING_DESC')"
      ]
     },
     "execution_count": 44,
     "metadata": {},
     "output_type": "execute_result"
    }
   ],
   "source": [
    "lighting_percentages_df_2021.columns"
   ]
  },
  {
   "cell_type": "code",
   "execution_count": 45,
   "id": "50e8f5e3",
   "metadata": {},
   "outputs": [],
   "source": [
    "def merger(f1,f2):\n",
    "    f1 = pd.merge(f1,f2,on=['COUNTY'],how='left')\n",
    "    return f1"
   ]
  },
  {
   "cell_type": "code",
   "execution_count": 46,
   "id": "6704ec7f",
   "metadata": {},
   "outputs": [
    {
     "data": {
      "text/plain": [
       "(108647, 35)"
      ]
     },
     "execution_count": 46,
     "metadata": {},
     "output_type": "execute_result"
    }
   ],
   "source": [
    "colo_2019.shape"
   ]
  },
  {
   "cell_type": "code",
   "execution_count": 47,
   "id": "774c30d7",
   "metadata": {},
   "outputs": [],
   "source": [
    "colo_2019= merger(colo_2019,lighting_percentages_df_2019)\n",
    "colo_2020= merger(colo_2020,lighting_percentages_df_2020)\n",
    "colo_2021= merger(colo_2021,lighting_percentages_df_2021)"
   ]
  },
  {
   "cell_type": "code",
   "execution_count": 48,
   "id": "e19f1aee",
   "metadata": {},
   "outputs": [
    {
     "data": {
      "text/plain": [
       "(108647, 40)"
      ]
     },
     "execution_count": 48,
     "metadata": {},
     "output_type": "execute_result"
    }
   ],
   "source": [
    "colo_2019.shape"
   ]
  },
  {
   "cell_type": "code",
   "execution_count": 49,
   "id": "537c4f37",
   "metadata": {},
   "outputs": [
    {
     "data": {
      "text/plain": [
       "(74059, 40)"
      ]
     },
     "execution_count": 49,
     "metadata": {},
     "output_type": "execute_result"
    }
   ],
   "source": [
    "colo_2020.shape"
   ]
  },
  {
   "cell_type": "code",
   "execution_count": 50,
   "id": "a9ac5235",
   "metadata": {},
   "outputs": [
    {
     "data": {
      "text/plain": [
       "(34584, 40)"
      ]
     },
     "execution_count": 50,
     "metadata": {},
     "output_type": "execute_result"
    }
   ],
   "source": [
    "colo_2021.shape"
   ]
  },
  {
   "cell_type": "code",
   "execution_count": 51,
   "id": "761a2692",
   "metadata": {},
   "outputs": [
    {
     "data": {
      "text/plain": [
       "array([ 9,  6,  1,  2, 10,  5], dtype=int64)"
      ]
     },
     "execution_count": 51,
     "metadata": {},
     "output_type": "execute_result"
    }
   ],
   "source": [
    "colo_2019['SURFACE'].unique()"
   ]
  },
  {
   "cell_type": "code",
   "execution_count": 52,
   "id": "a21c7243",
   "metadata": {},
   "outputs": [
    {
     "data": {
      "text/plain": [
       "array([ 1,  6,  9,  5,  2, 10], dtype=int64)"
      ]
     },
     "execution_count": 52,
     "metadata": {},
     "output_type": "execute_result"
    }
   ],
   "source": [
    "colo_2020['SURFACE'].unique()"
   ]
  },
  {
   "cell_type": "code",
   "execution_count": 53,
   "id": "b0a45864",
   "metadata": {},
   "outputs": [
    {
     "data": {
      "text/plain": [
       "array([ 1,  2,  6,  9,  0, 10,  5], dtype=int64)"
      ]
     },
     "execution_count": 53,
     "metadata": {},
     "output_type": "execute_result"
    }
   ],
   "source": [
    "colo_2021['SURFACE'].unique()"
   ]
  },
  {
   "cell_type": "code",
   "execution_count": 54,
   "id": "2e186d38",
   "metadata": {},
   "outputs": [],
   "source": [
    "surface_mapping={\n",
    "    0:'UNKNOWN_SURF',\n",
    "    1:'DRY',\n",
    "    2:'WET',\n",
    "    3:'STANDING_WATER',\n",
    "    5:'SLUSH',\n",
    "    6:'ICE',\n",
    "    8:'OTHER_SURF',\n",
    "    9:'SNOW_SURF',\n",
    "    10:'DIRT'\n",
    "    \n",
    "}\n",
    "\n",
    "def surface(df, mapping):\n",
    "    df['SURF_DESC'] = df['SURFACE'].map(mapping)\n",
    "    grouped_lighting = df.groupby(['COUNTY', 'SURF_DESC']).size().unstack(fill_value=0)\n",
    "    grouped_lighting = df.groupby(['COUNTY', 'SURF_DESC']).size().unstack(fill_value=0)\n",
    "    total_counts_by_county_lighting = grouped_lighting.sum(axis=1)\n",
    "    surf_percentages_df = (grouped_lighting.div(total_counts_by_county_lighting, axis=0) * 100).fillna(0)\n",
    "    surf_percentages_df = surf_percentages_df.reset_index()\n",
    "    \n",
    "    return surf_percentages_df\n",
    "\n",
    "surf_percentages_df_2019 = surface(colo_2019, surface_mapping)\n",
    "surf_percentages_df_2020 = surface(colo_2020, surface_mapping)\n",
    "surf_percentages_df_2021 = surface(colo_2021, surface_mapping)\n"
   ]
  },
  {
   "cell_type": "code",
   "execution_count": 55,
   "id": "f4c44249",
   "metadata": {},
   "outputs": [
    {
     "data": {
      "text/plain": [
       "(64, 7)"
      ]
     },
     "execution_count": 55,
     "metadata": {},
     "output_type": "execute_result"
    }
   ],
   "source": [
    "surf_percentages_df_2019.shape"
   ]
  },
  {
   "cell_type": "code",
   "execution_count": 56,
   "id": "01c15b59",
   "metadata": {},
   "outputs": [
    {
     "data": {
      "text/plain": [
       "Index(['COUNTY', 'DIRT', 'DRY', 'ICE', 'SLUSH', 'SNOW_SURF', 'WET'], dtype='object', name='SURF_DESC')"
      ]
     },
     "execution_count": 56,
     "metadata": {},
     "output_type": "execute_result"
    }
   ],
   "source": [
    "surf_percentages_df_2019.columns"
   ]
  },
  {
   "cell_type": "code",
   "execution_count": 57,
   "id": "76909192",
   "metadata": {},
   "outputs": [
    {
     "data": {
      "text/plain": [
       "Index(['COUNTY', 'DIRT', 'DRY', 'ICE', 'SLUSH', 'SNOW_SURF', 'WET'], dtype='object', name='SURF_DESC')"
      ]
     },
     "execution_count": 57,
     "metadata": {},
     "output_type": "execute_result"
    }
   ],
   "source": [
    "surf_percentages_df_2020.columns"
   ]
  },
  {
   "cell_type": "code",
   "execution_count": 58,
   "id": "95a9a380",
   "metadata": {},
   "outputs": [
    {
     "data": {
      "text/plain": [
       "Index(['COUNTY', 'DIRT', 'DRY', 'ICE', 'SLUSH', 'SNOW_SURF', 'UNKNOWN_SURF',\n",
       "       'WET'],\n",
       "      dtype='object', name='SURF_DESC')"
      ]
     },
     "execution_count": 58,
     "metadata": {},
     "output_type": "execute_result"
    }
   ],
   "source": [
    "surf_percentages_df_2021.columns"
   ]
  },
  {
   "cell_type": "code",
   "execution_count": 59,
   "id": "699705f2",
   "metadata": {},
   "outputs": [],
   "source": [
    "surf_percentages_df_2019.insert(6,'UNKNOWN_SURF',0)"
   ]
  },
  {
   "cell_type": "code",
   "execution_count": 60,
   "id": "9310812b",
   "metadata": {},
   "outputs": [],
   "source": [
    "surf_percentages_df_2020.insert(6,'UNKNOWN_SURF',0)"
   ]
  },
  {
   "cell_type": "code",
   "execution_count": 61,
   "id": "b55a5c0d",
   "metadata": {},
   "outputs": [],
   "source": [
    "def merger(f1,f2):\n",
    "    f1 = pd.merge(f1,f2,on=['COUNTY'],how='left')\n",
    "    return f1"
   ]
  },
  {
   "cell_type": "code",
   "execution_count": 62,
   "id": "3e6b0dc2",
   "metadata": {},
   "outputs": [
    {
     "data": {
      "text/plain": [
       "(108647, 41)"
      ]
     },
     "execution_count": 62,
     "metadata": {},
     "output_type": "execute_result"
    }
   ],
   "source": [
    "colo_2019.shape"
   ]
  },
  {
   "cell_type": "code",
   "execution_count": 63,
   "id": "41a43c3a",
   "metadata": {},
   "outputs": [],
   "source": [
    "colo_2019 = merger(colo_2019,surf_percentages_df_2019)\n",
    "colo_2020 = merger(colo_2020,surf_percentages_df_2020)\n",
    "colo_2021 = merger(colo_2021,surf_percentages_df_2021)"
   ]
  },
  {
   "cell_type": "code",
   "execution_count": 64,
   "id": "c177a003",
   "metadata": {},
   "outputs": [
    {
     "data": {
      "text/plain": [
       "(108647, 48)"
      ]
     },
     "execution_count": 64,
     "metadata": {},
     "output_type": "execute_result"
    }
   ],
   "source": [
    "colo_2019.shape"
   ]
  },
  {
   "cell_type": "code",
   "execution_count": 65,
   "id": "6e4f3636",
   "metadata": {},
   "outputs": [
    {
     "data": {
      "text/plain": [
       "(74059, 48)"
      ]
     },
     "execution_count": 65,
     "metadata": {},
     "output_type": "execute_result"
    }
   ],
   "source": [
    "colo_2020.shape"
   ]
  },
  {
   "cell_type": "code",
   "execution_count": 66,
   "id": "e35de337",
   "metadata": {},
   "outputs": [
    {
     "data": {
      "text/plain": [
       "(34584, 48)"
      ]
     },
     "execution_count": 66,
     "metadata": {},
     "output_type": "execute_result"
    }
   ],
   "source": [
    "colo_2021.shape"
   ]
  },
  {
   "cell_type": "code",
   "execution_count": 67,
   "id": "51326fb1",
   "metadata": {},
   "outputs": [
    {
     "data": {
      "text/plain": [
       "array([4, 5, 1, 2, 3], dtype=int64)"
      ]
     },
     "execution_count": 67,
     "metadata": {},
     "output_type": "execute_result"
    }
   ],
   "source": [
    "colo_2019['INTOXICATION'].unique()"
   ]
  },
  {
   "cell_type": "code",
   "execution_count": 68,
   "id": "4bf01e5a",
   "metadata": {},
   "outputs": [
    {
     "data": {
      "text/plain": [
       "array([4, 1, 3, 5], dtype=int64)"
      ]
     },
     "execution_count": 68,
     "metadata": {},
     "output_type": "execute_result"
    }
   ],
   "source": [
    "colo_2020['INTOXICATION'].unique()"
   ]
  },
  {
   "cell_type": "code",
   "execution_count": 69,
   "id": "310b43e3",
   "metadata": {},
   "outputs": [
    {
     "data": {
      "text/plain": [
       "array([4, 1, 6], dtype=int64)"
      ]
     },
     "execution_count": 69,
     "metadata": {},
     "output_type": "execute_result"
    }
   ],
   "source": [
    "colo_2021['INTOXICATION'].unique()"
   ]
  },
  {
   "cell_type": "code",
   "execution_count": 70,
   "id": "6647ce42",
   "metadata": {},
   "outputs": [],
   "source": [
    "intoxication_mapping = {\n",
    "    1: 'ALCOHOL',\n",
    "    2: 'DRUG',\n",
    "    3: 'ALCOHOL, DRUG',\n",
    "    4: 'NO INTOXICATION',\n",
    "    5: 'MEDICINAL',\n",
    "    6: 'MARIJUANA'\n",
    "}"
   ]
  },
  {
   "cell_type": "code",
   "execution_count": 71,
   "id": "dd48be89",
   "metadata": {},
   "outputs": [],
   "source": [
    "def process_intoxication_data(df, mapping):\n",
    "    # Map the intoxication codes to descriptive names\n",
    "    df['INTOXICATION_DESC'] = df['INTOXICATION'].map(mapping).astype(str)\n",
    "    \n",
    "    # Group by COUNTY and INTOXICATION_DESC, then count occurrences\n",
    "    grouped = df.groupby(['COUNTY', 'INTOXICATION_DESC']).size().unstack(fill_value=0)\n",
    "    \n",
    "    # Calculate total counts by county to normalize the data\n",
    "    total_counts_by_county = grouped.sum(axis=1)\n",
    "    \n",
    "    # Calculate percentages\n",
    "    intoxication_percentages_df = (grouped.div(total_counts_by_county, axis=0) * 100).fillna(0)\n",
    "    intoxication_percentages_df = intoxication_percentages_df.reset_index()\n",
    "    \n",
    "    return intoxication_percentages_df\n",
    "\n",
    "# Process each year's data\n",
    "intoxication_df_2019 = process_intoxication_data(colo_2019, intoxication_mapping)\n",
    "intoxication_df_2020 = process_intoxication_data(colo_2020, intoxication_mapping)\n",
    "intoxication_df_2021 = process_intoxication_data(colo_2021, intoxication_mapping)\n",
    "\n"
   ]
  },
  {
   "cell_type": "code",
   "execution_count": 72,
   "id": "0a560772",
   "metadata": {},
   "outputs": [
    {
     "data": {
      "text/plain": [
       "Index(['COUNTY', 'ALCOHOL', 'ALCOHOL, DRUG', 'DRUG', 'MEDICINAL',\n",
       "       'NO INTOXICATION'],\n",
       "      dtype='object', name='INTOXICATION_DESC')"
      ]
     },
     "execution_count": 72,
     "metadata": {},
     "output_type": "execute_result"
    }
   ],
   "source": [
    "intoxication_df_2019.columns"
   ]
  },
  {
   "cell_type": "code",
   "execution_count": 73,
   "id": "c9bd541d",
   "metadata": {},
   "outputs": [
    {
     "data": {
      "text/plain": [
       "Index(['COUNTY', 'ALCOHOL', 'ALCOHOL, DRUG', 'MEDICINAL', 'NO INTOXICATION'], dtype='object', name='INTOXICATION_DESC')"
      ]
     },
     "execution_count": 73,
     "metadata": {},
     "output_type": "execute_result"
    }
   ],
   "source": [
    "intoxication_df_2020.columns"
   ]
  },
  {
   "cell_type": "code",
   "execution_count": 74,
   "id": "7aaac96d",
   "metadata": {},
   "outputs": [
    {
     "data": {
      "text/plain": [
       "Index(['COUNTY', 'ALCOHOL', 'MARIJUANA', 'NO INTOXICATION'], dtype='object', name='INTOXICATION_DESC')"
      ]
     },
     "execution_count": 74,
     "metadata": {},
     "output_type": "execute_result"
    }
   ],
   "source": [
    "intoxication_df_2021.columns"
   ]
  },
  {
   "cell_type": "code",
   "execution_count": 75,
   "id": "3fac7040",
   "metadata": {},
   "outputs": [],
   "source": [
    "intoxication_df_2020.insert(3,'DRUG',0)"
   ]
  },
  {
   "cell_type": "code",
   "execution_count": 76,
   "id": "0ff56a7d",
   "metadata": {},
   "outputs": [],
   "source": [
    "intoxication_df_2021.insert(2,'ALCOHOL, DRUG',0)"
   ]
  },
  {
   "cell_type": "code",
   "execution_count": 77,
   "id": "3fd7fa03",
   "metadata": {},
   "outputs": [],
   "source": [
    "intoxication_df_2021.insert(3,'DRUG',0)"
   ]
  },
  {
   "cell_type": "code",
   "execution_count": 78,
   "id": "89d9f3c1",
   "metadata": {},
   "outputs": [],
   "source": [
    "intoxication_df_2021.insert(4,'MEDICINAL',0)"
   ]
  },
  {
   "cell_type": "code",
   "execution_count": 79,
   "id": "f3a90bc8",
   "metadata": {},
   "outputs": [],
   "source": [
    "intoxication_df_2019.insert(5,'MARIJUANA',0)"
   ]
  },
  {
   "cell_type": "code",
   "execution_count": 80,
   "id": "e6358edd",
   "metadata": {},
   "outputs": [],
   "source": [
    "intoxication_df_2020.insert(5,'MARIJUANA',0)"
   ]
  },
  {
   "cell_type": "code",
   "execution_count": 81,
   "id": "606eb106",
   "metadata": {},
   "outputs": [],
   "source": [
    "def meger(f1,f2):\n",
    "    f1 = pd.merge(f1,f2,on=['COUNTY'],how='left')\n",
    "    return f1"
   ]
  },
  {
   "cell_type": "code",
   "execution_count": 82,
   "id": "079da0e3",
   "metadata": {},
   "outputs": [],
   "source": [
    "colo_2019 = meger(colo_2019,intoxication_df_2019)\n",
    "colo_2020 = meger(colo_2020,intoxication_df_2020)\n",
    "colo_2021 = meger(colo_2021,intoxication_df_2021)"
   ]
  },
  {
   "cell_type": "code",
   "execution_count": 83,
   "id": "67109508",
   "metadata": {},
   "outputs": [
    {
     "data": {
      "text/plain": [
       "Index(['ROAD_CLASS', 'DATE', 'TIME', 'INTERSECTION', 'CONTOUR', 'SURFACE',\n",
       "       'LIGHTING', 'WEATHER', 'HUMAN_FACTOR', 'INTOXICATION', 'AGE', 'GENDER',\n",
       "       'COUNTY_FIPS', 'COUNTY', 'LATITUDE', 'LONGITUDE', 'YEAR',\n",
       "       'INJURY_COUNT', 'INJURY_OUTCOME', 'Crash_ID', 'BUFF_DIST', 'ORIG_FID',\n",
       "       'Shape_Length', 'Shape_Area', 'WEATHER_DESC', 'BLOWING SAND/SNOW',\n",
       "       'CLEAR', 'CLOUDY', 'FOG', 'OTHER_WEATHER', 'RAIN', 'SEVERE CROSSWINDS',\n",
       "       'SLEET/HAIL', 'SNOW_WEATHER', 'LIGHTING_DESC', 'DARK-LIGHTED',\n",
       "       'DARK-NOT LIGHTED', 'DAWN', 'DAYLIGHT', 'DUSK', 'SURF_DESC', 'DIRT',\n",
       "       'DRY', 'ICE', 'SLUSH', 'SNOW_SURF', 'UNKNOWN_SURF', 'WET',\n",
       "       'INTOXICATION_DESC', 'ALCOHOL', 'ALCOHOL, DRUG', 'DRUG', 'MEDICINAL',\n",
       "       'MARIJUANA', 'NO INTOXICATION'],\n",
       "      dtype='object')"
      ]
     },
     "execution_count": 83,
     "metadata": {},
     "output_type": "execute_result"
    }
   ],
   "source": [
    "colo_2019.columns"
   ]
  },
  {
   "cell_type": "code",
   "execution_count": 84,
   "id": "7720609e",
   "metadata": {},
   "outputs": [
    {
     "data": {
      "text/plain": [
       "((108647, 55), (74059, 55), (34584, 55))"
      ]
     },
     "execution_count": 84,
     "metadata": {},
     "output_type": "execute_result"
    }
   ],
   "source": [
    "colo_2019.shape,colo_2020.shape,colo_2021.shape"
   ]
  },
  {
   "cell_type": "code",
   "execution_count": 85,
   "id": "2e2118b4",
   "metadata": {},
   "outputs": [
    {
     "data": {
      "text/plain": [
       "array([0, 1], dtype=int64)"
      ]
     },
     "execution_count": 85,
     "metadata": {},
     "output_type": "execute_result"
    }
   ],
   "source": [
    "colo_2019['INTERSECTION'].unique()"
   ]
  },
  {
   "cell_type": "code",
   "execution_count": 86,
   "id": "ea0319b7",
   "metadata": {},
   "outputs": [
    {
     "data": {
      "text/plain": [
       "array([0, 1], dtype=int64)"
      ]
     },
     "execution_count": 86,
     "metadata": {},
     "output_type": "execute_result"
    }
   ],
   "source": [
    "colo_2020['INTERSECTION'].unique()"
   ]
  },
  {
   "cell_type": "code",
   "execution_count": 87,
   "id": "53e4b049",
   "metadata": {},
   "outputs": [
    {
     "data": {
      "text/plain": [
       "array([0, 1], dtype=int64)"
      ]
     },
     "execution_count": 87,
     "metadata": {},
     "output_type": "execute_result"
    }
   ],
   "source": [
    "colo_2021['INTERSECTION'].unique()"
   ]
  },
  {
   "cell_type": "code",
   "execution_count": 88,
   "id": "b75d0657",
   "metadata": {},
   "outputs": [],
   "source": [
    "intersection_mapping ={\n",
    "    0:'NO_INTERSECTION',\n",
    "    1:'YES_INTERSECTION'\n",
    "}\n",
    "\n",
    "\n",
    "def intersect(df, mapping):\n",
    "    df['INTERSECTION_DESC'] = df['INTERSECTION'].map(mapping)\n",
    "    grouped_lighting = df.groupby(['COUNTY', 'INTERSECTION_DESC']).size().unstack(fill_value=0)\n",
    "    grouped_lighting = df.groupby(['COUNTY', 'INTERSECTION_DESC']).size().unstack(fill_value=0)\n",
    "    total_counts_by_county_lighting = grouped_lighting.sum(axis=1)\n",
    "    intersection_percentages_df = (grouped_lighting.div(total_counts_by_county_lighting, axis=0) * 100).fillna(0)\n",
    "    intersection_percentages_df = intersection_percentages_df.reset_index()\n",
    "    \n",
    "    return intersection_percentages_df\n",
    "\n",
    "intersection_percentages_df_2019 = intersect(colo_2019, intersection_mapping)\n",
    "intersection_percentages_df_2020 = intersect(colo_2020, intersection_mapping)\n",
    "intersection_percentages_df_2021 = intersect(colo_2021, intersection_mapping)"
   ]
  },
  {
   "cell_type": "code",
   "execution_count": 89,
   "id": "feab141a",
   "metadata": {},
   "outputs": [
    {
     "data": {
      "text/plain": [
       "((64, 3), (64, 3), (64, 3))"
      ]
     },
     "execution_count": 89,
     "metadata": {},
     "output_type": "execute_result"
    }
   ],
   "source": [
    "intersection_percentages_df_2019.shape,intersection_percentages_df_2020.shape,intersection_percentages_df_2021.shape"
   ]
  },
  {
   "cell_type": "code",
   "execution_count": 90,
   "id": "f934c5ec",
   "metadata": {},
   "outputs": [],
   "source": [
    "def merg(f1,f2):\n",
    "    f1 = pd.merge(f1,f2,on=['COUNTY'],how='left')\n",
    "    return f1"
   ]
  },
  {
   "cell_type": "code",
   "execution_count": 91,
   "id": "d5f584b7",
   "metadata": {},
   "outputs": [],
   "source": [
    "colo_2019 = merg(colo_2019,intersection_percentages_df_2019)\n",
    "colo_2020 = merg(colo_2020,intersection_percentages_df_2020)\n",
    "colo_2021 = merg(colo_2021,intersection_percentages_df_2021)"
   ]
  },
  {
   "cell_type": "code",
   "execution_count": 92,
   "id": "0d94d465",
   "metadata": {},
   "outputs": [
    {
     "data": {
      "text/plain": [
       "((108647, 58), (74059, 58), (34584, 58))"
      ]
     },
     "execution_count": 92,
     "metadata": {},
     "output_type": "execute_result"
    }
   ],
   "source": [
    "colo_2019.shape,colo_2020.shape,colo_2021.shape"
   ]
  },
  {
   "cell_type": "code",
   "execution_count": 93,
   "id": "7fafdedb",
   "metadata": {},
   "outputs": [
    {
     "data": {
      "text/plain": [
       "Index(['ROAD_CLASS', 'DATE', 'TIME', 'INTERSECTION', 'CONTOUR', 'SURFACE',\n",
       "       'LIGHTING', 'WEATHER', 'HUMAN_FACTOR', 'INTOXICATION', 'AGE', 'GENDER',\n",
       "       'COUNTY_FIPS', 'COUNTY', 'LATITUDE', 'LONGITUDE', 'YEAR',\n",
       "       'INJURY_COUNT', 'INJURY_OUTCOME', 'Crash_ID', 'BUFF_DIST', 'ORIG_FID',\n",
       "       'Shape_Length', 'Shape_Area', 'WEATHER_DESC', 'BLOWING SAND/SNOW',\n",
       "       'CLEAR', 'CLOUDY', 'FOG', 'OTHER_WEATHER', 'RAIN', 'SEVERE CROSSWINDS',\n",
       "       'SLEET/HAIL', 'SNOW_WEATHER', 'LIGHTING_DESC', 'DARK-LIGHTED',\n",
       "       'DARK-NOT LIGHTED', 'DAWN', 'DAYLIGHT', 'DUSK', 'SURF_DESC', 'DIRT',\n",
       "       'DRY', 'ICE', 'SLUSH', 'SNOW_SURF', 'UNKNOWN_SURF', 'WET',\n",
       "       'INTOXICATION_DESC', 'ALCOHOL', 'ALCOHOL, DRUG', 'DRUG', 'MEDICINAL',\n",
       "       'MARIJUANA', 'NO INTOXICATION', 'INTERSECTION_DESC', 'NO_INTERSECTION',\n",
       "       'YES_INTERSECTION'],\n",
       "      dtype='object')"
      ]
     },
     "execution_count": 93,
     "metadata": {},
     "output_type": "execute_result"
    }
   ],
   "source": [
    "colo_2019.columns"
   ]
  },
  {
   "cell_type": "code",
   "execution_count": 94,
   "id": "88fb501b",
   "metadata": {},
   "outputs": [
    {
     "data": {
      "text/plain": [
       "array([1, 5, 2, 4, 7], dtype=int64)"
      ]
     },
     "execution_count": 94,
     "metadata": {},
     "output_type": "execute_result"
    }
   ],
   "source": [
    "colo_2019['ROAD_CLASS'].unique()"
   ]
  },
  {
   "cell_type": "code",
   "execution_count": 95,
   "id": "f4307e6e",
   "metadata": {},
   "outputs": [
    {
     "data": {
      "text/plain": [
       "array([2, 5, 1, 4, 7], dtype=int64)"
      ]
     },
     "execution_count": 95,
     "metadata": {},
     "output_type": "execute_result"
    }
   ],
   "source": [
    "colo_2020['ROAD_CLASS'].unique()"
   ]
  },
  {
   "cell_type": "code",
   "execution_count": 96,
   "id": "d1c96ee5",
   "metadata": {},
   "outputs": [
    {
     "data": {
      "text/plain": [
       "array([2, 5, 7, 1, 4], dtype=int64)"
      ]
     },
     "execution_count": 96,
     "metadata": {},
     "output_type": "execute_result"
    }
   ],
   "source": [
    "colo_2021['ROAD_CLASS'].unique()"
   ]
  },
  {
   "cell_type": "code",
   "execution_count": 97,
   "id": "f02a0b36",
   "metadata": {},
   "outputs": [],
   "source": [
    "roadway_types = {\n",
    "    1:'INTERSTATE',\n",
    "    2:'US & STATE HIGHWAY',\n",
    "    4:'COUNTY ROAD',\n",
    "    5:'CITY STREET',\n",
    "    7:'OTHER ROADS'\n",
    "}\n",
    "\n",
    "\n",
    "\n",
    "def process_road_type_data(df, mapping):\n",
    "    # Map the road type codes to descriptive names\n",
    "    df['ROAD_TYPE_DESC'] = df['ROAD_CLASS'].map(mapping).astype(str)\n",
    "    \n",
    "    # Group by COUNTY and ROAD_TYPE_DESC, then count occurrences\n",
    "    grouped_road_type = df.groupby(['COUNTY', 'ROAD_TYPE_DESC']).size().unstack(fill_value=0)\n",
    "    \n",
    "    # Calculate total counts by county to normalize the data\n",
    "    total_counts_by_county_road_type = grouped_road_type.sum(axis=1)\n",
    "    \n",
    "    # Calculate percentages\n",
    "    road_type_percentages_df = (grouped_road_type.div(total_counts_by_county_road_type, axis=0) * 100).fillna(0)\n",
    "    road_type_percentages_df = road_type_percentages_df.reset_index()\n",
    "    \n",
    "    return road_type_percentages_df\n",
    "\n",
    "# Apply the function to each yearly DataFrame\n",
    "road_type_percentages_df_2019 = process_road_type_data(colo_2019, roadway_types)\n",
    "road_type_percentages_df_2020 = process_road_type_data(colo_2020, roadway_types)\n",
    "road_type_percentages_df_2021 = process_road_type_data(colo_2021, roadway_types)"
   ]
  },
  {
   "cell_type": "code",
   "execution_count": 98,
   "id": "867527ad",
   "metadata": {},
   "outputs": [
    {
     "data": {
      "text/plain": [
       "((64, 6), (64, 6), (64, 6))"
      ]
     },
     "execution_count": 98,
     "metadata": {},
     "output_type": "execute_result"
    }
   ],
   "source": [
    "road_type_percentages_df_2019.shape,road_type_percentages_df_2020.shape,road_type_percentages_df_2021.shape"
   ]
  },
  {
   "cell_type": "code",
   "execution_count": 99,
   "id": "43f8a65c",
   "metadata": {},
   "outputs": [],
   "source": [
    "def merger(f1,f2):\n",
    "    f1 = pd.merge(f1,f2,on=['COUNTY'],how='left')\n",
    "    return f1"
   ]
  },
  {
   "cell_type": "code",
   "execution_count": 100,
   "id": "9ad63d0c",
   "metadata": {},
   "outputs": [],
   "source": [
    "colo_2019 = merger(colo_2019,road_type_percentages_df_2019)\n",
    "colo_2020 = merger(colo_2020,road_type_percentages_df_2020)\n",
    "colo_2021 = merger(colo_2021,road_type_percentages_df_2021)"
   ]
  },
  {
   "cell_type": "code",
   "execution_count": 101,
   "id": "c3e7bad2",
   "metadata": {},
   "outputs": [
    {
     "data": {
      "text/plain": [
       "((108647, 64), (74059, 64), (34584, 64))"
      ]
     },
     "execution_count": 101,
     "metadata": {},
     "output_type": "execute_result"
    }
   ],
   "source": [
    "colo_2019.shape, colo_2020.shape, colo_2021.shape"
   ]
  },
  {
   "cell_type": "code",
   "execution_count": 102,
   "id": "f6448ea3",
   "metadata": {},
   "outputs": [
    {
     "data": {
      "text/plain": [
       "array(['STRAIGHT ON-GRADE', 'STRAIGHT ON-LEVEL', 'CURVE ON-GRADE',\n",
       "       'CURVE ON-LEVEL', 'HILLCREST'], dtype=object)"
      ]
     },
     "execution_count": 102,
     "metadata": {},
     "output_type": "execute_result"
    }
   ],
   "source": [
    "colo_2019['CONTOUR'].unique()"
   ]
  },
  {
   "cell_type": "code",
   "execution_count": 103,
   "id": "d615ef19",
   "metadata": {},
   "outputs": [
    {
     "data": {
      "text/plain": [
       "array(['STRAIGHT ON-LEVEL', 'CURVE ON-LEVEL', 'STRAIGHT ON-GRADE',\n",
       "       'CURVE ON-GRADE', 'HILLCREST'], dtype=object)"
      ]
     },
     "execution_count": 103,
     "metadata": {},
     "output_type": "execute_result"
    }
   ],
   "source": [
    "colo_2020['CONTOUR'].unique()"
   ]
  },
  {
   "cell_type": "code",
   "execution_count": 104,
   "id": "c24d45b4",
   "metadata": {},
   "outputs": [
    {
     "data": {
      "text/plain": [
       "array(['StraightLevel', 'StraightDownhill', 'StraightUphill',\n",
       "       'Curve LeftLevel', 'Curve LeftUphill', 'Curve LeftDownhill',\n",
       "       'Curve RightUphill', 'Curve RightLevel', 'Curve RightDownhill',\n",
       "       'StraightUnknown', 'StraightHill Crest', 'UnknownLevel',\n",
       "       'Curve RightUnknown', 'Curve RightSag/Bottom',\n",
       "       'Curve LeftHill Crest', 'StraightSag/Bottom', 'UnknownUnknown',\n",
       "       'UnknownDownhill', 'Curve LeftSag/Bottom', 'Curve RightHill Crest',\n",
       "       'Curve LeftUnknown', 'UnknownUphill', 'UnknownHill Crest'],\n",
       "      dtype=object)"
      ]
     },
     "execution_count": 104,
     "metadata": {},
     "output_type": "execute_result"
    }
   ],
   "source": [
    "colo_2021['CONTOUR'].unique()"
   ]
  },
  {
   "cell_type": "code",
   "execution_count": 105,
   "id": "193b16d2",
   "metadata": {},
   "outputs": [
    {
     "data": {
      "text/plain": [
       "array([ 5., 11.,  7., 10.,  2.])"
      ]
     },
     "execution_count": 105,
     "metadata": {},
     "output_type": "execute_result"
    }
   ],
   "source": [
    "colo_2019['HUMAN_FACTOR'].unique()"
   ]
  },
  {
   "cell_type": "code",
   "execution_count": 106,
   "id": "701df243",
   "metadata": {},
   "outputs": [
    {
     "data": {
      "text/plain": [
       "array([10., 12.,  5.,  7.,  2., 11.])"
      ]
     },
     "execution_count": 106,
     "metadata": {},
     "output_type": "execute_result"
    }
   ],
   "source": [
    "colo_2020['HUMAN_FACTOR'].unique()"
   ]
  },
  {
   "cell_type": "code",
   "execution_count": 107,
   "id": "6e47abfa",
   "metadata": {},
   "outputs": [
    {
     "data": {
      "text/plain": [
       "array([10.,  2.,  3.,  4.,  6.,  5.,  1., 11.,  8., 12.,  9.])"
      ]
     },
     "execution_count": 107,
     "metadata": {},
     "output_type": "execute_result"
    }
   ],
   "source": [
    "colo_2021['HUMAN_FACTOR'].unique()"
   ]
  },
  {
   "cell_type": "code",
   "execution_count": 108,
   "id": "3a206bdb",
   "metadata": {},
   "outputs": [],
   "source": [
    "human_encoding = {\n",
    "    1:'SPEEDING',\n",
    "    2:'INATTENTION',\n",
    "    3:'LANE_CHNG',\n",
    "    4:'TAILGATING',\n",
    "    5:'VIOLATION',\n",
    "    6:'UNSAFE_BACKING',\n",
    "    7:'IMPAIRMENT',\n",
    "    8:'TURNING',\n",
    "    9:'TECH_PARK',\n",
    "    10:'NO_FAULT',\n",
    "    11:'KNOWN_HUMAN_FACTOR',\n",
    "    12:'UNKNOWN_HUMAN_FACTOR'\n",
    "}\n",
    "\n",
    "\n",
    "def human(df, mapping):\n",
    "    # Map the road type codes to descriptive names\n",
    "    df['HUMAN_FACTOR_DESC'] = df['HUMAN_FACTOR'].map(mapping).astype(str)\n",
    "    \n",
    "    # Group by COUNTY and ROAD_TYPE_DESC, then count occurrences\n",
    "    grouped_road_type = df.groupby(['COUNTY', 'HUMAN_FACTOR_DESC']).size().unstack(fill_value=0)\n",
    "    \n",
    "    # Calculate total counts by county to normalize the data\n",
    "    total_counts_by_county_road_type = grouped_road_type.sum(axis=1)\n",
    "    \n",
    "    # Calculate percentages\n",
    "    human_percentages_df = (grouped_road_type.div(total_counts_by_county_road_type, axis=0) * 100).fillna(0)\n",
    "    human_percentages_df = human_percentages_df.reset_index()\n",
    "    \n",
    "    return human_percentages_df\n",
    "\n",
    "# Apply the function to each yearly DataFrame\n",
    "human_percentages_df_2019 = human(colo_2019, human_encoding)\n",
    "human_percentages_df_2020 = human(colo_2020, human_encoding)\n",
    "human_percentages_df_2021 = human(colo_2021, human_encoding)\n"
   ]
  },
  {
   "cell_type": "code",
   "execution_count": 109,
   "id": "ecc04086",
   "metadata": {},
   "outputs": [
    {
     "data": {
      "text/plain": [
       "(64, 6)"
      ]
     },
     "execution_count": 109,
     "metadata": {},
     "output_type": "execute_result"
    }
   ],
   "source": [
    "human_percentages_df_2019.shape"
   ]
  },
  {
   "cell_type": "code",
   "execution_count": 110,
   "id": "b558cf3f",
   "metadata": {},
   "outputs": [
    {
     "data": {
      "text/plain": [
       "(64, 7)"
      ]
     },
     "execution_count": 110,
     "metadata": {},
     "output_type": "execute_result"
    }
   ],
   "source": [
    "human_percentages_df_2020.shape"
   ]
  },
  {
   "cell_type": "code",
   "execution_count": 111,
   "id": "0a98e100",
   "metadata": {},
   "outputs": [
    {
     "data": {
      "text/plain": [
       "(64, 12)"
      ]
     },
     "execution_count": 111,
     "metadata": {},
     "output_type": "execute_result"
    }
   ],
   "source": [
    "human_percentages_df_2021.shape"
   ]
  },
  {
   "cell_type": "code",
   "execution_count": 112,
   "id": "98d97aee",
   "metadata": {},
   "outputs": [
    {
     "data": {
      "text/plain": [
       "Index(['COUNTY', 'IMPAIRMENT', 'INATTENTION', 'KNOWN_HUMAN_FACTOR', 'NO_FAULT',\n",
       "       'VIOLATION'],\n",
       "      dtype='object', name='HUMAN_FACTOR_DESC')"
      ]
     },
     "execution_count": 112,
     "metadata": {},
     "output_type": "execute_result"
    }
   ],
   "source": [
    "human_percentages_df_2019.columns"
   ]
  },
  {
   "cell_type": "code",
   "execution_count": 113,
   "id": "92e2d3d7",
   "metadata": {},
   "outputs": [
    {
     "data": {
      "text/plain": [
       "Index(['COUNTY', 'IMPAIRMENT', 'INATTENTION', 'KNOWN_HUMAN_FACTOR', 'NO_FAULT',\n",
       "       'UNKNOWN_HUMAN_FACTOR', 'VIOLATION'],\n",
       "      dtype='object', name='HUMAN_FACTOR_DESC')"
      ]
     },
     "execution_count": 113,
     "metadata": {},
     "output_type": "execute_result"
    }
   ],
   "source": [
    "human_percentages_df_2020.columns"
   ]
  },
  {
   "cell_type": "code",
   "execution_count": 114,
   "id": "86f29368",
   "metadata": {},
   "outputs": [
    {
     "data": {
      "text/plain": [
       "Index(['COUNTY', 'INATTENTION', 'KNOWN_HUMAN_FACTOR', 'LANE_CHNG', 'NO_FAULT',\n",
       "       'SPEEDING', 'TAILGATING', 'TECH_PARK', 'TURNING',\n",
       "       'UNKNOWN_HUMAN_FACTOR', 'UNSAFE_BACKING', 'VIOLATION'],\n",
       "      dtype='object', name='HUMAN_FACTOR_DESC')"
      ]
     },
     "execution_count": 114,
     "metadata": {},
     "output_type": "execute_result"
    }
   ],
   "source": [
    "human_percentages_df_2021.columns"
   ]
  },
  {
   "cell_type": "code",
   "execution_count": 115,
   "id": "152aa962",
   "metadata": {},
   "outputs": [],
   "source": [
    "human_percentages_df_2021.insert(1,'IMPAIRMENT',0)"
   ]
  },
  {
   "cell_type": "code",
   "execution_count": 116,
   "id": "d8a2e0d8",
   "metadata": {},
   "outputs": [],
   "source": [
    "human_percentages_df_2019.insert(4,'LANE_CHNG',0)"
   ]
  },
  {
   "cell_type": "code",
   "execution_count": 117,
   "id": "ced7b648",
   "metadata": {},
   "outputs": [],
   "source": [
    "human_percentages_df_2019.insert(6,'SPEEDING',0)"
   ]
  },
  {
   "cell_type": "code",
   "execution_count": 118,
   "id": "d5222d9b",
   "metadata": {},
   "outputs": [],
   "source": [
    "human_percentages_df_2019.insert(7,'TAILGATING',0)"
   ]
  },
  {
   "cell_type": "code",
   "execution_count": 119,
   "id": "3a4f8b8c",
   "metadata": {},
   "outputs": [],
   "source": [
    "human_percentages_df_2019.insert(8,'TECH_PARK',0)"
   ]
  },
  {
   "cell_type": "code",
   "execution_count": 120,
   "id": "46fcacea",
   "metadata": {},
   "outputs": [],
   "source": [
    "human_percentages_df_2019.insert(9,'TURNING',0)"
   ]
  },
  {
   "cell_type": "code",
   "execution_count": 121,
   "id": "28f29885",
   "metadata": {},
   "outputs": [],
   "source": [
    "human_percentages_df_2019.insert(10,'UNKNOWN_HUMAN_FACTOR',0)"
   ]
  },
  {
   "cell_type": "code",
   "execution_count": 122,
   "id": "7ab64216",
   "metadata": {},
   "outputs": [],
   "source": [
    "human_percentages_df_2019.insert(11,'UNSAFE_BACKING',0)"
   ]
  },
  {
   "cell_type": "code",
   "execution_count": 123,
   "id": "52d872dd",
   "metadata": {},
   "outputs": [],
   "source": [
    "human_percentages_df_2020.insert(4,'LANE_CHNG',0)"
   ]
  },
  {
   "cell_type": "code",
   "execution_count": 124,
   "id": "03716842",
   "metadata": {},
   "outputs": [],
   "source": [
    "human_percentages_df_2020.insert(6,'SPEEDING',0)"
   ]
  },
  {
   "cell_type": "code",
   "execution_count": 125,
   "id": "a6680914",
   "metadata": {},
   "outputs": [],
   "source": [
    "human_percentages_df_2020.insert(7,'TAILGATING',0)"
   ]
  },
  {
   "cell_type": "code",
   "execution_count": 126,
   "id": "05ad2b71",
   "metadata": {},
   "outputs": [],
   "source": [
    "human_percentages_df_2020.insert(8,'TECH_PARK',0)"
   ]
  },
  {
   "cell_type": "code",
   "execution_count": 127,
   "id": "c166d0dd",
   "metadata": {},
   "outputs": [],
   "source": [
    "human_percentages_df_2020.insert(9,'TURNING',0)"
   ]
  },
  {
   "cell_type": "code",
   "execution_count": 128,
   "id": "e268c2e2",
   "metadata": {},
   "outputs": [],
   "source": [
    "human_percentages_df_2020.insert(11,'UNSAFE_BACKING',0)"
   ]
  },
  {
   "cell_type": "code",
   "execution_count": 129,
   "id": "bfc2f091",
   "metadata": {},
   "outputs": [
    {
     "data": {
      "text/plain": [
       "((64, 13), (64, 13), (64, 13))"
      ]
     },
     "execution_count": 129,
     "metadata": {},
     "output_type": "execute_result"
    }
   ],
   "source": [
    "human_percentages_df_2019.shape, human_percentages_df_2020.shape, human_percentages_df_2020.shape"
   ]
  },
  {
   "cell_type": "code",
   "execution_count": 130,
   "id": "2602ab68",
   "metadata": {},
   "outputs": [],
   "source": [
    "def merger(f1,f2):\n",
    "    f1 = pd.merge(f1,f2,on=['COUNTY'],how='left')\n",
    "    return f1"
   ]
  },
  {
   "cell_type": "code",
   "execution_count": 131,
   "id": "98360e4a",
   "metadata": {},
   "outputs": [],
   "source": [
    "colo_2019 = merger(colo_2019,human_percentages_df_2019)\n",
    "colo_2020 = merger(colo_2020,human_percentages_df_2020)\n",
    "colo_2021 = merger(colo_2021, human_percentages_df_2021)"
   ]
  },
  {
   "cell_type": "code",
   "execution_count": 132,
   "id": "21a2ffca",
   "metadata": {},
   "outputs": [
    {
     "data": {
      "text/plain": [
       "((108647, 77), (74059, 77), (34584, 77))"
      ]
     },
     "execution_count": 132,
     "metadata": {},
     "output_type": "execute_result"
    }
   ],
   "source": [
    "colo_2019.shape, colo_2020.shape, colo_2021.shape"
   ]
  },
  {
   "cell_type": "code",
   "execution_count": null,
   "id": "ca28107a",
   "metadata": {},
   "outputs": [],
   "source": []
  },
  {
   "cell_type": "code",
   "execution_count": 133,
   "id": "02647ee3",
   "metadata": {},
   "outputs": [],
   "source": [
    "age_bands = ['AGE 1-21', 'AGE 22-30', 'AGE 31-65', 'AGE 66 and above', 'Unknown Age']\n",
    "\n",
    "# Use pd.cut() to bin the ages into the age bands\n",
    "colo_2019['AGE_BAND'] = pd.cut(colo_2019['AGE'], bins=[0, 21, 30, 65, 100, np.inf], labels=age_bands, right=False)"
   ]
  },
  {
   "cell_type": "code",
   "execution_count": 134,
   "id": "bf0ec6af",
   "metadata": {},
   "outputs": [],
   "source": [
    "age_bands = ['AGE 1-21', 'AGE 22-30', 'AGE 31-65', 'AGE 66 and above', 'Unknown Age']\n",
    "\n",
    "# Use pd.cut() to bin the ages into the age bands\n",
    "colo_2020['AGE_BAND'] = pd.cut(colo_2020['AGE'], bins=[0, 21, 30, 65, 100, np.inf], labels=age_bands, right=False)"
   ]
  },
  {
   "cell_type": "code",
   "execution_count": 135,
   "id": "345aff14",
   "metadata": {},
   "outputs": [],
   "source": [
    "age_bands = ['AGE 1-21', 'AGE 22-30', 'AGE 31-65', 'AGE 66 and above', 'Unknown Age']\n",
    "\n",
    "# Use pd.cut() to bin the ages into the age bands\n",
    "colo_2021['AGE_BAND'] = pd.cut(colo_2021['AGE'], bins=[0, 21, 30, 65, 100, np.inf], labels=age_bands, right=False)"
   ]
  },
  {
   "cell_type": "code",
   "execution_count": 136,
   "id": "6b1e0aa6",
   "metadata": {},
   "outputs": [],
   "source": [
    "def age(df):\n",
    "    \n",
    "    # Group by COUNTY and ROAD_TYPE_DESC, then count occurrences\n",
    "    grouped_road_type = df.groupby(['COUNTY', 'AGE_BAND']).size().unstack(fill_value=0)\n",
    "    \n",
    "    # Calculate total counts by county to normalize the data\n",
    "    total_counts_by_county_road_type = grouped_road_type.sum(axis=1)\n",
    "    \n",
    "    # Calculate percentages\n",
    "    age_percentages_df = (grouped_road_type.div(total_counts_by_county_road_type, axis=0) * 100).fillna(0)\n",
    "    age_percentages_df = age_percentages_df.reset_index()\n",
    "    \n",
    "    return age_percentages_df\n",
    "\n",
    "# Apply the function to each yearly DataFrame\n",
    "age_percentages_df_2019 = age(colo_2019)\n",
    "age_percentages_df_2020 = age(colo_2020)\n",
    "age_percentages_df_2021 = age(colo_2021)"
   ]
  },
  {
   "cell_type": "code",
   "execution_count": 137,
   "id": "76275685",
   "metadata": {},
   "outputs": [
    {
     "data": {
      "text/html": [
       "<div>\n",
       "<style scoped>\n",
       "    .dataframe tbody tr th:only-of-type {\n",
       "        vertical-align: middle;\n",
       "    }\n",
       "\n",
       "    .dataframe tbody tr th {\n",
       "        vertical-align: top;\n",
       "    }\n",
       "\n",
       "    .dataframe thead th {\n",
       "        text-align: right;\n",
       "    }\n",
       "</style>\n",
       "<table border=\"1\" class=\"dataframe\">\n",
       "  <thead>\n",
       "    <tr style=\"text-align: right;\">\n",
       "      <th>AGE_BAND</th>\n",
       "      <th>COUNTY</th>\n",
       "      <th>AGE 1-21</th>\n",
       "      <th>AGE 22-30</th>\n",
       "      <th>AGE 31-65</th>\n",
       "      <th>AGE 66 and above</th>\n",
       "      <th>Unknown Age</th>\n",
       "    </tr>\n",
       "  </thead>\n",
       "  <tbody>\n",
       "    <tr>\n",
       "      <th>0</th>\n",
       "      <td>ADAMS</td>\n",
       "      <td>26.738010</td>\n",
       "      <td>23.725723</td>\n",
       "      <td>43.265953</td>\n",
       "      <td>6.270313</td>\n",
       "      <td>0.0</td>\n",
       "    </tr>\n",
       "    <tr>\n",
       "      <th>1</th>\n",
       "      <td>ALAMOSA</td>\n",
       "      <td>22.026432</td>\n",
       "      <td>19.383260</td>\n",
       "      <td>44.493392</td>\n",
       "      <td>14.096916</td>\n",
       "      <td>0.0</td>\n",
       "    </tr>\n",
       "    <tr>\n",
       "      <th>2</th>\n",
       "      <td>ARAPAHOE</td>\n",
       "      <td>24.376989</td>\n",
       "      <td>23.049453</td>\n",
       "      <td>44.771369</td>\n",
       "      <td>7.802189</td>\n",
       "      <td>0.0</td>\n",
       "    </tr>\n",
       "    <tr>\n",
       "      <th>3</th>\n",
       "      <td>ARCHULETA</td>\n",
       "      <td>12.994350</td>\n",
       "      <td>21.468927</td>\n",
       "      <td>51.977401</td>\n",
       "      <td>13.559322</td>\n",
       "      <td>0.0</td>\n",
       "    </tr>\n",
       "    <tr>\n",
       "      <th>4</th>\n",
       "      <td>BACA</td>\n",
       "      <td>13.636364</td>\n",
       "      <td>18.181818</td>\n",
       "      <td>52.272727</td>\n",
       "      <td>15.909091</td>\n",
       "      <td>0.0</td>\n",
       "    </tr>\n",
       "    <tr>\n",
       "      <th>...</th>\n",
       "      <td>...</td>\n",
       "      <td>...</td>\n",
       "      <td>...</td>\n",
       "      <td>...</td>\n",
       "      <td>...</td>\n",
       "      <td>...</td>\n",
       "    </tr>\n",
       "    <tr>\n",
       "      <th>59</th>\n",
       "      <td>SUMMIT</td>\n",
       "      <td>13.913043</td>\n",
       "      <td>30.326087</td>\n",
       "      <td>48.478261</td>\n",
       "      <td>7.282609</td>\n",
       "      <td>0.0</td>\n",
       "    </tr>\n",
       "    <tr>\n",
       "      <th>60</th>\n",
       "      <td>TELLER</td>\n",
       "      <td>11.203320</td>\n",
       "      <td>15.352697</td>\n",
       "      <td>56.016598</td>\n",
       "      <td>17.427386</td>\n",
       "      <td>0.0</td>\n",
       "    </tr>\n",
       "    <tr>\n",
       "      <th>61</th>\n",
       "      <td>WASHINGTON</td>\n",
       "      <td>12.500000</td>\n",
       "      <td>18.055556</td>\n",
       "      <td>48.611111</td>\n",
       "      <td>20.833333</td>\n",
       "      <td>0.0</td>\n",
       "    </tr>\n",
       "    <tr>\n",
       "      <th>62</th>\n",
       "      <td>WELD</td>\n",
       "      <td>26.519514</td>\n",
       "      <td>23.704415</td>\n",
       "      <td>43.314139</td>\n",
       "      <td>6.461932</td>\n",
       "      <td>0.0</td>\n",
       "    </tr>\n",
       "    <tr>\n",
       "      <th>63</th>\n",
       "      <td>YUMA</td>\n",
       "      <td>12.121212</td>\n",
       "      <td>27.272727</td>\n",
       "      <td>50.000000</td>\n",
       "      <td>10.606061</td>\n",
       "      <td>0.0</td>\n",
       "    </tr>\n",
       "  </tbody>\n",
       "</table>\n",
       "<p>64 rows × 6 columns</p>\n",
       "</div>"
      ],
      "text/plain": [
       "AGE_BAND      COUNTY   AGE 1-21  AGE 22-30  AGE 31-65  AGE 66 and above  \\\n",
       "0              ADAMS  26.738010  23.725723  43.265953          6.270313   \n",
       "1            ALAMOSA  22.026432  19.383260  44.493392         14.096916   \n",
       "2           ARAPAHOE  24.376989  23.049453  44.771369          7.802189   \n",
       "3          ARCHULETA  12.994350  21.468927  51.977401         13.559322   \n",
       "4               BACA  13.636364  18.181818  52.272727         15.909091   \n",
       "..               ...        ...        ...        ...               ...   \n",
       "59            SUMMIT  13.913043  30.326087  48.478261          7.282609   \n",
       "60            TELLER  11.203320  15.352697  56.016598         17.427386   \n",
       "61        WASHINGTON  12.500000  18.055556  48.611111         20.833333   \n",
       "62              WELD  26.519514  23.704415  43.314139          6.461932   \n",
       "63              YUMA  12.121212  27.272727  50.000000         10.606061   \n",
       "\n",
       "AGE_BAND  Unknown Age  \n",
       "0                 0.0  \n",
       "1                 0.0  \n",
       "2                 0.0  \n",
       "3                 0.0  \n",
       "4                 0.0  \n",
       "..                ...  \n",
       "59                0.0  \n",
       "60                0.0  \n",
       "61                0.0  \n",
       "62                0.0  \n",
       "63                0.0  \n",
       "\n",
       "[64 rows x 6 columns]"
      ]
     },
     "execution_count": 137,
     "metadata": {},
     "output_type": "execute_result"
    }
   ],
   "source": [
    "age_percentages_df_2019"
   ]
  },
  {
   "cell_type": "code",
   "execution_count": 138,
   "id": "a0e82f90",
   "metadata": {},
   "outputs": [
    {
     "data": {
      "text/html": [
       "<div>\n",
       "<style scoped>\n",
       "    .dataframe tbody tr th:only-of-type {\n",
       "        vertical-align: middle;\n",
       "    }\n",
       "\n",
       "    .dataframe tbody tr th {\n",
       "        vertical-align: top;\n",
       "    }\n",
       "\n",
       "    .dataframe thead th {\n",
       "        text-align: right;\n",
       "    }\n",
       "</style>\n",
       "<table border=\"1\" class=\"dataframe\">\n",
       "  <thead>\n",
       "    <tr style=\"text-align: right;\">\n",
       "      <th>AGE_BAND</th>\n",
       "      <th>COUNTY</th>\n",
       "      <th>AGE 1-21</th>\n",
       "      <th>AGE 22-30</th>\n",
       "      <th>AGE 31-65</th>\n",
       "      <th>AGE 66 and above</th>\n",
       "      <th>Unknown Age</th>\n",
       "    </tr>\n",
       "  </thead>\n",
       "  <tbody>\n",
       "    <tr>\n",
       "      <th>0</th>\n",
       "      <td>ADAMS</td>\n",
       "      <td>30.111565</td>\n",
       "      <td>23.450790</td>\n",
       "      <td>41.157627</td>\n",
       "      <td>5.280018</td>\n",
       "      <td>0.0</td>\n",
       "    </tr>\n",
       "    <tr>\n",
       "      <th>1</th>\n",
       "      <td>ALAMOSA</td>\n",
       "      <td>15.428571</td>\n",
       "      <td>17.142857</td>\n",
       "      <td>55.428571</td>\n",
       "      <td>12.000000</td>\n",
       "      <td>0.0</td>\n",
       "    </tr>\n",
       "    <tr>\n",
       "      <th>2</th>\n",
       "      <td>ARAPAHOE</td>\n",
       "      <td>27.816144</td>\n",
       "      <td>23.446168</td>\n",
       "      <td>41.016642</td>\n",
       "      <td>7.721046</td>\n",
       "      <td>0.0</td>\n",
       "    </tr>\n",
       "    <tr>\n",
       "      <th>3</th>\n",
       "      <td>ARCHULETA</td>\n",
       "      <td>13.736264</td>\n",
       "      <td>21.978022</td>\n",
       "      <td>47.252747</td>\n",
       "      <td>17.032967</td>\n",
       "      <td>0.0</td>\n",
       "    </tr>\n",
       "    <tr>\n",
       "      <th>4</th>\n",
       "      <td>BACA</td>\n",
       "      <td>3.448276</td>\n",
       "      <td>27.586207</td>\n",
       "      <td>62.068966</td>\n",
       "      <td>6.896552</td>\n",
       "      <td>0.0</td>\n",
       "    </tr>\n",
       "    <tr>\n",
       "      <th>...</th>\n",
       "      <td>...</td>\n",
       "      <td>...</td>\n",
       "      <td>...</td>\n",
       "      <td>...</td>\n",
       "      <td>...</td>\n",
       "      <td>...</td>\n",
       "    </tr>\n",
       "    <tr>\n",
       "      <th>59</th>\n",
       "      <td>SUMMIT</td>\n",
       "      <td>18.240000</td>\n",
       "      <td>27.360000</td>\n",
       "      <td>47.520000</td>\n",
       "      <td>6.880000</td>\n",
       "      <td>0.0</td>\n",
       "    </tr>\n",
       "    <tr>\n",
       "      <th>60</th>\n",
       "      <td>TELLER</td>\n",
       "      <td>9.375000</td>\n",
       "      <td>18.750000</td>\n",
       "      <td>57.812500</td>\n",
       "      <td>14.062500</td>\n",
       "      <td>0.0</td>\n",
       "    </tr>\n",
       "    <tr>\n",
       "      <th>61</th>\n",
       "      <td>WASHINGTON</td>\n",
       "      <td>20.000000</td>\n",
       "      <td>16.923077</td>\n",
       "      <td>58.461538</td>\n",
       "      <td>4.615385</td>\n",
       "      <td>0.0</td>\n",
       "    </tr>\n",
       "    <tr>\n",
       "      <th>62</th>\n",
       "      <td>WELD</td>\n",
       "      <td>27.516030</td>\n",
       "      <td>24.003345</td>\n",
       "      <td>41.817675</td>\n",
       "      <td>6.662950</td>\n",
       "      <td>0.0</td>\n",
       "    </tr>\n",
       "    <tr>\n",
       "      <th>63</th>\n",
       "      <td>YUMA</td>\n",
       "      <td>25.000000</td>\n",
       "      <td>20.833333</td>\n",
       "      <td>39.583333</td>\n",
       "      <td>14.583333</td>\n",
       "      <td>0.0</td>\n",
       "    </tr>\n",
       "  </tbody>\n",
       "</table>\n",
       "<p>64 rows × 6 columns</p>\n",
       "</div>"
      ],
      "text/plain": [
       "AGE_BAND      COUNTY   AGE 1-21  AGE 22-30  AGE 31-65  AGE 66 and above  \\\n",
       "0              ADAMS  30.111565  23.450790  41.157627          5.280018   \n",
       "1            ALAMOSA  15.428571  17.142857  55.428571         12.000000   \n",
       "2           ARAPAHOE  27.816144  23.446168  41.016642          7.721046   \n",
       "3          ARCHULETA  13.736264  21.978022  47.252747         17.032967   \n",
       "4               BACA   3.448276  27.586207  62.068966          6.896552   \n",
       "..               ...        ...        ...        ...               ...   \n",
       "59            SUMMIT  18.240000  27.360000  47.520000          6.880000   \n",
       "60            TELLER   9.375000  18.750000  57.812500         14.062500   \n",
       "61        WASHINGTON  20.000000  16.923077  58.461538          4.615385   \n",
       "62              WELD  27.516030  24.003345  41.817675          6.662950   \n",
       "63              YUMA  25.000000  20.833333  39.583333         14.583333   \n",
       "\n",
       "AGE_BAND  Unknown Age  \n",
       "0                 0.0  \n",
       "1                 0.0  \n",
       "2                 0.0  \n",
       "3                 0.0  \n",
       "4                 0.0  \n",
       "..                ...  \n",
       "59                0.0  \n",
       "60                0.0  \n",
       "61                0.0  \n",
       "62                0.0  \n",
       "63                0.0  \n",
       "\n",
       "[64 rows x 6 columns]"
      ]
     },
     "execution_count": 138,
     "metadata": {},
     "output_type": "execute_result"
    }
   ],
   "source": [
    "age_percentages_df_2020"
   ]
  },
  {
   "cell_type": "code",
   "execution_count": 139,
   "id": "df88c3e0",
   "metadata": {},
   "outputs": [
    {
     "data": {
      "text/html": [
       "<div>\n",
       "<style scoped>\n",
       "    .dataframe tbody tr th:only-of-type {\n",
       "        vertical-align: middle;\n",
       "    }\n",
       "\n",
       "    .dataframe tbody tr th {\n",
       "        vertical-align: top;\n",
       "    }\n",
       "\n",
       "    .dataframe thead th {\n",
       "        text-align: right;\n",
       "    }\n",
       "</style>\n",
       "<table border=\"1\" class=\"dataframe\">\n",
       "  <thead>\n",
       "    <tr style=\"text-align: right;\">\n",
       "      <th>AGE_BAND</th>\n",
       "      <th>COUNTY</th>\n",
       "      <th>AGE 1-21</th>\n",
       "      <th>AGE 22-30</th>\n",
       "      <th>AGE 31-65</th>\n",
       "      <th>AGE 66 and above</th>\n",
       "      <th>Unknown Age</th>\n",
       "    </tr>\n",
       "  </thead>\n",
       "  <tbody>\n",
       "    <tr>\n",
       "      <th>0</th>\n",
       "      <td>ADAMS</td>\n",
       "      <td>33.296631</td>\n",
       "      <td>21.779344</td>\n",
       "      <td>39.903105</td>\n",
       "      <td>5.020921</td>\n",
       "      <td>0.0</td>\n",
       "    </tr>\n",
       "    <tr>\n",
       "      <th>1</th>\n",
       "      <td>ALAMOSA</td>\n",
       "      <td>20.710059</td>\n",
       "      <td>21.893491</td>\n",
       "      <td>43.195266</td>\n",
       "      <td>14.201183</td>\n",
       "      <td>0.0</td>\n",
       "    </tr>\n",
       "    <tr>\n",
       "      <th>2</th>\n",
       "      <td>ARAPAHOE</td>\n",
       "      <td>28.668639</td>\n",
       "      <td>23.431953</td>\n",
       "      <td>40.236686</td>\n",
       "      <td>7.662722</td>\n",
       "      <td>0.0</td>\n",
       "    </tr>\n",
       "    <tr>\n",
       "      <th>3</th>\n",
       "      <td>ARCHULETA</td>\n",
       "      <td>22.748815</td>\n",
       "      <td>18.957346</td>\n",
       "      <td>44.549763</td>\n",
       "      <td>13.744076</td>\n",
       "      <td>0.0</td>\n",
       "    </tr>\n",
       "    <tr>\n",
       "      <th>4</th>\n",
       "      <td>BACA</td>\n",
       "      <td>15.151515</td>\n",
       "      <td>24.242424</td>\n",
       "      <td>45.454545</td>\n",
       "      <td>15.151515</td>\n",
       "      <td>0.0</td>\n",
       "    </tr>\n",
       "    <tr>\n",
       "      <th>...</th>\n",
       "      <td>...</td>\n",
       "      <td>...</td>\n",
       "      <td>...</td>\n",
       "      <td>...</td>\n",
       "      <td>...</td>\n",
       "      <td>...</td>\n",
       "    </tr>\n",
       "    <tr>\n",
       "      <th>59</th>\n",
       "      <td>SUMMIT</td>\n",
       "      <td>15.046296</td>\n",
       "      <td>24.305556</td>\n",
       "      <td>50.925926</td>\n",
       "      <td>9.722222</td>\n",
       "      <td>0.0</td>\n",
       "    </tr>\n",
       "    <tr>\n",
       "      <th>60</th>\n",
       "      <td>TELLER</td>\n",
       "      <td>18.834081</td>\n",
       "      <td>18.834081</td>\n",
       "      <td>47.085202</td>\n",
       "      <td>15.246637</td>\n",
       "      <td>0.0</td>\n",
       "    </tr>\n",
       "    <tr>\n",
       "      <th>61</th>\n",
       "      <td>WASHINGTON</td>\n",
       "      <td>13.207547</td>\n",
       "      <td>18.867925</td>\n",
       "      <td>58.490566</td>\n",
       "      <td>9.433962</td>\n",
       "      <td>0.0</td>\n",
       "    </tr>\n",
       "    <tr>\n",
       "      <th>62</th>\n",
       "      <td>WELD</td>\n",
       "      <td>26.791569</td>\n",
       "      <td>23.981265</td>\n",
       "      <td>41.030445</td>\n",
       "      <td>8.196721</td>\n",
       "      <td>0.0</td>\n",
       "    </tr>\n",
       "    <tr>\n",
       "      <th>63</th>\n",
       "      <td>YUMA</td>\n",
       "      <td>24.000000</td>\n",
       "      <td>10.000000</td>\n",
       "      <td>56.000000</td>\n",
       "      <td>10.000000</td>\n",
       "      <td>0.0</td>\n",
       "    </tr>\n",
       "  </tbody>\n",
       "</table>\n",
       "<p>64 rows × 6 columns</p>\n",
       "</div>"
      ],
      "text/plain": [
       "AGE_BAND      COUNTY   AGE 1-21  AGE 22-30  AGE 31-65  AGE 66 and above  \\\n",
       "0              ADAMS  33.296631  21.779344  39.903105          5.020921   \n",
       "1            ALAMOSA  20.710059  21.893491  43.195266         14.201183   \n",
       "2           ARAPAHOE  28.668639  23.431953  40.236686          7.662722   \n",
       "3          ARCHULETA  22.748815  18.957346  44.549763         13.744076   \n",
       "4               BACA  15.151515  24.242424  45.454545         15.151515   \n",
       "..               ...        ...        ...        ...               ...   \n",
       "59            SUMMIT  15.046296  24.305556  50.925926          9.722222   \n",
       "60            TELLER  18.834081  18.834081  47.085202         15.246637   \n",
       "61        WASHINGTON  13.207547  18.867925  58.490566          9.433962   \n",
       "62              WELD  26.791569  23.981265  41.030445          8.196721   \n",
       "63              YUMA  24.000000  10.000000  56.000000         10.000000   \n",
       "\n",
       "AGE_BAND  Unknown Age  \n",
       "0                 0.0  \n",
       "1                 0.0  \n",
       "2                 0.0  \n",
       "3                 0.0  \n",
       "4                 0.0  \n",
       "..                ...  \n",
       "59                0.0  \n",
       "60                0.0  \n",
       "61                0.0  \n",
       "62                0.0  \n",
       "63                0.0  \n",
       "\n",
       "[64 rows x 6 columns]"
      ]
     },
     "execution_count": 139,
     "metadata": {},
     "output_type": "execute_result"
    }
   ],
   "source": [
    "age_percentages_df_2021"
   ]
  },
  {
   "cell_type": "code",
   "execution_count": 140,
   "id": "38b392be",
   "metadata": {},
   "outputs": [],
   "source": [
    "def merger(f1,f2):\n",
    "    f1 = pd.merge(f1,f2,on=['COUNTY'],how='left')\n",
    "    return f1"
   ]
  },
  {
   "cell_type": "code",
   "execution_count": 141,
   "id": "6031b86c",
   "metadata": {},
   "outputs": [],
   "source": [
    "colo_2019 = merger(colo_2019,age_percentages_df_2019)\n",
    "colo_2020 = merger(colo_2020,age_percentages_df_2020)\n",
    "colo_2021 = merger(colo_2021,age_percentages_df_2021)"
   ]
  },
  {
   "cell_type": "code",
   "execution_count": 142,
   "id": "b72fe056",
   "metadata": {},
   "outputs": [
    {
     "data": {
      "text/plain": [
       "((108647, 83), (74059, 83), (34584, 83))"
      ]
     },
     "execution_count": 142,
     "metadata": {},
     "output_type": "execute_result"
    }
   ],
   "source": [
    "colo_2019.shape, colo_2020.shape, colo_2021.shape"
   ]
  },
  {
   "cell_type": "code",
   "execution_count": 143,
   "id": "16a00daf",
   "metadata": {},
   "outputs": [
    {
     "data": {
      "text/plain": [
       "(array(['M', 'F', 'U'], dtype=object),\n",
       " array(['F', 'U', 'M'], dtype=object),\n",
       " array(['F', 'M', 'U'], dtype=object))"
      ]
     },
     "execution_count": 143,
     "metadata": {},
     "output_type": "execute_result"
    }
   ],
   "source": [
    "colo_2019['GENDER'].unique(), colo_2020['GENDER'].unique(), colo_2021['GENDER'].unique()"
   ]
  },
  {
   "cell_type": "code",
   "execution_count": 144,
   "id": "6a639296",
   "metadata": {},
   "outputs": [],
   "source": [
    "gender_mapping = {\n",
    "    'M': 'MALE',\n",
    "    'F': 'FEMALE',\n",
    "    'U': 'UNKNOWN_GENDER'\n",
    "}\n",
    "\n",
    "\n",
    "\n",
    "def process_gender_data(df, mapping):\n",
    "    # Map the gender codes to descriptive names\n",
    "    df['GENDER_DESC'] = df['GENDER'].map(mapping).astype(str)\n",
    "    \n",
    "    # Group by COUNTY and GENDER_DESC, then count occurrences\n",
    "    grouped = df.groupby(['COUNTY', 'GENDER_DESC']).size().unstack(fill_value=0)\n",
    "    \n",
    "    # Calculate total counts by county to normalize the data\n",
    "    total_counts_by_county = grouped.sum(axis=1)\n",
    "    \n",
    "    # Calculate percentages\n",
    "    gender_percentages_df = (grouped.div(total_counts_by_county, axis=0) * 100).fillna(0)\n",
    "    gender_percentages_df = gender_percentages_df.reset_index()\n",
    "    \n",
    "    return gender_percentages_df\n",
    "\n",
    "# Process each year's data\n",
    "gender_df_2019 = process_gender_data(colo_2019, gender_mapping)\n",
    "gender_df_2020 = process_gender_data(colo_2020, gender_mapping)\n",
    "gender_df_2021 = process_gender_data(colo_2021, gender_mapping)\n"
   ]
  },
  {
   "cell_type": "code",
   "execution_count": 145,
   "id": "77736853",
   "metadata": {},
   "outputs": [
    {
     "data": {
      "text/html": [
       "<div>\n",
       "<style scoped>\n",
       "    .dataframe tbody tr th:only-of-type {\n",
       "        vertical-align: middle;\n",
       "    }\n",
       "\n",
       "    .dataframe tbody tr th {\n",
       "        vertical-align: top;\n",
       "    }\n",
       "\n",
       "    .dataframe thead th {\n",
       "        text-align: right;\n",
       "    }\n",
       "</style>\n",
       "<table border=\"1\" class=\"dataframe\">\n",
       "  <thead>\n",
       "    <tr style=\"text-align: right;\">\n",
       "      <th>GENDER_DESC</th>\n",
       "      <th>COUNTY</th>\n",
       "      <th>FEMALE</th>\n",
       "      <th>MALE</th>\n",
       "      <th>UNKNOWN_GENDER</th>\n",
       "    </tr>\n",
       "  </thead>\n",
       "  <tbody>\n",
       "    <tr>\n",
       "      <th>0</th>\n",
       "      <td>ADAMS</td>\n",
       "      <td>32.493064</td>\n",
       "      <td>55.085216</td>\n",
       "      <td>12.421720</td>\n",
       "    </tr>\n",
       "    <tr>\n",
       "      <th>1</th>\n",
       "      <td>ALAMOSA</td>\n",
       "      <td>39.207048</td>\n",
       "      <td>54.625551</td>\n",
       "      <td>6.167401</td>\n",
       "    </tr>\n",
       "    <tr>\n",
       "      <th>2</th>\n",
       "      <td>ARAPAHOE</td>\n",
       "      <td>36.293766</td>\n",
       "      <td>53.148048</td>\n",
       "      <td>10.558186</td>\n",
       "    </tr>\n",
       "    <tr>\n",
       "      <th>3</th>\n",
       "      <td>ARCHULETA</td>\n",
       "      <td>39.548023</td>\n",
       "      <td>58.757062</td>\n",
       "      <td>1.694915</td>\n",
       "    </tr>\n",
       "    <tr>\n",
       "      <th>4</th>\n",
       "      <td>BACA</td>\n",
       "      <td>22.727273</td>\n",
       "      <td>77.272727</td>\n",
       "      <td>0.000000</td>\n",
       "    </tr>\n",
       "    <tr>\n",
       "      <th>...</th>\n",
       "      <td>...</td>\n",
       "      <td>...</td>\n",
       "      <td>...</td>\n",
       "      <td>...</td>\n",
       "    </tr>\n",
       "    <tr>\n",
       "      <th>59</th>\n",
       "      <td>SUMMIT</td>\n",
       "      <td>29.565217</td>\n",
       "      <td>65.217391</td>\n",
       "      <td>5.217391</td>\n",
       "    </tr>\n",
       "    <tr>\n",
       "      <th>60</th>\n",
       "      <td>TELLER</td>\n",
       "      <td>36.929461</td>\n",
       "      <td>59.751037</td>\n",
       "      <td>3.319502</td>\n",
       "    </tr>\n",
       "    <tr>\n",
       "      <th>61</th>\n",
       "      <td>WASHINGTON</td>\n",
       "      <td>30.555556</td>\n",
       "      <td>63.888889</td>\n",
       "      <td>5.555556</td>\n",
       "    </tr>\n",
       "    <tr>\n",
       "      <th>62</th>\n",
       "      <td>WELD</td>\n",
       "      <td>32.613564</td>\n",
       "      <td>57.053743</td>\n",
       "      <td>10.332694</td>\n",
       "    </tr>\n",
       "    <tr>\n",
       "      <th>63</th>\n",
       "      <td>YUMA</td>\n",
       "      <td>28.787879</td>\n",
       "      <td>66.666667</td>\n",
       "      <td>4.545455</td>\n",
       "    </tr>\n",
       "  </tbody>\n",
       "</table>\n",
       "<p>64 rows × 4 columns</p>\n",
       "</div>"
      ],
      "text/plain": [
       "GENDER_DESC      COUNTY     FEMALE       MALE  UNKNOWN_GENDER\n",
       "0                 ADAMS  32.493064  55.085216       12.421720\n",
       "1               ALAMOSA  39.207048  54.625551        6.167401\n",
       "2              ARAPAHOE  36.293766  53.148048       10.558186\n",
       "3             ARCHULETA  39.548023  58.757062        1.694915\n",
       "4                  BACA  22.727273  77.272727        0.000000\n",
       "..                  ...        ...        ...             ...\n",
       "59               SUMMIT  29.565217  65.217391        5.217391\n",
       "60               TELLER  36.929461  59.751037        3.319502\n",
       "61           WASHINGTON  30.555556  63.888889        5.555556\n",
       "62                 WELD  32.613564  57.053743       10.332694\n",
       "63                 YUMA  28.787879  66.666667        4.545455\n",
       "\n",
       "[64 rows x 4 columns]"
      ]
     },
     "execution_count": 145,
     "metadata": {},
     "output_type": "execute_result"
    }
   ],
   "source": [
    "gender_df_2019"
   ]
  },
  {
   "cell_type": "code",
   "execution_count": 146,
   "id": "7021cb40",
   "metadata": {},
   "outputs": [
    {
     "data": {
      "text/html": [
       "<div>\n",
       "<style scoped>\n",
       "    .dataframe tbody tr th:only-of-type {\n",
       "        vertical-align: middle;\n",
       "    }\n",
       "\n",
       "    .dataframe tbody tr th {\n",
       "        vertical-align: top;\n",
       "    }\n",
       "\n",
       "    .dataframe thead th {\n",
       "        text-align: right;\n",
       "    }\n",
       "</style>\n",
       "<table border=\"1\" class=\"dataframe\">\n",
       "  <thead>\n",
       "    <tr style=\"text-align: right;\">\n",
       "      <th>GENDER_DESC</th>\n",
       "      <th>COUNTY</th>\n",
       "      <th>FEMALE</th>\n",
       "      <th>MALE</th>\n",
       "      <th>UNKNOWN_GENDER</th>\n",
       "    </tr>\n",
       "  </thead>\n",
       "  <tbody>\n",
       "    <tr>\n",
       "      <th>0</th>\n",
       "      <td>ADAMS</td>\n",
       "      <td>29.901690</td>\n",
       "      <td>53.761184</td>\n",
       "      <td>16.337126</td>\n",
       "    </tr>\n",
       "    <tr>\n",
       "      <th>1</th>\n",
       "      <td>ALAMOSA</td>\n",
       "      <td>37.714286</td>\n",
       "      <td>57.142857</td>\n",
       "      <td>5.142857</td>\n",
       "    </tr>\n",
       "    <tr>\n",
       "      <th>2</th>\n",
       "      <td>ARAPAHOE</td>\n",
       "      <td>32.797464</td>\n",
       "      <td>53.583154</td>\n",
       "      <td>13.619382</td>\n",
       "    </tr>\n",
       "    <tr>\n",
       "      <th>3</th>\n",
       "      <td>ARCHULETA</td>\n",
       "      <td>37.912088</td>\n",
       "      <td>59.340659</td>\n",
       "      <td>2.747253</td>\n",
       "    </tr>\n",
       "    <tr>\n",
       "      <th>4</th>\n",
       "      <td>BACA</td>\n",
       "      <td>27.586207</td>\n",
       "      <td>70.689655</td>\n",
       "      <td>1.724138</td>\n",
       "    </tr>\n",
       "    <tr>\n",
       "      <th>...</th>\n",
       "      <td>...</td>\n",
       "      <td>...</td>\n",
       "      <td>...</td>\n",
       "      <td>...</td>\n",
       "    </tr>\n",
       "    <tr>\n",
       "      <th>59</th>\n",
       "      <td>SUMMIT</td>\n",
       "      <td>23.840000</td>\n",
       "      <td>68.960000</td>\n",
       "      <td>7.200000</td>\n",
       "    </tr>\n",
       "    <tr>\n",
       "      <th>60</th>\n",
       "      <td>TELLER</td>\n",
       "      <td>21.093750</td>\n",
       "      <td>75.000000</td>\n",
       "      <td>3.906250</td>\n",
       "    </tr>\n",
       "    <tr>\n",
       "      <th>61</th>\n",
       "      <td>WASHINGTON</td>\n",
       "      <td>35.384615</td>\n",
       "      <td>61.538462</td>\n",
       "      <td>3.076923</td>\n",
       "    </tr>\n",
       "    <tr>\n",
       "      <th>62</th>\n",
       "      <td>WELD</td>\n",
       "      <td>30.303875</td>\n",
       "      <td>57.959297</td>\n",
       "      <td>11.736827</td>\n",
       "    </tr>\n",
       "    <tr>\n",
       "      <th>63</th>\n",
       "      <td>YUMA</td>\n",
       "      <td>37.500000</td>\n",
       "      <td>58.333333</td>\n",
       "      <td>4.166667</td>\n",
       "    </tr>\n",
       "  </tbody>\n",
       "</table>\n",
       "<p>64 rows × 4 columns</p>\n",
       "</div>"
      ],
      "text/plain": [
       "GENDER_DESC      COUNTY     FEMALE       MALE  UNKNOWN_GENDER\n",
       "0                 ADAMS  29.901690  53.761184       16.337126\n",
       "1               ALAMOSA  37.714286  57.142857        5.142857\n",
       "2              ARAPAHOE  32.797464  53.583154       13.619382\n",
       "3             ARCHULETA  37.912088  59.340659        2.747253\n",
       "4                  BACA  27.586207  70.689655        1.724138\n",
       "..                  ...        ...        ...             ...\n",
       "59               SUMMIT  23.840000  68.960000        7.200000\n",
       "60               TELLER  21.093750  75.000000        3.906250\n",
       "61           WASHINGTON  35.384615  61.538462        3.076923\n",
       "62                 WELD  30.303875  57.959297       11.736827\n",
       "63                 YUMA  37.500000  58.333333        4.166667\n",
       "\n",
       "[64 rows x 4 columns]"
      ]
     },
     "execution_count": 146,
     "metadata": {},
     "output_type": "execute_result"
    }
   ],
   "source": [
    "gender_df_2020"
   ]
  },
  {
   "cell_type": "code",
   "execution_count": 147,
   "id": "b7c6c9de",
   "metadata": {},
   "outputs": [
    {
     "data": {
      "text/html": [
       "<div>\n",
       "<style scoped>\n",
       "    .dataframe tbody tr th:only-of-type {\n",
       "        vertical-align: middle;\n",
       "    }\n",
       "\n",
       "    .dataframe tbody tr th {\n",
       "        vertical-align: top;\n",
       "    }\n",
       "\n",
       "    .dataframe thead th {\n",
       "        text-align: right;\n",
       "    }\n",
       "</style>\n",
       "<table border=\"1\" class=\"dataframe\">\n",
       "  <thead>\n",
       "    <tr style=\"text-align: right;\">\n",
       "      <th>GENDER_DESC</th>\n",
       "      <th>COUNTY</th>\n",
       "      <th>FEMALE</th>\n",
       "      <th>MALE</th>\n",
       "      <th>UNKNOWN_GENDER</th>\n",
       "    </tr>\n",
       "  </thead>\n",
       "  <tbody>\n",
       "    <tr>\n",
       "      <th>0</th>\n",
       "      <td>ADAMS</td>\n",
       "      <td>34.485796</td>\n",
       "      <td>60.867650</td>\n",
       "      <td>4.646554</td>\n",
       "    </tr>\n",
       "    <tr>\n",
       "      <th>1</th>\n",
       "      <td>ALAMOSA</td>\n",
       "      <td>46.745562</td>\n",
       "      <td>52.071006</td>\n",
       "      <td>1.183432</td>\n",
       "    </tr>\n",
       "    <tr>\n",
       "      <th>2</th>\n",
       "      <td>ARAPAHOE</td>\n",
       "      <td>37.662722</td>\n",
       "      <td>59.733728</td>\n",
       "      <td>2.603550</td>\n",
       "    </tr>\n",
       "    <tr>\n",
       "      <th>3</th>\n",
       "      <td>ARCHULETA</td>\n",
       "      <td>35.071090</td>\n",
       "      <td>62.559242</td>\n",
       "      <td>2.369668</td>\n",
       "    </tr>\n",
       "    <tr>\n",
       "      <th>4</th>\n",
       "      <td>BACA</td>\n",
       "      <td>15.151515</td>\n",
       "      <td>81.818182</td>\n",
       "      <td>3.030303</td>\n",
       "    </tr>\n",
       "    <tr>\n",
       "      <th>...</th>\n",
       "      <td>...</td>\n",
       "      <td>...</td>\n",
       "      <td>...</td>\n",
       "      <td>...</td>\n",
       "    </tr>\n",
       "    <tr>\n",
       "      <th>59</th>\n",
       "      <td>SUMMIT</td>\n",
       "      <td>24.074074</td>\n",
       "      <td>74.305556</td>\n",
       "      <td>1.620370</td>\n",
       "    </tr>\n",
       "    <tr>\n",
       "      <th>60</th>\n",
       "      <td>TELLER</td>\n",
       "      <td>34.529148</td>\n",
       "      <td>63.228700</td>\n",
       "      <td>2.242152</td>\n",
       "    </tr>\n",
       "    <tr>\n",
       "      <th>61</th>\n",
       "      <td>WASHINGTON</td>\n",
       "      <td>33.962264</td>\n",
       "      <td>66.037736</td>\n",
       "      <td>0.000000</td>\n",
       "    </tr>\n",
       "    <tr>\n",
       "      <th>62</th>\n",
       "      <td>WELD</td>\n",
       "      <td>34.051522</td>\n",
       "      <td>63.981265</td>\n",
       "      <td>1.967213</td>\n",
       "    </tr>\n",
       "    <tr>\n",
       "      <th>63</th>\n",
       "      <td>YUMA</td>\n",
       "      <td>30.000000</td>\n",
       "      <td>64.000000</td>\n",
       "      <td>6.000000</td>\n",
       "    </tr>\n",
       "  </tbody>\n",
       "</table>\n",
       "<p>64 rows × 4 columns</p>\n",
       "</div>"
      ],
      "text/plain": [
       "GENDER_DESC      COUNTY     FEMALE       MALE  UNKNOWN_GENDER\n",
       "0                 ADAMS  34.485796  60.867650        4.646554\n",
       "1               ALAMOSA  46.745562  52.071006        1.183432\n",
       "2              ARAPAHOE  37.662722  59.733728        2.603550\n",
       "3             ARCHULETA  35.071090  62.559242        2.369668\n",
       "4                  BACA  15.151515  81.818182        3.030303\n",
       "..                  ...        ...        ...             ...\n",
       "59               SUMMIT  24.074074  74.305556        1.620370\n",
       "60               TELLER  34.529148  63.228700        2.242152\n",
       "61           WASHINGTON  33.962264  66.037736        0.000000\n",
       "62                 WELD  34.051522  63.981265        1.967213\n",
       "63                 YUMA  30.000000  64.000000        6.000000\n",
       "\n",
       "[64 rows x 4 columns]"
      ]
     },
     "execution_count": 147,
     "metadata": {},
     "output_type": "execute_result"
    }
   ],
   "source": [
    "gender_df_2021"
   ]
  },
  {
   "cell_type": "code",
   "execution_count": 148,
   "id": "dcbcfdfc",
   "metadata": {},
   "outputs": [],
   "source": [
    "def merger(f1,f2):\n",
    "    f1 = pd.merge(f1,f2,on=['COUNTY'],how='left')\n",
    "    return f1"
   ]
  },
  {
   "cell_type": "code",
   "execution_count": 149,
   "id": "c7b5b09b",
   "metadata": {},
   "outputs": [],
   "source": [
    "colo_2019 = merger(colo_2019,gender_df_2019)\n",
    "colo_2020 = merger(colo_2020,gender_df_2020)\n",
    "colo_2021 = merger(colo_2021,gender_df_2021)"
   ]
  },
  {
   "cell_type": "code",
   "execution_count": 150,
   "id": "e50e6f1d",
   "metadata": {},
   "outputs": [
    {
     "data": {
      "text/plain": [
       "((108647, 87), (74059, 87), (34584, 87))"
      ]
     },
     "execution_count": 150,
     "metadata": {},
     "output_type": "execute_result"
    }
   ],
   "source": [
    "colo_2019.shape, colo_2020.shape, colo_2021.shape"
   ]
  },
  {
   "cell_type": "code",
   "execution_count": 151,
   "id": "a2647c1b",
   "metadata": {},
   "outputs": [],
   "source": [
    "colo_2019['INJURY_COUNT_SUM'] = colo_2019.groupby(['COUNTY'])['INJURY_COUNT'].transform('sum')\n",
    "colo_2020['INJURY_COUNT_SUM'] = colo_2020.groupby(['COUNTY'])['INJURY_COUNT'].transform('sum')\n",
    "colo_2021['INJURY_COUNT_SUM'] = colo_2021.groupby(['COUNTY'])['INJURY_COUNT'].transform('sum')"
   ]
  },
  {
   "cell_type": "code",
   "execution_count": null,
   "id": "6f5d44cc",
   "metadata": {},
   "outputs": [],
   "source": []
  },
  {
   "cell_type": "code",
   "execution_count": 152,
   "id": "ed35b40a",
   "metadata": {},
   "outputs": [
    {
     "data": {
      "text/plain": [
       "array([0, 1], dtype=int64)"
      ]
     },
     "execution_count": 152,
     "metadata": {},
     "output_type": "execute_result"
    }
   ],
   "source": [
    "colo_2019['INJURY_OUTCOME'].unique()"
   ]
  },
  {
   "cell_type": "code",
   "execution_count": 153,
   "id": "9a240ce5",
   "metadata": {},
   "outputs": [
    {
     "data": {
      "text/plain": [
       "array([1, 0], dtype=int64)"
      ]
     },
     "execution_count": 153,
     "metadata": {},
     "output_type": "execute_result"
    }
   ],
   "source": [
    "colo_2020['INJURY_OUTCOME'].unique()"
   ]
  },
  {
   "cell_type": "code",
   "execution_count": 154,
   "id": "7d76d88a",
   "metadata": {},
   "outputs": [
    {
     "data": {
      "text/plain": [
       "array([0, 1], dtype=int64)"
      ]
     },
     "execution_count": 154,
     "metadata": {},
     "output_type": "execute_result"
    }
   ],
   "source": [
    "colo_2021['INJURY_OUTCOME'].unique()"
   ]
  },
  {
   "cell_type": "code",
   "execution_count": 155,
   "id": "d0c6b216",
   "metadata": {},
   "outputs": [],
   "source": [
    "map = {\n",
    "    0:'NO INJURY_OUTCOME',\n",
    "    1:'YES INJURY_OUTCOME'\n",
    "}\n",
    "\n",
    "def injury(df,map):\n",
    "    df['INJURY_DESC'] = df['INJURY_OUTCOME'].map(map).astype('str')\n",
    "    grouped = df.groupby(['COUNTY','INJURY_DESC']).size().unstack(fill_value=0)\n",
    "    total_counts_by_county = grouped.sum(axis=1)\n",
    "    injury_percentages_df = (grouped.div(total_counts_by_county, axis=0) * 100).fillna(0)\n",
    "    injury_percentages_df = injury_percentages_df.reset_index()\n",
    "    return injury_percentages_df\n",
    "\n",
    "injury_percentages_df_2019 = injury(colo_2019, map)\n",
    "injury_percentages_df_2020 = injury(colo_2020, map)\n",
    "injury_percentages_df_2021 = injury(colo_2021, map)"
   ]
  },
  {
   "cell_type": "code",
   "execution_count": 156,
   "id": "e3597949",
   "metadata": {},
   "outputs": [
    {
     "data": {
      "text/plain": [
       "(64, 3)"
      ]
     },
     "execution_count": 156,
     "metadata": {},
     "output_type": "execute_result"
    }
   ],
   "source": [
    "injury_percentages_df_2019.shape"
   ]
  },
  {
   "cell_type": "code",
   "execution_count": 157,
   "id": "92b0006e",
   "metadata": {},
   "outputs": [],
   "source": [
    "def merger(f1,f2):\n",
    "    f1 = pd.merge(f1,f2, on=['COUNTY'],how='left')\n",
    "    return f1"
   ]
  },
  {
   "cell_type": "code",
   "execution_count": 158,
   "id": "2208ae45",
   "metadata": {},
   "outputs": [],
   "source": [
    "colo_2019 = merger(colo_2019,injury_percentages_df_2019)\n",
    "colo_2020 = merger(colo_2020,injury_percentages_df_2020)\n",
    "colo_2021 = merger(colo_2021,injury_percentages_df_2021)"
   ]
  },
  {
   "cell_type": "code",
   "execution_count": 159,
   "id": "b01addde",
   "metadata": {},
   "outputs": [
    {
     "data": {
      "text/plain": [
       "((108647, 91), (74059, 91), (34584, 91))"
      ]
     },
     "execution_count": 159,
     "metadata": {},
     "output_type": "execute_result"
    }
   ],
   "source": [
    "colo_2019.shape, colo_2020.shape, colo_2021.shape"
   ]
  },
  {
   "cell_type": "code",
   "execution_count": 161,
   "id": "4ae1c697",
   "metadata": {},
   "outputs": [
    {
     "data": {
      "text/plain": [
       "Index(['ROAD_CLASS', 'DATE', 'TIME', 'INTERSECTION', 'CONTOUR', 'SURFACE',\n",
       "       'LIGHTING', 'WEATHER', 'HUMAN_FACTOR', 'INTOXICATION', 'AGE', 'GENDER',\n",
       "       'COUNTY_FIPS', 'COUNTY', 'LATITUDE', 'LONGITUDE', 'YEAR',\n",
       "       'INJURY_COUNT', 'INJURY_OUTCOME', 'Crash_ID', 'BUFF_DIST', 'ORIG_FID',\n",
       "       'Shape_Length', 'Shape_Area', 'WEATHER_DESC', 'BLOWING SAND/SNOW',\n",
       "       'CLEAR', 'CLOUDY', 'FOG', 'OTHER_WEATHER', 'RAIN', 'SEVERE CROSSWINDS',\n",
       "       'SLEET/HAIL', 'SNOW_WEATHER', 'LIGHTING_DESC', 'DARK-LIGHTED',\n",
       "       'DARK-NOT LIGHTED', 'DAWN', 'DAYLIGHT', 'DUSK', 'SURF_DESC', 'DIRT',\n",
       "       'DRY', 'ICE', 'SLUSH', 'SNOW_SURF', 'UNKNOWN_SURF', 'WET',\n",
       "       'INTOXICATION_DESC', 'ALCOHOL', 'ALCOHOL, DRUG', 'DRUG', 'MEDICINAL',\n",
       "       'MARIJUANA', 'NO INTOXICATION', 'INTERSECTION_DESC', 'NO_INTERSECTION',\n",
       "       'YES_INTERSECTION', 'ROAD_TYPE_DESC', 'CITY STREET', 'COUNTY ROAD',\n",
       "       'INTERSTATE', 'OTHER ROADS', 'US & STATE HIGHWAY', 'HUMAN_FACTOR_DESC',\n",
       "       'IMPAIRMENT', 'INATTENTION', 'KNOWN_HUMAN_FACTOR', 'LANE_CHNG',\n",
       "       'NO_FAULT', 'SPEEDING', 'TAILGATING', 'TECH_PARK', 'TURNING',\n",
       "       'UNKNOWN_HUMAN_FACTOR', 'UNSAFE_BACKING', 'VIOLATION', 'AGE_BAND',\n",
       "       'AGE 1-21', 'AGE 22-30', 'AGE 31-65', 'AGE 66 and above', 'Unknown Age',\n",
       "       'GENDER_DESC', 'FEMALE', 'MALE', 'UNKNOWN_GENDER', 'INJURY_COUNT_SUM',\n",
       "       'INJURY_DESC', 'NO INJURY_OUTCOME', 'YES INJURY_OUTCOME'],\n",
       "      dtype='object')"
      ]
     },
     "execution_count": 161,
     "metadata": {},
     "output_type": "execute_result"
    }
   ],
   "source": [
    "colo_2019.columns"
   ]
  },
  {
   "cell_type": "code",
   "execution_count": 162,
   "id": "f36b1315",
   "metadata": {},
   "outputs": [],
   "source": [
    "p = pd.concat([colo_2019,colo_2020,colo_2021],axis=0)"
   ]
  },
  {
   "cell_type": "code",
   "execution_count": 163,
   "id": "7a64843f",
   "metadata": {},
   "outputs": [
    {
     "data": {
      "text/html": [
       "<div>\n",
       "<style scoped>\n",
       "    .dataframe tbody tr th:only-of-type {\n",
       "        vertical-align: middle;\n",
       "    }\n",
       "\n",
       "    .dataframe tbody tr th {\n",
       "        vertical-align: top;\n",
       "    }\n",
       "\n",
       "    .dataframe thead th {\n",
       "        text-align: right;\n",
       "    }\n",
       "</style>\n",
       "<table border=\"1\" class=\"dataframe\">\n",
       "  <thead>\n",
       "    <tr style=\"text-align: right;\">\n",
       "      <th></th>\n",
       "      <th>ROAD_CLASS</th>\n",
       "      <th>DATE</th>\n",
       "      <th>TIME</th>\n",
       "      <th>INTERSECTION</th>\n",
       "      <th>CONTOUR</th>\n",
       "      <th>SURFACE</th>\n",
       "      <th>LIGHTING</th>\n",
       "      <th>WEATHER</th>\n",
       "      <th>HUMAN_FACTOR</th>\n",
       "      <th>INTOXICATION</th>\n",
       "      <th>...</th>\n",
       "      <th>AGE 66 and above</th>\n",
       "      <th>Unknown Age</th>\n",
       "      <th>GENDER_DESC</th>\n",
       "      <th>FEMALE</th>\n",
       "      <th>MALE</th>\n",
       "      <th>UNKNOWN_GENDER</th>\n",
       "      <th>INJURY_COUNT_SUM</th>\n",
       "      <th>INJURY_DESC</th>\n",
       "      <th>NO INJURY_OUTCOME</th>\n",
       "      <th>YES INJURY_OUTCOME</th>\n",
       "    </tr>\n",
       "  </thead>\n",
       "  <tbody>\n",
       "    <tr>\n",
       "      <th>0</th>\n",
       "      <td>1</td>\n",
       "      <td>1/1/2019</td>\n",
       "      <td>10</td>\n",
       "      <td>0</td>\n",
       "      <td>STRAIGHT ON-GRADE</td>\n",
       "      <td>9</td>\n",
       "      <td>4</td>\n",
       "      <td>4</td>\n",
       "      <td>5.0</td>\n",
       "      <td>4</td>\n",
       "      <td>...</td>\n",
       "      <td>6.270313</td>\n",
       "      <td>0.0</td>\n",
       "      <td>MALE</td>\n",
       "      <td>32.493064</td>\n",
       "      <td>55.085216</td>\n",
       "      <td>12.421720</td>\n",
       "      <td>4307</td>\n",
       "      <td>NO INJURY_OUTCOME</td>\n",
       "      <td>75.219976</td>\n",
       "      <td>24.780024</td>\n",
       "    </tr>\n",
       "    <tr>\n",
       "      <th>1</th>\n",
       "      <td>5</td>\n",
       "      <td>1/1/2019</td>\n",
       "      <td>17</td>\n",
       "      <td>0</td>\n",
       "      <td>STRAIGHT ON-LEVEL</td>\n",
       "      <td>6</td>\n",
       "      <td>4</td>\n",
       "      <td>4</td>\n",
       "      <td>11.0</td>\n",
       "      <td>5</td>\n",
       "      <td>...</td>\n",
       "      <td>10.948403</td>\n",
       "      <td>0.0</td>\n",
       "      <td>MALE</td>\n",
       "      <td>36.039312</td>\n",
       "      <td>53.484029</td>\n",
       "      <td>10.476658</td>\n",
       "      <td>3213</td>\n",
       "      <td>YES INJURY_OUTCOME</td>\n",
       "      <td>76.471744</td>\n",
       "      <td>23.528256</td>\n",
       "    </tr>\n",
       "    <tr>\n",
       "      <th>2</th>\n",
       "      <td>5</td>\n",
       "      <td>1/1/2019</td>\n",
       "      <td>21</td>\n",
       "      <td>1</td>\n",
       "      <td>STRAIGHT ON-GRADE</td>\n",
       "      <td>9</td>\n",
       "      <td>4</td>\n",
       "      <td>8</td>\n",
       "      <td>7.0</td>\n",
       "      <td>1</td>\n",
       "      <td>...</td>\n",
       "      <td>6.270313</td>\n",
       "      <td>0.0</td>\n",
       "      <td>MALE</td>\n",
       "      <td>32.493064</td>\n",
       "      <td>55.085216</td>\n",
       "      <td>12.421720</td>\n",
       "      <td>4307</td>\n",
       "      <td>YES INJURY_OUTCOME</td>\n",
       "      <td>75.219976</td>\n",
       "      <td>24.780024</td>\n",
       "    </tr>\n",
       "    <tr>\n",
       "      <th>3</th>\n",
       "      <td>5</td>\n",
       "      <td>1/1/2019</td>\n",
       "      <td>24</td>\n",
       "      <td>1</td>\n",
       "      <td>STRAIGHT ON-LEVEL</td>\n",
       "      <td>6</td>\n",
       "      <td>4</td>\n",
       "      <td>4</td>\n",
       "      <td>10.0</td>\n",
       "      <td>4</td>\n",
       "      <td>...</td>\n",
       "      <td>6.499569</td>\n",
       "      <td>0.0</td>\n",
       "      <td>MALE</td>\n",
       "      <td>32.008340</td>\n",
       "      <td>51.180710</td>\n",
       "      <td>16.810950</td>\n",
       "      <td>6233</td>\n",
       "      <td>NO INJURY_OUTCOME</td>\n",
       "      <td>78.819743</td>\n",
       "      <td>21.180257</td>\n",
       "    </tr>\n",
       "    <tr>\n",
       "      <th>4</th>\n",
       "      <td>2</td>\n",
       "      <td>1/1/2019</td>\n",
       "      <td>41</td>\n",
       "      <td>0</td>\n",
       "      <td>STRAIGHT ON-GRADE</td>\n",
       "      <td>9</td>\n",
       "      <td>4</td>\n",
       "      <td>4</td>\n",
       "      <td>2.0</td>\n",
       "      <td>4</td>\n",
       "      <td>...</td>\n",
       "      <td>6.270313</td>\n",
       "      <td>0.0</td>\n",
       "      <td>MALE</td>\n",
       "      <td>32.493064</td>\n",
       "      <td>55.085216</td>\n",
       "      <td>12.421720</td>\n",
       "      <td>4307</td>\n",
       "      <td>NO INJURY_OUTCOME</td>\n",
       "      <td>75.219976</td>\n",
       "      <td>24.780024</td>\n",
       "    </tr>\n",
       "    <tr>\n",
       "      <th>...</th>\n",
       "      <td>...</td>\n",
       "      <td>...</td>\n",
       "      <td>...</td>\n",
       "      <td>...</td>\n",
       "      <td>...</td>\n",
       "      <td>...</td>\n",
       "      <td>...</td>\n",
       "      <td>...</td>\n",
       "      <td>...</td>\n",
       "      <td>...</td>\n",
       "      <td>...</td>\n",
       "      <td>...</td>\n",
       "      <td>...</td>\n",
       "      <td>...</td>\n",
       "      <td>...</td>\n",
       "      <td>...</td>\n",
       "      <td>...</td>\n",
       "      <td>...</td>\n",
       "      <td>...</td>\n",
       "      <td>...</td>\n",
       "      <td>...</td>\n",
       "    </tr>\n",
       "    <tr>\n",
       "      <th>34579</th>\n",
       "      <td>2</td>\n",
       "      <td>12/31/2021</td>\n",
       "      <td>23:22:00</td>\n",
       "      <td>1</td>\n",
       "      <td>StraightLevel</td>\n",
       "      <td>6</td>\n",
       "      <td>4</td>\n",
       "      <td>4</td>\n",
       "      <td>2.0</td>\n",
       "      <td>4</td>\n",
       "      <td>...</td>\n",
       "      <td>10.275545</td>\n",
       "      <td>0.0</td>\n",
       "      <td>MALE</td>\n",
       "      <td>38.633754</td>\n",
       "      <td>59.701493</td>\n",
       "      <td>1.664753</td>\n",
       "      <td>797</td>\n",
       "      <td>NO INJURY_OUTCOME</td>\n",
       "      <td>66.073479</td>\n",
       "      <td>33.926521</td>\n",
       "    </tr>\n",
       "    <tr>\n",
       "      <th>34580</th>\n",
       "      <td>4</td>\n",
       "      <td>12/31/2021</td>\n",
       "      <td>23:23:00</td>\n",
       "      <td>0</td>\n",
       "      <td>Curve LeftLevel</td>\n",
       "      <td>6</td>\n",
       "      <td>3</td>\n",
       "      <td>4</td>\n",
       "      <td>1.0</td>\n",
       "      <td>4</td>\n",
       "      <td>...</td>\n",
       "      <td>9.722222</td>\n",
       "      <td>0.0</td>\n",
       "      <td>MALE</td>\n",
       "      <td>24.074074</td>\n",
       "      <td>74.305556</td>\n",
       "      <td>1.620370</td>\n",
       "      <td>155</td>\n",
       "      <td>NO INJURY_OUTCOME</td>\n",
       "      <td>74.305556</td>\n",
       "      <td>25.694444</td>\n",
       "    </tr>\n",
       "    <tr>\n",
       "      <th>34581</th>\n",
       "      <td>1</td>\n",
       "      <td>12/31/2021</td>\n",
       "      <td>23:39:00</td>\n",
       "      <td>0</td>\n",
       "      <td>Curve RightDownhill</td>\n",
       "      <td>0</td>\n",
       "      <td>3</td>\n",
       "      <td>4</td>\n",
       "      <td>1.0</td>\n",
       "      <td>4</td>\n",
       "      <td>...</td>\n",
       "      <td>10.533553</td>\n",
       "      <td>0.0</td>\n",
       "      <td>MALE</td>\n",
       "      <td>38.778878</td>\n",
       "      <td>59.543454</td>\n",
       "      <td>1.677668</td>\n",
       "      <td>1356</td>\n",
       "      <td>YES INJURY_OUTCOME</td>\n",
       "      <td>71.644664</td>\n",
       "      <td>28.355336</td>\n",
       "    </tr>\n",
       "    <tr>\n",
       "      <th>34582</th>\n",
       "      <td>2</td>\n",
       "      <td>12/31/2021</td>\n",
       "      <td>23:41:00</td>\n",
       "      <td>1</td>\n",
       "      <td>StraightLevel</td>\n",
       "      <td>9</td>\n",
       "      <td>4</td>\n",
       "      <td>4</td>\n",
       "      <td>10.0</td>\n",
       "      <td>4</td>\n",
       "      <td>...</td>\n",
       "      <td>8.196721</td>\n",
       "      <td>0.0</td>\n",
       "      <td>UNKNOWN_GENDER</td>\n",
       "      <td>34.051522</td>\n",
       "      <td>63.981265</td>\n",
       "      <td>1.967213</td>\n",
       "      <td>908</td>\n",
       "      <td>NO INJURY_OUTCOME</td>\n",
       "      <td>71.100703</td>\n",
       "      <td>28.899297</td>\n",
       "    </tr>\n",
       "    <tr>\n",
       "      <th>34583</th>\n",
       "      <td>2</td>\n",
       "      <td>12/31/2021</td>\n",
       "      <td>23:43:00</td>\n",
       "      <td>0</td>\n",
       "      <td>StraightUphill</td>\n",
       "      <td>6</td>\n",
       "      <td>4</td>\n",
       "      <td>4</td>\n",
       "      <td>1.0</td>\n",
       "      <td>4</td>\n",
       "      <td>...</td>\n",
       "      <td>5.020921</td>\n",
       "      <td>0.0</td>\n",
       "      <td>MALE</td>\n",
       "      <td>34.485796</td>\n",
       "      <td>60.867650</td>\n",
       "      <td>4.646554</td>\n",
       "      <td>1761</td>\n",
       "      <td>NO INJURY_OUTCOME</td>\n",
       "      <td>71.570139</td>\n",
       "      <td>28.429861</td>\n",
       "    </tr>\n",
       "  </tbody>\n",
       "</table>\n",
       "<p>217290 rows × 91 columns</p>\n",
       "</div>"
      ],
      "text/plain": [
       "       ROAD_CLASS        DATE      TIME  INTERSECTION              CONTOUR  \\\n",
       "0               1    1/1/2019        10             0    STRAIGHT ON-GRADE   \n",
       "1               5    1/1/2019        17             0    STRAIGHT ON-LEVEL   \n",
       "2               5    1/1/2019        21             1    STRAIGHT ON-GRADE   \n",
       "3               5    1/1/2019        24             1    STRAIGHT ON-LEVEL   \n",
       "4               2    1/1/2019        41             0    STRAIGHT ON-GRADE   \n",
       "...           ...         ...       ...           ...                  ...   \n",
       "34579           2  12/31/2021  23:22:00             1        StraightLevel   \n",
       "34580           4  12/31/2021  23:23:00             0      Curve LeftLevel   \n",
       "34581           1  12/31/2021  23:39:00             0  Curve RightDownhill   \n",
       "34582           2  12/31/2021  23:41:00             1        StraightLevel   \n",
       "34583           2  12/31/2021  23:43:00             0       StraightUphill   \n",
       "\n",
       "       SURFACE  LIGHTING  WEATHER  HUMAN_FACTOR  INTOXICATION  ...  \\\n",
       "0            9         4        4           5.0             4  ...   \n",
       "1            6         4        4          11.0             5  ...   \n",
       "2            9         4        8           7.0             1  ...   \n",
       "3            6         4        4          10.0             4  ...   \n",
       "4            9         4        4           2.0             4  ...   \n",
       "...        ...       ...      ...           ...           ...  ...   \n",
       "34579        6         4        4           2.0             4  ...   \n",
       "34580        6         3        4           1.0             4  ...   \n",
       "34581        0         3        4           1.0             4  ...   \n",
       "34582        9         4        4          10.0             4  ...   \n",
       "34583        6         4        4           1.0             4  ...   \n",
       "\n",
       "       AGE 66 and above Unknown Age     GENDER_DESC     FEMALE       MALE  \\\n",
       "0              6.270313         0.0            MALE  32.493064  55.085216   \n",
       "1             10.948403         0.0            MALE  36.039312  53.484029   \n",
       "2              6.270313         0.0            MALE  32.493064  55.085216   \n",
       "3              6.499569         0.0            MALE  32.008340  51.180710   \n",
       "4              6.270313         0.0            MALE  32.493064  55.085216   \n",
       "...                 ...         ...             ...        ...        ...   \n",
       "34579         10.275545         0.0            MALE  38.633754  59.701493   \n",
       "34580          9.722222         0.0            MALE  24.074074  74.305556   \n",
       "34581         10.533553         0.0            MALE  38.778878  59.543454   \n",
       "34582          8.196721         0.0  UNKNOWN_GENDER  34.051522  63.981265   \n",
       "34583          5.020921         0.0            MALE  34.485796  60.867650   \n",
       "\n",
       "       UNKNOWN_GENDER  INJURY_COUNT_SUM         INJURY_DESC  \\\n",
       "0           12.421720              4307   NO INJURY_OUTCOME   \n",
       "1           10.476658              3213  YES INJURY_OUTCOME   \n",
       "2           12.421720              4307  YES INJURY_OUTCOME   \n",
       "3           16.810950              6233   NO INJURY_OUTCOME   \n",
       "4           12.421720              4307   NO INJURY_OUTCOME   \n",
       "...               ...               ...                 ...   \n",
       "34579        1.664753               797   NO INJURY_OUTCOME   \n",
       "34580        1.620370               155   NO INJURY_OUTCOME   \n",
       "34581        1.677668              1356  YES INJURY_OUTCOME   \n",
       "34582        1.967213               908   NO INJURY_OUTCOME   \n",
       "34583        4.646554              1761   NO INJURY_OUTCOME   \n",
       "\n",
       "       NO INJURY_OUTCOME  YES INJURY_OUTCOME  \n",
       "0              75.219976           24.780024  \n",
       "1              76.471744           23.528256  \n",
       "2              75.219976           24.780024  \n",
       "3              78.819743           21.180257  \n",
       "4              75.219976           24.780024  \n",
       "...                  ...                 ...  \n",
       "34579          66.073479           33.926521  \n",
       "34580          74.305556           25.694444  \n",
       "34581          71.644664           28.355336  \n",
       "34582          71.100703           28.899297  \n",
       "34583          71.570139           28.429861  \n",
       "\n",
       "[217290 rows x 91 columns]"
      ]
     },
     "execution_count": 163,
     "metadata": {},
     "output_type": "execute_result"
    }
   ],
   "source": [
    "p"
   ]
  },
  {
   "cell_type": "code",
   "execution_count": 165,
   "id": "9ed2e32d",
   "metadata": {},
   "outputs": [],
   "source": [
    "p['YEAR_CAT'] = np.where(p['YEAR']==2019,1,\n",
    "                                         np.where(p['YEAR']==2020,2,\n",
    "                                                 np.where(p['YEAR']==2021,3,np.nan)))"
   ]
  },
  {
   "cell_type": "code",
   "execution_count": 166,
   "id": "304a22bd",
   "metadata": {},
   "outputs": [
    {
     "data": {
      "text/html": [
       "<div>\n",
       "<style scoped>\n",
       "    .dataframe tbody tr th:only-of-type {\n",
       "        vertical-align: middle;\n",
       "    }\n",
       "\n",
       "    .dataframe tbody tr th {\n",
       "        vertical-align: top;\n",
       "    }\n",
       "\n",
       "    .dataframe thead th {\n",
       "        text-align: right;\n",
       "    }\n",
       "</style>\n",
       "<table border=\"1\" class=\"dataframe\">\n",
       "  <thead>\n",
       "    <tr style=\"text-align: right;\">\n",
       "      <th></th>\n",
       "      <th>ROAD_CLASS</th>\n",
       "      <th>DATE</th>\n",
       "      <th>TIME</th>\n",
       "      <th>INTERSECTION</th>\n",
       "      <th>CONTOUR</th>\n",
       "      <th>SURFACE</th>\n",
       "      <th>LIGHTING</th>\n",
       "      <th>WEATHER</th>\n",
       "      <th>HUMAN_FACTOR</th>\n",
       "      <th>INTOXICATION</th>\n",
       "      <th>...</th>\n",
       "      <th>Unknown Age</th>\n",
       "      <th>GENDER_DESC</th>\n",
       "      <th>FEMALE</th>\n",
       "      <th>MALE</th>\n",
       "      <th>UNKNOWN_GENDER</th>\n",
       "      <th>INJURY_COUNT_SUM</th>\n",
       "      <th>INJURY_DESC</th>\n",
       "      <th>NO INJURY_OUTCOME</th>\n",
       "      <th>YES INJURY_OUTCOME</th>\n",
       "      <th>YEAR_CAT</th>\n",
       "    </tr>\n",
       "  </thead>\n",
       "  <tbody>\n",
       "    <tr>\n",
       "      <th>0</th>\n",
       "      <td>1</td>\n",
       "      <td>1/1/2019</td>\n",
       "      <td>10</td>\n",
       "      <td>0</td>\n",
       "      <td>STRAIGHT ON-GRADE</td>\n",
       "      <td>9</td>\n",
       "      <td>4</td>\n",
       "      <td>4</td>\n",
       "      <td>5.0</td>\n",
       "      <td>4</td>\n",
       "      <td>...</td>\n",
       "      <td>0.0</td>\n",
       "      <td>MALE</td>\n",
       "      <td>32.493064</td>\n",
       "      <td>55.085216</td>\n",
       "      <td>12.421720</td>\n",
       "      <td>4307</td>\n",
       "      <td>NO INJURY_OUTCOME</td>\n",
       "      <td>75.219976</td>\n",
       "      <td>24.780024</td>\n",
       "      <td>1.0</td>\n",
       "    </tr>\n",
       "    <tr>\n",
       "      <th>1</th>\n",
       "      <td>5</td>\n",
       "      <td>1/1/2019</td>\n",
       "      <td>17</td>\n",
       "      <td>0</td>\n",
       "      <td>STRAIGHT ON-LEVEL</td>\n",
       "      <td>6</td>\n",
       "      <td>4</td>\n",
       "      <td>4</td>\n",
       "      <td>11.0</td>\n",
       "      <td>5</td>\n",
       "      <td>...</td>\n",
       "      <td>0.0</td>\n",
       "      <td>MALE</td>\n",
       "      <td>36.039312</td>\n",
       "      <td>53.484029</td>\n",
       "      <td>10.476658</td>\n",
       "      <td>3213</td>\n",
       "      <td>YES INJURY_OUTCOME</td>\n",
       "      <td>76.471744</td>\n",
       "      <td>23.528256</td>\n",
       "      <td>1.0</td>\n",
       "    </tr>\n",
       "    <tr>\n",
       "      <th>2</th>\n",
       "      <td>5</td>\n",
       "      <td>1/1/2019</td>\n",
       "      <td>21</td>\n",
       "      <td>1</td>\n",
       "      <td>STRAIGHT ON-GRADE</td>\n",
       "      <td>9</td>\n",
       "      <td>4</td>\n",
       "      <td>8</td>\n",
       "      <td>7.0</td>\n",
       "      <td>1</td>\n",
       "      <td>...</td>\n",
       "      <td>0.0</td>\n",
       "      <td>MALE</td>\n",
       "      <td>32.493064</td>\n",
       "      <td>55.085216</td>\n",
       "      <td>12.421720</td>\n",
       "      <td>4307</td>\n",
       "      <td>YES INJURY_OUTCOME</td>\n",
       "      <td>75.219976</td>\n",
       "      <td>24.780024</td>\n",
       "      <td>1.0</td>\n",
       "    </tr>\n",
       "    <tr>\n",
       "      <th>3</th>\n",
       "      <td>5</td>\n",
       "      <td>1/1/2019</td>\n",
       "      <td>24</td>\n",
       "      <td>1</td>\n",
       "      <td>STRAIGHT ON-LEVEL</td>\n",
       "      <td>6</td>\n",
       "      <td>4</td>\n",
       "      <td>4</td>\n",
       "      <td>10.0</td>\n",
       "      <td>4</td>\n",
       "      <td>...</td>\n",
       "      <td>0.0</td>\n",
       "      <td>MALE</td>\n",
       "      <td>32.008340</td>\n",
       "      <td>51.180710</td>\n",
       "      <td>16.810950</td>\n",
       "      <td>6233</td>\n",
       "      <td>NO INJURY_OUTCOME</td>\n",
       "      <td>78.819743</td>\n",
       "      <td>21.180257</td>\n",
       "      <td>1.0</td>\n",
       "    </tr>\n",
       "    <tr>\n",
       "      <th>4</th>\n",
       "      <td>2</td>\n",
       "      <td>1/1/2019</td>\n",
       "      <td>41</td>\n",
       "      <td>0</td>\n",
       "      <td>STRAIGHT ON-GRADE</td>\n",
       "      <td>9</td>\n",
       "      <td>4</td>\n",
       "      <td>4</td>\n",
       "      <td>2.0</td>\n",
       "      <td>4</td>\n",
       "      <td>...</td>\n",
       "      <td>0.0</td>\n",
       "      <td>MALE</td>\n",
       "      <td>32.493064</td>\n",
       "      <td>55.085216</td>\n",
       "      <td>12.421720</td>\n",
       "      <td>4307</td>\n",
       "      <td>NO INJURY_OUTCOME</td>\n",
       "      <td>75.219976</td>\n",
       "      <td>24.780024</td>\n",
       "      <td>1.0</td>\n",
       "    </tr>\n",
       "    <tr>\n",
       "      <th>...</th>\n",
       "      <td>...</td>\n",
       "      <td>...</td>\n",
       "      <td>...</td>\n",
       "      <td>...</td>\n",
       "      <td>...</td>\n",
       "      <td>...</td>\n",
       "      <td>...</td>\n",
       "      <td>...</td>\n",
       "      <td>...</td>\n",
       "      <td>...</td>\n",
       "      <td>...</td>\n",
       "      <td>...</td>\n",
       "      <td>...</td>\n",
       "      <td>...</td>\n",
       "      <td>...</td>\n",
       "      <td>...</td>\n",
       "      <td>...</td>\n",
       "      <td>...</td>\n",
       "      <td>...</td>\n",
       "      <td>...</td>\n",
       "      <td>...</td>\n",
       "    </tr>\n",
       "    <tr>\n",
       "      <th>34579</th>\n",
       "      <td>2</td>\n",
       "      <td>12/31/2021</td>\n",
       "      <td>23:22:00</td>\n",
       "      <td>1</td>\n",
       "      <td>StraightLevel</td>\n",
       "      <td>6</td>\n",
       "      <td>4</td>\n",
       "      <td>4</td>\n",
       "      <td>2.0</td>\n",
       "      <td>4</td>\n",
       "      <td>...</td>\n",
       "      <td>0.0</td>\n",
       "      <td>MALE</td>\n",
       "      <td>38.633754</td>\n",
       "      <td>59.701493</td>\n",
       "      <td>1.664753</td>\n",
       "      <td>797</td>\n",
       "      <td>NO INJURY_OUTCOME</td>\n",
       "      <td>66.073479</td>\n",
       "      <td>33.926521</td>\n",
       "      <td>3.0</td>\n",
       "    </tr>\n",
       "    <tr>\n",
       "      <th>34580</th>\n",
       "      <td>4</td>\n",
       "      <td>12/31/2021</td>\n",
       "      <td>23:23:00</td>\n",
       "      <td>0</td>\n",
       "      <td>Curve LeftLevel</td>\n",
       "      <td>6</td>\n",
       "      <td>3</td>\n",
       "      <td>4</td>\n",
       "      <td>1.0</td>\n",
       "      <td>4</td>\n",
       "      <td>...</td>\n",
       "      <td>0.0</td>\n",
       "      <td>MALE</td>\n",
       "      <td>24.074074</td>\n",
       "      <td>74.305556</td>\n",
       "      <td>1.620370</td>\n",
       "      <td>155</td>\n",
       "      <td>NO INJURY_OUTCOME</td>\n",
       "      <td>74.305556</td>\n",
       "      <td>25.694444</td>\n",
       "      <td>3.0</td>\n",
       "    </tr>\n",
       "    <tr>\n",
       "      <th>34581</th>\n",
       "      <td>1</td>\n",
       "      <td>12/31/2021</td>\n",
       "      <td>23:39:00</td>\n",
       "      <td>0</td>\n",
       "      <td>Curve RightDownhill</td>\n",
       "      <td>0</td>\n",
       "      <td>3</td>\n",
       "      <td>4</td>\n",
       "      <td>1.0</td>\n",
       "      <td>4</td>\n",
       "      <td>...</td>\n",
       "      <td>0.0</td>\n",
       "      <td>MALE</td>\n",
       "      <td>38.778878</td>\n",
       "      <td>59.543454</td>\n",
       "      <td>1.677668</td>\n",
       "      <td>1356</td>\n",
       "      <td>YES INJURY_OUTCOME</td>\n",
       "      <td>71.644664</td>\n",
       "      <td>28.355336</td>\n",
       "      <td>3.0</td>\n",
       "    </tr>\n",
       "    <tr>\n",
       "      <th>34582</th>\n",
       "      <td>2</td>\n",
       "      <td>12/31/2021</td>\n",
       "      <td>23:41:00</td>\n",
       "      <td>1</td>\n",
       "      <td>StraightLevel</td>\n",
       "      <td>9</td>\n",
       "      <td>4</td>\n",
       "      <td>4</td>\n",
       "      <td>10.0</td>\n",
       "      <td>4</td>\n",
       "      <td>...</td>\n",
       "      <td>0.0</td>\n",
       "      <td>UNKNOWN_GENDER</td>\n",
       "      <td>34.051522</td>\n",
       "      <td>63.981265</td>\n",
       "      <td>1.967213</td>\n",
       "      <td>908</td>\n",
       "      <td>NO INJURY_OUTCOME</td>\n",
       "      <td>71.100703</td>\n",
       "      <td>28.899297</td>\n",
       "      <td>3.0</td>\n",
       "    </tr>\n",
       "    <tr>\n",
       "      <th>34583</th>\n",
       "      <td>2</td>\n",
       "      <td>12/31/2021</td>\n",
       "      <td>23:43:00</td>\n",
       "      <td>0</td>\n",
       "      <td>StraightUphill</td>\n",
       "      <td>6</td>\n",
       "      <td>4</td>\n",
       "      <td>4</td>\n",
       "      <td>1.0</td>\n",
       "      <td>4</td>\n",
       "      <td>...</td>\n",
       "      <td>0.0</td>\n",
       "      <td>MALE</td>\n",
       "      <td>34.485796</td>\n",
       "      <td>60.867650</td>\n",
       "      <td>4.646554</td>\n",
       "      <td>1761</td>\n",
       "      <td>NO INJURY_OUTCOME</td>\n",
       "      <td>71.570139</td>\n",
       "      <td>28.429861</td>\n",
       "      <td>3.0</td>\n",
       "    </tr>\n",
       "  </tbody>\n",
       "</table>\n",
       "<p>217290 rows × 92 columns</p>\n",
       "</div>"
      ],
      "text/plain": [
       "       ROAD_CLASS        DATE      TIME  INTERSECTION              CONTOUR  \\\n",
       "0               1    1/1/2019        10             0    STRAIGHT ON-GRADE   \n",
       "1               5    1/1/2019        17             0    STRAIGHT ON-LEVEL   \n",
       "2               5    1/1/2019        21             1    STRAIGHT ON-GRADE   \n",
       "3               5    1/1/2019        24             1    STRAIGHT ON-LEVEL   \n",
       "4               2    1/1/2019        41             0    STRAIGHT ON-GRADE   \n",
       "...           ...         ...       ...           ...                  ...   \n",
       "34579           2  12/31/2021  23:22:00             1        StraightLevel   \n",
       "34580           4  12/31/2021  23:23:00             0      Curve LeftLevel   \n",
       "34581           1  12/31/2021  23:39:00             0  Curve RightDownhill   \n",
       "34582           2  12/31/2021  23:41:00             1        StraightLevel   \n",
       "34583           2  12/31/2021  23:43:00             0       StraightUphill   \n",
       "\n",
       "       SURFACE  LIGHTING  WEATHER  HUMAN_FACTOR  INTOXICATION  ...  \\\n",
       "0            9         4        4           5.0             4  ...   \n",
       "1            6         4        4          11.0             5  ...   \n",
       "2            9         4        8           7.0             1  ...   \n",
       "3            6         4        4          10.0             4  ...   \n",
       "4            9         4        4           2.0             4  ...   \n",
       "...        ...       ...      ...           ...           ...  ...   \n",
       "34579        6         4        4           2.0             4  ...   \n",
       "34580        6         3        4           1.0             4  ...   \n",
       "34581        0         3        4           1.0             4  ...   \n",
       "34582        9         4        4          10.0             4  ...   \n",
       "34583        6         4        4           1.0             4  ...   \n",
       "\n",
       "       Unknown Age     GENDER_DESC     FEMALE       MALE  UNKNOWN_GENDER  \\\n",
       "0              0.0            MALE  32.493064  55.085216       12.421720   \n",
       "1              0.0            MALE  36.039312  53.484029       10.476658   \n",
       "2              0.0            MALE  32.493064  55.085216       12.421720   \n",
       "3              0.0            MALE  32.008340  51.180710       16.810950   \n",
       "4              0.0            MALE  32.493064  55.085216       12.421720   \n",
       "...            ...             ...        ...        ...             ...   \n",
       "34579          0.0            MALE  38.633754  59.701493        1.664753   \n",
       "34580          0.0            MALE  24.074074  74.305556        1.620370   \n",
       "34581          0.0            MALE  38.778878  59.543454        1.677668   \n",
       "34582          0.0  UNKNOWN_GENDER  34.051522  63.981265        1.967213   \n",
       "34583          0.0            MALE  34.485796  60.867650        4.646554   \n",
       "\n",
       "       INJURY_COUNT_SUM         INJURY_DESC  NO INJURY_OUTCOME  \\\n",
       "0                  4307   NO INJURY_OUTCOME          75.219976   \n",
       "1                  3213  YES INJURY_OUTCOME          76.471744   \n",
       "2                  4307  YES INJURY_OUTCOME          75.219976   \n",
       "3                  6233   NO INJURY_OUTCOME          78.819743   \n",
       "4                  4307   NO INJURY_OUTCOME          75.219976   \n",
       "...                 ...                 ...                ...   \n",
       "34579               797   NO INJURY_OUTCOME          66.073479   \n",
       "34580               155   NO INJURY_OUTCOME          74.305556   \n",
       "34581              1356  YES INJURY_OUTCOME          71.644664   \n",
       "34582               908   NO INJURY_OUTCOME          71.100703   \n",
       "34583              1761   NO INJURY_OUTCOME          71.570139   \n",
       "\n",
       "       YES INJURY_OUTCOME  YEAR_CAT  \n",
       "0               24.780024       1.0  \n",
       "1               23.528256       1.0  \n",
       "2               24.780024       1.0  \n",
       "3               21.180257       1.0  \n",
       "4               24.780024       1.0  \n",
       "...                   ...       ...  \n",
       "34579           33.926521       3.0  \n",
       "34580           25.694444       3.0  \n",
       "34581           28.355336       3.0  \n",
       "34582           28.899297       3.0  \n",
       "34583           28.429861       3.0  \n",
       "\n",
       "[217290 rows x 92 columns]"
      ]
     },
     "execution_count": 166,
     "metadata": {},
     "output_type": "execute_result"
    }
   ],
   "source": [
    "p"
   ]
  },
  {
   "cell_type": "code",
   "execution_count": 167,
   "id": "c1123935",
   "metadata": {},
   "outputs": [],
   "source": [
    "colorado_19_20_21 = pd.get_dummies(p,columns=['YEAR'])"
   ]
  },
  {
   "cell_type": "code",
   "execution_count": 168,
   "id": "45dd8827",
   "metadata": {},
   "outputs": [
    {
     "data": {
      "text/html": [
       "<div>\n",
       "<style scoped>\n",
       "    .dataframe tbody tr th:only-of-type {\n",
       "        vertical-align: middle;\n",
       "    }\n",
       "\n",
       "    .dataframe tbody tr th {\n",
       "        vertical-align: top;\n",
       "    }\n",
       "\n",
       "    .dataframe thead th {\n",
       "        text-align: right;\n",
       "    }\n",
       "</style>\n",
       "<table border=\"1\" class=\"dataframe\">\n",
       "  <thead>\n",
       "    <tr style=\"text-align: right;\">\n",
       "      <th></th>\n",
       "      <th>ROAD_CLASS</th>\n",
       "      <th>DATE</th>\n",
       "      <th>TIME</th>\n",
       "      <th>INTERSECTION</th>\n",
       "      <th>CONTOUR</th>\n",
       "      <th>SURFACE</th>\n",
       "      <th>LIGHTING</th>\n",
       "      <th>WEATHER</th>\n",
       "      <th>HUMAN_FACTOR</th>\n",
       "      <th>INTOXICATION</th>\n",
       "      <th>...</th>\n",
       "      <th>MALE</th>\n",
       "      <th>UNKNOWN_GENDER</th>\n",
       "      <th>INJURY_COUNT_SUM</th>\n",
       "      <th>INJURY_DESC</th>\n",
       "      <th>NO INJURY_OUTCOME</th>\n",
       "      <th>YES INJURY_OUTCOME</th>\n",
       "      <th>YEAR_CAT</th>\n",
       "      <th>YEAR_2019</th>\n",
       "      <th>YEAR_2020</th>\n",
       "      <th>YEAR_2021</th>\n",
       "    </tr>\n",
       "  </thead>\n",
       "  <tbody>\n",
       "    <tr>\n",
       "      <th>0</th>\n",
       "      <td>1</td>\n",
       "      <td>1/1/2019</td>\n",
       "      <td>10</td>\n",
       "      <td>0</td>\n",
       "      <td>STRAIGHT ON-GRADE</td>\n",
       "      <td>9</td>\n",
       "      <td>4</td>\n",
       "      <td>4</td>\n",
       "      <td>5.0</td>\n",
       "      <td>4</td>\n",
       "      <td>...</td>\n",
       "      <td>55.085216</td>\n",
       "      <td>12.421720</td>\n",
       "      <td>4307</td>\n",
       "      <td>NO INJURY_OUTCOME</td>\n",
       "      <td>75.219976</td>\n",
       "      <td>24.780024</td>\n",
       "      <td>1.0</td>\n",
       "      <td>1</td>\n",
       "      <td>0</td>\n",
       "      <td>0</td>\n",
       "    </tr>\n",
       "    <tr>\n",
       "      <th>1</th>\n",
       "      <td>5</td>\n",
       "      <td>1/1/2019</td>\n",
       "      <td>17</td>\n",
       "      <td>0</td>\n",
       "      <td>STRAIGHT ON-LEVEL</td>\n",
       "      <td>6</td>\n",
       "      <td>4</td>\n",
       "      <td>4</td>\n",
       "      <td>11.0</td>\n",
       "      <td>5</td>\n",
       "      <td>...</td>\n",
       "      <td>53.484029</td>\n",
       "      <td>10.476658</td>\n",
       "      <td>3213</td>\n",
       "      <td>YES INJURY_OUTCOME</td>\n",
       "      <td>76.471744</td>\n",
       "      <td>23.528256</td>\n",
       "      <td>1.0</td>\n",
       "      <td>1</td>\n",
       "      <td>0</td>\n",
       "      <td>0</td>\n",
       "    </tr>\n",
       "    <tr>\n",
       "      <th>2</th>\n",
       "      <td>5</td>\n",
       "      <td>1/1/2019</td>\n",
       "      <td>21</td>\n",
       "      <td>1</td>\n",
       "      <td>STRAIGHT ON-GRADE</td>\n",
       "      <td>9</td>\n",
       "      <td>4</td>\n",
       "      <td>8</td>\n",
       "      <td>7.0</td>\n",
       "      <td>1</td>\n",
       "      <td>...</td>\n",
       "      <td>55.085216</td>\n",
       "      <td>12.421720</td>\n",
       "      <td>4307</td>\n",
       "      <td>YES INJURY_OUTCOME</td>\n",
       "      <td>75.219976</td>\n",
       "      <td>24.780024</td>\n",
       "      <td>1.0</td>\n",
       "      <td>1</td>\n",
       "      <td>0</td>\n",
       "      <td>0</td>\n",
       "    </tr>\n",
       "    <tr>\n",
       "      <th>3</th>\n",
       "      <td>5</td>\n",
       "      <td>1/1/2019</td>\n",
       "      <td>24</td>\n",
       "      <td>1</td>\n",
       "      <td>STRAIGHT ON-LEVEL</td>\n",
       "      <td>6</td>\n",
       "      <td>4</td>\n",
       "      <td>4</td>\n",
       "      <td>10.0</td>\n",
       "      <td>4</td>\n",
       "      <td>...</td>\n",
       "      <td>51.180710</td>\n",
       "      <td>16.810950</td>\n",
       "      <td>6233</td>\n",
       "      <td>NO INJURY_OUTCOME</td>\n",
       "      <td>78.819743</td>\n",
       "      <td>21.180257</td>\n",
       "      <td>1.0</td>\n",
       "      <td>1</td>\n",
       "      <td>0</td>\n",
       "      <td>0</td>\n",
       "    </tr>\n",
       "    <tr>\n",
       "      <th>4</th>\n",
       "      <td>2</td>\n",
       "      <td>1/1/2019</td>\n",
       "      <td>41</td>\n",
       "      <td>0</td>\n",
       "      <td>STRAIGHT ON-GRADE</td>\n",
       "      <td>9</td>\n",
       "      <td>4</td>\n",
       "      <td>4</td>\n",
       "      <td>2.0</td>\n",
       "      <td>4</td>\n",
       "      <td>...</td>\n",
       "      <td>55.085216</td>\n",
       "      <td>12.421720</td>\n",
       "      <td>4307</td>\n",
       "      <td>NO INJURY_OUTCOME</td>\n",
       "      <td>75.219976</td>\n",
       "      <td>24.780024</td>\n",
       "      <td>1.0</td>\n",
       "      <td>1</td>\n",
       "      <td>0</td>\n",
       "      <td>0</td>\n",
       "    </tr>\n",
       "    <tr>\n",
       "      <th>...</th>\n",
       "      <td>...</td>\n",
       "      <td>...</td>\n",
       "      <td>...</td>\n",
       "      <td>...</td>\n",
       "      <td>...</td>\n",
       "      <td>...</td>\n",
       "      <td>...</td>\n",
       "      <td>...</td>\n",
       "      <td>...</td>\n",
       "      <td>...</td>\n",
       "      <td>...</td>\n",
       "      <td>...</td>\n",
       "      <td>...</td>\n",
       "      <td>...</td>\n",
       "      <td>...</td>\n",
       "      <td>...</td>\n",
       "      <td>...</td>\n",
       "      <td>...</td>\n",
       "      <td>...</td>\n",
       "      <td>...</td>\n",
       "      <td>...</td>\n",
       "    </tr>\n",
       "    <tr>\n",
       "      <th>34579</th>\n",
       "      <td>2</td>\n",
       "      <td>12/31/2021</td>\n",
       "      <td>23:22:00</td>\n",
       "      <td>1</td>\n",
       "      <td>StraightLevel</td>\n",
       "      <td>6</td>\n",
       "      <td>4</td>\n",
       "      <td>4</td>\n",
       "      <td>2.0</td>\n",
       "      <td>4</td>\n",
       "      <td>...</td>\n",
       "      <td>59.701493</td>\n",
       "      <td>1.664753</td>\n",
       "      <td>797</td>\n",
       "      <td>NO INJURY_OUTCOME</td>\n",
       "      <td>66.073479</td>\n",
       "      <td>33.926521</td>\n",
       "      <td>3.0</td>\n",
       "      <td>0</td>\n",
       "      <td>0</td>\n",
       "      <td>1</td>\n",
       "    </tr>\n",
       "    <tr>\n",
       "      <th>34580</th>\n",
       "      <td>4</td>\n",
       "      <td>12/31/2021</td>\n",
       "      <td>23:23:00</td>\n",
       "      <td>0</td>\n",
       "      <td>Curve LeftLevel</td>\n",
       "      <td>6</td>\n",
       "      <td>3</td>\n",
       "      <td>4</td>\n",
       "      <td>1.0</td>\n",
       "      <td>4</td>\n",
       "      <td>...</td>\n",
       "      <td>74.305556</td>\n",
       "      <td>1.620370</td>\n",
       "      <td>155</td>\n",
       "      <td>NO INJURY_OUTCOME</td>\n",
       "      <td>74.305556</td>\n",
       "      <td>25.694444</td>\n",
       "      <td>3.0</td>\n",
       "      <td>0</td>\n",
       "      <td>0</td>\n",
       "      <td>1</td>\n",
       "    </tr>\n",
       "    <tr>\n",
       "      <th>34581</th>\n",
       "      <td>1</td>\n",
       "      <td>12/31/2021</td>\n",
       "      <td>23:39:00</td>\n",
       "      <td>0</td>\n",
       "      <td>Curve RightDownhill</td>\n",
       "      <td>0</td>\n",
       "      <td>3</td>\n",
       "      <td>4</td>\n",
       "      <td>1.0</td>\n",
       "      <td>4</td>\n",
       "      <td>...</td>\n",
       "      <td>59.543454</td>\n",
       "      <td>1.677668</td>\n",
       "      <td>1356</td>\n",
       "      <td>YES INJURY_OUTCOME</td>\n",
       "      <td>71.644664</td>\n",
       "      <td>28.355336</td>\n",
       "      <td>3.0</td>\n",
       "      <td>0</td>\n",
       "      <td>0</td>\n",
       "      <td>1</td>\n",
       "    </tr>\n",
       "    <tr>\n",
       "      <th>34582</th>\n",
       "      <td>2</td>\n",
       "      <td>12/31/2021</td>\n",
       "      <td>23:41:00</td>\n",
       "      <td>1</td>\n",
       "      <td>StraightLevel</td>\n",
       "      <td>9</td>\n",
       "      <td>4</td>\n",
       "      <td>4</td>\n",
       "      <td>10.0</td>\n",
       "      <td>4</td>\n",
       "      <td>...</td>\n",
       "      <td>63.981265</td>\n",
       "      <td>1.967213</td>\n",
       "      <td>908</td>\n",
       "      <td>NO INJURY_OUTCOME</td>\n",
       "      <td>71.100703</td>\n",
       "      <td>28.899297</td>\n",
       "      <td>3.0</td>\n",
       "      <td>0</td>\n",
       "      <td>0</td>\n",
       "      <td>1</td>\n",
       "    </tr>\n",
       "    <tr>\n",
       "      <th>34583</th>\n",
       "      <td>2</td>\n",
       "      <td>12/31/2021</td>\n",
       "      <td>23:43:00</td>\n",
       "      <td>0</td>\n",
       "      <td>StraightUphill</td>\n",
       "      <td>6</td>\n",
       "      <td>4</td>\n",
       "      <td>4</td>\n",
       "      <td>1.0</td>\n",
       "      <td>4</td>\n",
       "      <td>...</td>\n",
       "      <td>60.867650</td>\n",
       "      <td>4.646554</td>\n",
       "      <td>1761</td>\n",
       "      <td>NO INJURY_OUTCOME</td>\n",
       "      <td>71.570139</td>\n",
       "      <td>28.429861</td>\n",
       "      <td>3.0</td>\n",
       "      <td>0</td>\n",
       "      <td>0</td>\n",
       "      <td>1</td>\n",
       "    </tr>\n",
       "  </tbody>\n",
       "</table>\n",
       "<p>217290 rows × 94 columns</p>\n",
       "</div>"
      ],
      "text/plain": [
       "       ROAD_CLASS        DATE      TIME  INTERSECTION              CONTOUR  \\\n",
       "0               1    1/1/2019        10             0    STRAIGHT ON-GRADE   \n",
       "1               5    1/1/2019        17             0    STRAIGHT ON-LEVEL   \n",
       "2               5    1/1/2019        21             1    STRAIGHT ON-GRADE   \n",
       "3               5    1/1/2019        24             1    STRAIGHT ON-LEVEL   \n",
       "4               2    1/1/2019        41             0    STRAIGHT ON-GRADE   \n",
       "...           ...         ...       ...           ...                  ...   \n",
       "34579           2  12/31/2021  23:22:00             1        StraightLevel   \n",
       "34580           4  12/31/2021  23:23:00             0      Curve LeftLevel   \n",
       "34581           1  12/31/2021  23:39:00             0  Curve RightDownhill   \n",
       "34582           2  12/31/2021  23:41:00             1        StraightLevel   \n",
       "34583           2  12/31/2021  23:43:00             0       StraightUphill   \n",
       "\n",
       "       SURFACE  LIGHTING  WEATHER  HUMAN_FACTOR  INTOXICATION  ...       MALE  \\\n",
       "0            9         4        4           5.0             4  ...  55.085216   \n",
       "1            6         4        4          11.0             5  ...  53.484029   \n",
       "2            9         4        8           7.0             1  ...  55.085216   \n",
       "3            6         4        4          10.0             4  ...  51.180710   \n",
       "4            9         4        4           2.0             4  ...  55.085216   \n",
       "...        ...       ...      ...           ...           ...  ...        ...   \n",
       "34579        6         4        4           2.0             4  ...  59.701493   \n",
       "34580        6         3        4           1.0             4  ...  74.305556   \n",
       "34581        0         3        4           1.0             4  ...  59.543454   \n",
       "34582        9         4        4          10.0             4  ...  63.981265   \n",
       "34583        6         4        4           1.0             4  ...  60.867650   \n",
       "\n",
       "      UNKNOWN_GENDER  INJURY_COUNT_SUM         INJURY_DESC  NO INJURY_OUTCOME  \\\n",
       "0          12.421720              4307   NO INJURY_OUTCOME          75.219976   \n",
       "1          10.476658              3213  YES INJURY_OUTCOME          76.471744   \n",
       "2          12.421720              4307  YES INJURY_OUTCOME          75.219976   \n",
       "3          16.810950              6233   NO INJURY_OUTCOME          78.819743   \n",
       "4          12.421720              4307   NO INJURY_OUTCOME          75.219976   \n",
       "...              ...               ...                 ...                ...   \n",
       "34579       1.664753               797   NO INJURY_OUTCOME          66.073479   \n",
       "34580       1.620370               155   NO INJURY_OUTCOME          74.305556   \n",
       "34581       1.677668              1356  YES INJURY_OUTCOME          71.644664   \n",
       "34582       1.967213               908   NO INJURY_OUTCOME          71.100703   \n",
       "34583       4.646554              1761   NO INJURY_OUTCOME          71.570139   \n",
       "\n",
       "       YES INJURY_OUTCOME  YEAR_CAT  YEAR_2019  YEAR_2020  YEAR_2021  \n",
       "0               24.780024       1.0          1          0          0  \n",
       "1               23.528256       1.0          1          0          0  \n",
       "2               24.780024       1.0          1          0          0  \n",
       "3               21.180257       1.0          1          0          0  \n",
       "4               24.780024       1.0          1          0          0  \n",
       "...                   ...       ...        ...        ...        ...  \n",
       "34579           33.926521       3.0          0          0          1  \n",
       "34580           25.694444       3.0          0          0          1  \n",
       "34581           28.355336       3.0          0          0          1  \n",
       "34582           28.899297       3.0          0          0          1  \n",
       "34583           28.429861       3.0          0          0          1  \n",
       "\n",
       "[217290 rows x 94 columns]"
      ]
     },
     "execution_count": 168,
     "metadata": {},
     "output_type": "execute_result"
    }
   ],
   "source": [
    "colorado_19_20_21"
   ]
  },
  {
   "cell_type": "code",
   "execution_count": 169,
   "id": "f948ec24",
   "metadata": {},
   "outputs": [],
   "source": [
    "colorado_19_20_21.to_csv('colorado_final_merged.csv',index= False)"
   ]
  },
  {
   "cell_type": "code",
   "execution_count": null,
   "id": "7947c097",
   "metadata": {},
   "outputs": [],
   "source": []
  }
 ],
 "metadata": {
  "kernelspec": {
   "display_name": "Python 3 (ipykernel)",
   "language": "python",
   "name": "python3"
  },
  "language_info": {
   "codemirror_mode": {
    "name": "ipython",
    "version": 3
   },
   "file_extension": ".py",
   "mimetype": "text/x-python",
   "name": "python",
   "nbconvert_exporter": "python",
   "pygments_lexer": "ipython3",
   "version": "3.11.4"
  }
 },
 "nbformat": 4,
 "nbformat_minor": 5
}
